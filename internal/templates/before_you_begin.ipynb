{
    "cells": [
        {
            "attachments": {},
            "cell_type": "markdown",
            "metadata": {
                "id": "CAQPDHbf9J-o"
            },
            "source": [
                "## Before you begin\n",
                "\n",
                "To use the ValidMind Developer Framework with a Jupyter notebook, you need to install and initialize the client library first, along with getting your Python environment ready.\n",
                "\n",
                "If you don't already have one, you should also [create a documentation project](https://docs.validmind.ai/guide/create-your-first-documentation-project.html) on the ValidMind platform. You will use this project to upload your documentation and test results."
            ]
        },
        {
            "attachments": {},
            "cell_type": "markdown",
            "metadata": {
                "id": "nK4I5iddCjjN"
            },
            "source": [
                "## Install the client library"
            ]
        },
        {
            "cell_type": "code",
            "execution_count": null,
            "metadata": {},
            "outputs": [],
            "source": [
                "%pip install --upgrade validmind"
            ]
        },
        {
            "attachments": {},
            "cell_type": "markdown",
            "metadata": {},
            "source": [
                "## Initialize the client library\n",
                "\n",
                "In a browser, go to the **Client Integration** page of your documentation project and click **Copy to clipboard** next to the code snippet. This code snippet gives you the API key, API secret, and project identifier to link your notebook to your documentation project.\n",
                "\n",
                "::: {.column-margin}\n",
                "::: {.callout-tip}\n",
                "This step requires a documentation project. [Learn how you can create one](https://docs.validmind.ai/guide/create-your-first-documentation-project.html).\n",
                ":::\n",
                ":::\n",
                "\n",
                "Next, replace this placeholder with your own code snippet:"
            ]
        },
        {
            "cell_type": "code",
            "execution_count": null,
            "metadata": {},
            "outputs": [],
            "source": [
                "## Replace with code snippet from your documentation project ##\n",
                "\n",
                "import validmind as vm\n",
                "\n",
                "vm.init(\n",
                "    api_host=\"https://api.prod.validmind.ai/api/v1/tracking\",\n",
                "    api_key=\"xxxxxxxxxxxxxxxxxxxxxxxxxxxxxxxx\",\n",
                "    api_secret=\"API_SECRET\",\n",
                "    project=\"xxxxxxxxxxxxxxxxxxxxxxxxx\"\n",
                ")"
            ]
        }
    ],
    "metadata": {
        "colab": {
            "provenance": []
        },
        "kernelspec": {
            "display_name": "Python 3",
            "language": "python",
            "name": "python3"
        },
        "language_info": {
            "codemirror_mode": {
                "name": "ipython",
                "version": 3
            },
            "file_extension": ".py",
            "mimetype": "text/x-python",
            "name": "python",
            "nbconvert_exporter": "python",
            "pygments_lexer": "ipython3",
            "version": "3.9.7"
        }
    },
    "nbformat": 4,
    "nbformat_minor": 0
}