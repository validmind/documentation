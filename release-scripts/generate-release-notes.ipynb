{
 "cells": [
  {
   "cell_type": "markdown",
   "metadata": {},
   "source": [
    "# Generate release notes"
   ]
  },
  {
   "cell_type": "markdown",
   "metadata": {},
   "source": [
    "This notebook guides you through the process of creating release notes. Using `generate_release_objects.py` and the OpenAI API, we are able to automate the release notes authoring process. \n",
    "\n",
    "This notebook grabs all the release notes information from GitHub when you provide a release URL. It then does some processing to sort by labels and then put everything together. Then, we put it through OpenAI to do some editing. It still needs human editing, which you can do after you run this notebook.\n",
    "\n",
    "After running the notebook, you'll see new generated release notes added to our Quarto docs site that you can preview and edit further. It will be under `~/site/releases`.\n",
    "\n",
    "Please have your release URLs ready to use this notebook. You will paste them into the prompt once you run it."
   ]
  },
  {
   "cell_type": "markdown",
   "metadata": {},
   "source": [
    "## Contents<a id='toc0_'></a>    \n",
    "- [Prerequisites](#toc1_)    \n",
    "- [Setup](#toc2_)    \n",
    "  - [Import necessary libraries](#toc2_1_)    \n",
    "  - [Set up OpenAI API](#toc2_2_)    \n",
    "  - [Set labels](#toc2_3_)    \n",
    "  - [Collect GitHub URLs](#toc2_4_)    \n",
    "  - [Set the release date](#toc2_5_)    \n",
    "- [Extract PR information](#toc3_)    \n",
    "  - [Create release folder](#toc3_1_)    \n",
    "  - [Start writing to release notes file](#toc3_2_)    \n",
    "  - [Set up release notes components](#toc3_3_)    \n",
    "  - [Set the repository and tag name](#toc3_4_)    \n",
    "  - [Extract PRs from each URL](#toc3_5_)    \n",
    "  - [Load PR data](#toc3_6_)    \n",
    "- [Edit release notes](#toc4_)    \n",
    "  - [Edit the release notes body](#toc4_1_)    \n",
    "  - [Load Git diff - DELETE!!!](#toc4_2_)    \n",
    "  - [Use OpenAI API to interpret the Git Diff - DELETE!!!](#toc4_3_)    \n",
    "  - [Compare outputs - DELETE!!!!](#toc4_4_)    \n",
    "  - [Edit each title](#toc4_5_)    \n",
    "  - [Set labels for each PR](#toc4_6_)    \n",
    "  - [Assign PR details to PR](#toc4_7_)    \n",
    "  - [Combine all PR data into the same release notes components](#toc4_8_)    \n",
    "- [Add release notes to docsite and preview](#toc5_)    \n",
    "  - [Write release notes to file](#toc5_1_)    \n",
    "  - [Update sidebar](#toc5_2_)    \n",
    "  - [Show files to commit](#toc5_3_)    \n",
    "  - [Preview and edit changes](#toc5_4_)    \n",
    "- [Next steps](#toc6_)    \n",
    "\n",
    "<!-- vscode-jupyter-toc-config\n",
    "\tnumbering=false\n",
    "\tanchor=true\n",
    "\tflat=false\n",
    "\tminLevel=2\n",
    "\tmaxLevel=4\n",
    "\t/vscode-jupyter-toc-config -->\n",
    "<!-- THIS CELL WILL BE REPLACED ON TOC UPDATE. DO NOT WRITE YOUR TEXT IN THIS CELL -->"
   ]
  },
  {
   "cell_type": "markdown",
   "metadata": {},
   "source": [
    "## <a id='toc1_'></a>Prerequisites [](#toc0_)\n",
    "You should be on a separate branch associated to the story for the release notes. See [our release notes guide](https://www.notion.so/validmind/On-release-notes-20de4e7ea03f402587514f6c9eda3bb1) for the steps needed before running this notebook."
   ]
  },
  {
   "cell_type": "markdown",
   "metadata": {},
   "source": [
    "## <a id='toc2_'></a>Setup [](#toc0_)"
   ]
  },
  {
   "cell_type": "markdown",
   "metadata": {},
   "source": [
    "### <a id='toc2_1_'></a>Import necessary libraries [](#toc0_)\n",
    "\n",
    "This cell imports any dependencies and some functions from `generate_release_objects.py`."
   ]
  },
  {
   "cell_type": "code",
   "execution_count": 1,
   "metadata": {},
   "outputs": [],
   "source": [
    "import requests\n",
    "import subprocess\n",
    "import json\n",
    "import re\n",
    "import shutil\n",
    "import numpy as np\n",
    "import datetime\n",
    "import openai\n",
    "from dotenv import load_dotenv\n",
    "import os\n",
    "\n",
    "from generate_release_objects import ReleaseURL, PR\n",
    "from generate_release_objects import get_release_date, write_prs_to_file, collect_github_urls"
   ]
  },
  {
   "cell_type": "markdown",
   "metadata": {},
   "source": [
    "### <a id='toc2_2_'></a>Set up OpenAI API [](#toc0_)\n",
    "\n",
    "Running this cell grabs your OpenAI API secret key from your `.env` file. If the relative path to your `.env` file is not `../.env`, change it to your relative path."
   ]
  },
  {
   "cell_type": "code",
   "execution_count": 2,
   "metadata": {},
   "outputs": [],
   "source": [
    "def setup_openai_api():\n",
    "    \"\"\"Loads .env file and updates the OpenAI API key. \n",
    "    \n",
    "    Replace '../.env' with the relative path to your .env file.\n",
    "\n",
    "    Modifies:\n",
    "        openai.api_key\n",
    "    \"\"\"\n",
    "    # Load environment variables\n",
    "    load_dotenv('../.env') # replace to match your correct path\n",
    "\n",
    "    # Get the OpenAI API key\n",
    "    api_key = os.getenv('OPENAI_API_KEY')\n",
    "    if not api_key:\n",
    "        raise EnvironmentError(\"OpenAI API key is not set in .env file.\")\n",
    "\n",
    "    # Set the API key for the OpenAI library\n",
    "    openai.api_key = api_key\n",
    "\n",
    "setup_openai_api()"
   ]
  },
  {
   "cell_type": "markdown",
   "metadata": {},
   "source": [
    "### <a id='toc2_3_'></a>Set labels [](#toc0_)\n",
    "\n",
    "This cell creates the main sections of the release notes. `label_hierarchy` shows the order in which updates will be shown."
   ]
  },
  {
   "cell_type": "code",
   "execution_count": 3,
   "metadata": {},
   "outputs": [],
   "source": [
    "\n",
    "label_to_category = {\n",
    "    \"highlight\": \"## Release highlights\",\n",
    "    \"enhancement\": \"## Enhancements\",\n",
    "    \"deprecation\": \"## Deprecations\",\n",
    "    \"bug\": \"## Bug fixes\",\n",
    "    \"documentation\": \"## Documentation\"\n",
    "}\n",
    "\n",
    "categories = { \n",
    "    \"highlight\": [],\n",
    "    \"enhancement\": [],\n",
    "    \"deprecation\": [],\n",
    "    \"bug\": [],\n",
    "    \"documentation\": []\n",
    "}\n",
    "\n",
    "label_hierarchy = [\"highlight\", \"deprecation\", \"bug\", \"enhancement\", \"documentation\"]"
   ]
  },
  {
   "cell_type": "markdown",
   "metadata": {},
   "source": [
    "### <a id='toc2_4_'></a>Collect GitHub URLs [](#toc0_)\n",
    "\n",
    "Running this cell will prompt you to enter your GitHub release URLs. Keep pasting them in until you're done, then press enter again.\n",
    "\n",
    "Example release URL: https://github.com/validmind/documentation/releases/tag/v2.4.4"
   ]
  },
  {
   "cell_type": "code",
   "execution_count": 4,
   "metadata": {},
   "outputs": [
    {
     "name": "stdout",
     "output_type": "stream",
     "text": [
      "https://github.com/validmind/developer-framework/releases/tag/v2.4.10 added.\n",
      "\n",
      "https://github.com/validmind/documentation/releases/tag/v2.4.10 added.\n",
      "\n",
      "https://github.com/validmind/frontend/releases/tag/v1.22.12 added.\n",
      "\n"
     ]
    }
   ],
   "source": [
    "\n",
    "github_urls = collect_github_urls() # the only big global variable\n",
    "\n",
    "# TODO: print urls or tag/repo name in output as you're going"
   ]
  },
  {
   "cell_type": "markdown",
   "metadata": {},
   "source": [
    "### <a id='toc2_5_'></a>Set the release date [](#toc0_)\n",
    "Running this cell will prompt you to enter the desired release date. \n",
    "The default is 3 business days from today if you leave the prompt empty."
   ]
  },
  {
   "cell_type": "code",
   "execution_count": 5,
   "metadata": {},
   "outputs": [
    {
     "name": "stdout",
     "output_type": "stream",
     "text": [
      "Release date: 2024-08-13 00:00:00\n",
      "\n"
     ]
    }
   ],
   "source": [
    "\n",
    "release_datetime = get_release_date()\n",
    "formatted_release_date = release_datetime.strftime(\"%Y-%b-%d\").lower()\n",
    "original_release_date = release_datetime.strftime(\"%B %-d, %Y\")"
   ]
  },
  {
   "cell_type": "markdown",
   "metadata": {},
   "source": [
    "## <a id='toc3_'></a>Extract PR information [](#toc0_)"
   ]
  },
  {
   "cell_type": "markdown",
   "metadata": {},
   "source": [
    "### <a id='toc3_1_'></a>Create release folder [](#toc0_)\n",
    "\n",
    "These lines will create a folder inside of `~/site/releases` for the release notes. The folder name is the release date, as per our convention."
   ]
  },
  {
   "cell_type": "code",
   "execution_count": 6,
   "metadata": {},
   "outputs": [
    {
     "name": "stdout",
     "output_type": "stream",
     "text": [
      "release-notes.qmd in ../site/releases/2024-aug-13/ created.\n"
     ]
    }
   ],
   "source": [
    "\n",
    "directory_path = f\"../site/releases/{formatted_release_date}/\"\n",
    "os.makedirs(directory_path, exist_ok=True)\n",
    "output_file = f\"{directory_path}release-notes.qmd\"\n",
    "print(f\"release-notes.qmd in {directory_path} created.\")"
   ]
  },
  {
   "cell_type": "markdown",
   "metadata": {},
   "source": [
    "### <a id='toc3_2_'></a>Start writing to release notes file [](#toc0_)\n",
    "This block writes the title of the release notes into the final release notes file."
   ]
  },
  {
   "cell_type": "code",
   "execution_count": 7,
   "metadata": {},
   "outputs": [
    {
     "name": "stdout",
     "output_type": "stream",
     "text": [
      "Generating & editing release notes ...\n"
     ]
    }
   ],
   "source": [
    "\n",
    "print(\"Generating & editing release notes ...\")\n",
    "\n",
    "with open(output_file, \"w\") as file:\n",
    "    file.write(f\"---\\ntitle: \\\"{original_release_date}\\\"\\n---\\n\\n\")\n"
   ]
  },
  {
   "cell_type": "markdown",
   "metadata": {},
   "source": [
    "### <a id='toc3_3_'></a>Set up release notes components [](#toc0_)\n",
    "`release_components` will contain all the components of the release notes in the form of a dictionary. Later, we will merge everything together to create the release notes."
   ]
  },
  {
   "cell_type": "code",
   "execution_count": 8,
   "metadata": {},
   "outputs": [
    {
     "name": "stdout",
     "output_type": "stream",
     "text": [
      "release components so far: {'highlight': [], 'enhancement': [], 'deprecation': [], 'bug': [], 'documentation': []}\n"
     ]
    }
   ],
   "source": [
    "release_components = dict()\n",
    "release_components.update(categories)\n",
    "print(f\"release components so far: {release_components}\")"
   ]
  },
  {
   "cell_type": "markdown",
   "metadata": {},
   "source": [
    "### <a id='toc3_4_'></a>Set the repository and tag name [](#toc0_)\n",
    "This block checks every URL and assigns its repo name, such as `documentation` or `backend`, and its tag name."
   ]
  },
  {
   "cell_type": "code",
   "execution_count": 9,
   "metadata": {},
   "outputs": [
    {
     "name": "stdout",
     "output_type": "stream",
     "text": [
      "URL: https://github.com/validmind/developer-framework/releases/tag/v2.4.10\n",
      " Repo name: validmind/developer-framework\n",
      " Tage name: v2.4.10\n",
      "\n",
      "URL: https://github.com/validmind/documentation/releases/tag/v2.4.10\n",
      " Repo name: validmind/documentation\n",
      " Tage name: v2.4.10\n",
      "\n",
      "URL: https://github.com/validmind/frontend/releases/tag/v1.22.12\n",
      " Repo name: validmind/frontend\n",
      " Tage name: v1.22.12\n",
      "\n"
     ]
    }
   ],
   "source": [
    "for url in github_urls:\n",
    "    url.set_repo_and_tag_name() "
   ]
  },
  {
   "cell_type": "markdown",
   "metadata": {},
   "source": [
    "### <a id='toc3_5_'></a>Extract PRs from each URL [](#toc0_)\n",
    "This block gathers all the pull requests from each release URL and stores them within the URL's object data."
   ]
  },
  {
   "cell_type": "code",
   "execution_count": 10,
   "metadata": {},
   "outputs": [
    {
     "name": "stdout",
     "output_type": "stream",
     "text": [
      "Extracting PRs from https://github.com/validmind/developer-framework/releases/tag/v2.4.10...\n",
      "\n",
      "PR #141 added.\n",
      "\n",
      "PR #143 added.\n",
      "\n",
      "PR #146 added.\n",
      "\n",
      "PR #148 added.\n",
      "\n",
      "PR #149 added.\n",
      "\n",
      "PR #152 added.\n",
      "\n",
      "PR #140 added.\n",
      "\n",
      "PR #144 added.\n",
      "\n",
      "PR #151 added.\n",
      "\n",
      "Extracting PRs from https://github.com/validmind/documentation/releases/tag/v2.4.10...\n",
      "\n",
      "PR #253 added.\n",
      "\n",
      "PR #251 added.\n",
      "\n",
      "PR #257 added.\n",
      "\n",
      "PR #260 added.\n",
      "\n",
      "PR #259 added.\n",
      "\n",
      "PR #262 added.\n",
      "\n",
      "PR #264 added.\n",
      "\n",
      "PR #265 added.\n",
      "\n",
      "PR #263 added.\n",
      "\n",
      "PR #261 added.\n",
      "\n",
      "Extracting PRs from https://github.com/validmind/frontend/releases/tag/v1.22.12...\n",
      "\n",
      "PR #812 added.\n",
      "\n",
      "PR #821 added.\n",
      "\n",
      "PR #822 added.\n",
      "\n",
      "PR #827 added.\n",
      "\n",
      "PR #828 added.\n",
      "\n",
      "PR #850 added.\n",
      "\n",
      "PR #861 added.\n",
      "\n",
      "PR #862 added.\n",
      "\n",
      "PR #864 added.\n",
      "\n",
      "PR #866 added.\n",
      "\n",
      "PR #868 added.\n",
      "\n",
      "PR #869 added.\n",
      "\n",
      "PR #878 added.\n",
      "\n",
      "PR #879 added.\n",
      "\n",
      "PR #883 added.\n",
      "\n",
      "PR #884 added.\n",
      "\n",
      "PR #835 added.\n",
      "\n",
      "PR #839 added.\n",
      "\n",
      "PR #840 added.\n",
      "\n",
      "PR #860 added.\n",
      "\n",
      "PR #863 added.\n",
      "\n",
      "PR #867 added.\n",
      "\n",
      "PR #875 added.\n",
      "\n",
      "PR #876 added.\n",
      "\n",
      "PR #880 added.\n",
      "\n",
      "PR #881 added.\n",
      "\n",
      "PR #882 added.\n",
      "\n",
      "PR #885 added.\n",
      "\n",
      "PR #853 added.\n",
      "\n",
      "PR #829 added.\n",
      "\n",
      "PR #874 added.\n",
      "\n",
      "PR #865 added.\n",
      "\n"
     ]
    }
   ],
   "source": [
    "for url in github_urls:\n",
    "    url.extract_prs() # initializes PR objects into a list for each URL"
   ]
  },
  {
   "cell_type": "markdown",
   "metadata": {},
   "source": [
    "### <a id='toc3_6_'></a>Load PR data [](#toc0_)\n",
    "\n",
    "Using the JSON data from the PRs, this block extracts and stores information into each PR's object data."
   ]
  },
  {
   "cell_type": "code",
   "execution_count": 11,
   "metadata": {},
   "outputs": [
    {
     "name": "stdout",
     "output_type": "stream",
     "text": [
      "Extracting data from PR #141 in validmind/developer-framework...\n",
      "\n",
      "Extracting data from PR #143 in validmind/developer-framework...\n",
      "\n",
      "Extracting data from PR #146 in validmind/developer-framework...\n",
      "\n",
      "Extracting data from PR #148 in validmind/developer-framework...\n",
      "\n",
      "Extracting data from PR #149 in validmind/developer-framework...\n",
      "\n",
      "Extracting data from PR #152 in validmind/developer-framework...\n",
      "\n",
      "Extracting data from PR #140 in validmind/developer-framework...\n",
      "\n",
      "Extracting data from PR #144 in validmind/developer-framework...\n",
      "\n",
      "Extracting data from PR #151 in validmind/developer-framework...\n",
      "\n",
      "Extracting data from PR #253 in validmind/documentation...\n",
      "\n",
      "Extracting data from PR #251 in validmind/documentation...\n",
      "\n",
      "Extracting data from PR #257 in validmind/documentation...\n",
      "\n",
      "Extracting data from PR #260 in validmind/documentation...\n",
      "\n",
      "Extracting data from PR #259 in validmind/documentation...\n",
      "\n",
      "Extracting data from PR #262 in validmind/documentation...\n",
      "\n",
      "Extracting data from PR #264 in validmind/documentation...\n",
      "\n",
      "Extracting data from PR #265 in validmind/documentation...\n",
      "\n",
      "Extracting data from PR #263 in validmind/documentation...\n",
      "\n",
      "Extracting data from PR #261 in validmind/documentation...\n",
      "\n",
      "Extracting data from PR #812 in validmind/frontend...\n",
      "\n",
      "Extracting data from PR #821 in validmind/frontend...\n",
      "\n",
      "Extracting data from PR #822 in validmind/frontend...\n",
      "\n",
      "Extracting data from PR #827 in validmind/frontend...\n",
      "\n",
      "Extracting data from PR #828 in validmind/frontend...\n",
      "\n",
      "Extracting data from PR #850 in validmind/frontend...\n",
      "\n",
      "Extracting data from PR #861 in validmind/frontend...\n",
      "\n",
      "Extracting data from PR #862 in validmind/frontend...\n",
      "\n",
      "Extracting data from PR #864 in validmind/frontend...\n",
      "\n",
      "Extracting data from PR #866 in validmind/frontend...\n",
      "\n",
      "Extracting data from PR #868 in validmind/frontend...\n",
      "\n",
      "Extracting data from PR #869 in validmind/frontend...\n",
      "\n",
      "Extracting data from PR #878 in validmind/frontend...\n",
      "\n",
      "Extracting data from PR #879 in validmind/frontend...\n",
      "\n",
      "Extracting data from PR #883 in validmind/frontend...\n",
      "\n",
      "Extracting data from PR #884 in validmind/frontend...\n",
      "\n",
      "Extracting data from PR #835 in validmind/frontend...\n",
      "\n",
      "Extracting data from PR #839 in validmind/frontend...\n",
      "\n",
      "Extracting data from PR #840 in validmind/frontend...\n",
      "\n",
      "Extracting data from PR #860 in validmind/frontend...\n",
      "\n",
      "Extracting data from PR #863 in validmind/frontend...\n",
      "\n",
      "Extracting data from PR #867 in validmind/frontend...\n",
      "\n",
      "Extracting data from PR #875 in validmind/frontend...\n",
      "\n",
      "Extracting data from PR #876 in validmind/frontend...\n",
      "\n",
      "Extracting data from PR #880 in validmind/frontend...\n",
      "\n",
      "Extracting data from PR #881 in validmind/frontend...\n",
      "\n",
      "Extracting data from PR #882 in validmind/frontend...\n",
      "\n",
      "Extracting data from PR #885 in validmind/frontend...\n",
      "\n",
      "Extracting data from PR #853 in validmind/frontend...\n",
      "\n",
      "Extracting data from PR #829 in validmind/frontend...\n",
      "\n",
      "Extracting data from PR #874 in validmind/frontend...\n",
      "\n",
      "Extracting data from PR #865 in validmind/frontend...\n",
      "\n"
     ]
    }
   ],
   "source": [
    "for url in github_urls:\n",
    "    url.populate_pr_data()"
   ]
  },
  {
   "cell_type": "markdown",
   "metadata": {},
   "source": [
    "## <a id='toc4_'></a>Edit release notes [](#toc0_)"
   ]
  },
  {
   "cell_type": "markdown",
   "metadata": {},
   "source": [
    "### <a id='toc4_1_'></a>Edit the release notes body [](#toc0_)\n",
    "\n",
    "(20s)\n",
    "Using the prompt below, this block feeds the body of each PR to ChatGPT for editing, skipping PRs labeled as `internal`. If you find that the output is not quite right, edit the prompt and play around with it."
   ]
  },
  {
   "cell_type": "code",
   "execution_count": 12,
   "metadata": {},
   "outputs": [
    {
     "name": "stdout",
     "output_type": "stream",
     "text": [
      "Adding PR #140 from validmind/developer-framework to release notes...\n",
      "\n",
      "Adding PR #144 from validmind/developer-framework to release notes...\n",
      "\n",
      "Adding PR #251 from validmind/documentation to release notes...\n",
      "\n",
      "Adding PR #853 from validmind/frontend to release notes...\n",
      "\n",
      "Adding PR #829 from validmind/frontend to release notes...\n",
      "\n",
      "Adding PR #874 from validmind/frontend to release notes...\n",
      "\n",
      "Adding PR #865 from validmind/frontend to release notes...\n",
      "\n"
     ]
    }
   ],
   "source": [
    "editing_instructions_body = \"\"\"\n",
    "    Please edit the provided technical content according to the following guidelines:\n",
    "\n",
    "    - Use simple and neutral language in the active voice.\n",
    "    - Address users directly in the second person with \"you\".\n",
    "    - Use present tense by avoiding the use of \"will\".\n",
    "    - Apply sentence-style capitalization to text\n",
    "    - Always capitalize the first letter of text on each line.\n",
    "    - Rewrite sentences that are longer than 25 words as multiple sentences.\n",
    "    - Only split text across multiple lines if the text contains more than three sentences.\n",
    "    - Avoid handwaving references to \"it\" or \"this\" by including the text referred to. \n",
    "    - Treat short text of less than ten words without a period at the end as a heading. \n",
    "    - Enclose any words joined by underscores in backticks (`) if they aren't already.\n",
    "    - Remove exclamation marks from text.\n",
    "    - Remove quotes around non-code words.\n",
    "    - Remove the text \"feat:\" from the output\n",
    "    - Maintain existing punctuation at the end of sentences.\n",
    "    - Maintain all original hyperlinks for reference.\n",
    "    - Preserve all comments in the format <!--- COMMENT ---> as they appear in the text.\n",
    "    \"\"\"\n",
    "\n",
    "for url in github_urls:\n",
    "    for pr in url.prs:\n",
    "        if pr.data_json:\n",
    "            print(f\"Adding PR #{pr.pr_number} from {pr.repo_name} to release notes...\\n\") \n",
    "            if pr.extract_external_release_notes(): pr.edit_text_with_openai(False, editing_instructions_body)\n"
   ]
  },
  {
   "cell_type": "markdown",
   "metadata": {},
   "source": [
    "### <a id='toc4_2_'></a>Load Git diff - DELETE!!! [](#toc0_)\n",
    "\n",
    "Here, we will load the differences between the code for each PR, to be interpreted by ChatGPT later."
   ]
  },
  {
   "cell_type": "code",
   "execution_count": null,
   "metadata": {},
   "outputs": [],
   "source": [
    "for url in github_urls:\n",
    "    for pr in url.prs:\n",
    "        if pr.data_json: \n",
    "            pr.load_git_diff()          "
   ]
  },
  {
   "cell_type": "markdown",
   "metadata": {},
   "source": [
    "### <a id='toc4_3_'></a>Use OpenAI API to interpret the Git Diff - DELETE!!! [](#toc0_)\n",
    "Now, we'll have ChatGPT explain the code differences for each PR. \n",
    "\n",
    "If we like this version better, we can toggle the release notes to use this instead of the text generated from above."
   ]
  },
  {
   "cell_type": "code",
   "execution_count": null,
   "metadata": {},
   "outputs": [],
   "source": [
    "code_explain_instructions = \"\"\"\n",
    "I have the following git diff output from a pull request. \n",
    "Can you explain the changes in a way that is suitable for inclusion in release notes?\n",
    "The explanation should summarize what was modified, added, or removed, and the purpose of these changes.\n",
    "\"\"\"\n",
    "\n",
    "for url in github_urls:\n",
    "    # for pr in url.prs:\n",
    "    pr = url.prs[7]\n",
    "    if pr.data_json and pr.git_diff: \n",
    "        print(f\"yay\")\n",
    "        pr.interpret_git_diff(code_explain_instructions)"
   ]
  },
  {
   "cell_type": "code",
   "execution_count": null,
   "metadata": {},
   "outputs": [],
   "source": [
    "print(github_urls[0].prs[7].git_diff) # debugging"
   ]
  },
  {
   "cell_type": "markdown",
   "metadata": {},
   "source": [
    "### <a id='toc4_4_'></a>Compare outputs - DELETE!!!! [](#toc0_)\n",
    "\n",
    "We can take a look at the outputs of each PR and choose which version we like better. "
   ]
  },
  {
   "cell_type": "code",
   "execution_count": null,
   "metadata": {},
   "outputs": [],
   "source": [
    "for url in github_urls:\n",
    "    for pr in url.prs:\n",
    "        if pr.data_json:\n",
    "            print(\"Git diff and code explain:\\n\")\n",
    "            print(pr.explained_diff) \n",
    "            print(\"\\n\")\n",
    "            print(\"Using PR body and OpenAI editing:\\n\")\n",
    "            print(pr.edited_text)\n",
    "            print(\"\\n\")\n",
    "\n",
    "            if input(\"Enter 0 for Git diff, 1 for PR body\") == 0: # should get replaced by ChatGPT prompt that checks for the better one\n",
    "                pr.final_text = pr.explained_diff\n",
    "            else:\n",
    "                pr.final_text = pr.edited_text # default will be the PR body if input is empty as well"
   ]
  },
  {
   "cell_type": "markdown",
   "metadata": {},
   "source": [
    "### <a id='toc4_5_'></a>Edit each title [](#toc0_)\n",
    "This block does the same as above for the titles of each PR. The output below will show:\n",
    "- The original PR title\n",
    "- The title after some algorithmic changes\n",
    "- The title after ChatGPT edits it\n",
    "\n",
    "If you find that it's not good after editing with ChatGPT, feel free to edit the prompt below."
   ]
  },
  {
   "cell_type": "code",
   "execution_count": 13,
   "metadata": {},
   "outputs": [
    {
     "name": "stdout",
     "output_type": "stream",
     "text": [
      "Editing title for PR #140 in validmind/developer-framework...\n",
      "\n",
      " Exclude categorical and binary features from outlier tests\n",
      "Exclude categorical and binary features from outlier tests\n",
      "Exclude categorical and binary features from outlier tests\n",
      "\n",
      "\n",
      "Editing title for PR #144 in validmind/developer-framework...\n",
      "\n",
      "Generalize support for comparison tests\n",
      "Generalize support for comparison tests\n",
      "Generalize support for comparison tests\n",
      "\n",
      "\n",
      "Editing title for PR #251 in validmind/documentation...\n",
      "\n",
      "Add Private Service Connect & rework login info\n",
      "Add Private Service Connect & rework login info\n",
      "Add private service connect and rework login info\n",
      "\n",
      "\n",
      "Editing title for PR #853 in validmind/frontend...\n",
      "\n",
      "Ability to customize dashboard using widgets\n",
      "Ability to customize dashboard using widgets\n",
      "Ability to customize dashboard using widgets\n",
      "\n",
      "\n",
      "Editing title for PR #829 in validmind/frontend...\n",
      "\n",
      "Workflow approval step should allow selecting a user role as \"approval group\"\n",
      "Workflow approval step should allow selecting a user role as \"approval group\"\n",
      "Workflow approval step should allow selecting a user role as `approval_group`\n",
      "\n",
      "\n",
      "Editing title for PR #874 in validmind/frontend...\n",
      "\n",
      "Rod/sc 5517/ability to configure model dependencies\n",
      "Ability to configure model dependencies\n",
      "Ability to configure model dependencies\n",
      "\n",
      "\n",
      "Editing title for PR #865 in validmind/frontend...\n",
      "\n",
      "Added counts to reports\n",
      "Added counts to reports\n",
      "Added counts to reports\n",
      "\n",
      "\n"
     ]
    }
   ],
   "source": [
    "editing_instructions_title = \"\"\"\n",
    "    Please edit the provided technical content according to the following guidelines:\n",
    "\n",
    "    - Use simple and neutral language in the active voice.\n",
    "    - Address users directly in the second person with \"you\".\n",
    "    - Use present tense by avoiding the use of \"will\".\n",
    "    - Apply sentence-style capitalization to text\n",
    "    - Always capitalize the first letter of text on each line.\n",
    "    - Rewrite sentences that are longer than 25 words as multiple sentences.\n",
    "    - Only split text across multiple lines if the text contains more than three sentences.\n",
    "    - Avoid handwaving references to \"it\" or \"this\" by including the text referred to. \n",
    "    - Treat short text of less than ten words without a period at the end as a heading. \n",
    "    - Enclose any words joined by underscores in backticks (`) if they aren't already.\n",
    "    - Remove exclamation marks from text.\n",
    "    - Remove quotes around non-code words.\n",
    "    - Remove the text \"feat:\" from the output\n",
    "    - Maintain existing punctuation at the end of sentences.\n",
    "    - Maintain all original hyperlinks for reference.\n",
    "    - Preserve all comments in the format <!--- COMMENT ---> as they appear in the text.\n",
    "    \"\"\"\n",
    "# TODO: label each print statement\n",
    "\n",
    "for url in github_urls:\n",
    "    for pr in url.prs:\n",
    "        if pr.data_json: \n",
    "            print(f\"Editing title for PR #{pr.pr_number} in {pr.repo_name}...\\n\")\n",
    "            pr.title = pr.data_json['title']\n",
    "            pr.clean_title(editing_instructions_title)\n",
    "            print(\"\\n\")"
   ]
  },
  {
   "cell_type": "markdown",
   "metadata": {},
   "source": [
    "### <a id='toc4_6_'></a>Set labels for each PR [](#toc0_)\n",
    "This block takes the label data from each PR and assigns it to the PR."
   ]
  },
  {
   "cell_type": "code",
   "execution_count": 14,
   "metadata": {},
   "outputs": [
    {
     "name": "stdout",
     "output_type": "stream",
     "text": [
      "PR #140 from validmind/developer-framework: ['bug']\n",
      "\n",
      "PR #144 from validmind/developer-framework: ['enhancement']\n",
      "\n",
      "PR #251 from validmind/documentation: ['enhancement']\n",
      "\n",
      "PR #853 from validmind/frontend: ['enhancement']\n",
      "\n",
      "PR #829 from validmind/frontend: ['enhancement']\n",
      "\n",
      "PR #874 from validmind/frontend: ['enhancement']\n",
      "\n",
      "PR #865 from validmind/frontend: ['enhancement']\n",
      "\n"
     ]
    }
   ],
   "source": [
    "\n",
    "for url in github_urls:\n",
    "    for pr in url.prs:\n",
    "        if pr.data_json: \n",
    "            pr.labels = [label['name'] for label in pr.data_json['labels']]\n",
    "            print(f\"PR #{pr.pr_number} from {pr.repo_name}: {pr.labels}\\n\")"
   ]
  },
  {
   "cell_type": "markdown",
   "metadata": {},
   "source": [
    "### <a id='toc4_7_'></a>Assign PR details to PR [](#toc0_)\n",
    "This block compiles all the data we found earlier for each PR into one place. "
   ]
  },
  {
   "cell_type": "code",
   "execution_count": 15,
   "metadata": {},
   "outputs": [
    {
     "name": "stdout",
     "output_type": "stream",
     "text": [
      "PR #140 from validmind/developer-framework added.\n",
      "\n",
      "PR #144 from validmind/developer-framework added.\n",
      "\n",
      "PR #251 from validmind/documentation added.\n",
      "\n",
      "PR #853 from validmind/frontend added.\n",
      "\n",
      "PR #829 from validmind/frontend added.\n",
      "\n",
      "PR #874 from validmind/frontend added.\n",
      "\n",
      "PR #865 from validmind/frontend added.\n",
      "\n"
     ]
    }
   ],
   "source": [
    "\n",
    "for url in github_urls:\n",
    "    for pr in url.prs:\n",
    "        if pr.data_json: \n",
    "            pr.pr_details = {\n",
    "            'pr_number': pr.pr_number,\n",
    "            'title': pr.cleaned_title,\n",
    "            'full_title': pr.data_json['title'],\n",
    "            'url': pr.data_json['url'],\n",
    "            'labels': \", \".join(pr.labels),\n",
    "            'notes': pr.edited_text\n",
    "            }\n",
    "            print(f\"PR #{pr.pr_number} from {pr.repo_name} added.\\n\")\n"
   ]
  },
  {
   "cell_type": "markdown",
   "metadata": {},
   "source": [
    "### <a id='toc4_8_'></a>Combine all PR data into the same release notes components [](#toc0_)\n",
    "Now, we can take all the details we compiled above and append them to our final release notes components. Since we want to show features in order of importance, we sort by the priority of the label."
   ]
  },
  {
   "cell_type": "code",
   "execution_count": 16,
   "metadata": {},
   "outputs": [
    {
     "name": "stdout",
     "output_type": "stream",
     "text": [
      "Adding PR #140 from validmind/developer-framework...\n",
      "\n",
      "Adding PR #144 from validmind/developer-framework...\n",
      "\n",
      "Adding PR #251 from validmind/documentation...\n",
      "\n",
      "Adding PR #853 from validmind/frontend...\n",
      "\n",
      "Adding PR #829 from validmind/frontend...\n",
      "\n",
      "Adding PR #874 from validmind/frontend...\n",
      "\n",
      "Adding PR #865 from validmind/frontend...\n",
      "\n"
     ]
    }
   ],
   "source": [
    "\n",
    "for url in github_urls:\n",
    "    for pr in url.prs:\n",
    "        if pr.data_json:\n",
    "            print(f\"Adding PR #{pr.pr_number} from {pr.repo_name}...\\n\")\n",
    "            assigned = False \n",
    "            for priority_label in label_hierarchy:\n",
    "                if priority_label in pr.labels:\n",
    "                    release_components[priority_label].append(pr.pr_details)\n",
    "                    assigned = True\n",
    "                    break\n",
    "            if not assigned:\n",
    "                release_components.setdefault('other', []).append(pr.pr_details)"
   ]
  },
  {
   "cell_type": "markdown",
   "metadata": {},
   "source": [
    "## <a id='toc5_'></a>Add release notes to docsite and preview [](#toc0_)"
   ]
  },
  {
   "cell_type": "markdown",
   "metadata": {},
   "source": [
    "### <a id='toc5_1_'></a>Write release notes to file [](#toc0_)\n",
    "Now that `release_components` contains everything we need for the release notes, we can write it to our release notes file."
   ]
  },
  {
   "cell_type": "code",
   "execution_count": 17,
   "metadata": {},
   "outputs": [
    {
     "name": "stdout",
     "output_type": "stream",
     "text": [
      "Release notes added to ../site/releases/2024-aug-13/release-notes.qmd.\n"
     ]
    }
   ],
   "source": [
    "# Write categorized PRs to the file\n",
    "with open(output_file, \"a\") as file:\n",
    "    write_prs_to_file(file, release_components, label_to_category)\n",
    "    print(f\"Release notes added to {file.name}.\")\n"
   ]
  },
  {
   "cell_type": "markdown",
   "metadata": {},
   "source": [
    "### <a id='toc5_2_'></a>Update sidebar [](#toc0_)\n",
    "This block will go into our `_quarto.yml` file and add the new release notes so it shows up on the sidebar of the docsite. "
   ]
  },
  {
   "cell_type": "code",
   "execution_count": 18,
   "metadata": {},
   "outputs": [
    {
     "name": "stdout",
     "output_type": "stream",
     "text": [
      "Added release notes to _quarto.yml, line 106\n"
     ]
    }
   ],
   "source": [
    "\n",
    "def update_quarto_yaml(release_date):\n",
    "    \"\"\"Updates the _quarto.yml file to include the release notes file so it can be accessed on the website.\n",
    "\n",
    "    Params:\n",
    "        release_date - release notes use the release date as the file name.\n",
    "    \n",
    "    Modifies:\n",
    "        _quarto.yml file\n",
    "    \"\"\"\n",
    "    yaml_filename = \"../site/_quarto.yml\"\n",
    "    temp_yaml_filename = \"../site/_quarto_temp.yml\"\n",
    "\n",
    "    # Copy the original YAML file to a temporary file\n",
    "    shutil.copyfile(yaml_filename, temp_yaml_filename)\n",
    "\n",
    "    with open(temp_yaml_filename, 'r') as file:\n",
    "        lines = file.readlines()\n",
    "\n",
    "    # Format the release date for insertion into the YAML file\n",
    "    formatted_release_date = release_date.strftime(\"%Y-%b-%d\").lower()\n",
    "\n",
    "    with open(yaml_filename, 'w') as file:\n",
    "        add_release_content = False\n",
    "        insert_index = -1\n",
    "\n",
    "        for i, line in enumerate(lines):\n",
    "            file.write(line)\n",
    "            if line.strip() == \"# MAKE-RELEASE-NOTES-EMBED-MARKER\":\n",
    "                add_release_content = True\n",
    "                insert_index = i\n",
    "\n",
    "            if add_release_content and i == insert_index:\n",
    "                file.write(f'        - releases/{formatted_release_date}/release-notes.qmd\\n')\n",
    "                add_release_content = False\n",
    "\n",
    "    # Remove the temporary file\n",
    "    os.remove(temp_yaml_filename)\n",
    "    \n",
    "    print(f\"Added release notes to _quarto.yml, line {insert_index + 2}\")\n",
    "\n",
    "update_quarto_yaml(release_datetime)"
   ]
  },
  {
   "cell_type": "markdown",
   "metadata": {},
   "source": [
    "### <a id='toc5_3_'></a>Show files to commit [](#toc0_)"
   ]
  },
  {
   "cell_type": "code",
   "execution_count": 19,
   "metadata": {},
   "outputs": [
    {
     "name": "stdout",
     "output_type": "stream",
     "text": [
      "Files to commit:\n",
      " M __pycache__/generate_release_objects.cpython-311.pyc\n",
      " M generate-release-notes.ipynb\n",
      " M generate_release_objects.py\n",
      " M ../site/_quarto.yml\n",
      " M ../site/_site/about/overview.html\n",
      " M ../site/_site/notebooks.zip\n",
      " M ../site/_site/notebooks/code_samples/NLP_and_LLM/foundation_models_integration_demo.html\n",
      " M ../site/_site/notebooks/code_samples/NLP_and_LLM/foundation_models_summarization_demo.html\n",
      " M ../site/_site/notebooks/code_samples/NLP_and_LLM/hugging_face_integration_demo.html\n",
      " M ../site/_site/notebooks/code_samples/NLP_and_LLM/hugging_face_summarization_demo.html\n",
      " M ../site/_site/notebooks/code_samples/NLP_and_LLM/llm_summarization_demo.html\n",
      " M ../site/_site/notebooks/code_samples/NLP_and_LLM/prompt_validation_demo.html\n",
      " M ../site/_site/notebooks/code_samples/NLP_and_LLM/rag_documentation_demo.html\n",
      " M ../site/_site/notebooks/code_samples/credit_risk/application_scorecard_demo.html\n",
      " M ../site/_site/notebooks/code_samples/custom_tests/implement_custom_tests.html\n",
      " M ../site/_site/notebooks/code_samples/custom_tests/integrate_external_test_providers.html\n",
      " M ../site/_site/notebooks/code_samples/regression/quickstart_regression_full_suite.html\n",
      " M ../site/_site/notebooks/how_to/configure_dataset_features.html\n",
      " M ../site/_site/notebooks/how_to/document_multiple_results_for_the_same_test.html\n",
      " M ../site/_site/notebooks/how_to/explore_test_suites.html\n",
      " M ../site/_site/notebooks/how_to/explore_tests.html\n",
      " M ../site/_site/notebooks/how_to/load_datasets_predictions.html\n",
      " M ../site/_site/notebooks/how_to/run_documentation_sections.html\n",
      " M ../site/_site/notebooks/how_to/run_documentation_tests_with_config.html\n",
      " M ../site/_site/notebooks/how_to/run_tests/1_run_dataset_based_tests.html\n",
      " M ../site/_site/notebooks/how_to/run_tests_that_require_multiple_datasets.html\n",
      " M ../site/_site/notebooks/how_to/run_unit_metrics.html\n",
      " M ../site/_site/notebooks/quickstart_customer_churn_full_suite.html\n",
      " M ../site/_site/notebooks/tutorials/intro_for_model_developers.html\n",
      " M ../site/_site/search.json\n",
      " M ../site/_site/validmind/search.js\n",
      " M ../site/_site/validmind/validmind.html\n",
      " M ../site/_site/validmind/validmind/vm_models.html\n",
      " M ../site/notebooks.zip\n",
      " M ../site/notebooks/README.md\n",
      " M ../site/notebooks/code_samples/credit_risk/application_scorecard_demo.ipynb\n",
      " M ../site/notebooks/code_samples/custom_tests/implement_custom_tests.ipynb\n",
      " M ../site/notebooks/code_samples/custom_tests/integrate_external_test_providers.ipynb\n",
      " M ../site/notebooks/code_samples/nlp_and_llm/datasets/cnn_dailymail_100_with_predictions.csv\n",
      " M ../site/notebooks/code_samples/nlp_and_llm/datasets/cnn_dailymail_500_with_predictions.csv\n",
      " M ../site/notebooks/code_samples/nlp_and_llm/foundation_models_integration_demo.ipynb\n",
      " M ../site/notebooks/code_samples/nlp_and_llm/foundation_models_summarization_demo.ipynb\n",
      " M ../site/notebooks/code_samples/nlp_and_llm/hugging_face_integration_demo.ipynb\n",
      " M ../site/notebooks/code_samples/nlp_and_llm/hugging_face_summarization_demo.ipynb\n",
      " M ../site/notebooks/code_samples/nlp_and_llm/llm_summarization_demo.ipynb\n",
      " M ../site/notebooks/code_samples/nlp_and_llm/prompt_validation_demo.ipynb\n",
      " M ../site/notebooks/code_samples/nlp_and_llm/rag_documentation_demo.ipynb\n",
      " M ../site/notebooks/code_samples/regression/quickstart_regression_full_suite.ipynb\n",
      " M ../site/notebooks/how_to/configure_dataset_features.ipynb\n",
      " M ../site/notebooks/how_to/document_multiple_results_for_the_same_test.ipynb\n",
      " M ../site/notebooks/how_to/explore_test_suites.ipynb\n",
      " M ../site/notebooks/how_to/explore_tests.ipynb\n",
      " M ../site/notebooks/how_to/load_datasets_predictions.ipynb\n",
      " M ../site/notebooks/how_to/run_documentation_sections.ipynb\n",
      " M ../site/notebooks/how_to/run_documentation_tests_with_config.ipynb\n",
      " M ../site/notebooks/how_to/run_tests/1_run_dataset_based_tests.ipynb\n",
      " M ../site/notebooks/how_to/run_tests_that_require_multiple_datasets.ipynb\n",
      " M ../site/notebooks/how_to/run_unit_metrics.ipynb\n",
      " M ../site/notebooks/quickstart_customer_churn_full_suite.ipynb\n",
      " M ../site/notebooks/tutorials/intro_for_model_developers.ipynb\n",
      " M ../site/tests/model_validation/embeddings/StabilityAnalysis.md\n",
      "?? ../site/_site/notebooks/code_samples/customization/customizing_tests_with_output_templates.html\n",
      "?? ../site/_site/notebooks/code_samples/time_series/quickstart_time_series_full_suite.html\n",
      "?? ../site/_site/notebooks/how_to/dataset_image.png\n",
      "?? ../site/_site/notebooks/how_to/filter_input_columns.html\n",
      "?? ../site/_site/notebooks/how_to/model_image.png\n",
      "?? ../site/_site/notebooks/how_to/run_tests/2_run_comparison_tests.html\n",
      "?? ../site/_site/notebooks/how_to/use_dataset_model_objects.html\n",
      "?? ../site/_site/releases/2024-aug-08/\n",
      "?? ../site/_site/releases/2024-aug-09/\n",
      "?? ../site/_site/releases/2024-aug-12/\n",
      "?? ../site/installed_packages.txt\n",
      "?? ../site/notebooks/how_to/filter_input_columns.ipynb\n",
      "?? ../site/releases/2024-aug-13/\n"
     ]
    }
   ],
   "source": [
    "# After completing all tasks, print git status to show output files\n",
    "try:\n",
    "    result = subprocess.run([\"git\", \"status\", \"--short\"], check=True, text=True, capture_output=True)\n",
    "    lines = result.stdout.split('\\n')\n",
    "    print(\"Files to commit:\")\n",
    "    for line in lines:\n",
    "        if line.startswith((' M', '??', 'A ')):\n",
    "            print(line)\n",
    "except subprocess.CalledProcessError as e:\n",
    "    print(\"Failed to run git status:\", e)"
   ]
  },
  {
   "cell_type": "markdown",
   "metadata": {},
   "source": [
    "### <a id='toc5_4_'></a>Preview and edit changes [](#toc0_)\n",
    "Run this cell to preview your changes, and make edits to the release notes file you just generated. See our [internal guide](https://www.notion.so/validmind/On-release-notes-20de4e7ea03f402587514f6c9eda3bb1) on editing release notes."
   ]
  },
  {
   "cell_type": "code",
   "execution_count": null,
   "metadata": {},
   "outputs": [
    {
     "name": "stderr",
     "output_type": "stream",
     "text": [
      "\u001b[1m\u001b[34mPreparing to preview\u001b[39m\u001b[22m\n",
      "[  1/196] releases/2024-aug-13/release-notes.qmd\u001b[39m\u001b[22m\n",
      "[  2/196] tests/prompt_validation/NegativeInstruction.md\u001b[39m\u001b[22m\n",
      "[  3/196] tests/prompt_validation/Robustness.md\u001b[39m\u001b[22m\n",
      "[  4/196] tests/prompt_validation/Delimitation.md\u001b[39m\u001b[22m\n",
      "[  5/196] tests/prompt_validation/Conciseness.md\u001b[39m\u001b[22m\n",
      "[  6/196] tests/prompt_validation/Bias.md\u001b[39m\u001b[22m\n",
      "[  7/196] tests/prompt_validation/Clarity.md\u001b[39m\u001b[22m\n",
      "[  8/196] tests/prompt_validation/Specificity.md\u001b[39m\u001b[22m\n",
      "[  9/196] tests/model_validation/ModelMetadata.md\u001b[39m\u001b[22m\n",
      "[ 10/196] tests/model_validation/embeddings/EuclideanDistanceComparison.md\u001b[39m\u001b[22m\n",
      "[ 11/196] tests/model_validation/embeddings/CosineSimilarityHeatmap.md\u001b[39m\u001b[22m\n",
      "[ 12/196] tests/model_validation/embeddings/StabilityAnalysisTranslation.md\u001b[39m\u001b[22m\n",
      "[ 13/196] tests/model_validation/embeddings/PCAComponentsPairwisePlots.md\u001b[39m\u001b[22m\n",
      "[ 14/196] tests/model_validation/embeddings/StabilityAnalysisKeyword.md\u001b[39m\u001b[22m\n",
      "[ 15/196] tests/model_validation/embeddings/StabilityAnalysis.md\u001b[39m\u001b[22m\n",
      "[ 16/196] tests/model_validation/embeddings/DescriptiveAnalytics.md\u001b[39m\u001b[22m\n",
      "[ 17/196] tests/model_validation/embeddings/StabilityAnalysisSynonyms.md\u001b[39m\u001b[22m\n",
      "[ 18/196] tests/model_validation/embeddings/ClusterDistribution.md\u001b[39m\u001b[22m\n",
      "[ 19/196] tests/model_validation/embeddings/EuclideanDistanceHeatmap.md\u001b[39m\u001b[22m\n",
      "[ 20/196] tests/model_validation/embeddings/TSNEComponentsPairwisePlots.md\u001b[39m\u001b[22m\n",
      "[ 21/196] tests/model_validation/embeddings/EmbeddingsVisualization2D.md\u001b[39m\u001b[22m\n",
      "[ 22/196] tests/model_validation/embeddings/CosineSimilarityComparison.md\u001b[39m\u001b[22m\n",
      "[ 23/196] tests/model_validation/embeddings/StabilityAnalysisRandomNoise.md\u001b[39m\u001b[22m\n",
      "[ 24/196] tests/model_validation/embeddings/CosineSimilarityDistribution.md\u001b[39m\u001b[22m\n",
      "[ 25/196] tests/model_validation/TimeSeriesR2SquareBySegments.md\u001b[39m\u001b[22m\n",
      "[ 26/196] tests/model_validation/ClusterSizeDistribution.md\u001b[39m\u001b[22m\n",
      "[ 27/196] tests/model_validation/ModelMetadataComparison.md\u001b[39m\u001b[22m\n",
      "[ 28/196] tests/model_validation/ToxicityScore.md\u001b[39m\u001b[22m\n",
      "[ 29/196] tests/model_validation/TokenDisparity.md\u001b[39m\u001b[22m\n",
      "[ 30/196] tests/model_validation/ragas/ContextRelevancy.md\u001b[39m\u001b[22m\n",
      "[ 31/196] tests/model_validation/ragas/ContextRecall.md\u001b[39m\u001b[22m\n",
      "[ 32/196] tests/model_validation/ragas/AnswerRelevance.md\u001b[39m\u001b[22m\n",
      "[ 33/196] tests/model_validation/ragas/ContextPrecision.md\u001b[39m\u001b[22m\n",
      "[ 34/196] tests/model_validation/ragas/AspectCritique.md\u001b[39m\u001b[22m\n",
      "[ 35/196] tests/model_validation/ragas/Faithfulness.md\u001b[39m\u001b[22m\n",
      "[ 36/196] tests/model_validation/ragas/ContextEntityRecall.md\u001b[39m\u001b[22m\n",
      "[ 37/196] tests/model_validation/ragas/AnswerCorrectness.md\u001b[39m\u001b[22m\n",
      "[ 38/196] tests/model_validation/ragas/AnswerSimilarity.md\u001b[39m\u001b[22m\n",
      "[ 39/196] tests/model_validation/sklearn/RegressionErrors.md\u001b[39m\u001b[22m\n",
      "[ 40/196] tests/model_validation/sklearn/FeatureImportanceComparison.md\u001b[39m\u001b[22m\n",
      "[ 41/196] tests/model_validation/sklearn/ClusterPerformance.md\u001b[39m\u001b[22m\n",
      "[ 42/196] tests/model_validation/sklearn/RegressionR2Square.md\u001b[39m\u001b[22m\n",
      "[ 43/196] tests/model_validation/sklearn/ROCCurve.md\u001b[39m\u001b[22m\n",
      "[ 44/196] tests/model_validation/sklearn/ModelsPerformanceComparison.md\u001b[39m\u001b[22m\n",
      "[ 45/196] tests/model_validation/sklearn/KMeansClustersOptimization.md\u001b[39m\u001b[22m\n",
      "[ 46/196] tests/model_validation/sklearn/HyperParametersTuning.md\u001b[39m\u001b[22m\n",
      "[ 47/196] tests/model_validation/sklearn/MinimumAccuracy.md\u001b[39m\u001b[22m\n",
      "[ 48/196] tests/model_validation/sklearn/PopulationStabilityIndex.md\u001b[39m\u001b[22m\n",
      "[ 49/196] tests/model_validation/sklearn/RegressionR2SquareComparison.md\u001b[39m\u001b[22m\n",
      "[ 50/196] tests/model_validation/sklearn/WeakspotsDiagnosis.md\u001b[39m\u001b[22m\n",
      "[ 51/196] tests/model_validation/sklearn/RegressionErrorsComparison.md\u001b[39m\u001b[22m\n",
      "[ 52/196] tests/model_validation/sklearn/TrainingTestDegradation.md\u001b[39m\u001b[22m\n",
      "[ 53/196] tests/model_validation/sklearn/CompletenessScore.md\u001b[39m\u001b[22m\n",
      "[ 54/196] tests/model_validation/sklearn/HomogeneityScore.md\u001b[39m\u001b[22m\n",
      "[ 55/196] tests/model_validation/sklearn/ConfusionMatrix.md\u001b[39m\u001b[22m\n",
      "[ 56/196] tests/model_validation/sklearn/SHAPGlobalImportance.md\u001b[39m\u001b[22m\n",
      "[ 57/196] tests/model_validation/sklearn/AdjustedRandIndex.md\u001b[39m\u001b[22m\n",
      "[ 58/196] tests/model_validation/sklearn/RobustnessDiagnosis.md\u001b[39m\u001b[22m\n",
      "[ 59/196] tests/model_validation/sklearn/SilhouettePlot.md\u001b[39m\u001b[22m\n",
      "[ 60/196] tests/model_validation/sklearn/AdjustedMutualInformation.md\u001b[39m\u001b[22m\n",
      "[ 61/196] tests/model_validation/sklearn/RegressionModelsPerformanceComparison.md\u001b[39m\u001b[22m\n",
      "[ 62/196] tests/model_validation/sklearn/VMeasure.md\u001b[39m\u001b[22m\n",
      "[ 63/196] tests/model_validation/sklearn/MinimumF1Score.md\u001b[39m\u001b[22m\n",
      "[ 64/196] tests/model_validation/sklearn/PermutationFeatureImportance.md\u001b[39m\u001b[22m\n",
      "[ 65/196] tests/model_validation/sklearn/ClusterPerformanceMetrics.md\u001b[39m\u001b[22m\n",
      "[ 66/196] tests/model_validation/sklearn/OverfitDiagnosis.md\u001b[39m\u001b[22m\n",
      "[ 67/196] tests/model_validation/sklearn/ClusterCosineSimilarity.md\u001b[39m\u001b[22m\n",
      "[ 68/196] tests/model_validation/sklearn/MinimumROCAUCScore.md\u001b[39m\u001b[22m\n",
      "[ 69/196] tests/model_validation/sklearn/ClassifierPerformance.md\u001b[39m\u001b[22m\n",
      "[ 70/196] tests/model_validation/sklearn/PrecisionRecallCurve.md\u001b[39m\u001b[22m\n",
      "[ 71/196] tests/model_validation/sklearn/FowlkesMallowsScore.md\u001b[39m\u001b[22m\n",
      "[ 72/196] tests/model_validation/FeaturesAUC.md\u001b[39m\u001b[22m\n",
      "[ 73/196] tests/model_validation/BertScore.md\u001b[39m\u001b[22m\n",
      "[ 74/196] tests/model_validation/ModelPredictionResiduals.md\u001b[39m\u001b[22m\n",
      "[ 75/196] tests/model_validation/TimeSeriesPredictionWithCI.md\u001b[39m\u001b[22m\n",
      "[ 76/196] tests/model_validation/RegressionResidualsPlot.md\u001b[39m\u001b[22m\n",
      "[ 77/196] tests/model_validation/TimeSeriesPredictionsPlot.md\u001b[39m\u001b[22m\n",
      "[ 78/196] tests/model_validation/BleuScore.md\u001b[39m\u001b[22m\n",
      "[ 79/196] tests/model_validation/RegardScore.md\u001b[39m\u001b[22m\n",
      "[ 80/196] tests/model_validation/MeteorScore.md\u001b[39m\u001b[22m\n",
      "[ 81/196] tests/model_validation/ContextualRecall.md\u001b[39m\u001b[22m\n",
      "[ 82/196] tests/model_validation/RougeScore.md\u001b[39m\u001b[22m\n",
      "[ 83/196] tests/model_validation/statsmodels/Lilliefors.md\u001b[39m\u001b[22m\n",
      "[ 84/196] tests/model_validation/statsmodels/CumulativePredictionProbabilities.md\u001b[39m\u001b[22m\n",
      "[ 85/196] tests/model_validation/statsmodels/RegressionModelSummary.md\u001b[39m\u001b[22m\n",
      "[ 86/196] tests/model_validation/statsmodels/RegressionFeatureSignificance.md\u001b[39m\u001b[22m\n",
      "[ 87/196] tests/model_validation/statsmodels/AutoARIMA.md\u001b[39m\u001b[22m\n",
      "[ 88/196] tests/model_validation/statsmodels/PredictionProbabilitiesHistogram.md\u001b[39m\u001b[22m\n",
      "[ 89/196] tests/model_validation/statsmodels/DurbinWatsonTest.md\u001b[39m\u001b[22m\n",
      "[ 90/196] tests/model_validation/statsmodels/RegressionModelForecastPlot.md\u001b[39m\u001b[22m\n",
      "[ 91/196] tests/model_validation/statsmodels/GINITable.md\u001b[39m\u001b[22m\n",
      "[ 92/196] tests/model_validation/statsmodels/RunsTest.md\u001b[39m\u001b[22m\n",
      "[ 93/196] tests/model_validation/statsmodels/RegressionPermutationFeatureImportance.md\u001b[39m\u001b[22m\n",
      "[ 94/196] tests/model_validation/statsmodels/RegressionModelForecastPlotLevels.md\u001b[39m\u001b[22m\n",
      "[ 95/196] tests/model_validation/statsmodels/ScorecardHistogram.md\u001b[39m\u001b[22m\n",
      "[ 96/196] tests/model_validation/statsmodels/RegressionModelsCoeffs.md\u001b[39m\u001b[22m\n",
      "[ 97/196] tests/model_validation/statsmodels/RegressionModelSensitivityPlot.md\u001b[39m\u001b[22m\n",
      "[ 98/196] tests/model_validation/statsmodels/RegressionCoeffsPlot.md\u001b[39m\u001b[22m\n",
      "[ 99/196] tests/model_validation/statsmodels/BoxPierce.md\u001b[39m\u001b[22m\n",
      "[100/196] tests/model_validation/statsmodels/KolmogorovSmirnov.md\u001b[39m\u001b[22m\n",
      "[101/196] tests/model_validation/statsmodels/ShapiroWilk.md\u001b[39m\u001b[22m\n",
      "[102/196] tests/model_validation/statsmodels/JarqueBera.md\u001b[39m\u001b[22m\n",
      "[103/196] tests/model_validation/statsmodels/LJungBox.md\u001b[39m\u001b[22m\n",
      "[104/196] tests/data_validation/TimeSeriesLinePlot.md\u001b[39m\u001b[22m\n",
      "[105/196] tests/data_validation/BivariateScatterPlots.md\u001b[39m\u001b[22m\n",
      "[106/196] tests/data_validation/EngleGrangerCoint.md\u001b[39m\u001b[22m\n",
      "[107/196] tests/data_validation/AutoSeasonality.md\u001b[39m\u001b[22m\n",
      "[108/196] tests/data_validation/KPSS.md\u001b[39m\u001b[22m\n",
      "[109/196] tests/data_validation/DatasetSplit.md\u001b[39m\u001b[22m\n",
      "[110/196] tests/data_validation/TimeSeriesFrequency.md\u001b[39m\u001b[22m\n",
      "[111/196] tests/data_validation/HeatmapFeatureCorrelations.md\u001b[39m\u001b[22m\n",
      "[112/196] tests/data_validation/WOEBinTable.md\u001b[39m\u001b[22m\n",
      "[113/196] tests/data_validation/BivariateHistograms.md\u001b[39m\u001b[22m\n",
      "[114/196] tests/data_validation/ACFandPACFPlot.md\u001b[39m\u001b[22m\n",
      "[115/196] tests/data_validation/HighPearsonCorrelation.md\u001b[39m\u001b[22m\n",
      "[116/196] tests/data_validation/SpreadPlot.md\u001b[39m\u001b[22m\n",
      "[117/196] tests/data_validation/TimeSeriesDescriptiveStatistics.md\u001b[39m\u001b[22m\n",
      "[118/196] tests/data_validation/AutoAR.md\u001b[39m\u001b[22m\n",
      "[119/196] tests/data_validation/DFGLSArch.md\u001b[39m\u001b[22m\n",
      "[120/196] tests/data_validation/IQROutliersBarPlot.md\u001b[39m\u001b[22m\n",
      "[121/196] tests/data_validation/ClassImbalance.md\u001b[39m\u001b[22m\n",
      "[122/196] tests/data_validation/ADF.md\u001b[39m\u001b[22m\n",
      "[123/196] tests/data_validation/TabularDateTimeHistograms.md\u001b[39m\u001b[22m\n",
      "[124/196] tests/data_validation/SeasonalDecompose.md\u001b[39m\u001b[22m\n",
      "[125/196] tests/data_validation/LaggedCorrelationHeatmap.md\u001b[39m\u001b[22m\n",
      "[126/196] tests/data_validation/TimeSeriesHistogram.md\u001b[39m\u001b[22m\n",
      "[127/196] tests/data_validation/TimeSeriesMissingValues.md\u001b[39m\u001b[22m\n",
      "[128/196] tests/data_validation/WOEBinPlots.md\u001b[39m\u001b[22m\n",
      "[129/196] tests/data_validation/TimeSeriesOutliers.md\u001b[39m\u001b[22m\n",
      "[130/196] tests/data_validation/ScatterPlot.md\u001b[39m\u001b[22m\n",
      "[131/196] tests/data_validation/TimeSeriesDescription.md\u001b[39m\u001b[22m\n",
      "[132/196] tests/data_validation/DescriptiveStatistics.md\u001b[39m\u001b[22m\n",
      "[133/196] tests/data_validation/AutoStationarity.md\u001b[39m\u001b[22m\n",
      "[134/196] tests/data_validation/TabularCategoricalBarPlots.md\u001b[39m\u001b[22m\n",
      "[135/196] tests/data_validation/Skewness.md\u001b[39m\u001b[22m\n",
      "[136/196] tests/data_validation/BivariateFeaturesBarPlots.md\u001b[39m\u001b[22m\n",
      "[137/196] tests/data_validation/IQROutliersTable.md\u001b[39m\u001b[22m\n",
      "[138/196] tests/data_validation/MissingValuesRisk.md\u001b[39m\u001b[22m\n",
      "[139/196] tests/data_validation/nlp/LanguageDetection.md\u001b[39m\u001b[22m\n",
      "[140/196] tests/data_validation/nlp/Hashtags.md\u001b[39m\u001b[22m\n",
      "[141/196] tests/data_validation/nlp/StopWords.md\u001b[39m\u001b[22m\n",
      "[142/196] tests/data_validation/nlp/Mentions.md\u001b[39m\u001b[22m\n",
      "[143/196] tests/data_validation/nlp/TextDescription.md\u001b[39m\u001b[22m\n",
      "[144/196] tests/data_validation/nlp/Punctuations.md\u001b[39m\u001b[22m\n",
      "[145/196] tests/data_validation/nlp/Sentiment.md\u001b[39m\u001b[22m\n",
      "[146/196] tests/data_validation/nlp/PolarityAndSubjectivity.md\u001b[39m\u001b[22m\n",
      "[147/196] tests/data_validation/nlp/Toxicity.md\u001b[39m\u001b[22m\n",
      "[148/196] tests/data_validation/nlp/CommonWords.md\u001b[39m\u001b[22m\n",
      "[149/196] tests/data_validation/ZivotAndrewsArch.md\u001b[39m\u001b[22m\n",
      "[150/196] tests/data_validation/DatasetDescription.md\u001b[39m\u001b[22m\n",
      "[151/196] tests/data_validation/MissingValuesBarPlot.md\u001b[39m\u001b[22m\n",
      "[152/196] tests/data_validation/Duplicates.md\u001b[39m\u001b[22m\n",
      "[153/196] tests/data_validation/AutoMA.md\u001b[39m\u001b[22m\n",
      "[154/196] tests/data_validation/TabularDescriptionTables.md\u001b[39m\u001b[22m\n",
      "[155/196] tests/data_validation/RollingStatsPlot.md\u001b[39m\u001b[22m\n",
      "[156/196] tests/data_validation/PhillipsPerronArch.md\u001b[39m\u001b[22m\n",
      "[157/196] tests/data_validation/TooManyZeroValues.md\u001b[39m\u001b[22m\n",
      "[158/196] tests/data_validation/UniqueRows.md\u001b[39m\u001b[22m\n",
      "[159/196] tests/data_validation/PearsonCorrelationMatrix.md\u001b[39m\u001b[22m\n",
      "[160/196] tests/data_validation/FeatureTargetCorrelationPlot.md\u001b[39m\u001b[22m\n",
      "[161/196] tests/data_validation/TargetRateBarPlots.md\u001b[39m\u001b[22m\n",
      "[162/196] tests/data_validation/ANOVAOneWayTable.md\u001b[39m\u001b[22m\n",
      "[163/196] tests/data_validation/MissingValues.md\u001b[39m\u001b[22m\n",
      "[164/196] tests/data_validation/HighCardinality.md\u001b[39m\u001b[22m\n",
      "[165/196] tests/data_validation/ChiSquaredFeaturesTable.md\u001b[39m\u001b[22m\n",
      "[166/196] tests/data_validation/IsolationForestOutliers.md\u001b[39m\u001b[22m\n",
      "[167/196] tests/data_validation/TabularNumericalHistograms.md\u001b[39m\u001b[22m\n",
      "[168/196] notebooks/quickstart_customer_churn_full_suite.ipynb\u001b[39m\u001b[22m\n",
      "[169/196] notebooks/code_samples/custom_tests/implement_custom_tests.ipynb\u001b[39m\u001b[22m\n",
      "[170/196] notebooks/code_samples/custom_tests/integrate_external_test_providers.ipynb\u001b[39m\u001b[22m\n",
      "[171/196] notebooks/code_samples/customization/customizing_tests_with_output_templates.ipynb\u001b[39m\u001b[22m\n",
      "[172/196] notebooks/code_samples/nlp_and_llm/hugging_face_summarization_demo.ipynb\u001b[39m\u001b[22m\n",
      "[173/196] notebooks/code_samples/nlp_and_llm/llm_summarization_demo.ipynb\u001b[39m\u001b[22m\n",
      "[174/196] notebooks/code_samples/nlp_and_llm/hugging_face_integration_demo.ipynb\u001b[39m\u001b[22m\n",
      "[175/196] notebooks/code_samples/nlp_and_llm/foundation_models_integration_demo.ipynb\u001b[39m\u001b[22m\n",
      "[176/196] notebooks/code_samples/nlp_and_llm/prompt_validation_demo.ipynb\u001b[39m\u001b[22m\n",
      "[177/196] notebooks/code_samples/nlp_and_llm/rag_documentation_demo.ipynb\u001b[39m\u001b[22m\n",
      "[178/196] notebooks/code_samples/nlp_and_llm/foundation_models_summarization_demo.ipynb\u001b[39m\u001b[22m\n",
      "[179/196] notebooks/code_samples/time_series/quickstart_time_series_full_suite.ipynb\u001b[39m\u001b[22m\n",
      "[180/196] notebooks/code_samples/regression/quickstart_regression_full_suite.ipynb\u001b[39m\u001b[22m\n",
      "[181/196] notebooks/code_samples/credit_risk/application_scorecard_demo.ipynb\u001b[39m\u001b[22m\n",
      "[182/196] notebooks/how_to/run_unit_metrics.ipynb\u001b[39m\u001b[22m\n",
      "[183/196] notebooks/how_to/explore_tests.ipynb\u001b[39m\u001b[22m\n",
      "[184/196] notebooks/how_to/load_datasets_predictions.ipynb\u001b[39m\u001b[22m\n",
      "[185/196] notebooks/how_to/use_dataset_model_objects.ipynb\u001b[39m\u001b[22m\n",
      "[186/196] notebooks/how_to/run_documentation_tests_with_config.ipynb\u001b[39m\u001b[22m\n",
      "[187/196] notebooks/how_to/configure_dataset_features.ipynb\u001b[39m\u001b[22m\n",
      "[188/196] notebooks/how_to/filter_input_columns.ipynb\u001b[39m\u001b[22m\n",
      "[189/196] notebooks/how_to/run_tests/1_run_dataset_based_tests.ipynb\u001b[39m\u001b[22m\n",
      "[190/196] notebooks/how_to/run_tests/2_run_comparison_tests.ipynb\u001b[39m\u001b[22m\n",
      "[191/196] notebooks/how_to/explore_test_suites.ipynb\u001b[39m\u001b[22m\n",
      "[192/196] notebooks/how_to/run_documentation_sections.ipynb\u001b[39m\u001b[22m\n",
      "[193/196] notebooks/how_to/document_multiple_results_for_the_same_test.ipynb\u001b[39m\u001b[22m\n",
      "[194/196] notebooks/how_to/run_tests_that_require_multiple_datasets.ipynb\u001b[39m\u001b[22m\n",
      "[195/196] notebooks/tutorials/intro_for_model_developers.ipynb\u001b[39m\u001b[22m\n",
      "[196/196] notebooks/tutorials/intro_for_model_developers_EXECUTED.ipynb\u001b[39m\u001b[22m\n",
      "\n",
      "\u001b[1m\u001b[34mmake\u001b[39m\u001b[22m\n",
      "\n",
      "Updating Python documentation ...\n",
      "\n",
      "\u001b[32mWatching files for changes\u001b[39m\n",
      "\u001b[32mBrowse at \u001b[39m\u001b[4m\u001b[32mhttp://localhost:6201/notebooks/tutorials/intro_for_model_developers_EXECUTED.html\u001b[39m\u001b[24m\n",
      "\u001b[32mGET: /notebooks/tutorials/intro_for_model_developers_EXECUTED.html\u001b[39m\n",
      "\n",
      "\u001b[32mGET: /\u001b[39m\n",
      "\n",
      "\u001b[32mGET: /about/overview.html\u001b[39m\n",
      "\u001b[32mGET: /releases/2024-aug-13/release-notes.html\u001b[39m\n",
      "\u001b[32mGET: /releases/2024-aug-13/release-notes.html\u001b[39m\n",
      "\u001b[32mGET: /releases/2024-aug-13/release-notes.html\u001b[39m\n"
     ]
    },
    {
     "name": "stderr",
     "output_type": "stream",
     "text": [
      "\n",
      "\u001b[32mGET: /releases/2024-aug-13/release-notes.html\u001b[39m\n"
     ]
    }
   ],
   "source": [
    "%%bash\n",
    "cd ../site\n",
    "quarto preview"
   ]
  },
  {
   "cell_type": "markdown",
   "metadata": {},
   "source": [
    "**When you're done with the preview, please restart the kernel.**"
   ]
  },
  {
   "cell_type": "markdown",
   "metadata": {},
   "source": [
    "## <a id='toc6_'></a>Next steps [](#toc0_)\n",
    "\n",
    "Now that you've generated, previewed, and edited the release notes, it's time to send a commit and start a PR! Make sure you're on the branch associated to the story for the release notes. Double check with our [internal guide](https://www.notion.so/validmind/On-release-notes-20de4e7ea03f402587514f6c9eda3bb1) to see if you missed anything."
   ]
  }
 ],
 "metadata": {
  "kernelspec": {
   "display_name": "Python 3",
   "language": "python",
   "name": "python3"
  },
  "language_info": {
   "codemirror_mode": {
    "name": "ipython",
    "version": 3
   },
   "file_extension": ".py",
   "mimetype": "text/x-python",
   "name": "python",
   "nbconvert_exporter": "python",
   "pygments_lexer": "ipython3",
   "version": "3.11.9"
  }
 },
 "nbformat": 4,
 "nbformat_minor": 2
}
