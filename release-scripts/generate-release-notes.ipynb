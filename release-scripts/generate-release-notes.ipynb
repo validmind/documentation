{
 "cells": [
  {
   "cell_type": "markdown",
   "metadata": {},
   "source": [
    "# Generate release notes"
   ]
  },
  {
   "cell_type": "markdown",
   "metadata": {},
   "source": [
    "This notebook automates creating a draft for the latest release notes using our custom generation script and OpenAI API. All you need to do is have a valid OpenAI API key and the URLs of latest GitHub release tags you want to include.\n",
    "\n",
    "Release information is extracted from the release tags, and then sorted by label. Then, we put the information through OpenAI for preliminary editing. \n",
    "\n",
    "After running the notebook, you can locate the new generated release notes added to the `~/site/releases` folder for you to clean up further, along with a live preview of the site to get you started."
   ]
  },
  {
   "cell_type": "markdown",
   "metadata": {},
   "source": [
    "## Contents  \n",
    "- [Prerequisites](#toc1_)    \n",
    "- [Setting up](#toc2_)    \n",
    "  - [Import release generation script](#toc2_1_)    \n",
    "  - [Set up OpenAI API](#toc2_2_)    \n",
    "  - [Create categories from labels](#toc2_3_)    \n",
    "  - [Collect GitHub URLs](#toc2_4_)    \n",
    "  - [Set the release date](#toc2_5_)    \n",
    "- [Extracting PR information](#toc3_)    \n",
    "  - [Create release folder and file](#toc3_1_)    \n",
    "  - [Add the date to release notes ](#toc3_2_)    \n",
    "  - [Set up release notes components](#toc3_3_)    \n",
    "  - [Set the repository and tag name](#toc3_4_)    \n",
    "  - [Extract PRs from each URL](#toc3_5_)    \n",
    "  - [Load PR data](#toc3_6_)    \n",
    "- [Drafting the release notes](#toc4_)    \n",
    "  - [Edit the release notes body](#toc4_1_)    \n",
    "  - [Fetch automated GitHub PR summary](#toc4_2_)    \n",
    "  - [Edit each title](#toc4_3_)    \n",
    "  - [Set labels for each PR](#toc4_4_)    \n",
    "  - [Assign PR details to PR](#toc4_5_)    \n",
    "  - [Assemble release notes](#toc4_6_)    \n",
    "- [Adding release notes to the docs](#toc5_)    \n",
    "  - [Write release notes to file](#toc5_1_)    \n",
    "  - [Update sidebar](#toc5_2_)    \n",
    "  - [Update index](#toc5_3_)    \n",
    "- [Next steps](#toc6_)    \n",
    "  - [Show files to commit](#toc6_1_)    \n",
    "  - [Preview release notes](#toc6_2_)    \n",
    "  - [Wrap it up](#toc6_2_)  \n",
    "\n",
    "<!-- vscode-jupyter-toc-config\n",
    "\tnumbering=false\n",
    "\tanchor=true\n",
    "\tflat=false\n",
    "\tminLevel=2\n",
    "\tmaxLevel=4\n",
    "\t/vscode-jupyter-toc-config -->\n",
    "<!-- THIS CELL WILL BE REPLACED ON TOC UPDATE. DO NOT WRITE YOUR TEXT IN THIS CELL -->"
   ]
  },
  {
   "cell_type": "markdown",
   "metadata": {},
   "source": [
    "<a id='toc1_'></a>\n",
    "\n",
    "## Prerequisites \n",
    "\n",
    "<div class=\"alert alert-block alert-info\" style=\"background-color: #B5B5B510; color: black; border: 1px solid #083E44; border-left-width: 5px; box-shadow: 2px 2px 4px rgba(0, 0, 0, 0.2);border-radius: 5px;\"><span style=\"color: #083E44;\"><b>Refer our release notes guide for the full steps needed before running this notebook:</b></span>\n",
    "<br></br>\n",
    "<a href=\"https://www.notion.so/validmind/Create-Release-Notes-c4291bb92f644c5eb490cc21a8a79ca5?pvs=4\" style=\"color: #DE257E;\"><b>Create Release Notes</b></a></div>\n",
    "\n",
    "This process assumes you have knowledge of how to work with GitHub, including managing release tags, sending commits, and creating pull requests. \n",
    "\n",
    "- [ ] You should be on a separate branch associated to the Story for the release notes before you begin.\n",
    "- [ ] You need to have a valid `OPENAI_API_KEY` in your `.env` file. Your `.env` file should preferably live in your `documentation` repo root folder so you don't have to enter in the location of the file when the script runs.\n",
    "- [ ] You need to have the GitHub release tags created and the URLs ready to be inputted."
   ]
  },
  {
   "cell_type": "markdown",
   "metadata": {},
   "source": [
    "<a id='toc2_'></a>\n",
    "\n",
    "## Setting up "
   ]
  },
  {
   "cell_type": "markdown",
   "metadata": {},
   "source": [
    "<a id='toc2_1_'></a>\n",
    "\n",
    "### Import release generation script \n",
    "\n",
    "This cell imports our custom `generate_release_objects.py` script for use with a shortened alias, including any necessary dependencies."
   ]
  },
  {
   "cell_type": "code",
   "execution_count": 1,
   "metadata": {},
   "outputs": [],
   "source": [
    "import generate_release_objects as gro"
   ]
  },
  {
   "cell_type": "markdown",
   "metadata": {},
   "source": [
    "<a id='toc2_2_'></a>\n",
    "\n",
    "### Set up OpenAI API \n",
    "\n",
    "First, you'll be asked to indicate the location of the `.env` file where your OpenAI API key lives so it can return the secrey key. \n",
    "\n",
    "**Leave blank to go with the default path:** `../.env`"
   ]
  },
  {
   "cell_type": "code",
   "execution_count": null,
   "metadata": {},
   "outputs": [],
   "source": [
    "gro.env_location = gro.get_env_location()\n",
    "gro.setup_openai_api(gro.env_location)"
   ]
  },
  {
   "cell_type": "markdown",
   "metadata": {},
   "source": [
    "<a id='toc2_3_'></a>\n",
    "\n",
    "### Create categories from labels \n",
    "\n",
    "This cell creates the main sections of the release notes based on the GitHub labels.\n",
    "\n",
    "`label_hierarchy` shows the order in which updates will be shown. Leave as is to keep the existing order.\n",
    "\n",
    "**Anything unlabeled will be shoved into `other`, which you will need to review and sort into the right categories when you edit.**"
   ]
  },
  {
   "cell_type": "code",
   "execution_count": null,
   "metadata": {},
   "outputs": [],
   "source": [
    "label_hierarchy = [\"highlight\", \"enhancement\", \"deprecation\", \"bug\", \"documentation\"]\n",
    "gro.display_list(label_hierarchy)"
   ]
  },
  {
   "cell_type": "markdown",
   "metadata": {},
   "source": [
    "<a id='toc2_4_'></a>\n",
    "\n",
    "### Collect GitHub URLs \n",
    "\n",
    "Running this cell will prompt you to enter your GitHub release URLs. Keep pasting them in until you're done, then press enter again.\n",
    "\n",
    "**Example release URL:** https://github.com/validmind/documentation/releases/tag/v2.4.4"
   ]
  },
  {
   "cell_type": "code",
   "execution_count": null,
   "metadata": {},
   "outputs": [],
   "source": [
    "gro.github_urls = gro.collect_github_urls() \n",
    "gro.count_repos(gro.github_urls)"
   ]
  },
  {
   "cell_type": "markdown",
   "metadata": {},
   "source": [
    "<a id='toc2_5_'></a>\n",
    "\n",
    "### Set the release date \n",
    "Running this cell will prompt you to enter the desired release date. \n",
    "\n",
    "**The default is 3 business days from today if you leave the prompt empty.**"
   ]
  },
  {
   "cell_type": "code",
   "execution_count": null,
   "metadata": {},
   "outputs": [],
   "source": [
    "gro.release_datetime = gro.get_release_date()\n",
    "gro.formatted_release_date = gro.release_datetime.strftime(\"%Y-%b-%d\").lower()\n",
    "gro.original_release_date = gro.release_datetime.strftime(\"%B %-d, %Y\")"
   ]
  },
  {
   "cell_type": "markdown",
   "metadata": {},
   "source": [
    "<a id='toc3_'></a>\n",
    "\n",
    "## Extracting PR information "
   ]
  },
  {
   "cell_type": "markdown",
   "metadata": {},
   "source": [
    "<a id='toc3_1_'></a>\n",
    "\n",
    "### Create release folder and file\n",
    "\n",
    "These lines will create a folder inside of `~/site/releases` for the new release notes to live in and sets stage for the release notes to be generated. The folder name is the release date tucked into the yearly folder, as per our convention. \n",
    "\n",
    "**If the directory and release file already exists, you will be prompted to confirm whether or not you want to overwrite the contents.**"
   ]
  },
  {
   "cell_type": "code",
   "execution_count": null,
   "metadata": {},
   "outputs": [],
   "source": [
    "output_file, year = gro.create_release_folder(gro.formatted_release_date)"
   ]
  },
  {
   "cell_type": "markdown",
   "metadata": {},
   "source": [
    "<a id='toc3_2_'></a>\n",
    "\n",
    "### Add the date to release notes \n",
    "This block writes the specified date as the title of the new release notes file.\n",
    "\n",
    "**It will also open up the newly created `release-notes.qmd` file for you so you don't have to go looking for it.**"
   ]
  },
  {
   "cell_type": "code",
   "execution_count": null,
   "metadata": {},
   "outputs": [],
   "source": [
    "gro.create_release_qmd(output_file, gro.original_release_date)"
   ]
  },
  {
   "cell_type": "markdown",
   "metadata": {},
   "source": [
    "<a id='toc3_3_'></a>\n",
    "\n",
    "### Set up release notes components \n",
    "`release_components` will contain all the components of the release notes in the form of a dictionary. \n",
    "\n",
    "Later, we will merge these components together to create the release notes. Again, anything unlabeled will be shoved into `other` at the end of the release notes. "
   ]
  },
  {
   "cell_type": "code",
   "execution_count": null,
   "metadata": {},
   "outputs": [],
   "source": [
    "gro.update_release_components(gro.release_components, gro.categories)"
   ]
  },
  {
   "cell_type": "markdown",
   "metadata": {},
   "source": [
    "<a id='toc3_4_'></a>\n",
    "\n",
    "### Set the repository and tag name \n",
    "This block checks every release URL and assigns its repo name, and its associated release tag name."
   ]
  },
  {
   "cell_type": "code",
   "execution_count": null,
   "metadata": {},
   "outputs": [],
   "source": [
    "gro.set_names(gro.github_urls)"
   ]
  },
  {
   "cell_type": "markdown",
   "metadata": {},
   "source": [
    "<a id='toc3_5_'></a>\n",
    "\n",
    "### Extract PRs from each URL \n",
    "This block gathers all the pull requests from each release URL and stores them within the URL's object data."
   ]
  },
  {
   "cell_type": "code",
   "execution_count": null,
   "metadata": {},
   "outputs": [],
   "source": [
    "gro.extract_urls(gro.github_urls)"
   ]
  },
  {
   "cell_type": "markdown",
   "metadata": {},
   "source": [
    "<a id='toc3_6_'></a>\n",
    "\n",
    "### Load PR data \n",
    "\n",
    "This block extracts information from the PR's JSON data, and stores the information in each PR's object data."
   ]
  },
  {
   "cell_type": "code",
   "execution_count": null,
   "metadata": {},
   "outputs": [],
   "source": [
    "gro.populate_data(gro.github_urls)"
   ]
  },
  {
   "cell_type": "markdown",
   "metadata": {},
   "source": [
    "<a id='toc4_'></a>\n",
    "\n",
    "## Drafting the release notes "
   ]
  },
  {
   "cell_type": "markdown",
   "metadata": {},
   "source": [
    "<a id='toc4_1_'></a>\n",
    "\n",
    "### Edit the release notes body \n",
    "\n",
    "Using the prompt below, this block feeds the body of each PR to ChatGPT for initial editing, skipping PRs labeled as `internal`. \n",
    "\n",
    "**If you find that the output is not quite right, you can edit the prompt and play around with it.**"
   ]
  },
  {
   "cell_type": "code",
   "execution_count": null,
   "metadata": {},
   "outputs": [],
   "source": [
    "editing_instructions_body = \"\"\"\n",
    "    Please edit the provided technical content according to the following guidelines:\n",
    "\n",
    "    - Use simple and neutral language in the active voice.\n",
    "    - Address users directly in the second person with \"you\".\n",
    "    - Use present tense by avoiding the use of \"will\".\n",
    "    - Apply sentence-style capitalization to text\n",
    "    - Always capitalize the first letter of text on each line.\n",
    "    - Rewrite sentences that are longer than 25 words as multiple sentences.\n",
    "    - Only split text across multiple lines if the text contains more than three sentences.\n",
    "    - Avoid handwaving references to \"it\" or \"this\" by including the text referred to. \n",
    "    - Treat short text of less than ten words without a period at the end as a heading. \n",
    "    - Enclose any words joined by underscores in backticks (`) if they aren't already.\n",
    "    - Remove exclamation marks from text.\n",
    "    - Remove quotes around non-code words.\n",
    "    - Remove the text \"feat:\" from the output\n",
    "    - Maintain existing punctuation at the end of sentences.\n",
    "    - Maintain all original hyperlinks for reference.\n",
    "    - Preserve all comments in the format <!--- COMMENT ---> as they appear in the text.\n",
    "    \"\"\"\n",
    "\n",
    "gro.edit_release_notes(gro.github_urls, editing_instructions_body)"
   ]
  },
  {
   "cell_type": "markdown",
   "metadata": {},
   "source": [
    "<a id='toc4_2_'></a>\n",
    "\n",
    "### Fetch automated GitHub PR summary \n",
    "\n",
    "Using the `github-actions` bot, we'll retrieve an auto-generated summary for comparison."
   ]
  },
  {
   "cell_type": "code",
   "execution_count": null,
   "metadata": {},
   "outputs": [],
   "source": [
    "summary_instructions = \"\"\" \n",
    "    Please turn this PR Summary into a summary for release notes, according to the following guidelines:\n",
    "    - Use simple and neutral language in the active voice.\n",
    "    - Change from numbered list format to paragraph-style text.\n",
    "    - Address users directly in the second person with \"you\".\n",
    "    - Use present tense by avoiding the use of \"will\".\n",
    "    \"\"\"\n",
    "\n",
    "gro.auto_summary(gro.github_urls, summary_instructions)"
   ]
  },
  {
   "cell_type": "markdown",
   "metadata": {},
   "source": [
    "<a id='toc4_3_'></a>\n",
    "\n",
    "### Edit each title \n",
    "This block does the same as `Edit the release notes body` for the titles of each PR. The output below will show:\n",
    "- The original PR title\n",
    "- The title after some algorithmic changes\n",
    "- The title after ChatGPT edits it\n",
    "\n",
    "**If you find that it's not good after editing with ChatGPT, feel free to edit the prompt below.**"
   ]
  },
  {
   "cell_type": "code",
   "execution_count": null,
   "metadata": {},
   "outputs": [],
   "source": [
    "editing_instructions_title = \"\"\"\n",
    "    Please edit the provided technical content according to the following guidelines:\n",
    "\n",
    "    - Use simple and neutral language in the active voice.\n",
    "    - Address users directly in the second person with \"you\".\n",
    "    - Use present tense by avoiding the use of \"will\".\n",
    "    - Apply sentence-style capitalization to text\n",
    "    - Always capitalize the first letter of text on each line.\n",
    "    - Rewrite sentences that are longer than 25 words as multiple sentences.\n",
    "    - Only split text across multiple lines if the text contains more than three sentences.\n",
    "    - Avoid handwaving references to \"it\" or \"this\" by including the text referred to. \n",
    "    - Treat short text of less than ten words without a period at the end as a heading. \n",
    "    - Enclose any words joined by underscores in backticks (`) if they aren't already.\n",
    "    - Remove exclamation marks from text.\n",
    "    - Remove quotes around non-code words.\n",
    "    - Remove the text \"feat:\" from the output\n",
    "    - Maintain existing punctuation at the end of sentences.\n",
    "    - Maintain all original hyperlinks for reference.\n",
    "    - Preserve all comments in the format <!--- COMMENT ---> as they appear in the text.\n",
    "    \"\"\"\n",
    "\n",
    "gro.edit_titles(gro.github_urls, editing_instructions_title)"
   ]
  },
  {
   "cell_type": "markdown",
   "metadata": {},
   "source": [
    "<a id='toc4_4_'></a>\n",
    "\n",
    "### Set labels for each PR \n",
    "This block takes the label data from each PR and assigns it to the PR."
   ]
  },
  {
   "cell_type": "code",
   "execution_count": null,
   "metadata": {},
   "outputs": [],
   "source": [
    "gro.set_labels(gro.github_urls)"
   ]
  },
  {
   "cell_type": "markdown",
   "metadata": {},
   "source": [
    "<a id='toc4_5_'></a>\n",
    "\n",
    "### Assign PR details to PR \n",
    "This block compiles all the data we found earlier for each PR into one place. "
   ]
  },
  {
   "cell_type": "code",
   "execution_count": null,
   "metadata": {},
   "outputs": [],
   "source": [
    "gro.assign_details(gro.github_urls)"
   ]
  },
  {
   "cell_type": "markdown",
   "metadata": {},
   "source": [
    "<a id='toc4_6_'></a>\n",
    "\n",
    "### Assemble release notes \n",
    "Now, we can take all the details we compiled above and append them to our final release notes components. \n",
    "\n",
    "Since we want to show features in order of importance, we sort by the priority of the label."
   ]
  },
  {
   "cell_type": "code",
   "execution_count": null,
   "metadata": {},
   "outputs": [],
   "source": [
    "release_components = gro.assemble_release(gro.github_urls, label_hierarchy)"
   ]
  },
  {
   "cell_type": "markdown",
   "metadata": {},
   "source": [
    "<a id='toc5_'></a>\n",
    "\n",
    "## Adding release notes to the docs "
   ]
  },
  {
   "cell_type": "markdown",
   "metadata": {},
   "source": [
    "<a id='toc5_1_'></a>\n",
    "\n",
    "### Write release notes to file \n",
    "Now that `release_components` contains everything we need for the release notes, we can write it to our release notes file.\n",
    "\n",
    "This step also appends our single-source includes file `/releases/_how-to-upgrade.qmd` automatically to the bottom of the page. "
   ]
  },
  {
   "cell_type": "code",
   "execution_count": null,
   "metadata": {},
   "outputs": [],
   "source": [
    "gro.release_output(output_file, release_components, gro.label_to_category)\n",
    "gro.upgrade_info(output_file)"
   ]
  },
  {
   "cell_type": "markdown",
   "metadata": {},
   "source": [
    "<a id='toc5_2_'></a>\n",
    "\n",
    "### Update sidebar \n",
    "This block will go into our `_quarto.yml` file and add the new release notes so it shows up on the sidebar of the docsite under the \"About\" section. "
   ]
  },
  {
   "cell_type": "code",
   "execution_count": null,
   "metadata": {},
   "outputs": [],
   "source": [
    "gro.update_quarto_yaml(gro.release_datetime, year)"
   ]
  },
  {
   "cell_type": "markdown",
   "metadata": {},
   "source": [
    "<a id='toc5_3_'></a>\n",
    "\n",
    "### Update index \n",
    "This block will go into our `index.qmd` file and add the new release notes so it shows up in the \"Latest Releases\" section, as well as remove the oldest release so that the tiles are uniform. "
   ]
  },
  {
   "cell_type": "code",
   "execution_count": null,
   "metadata": {},
   "outputs": [],
   "source": [
    "gro.update_index_qmd(gro.release_datetime, year)"
   ]
  },
  {
   "cell_type": "markdown",
   "metadata": {},
   "source": [
    "<a id='toc6_'></a>\n",
    "\n",
    "## Next steps "
   ]
  },
  {
   "cell_type": "markdown",
   "metadata": {},
   "source": [
    "<a id='toc6_1_'></a>\n",
    "\n",
    "### Show files to commit \n",
    "\n",
    "This block shows you the files changed or added by the notebook you need to commit — it should omit any files in `release-scripts/`. "
   ]
  },
  {
   "cell_type": "code",
   "execution_count": null,
   "metadata": {},
   "outputs": [],
   "source": [
    "%%bash\n",
    "cd ../\n",
    "git status | grep -v 'release-scripts/'"
   ]
  },
  {
   "cell_type": "markdown",
   "metadata": {},
   "source": [
    "<a id='toc6_2_'></a>\n",
    "\n",
    "### Preview release notes \n",
    "Run this cell to preview the site, including the new release notes you just generated. "
   ]
  },
  {
   "cell_type": "code",
   "execution_count": null,
   "metadata": {},
   "outputs": [],
   "source": [
    "%%bash\n",
    "cd ../site\n",
    "quarto preview"
   ]
  },
  {
   "cell_type": "markdown",
   "metadata": {},
   "source": [
    "<div class=\"alert alert-block alert-info\" style=\"background-color: #B5B5B510; color: black; border: 1px solid #083E44; border-left-width: 5px; box-shadow: 2px 2px 4px rgba(0, 0, 0, 0.2);border-radius: 5px;\"><span style=\"color: #083E44;\"><b>When you're done with the preview, please restart the kernel.</b></span>\n",
    "<br></br>\n",
    "Make sure that when you commit your changes to remote, do NOT include the changes in the <code>~/release-scripts/</code> folder as that would commit changed notebook with the output cells.</div>"
   ]
  },
  {
   "cell_type": "markdown",
   "metadata": {},
   "source": [
    "<a id='toc6_3_'></a>\n",
    "\n",
    "### Wrap it up\n",
    "\n",
    "**You may want to send a commit up to remote before you begin editing so you have a backup.**\n",
    "\n",
    "- [ ] At the end of the release notes file, make sure that the notebook appended the `_how-to_upgrade.qmd` include to the very bottom.\n",
    "- [ ] Make sure that the link to the new release notes displays as expected in the sidebar under `About > Releases`. \n",
    "- [ ] Double-check that the `Latest Releases` section on our main documentation landing page includes the new release and looks uniform.\n",
    "- [ ] Edit the new release notes in accordance with our [internal guide](https://www.notion.so/validmind/Create-Release-Notes-c4291bb92f644c5eb490cc21a8a79ca5?pvs=4) to make sure you've completed all the requirements.\n",
    "- [ ] Make sure any relevant files are committed to remote in preparation for your PR!\n"
   ]
  }
 ],
 "metadata": {
  "kernelspec": {
   "display_name": "Python 3",
   "language": "python",
   "name": "python3"
  },
  "language_info": {
   "codemirror_mode": {
    "name": "ipython",
    "version": 3
   },
   "file_extension": ".py",
   "mimetype": "text/x-python",
   "name": "python",
   "nbconvert_exporter": "python",
   "pygments_lexer": "ipython3",
   "version": "3.10.14"
  }
 },
 "nbformat": 4,
 "nbformat_minor": 2
}
