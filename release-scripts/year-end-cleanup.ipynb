{
 "cells": [
  {
   "cell_type": "markdown",
   "metadata": {
    "vscode": {
     "languageId": "plaintext"
    }
   },
   "source": [
    "Import yearly cleanup script"
   ]
  },
  {
   "cell_type": "code",
   "execution_count": 1,
   "metadata": {},
   "outputs": [],
   "source": [
    "import yearly_cleanup as yc"
   ]
  },
  {
   "cell_type": "markdown",
   "metadata": {},
   "source": [
    "- Input your cleanup year\n",
    "- Create the new yearly folder"
   ]
  },
  {
   "cell_type": "code",
   "execution_count": 2,
   "metadata": {},
   "outputs": [
    {
     "name": "stdout",
     "output_type": "stream",
     "text": [
      "Creating folder for year: 2024\n",
      "\n",
      "Created folder:\n"
     ]
    },
    {
     "data": {
      "text/plain": [
       "'../site/releases/2024/'"
      ]
     },
     "execution_count": 2,
     "metadata": {},
     "output_type": "execute_result"
    }
   ],
   "source": [
    "year = yc.get_year()\n",
    "yc.create_year_folder(year)"
   ]
  },
  {
   "cell_type": "markdown",
   "metadata": {},
   "source": [
    "Retrieve all the subdirectories matching your cleanup year"
   ]
  },
  {
   "cell_type": "code",
   "execution_count": 3,
   "metadata": {},
   "outputs": [
    {
     "name": "stdout",
     "output_type": "stream",
     "text": [
      "Found 13 release folders for year 2024:\n"
     ]
    },
    {
     "data": {
      "text/plain": [
       "['2024-aug-13',\n",
       " '2024-dec-06',\n",
       " '2024-dec-24',\n",
       " '2024-feb-14',\n",
       " '2024-jan-18',\n",
       " '2024-jan-26',\n",
       " '2024-jul-22',\n",
       " '2024-jun-10',\n",
       " '2024-mar-27',\n",
       " '2024-may-22',\n",
       " '2024-oct-22',\n",
       " '2024-sep-09',\n",
       " '2024-sep-25']"
      ]
     },
     "execution_count": 3,
     "metadata": {},
     "output_type": "execute_result"
    }
   ],
   "source": [
    "yc.get_yearly_releases(year)"
   ]
  }
 ],
 "metadata": {
  "language_info": {
   "name": "python"
  }
 },
 "nbformat": 4,
 "nbformat_minor": 2
}
