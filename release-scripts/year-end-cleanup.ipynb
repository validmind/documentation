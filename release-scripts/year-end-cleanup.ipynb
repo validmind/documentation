{
 "cells": [
  {
   "cell_type": "markdown",
   "metadata": {},
   "source": [
    "# Year end release cleanup"
   ]
  },
  {
   "cell_type": "markdown",
   "metadata": {},
   "source": [
    "This notebook automatically moves a full year of releases into their own subdirectory under `~site/releases/` and collates the releases into their yearly listing page, including a preliminary tidy up of any links broken by moving these files. \n",
    "\n",
    "It's easiest to run this notebook at the start of the new year, when all the releases for the previous year are ready to be collated, thus requiring minimum adjustment from you.\n",
    "\n",
    "After running the notebook, you can locate the new yearly release subdirectory that was inserted into our `About > Releases` section for you to clean up further, along with a live preview of the site to get you started."
   ]
  },
  {
   "cell_type": "markdown",
   "metadata": {},
   "source": [
    "## Contents\n",
    "- [Prerequisites](#toc1_)    \n",
    "- [Setting up](#toc2_)    \n",
    "  - [Import yearly cleanup script](#toc2_1_)    \n",
    "  - [Specify the year](#toc2_2_)    \n",
    "  - [Retrieve matching release folders](#toc2_3_)    \n",
    "- [Creating the yearly folder](#toc3_)    \n",
    "  - [Create the yearly folder](#toc3_1_)    \n",
    "  - [Move releases into yearly folder](#toc3_2_)    \n",
    "  - [Create yearly listing page](#toc3_3_)    \n",
    "  - [Edit the yearly listing page](#toc3_4_)    \n",
    "  - [Retrieve moved releases](#toc3_5_)    \n",
    "  - [Add moved releases to listing page](#toc3_6_)    \n",
    "- [Updating sidebar and links](#toc4_)    \n",
    "  - [Add yearly release folder to sidebar](#toc4_1_)    \n",
    "  - [Move year end marker](#toc4_2_)    \n",
    "  - [Fix broken filepaths](#toc4_3_)    \n",
    "  - [Retrieve relative paths](#toc4_4_)    \n",
    "- [Next steps](#toc5_)    \n",
    "  - [Show files to commit](#toc5_1_)    \n",
    "  - [Preview changes](#toc5_2_)    \n",
    "  - [Wrap it up](#toc5_3_)    \n",
    "\n",
    "<!-- vscode-jupyter-toc-config\n",
    "\tnumbering=false\n",
    "\tanchor=true\n",
    "\tflat=false\n",
    "\tminLevel=2\n",
    "\tmaxLevel=4\n",
    "\t/vscode-jupyter-toc-config -->\n",
    "<!-- THIS CELL WILL BE REPLACED ON TOC UPDATE. DO NOT WRITE YOUR TEXT IN THIS CELL -->"
   ]
  },
  {
   "cell_type": "markdown",
   "metadata": {},
   "source": [
    "<a id='toc1_'></a>\n",
    "\n",
    "## Prerequisites \n",
    "\n",
    "<div class=\"alert alert-block alert-info\" style=\"background-color: #B5B5B510; color: black; border: 1px solid #083E44; border-left-width: 5px; box-shadow: 2px 2px 4px rgba(0, 0, 0, 0.2);border-radius: 5px;\"><span style=\"color: #083E44;\"><b>Refer our release notes guide for the full steps needed before running this notebook:</b></span>\n",
    "<br></br>\n",
    "<a href=\"https://www.notion.so/validmind/Create-Release-Notes-c4291bb92f644c5eb490cc21a8a79ca5?pvs=4#0fd19127eb128090b9fde4965384be5a\" style=\"color: #DE257E;\"><b>Create Release Notes — Yearly release cleanup</b></a></div>\n",
    "\n",
    "This process assumes you have knowledge of how to work with GitHub, including managing release tags, sending commits, and creating pull requests. \n",
    "\n",
    "- [ ] ALL releases from the previous year should be ready to be collated at the beginning of the new year.\n",
    "- [ ] You should be on a separate branch associated to the Story for the release notes cleanup before you begin."
   ]
  },
  {
   "cell_type": "markdown",
   "metadata": {},
   "source": [
    "<a id='toc2_'></a>\n",
    "\n",
    "## Setting up "
   ]
  },
  {
   "cell_type": "markdown",
   "metadata": {},
   "source": [
    "<a id='toc2_1_'></a>\n",
    "\n",
    "### Import yearly cleanup script \n",
    "\n",
    "This cell imports our custom `yearly_cleanup.py` script for use with a shorted alias, including any necessary dependencies."
   ]
  },
  {
   "cell_type": "code",
   "execution_count": null,
   "metadata": {},
   "outputs": [],
   "source": [
    "import yearly_cleanup as yc"
   ]
  },
  {
   "cell_type": "markdown",
   "metadata": {},
   "source": [
    "<a id='toc2_2_'></a>\n",
    "\n",
    "### Specify the year \n",
    "\n",
    "You'll be asked to enter the year of releases to run the cleanup script on.\n",
    "\n",
    "**Leave blank for the default year, which is set to the previous year.**"
   ]
  },
  {
   "cell_type": "code",
   "execution_count": null,
   "metadata": {},
   "outputs": [],
   "source": [
    "year = yc.get_year()"
   ]
  },
  {
   "cell_type": "markdown",
   "metadata": {},
   "source": [
    "<a id='toc2_3_'></a>\n",
    "\n",
    "### Retrieve matching release folders \n",
    "\n",
    "This retrieves a list of release folders in `~site/releases/` that match your specified year.\n",
    "\n",
    "**The list below will return the files sorted alphabetically for your review, like how they display in the file tree.**"
   ]
  },
  {
   "cell_type": "code",
   "execution_count": null,
   "metadata": {},
   "outputs": [],
   "source": [
    "yc.get_yearly_releases(year)"
   ]
  },
  {
   "cell_type": "markdown",
   "metadata": {},
   "source": [
    "<a id='toc3_'></a>\n",
    "\n",
    "## Creating the yearly folder "
   ]
  },
  {
   "cell_type": "markdown",
   "metadata": {},
   "source": [
    "<a id='toc3_1_'></a>\n",
    "\n",
    "### Create the yearly folder \n",
    "\n",
    "The following cell creates a new subdirectory in `~site/releases/` based on your specified year."
   ]
  },
  {
   "cell_type": "code",
   "execution_count": null,
   "metadata": {},
   "outputs": [],
   "source": [
    "yearly_path = yc.create_year_folder(year)"
   ]
  },
  {
   "cell_type": "markdown",
   "metadata": {},
   "source": [
    "<a id='toc3_2_'></a>\n",
    "\n",
    "### Move releases into yearly folder \n",
    "\n",
    "Once we have the folder available, your matching release folders will get moved into this new yearly subdirectory."
   ]
  },
  {
   "cell_type": "code",
   "execution_count": null,
   "metadata": {},
   "outputs": [],
   "source": [
    "yc.move_yearly_releases(yearly_path, yc.release_folders)"
   ]
  },
  {
   "cell_type": "markdown",
   "metadata": {},
   "source": [
    "<a id='toc3_3_'></a>\n",
    "\n",
    "### Create yearly listing page \n",
    "\n",
    "This cell copies the template from `~internal/templates/yearly-releases.qmd` and slots it into the new yearly folder as `{year}-releases.qmd` so we can begin building the yearly listings."
   ]
  },
  {
   "cell_type": "code",
   "execution_count": null,
   "metadata": {},
   "outputs": [],
   "source": [
    "yearly_release = yc.copy_template(yearly_path, year)"
   ]
  },
  {
   "cell_type": "markdown",
   "metadata": {},
   "source": [
    "<a id='toc3_4_'></a>\n",
    "\n",
    "### Edit the yearly listing page \n",
    "\n",
    "Before we can add the listings for the moved releases to the new yearly page, we need to make sure the following has the right year:\n",
    "\n",
    "- The title\n",
    "- The listing ID\n",
    "- The listing embed itself\n",
    "\n",
    "This cell takes care of all of the above for us."
   ]
  },
  {
   "cell_type": "code",
   "execution_count": null,
   "metadata": {},
   "outputs": [],
   "source": [
    "if yearly_release:\n",
    "    yc.update_template(yearly_release, year)"
   ]
  },
  {
   "cell_type": "markdown",
   "metadata": {},
   "source": [
    "<a id='toc3_5_'></a>\n",
    "\n",
    "### Retrieve moved releases \n",
    "\n",
    "This cell returns the `release-notes.qmd` filepaths for all the release folders we just moved into the yearly subdirectory."
   ]
  },
  {
   "cell_type": "code",
   "execution_count": null,
   "metadata": {},
   "outputs": [],
   "source": [
    "release_listings = yc.get_release_listings(yearly_path)"
   ]
  },
  {
   "cell_type": "markdown",
   "metadata": {},
   "source": [
    "<a id='toc3_6_'></a>\n",
    "\n",
    "### Add moved releases to listing page \n",
    "\n",
    "Next, we'll insert the moved release files into the listing for the yearly roundup page sorted by the release dates in descending order (newest first)."
   ]
  },
  {
   "cell_type": "code",
   "execution_count": null,
   "metadata": {},
   "outputs": [],
   "source": [
    "if release_listings:\n",
    "    yc.update_listing(yearly_release, release_listings)"
   ]
  },
  {
   "cell_type": "markdown",
   "metadata": {},
   "source": [
    "<a id='toc4_'></a>\n",
    "\n",
    "## Updating sidebar and links "
   ]
  },
  {
   "cell_type": "markdown",
   "metadata": {},
   "source": [
    "<a id='toc4_1_'></a>\n",
    "\n",
    "### Add yearly release folder to sidebar \n",
    "\n",
    "Since we moved our releases for the specified year into their own subfolder, we'll need to update the sidebar in `_quarto.yml` to accomodate.\n",
    "\n",
    "**This cell takes all the release filepaths we just moved into our yearly folder and shoves them into a `contents:` accordion menu with the new `{year}-.releases.qmd` listing page as the landing page.** \n"
   ]
  },
  {
   "cell_type": "code",
   "execution_count": null,
   "metadata": {},
   "outputs": [],
   "source": [
    "yc.update_quarto_yaml(year)"
   ]
  },
  {
   "cell_type": "markdown",
   "metadata": {},
   "source": [
    "<a id='toc4_2_'></a>\n",
    "\n",
    "### Move year end marker \n",
    "\n",
    "This cell moves our marker for where the current year's releases end to the top above our yearly accordion menu so that we are ready for the new year."
   ]
  },
  {
   "cell_type": "code",
   "execution_count": null,
   "metadata": {},
   "outputs": [],
   "source": [
    "yc.move_year_marker()"
   ]
  },
  {
   "cell_type": "markdown",
   "metadata": {},
   "source": [
    "<a id='toc4_3_'></a>\n",
    "\n",
    "### Fix broken filepaths \n",
    "\n",
    "This cell looks for absolute filepaths in `.qmd` and `.yml` files in `~site/` matching `releases/{year}-` and renames them `releases/{year}/{year}-` to accomodate for the releases we moved."
   ]
  },
  {
   "cell_type": "code",
   "execution_count": null,
   "metadata": {},
   "outputs": [],
   "source": [
    "yc.update_paths(year)"
   ]
  },
  {
   "cell_type": "markdown",
   "metadata": {},
   "source": [
    "<a id='toc4_4_'></a>\n",
    "\n",
    "### Retrieve relative paths \n",
    "\n",
    "This cell looks for relative paths (`../example.qmd`) in the `~site/releases/` folder that might need manual adjustment, such as in listings or any links that don't follow our proper `/root` convention but should. \n",
    "\n",
    "**You will ned to review these links and edit them if necessary to ensure that the filepaths are not broken after the move.**"
   ]
  },
  {
   "cell_type": "code",
   "execution_count": null,
   "metadata": {},
   "outputs": [],
   "source": [
    "yc.search_links(yearly_path)"
   ]
  },
  {
   "cell_type": "markdown",
   "metadata": {},
   "source": [
    "<a id='toc5_'></a>\n",
    "\n",
    "## Next steps "
   ]
  },
  {
   "cell_type": "markdown",
   "metadata": {},
   "source": [
    "<a id='toc5_1_'></a>\n",
    "\n",
    "### Show files to commit \n",
    "\n",
    "This block shows you the files changed or added you need to commit — it should omit any files in `~release-scripts/`. "
   ]
  },
  {
   "cell_type": "code",
   "execution_count": null,
   "metadata": {},
   "outputs": [],
   "source": [
    "%%bash\n",
    "git status | grep -v 'release-scripts/'"
   ]
  },
  {
   "cell_type": "markdown",
   "metadata": {},
   "source": [
    "<a id='toc5_2_'></a>\n",
    "\n",
    "### Preview changes \n",
    "\n",
    "Run this cell to preview the site, including the new `{year}-releases.qmd` listing file you just created. "
   ]
  },
  {
   "cell_type": "code",
   "execution_count": null,
   "metadata": {},
   "outputs": [],
   "source": [
    "%%bash\n",
    "cd ../site\n",
    "quarto preview"
   ]
  },
  {
   "cell_type": "markdown",
   "metadata": {},
   "source": [
    "<div class=\"alert alert-block alert-info\" style=\"background-color: #B5B5B510; color: black; border: 1px solid #083E44; border-left-width: 5px; box-shadow: 2px 2px 4px rgba(0, 0, 0, 0.2);border-radius: 5px;\"><span style=\"color: #083E44;\"><b>When you're done with the preview, please restart the kernel.</b></span>\n",
    "<br></br>\n",
    "Make sure that when you commit your changes to remote, do NOT include the changes in the <code>~/release-scripts/</code> folder as that would commit changed notebook with the output cells.</div>"
   ]
  },
  {
   "cell_type": "markdown",
   "metadata": {},
   "source": [
    "<a id='toc5_3_'></a>\n",
    "\n",
    "### Wrap it up \n",
    "\n",
    "**You may want to send a commit up to remote before you begin editing so you have a backup.**\n",
    "\n",
    "- [ ] Make sure that the new yearly accordion menu displays as expected in the sidebar under `About > Releases`.\n",
    "- [ ] Double-check the files edited by `Fix broken filepaths` to ensure that the new links resolve correctly.\n",
    "- [ ] Resolve any relative links found in `Retrieve relative paths` that were broken by the move. \n",
    "- [ ] Review the summaries at the top of each release page to make sure they look good on the listing tiles."
   ]
  }
 ],
 "metadata": {
  "kernelspec": {
   "display_name": "Python 3",
   "language": "python",
   "name": "python3"
  },
  "language_info": {
   "name": "python",
   "version": "3.10.14"
  }
 },
 "nbformat": 4,
 "nbformat_minor": 2
}
