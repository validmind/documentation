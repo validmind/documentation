{
 "cells": [
  {
   "cell_type": "markdown",
   "metadata": {
    "vscode": {
     "languageId": "plaintext"
    }
   },
   "source": [
    "Import yearly cleanup script"
   ]
  },
  {
   "cell_type": "code",
   "execution_count": 1,
   "metadata": {},
   "outputs": [],
   "source": [
    "import yearly_cleanup as yc"
   ]
  },
  {
   "cell_type": "markdown",
   "metadata": {},
   "source": [
    "Input your cleanup year"
   ]
  },
  {
   "cell_type": "code",
   "execution_count": 2,
   "metadata": {},
   "outputs": [
    {
     "name": "stdout",
     "output_type": "stream",
     "text": [
      "Rounding up releases for: 2024\n",
      "\n"
     ]
    }
   ],
   "source": [
    "year = yc.get_year()"
   ]
  },
  {
   "cell_type": "markdown",
   "metadata": {},
   "source": [
    "Retrieve all the subdirectories matching your cleanup year"
   ]
  },
  {
   "cell_type": "code",
   "execution_count": 3,
   "metadata": {},
   "outputs": [
    {
     "name": "stdout",
     "output_type": "stream",
     "text": [
      "Found 13 release folders for year 2024:\n"
     ]
    },
    {
     "data": {
      "text/plain": [
       "['../site/releases/2024-aug-13',\n",
       " '../site/releases/2024-dec-06',\n",
       " '../site/releases/2024-dec-24',\n",
       " '../site/releases/2024-feb-14',\n",
       " '../site/releases/2024-jan-18',\n",
       " '../site/releases/2024-jan-26',\n",
       " '../site/releases/2024-jul-22',\n",
       " '../site/releases/2024-jun-10',\n",
       " '../site/releases/2024-mar-27',\n",
       " '../site/releases/2024-may-22',\n",
       " '../site/releases/2024-oct-22',\n",
       " '../site/releases/2024-sep-09',\n",
       " '../site/releases/2024-sep-25']"
      ]
     },
     "execution_count": 3,
     "metadata": {},
     "output_type": "execute_result"
    }
   ],
   "source": [
    "yc.get_yearly_releases(year)"
   ]
  },
  {
   "cell_type": "markdown",
   "metadata": {},
   "source": [
    "Create the new yearly folder"
   ]
  },
  {
   "cell_type": "code",
   "execution_count": 4,
   "metadata": {},
   "outputs": [
    {
     "name": "stdout",
     "output_type": "stream",
     "text": [
      "Created folder: ../site/releases/2024/\n",
      "\n"
     ]
    }
   ],
   "source": [
    "yearly_path = yc.create_year_folder(year)"
   ]
  },
  {
   "cell_type": "markdown",
   "metadata": {},
   "source": [
    "Move the subdirectories matching your cleanup year to the new yearly folder"
   ]
  },
  {
   "cell_type": "code",
   "execution_count": 5,
   "metadata": {},
   "outputs": [
    {
     "name": "stdout",
     "output_type": "stream",
     "text": [
      "Moved: '../site/releases/2024-aug-13' to '../site/releases/2024/2024-aug-13'\n",
      "Moved: '../site/releases/2024-dec-06' to '../site/releases/2024/2024-dec-06'\n",
      "Moved: '../site/releases/2024-dec-24' to '../site/releases/2024/2024-dec-24'\n",
      "Moved: '../site/releases/2024-feb-14' to '../site/releases/2024/2024-feb-14'\n",
      "Moved: '../site/releases/2024-jan-18' to '../site/releases/2024/2024-jan-18'\n",
      "Moved: '../site/releases/2024-jan-26' to '../site/releases/2024/2024-jan-26'\n",
      "Moved: '../site/releases/2024-jul-22' to '../site/releases/2024/2024-jul-22'\n",
      "Moved: '../site/releases/2024-jun-10' to '../site/releases/2024/2024-jun-10'\n",
      "Moved: '../site/releases/2024-mar-27' to '../site/releases/2024/2024-mar-27'\n",
      "Moved: '../site/releases/2024-may-22' to '../site/releases/2024/2024-may-22'\n",
      "Moved: '../site/releases/2024-oct-22' to '../site/releases/2024/2024-oct-22'\n",
      "Moved: '../site/releases/2024-sep-09' to '../site/releases/2024/2024-sep-09'\n",
      "Moved: '../site/releases/2024-sep-25' to '../site/releases/2024/2024-sep-25'\n"
     ]
    }
   ],
   "source": [
    "yc.move_yearly_releases(yearly_path, yc.release_folders)"
   ]
  },
  {
   "cell_type": "markdown",
   "metadata": {},
   "source": [
    "Copies the yearly release template into the new yearly folder"
   ]
  },
  {
   "cell_type": "code",
   "execution_count": 6,
   "metadata": {},
   "outputs": [
    {
     "name": "stdout",
     "output_type": "stream",
     "text": [
      "Copied ../internal/templates/yearly-releases.qmd template to: '../site/releases/2024/2024-releases.qmd'\n"
     ]
    }
   ],
   "source": [
    "yearly_release = yc.copy_template(yearly_path, year)"
   ]
  },
  {
   "cell_type": "markdown",
   "metadata": {},
   "source": [
    "- Edit the title of the new yearly release page\n",
    "- Edit the listing ID of the new yearly release page\n",
    "- Change the new listing embed on the yearly release page"
   ]
  },
  {
   "cell_type": "code",
   "execution_count": 7,
   "metadata": {},
   "outputs": [
    {
     "name": "stdout",
     "output_type": "stream",
     "text": [
      "Updated '../site/releases/2024/2024-releases.qmd' with the year 2024\n",
      "Edited lines: [3, 9, 19]\n"
     ]
    }
   ],
   "source": [
    "if yearly_release:\n",
    "    yc.update_template(yearly_release, year)"
   ]
  },
  {
   "cell_type": "markdown",
   "metadata": {},
   "source": [
    "Get the moved folders to add to the listing"
   ]
  },
  {
   "cell_type": "code",
   "execution_count": 8,
   "metadata": {},
   "outputs": [
    {
     "name": "stdout",
     "output_type": "stream",
     "text": [
      "Found 13 release notes in ../site/releases/2024/:\n",
      "2024-dec-24/release-notes.qmd\n",
      "2024-dec-06/release-notes.qmd\n",
      "2024-oct-22/release-notes.qmd\n",
      "2024-sep-25/release-notes.qmd\n",
      "2024-sep-09/release-notes.qmd\n",
      "2024-aug-13/release-notes.qmd\n",
      "2024-jul-22/release-notes.qmd\n",
      "2024-jun-10/release-notes.qmd\n",
      "2024-may-22/release-notes.qmd\n",
      "2024-mar-27/release-notes.qmd\n",
      "2024-feb-14/release-notes.qmd\n",
      "2024-jan-26/release-notes.qmd\n",
      "2024-jan-18/release-notes.qmd\n"
     ]
    }
   ],
   "source": [
    "release_listings = yc.get_release_listings(yearly_path)"
   ]
  },
  {
   "cell_type": "markdown",
   "metadata": {},
   "source": [
    "Add the new release files to the listing"
   ]
  },
  {
   "cell_type": "code",
   "execution_count": 9,
   "metadata": {},
   "outputs": [
    {
     "name": "stdout",
     "output_type": "stream",
     "text": [
      "Updated '../site/releases/2024/2024-releases.qmd' with release listings\n",
      "Added lines: [15, 16, 17, 18, 19, 20, 21, 22, 23, 24, 25, 26, 27]\n"
     ]
    }
   ],
   "source": [
    "if release_listings:\n",
    "    yc.update_listing(yearly_release, release_listings)"
   ]
  },
  {
   "cell_type": "markdown",
   "metadata": {},
   "source": [
    "Update _quarto.yml with new yearly sidebar folder"
   ]
  },
  {
   "cell_type": "code",
   "execution_count": 10,
   "metadata": {},
   "outputs": [
    {
     "name": "stdout",
     "output_type": "stream",
     "text": [
      "Modified lines: [173, 174, 175, 176, 177, 178, 179, 180, 181, 182, 183, 184, 185]\n",
      "Added 2024 releases folder to the sidebar in _quarto.yml\n",
      "Relocated CURRENT-YEAR-END-MARKER in _quarto.yml from line 188 to line 173\n"
     ]
    }
   ],
   "source": [
    "yc.update_quarto_yaml(year)\n",
    "yc.move_year_marker()"
   ]
  },
  {
   "cell_type": "markdown",
   "metadata": {},
   "source": [
    "Fix broken filepaths"
   ]
  },
  {
   "cell_type": "code",
   "execution_count": 11,
   "metadata": {},
   "outputs": [
    {
     "name": "stdout",
     "output_type": "stream",
     "text": [
      "Updated: ../site/_quarto.yml\n",
      "  Line 176:\n",
      "    Before: - releases/2024-dec-24/release-notes.qmd\n",
      "    After: - releases/2024/2024-dec-24/release-notes.qmd\n",
      "  Line 177:\n",
      "    Before: - releases/2024-dec-06/release-notes.qmd\n",
      "    After: - releases/2024/2024-dec-06/release-notes.qmd\n",
      "  Line 178:\n",
      "    Before: - releases/2024-oct-22/release-notes.qmd\n",
      "    After: - releases/2024/2024-oct-22/release-notes.qmd\n",
      "  Line 179:\n",
      "    Before: - releases/2024-sep-25/release-notes.qmd\n",
      "    After: - releases/2024/2024-sep-25/release-notes.qmd\n",
      "  Line 180:\n",
      "    Before: - releases/2024-sep-09/release-notes.qmd\n",
      "    After: - releases/2024/2024-sep-09/release-notes.qmd\n",
      "  Line 181:\n",
      "    Before: - releases/2024-aug-13/release-notes.qmd\n",
      "    After: - releases/2024/2024-aug-13/release-notes.qmd\n",
      "  Line 182:\n",
      "    Before: - releases/2024-jul-22/release-notes.qmd\n",
      "    After: - releases/2024/2024-jul-22/release-notes.qmd\n",
      "  Line 183:\n",
      "    Before: - releases/2024-jun-10/release-notes.qmd\n",
      "    After: - releases/2024/2024-jun-10/release-notes.qmd\n",
      "  Line 184:\n",
      "    Before: - releases/2024-may-22/release-notes.qmd\n",
      "    After: - releases/2024/2024-may-22/release-notes.qmd\n",
      "  Line 185:\n",
      "    Before: - releases/2024-mar-27/highlights.qmd\n",
      "    After: - releases/2024/2024-mar-27/highlights.qmd\n",
      "  Line 186:\n",
      "    Before: - releases/2024-feb-14/highlights.qmd\n",
      "    After: - releases/2024/2024-feb-14/highlights.qmd\n",
      "  Line 187:\n",
      "    Before: - releases/2024-jan-26/highlights.qmd\n",
      "    After: - releases/2024/2024-jan-26/highlights.qmd\n",
      "  Line 188:\n",
      "    Before: - releases/2024-jan-18/highlights.qmd\n",
      "    After: - releases/2024/2024-jan-18/highlights.qmd\n",
      "Updated: ../site/index.qmd\n",
      "  Line 49:\n",
      "    Before: - /releases/2024-dec-24/release-notes.qmd\n",
      "    After: - /releases/2024/2024-dec-24/release-notes.qmd\n",
      "  Line 50:\n",
      "    Before: - /releases/2024-dec-06/release-notes.qmd\n",
      "    After: - /releases/2024/2024-dec-06/release-notes.qmd\n",
      "  Line 51:\n",
      "    Before: - /releases/2024-oct-22/release-notes.qmd\n",
      "    After: - /releases/2024/2024-oct-22/release-notes.qmd\n",
      "  Line 52:\n",
      "    Before: - /releases/2024-sep-25/release-notes.qmd\n",
      "    After: - /releases/2024/2024-sep-25/release-notes.qmd\n",
      "  Line 53:\n",
      "    Before: - /releases/2024-sep-09/release-notes.qmd\n",
      "    After: - /releases/2024/2024-sep-09/release-notes.qmd\n",
      "  Line 54:\n",
      "    Before: - /releases/2024-aug-13/release-notes.qmd\n",
      "    After: - /releases/2024/2024-aug-13/release-notes.qmd\n",
      "Updated: ../site/releases/2024/2024-oct-22/release-notes.qmd\n",
      "  Line 35:\n",
      "    Before: ![Ongoing monitoring of a model](/releases/2024-oct-22/358433496-02a6d5b9-0521-4110-b45c-b91e06798a97.png){fig-alt=\"An image showing some ongoing monitoring data on the ValidMind Platform\" .screenshot}\n",
      "    After: ![Ongoing monitoring of a model](/releases/2024/2024-oct-22/358433496-02a6d5b9-0521-4110-b45c-b91e06798a97.png){fig-alt=\"An image showing some ongoing monitoring data on the ValidMind Platform\" .screenshot}\n",
      "  Line 220:\n",
      "    Before: ![Adding a `Metric Over Time` block to model documentation](/releases/2024-oct-22/366145578-ce832e92-b8f2-47f1-b2f8-5d4b299fbe4a.png){fig-alt=\"A screenshot of the ValidMind Platform that shows the new Metric Over time option when adding a new block to model documentation\" .screenshot group=\"metric\"}\n",
      "    After: ![Adding a `Metric Over Time` block to model documentation](/releases/2024/2024-oct-22/366145578-ce832e92-b8f2-47f1-b2f8-5d4b299fbe4a.png){fig-alt=\"A screenshot of the ValidMind Platform that shows the new Metric Over time option when adding a new block to model documentation\" .screenshot group=\"metric\"}\n",
      "  Line 222:\n",
      "    Before: ![Selecting one of the available blocks](/releases/2024-oct-22/366145581-b2afc5aa-5a37-4639-8f11-63fea34191c7.png){fig-alt=\"A screenshot of the ValidMind Platform that shows the available blocks you can choose from when adding a new block to model documentation\" .screenshot group=\"metric\"}\n",
      "    After: ![Selecting one of the available blocks](/releases/2024/2024-oct-22/366145581-b2afc5aa-5a37-4639-8f11-63fea34191c7.png){fig-alt=\"A screenshot of the ValidMind Platform that shows the available blocks you can choose from when adding a new block to model documentation\" .screenshot group=\"metric\"}\n",
      "  Line 226:\n",
      "    Before: ![Metric over time graph in model documentation](/releases/2024-oct-22/366145585-937d5018-ee21-47df-b9d2-b2da5125046d.png){fig-alt=\"A screenshot of the ValidMind Platform that shows a graph for Metric Over time output\" .screenshot group=\"metric\"}\n",
      "    After: ![Metric over time graph in model documentation](/releases/2024/2024-oct-22/366145585-937d5018-ee21-47df-b9d2-b2da5125046d.png){fig-alt=\"A screenshot of the ValidMind Platform that shows a graph for Metric Over time output\" .screenshot group=\"metric\"}\n",
      "  Line 318:\n",
      "    Before: ![Sample attachments](/releases/2024-oct-22/368770367-a7f6b364-7e7a-483e-8bc8-01a0ac9c7158.png){fig-alt=\"A screenshot of the ValidMind Platform that shows two files which have been added as attachments\" .screenshot}\n",
      "    After: ![Sample attachments](/releases/2024/2024-oct-22/368770367-a7f6b364-7e7a-483e-8bc8-01a0ac9c7158.png){fig-alt=\"A screenshot of the ValidMind Platform that shows two files which have been added as attachments\" .screenshot}\n",
      "  Line 359:\n",
      "    Before: ![Adding the currency number type](/releases/2024-oct-22/368772301-4fb7e8e1-5a43-490d-b17d-a80b7d30cfba.png){fig-alt=\"A screenshot of the ValidMind Platform that shows a new model inventory field being added for the currency type\" .screenshot group=\"currency\"}\n",
      "    After: ![Adding the currency number type](/releases/2024/2024-oct-22/368772301-4fb7e8e1-5a43-490d-b17d-a80b7d30cfba.png){fig-alt=\"A screenshot of the ValidMind Platform that shows a new model inventory field being added for the currency type\" .screenshot group=\"currency\"}\n",
      "  Line 363:\n",
      "    Before: ![Currency type in model documentation](/releases/2024-oct-22/367452366-50f19b63-1bc4-438b-8fd7-702e6b2f5ca9.png){width=\"80%\" fig-alt=\"A screenshot of the ValidMind Platform that shows the currency type in model documentation\" .screenshot group=\"currency\"}\n",
      "    After: ![Currency type in model documentation](/releases/2024/2024-oct-22/367452366-50f19b63-1bc4-438b-8fd7-702e6b2f5ca9.png){width=\"80%\" fig-alt=\"A screenshot of the ValidMind Platform that shows the currency type in model documentation\" .screenshot group=\"currency\"}\n",
      "Updated: ../site/training/validator-fundamentals/validator-fundamentals.qmd\n",
      "  Line 470:\n",
      "    Before: ![](/releases/2024-may-22/generate-with-ai.png){fig-alt=\"A screenshot showing a text editor with a toolbar and the Generate with AI button on the right\"}\n",
      "    After: ![](/releases/2024/2024-may-22/generate-with-ai.png){fig-alt=\"A screenshot showing a text editor with a toolbar and the Generate with AI button on the right\"}\n",
      "  Line 476:\n",
      "    Before: ![](/releases/2024-may-22/ai-content-builder.png){fig-alt=\"A screenshot showing a modal with AI-generated text\"}\n",
      "    After: ![](/releases/2024/2024-may-22/ai-content-builder.png){fig-alt=\"A screenshot showing a modal with AI-generated text\"}\n",
      "Updated: ../site/training/developer-fundamentals/developer-fundamentals.qmd\n",
      "  Line 454:\n",
      "    Before: ![](/releases/2024-may-22/generate-with-ai.png){fig-alt=\"A screenshot showing a text editor with a toolbar and the Generate with AI button on the right\" .screenshot}\n",
      "    After: ![](/releases/2024/2024-may-22/generate-with-ai.png){fig-alt=\"A screenshot showing a text editor with a toolbar and the Generate with AI button on the right\" .screenshot}\n",
      "  Line 460:\n",
      "    Before: ![](/releases/2024-may-22/ai-content-builder.png){fig-alt=\"A screenshot showing a modal with AI-generated text\" .screenshot}\n",
      "    After: ![](/releases/2024/2024-may-22/ai-content-builder.png){fig-alt=\"A screenshot showing a modal with AI-generated text\" .screenshot}\n"
     ]
    }
   ],
   "source": [
    "yc.update_paths(year)"
   ]
  },
  {
   "cell_type": "markdown",
   "metadata": {},
   "source": [
    "Return list of lines with relative links (like in listings) that may need manual adjustment"
   ]
  },
  {
   "cell_type": "code",
   "execution_count": 12,
   "metadata": {},
   "outputs": [
    {
     "name": "stdout",
     "output_type": "stream",
     "text": [
      "File: ../site/releases/2024/2024-oct-22/release-notes.qmd\n",
      "- Line 9: - path: ../../training/training.qmd\n",
      "- Line 53: [Ongoing monitoring](../../guide/monitoring/ongoing-monitoring.qmd){.button .button-green}\n",
      "File: ../site/releases/2024/2024-dec-06/release-notes.qmd\n",
      "- Line 13: - path: ../../about/overview-model-documentation.qmd\n",
      "- Line 23: - path: ../../about/overview-model-risk-management.qmd\n",
      "- Line 33: - path: ../../training/training.qmd\n",
      "File: ../site/releases/2024/2024-may-22/release-notes.qmd\n",
      "- Line 9: - path: ../../training/training.qmd\n",
      "File: ../site/releases/2024/2024-jul-22/release-notes.qmd\n",
      "- Line 9: - path: ../../training/training.qmd\n",
      "\n",
      "Search completed: 4 files matched, 7 matching lines found\n"
     ]
    }
   ],
   "source": [
    "yc.search_links(yearly_path)"
   ]
  }
 ],
 "metadata": {
  "language_info": {
   "name": "python"
  }
 },
 "nbformat": 4,
 "nbformat_minor": 2
}
