{
 "cells": [
  {
   "cell_type": "markdown",
   "metadata": {
    "vscode": {
     "languageId": "plaintext"
    }
   },
   "source": [
    "Import yearly cleanup script"
   ]
  },
  {
   "cell_type": "code",
   "execution_count": 1,
   "metadata": {},
   "outputs": [],
   "source": [
    "import yearly_cleanup as yc"
   ]
  },
  {
   "cell_type": "markdown",
   "metadata": {},
   "source": [
    "Input your cleanup year"
   ]
  },
  {
   "cell_type": "code",
   "execution_count": 2,
   "metadata": {},
   "outputs": [
    {
     "name": "stdout",
     "output_type": "stream",
     "text": [
      "Rounding up releases for: 2024\n",
      "\n"
     ]
    }
   ],
   "source": [
    "year = yc.get_year()"
   ]
  },
  {
   "cell_type": "markdown",
   "metadata": {},
   "source": [
    "Retrieve all the subdirectories matching your cleanup year"
   ]
  },
  {
   "cell_type": "code",
   "execution_count": 3,
   "metadata": {},
   "outputs": [
    {
     "name": "stdout",
     "output_type": "stream",
     "text": [
      "Found 13 release folders for year 2024:\n"
     ]
    },
    {
     "data": {
      "text/plain": [
       "['../site/releases/2024-aug-13',\n",
       " '../site/releases/2024-dec-06',\n",
       " '../site/releases/2024-dec-24',\n",
       " '../site/releases/2024-feb-14',\n",
       " '../site/releases/2024-jan-18',\n",
       " '../site/releases/2024-jan-26',\n",
       " '../site/releases/2024-jul-22',\n",
       " '../site/releases/2024-jun-10',\n",
       " '../site/releases/2024-mar-27',\n",
       " '../site/releases/2024-may-22',\n",
       " '../site/releases/2024-oct-22',\n",
       " '../site/releases/2024-sep-09',\n",
       " '../site/releases/2024-sep-25']"
      ]
     },
     "execution_count": 3,
     "metadata": {},
     "output_type": "execute_result"
    }
   ],
   "source": [
    "yc.get_yearly_releases(year)"
   ]
  },
  {
   "cell_type": "markdown",
   "metadata": {},
   "source": [
    "Create the new yearly folder"
   ]
  },
  {
   "cell_type": "code",
   "execution_count": 4,
   "metadata": {},
   "outputs": [
    {
     "name": "stdout",
     "output_type": "stream",
     "text": [
      "Created folder: ../site/releases/2024/\n",
      "\n"
     ]
    }
   ],
   "source": [
    "yearly_path = yc.create_year_folder(year)"
   ]
  },
  {
   "cell_type": "markdown",
   "metadata": {},
   "source": [
    "Move the subdirectories matching your cleanup year to the new yearly folder"
   ]
  },
  {
   "cell_type": "code",
   "execution_count": 5,
   "metadata": {},
   "outputs": [
    {
     "name": "stdout",
     "output_type": "stream",
     "text": [
      "Moved: '../site/releases/2024-aug-13' to '../site/releases/2024/2024-aug-13'\n",
      "Moved: '../site/releases/2024-dec-06' to '../site/releases/2024/2024-dec-06'\n",
      "Moved: '../site/releases/2024-dec-24' to '../site/releases/2024/2024-dec-24'\n",
      "Moved: '../site/releases/2024-feb-14' to '../site/releases/2024/2024-feb-14'\n",
      "Moved: '../site/releases/2024-jan-18' to '../site/releases/2024/2024-jan-18'\n",
      "Moved: '../site/releases/2024-jan-26' to '../site/releases/2024/2024-jan-26'\n",
      "Moved: '../site/releases/2024-jul-22' to '../site/releases/2024/2024-jul-22'\n",
      "Moved: '../site/releases/2024-jun-10' to '../site/releases/2024/2024-jun-10'\n",
      "Moved: '../site/releases/2024-mar-27' to '../site/releases/2024/2024-mar-27'\n",
      "Moved: '../site/releases/2024-may-22' to '../site/releases/2024/2024-may-22'\n",
      "Moved: '../site/releases/2024-oct-22' to '../site/releases/2024/2024-oct-22'\n",
      "Moved: '../site/releases/2024-sep-09' to '../site/releases/2024/2024-sep-09'\n",
      "Moved: '../site/releases/2024-sep-25' to '../site/releases/2024/2024-sep-25'\n"
     ]
    }
   ],
   "source": [
    "yc.move_yearly_releases(yearly_path, yc.release_folders)"
   ]
  },
  {
   "cell_type": "markdown",
   "metadata": {},
   "source": [
    "Copies the yearly release template into the new yearly folder"
   ]
  },
  {
   "cell_type": "code",
   "execution_count": 6,
   "metadata": {},
   "outputs": [
    {
     "name": "stdout",
     "output_type": "stream",
     "text": [
      "Copied ../internal/templates/yearly-releases.qmd template to: '../site/releases/2024/2024-releases.qmd'\n"
     ]
    }
   ],
   "source": [
    "yearly_release = yc.copy_template(yearly_path, year)"
   ]
  },
  {
   "cell_type": "markdown",
   "metadata": {},
   "source": [
    "- Edit the title of the new yearly release page\n",
    "- Edit the listing ID of the new yearly release page\n",
    "- Change the new listing embed on the yearly release page"
   ]
  },
  {
   "cell_type": "code",
   "execution_count": 7,
   "metadata": {},
   "outputs": [
    {
     "name": "stdout",
     "output_type": "stream",
     "text": [
      "Updated '../site/releases/2024/2024-releases.qmd' with the year 2024. Edited lines: [3, 9, 19].\n"
     ]
    }
   ],
   "source": [
    "if yearly_release:\n",
    "    yc.update_template(yearly_release, year)"
   ]
  },
  {
   "cell_type": "markdown",
   "metadata": {},
   "source": [
    "Get the moved folders to add to the listing"
   ]
  },
  {
   "cell_type": "code",
   "execution_count": 8,
   "metadata": {},
   "outputs": [
    {
     "name": "stdout",
     "output_type": "stream",
     "text": [
      "Found 13 release notes in ../site/releases/2024/:\n",
      "2024-dec-24/release-notes.qmd\n",
      "2024-dec-06/release-notes.qmd\n",
      "2024-oct-22/release-notes.qmd\n",
      "2024-sep-25/release-notes.qmd\n",
      "2024-sep-09/release-notes.qmd\n",
      "2024-aug-13/release-notes.qmd\n",
      "2024-jul-22/release-notes.qmd\n",
      "2024-jun-10/release-notes.qmd\n",
      "2024-may-22/release-notes.qmd\n",
      "2024-mar-27/release-notes.qmd\n",
      "2024-feb-14/release-notes.qmd\n",
      "2024-jan-26/release-notes.qmd\n",
      "2024-jan-18/release-notes.qmd\n"
     ]
    }
   ],
   "source": [
    "release_listings = yc.get_release_listings(yearly_path)"
   ]
  },
  {
   "cell_type": "markdown",
   "metadata": {},
   "source": [
    "Add the new release files to the listing"
   ]
  },
  {
   "cell_type": "code",
   "execution_count": 9,
   "metadata": {},
   "outputs": [
    {
     "name": "stdout",
     "output_type": "stream",
     "text": [
      "Updated '../site/releases/2024/2024-releases.qmd' with release listings. Added lines: [15, 16, 17, 18, 19, 20, 21, 22, 23, 24, 25, 26, 27].\n"
     ]
    }
   ],
   "source": [
    "if release_listings:\n",
    "    yc.update_listing(yearly_release, release_listings)"
   ]
  },
  {
   "cell_type": "markdown",
   "metadata": {},
   "source": [
    "Update _quarto.yml with new yearly sidebar folder"
   ]
  },
  {
   "cell_type": "code",
   "execution_count": 10,
   "metadata": {},
   "outputs": [
    {
     "name": "stdout",
     "output_type": "stream",
     "text": [
      "Modified lines: [173, 174, 175, 176, 177, 178, 179, 180, 181, 182, 183, 184, 185]\n",
      "Added 2024 folder to the sidebar in _quarto.yml\n"
     ]
    }
   ],
   "source": [
    "yc.update_quarto_yaml(year)"
   ]
  },
  {
   "cell_type": "markdown",
   "metadata": {},
   "source": [
    "Fix broken filepaths"
   ]
  },
  {
   "cell_type": "code",
   "execution_count": null,
   "metadata": {},
   "outputs": [],
   "source": []
  }
 ],
 "metadata": {
  "language_info": {
   "name": "python"
  }
 },
 "nbformat": 4,
 "nbformat_minor": 2
}
