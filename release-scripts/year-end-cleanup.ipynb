{
 "cells": [
  {
   "cell_type": "markdown",
   "metadata": {},
   "source": [
    "# Year end release cleanup"
   ]
  },
  {
   "cell_type": "markdown",
   "metadata": {},
   "source": [
    "This notebook automatically moves a full year of releases into their own subdirectory under `~site/releases/` and collates the releases into their yearly listing page, including a preliminary tidy up of any links broken by moving these files. \n",
    "\n",
    "It's easiest to run this notebook at the start of the new year, when all the releases for the previous year are ready to be collated, thus requiring minimum adjustment from you.\n",
    "\n",
    "After running the notebook, you can locate the new yearly release subdirectory that inserted into our `_quarto.yml` sidebar in the About > Releases section for you to clean up further, along with a live preview of the site to get you started."
   ]
  },
  {
   "cell_type": "markdown",
   "metadata": {},
   "source": [
    "## Prerequisites \n",
    "\n",
    "<div class=\"alert alert-block alert-info\" style=\"background-color: #B5B5B510; color: black; border: 1px solid #083E44; border-left-width: 5px; box-shadow: 2px 2px 4px rgba(0, 0, 0, 0.2);border-radius: 5px;\"><span style=\"color: #083E44;\"><b>Refer our release notes guide for the full steps needed before running this notebook:</b></span>\n",
    "<br></br>\n",
    "<a href=\"https://www.notion.so/validmind/Create-Release-Notes-c4291bb92f644c5eb490cc21a8a79ca5?pvs=4#0fd19127eb128090b9fde4965384be5a\" style=\"color: #DE257E;\"><b>Create Release Notes — Yearly release cleanup</b></a></div>\n",
    "\n",
    "This process assumes you have knowledge of how to work with GitHub, including managing release tags, sending commits, and creating pull requests. \n",
    "\n",
    "- [ ] ALL releases from the previous year should be ready to be collated at the beginning of the new year.\n",
    "- [ ] You should be on a separate branch associated to the Story for the release notes cleanup before you begin."
   ]
  },
  {
   "cell_type": "markdown",
   "metadata": {},
   "source": [
    "## Setting up"
   ]
  },
  {
   "cell_type": "markdown",
   "metadata": {
    "vscode": {
     "languageId": "plaintext"
    }
   },
   "source": [
    "### Import yearly cleanup script\n",
    "\n",
    "This cell imports our custom `yearly_cleanup.py` script for use with a shorted alias, including any necessary dependencies."
   ]
  },
  {
   "cell_type": "code",
   "execution_count": 1,
   "metadata": {},
   "outputs": [],
   "source": [
    "import yearly_cleanup as yc"
   ]
  },
  {
   "cell_type": "markdown",
   "metadata": {},
   "source": [
    "### Specify the year\n",
    "\n",
    "You'll be asked to enter the year of releases to run the cleanup script on.\n",
    "\n",
    "**Leave blank for the default year, which is set to the previous year.**"
   ]
  },
  {
   "cell_type": "code",
   "execution_count": null,
   "metadata": {},
   "outputs": [],
   "source": [
    "year = yc.get_year()"
   ]
  },
  {
   "cell_type": "markdown",
   "metadata": {},
   "source": [
    "### Retrieve matching release folders\n",
    "\n",
    "This retrieves a list of release folders in `~site/releases/` that match your specified year.\n",
    "\n",
    "**The list below will return the files sorted alphabetically for your review, like how they display in the file tree.**"
   ]
  },
  {
   "cell_type": "code",
   "execution_count": null,
   "metadata": {},
   "outputs": [],
   "source": [
    "yc.get_yearly_releases(year)"
   ]
  },
  {
   "cell_type": "markdown",
   "metadata": {},
   "source": [
    "## Creating the yearly folder"
   ]
  },
  {
   "cell_type": "markdown",
   "metadata": {},
   "source": [
    "### Create the yearly folder\n",
    "\n",
    "The following cell creates a new subdirectory in `~site/releases/` based on your specified year."
   ]
  },
  {
   "cell_type": "code",
   "execution_count": null,
   "metadata": {},
   "outputs": [],
   "source": [
    "yearly_path = yc.create_year_folder(year)"
   ]
  },
  {
   "cell_type": "markdown",
   "metadata": {},
   "source": [
    "### Move releases into yearly folder\n",
    "\n",
    "Once we have the folder available, your matching release folders will get moved into this new yearly subdirectory."
   ]
  },
  {
   "cell_type": "code",
   "execution_count": null,
   "metadata": {},
   "outputs": [],
   "source": [
    "yc.move_yearly_releases(yearly_path, yc.release_folders)"
   ]
  },
  {
   "cell_type": "markdown",
   "metadata": {},
   "source": [
    "### Create yearly listing page\n",
    "\n",
    "This cell copies the template from `~internal/templates/yearly-releases.qmd` and slots it into the new yearly folder as `year-releases.qmd` so we can begin building the yearly listing."
   ]
  },
  {
   "cell_type": "code",
   "execution_count": null,
   "metadata": {},
   "outputs": [],
   "source": [
    "yearly_release = yc.copy_template(yearly_path, year)"
   ]
  },
  {
   "cell_type": "markdown",
   "metadata": {},
   "source": [
    "### Edit the yearly listing page\n",
    "\n",
    "Before we can add the listings for the moved releases to the new yearly page, we need to make sure the following has the right year:\n",
    "\n",
    "- The title\n",
    "- The listing ID\n",
    "- The listing embed itself\n",
    "\n",
    "This cell takes care of all of the above for us."
   ]
  },
  {
   "cell_type": "code",
   "execution_count": null,
   "metadata": {},
   "outputs": [],
   "source": [
    "if yearly_release:\n",
    "    yc.update_template(yearly_release, year)"
   ]
  },
  {
   "cell_type": "markdown",
   "metadata": {},
   "source": [
    "### Add moved releases to listing page\n",
    "\n",
    "Next, we'll insert the moved release files into the listing for this yearly roundup page."
   ]
  },
  {
   "cell_type": "code",
   "execution_count": null,
   "metadata": {},
   "outputs": [],
   "source": [
    "release_listings = yc.get_release_listings(yearly_path)"
   ]
  },
  {
   "cell_type": "markdown",
   "metadata": {},
   "source": [
    "Add the new release files to the listing"
   ]
  },
  {
   "cell_type": "code",
   "execution_count": null,
   "metadata": {},
   "outputs": [],
   "source": [
    "if release_listings:\n",
    "    yc.update_listing(yearly_release, release_listings)"
   ]
  },
  {
   "cell_type": "markdown",
   "metadata": {},
   "source": [
    "## Updating sidebar and links"
   ]
  },
  {
   "cell_type": "markdown",
   "metadata": {},
   "source": [
    "### Add yearly release folder to sidebar\n",
    "\n",
    "Since we moved our releases for the specified year into their own subfolder, we'll need to update the sidebar in `_quarto.yml` to accomodate. \n"
   ]
  },
  {
   "cell_type": "code",
   "execution_count": null,
   "metadata": {},
   "outputs": [],
   "source": [
    "yc.update_quarto_yaml(year)\n",
    "yc.move_year_marker()"
   ]
  },
  {
   "cell_type": "markdown",
   "metadata": {},
   "source": [
    "Fix broken filepaths"
   ]
  },
  {
   "cell_type": "code",
   "execution_count": null,
   "metadata": {},
   "outputs": [],
   "source": [
    "yc.update_paths(year)"
   ]
  },
  {
   "cell_type": "markdown",
   "metadata": {},
   "source": [
    "Return list of lines with relative links (like in listings) that may need manual adjustment"
   ]
  },
  {
   "cell_type": "code",
   "execution_count": null,
   "metadata": {},
   "outputs": [],
   "source": [
    "yc.search_links(yearly_path)"
   ]
  },
  {
   "cell_type": "markdown",
   "metadata": {},
   "source": [
    "show files to commit"
   ]
  },
  {
   "cell_type": "code",
   "execution_count": null,
   "metadata": {},
   "outputs": [],
   "source": [
    "from generate_release_objects import show_files\n",
    "show_files()"
   ]
  },
  {
   "cell_type": "markdown",
   "metadata": {},
   "source": [
    "preview changes"
   ]
  },
  {
   "cell_type": "code",
   "execution_count": null,
   "metadata": {},
   "outputs": [],
   "source": [
    "%%bash\n",
    "cd ../site\n",
    "quarto preview"
   ]
  },
  {
   "cell_type": "markdown",
   "metadata": {},
   "source": [
    "## Next steps"
   ]
  }
 ],
 "metadata": {
  "language_info": {
   "name": "python"
  }
 },
 "nbformat": 4,
 "nbformat_minor": 2
}
