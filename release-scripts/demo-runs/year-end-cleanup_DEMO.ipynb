{
 "cells": [
  {
   "cell_type": "markdown",
   "metadata": {},
   "source": [
    "# Year end release cleanup"
   ]
  },
  {
   "cell_type": "markdown",
   "metadata": {},
   "source": [
    "This notebook automatically moves a full year of releases into their own subdirectory under `~site/releases/` and collates the releases into their yearly listing page, including a preliminary tidy up of any links broken by moving these files. \n",
    "\n",
    "It's easiest to run this notebook at the start of the new year, when all the releases for the previous year are ready to be collated, thus requiring minimum adjustment from you.\n",
    "\n",
    "After running the notebook, you can locate the new yearly release subdirectory that was inserted into our `About > Releases` section for you to clean up further, along with a live preview of the site to get you started."
   ]
  },
  {
   "cell_type": "markdown",
   "metadata": {},
   "source": [
    "## Contents\n",
    "- [Prerequisites](#toc1_)    \n",
    "- [Setting up](#toc2_)    \n",
    "  - [Import yearly cleanup script](#toc2_1_)    \n",
    "  - [Specify the year](#toc2_2_)    \n",
    "  - [Retrieve matching release folders](#toc2_3_)    \n",
    "- [Creating the yearly folder](#toc3_)    \n",
    "  - [Create the yearly folder](#toc3_1_)    \n",
    "  - [Move releases into yearly folder](#toc3_2_)    \n",
    "  - [Create yearly listing page](#toc3_3_)    \n",
    "  - [Edit the yearly listing page](#toc3_4_)    \n",
    "  - [Retrieve moved releases](#toc3_5_)    \n",
    "  - [Add moved releases to listing page](#toc3_6_)    \n",
    "- [Updating sidebar and links](#toc4_)    \n",
    "  - [Add yearly release folder to sidebar](#toc4_1_)    \n",
    "  - [Move year end marker](#toc4_2_)    \n",
    "  - [Fix broken filepaths](#toc4_3_)    \n",
    "  - [Retrieve relative paths](#toc4_4_)    \n",
    "- [Next steps](#toc5_)    \n",
    "  - [Show files to commit](#toc5_1_)    \n",
    "  - [Preview changes](#toc5_2_)    \n",
    "  - [Wrap it up](#toc5_3_)    \n",
    "\n",
    "<!-- vscode-jupyter-toc-config\n",
    "\tnumbering=false\n",
    "\tanchor=true\n",
    "\tflat=false\n",
    "\tminLevel=2\n",
    "\tmaxLevel=4\n",
    "\t/vscode-jupyter-toc-config -->\n",
    "<!-- THIS CELL WILL BE REPLACED ON TOC UPDATE. DO NOT WRITE YOUR TEXT IN THIS CELL -->"
   ]
  },
  {
   "cell_type": "markdown",
   "metadata": {},
   "source": [
    "<a id='toc1_'></a>\n",
    "\n",
    "## Prerequisites \n",
    "\n",
    "<div class=\"alert alert-block alert-info\" style=\"background-color: #B5B5B510; color: black; border: 1px solid #083E44; border-left-width: 5px; box-shadow: 2px 2px 4px rgba(0, 0, 0, 0.2);border-radius: 5px;\"><span style=\"color: #083E44;\"><b>Refer our release notes guide for the full steps needed before running this notebook:</b></span>\n",
    "<br></br>\n",
    "<a href=\"https://www.notion.so/validmind/Create-Release-Notes-c4291bb92f644c5eb490cc21a8a79ca5?pvs=4#0fd19127eb128090b9fde4965384be5a\" style=\"color: #DE257E;\"><b>Create Release Notes — Yearly release cleanup</b></a></div>\n",
    "\n",
    "This process assumes you have knowledge of how to work with GitHub, including managing release tags, sending commits, and creating pull requests. \n",
    "\n",
    "- [ ] ALL releases from the previous year should be ready to be collated at the beginning of the new year.\n",
    "- [ ] You should be on a separate branch associated to the Story for the release notes cleanup before you begin."
   ]
  },
  {
   "cell_type": "markdown",
   "metadata": {},
   "source": [
    "<a id='toc2_'></a>\n",
    "\n",
    "## Setting up "
   ]
  },
  {
   "cell_type": "markdown",
   "metadata": {},
   "source": [
    "<a id='toc2_1_'></a>\n",
    "\n",
    "### Import yearly cleanup script \n",
    "\n",
    "This cell imports our custom `yearly_cleanup.py` script for use with a shorted alias, including any necessary dependencies."
   ]
  },
  {
   "cell_type": "code",
   "execution_count": 1,
   "metadata": {},
   "outputs": [],
   "source": [
    "import yearly_cleanup as yc"
   ]
  },
  {
   "cell_type": "markdown",
   "metadata": {},
   "source": [
    "<a id='toc2_2_'></a>\n",
    "\n",
    "### Specify the year \n",
    "\n",
    "You'll be asked to enter the year of releases to run the cleanup script on.\n",
    "\n",
    "**Leave blank for the default year, which is set to the previous year.**"
   ]
  },
  {
   "cell_type": "code",
   "execution_count": 2,
   "metadata": {},
   "outputs": [
    {
     "name": "stdout",
     "output_type": "stream",
     "text": [
      "Rounding up releases for: 2024\n",
      "\n"
     ]
    }
   ],
   "source": [
    "year = yc.get_year()"
   ]
  },
  {
   "cell_type": "markdown",
   "metadata": {},
   "source": [
    "<a id='toc2_3_'></a>\n",
    "\n",
    "### Retrieve matching release folders \n",
    "\n",
    "This retrieves a list of release folders in `~site/releases/` that match your specified year.\n",
    "\n",
    "**The list below will return the files sorted alphabetically for your review, like how they display in the file tree.**"
   ]
  },
  {
   "cell_type": "code",
   "execution_count": 3,
   "metadata": {},
   "outputs": [
    {
     "name": "stdout",
     "output_type": "stream",
     "text": [
      "Found 13 release folders for year 2024:\n"
     ]
    },
    {
     "data": {
      "text/plain": [
       "['../site/releases/2024-aug-13',\n",
       " '../site/releases/2024-dec-06',\n",
       " '../site/releases/2024-dec-24',\n",
       " '../site/releases/2024-feb-14',\n",
       " '../site/releases/2024-jan-18',\n",
       " '../site/releases/2024-jan-26',\n",
       " '../site/releases/2024-jul-22',\n",
       " '../site/releases/2024-jun-10',\n",
       " '../site/releases/2024-mar-27',\n",
       " '../site/releases/2024-may-22',\n",
       " '../site/releases/2024-oct-22',\n",
       " '../site/releases/2024-sep-09',\n",
       " '../site/releases/2024-sep-25']"
      ]
     },
     "execution_count": 3,
     "metadata": {},
     "output_type": "execute_result"
    }
   ],
   "source": [
    "yc.get_yearly_releases(year)"
   ]
  },
  {
   "cell_type": "markdown",
   "metadata": {},
   "source": [
    "<a id='toc3_'></a>\n",
    "\n",
    "## Creating the yearly folder "
   ]
  },
  {
   "cell_type": "markdown",
   "metadata": {},
   "source": [
    "<a id='toc3_1_'></a>\n",
    "\n",
    "### Create the yearly folder \n",
    "\n",
    "The following cell creates a new subdirectory in `~site/releases/` based on your specified year."
   ]
  },
  {
   "cell_type": "code",
   "execution_count": 4,
   "metadata": {},
   "outputs": [
    {
     "name": "stdout",
     "output_type": "stream",
     "text": [
      "Created folder: ../site/releases/2024/\n",
      "\n"
     ]
    }
   ],
   "source": [
    "yearly_path = yc.create_year_folder(year)"
   ]
  },
  {
   "cell_type": "markdown",
   "metadata": {},
   "source": [
    "<a id='toc3_2_'></a>\n",
    "\n",
    "### Move releases into yearly folder \n",
    "\n",
    "Once we have the folder available, your matching release folders will get moved into this new yearly subdirectory."
   ]
  },
  {
   "cell_type": "code",
   "execution_count": 5,
   "metadata": {},
   "outputs": [
    {
     "name": "stdout",
     "output_type": "stream",
     "text": [
      "Moved: '../site/releases/2024-aug-13' to '../site/releases/2024/2024-aug-13'\n",
      "Moved: '../site/releases/2024-dec-06' to '../site/releases/2024/2024-dec-06'\n",
      "Moved: '../site/releases/2024-dec-24' to '../site/releases/2024/2024-dec-24'\n",
      "Moved: '../site/releases/2024-feb-14' to '../site/releases/2024/2024-feb-14'\n",
      "Moved: '../site/releases/2024-jan-18' to '../site/releases/2024/2024-jan-18'\n",
      "Moved: '../site/releases/2024-jan-26' to '../site/releases/2024/2024-jan-26'\n",
      "Moved: '../site/releases/2024-jul-22' to '../site/releases/2024/2024-jul-22'\n",
      "Moved: '../site/releases/2024-jun-10' to '../site/releases/2024/2024-jun-10'\n",
      "Moved: '../site/releases/2024-mar-27' to '../site/releases/2024/2024-mar-27'\n",
      "Moved: '../site/releases/2024-may-22' to '../site/releases/2024/2024-may-22'\n",
      "Moved: '../site/releases/2024-oct-22' to '../site/releases/2024/2024-oct-22'\n",
      "Moved: '../site/releases/2024-sep-09' to '../site/releases/2024/2024-sep-09'\n",
      "Moved: '../site/releases/2024-sep-25' to '../site/releases/2024/2024-sep-25'\n"
     ]
    }
   ],
   "source": [
    "yc.move_yearly_releases(yearly_path, yc.release_folders)"
   ]
  },
  {
   "cell_type": "markdown",
   "metadata": {},
   "source": [
    "<a id='toc3_3_'></a>\n",
    "\n",
    "### Create yearly listing page \n",
    "\n",
    "This cell copies the template from `~internal/templates/yearly-releases.qmd` and slots it into the new yearly folder as `{year}-releases.qmd` so we can begin building the yearly listings."
   ]
  },
  {
   "cell_type": "code",
   "execution_count": 6,
   "metadata": {},
   "outputs": [
    {
     "name": "stdout",
     "output_type": "stream",
     "text": [
      "Copied '../internal/templates/yearly-releases.qmd' template to: '../site/releases/2024/2024-releases.qmd'\n"
     ]
    }
   ],
   "source": [
    "yearly_release = yc.copy_template(yearly_path, year)"
   ]
  },
  {
   "cell_type": "markdown",
   "metadata": {},
   "source": [
    "<a id='toc3_4_'></a>\n",
    "\n",
    "### Edit the yearly listing page \n",
    "\n",
    "Before we can add the listings for the moved releases to the new yearly page, we need to make sure the following has the right year:\n",
    "\n",
    "- The title\n",
    "- The listing ID\n",
    "- The listing embed itself\n",
    "\n",
    "This cell takes care of all of the above for us."
   ]
  },
  {
   "cell_type": "code",
   "execution_count": 7,
   "metadata": {},
   "outputs": [
    {
     "name": "stdout",
     "output_type": "stream",
     "text": [
      "Updated '../site/releases/2024/2024-releases.qmd' with the year 2024\n",
      "\n",
      "Edited lines: [3, 9, 19]\n"
     ]
    }
   ],
   "source": [
    "if yearly_release:\n",
    "    yc.update_template(yearly_release, year)"
   ]
  },
  {
   "cell_type": "markdown",
   "metadata": {},
   "source": [
    "<a id='toc3_5_'></a>\n",
    "\n",
    "### Retrieve moved releases \n",
    "\n",
    "This cell returns the `release-notes.qmd` filepaths for all the release folders we just moved into the yearly subdirectory."
   ]
  },
  {
   "cell_type": "code",
   "execution_count": 8,
   "metadata": {},
   "outputs": [
    {
     "name": "stdout",
     "output_type": "stream",
     "text": [
      "Found 13 release notes in ../site/releases/2024/:\n",
      "\n",
      "2024-dec-24/release-notes.qmd\n",
      "2024-dec-06/release-notes.qmd\n",
      "2024-oct-22/release-notes.qmd\n",
      "2024-sep-25/release-notes.qmd\n",
      "2024-sep-09/release-notes.qmd\n",
      "2024-aug-13/release-notes.qmd\n",
      "2024-jul-22/release-notes.qmd\n",
      "2024-jun-10/release-notes.qmd\n",
      "2024-may-22/release-notes.qmd\n",
      "2024-mar-27/release-notes.qmd\n",
      "2024-feb-14/release-notes.qmd\n",
      "2024-jan-26/release-notes.qmd\n",
      "2024-jan-18/release-notes.qmd\n"
     ]
    }
   ],
   "source": [
    "release_listings = yc.get_release_listings(yearly_path)"
   ]
  },
  {
   "cell_type": "markdown",
   "metadata": {},
   "source": [
    "<a id='toc3_6_'></a>\n",
    "\n",
    "### Add moved releases to listing page \n",
    "\n",
    "Next, we'll insert the moved release files into the listing for the yearly roundup page sorted by the release dates in descending order (newest first)."
   ]
  },
  {
   "cell_type": "code",
   "execution_count": 9,
   "metadata": {},
   "outputs": [
    {
     "name": "stdout",
     "output_type": "stream",
     "text": [
      "Updated '../site/releases/2024/2024-releases.qmd' with release listings\n",
      "\n",
      "Added lines: [15, 16, 17, 18, 19, 20, 21, 22, 23, 24, 25, 26, 27]\n"
     ]
    }
   ],
   "source": [
    "if release_listings:\n",
    "    yc.update_listing(yearly_release, release_listings)"
   ]
  },
  {
   "cell_type": "markdown",
   "metadata": {},
   "source": [
    "<a id='toc4_'></a>\n",
    "\n",
    "## Updating sidebar and links "
   ]
  },
  {
   "cell_type": "markdown",
   "metadata": {},
   "source": [
    "<a id='toc4_1_'></a>\n",
    "\n",
    "### Add yearly release folder to sidebar \n",
    "\n",
    "Since we moved our releases for the specified year into their own subfolder, we'll need to update the sidebar in `_quarto.yml` to accomodate.\n",
    "\n",
    "**This cell takes all the release filepaths we just moved into our yearly folder and shoves them into a `contents:` accordion menu with the new `{year}-.releases.qmd` listing page as the landing page.** \n"
   ]
  },
  {
   "cell_type": "code",
   "execution_count": 10,
   "metadata": {},
   "outputs": [
    {
     "name": "stdout",
     "output_type": "stream",
     "text": [
      "Added 2024 releases folder to the sidebar in _quarto.yml\n"
     ]
    }
   ],
   "source": [
    "yc.update_quarto_yaml(year)"
   ]
  },
  {
   "cell_type": "markdown",
   "metadata": {},
   "source": [
    "<a id='toc4_2_'></a>\n",
    "\n",
    "### Move year end marker \n",
    "\n",
    "This cell moves our marker for where the current year's releases end to the top above our yearly accordion menu so that we are ready for the new year."
   ]
  },
  {
   "cell_type": "code",
   "execution_count": 11,
   "metadata": {},
   "outputs": [
    {
     "name": "stdout",
     "output_type": "stream",
     "text": [
      "Relocated # CURRENT-YEAR-END-MARKER in _quarto.yml from line 190 to line 175\n"
     ]
    }
   ],
   "source": [
    "yc.move_year_marker(year)"
   ]
  },
  {
   "cell_type": "markdown",
   "metadata": {},
   "source": [
    "<a id='toc4_3_'></a>\n",
    "\n",
    "### Fix broken filepaths \n",
    "\n",
    "This cell looks for absolute filepaths in `.qmd` and `.yml` files in `~site/` matching `releases/{year}-` and renames them `releases/{year}/{year}-` to accomodate for the releases we moved."
   ]
  },
  {
   "cell_type": "code",
   "execution_count": 12,
   "metadata": {},
   "outputs": [
    {
     "name": "stdout",
     "output_type": "stream",
     "text": [
      "Updated: ../site/_quarto.yml\n",
      "  Line 178:\n",
      "    Before: - releases/2024-dec-24/release-notes.qmd\n",
      "    After: - releases/2024/2024-dec-24/release-notes.qmd\n",
      "  Line 179:\n",
      "    Before: - releases/2024-dec-06/release-notes.qmd\n",
      "    After: - releases/2024/2024-dec-06/release-notes.qmd\n",
      "  Line 180:\n",
      "    Before: - releases/2024-oct-22/release-notes.qmd\n",
      "    After: - releases/2024/2024-oct-22/release-notes.qmd\n",
      "  Line 181:\n",
      "    Before: - releases/2024-sep-25/release-notes.qmd\n",
      "    After: - releases/2024/2024-sep-25/release-notes.qmd\n",
      "  Line 182:\n",
      "    Before: - releases/2024-sep-09/release-notes.qmd\n",
      "    After: - releases/2024/2024-sep-09/release-notes.qmd\n",
      "  Line 183:\n",
      "    Before: - releases/2024-aug-13/release-notes.qmd\n",
      "    After: - releases/2024/2024-aug-13/release-notes.qmd\n",
      "  Line 184:\n",
      "    Before: - releases/2024-jul-22/release-notes.qmd\n",
      "    After: - releases/2024/2024-jul-22/release-notes.qmd\n",
      "  Line 185:\n",
      "    Before: - releases/2024-jun-10/release-notes.qmd\n",
      "    After: - releases/2024/2024-jun-10/release-notes.qmd\n",
      "  Line 186:\n",
      "    Before: - releases/2024-may-22/release-notes.qmd\n",
      "    After: - releases/2024/2024-may-22/release-notes.qmd\n",
      "  Line 187:\n",
      "    Before: - releases/2024-mar-27/highlights.qmd\n",
      "    After: - releases/2024/2024-mar-27/highlights.qmd\n",
      "  Line 188:\n",
      "    Before: - releases/2024-feb-14/highlights.qmd\n",
      "    After: - releases/2024/2024-feb-14/highlights.qmd\n",
      "  Line 189:\n",
      "    Before: - releases/2024-jan-26/highlights.qmd\n",
      "    After: - releases/2024/2024-jan-26/highlights.qmd\n",
      "  Line 190:\n",
      "    Before: - releases/2024-jan-18/highlights.qmd\n",
      "    After: - releases/2024/2024-jan-18/highlights.qmd\n",
      "\n",
      "Updated: ../site/index.qmd\n",
      "  Line 51:\n",
      "    Before: - /releases/2024-dec-24/release-notes.qmd\n",
      "    After: - /releases/2024/2024-dec-24/release-notes.qmd\n",
      "  Line 52:\n",
      "    Before: - /releases/2024-dec-06/release-notes.qmd\n",
      "    After: - /releases/2024/2024-dec-06/release-notes.qmd\n",
      "  Line 53:\n",
      "    Before: - /releases/2024-oct-22/release-notes.qmd\n",
      "    After: - /releases/2024/2024-oct-22/release-notes.qmd\n",
      "  Line 54:\n",
      "    Before: - /releases/2024-sep-25/release-notes.qmd\n",
      "    After: - /releases/2024/2024-sep-25/release-notes.qmd\n",
      "\n",
      "Updated: ../site/releases/2024/2024-oct-22/release-notes.qmd\n",
      "  Line 35:\n",
      "    Before: ![Ongoing monitoring of a model](/releases/2024-oct-22/358433496-02a6d5b9-0521-4110-b45c-b91e06798a97.png){fig-alt=\"An image showing some ongoing monitoring data on the ValidMind Platform\" .screenshot}\n",
      "    After: ![Ongoing monitoring of a model](/releases/2024/2024-oct-22/358433496-02a6d5b9-0521-4110-b45c-b91e06798a97.png){fig-alt=\"An image showing some ongoing monitoring data on the ValidMind Platform\" .screenshot}\n",
      "  Line 220:\n",
      "    Before: ![Adding a `Metric Over Time` block to model documentation](/releases/2024-oct-22/366145578-ce832e92-b8f2-47f1-b2f8-5d4b299fbe4a.png){fig-alt=\"A screenshot of the ValidMind Platform that shows the new Metric Over time option when adding a new block to model documentation\" .screenshot group=\"metric\"}\n",
      "    After: ![Adding a `Metric Over Time` block to model documentation](/releases/2024/2024-oct-22/366145578-ce832e92-b8f2-47f1-b2f8-5d4b299fbe4a.png){fig-alt=\"A screenshot of the ValidMind Platform that shows the new Metric Over time option when adding a new block to model documentation\" .screenshot group=\"metric\"}\n",
      "  Line 222:\n",
      "    Before: ![Selecting one of the available blocks](/releases/2024-oct-22/366145581-b2afc5aa-5a37-4639-8f11-63fea34191c7.png){fig-alt=\"A screenshot of the ValidMind Platform that shows the available blocks you can choose from when adding a new block to model documentation\" .screenshot group=\"metric\"}\n",
      "    After: ![Selecting one of the available blocks](/releases/2024/2024-oct-22/366145581-b2afc5aa-5a37-4639-8f11-63fea34191c7.png){fig-alt=\"A screenshot of the ValidMind Platform that shows the available blocks you can choose from when adding a new block to model documentation\" .screenshot group=\"metric\"}\n",
      "  Line 226:\n",
      "    Before: ![Metric over time graph in model documentation](/releases/2024-oct-22/366145585-937d5018-ee21-47df-b9d2-b2da5125046d.png){fig-alt=\"A screenshot of the ValidMind Platform that shows a graph for Metric Over time output\" .screenshot group=\"metric\"}\n",
      "    After: ![Metric over time graph in model documentation](/releases/2024/2024-oct-22/366145585-937d5018-ee21-47df-b9d2-b2da5125046d.png){fig-alt=\"A screenshot of the ValidMind Platform that shows a graph for Metric Over time output\" .screenshot group=\"metric\"}\n",
      "  Line 318:\n",
      "    Before: ![Sample attachments](/releases/2024-oct-22/368770367-a7f6b364-7e7a-483e-8bc8-01a0ac9c7158.png){fig-alt=\"A screenshot of the ValidMind Platform that shows two files which have been added as attachments\" .screenshot}\n",
      "    After: ![Sample attachments](/releases/2024/2024-oct-22/368770367-a7f6b364-7e7a-483e-8bc8-01a0ac9c7158.png){fig-alt=\"A screenshot of the ValidMind Platform that shows two files which have been added as attachments\" .screenshot}\n",
      "  Line 359:\n",
      "    Before: ![Adding the currency number type](/releases/2024-oct-22/368772301-4fb7e8e1-5a43-490d-b17d-a80b7d30cfba.png){fig-alt=\"A screenshot of the ValidMind Platform that shows a new model inventory field being added for the currency type\" .screenshot group=\"currency\"}\n",
      "    After: ![Adding the currency number type](/releases/2024/2024-oct-22/368772301-4fb7e8e1-5a43-490d-b17d-a80b7d30cfba.png){fig-alt=\"A screenshot of the ValidMind Platform that shows a new model inventory field being added for the currency type\" .screenshot group=\"currency\"}\n",
      "  Line 363:\n",
      "    Before: ![Currency type in model documentation](/releases/2024-oct-22/367452366-50f19b63-1bc4-438b-8fd7-702e6b2f5ca9.png){width=\"80%\" fig-alt=\"A screenshot of the ValidMind Platform that shows the currency type in model documentation\" .screenshot group=\"currency\"}\n",
      "    After: ![Currency type in model documentation](/releases/2024/2024-oct-22/367452366-50f19b63-1bc4-438b-8fd7-702e6b2f5ca9.png){width=\"80%\" fig-alt=\"A screenshot of the ValidMind Platform that shows the currency type in model documentation\" .screenshot group=\"currency\"}\n",
      "\n",
      "Updated: ../site/training/validator-fundamentals/validator-fundamentals.qmd\n",
      "  Line 470:\n",
      "    Before: ![](/releases/2024-may-22/generate-with-ai.png){fig-alt=\"A screenshot showing a text editor with a toolbar and the Generate with AI button on the right\"}\n",
      "    After: ![](/releases/2024/2024-may-22/generate-with-ai.png){fig-alt=\"A screenshot showing a text editor with a toolbar and the Generate with AI button on the right\"}\n",
      "  Line 476:\n",
      "    Before: ![](/releases/2024-may-22/ai-content-builder.png){fig-alt=\"A screenshot showing a modal with AI-generated text\"}\n",
      "    After: ![](/releases/2024/2024-may-22/ai-content-builder.png){fig-alt=\"A screenshot showing a modal with AI-generated text\"}\n",
      "\n",
      "Updated: ../site/training/developer-fundamentals/developer-fundamentals.qmd\n",
      "  Line 454:\n",
      "    Before: ![](/releases/2024-may-22/generate-with-ai.png){fig-alt=\"A screenshot showing a text editor with a toolbar and the Generate with AI button on the right\" .screenshot}\n",
      "    After: ![](/releases/2024/2024-may-22/generate-with-ai.png){fig-alt=\"A screenshot showing a text editor with a toolbar and the Generate with AI button on the right\" .screenshot}\n",
      "  Line 460:\n",
      "    Before: ![](/releases/2024-may-22/ai-content-builder.png){fig-alt=\"A screenshot showing a modal with AI-generated text\" .screenshot}\n",
      "    After: ![](/releases/2024/2024-may-22/ai-content-builder.png){fig-alt=\"A screenshot showing a modal with AI-generated text\" .screenshot}\n",
      "\n"
     ]
    }
   ],
   "source": [
    "yc.update_paths(year)"
   ]
  },
  {
   "cell_type": "markdown",
   "metadata": {},
   "source": [
    "<a id='toc4_4_'></a>\n",
    "\n",
    "### Retrieve relative paths \n",
    "\n",
    "This cell looks for relative paths (`../example.qmd`) in the `~site/releases/` folder that might need manual adjustment, such as in listings or any links that don't follow our proper `/root` convention but should. \n",
    "\n",
    "**You will ned to review these links and edit them if necessary to ensure that the filepaths are not broken after the move.**"
   ]
  },
  {
   "cell_type": "code",
   "execution_count": 13,
   "metadata": {},
   "outputs": [
    {
     "name": "stdout",
     "output_type": "stream",
     "text": [
      "Searching for relative links in moved release notes that may need adjusting...\n",
      "\n",
      "File: ../site/releases/2024/2024-oct-22/release-notes.qmd\n",
      "- Line 9: - path: ../../training/training.qmd\n",
      "- Line 53: [Ongoing monitoring](../../guide/monitoring/ongoing-monitoring.qmd){.button .button-green}\n",
      "\n",
      "File: ../site/releases/2024/2024-dec-06/release-notes.qmd\n",
      "- Line 13: - path: ../../about/overview-model-documentation.qmd\n",
      "- Line 23: - path: ../../about/overview-model-risk-management.qmd\n",
      "- Line 33: - path: ../../training/training.qmd\n",
      "\n",
      "File: ../site/releases/2024/2024-may-22/release-notes.qmd\n",
      "- Line 9: - path: ../../training/training.qmd\n",
      "\n",
      "File: ../site/releases/2024/2024-jul-22/release-notes.qmd\n",
      "- Line 9: - path: ../../training/training.qmd\n",
      "\n",
      "Search completed: 4 files matched, 7 matching lines found\n",
      "\n"
     ]
    }
   ],
   "source": [
    "yc.search_links(yearly_path)"
   ]
  },
  {
   "cell_type": "markdown",
   "metadata": {},
   "source": [
    "<a id='toc5_'></a>\n",
    "\n",
    "## Next steps "
   ]
  },
  {
   "cell_type": "markdown",
   "metadata": {},
   "source": [
    "<a id='toc5_1_'></a>\n",
    "\n",
    "### Show files to commit \n",
    "\n",
    "This block shows you the files changed or added by the notebook you need to commit — it should omit any files in `~release-scripts/`. "
   ]
  },
  {
   "cell_type": "code",
   "execution_count": 14,
   "metadata": {},
   "outputs": [
    {
     "name": "stdout",
     "output_type": "stream",
     "text": [
      "On branch beck/demo-release-scripts\n",
      "Your branch is up to date with 'origin/beck/demo-release-scripts'.\n",
      "\n",
      "Changes not staged for commit:\n",
      "  (use \"git add/rm <file>...\" to update what will be committed)\n",
      "  (use \"git restore <file>...\" to discard changes in working directory)\n",
      "\tmodified:   site/_quarto.yml\n",
      "\tmodified:   site/index.qmd\n",
      "\tdeleted:    site/releases/2024-aug-13/customize-dashboard-demo.gif\n",
      "\tdeleted:    site/releases/2024-aug-13/manage-model-interdependencies.png\n",
      "\tdeleted:    site/releases/2024-aug-13/model-dependencies.png\n",
      "\tdeleted:    site/releases/2024-aug-13/new-reports-widget.png\n",
      "\tdeleted:    site/releases/2024-aug-13/release-notes.qmd\n",
      "\tdeleted:    site/releases/2024-dec-06/accept-ai-terms.png\n",
      "\tdeleted:    site/releases/2024-dec-06/example-prereq.png\n",
      "\tdeleted:    site/releases/2024-dec-06/new-evidence.png\n",
      "\tdeleted:    site/releases/2024-dec-06/new-search-box.png\n",
      "\tdeleted:    site/releases/2024-dec-06/new-site-mobile.gif\n",
      "\tdeleted:    site/releases/2024-dec-06/new-site-theme.png\n",
      "\tdeleted:    site/releases/2024-dec-06/new-training-landing.png\n",
      "\tdeleted:    site/releases/2024-dec-06/old-evidence.png\n",
      "\tdeleted:    site/releases/2024-dec-06/old-site-mobile.gif\n",
      "\tdeleted:    site/releases/2024-dec-06/old-site-theme.png\n",
      "\tdeleted:    site/releases/2024-dec-06/old-training-landing.png\n",
      "\tdeleted:    site/releases/2024-dec-06/platform-new.png\n",
      "\tdeleted:    site/releases/2024-dec-06/platform-old.png\n",
      "\tdeleted:    site/releases/2024-dec-06/release-notes.qmd\n",
      "\tdeleted:    site/releases/2024-dec-06/rendered-product-variables.png\n",
      "\tdeleted:    site/releases/2024-dec-06/test-result-filters.png\n",
      "\tdeleted:    site/releases/2024-dec-24/custom-dashboard.png\n",
      "\tdeleted:    site/releases/2024-dec-24/delete-linked-finding.png\n",
      "\tdeleted:    site/releases/2024-dec-24/developer-only-field.png\n",
      "\tdeleted:    site/releases/2024-dec-24/faq.png\n",
      "\tdeleted:    site/releases/2024-dec-24/help-center.png\n",
      "\tdeleted:    site/releases/2024-dec-24/log-in.png\n",
      "\tdeleted:    site/releases/2024-dec-24/new-developer-portal.png\n",
      "\tdeleted:    site/releases/2024-dec-24/new-homepage-search.png\n",
      "\tdeleted:    site/releases/2024-dec-24/new-training-nav.png\n",
      "\tdeleted:    site/releases/2024-dec-24/old-homepage-search.png\n",
      "\tdeleted:    site/releases/2024-dec-24/old-training-nav.png\n",
      "\tdeleted:    site/releases/2024-dec-24/release-notes.qmd\n",
      "\tdeleted:    site/releases/2024-dec-24/revision-history.png\n",
      "\tdeleted:    site/releases/2024-feb-14/actions-after.png\n",
      "\tdeleted:    site/releases/2024-feb-14/actions-before.png\n",
      "\tdeleted:    site/releases/2024-feb-14/getting-started-instructions.png\n",
      "\tdeleted:    site/releases/2024-feb-14/highlights.qmd\n",
      "\tdeleted:    site/releases/2024-feb-14/list-tasks-and-tags.png\n",
      "\tdeleted:    site/releases/2024-jan-18/dark-mode.png\n",
      "\tdeleted:    site/releases/2024-jan-18/group-management.gif\n",
      "\tdeleted:    site/releases/2024-jan-18/group-users-by-type.png\n",
      "\tdeleted:    site/releases/2024-jan-18/highlights.qmd\n",
      "\tdeleted:    site/releases/2024-jan-18/light-mode.png\n",
      "\tdeleted:    site/releases/2024-jan-18/template-pages.gif\n",
      "\tdeleted:    site/releases/2024-jan-18/user-management.gif\n",
      "\tdeleted:    site/releases/2024-jan-26/highlights.qmd\n",
      "\tdeleted:    site/releases/2024-jul-22/comparison_test.gif\n",
      "\tdeleted:    site/releases/2024-jul-22/release-notes.qmd\n",
      "\tdeleted:    site/releases/2024-jun-10/edit-business-units.gif\n",
      "\tdeleted:    site/releases/2024-jun-10/release-notes.qmd\n",
      "\tdeleted:    site/releases/2024-mar-27/highlights.qmd\n",
      "\tdeleted:    site/releases/2024-mar-27/model-findings-manage-columns.png\n",
      "\tdeleted:    site/releases/2024-mar-27/model-findings-page.png\n",
      "\tdeleted:    site/releases/2024-mar-27/models-visible-to-group.png\n",
      "\tdeleted:    site/releases/2024-mar-27/reports-page.png\n",
      "\tdeleted:    site/releases/2024-mar-27/user-invite-history.png\n",
      "\tdeleted:    site/releases/2024-may-22/about-section.png\n",
      "\tdeleted:    site/releases/2024-may-22/ai-content-builder.png\n",
      "\tdeleted:    site/releases/2024-may-22/business-unit-risk-areas.gif\n",
      "\tdeleted:    site/releases/2024-may-22/documentation-overview-page.png\n",
      "\tdeleted:    site/releases/2024-may-22/duplicate-template-id.png\n",
      "\tdeleted:    site/releases/2024-may-22/edit-mode.gif\n",
      "\tdeleted:    site/releases/2024-may-22/enhanced-templates.gif\n",
      "\tdeleted:    site/releases/2024-may-22/generate-with-ai.png\n",
      "\tdeleted:    site/releases/2024-may-22/intro-for-developers-notebook.png\n",
      "\tdeleted:    site/releases/2024-may-22/is-vendor-model.png\n",
      "\tdeleted:    site/releases/2024-may-22/missing-vendor-name.png\n",
      "\tdeleted:    site/releases/2024-may-22/model-group.png\n",
      "\tdeleted:    site/releases/2024-may-22/model-inventory-filters.png\n",
      "\tdeleted:    site/releases/2024-may-22/overview-completion.png\n",
      "\tdeleted:    site/releases/2024-may-22/overview-conversations.png\n",
      "\tdeleted:    site/releases/2024-may-22/release-notes.qmd\n",
      "\tdeleted:    site/releases/2024-may-22/section-status.png\n",
      "\tdeleted:    site/releases/2024-may-22/template-yaml.png\n",
      "\tdeleted:    site/releases/2024-may-22/unresolved-conversations.png\n",
      "\tdeleted:    site/releases/2024-may-22/validation-report-overview-page.png\n",
      "\tdeleted:    site/releases/2024-oct-22/358433496-02a6d5b9-0521-4110-b45c-b91e06798a97.png\n",
      "\tdeleted:    site/releases/2024-oct-22/366145578-ce832e92-b8f2-47f1-b2f8-5d4b299fbe4a.png\n",
      "\tdeleted:    site/releases/2024-oct-22/366145581-b2afc5aa-5a37-4639-8f11-63fea34191c7.png\n",
      "\tdeleted:    site/releases/2024-oct-22/366145585-937d5018-ee21-47df-b9d2-b2da5125046d.png\n",
      "\tdeleted:    site/releases/2024-oct-22/367452366-50f19b63-1bc4-438b-8fd7-702e6b2f5ca9.png\n",
      "\tdeleted:    site/releases/2024-oct-22/368770367-a7f6b364-7e7a-483e-8bc8-01a0ac9c7158.png\n",
      "\tdeleted:    site/releases/2024-oct-22/368772301-4fb7e8e1-5a43-490d-b17d-a80b7d30cfba.png\n",
      "\tdeleted:    site/releases/2024-oct-22/edit-validation-guidelines.png\n",
      "\tdeleted:    site/releases/2024-oct-22/release-notes.qmd\n",
      "\tdeleted:    site/releases/2024-sep-09/release-notes.qmd\n",
      "\tdeleted:    site/releases/2024-sep-09/reset-model-workflow.png\n",
      "\tdeleted:    site/releases/2024-sep-09/settings-validation-guidelines.png\n",
      "\tdeleted:    site/releases/2024-sep-25/ai-content-builder.png\n",
      "\tdeleted:    site/releases/2024-sep-25/generate-ai-prompt.png\n",
      "\tdeleted:    site/releases/2024-sep-25/generate-with-ai.png\n",
      "\tdeleted:    site/releases/2024-sep-25/release-notes.qmd\n",
      "\tmodified:   site/training/developer-fundamentals/developer-fundamentals.qmd\n",
      "\tmodified:   site/training/validator-fundamentals/validator-fundamentals.qmd\n",
      "\n",
      "Untracked files:\n",
      "  (use \"git add <file>...\" to include in what will be committed)\n",
      "\tsite/releases/2024/\n",
      "\n",
      "no changes added to commit (use \"git add\" and/or \"git commit -a\")\n"
     ]
    }
   ],
   "source": [
    "%%bash\n",
    "cd ../\n",
    "git status | grep -v 'release-scripts/'"
   ]
  },
  {
   "cell_type": "markdown",
   "metadata": {},
   "source": [
    "<a id='toc5_2_'></a>\n",
    "\n",
    "### Preview changes \n",
    "\n",
    "Run this cell to preview the site, including the new `{year}-releases.qmd` listing file you just created. "
   ]
  },
  {
   "cell_type": "code",
   "execution_count": null,
   "metadata": {},
   "outputs": [
    {
     "name": "stderr",
     "output_type": "stream",
     "text": [
      "\u001b[1m\u001b[34mPreparing to preview\u001b[39m\u001b[22m\n",
      "[ 1/17] releases/2024/2024-oct-22/release-notes.qmd\u001b[39m\u001b[22m\n",
      "\u001b[33mWARN: File /Users/beckchan/Documents/GitHub/validmind/documentation/site/releases/training/training.qmd in the listing 'training' contains no metadata.\u001b[39m\n",
      "\u001b[33mWARN: Unable to resolve link target: releases/guide/monitoring/ongoing-monitoring.qmd\u001b[39m\n",
      "\u001b[33mWARN: Unable to resolve link target: releases/training/training.qmd\u001b[39m\n",
      "[ 2/17] releases/2024/2024-dec-24/release-notes.qmd\u001b[39m\u001b[22m\n",
      "[ 3/17] releases/2024/2024-releases.qmd\u001b[39m\u001b[22m\n",
      "[ 4/17] releases/2024/2024-dec-06/release-notes.qmd\u001b[39m\u001b[22m\n",
      "\u001b[33mWARN: File /Users/beckchan/Documents/GitHub/validmind/documentation/site/releases/about/overview-model-documentation.qmd in the listing 'library' contains no metadata.\u001b[39m\n",
      "\u001b[33mWARN: File /Users/beckchan/Documents/GitHub/validmind/documentation/site/releases/about/overview-model-risk-management.qmd in the listing 'platform' contains no metadata.\u001b[39m\n",
      "\u001b[33mWARN: File /Users/beckchan/Documents/GitHub/validmind/documentation/site/releases/training/training.qmd in the listing 'academy' contains no metadata.\u001b[39m\n",
      "\u001b[33mWARN: Unable to resolve link target: releases/about/overview-model-documentation.qmd\u001b[39m\n",
      "\u001b[33mWARN: Unable to resolve link target: releases/about/overview-model-risk-management.qmd\u001b[39m\n",
      "\u001b[33mWARN: Unable to resolve link target: releases/training/training.qmd\u001b[39m\n",
      "[ 5/17] releases/2024/2024-may-22/release-notes.qmd\u001b[39m\u001b[22m\n",
      "\u001b[33mWARN: File /Users/beckchan/Documents/GitHub/validmind/documentation/site/releases/training/training.qmd in the listing 'training' contains no metadata.\u001b[39m\n",
      "\u001b[33mWARN: Unable to resolve link target: releases/training/training.qmd\u001b[39m\n",
      "[ 6/17] releases/2024/2024-mar-27/highlights.qmd\u001b[39m\u001b[22m\n",
      "[ 7/17] releases/2024/2024-sep-25/release-notes.qmd\u001b[39m\u001b[22m\n",
      "[ 8/17] releases/2024/2024-jul-22/release-notes.qmd\u001b[39m\u001b[22m\n",
      "\u001b[33mWARN: File /Users/beckchan/Documents/GitHub/validmind/documentation/site/releases/training/training.qmd in the listing 'training' contains no metadata.\u001b[39m\n",
      "\u001b[33mWARN: Unable to resolve link target: releases/training/training.qmd\u001b[39m\n",
      "[ 9/17] releases/2024/2024-aug-13/release-notes.qmd\u001b[39m\u001b[22m\n",
      "[10/17] releases/2024/2024-feb-14/highlights.qmd\u001b[39m\u001b[22m\n",
      "[11/17] releases/2024/2024-jan-26/highlights.qmd\u001b[39m\u001b[22m\n",
      "[12/17] releases/2024/2024-sep-09/release-notes.qmd\u001b[39m\u001b[22m\n",
      "[13/17] releases/2024/2024-jun-10/release-notes.qmd\u001b[39m\u001b[22m\n",
      "[14/17] releases/2024/2024-jan-18/highlights.qmd\u001b[39m\u001b[22m\n",
      "[15/17] training/validator-fundamentals/validator-fundamentals.qmd\u001b[39m\u001b[22m\n",
      "[16/17] training/developer-fundamentals/developer-fundamentals.qmd\u001b[39m\u001b[22m\n",
      "[17/17] index.qmd\u001b[39m\u001b[22m\n",
      "\n",
      "\u001b[1m\u001b[34mmake\u001b[39m\u001b[22m\n",
      "\n",
      "Updating Python documentation ...\n",
      "Copying Python documentation into docs site ...\n",
      "\n",
      "\u001b[32mWatching files for changes\u001b[39m\n",
      "\u001b[32mBrowse at \u001b[39m\u001b[4m\u001b[32mhttp://localhost:5901/\u001b[39m\u001b[24m\n",
      "\u001b[32mGET: /\u001b[39m\n",
      "\n",
      "\u001b[32mGET: /about/overview.html\u001b[39m\n",
      "\u001b[32mGET: /\u001b[39m\n",
      "\u001b[32mGET: /about/overview.html\u001b[39m\n",
      "\n",
      "\u001b[32mGET: /releases/2025-jan-02/release-notes.html\u001b[39m\n"
     ]
    }
   ],
   "source": [
    "%%bash\n",
    "cd ../site\n",
    "quarto preview"
   ]
  },
  {
   "cell_type": "markdown",
   "metadata": {},
   "source": [
    "<div class=\"alert alert-block alert-info\" style=\"background-color: #B5B5B510; color: black; border: 1px solid #083E44; border-left-width: 5px; box-shadow: 2px 2px 4px rgba(0, 0, 0, 0.2);border-radius: 5px;\"><span style=\"color: #083E44;\"><b>When you're done with the preview, please restart the kernel.</b></span>\n",
    "<br></br>\n",
    "Make sure that when you commit your changes to remote, do NOT include the changes in the <code>~/release-scripts/</code> folder as that would commit changed notebook with the output cells.</div>"
   ]
  },
  {
   "cell_type": "markdown",
   "metadata": {},
   "source": [
    "<a id='toc5_3_'></a>\n",
    "\n",
    "### Wrap it up \n",
    "\n",
    "**You may want to send a commit up to remote before you begin editing so you have a backup.**\n",
    "\n",
    "- [ ] Make sure that the new yearly accordion menu displays as expected in the sidebar under `About > Releases`.\n",
    "- [ ] Check in `_quarto.yml` that the `# CURRENT-YEAR-END-MARKER` was moved to above your rounded up releases for your specified year.\n",
    "- [ ] Double-check the files edited by `Fix broken filepaths` to ensure that the new links resolve correctly\n",
    "- [ ] Resolve any relative links found in `Retrieve relative paths` that were broken by the move. \n",
    "- [ ] Resolve any other links that might have been broken by the move by checking using `quarto render`. \n",
    "- [ ] Review the summaries at the top of each release page to make sure they look good on the listing tiles.\n",
    "- [ ] Make sure any relevant files are committed to remote in preparation for your PR!"
   ]
  }
 ],
 "metadata": {
  "kernelspec": {
   "display_name": "Python 3",
   "language": "python",
   "name": "python3"
  },
  "language_info": {
   "codemirror_mode": {
    "name": "ipython",
    "version": 3
   },
   "file_extension": ".py",
   "mimetype": "text/x-python",
   "name": "python",
   "nbconvert_exporter": "python",
   "pygments_lexer": "ipython3",
   "version": "3.10.14"
  }
 },
 "nbformat": 4,
 "nbformat_minor": 2
}
