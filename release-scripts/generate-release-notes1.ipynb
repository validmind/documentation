{
 "cells": [
  {
   "cell_type": "markdown",
   "metadata": {},
   "source": [
    "# Generate release notes"
   ]
  },
  {
   "cell_type": "markdown",
   "metadata": {},
   "source": [
    "This notebook guides you through the process of creating release notes. Using `generate_release_objects.py` and the OpenAI API, we are able to automate the release notes authoring process. "
   ]
  },
  {
   "cell_type": "markdown",
   "metadata": {},
   "source": [
    "## Contents<a id='toc0_'></a>    \n",
    "- [Import necessary libraries](#toc1_)    \n",
    "- [Set up OpenAI API](#toc2_)    \n",
    "- [Set labels](#toc3_)    \n",
    "- [Collect GitHub URLs](#toc4_)    \n",
    "- [Set the release date](#toc5_)    \n",
    "- [Create release folder](#toc6_)    \n",
    "- [Start writing to release notes file](#toc7_)    \n",
    "- [Set up release notes components](#toc8_)    \n",
    "- [Set the repository and tag name](#toc9_)    \n",
    "- [Extract PRs from each URL](#toc10_)    \n",
    "- [Load PR data](#toc11_)    \n",
    "- [Compile and edit release notes body](#toc12_)    \n",
    "- [Edit each title](#toc13_)    \n",
    "- [Set labels for each PR](#toc14_)    \n",
    "- [Assign PR details to PR](#toc15_)    \n",
    "- [Combine all PR data into the same release notes components](#toc16_)    \n",
    "- [Write release notes to file](#toc17_)    \n",
    "- [Update sidebar](#toc18_)    \n",
    "- [Show files to commit](#toc19_)    \n",
    "- [Preview and edit changes](#toc20_)    \n",
    "\n",
    "<!-- vscode-jupyter-toc-config\n",
    "\tnumbering=false\n",
    "\tanchor=true\n",
    "\tflat=false\n",
    "\tminLevel=2\n",
    "\tmaxLevel=4\n",
    "\t/vscode-jupyter-toc-config -->\n",
    "<!-- THIS CELL WILL BE REPLACED ON TOC UPDATE. DO NOT WRITE YOUR TEXT IN THIS CELL -->"
   ]
  },
  {
   "cell_type": "markdown",
   "metadata": {},
   "source": [
    "## Prerequisites\n",
    "You should be on a separate branch associated to the story for the release notes. See [our release notes guide](https://www.notion.so/validmind/On-release-notes-20de4e7ea03f402587514f6c9eda3bb1) for the steps needed before running this notebook."
   ]
  },
  {
   "cell_type": "markdown",
   "metadata": {},
   "source": [
    "## <a id='toc1_'></a>Import necessary libraries [](#toc0_)\n",
    "\n",
    "This cell imports any dependencies and some functions from `generate_release_objects.py`."
   ]
  },
  {
   "cell_type": "code",
   "execution_count": null,
   "metadata": {},
   "outputs": [],
   "source": [
    "import requests\n",
    "import subprocess\n",
    "import json\n",
    "import re\n",
    "import shutil\n",
    "import numpy as np\n",
    "import datetime\n",
    "import openai\n",
    "from dotenv import load_dotenv\n",
    "import os\n",
    "\n",
    "from generate_release_objects import ReleaseURL, PR\n",
    "from generate_release_objects import get_release_date, write_prs_to_file"
   ]
  },
  {
   "cell_type": "markdown",
   "metadata": {},
   "source": [
    "## <a id='toc2_'></a>Set up OpenAI API [](#toc0_)\n",
    "\n",
    "Running this cell grabs your OpenAI API secret key from your `.env` file. If the relative path to your `.env` file is not `../.env`, change it to your relative path."
   ]
  },
  {
   "cell_type": "code",
   "execution_count": null,
   "metadata": {},
   "outputs": [],
   "source": [
    "def setup_openai_api():\n",
    "    \"\"\"Loads .env file and updates the OpenAI API key. \n",
    "    \n",
    "    Replace '../.env' with the relative path to your .env file.\n",
    "\n",
    "    Modifies:\n",
    "        openai.api_key\n",
    "    \"\"\"\n",
    "    # Load environment variables\n",
    "    load_dotenv('../.env') # replace to match your correct path\n",
    "\n",
    "    # Get the OpenAI API key\n",
    "    api_key = os.getenv('OPENAI_API_KEY')\n",
    "    if not api_key:\n",
    "        raise EnvironmentError(\"OpenAI API key is not set in .env file.\")\n",
    "\n",
    "    # Set the API key for the OpenAI library\n",
    "    openai.api_key = api_key\n",
    "\n",
    "setup_openai_api()"
   ]
  },
  {
   "cell_type": "markdown",
   "metadata": {},
   "source": [
    "## <a id='toc3_'></a>Set labels [](#toc0_)\n",
    "\n",
    "This cell creates the main sections of the release notes. `label_hierarchy` shows the order in which updates will be shown."
   ]
  },
  {
   "cell_type": "code",
   "execution_count": null,
   "metadata": {},
   "outputs": [],
   "source": [
    "\n",
    "label_to_category = {\n",
    "    \"highlight\": \"## Release highlights\",\n",
    "    \"enhancement\": \"## Enhancements\",\n",
    "    \"deprecation\": \"## Deprecations\",\n",
    "    \"bug\": \"## Bug fixes\",\n",
    "    \"documentation\": \"## Documentation\"\n",
    "}\n",
    "\n",
    "categories = { \n",
    "    \"highlight\": [],\n",
    "    \"enhancement\": [],\n",
    "    \"deprecation\": [],\n",
    "    \"bug\": [],\n",
    "    \"documentation\": []\n",
    "}\n",
    "\n",
    "label_hierarchy = [\"highlight\", \"deprecation\", \"bug\", \"enhancement\", \"documentation\"]"
   ]
  },
  {
   "cell_type": "markdown",
   "metadata": {},
   "source": [
    "## <a id='toc4_'></a>Collect GitHub URLs [](#toc0_)\n",
    "\n",
    "Running this cell will prompt you to enter your GitHub release URLs. Keep pasting them in until you're done, then press enter again.\n",
    "\n",
    "Example release URL: https://github.com/validmind/documentation/releases/tag/v2.4.4"
   ]
  },
  {
   "cell_type": "code",
   "execution_count": null,
   "metadata": {},
   "outputs": [],
   "source": [
    "def collect_github_urls(): \n",
    "    \"\"\"Collects release URLs from user.\n",
    "\n",
    "    Returns:\n",
    "        List[ReleaseURL]: A list of ReleaseURL objects\n",
    "\n",
    "    Exits:\n",
    "        If the user presses enter and no URLs were entered\n",
    "    \"\"\"\n",
    "    urls = []\n",
    "    while True:\n",
    "        url = input(\"Enter a full GitHub release URL (leave empty to finish): \")\n",
    "        if not url:\n",
    "            if not urls:  # Check if no URLs have been added yet\n",
    "                print(\"Error: You must specify at least one full GitHub release URL.\")\n",
    "                exit(1)  # Exit the script with an error code\n",
    "            break\n",
    "        urls.append(ReleaseURL(url))\n",
    "    return urls \n",
    "\n",
    "github_urls = collect_github_urls() # the only big global variable"
   ]
  },
  {
   "cell_type": "markdown",
   "metadata": {},
   "source": [
    "## <a id='toc5_'></a>Set the release date [](#toc0_)\n",
    "Running this cell will prompt you to enter the desired release date. \n",
    "The default is 3 business days from today if you leave the prompt empty."
   ]
  },
  {
   "cell_type": "code",
   "execution_count": null,
   "metadata": {},
   "outputs": [],
   "source": [
    "\n",
    "release_datetime = get_release_date()\n",
    "formatted_release_date = release_datetime.strftime(\"%Y-%b-%d\").lower()\n",
    "original_release_date = release_datetime.strftime(\"%B %-d, %Y\")"
   ]
  },
  {
   "cell_type": "markdown",
   "metadata": {},
   "source": [
    "## <a id='toc6_'></a>Create release folder [](#toc0_)\n",
    "\n",
    "These lines will create a folder inside of `~/site/releases` for the release notes. The folder name is the release date, as per our convention."
   ]
  },
  {
   "cell_type": "code",
   "execution_count": null,
   "metadata": {},
   "outputs": [],
   "source": [
    "\n",
    "directory_path = f\"../site/releases/{formatted_release_date}/\"\n",
    "os.makedirs(directory_path, exist_ok=True)\n",
    "output_file = f\"{directory_path}release-notes.qmd\""
   ]
  },
  {
   "cell_type": "markdown",
   "metadata": {},
   "source": [
    "## <a id='toc7_'></a>Start writing to release notes file [](#toc0_)\n",
    "This block writes the title of the release notes into the final release notes file."
   ]
  },
  {
   "cell_type": "code",
   "execution_count": null,
   "metadata": {},
   "outputs": [],
   "source": [
    "\n",
    "print(\"Generating & editing release notes ...\")\n",
    "\n",
    "with open(output_file, \"w\") as file:\n",
    "    file.write(f\"---\\ntitle: \\\"{original_release_date}\\\"\\n---\\n\\n\")\n"
   ]
  },
  {
   "cell_type": "markdown",
   "metadata": {},
   "source": [
    "## <a id='toc8_'></a>Set up release notes components [](#toc0_)\n",
    "`release_components` will contain all the components of the release notes in the form of a dictionary. Later, we will merge everything together to create the release notes."
   ]
  },
  {
   "cell_type": "code",
   "execution_count": null,
   "metadata": {},
   "outputs": [],
   "source": [
    "release_components = dict()\n",
    "release_components.update(categories)"
   ]
  },
  {
   "cell_type": "markdown",
   "metadata": {},
   "source": [
    "## <a id='toc9_'></a>Set the repository and tag name [](#toc0_)\n",
    "This block checks every URL and assigns its repo name, such as `documentation` or `backend`, and its tag name."
   ]
  },
  {
   "cell_type": "code",
   "execution_count": null,
   "metadata": {},
   "outputs": [],
   "source": [
    "for url in github_urls:\n",
    "    url.set_repo_and_tag_name() "
   ]
  },
  {
   "cell_type": "markdown",
   "metadata": {},
   "source": [
    "## <a id='toc10_'></a>Extract PRs from each URL [](#toc0_)\n",
    "This block finds all the pull requests from each URL and stores them somewhere safe."
   ]
  },
  {
   "cell_type": "code",
   "execution_count": null,
   "metadata": {},
   "outputs": [],
   "source": [
    "ansi_escape = re.compile(r'\\x1B\\[[0-?]*[ -/]*[@-~]')\n",
    "\n",
    "def notebook_extract_prs(self):\n",
    "    \"\"\"Extracts PRs from the release URL.\n",
    "\n",
    "    Modifies:\n",
    "        self.prs\n",
    "        self.data_json\n",
    "    \"\"\"\n",
    "    cmd_release = ['gh', 'api', f'repos/{self.repo_name}/releases/tags/{self.tag_name}']\n",
    "    result_release = subprocess.run(cmd_release, capture_output=True, text=True)\n",
    "    output_release = result_release.stdout.strip()\n",
    "\n",
    "    output_release_clean = ansi_escape.sub('', output_release)\n",
    "\n",
    "    try:\n",
    "        self.data_json = json.loads(output_release_clean)\n",
    "    except json.JSONDecodeError:\n",
    "        print(f\"Error: Unable to parse release data for URL '{self.url}'.\")      \n",
    "    \n",
    "    if 'body' in self.data_json:\n",
    "        body = self.data_json['body']\n",
    "        pr_numbers = re.findall(r\"https://github\\.com/.+/pull/(\\d+)\", body)\n",
    "\n",
    "        for pr_number in pr_numbers: # initialize PR objects using pr_numbers and add to list of PRs\n",
    "            curr_PR = PR(self.repo_name, pr_number)\n",
    "            self.prs.append(curr_PR)\n",
    "\n",
    "    else:\n",
    "        print(f\"Error: No body found in release data for URL '{self.url}'.\")\n",
    "\n",
    "ReleaseURL.extract_prs = notebook_extract_prs\n",
    "\n",
    "for url in github_urls:\n",
    "    url.extract_prs() # initializes PR objects into a list for each URL"
   ]
  },
  {
   "cell_type": "markdown",
   "metadata": {},
   "source": [
    "## <a id='toc11_'></a>Load PR data [](#toc0_)\n",
    "\n",
    "Using the JSON data from the PRs, this block extracts and stores data from each PR."
   ]
  },
  {
   "cell_type": "code",
   "execution_count": null,
   "metadata": {},
   "outputs": [],
   "source": [
    "def notebook_load_data_json(self):\n",
    "    \"\"\"Loads the JSON data from a PR to self.data_json, sets to None if any labels are 'internal'\n",
    "\n",
    "    Modifies:\n",
    "        self.data_json\n",
    "    \"\"\"\n",
    "    cmd = ['gh', 'pr', 'view', self.pr_number, '--json', 'title,body,url,labels', '--repo', self.repo_name]\n",
    "    result = subprocess.run(cmd, capture_output=True, text=True)\n",
    "    output = result.stdout.strip()\n",
    "\n",
    "    output_clean = ansi_escape.sub('', output)\n",
    "\n",
    "    try:\n",
    "        self.data_json = json.loads(output_clean)\n",
    "    except json.JSONDecodeError:\n",
    "        print(f\"Error: Unable to parse PR data for PR number {self.pr_number} in repository {self.repo_name}.\")\n",
    "        return None\n",
    "    \n",
    "    if any(label['name'] == 'internal' for label in self.data_json['labels']):\n",
    "        self.data_json = None  # Ignore PRs with the 'internal' label\n",
    "\n",
    "PR.load_data_json = notebook_load_data_json\n",
    "\n",
    "for url in github_urls:\n",
    "    for pr in url.prs:\n",
    "        pr.load_data_json() # loads json file into object\n"
   ]
  },
  {
   "cell_type": "markdown",
   "metadata": {},
   "source": [
    "## <a id='toc12_'></a>Compile and edit release notes body [](#toc0_)\n",
    "\n",
    "(20s)\n",
    "Using the prompt below, this block feeds the body of each PR to ChatGPT for editing. If you find that the output is not quite right, edit the prompt and play around with it."
   ]
  },
  {
   "cell_type": "code",
   "execution_count": null,
   "metadata": {},
   "outputs": [],
   "source": [
    "editing_instructions_body = \"\"\"\n",
    "    Please edit the provided technical content according to the following guidelines:\n",
    "\n",
    "    - Use simple and neutral language in the active voice.\n",
    "    - Address users directly in the second person with \"you\".\n",
    "    - Use present tense by avoiding the use of \"will\".\n",
    "    - Apply sentence-style capitalization to text\n",
    "    - Always capitalize the first letter of text on each line.\n",
    "    - Rewrite sentences that are longer than 25 words as multiple sentences.\n",
    "    - Only split text across multiple lines if the text contains more than three sentences.\n",
    "    - Avoid handwaving references to \"it\" or \"this\" by including the text referred to. \n",
    "    - Treat short text of less than ten words without a period at the end as a heading. \n",
    "    - Enclose any words joined by underscores in backticks (`) if they aren't already.\n",
    "    - Remove exclamation marks from text.\n",
    "    - Remove quotes around non-code words.\n",
    "    - Remove the text \"feat:\" from the output\n",
    "    - Maintain existing punctuation at the end of sentences.\n",
    "    - Maintain all original hyperlinks for reference.\n",
    "    - Preserve all comments in the format <!--- COMMENT ---> as they appear in the text.\n",
    "    \"\"\"\n",
    "\n",
    "for url in github_urls:\n",
    "    for pr in url.prs:\n",
    "        if pr.data_json: \n",
    "            if pr.extract_external_release_notes(): pr.edit_text_with_openai(False, editing_instructions_body)\n"
   ]
  },
  {
   "cell_type": "markdown",
   "metadata": {},
   "source": [
    "## <a id='toc13_'></a>Edit each title [](#toc0_)\n",
    "This block does the same as above for the titles of each PR. The output below will show the original PR title, the title after some algorithmic changes, and the title after ChatGPT edits it. If you find that it's not good after editing with ChatGPT, feel free to edit the prompt below."
   ]
  },
  {
   "cell_type": "code",
   "execution_count": null,
   "metadata": {},
   "outputs": [],
   "source": [
    "editing_instructions_title = \"\"\"\n",
    "    Please edit the provided technical content according to the following guidelines:\n",
    "\n",
    "    - Use simple and neutral language in the active voice.\n",
    "    - Address users directly in the second person with \"you\".\n",
    "    - Use present tense by avoiding the use of \"will\".\n",
    "    - Apply sentence-style capitalization to text\n",
    "    - Always capitalize the first letter of text on each line.\n",
    "    - Rewrite sentences that are longer than 25 words as multiple sentences.\n",
    "    - Only split text across multiple lines if the text contains more than three sentences.\n",
    "    - Avoid handwaving references to \"it\" or \"this\" by including the text referred to. \n",
    "    - Treat short text of less than ten words without a period at the end as a heading. \n",
    "    - Enclose any words joined by underscores in backticks (`) if they aren't already.\n",
    "    - Remove exclamation marks from text.\n",
    "    - Remove quotes around non-code words.\n",
    "    - Remove the text \"feat:\" from the output\n",
    "    - Maintain existing punctuation at the end of sentences.\n",
    "    - Maintain all original hyperlinks for reference.\n",
    "    - Preserve all comments in the format <!--- COMMENT ---> as they appear in the text.\n",
    "    \"\"\"\n",
    "\n",
    "for url in github_urls:\n",
    "    for pr in url.prs:\n",
    "        if pr.data_json: \n",
    "            pr.title = pr.data_json['title']\n",
    "            pr.clean_title(editing_instructions_title)\n"
   ]
  },
  {
   "cell_type": "markdown",
   "metadata": {},
   "source": [
    "## <a id='toc14_'></a>Set labels for each PR [](#toc0_)\n",
    "This block takes the label data from each PR and assigns it to the PR."
   ]
  },
  {
   "cell_type": "code",
   "execution_count": null,
   "metadata": {},
   "outputs": [],
   "source": [
    "\n",
    "for url in github_urls:\n",
    "    for pr in url.prs:\n",
    "        if pr.data_json: pr.labels = [label['name'] for label in pr.data_json['labels']]\n"
   ]
  },
  {
   "cell_type": "markdown",
   "metadata": {},
   "source": [
    "## <a id='toc15_'></a>Assign PR details to PR [](#toc0_)\n",
    "This block compiles all the data we found earlier for each PR into one place. "
   ]
  },
  {
   "cell_type": "code",
   "execution_count": null,
   "metadata": {},
   "outputs": [],
   "source": [
    "\n",
    "for url in github_urls:\n",
    "    for pr in url.prs:\n",
    "        if pr.data_json: pr.pr_details = {\n",
    "            'pr_number': pr.pr_number,\n",
    "            'title': pr.cleaned_title,\n",
    "            'full_title': pr.data_json['title'],\n",
    "            'url': pr.data_json['url'],\n",
    "            'labels': \", \".join(pr.labels),\n",
    "            'notes': pr.edited_text\n",
    "        }\n"
   ]
  },
  {
   "cell_type": "markdown",
   "metadata": {},
   "source": [
    "## <a id='toc16_'></a>Combine all PR data into the same release notes components [](#toc0_)\n",
    "Now, we can take all the details we compiled above and append them to our final release notes components. Since we want to show features in order of importance, we sort by the priority of the label."
   ]
  },
  {
   "cell_type": "code",
   "execution_count": null,
   "metadata": {},
   "outputs": [],
   "source": [
    "\n",
    "for url in github_urls:\n",
    "    for pr in url.prs:\n",
    "        if pr.data_json:\n",
    "            assigned = False \n",
    "            for priority_label in label_hierarchy:\n",
    "                if priority_label in pr.labels:\n",
    "                    release_components[priority_label].append(pr.pr_details)\n",
    "                    assigned = True\n",
    "                    break\n",
    "            if not assigned:\n",
    "                release_components.setdefault('other', []).append(pr.pr_details)"
   ]
  },
  {
   "cell_type": "markdown",
   "metadata": {},
   "source": [
    "## <a id='toc17_'></a>Write release notes to file [](#toc0_)\n",
    "Now that `release_components` contains everything we need for the release notes, we can write it to our release notes file."
   ]
  },
  {
   "cell_type": "code",
   "execution_count": null,
   "metadata": {},
   "outputs": [],
   "source": [
    "# Write categorized PRs to the file\n",
    "with open(output_file, \"a\") as file:\n",
    "    write_prs_to_file(file, release_components, label_to_category)\n"
   ]
  },
  {
   "cell_type": "markdown",
   "metadata": {},
   "source": [
    "## <a id='toc18_'></a>Update sidebar [](#toc0_)\n",
    "This block will go into our `_quarto.yml` file and add the new release notes so it shows up on the sidebar of the docsite. "
   ]
  },
  {
   "cell_type": "code",
   "execution_count": null,
   "metadata": {},
   "outputs": [],
   "source": [
    "\n",
    "def update_quarto_yaml(release_date):\n",
    "    \"\"\"Updates the _quarto.yml file to include the release notes file so it can be accessed on the website.\n",
    "\n",
    "    Params:\n",
    "        release_date - release notes use the release date as the file name.\n",
    "    \n",
    "    Modifies:\n",
    "        _quarto.yml file\n",
    "    \"\"\"\n",
    "    yaml_filename = \"../site/_quarto.yml\"\n",
    "    temp_yaml_filename = \"../site/_quarto_temp.yml\"\n",
    "\n",
    "    # Copy the original YAML file to a temporary file\n",
    "    shutil.copyfile(yaml_filename, temp_yaml_filename)\n",
    "\n",
    "    with open(temp_yaml_filename, 'r') as file:\n",
    "        lines = file.readlines()\n",
    "\n",
    "    # Format the release date for insertion into the YAML file\n",
    "    formatted_release_date = release_date.strftime(\"%Y-%b-%d\").lower()\n",
    "\n",
    "    with open(yaml_filename, 'w') as file:\n",
    "        add_release_content = False\n",
    "        insert_index = -1\n",
    "\n",
    "        for i, line in enumerate(lines):\n",
    "            file.write(line)\n",
    "            if line.strip() == \"# MAKE-RELEASE-NOTES-EMBED-MARKER\":\n",
    "                add_release_content = True\n",
    "                insert_index = i\n",
    "\n",
    "            if add_release_content and i == insert_index:\n",
    "                file.write(f'        - releases/{formatted_release_date}/release-notes.qmd\\n')\n",
    "                add_release_content = False\n",
    "\n",
    "    # Remove the temporary file\n",
    "    os.remove(temp_yaml_filename)\n",
    "    \n",
    "    print(f\"Added release notes to _quarto.yml, line {insert_index + 2}\")\n",
    "\n",
    "update_quarto_yaml(release_datetime)"
   ]
  },
  {
   "cell_type": "markdown",
   "metadata": {},
   "source": [
    "## <a id='toc19_'></a>Show files to commit [](#toc0_)"
   ]
  },
  {
   "cell_type": "code",
   "execution_count": null,
   "metadata": {},
   "outputs": [],
   "source": [
    "# After completing all tasks, print git status to show output files\n",
    "try:\n",
    "    result = subprocess.run([\"git\", \"status\", \"--short\"], check=True, text=True, capture_output=True)\n",
    "    lines = result.stdout.split('\\n')\n",
    "    print(\"Files to commit:\")\n",
    "    for line in lines:\n",
    "        if line.startswith((' M', '??', 'A ')):\n",
    "            print(line)\n",
    "except subprocess.CalledProcessError as e:\n",
    "    print(\"Failed to run git status:\", e)"
   ]
  },
  {
   "cell_type": "markdown",
   "metadata": {},
   "source": [
    "## <a id='toc20_'></a>Preview and edit changes [](#toc0_)\n",
    "Run this cell to preview your changes, and make edits to the release notes file you just generated."
   ]
  },
  {
   "cell_type": "code",
   "execution_count": null,
   "metadata": {},
   "outputs": [],
   "source": [
    "%%bash\n",
    "cd ../site\n",
    "quarto preview"
   ]
  }
 ],
 "metadata": {
  "kernelspec": {
   "display_name": "Python 3",
   "language": "python",
   "name": "python3"
  },
  "language_info": {
   "codemirror_mode": {
    "name": "ipython",
    "version": 3
   },
   "file_extension": ".py",
   "mimetype": "text/x-python",
   "name": "python",
   "nbconvert_exporter": "python",
   "pygments_lexer": "ipython3",
   "version": "3.11.9"
  }
 },
 "nbformat": 4,
 "nbformat_minor": 2
}
