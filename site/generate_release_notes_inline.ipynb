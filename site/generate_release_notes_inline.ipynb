{
 "cells": [
  {
   "cell_type": "markdown",
   "metadata": {},
   "source": [
    "# Generate release notes"
   ]
  },
  {
   "cell_type": "markdown",
   "metadata": {},
   "source": [
    "## Import necessary libraries\n",
    "In order to run this notebook, check that the kernel is _____ and _____.\n",
    "\n",
    "Now run the following code cell to import necessary libraries."
   ]
  },
  {
   "cell_type": "code",
   "execution_count": null,
   "metadata": {},
   "outputs": [],
   "source": [
    "import requests\n",
    "import subprocess\n",
    "import json\n",
    "import re\n",
    "import shutil\n",
    "import numpy as np\n",
    "import datetime\n",
    "import openai\n",
    "from dotenv import load_dotenv\n",
    "import os\n",
    "from functools import reduce"
   ]
  },
  {
   "cell_type": "markdown",
   "metadata": {},
   "source": [
    "## Setup for OpenAI API\n",
    "\n",
    "Replace \"YOUR_OPENAI_API_KEY\" with your API key. \n",
    "\n",
    "TODO: Make an if/else that checks for a .env file and grab from there first before doing this thing"
   ]
  },
  {
   "cell_type": "code",
   "execution_count": null,
   "metadata": {},
   "outputs": [],
   "source": [
    "def setup_openai_api(api_key):\n",
    "    if not api_key:\n",
    "        raise EnvironmentError(\"OpenAI API key is not set.\")\n",
    "\n",
    "    openai.api_key = api_key\n",
    "\n",
    "# Input your OpenAI API key here\n",
    "api_key = \"YOUR_OPENAI_API_KEY\"\n",
    "setup_openai_api(api_key)"
   ]
  },
  {
   "cell_type": "markdown",
   "metadata": {},
   "source": [
    "## Add GitHub release URLs\n",
    "Add release URLs from the documentation, backend, and frontend repos into the cell below."
   ]
  },
  {
   "cell_type": "code",
   "execution_count": null,
   "metadata": {},
   "outputs": [],
   "source": [
    "github_urls = [\n",
    "    \"https://github.com/your_repo/releases/tag/your_tag\"\n",
    "    # Add more URLs here\n",
    "    \"Paste documentation repo - delete this line if you don't need, or add more lines if there are more\"\n",
    "    \"Paste frontend repo\"\n",
    "    \"Paste backend repo\"\n",
    "    \"Paste developer framework repo\"\n",
    "]"
   ]
  },
  {
   "cell_type": "markdown",
   "metadata": {},
   "source": [
    "## Get PR numbers from URLs\n",
    "Running this cell will grab the URLs and parse the data from them. It mainly checks if the URLs from above are the right format."
   ]
  },
  {
   "cell_type": "code",
   "execution_count": null,
   "metadata": {},
   "outputs": [],
   "source": [
    "def get_pr_numbers_from_url(release_url):\n",
    "    match = re.search(r\"github\\.com/(.+)/releases/tag/(.+)$\", release_url)\n",
    "    if not match:\n",
    "        print(f\"Error: Invalid URL format '{release_url}'.\")\n",
    "        return [], []\n",
    "    \n",
    "    repo_name, tag_name = match.groups()\n",
    "    cmd_release = ['gh', 'api', f'repos/{repo_name}/releases/tags/{tag_name}']\n",
    "    result_release = subprocess.run(cmd_release, capture_output=True, text=True)\n",
    "    output_release = result_release.stdout.strip()\n",
    "    try:\n",
    "        release_data = json.loads(output_release)\n",
    "    except json.JSONDecodeError:\n",
    "        print(f\"Error: Unable to parse release data for URL '{release_url}'.\")\n",
    "        return repo_name, []\n",
    "    \n",
    "    if 'body' in release_data:\n",
    "        body = release_data['body']\n",
    "        pr_numbers = re.findall(r\"https://github\\.com/.+/pull/(\\d+)\", body)\n",
    "        return repo_name, set(pr_numbers)\n",
    "    else:\n",
    "        print(f\"Error: No body found in release data for URL '{release_url}'.\")\n",
    "        return repo_name, []\n",
    "\n",
    "# Example usage:\n",
    "# repo_name, pr_numbers = get_pr_numbers_from_url(github_urls[0])\n",
    "# print(repo_name, pr_numbers)"
   ]
  },
  {
   "cell_type": "markdown",
   "metadata": {},
   "source": [
    "## Get PR data\n",
    "This cell works"
   ]
  },
  {
   "cell_type": "code",
   "execution_count": null,
   "metadata": {},
   "outputs": [],
   "source": [
    "def get_pr_data(repo_name, pr_number):\n",
    "    cmd = ['gh', 'pr', 'view', pr_number, '--json', 'title,body,url,labels', '--repo', repo_name]\n",
    "    result = subprocess.run(cmd, capture_output=True, text=True)\n",
    "    output = result.stdout.strip()\n",
    "    try:\n",
    "        pr_data = json.loads(output)\n",
    "    except json.JSONDecodeError:\n",
    "        print(f\"Error: Unable to parse PR data for PR number {pr_number} in repository {repo_name}.\")\n",
    "        return None\n",
    "    \n",
    "    if any(label['name'] == 'internal' for label in pr_data['labels']):\n",
    "        return None  # Ignore PRs with the 'internal' label\n",
    "    return pr_data\n",
    "\n",
    "# Example usage:\n",
    "# pr_data = get_pr_data(repo_name, pr_numbers.pop())\n",
    "# print(pr_data)"
   ]
  },
  {
   "cell_type": "markdown",
   "metadata": {},
   "source": [
    "## Extract external release notes\n",
    "This function looks through our release notes and takes the data that we marked external, or put under **External Release Notes**."
   ]
  },
  {
   "cell_type": "code",
   "execution_count": null,
   "metadata": {},
   "outputs": [],
   "source": [
    "def extract_external_release_notes(pr_body):\n",
    "    match = re.search(r\"## External Release Notes(.+)\", pr_body, re.DOTALL)\n",
    "    if match:\n",
    "        extracted_text = match.group(1).strip()\n",
    "        modified_text = '\\n'.join(''.join(['#', line]) if line.lstrip().startswith('###') else line for line in extracted_text.split('\\n'))\n",
    "        edited_text = edit_text_with_openai(modified_text)\n",
    "        return edited_text\n",
    "    return None\n",
    "\n",
    "# Example usage:\n",
    "# if pr_data:\n",
    "#     release_notes = extract_external_release_notes(pr_data['body'])\n",
    "#     print(release_notes)\n"
   ]
  },
  {
   "cell_type": "markdown",
   "metadata": {},
   "source": [
    "## Generate the title\n",
    "Not sure what this does exactly, but we'll get there"
   ]
  },
  {
   "cell_type": "code",
   "execution_count": null,
   "metadata": {},
   "outputs": [],
   "source": [
    "def clean_title(title):\n",
    "    title = re.sub(r\"\\[.*?\\]\", \"\", title)\n",
    "    parts = title.split('/')\n",
    "    if len(parts) > 1:\n",
    "        title = parts[-1].strip()\n",
    "        if title and title[0].islower():\n",
    "            title = title[0].upper() + title[1:]\n",
    "    title = title.strip()\n",
    "    edited_title = edit_text_with_openai(title)\n",
    "    return edited_title.rstrip('.')\n",
    "\n",
    "# Example usage:\n",
    "# if pr_data:\n",
    "#     cleaned_title = clean_title(pr_data['title'])\n",
    "#     print(cleaned_title)\n"
   ]
  },
  {
   "cell_type": "markdown",
   "metadata": {},
   "source": [
    "## Feed data into ChatGPT to generate release notes\n",
    "The text in the triple-quotes (\"\"\") is fed into ChatGPT to generate release notes out of our data. If you find that the output isn't how you like it, for example it's too informal, you can modify the prompt below.\n",
    "\n",
    "TODO: Editing instructions in a separate cell with the text from above"
   ]
  },
  {
   "cell_type": "code",
   "execution_count": null,
   "metadata": {},
   "outputs": [],
   "source": [
    "# Cell 8: Edit text with OpenAI\n",
    "def edit_text_with_openai(lines):\n",
    "    original_text = \"\\n\".join(lines)\n",
    "    client = openai.OpenAI() \n",
    "\n",
    "    editing_instructions = \"\"\"\n",
    "    Please edit the provided technical content according to the following guidelines:\n",
    "    - Use simple and neutral language in the active voice.\n",
    "    - Address users directly in the second person with \"you\".\n",
    "    - Use present tense by avoiding the use of \"will\".\n",
    "    - Apply sentence-style capitalization to text\n",
    "    - Always capitalize the first letter of text on each line.\n",
    "    - Rewrite sentences that are longer than 25 words as multiple sentences.\n",
    "    - Only split text across multiple lines if the text contains more than three sentences.\n",
    "    - Avoid handwaving references to \"it\" or \"this\" by including the text referred to. \n",
    "    - Treat short text of less than ten words without a period at the end as a heading. \n",
    "    - Enclose any words joined by underscores in backticks (`) if they aren't already.\n",
    "    - Remove exclamation marks from text.\n",
    "    - Remove quotes around non-code words.\n",
    "    - Remove the text \"feat:\" from the output\n",
    "    - Maintain existing punctuation at the end of sentences.\n",
    "    - Maintain all original hyperlinks for reference.\n",
    "    - Preserve all comments in the format <!--- COMMENT ---> as they appear in the text.\n",
    "    \"\"\"\n",
    "\n",
    "    try:\n",
    "        response = client.chat.completions.create(\n",
    "            model=\"gpt-4o\",\n",
    "            messages=[\n",
    "                {\n",
    "                    \"role\": \"system\", \n",
    "                    \"content\": editing_instructions\n",
    "                },\n",
    "                {\n",
    "                    \"role\": \"user\", \n",
    "                    \"content\": original_text\n",
    "                }\n",
    "                ],\n",
    "            max_tokens=4096,  # Adjust the token limit as needed\n",
    "            frequency_penalty=0.5,  # Modify repetition tendencies\n",
    "            presence_penalty=0.5  # Encourage diversity in responses\n",
    "        )\n",
    "        edited_text = response.choices[0].message.content\n",
    "        return edited_text\n",
    "\n",
    "    except Exception as e:\n",
    "        print(f\"\\nFailed to edit text with OpenAI: {str(e)}\")\n",
    "        print(f\"\\n{lines}\\n\")\n",
    "        return lines  # Return the original lines if the edit fails\n",
    "\n",
    "# Example usage:\n",
    "# edited_text = edit_text_with_openai([\"Example text to edit.\"])\n",
    "# print(edited_text)\n"
   ]
  },
  {
   "cell_type": "markdown",
   "metadata": {},
   "source": [
    "## Set the release date\n",
    "This function sets the release date as three business days from today, because _____. If you would like to change that, _____.\n",
    "\n",
    "TODO: set `date_input` in noteboook instead of calling `input()`."
   ]
  },
  {
   "cell_type": "code",
   "execution_count": null,
   "metadata": {},
   "outputs": [],
   "source": [
    "def get_release_date():\n",
    "    today = datetime.datetime.now().date()\n",
    "    np_today = np.datetime64(today, 'D')\n",
    "    three_business_days = np.busday_offset(np_today, 3, roll='forward')\n",
    "    three_business_days = three_business_days.astype('datetime64[D]').astype(datetime.date)\n",
    "    default_date = three_business_days.strftime(\"%B %d, %Y\")\n",
    "\n",
    "    date_input = input(f\"Enter the release date (Month Day, Year) [{default_date}]: \") or default_date\n",
    "    try:\n",
    "        validated_date = datetime.datetime.strptime(date_input, \"%B %d, %Y\")\n",
    "        return validated_date\n",
    "    except ValueError:\n",
    "        print(\"Invalid date format. Please try again using the format Month Day, Year (e.g., January 1, 2020).\")\n",
    "        return get_release_date()\n",
    "\n",
    "# Example usage:\n",
    "# release_datetime = get_release_date()\n",
    "# formatted_release_date = release_datetime.strftime(\"%Y-%b-%d\").lower()\n",
    "# original_release_date = release_datetime.strftime(\"%B %-d, %Y\")\n",
    "# print(formatted_release_date, original_release_date)\n"
   ]
  },
  {
   "cell_type": "markdown",
   "metadata": {},
   "source": [
    "## Update the Quarto file\n",
    "In order for our newly generated release notes to appear on our doc site, we need to update the `_quarto.yml` file to include them. This function adds our file info into the file so it will appear on the sidebar next to our other release notes."
   ]
  },
  {
   "cell_type": "code",
   "execution_count": null,
   "metadata": {},
   "outputs": [],
   "source": [
    "def update_quarto_yaml(output_file, release_date):\n",
    "    yaml_filename = \"_quarto.yml\"\n",
    "    temp_yaml_filename = \"_quarto_temp.yml\"\n",
    "\n",
    "    shutil.copyfile(yaml_filename, temp_yaml_filename)\n",
    "\n",
    "    with open(temp_yaml_filename, 'r') as file:\n",
    "        lines = file.readlines()\n",
    "\n",
    "    formatted_release_date = release_date.strftime(\"%Y-%b-%d\").lower()\n",
    "\n",
    "    with open(yaml_filename, 'w') as file:\n",
    "        add_release_content = False\n",
    "        insert_index = -1\n",
    "\n",
    "        for i, line in enumerate(lines):\n",
    "            file.write(line)\n",
    "            if line.strip() == \"# MAKE-RELEASE-NOTES-EMBED-MARKER\":\n",
    "                add_release_content = True\n",
    "                insert_index = i\n",
    "\n",
    "            if add_release_content and i == insert_index:\n",
    "                file.write(f'        - releases/{formatted_release_date}/release-notes.qmd\\n')\n",
    "                add_release_content = False\n",
    "\n",
    "    os.remove(temp_yaml_filename)\n",
    "    \n",
    "    print(f\"Added release notes to _quarto.yml, line {insert_index + 2}\")\n",
    "\n",
    "# Example usage:\n",
    "# update_quarto_yaml(output_file, release_datetime)"
   ]
  },
  {
   "cell_type": "markdown",
   "metadata": {},
   "source": [
    "## Write PRs to file\n",
    "Also not quite sure what this one does yet so we will update when we figure that out."
   ]
  },
  {
   "cell_type": "code",
   "execution_count": null,
   "metadata": {},
   "outputs": [],
   "source": [
    "def write_prs_to_file(file, categories, label_to_category):\n",
    "    for label, pr_list in categories.items():\n",
    "        if pr_list:\n",
    "            output_lines = [f\"{label_to_category.get(label, '## Other')}\\n\\n\"]\n",
    "            last_line_was_blank = False\n",
    "\n",
    "            for pr in pr_list:\n",
    "                pr_lines = [\n",
    "                    f\"<!---\\nPR #{pr['pr_number']}: {pr['full_title']}\\n\",\n",
    "                    f\"URL: {pr['url']}\\n\",\n",
    "                    f\"Labels: {pr['labels']}\\n\",\n",
    "                    f\"--->\\n### {pr['title']}\\n\\n\"\n",
    "                ]\n",
    "                \n",
    "                if pr['notes']:\n",
    "                    pr_lines.append(f\"{pr['notes']}\\n\\n\")\n",
    "                \n",
    "                for line in pr_lines:\n",
    "                    if line.strip() == \"\":\n",
    "                        if last_line_was_blank:\n",
    "                            continue\n",
    "                        last_line_was_blank = True\n",
    "                    else:\n",
    "                        last_line_was_blank = False\n",
    "                    output_lines.append(line)\n",
    "\n",
    "            file.writelines(output_lines)\n",
    "\n",
    "# Example usage:\n",
    "# with open(output_file, \"a\") as file:\n",
    "#     write_prs_to_file(file, categories, label_to_category)\n"
   ]
  },
  {
   "cell_type": "markdown",
   "metadata": {},
   "source": [
    "## Big boy generation stuff\n",
    "This function does the actual build of the release notes to fit our format. I think I want to split this code block into little ones up above so this gets done a little at a time."
   ]
  },
  {
   "cell_type": "code",
   "execution_count": null,
   "metadata": {},
   "outputs": [],
   "source": [
    "\n",
    "label_to_category = {\n",
    "    \"highlight\": \"## Release highlights\",\n",
    "    \"enhancement\": \"## Enhancements\",\n",
    "    \"deprecation\": \"## Deprecations\",\n",
    "    \"bug\": \"## Bug fixes\",\n",
    "    \"documentation\": \"## Documentation\"\n",
    "}\n",
    "categories = {\n",
    "    \"highlight\": [],\n",
    "    \"enhancement\": [],\n",
    "    \"deprecation\": [],\n",
    "    \"bug\": [],\n",
    "    \"documentation\": []\n",
    "}\n",
    "label_hierarchy = [\"highlight\", \"deprecation\", \"bug\", \"enhancement\", \"documentation\"]\n",
    "\n",
    "release_datetime = get_release_date()\n",
    "formatted_release_date = release_datetime.strftime(\"%Y-%b-%d\").lower()\n",
    "original_release_date = release_datetime.strftime(\"%B %-d, %Y\")\n",
    "\n",
    "directory_path = f\"releases/{formatted_release_date}/\"\n",
    "os.makedirs(directory_path, exist_ok=True)\n",
    "output_file = f\"{directory_path}release-notes.qmd\"\n",
    "\n",
    "print(\"Generating & editing release notes ...\")\n",
    "\n",
    "with open(output_file, \"w\") as file:\n",
    "    file.write(f\"---\\ntitle: \\\"{original_release_date}\\\"\\n---\\n\\n\")\n",
    "\n",
    "for url in github_urls:\n",
    "    repo_name, pr_numbers = get_pr_numbers_from_url(url)\n",
    "    if pr_numbers:\n",
    "        for pr_number in pr_numbers:\n",
    "            pr_data = get_pr_data(repo_name, pr_number)\n",
    "            print(f\"  Processing {repo_name}/#{pr_number} ...\")\n",
    "            if pr_data:\n",
    "                release_notes = extract_external_release_notes(pr_data['body'])\n",
    "                cleaned_title = clean_title(pr_data['title'])\n",
    "                labels = [label['name'] for label in pr_data['labels']]\n",
    "                pr_details = {\n",
    "                    'pr_number': pr_number,\n",
    "                    'title': cleaned_title,\n",
    "                    'full_title': pr_data['title'],\n",
    "                    'url': pr_data['url'],\n",
    "                    'labels': \", \".join(labels),\n",
    "                    'notes': release_notes\n",
    "                }\n",
    "\n",
    "                assigned = False\n",
    "                for priority_label in label_hierarchy:\n",
    "                    if priority_label in labels:\n",
    "                        categories[priority_label].append(pr_details)\n",
    "                        assigned = True\n",
    "                        break\n",
    "                if not assigned:\n",
    "                    categories.setdefault('other', []).append(pr_details)\n",
    "\n",
    "with open(output_file, \"a\") as file:\n",
    "    write_prs_to_file(file, categories, label_to_category)\n",
    "\n",
    "update_quarto_yaml(output_file, release_datetime)\n",
    "\n",
    "try:\n",
    "    result = subprocess.run([\"git\", \"status\", \"--short\"], check=True, text=True, capture_output=True)\n",
    "    lines = result.stdout.split('\\n')\n",
    "    print(\"Files to commit:\")\n",
    "    for line in lines:\n",
    "        if line.startswith((' M', '??', 'A ')):\n",
    "            print(line)\n",
    "except subprocess.CalledProcessError as e:\n",
    "    print(\"Failed to run git status:\", e)\n"
   ]
  },
  {
   "cell_type": "code",
   "execution_count": null,
   "metadata": {},
   "outputs": [],
   "source": [
    "\n",
    "for url in github_urls:\n",
    "    repo_name, pr_numbers = get_pr_numbers_from_url(url)\n",
    "    for pr_number in pr_numbers:\n",
    "        pr_data = get_pr_data(repo_name, pr_number)\n",
    "        if pr_data:\n",
    "            release_notes = extract_external_release_notes(pr_data['body'])\n",
    "            release_notes = edit_text_with_openai(release_notes)\n",
    "\n"
   ]
  },
  {
   "cell_type": "code",
   "execution_count": null,
   "metadata": {},
   "outputs": [],
   "source": [
    "\n",
    "for url in github_urls:\n",
    "    repo_name, pr_numbers = get_pr_numbers_from_url(url)\n",
    "    for pr_number in pr_numbers:\n",
    "        pr_data = get_pr_data(repo_name, pr_number)\n",
    "        if pr_data:\n",
    "            cleaned_title = clean_title(pr_data['title'])\n",
    "            \n",
    "\n"
   ]
  },
  {
   "cell_type": "code",
   "execution_count": null,
   "metadata": {},
   "outputs": [],
   "source": [
    "\n",
    "for url in github_urls:\n",
    "    repo_name, pr_numbers = get_pr_numbers_from_url(url)\n",
    "    for pr_number in pr_numbers:\n",
    "        pr_data = get_pr_data(repo_name, pr_number)\n",
    "        if pr_data:\n",
    "            labels = [label['name'] for label in pr_data['labels']]\n",
    "\n"
   ]
  },
  {
   "cell_type": "code",
   "execution_count": null,
   "metadata": {},
   "outputs": [],
   "source": [
    "\n",
    "for url in github_urls:\n",
    "    repo_name, pr_numbers = get_pr_numbers_from_url(url)\n",
    "    for pr_number in pr_numbers:\n",
    "        pr_data = get_pr_data(repo_name, pr_number)\n",
    "        if pr_data:\n",
    "\n"
   ]
  },
  {
   "cell_type": "code",
   "execution_count": null,
   "metadata": {},
   "outputs": [],
   "source": [
    "\n",
    "for url in github_urls:\n",
    "    repo_name, pr_numbers = get_pr_numbers_from_url(url)\n",
    "    for pr_number in pr_numbers:\n",
    "        pr_data = get_pr_data(repo_name, pr_number)\n",
    "        if pr_data:\n",
    "\n"
   ]
  },
  {
   "cell_type": "code",
   "execution_count": null,
   "metadata": {},
   "outputs": [],
   "source": [
    "\n",
    "for url in github_urls:\n",
    "    repo_name, pr_numbers = get_pr_numbers_from_url(url)\n",
    "    for pr_number in pr_numbers:\n",
    "        pr_data = get_pr_data(repo_name, pr_number)\n",
    "        if pr_data:\n",
    "\n"
   ]
  }
 ],
 "metadata": {
  "language_info": {
   "name": "python"
  }
 },
 "nbformat": 4,
 "nbformat_minor": 2
}
