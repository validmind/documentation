{
  "cells": [
    {
      "attachments": {},
      "cell_type": "markdown",
      "metadata": {},
      "source": [
        "# Time Series Data Validation Full Suite"
      ]
    },
    {
      "attachments": {},
      "cell_type": "markdown",
      "metadata": {},
      "source": [
        "## 1. Introduction"
      ]
    },
    {
      "attachments": {},
      "cell_type": "markdown",
      "metadata": {},
      "source": [
        "The Time Series Data Validation Demo notebook aims to demonstrate the application of various data validation tests using the **ValidMind MRM Platform** and **Developer Framework**. Ensuring the quality and an a robust exploratory data analysis of time series data is essential for accurate model predictions and robust decision-making processes.\n",
        "\n",
        "In this demo, we will walk through different **data validation suites of tests** tailored for time series data, showcasing how these tools can assist you in identifying potential issues and inconsistencies in the data. \n",
        "\n"
      ]
    },
    {
      "attachments": {},
      "cell_type": "markdown",
      "metadata": {},
      "source": [
        "## 2. Setup \n",
        "\n",
        "Prepare the environment for our analysis. First, **import** all necessary libraries and modules required for our analysis. Next, **connect** to the ValidMind MRM platform, which provides a comprehensive suite of tools and services for model validation.\n",
        "\n",
        "Finally, define and **configure** the specific use case we are working on by setting up any required parameters, data sources, or other settings that will be used throughout the analysis. "
      ]
    },
    {
      "attachments": {},
      "cell_type": "markdown",
      "metadata": {},
      "source": [
        "### Import Libraries"
      ]
    },
    {
      "cell_type": "code",
      "execution_count": 1,
      "metadata": {},
      "outputs": [],
      "source": [
        "# Load API key and secret from environment variables\n",
        "%load_ext dotenv\n",
        "%dotenv .env\n",
        "\n",
        "# ValidMind libraries \n",
        "import validmind as vm\n",
        "from validmind.datasets.regression import (\n",
        "    identify_frequencies, \n",
        "    resample_to_common_frequency\n",
        ")"
      ]
    },
    {
      "attachments": {},
      "cell_type": "markdown",
      "metadata": {},
      "source": [
        "### Connect to the ValidMind Library"
      ]
    },
    {
      "cell_type": "code",
      "execution_count": 2,
      "metadata": {},
      "outputs": [
        {
          "name": "stdout",
          "output_type": "stream",
          "text": [
            "Connected to ValidMind. Project: Customer Churn Model - Initial Validation (clhhz04x40000wcy6shay2oco)\n"
          ]
        }
      ],
      "source": [
        "vm.init(\n",
        "  api_host = \"http://localhost:3000/api/v1/tracking\",\n",
        "  project = \"clhhz04x40000wcy6shay2oco\"\n",
        ")"
      ]
    },
    {
      "attachments": {},
      "cell_type": "markdown",
      "metadata": {},
      "source": [
        "### Find All Test Suites and Plans Available in the Developer Framework"
      ]
    },
    {
      "attachments": {},
      "cell_type": "markdown",
      "metadata": {},
      "source": [
        "We can find all the **test suites** and **test plans** available in the developer framework by calling the following functions:\n",
        "\n",
        "- All test suites: `vm.test_suites.list_suites()`\n",
        "- All test plans: `vm.test_plans.list_plans()`\n",
        "- Describe a test plan: `vm.test_plans.describe_plan(\"time_series_data_quality\")`\n",
        "- List all available tests: `vm.test_plans.list_tests()`"
      ]
    },
    {
      "cell_type": "code",
      "execution_count": 3,
      "metadata": {},
      "outputs": [
        {
          "data": {
            "text/html": [
              "<style type=\"text/css\">\n",
              "</style>\n",
              "<table id=\"T_ac42f\">\n",
              "  <thead>\n",
              "    <tr>\n",
              "      <th id=\"T_ac42f_level0_col0\" class=\"col_heading level0 col0\" >ID</th>\n",
              "      <th id=\"T_ac42f_level0_col1\" class=\"col_heading level0 col1\" >Name</th>\n",
              "      <th id=\"T_ac42f_level0_col2\" class=\"col_heading level0 col2\" >Description</th>\n",
              "      <th id=\"T_ac42f_level0_col3\" class=\"col_heading level0 col3\" >Test Plans</th>\n",
              "    </tr>\n",
              "  </thead>\n",
              "  <tbody>\n",
              "    <tr>\n",
              "      <td id=\"T_ac42f_row0_col0\" class=\"data row0 col0\" >binary_classifier_full_suite</td>\n",
              "      <td id=\"T_ac42f_row0_col1\" class=\"data row0 col1\" >BinaryClassifierFullSuite</td>\n",
              "      <td id=\"T_ac42f_row0_col2\" class=\"data row0 col2\" >Full test suite for binary classification models.</td>\n",
              "      <td id=\"T_ac42f_row0_col3\" class=\"data row0 col3\" >tabular_dataset_description, tabular_data_quality, binary_classifier_metrics, binary_classifier_validation, binary_classifier_model_diagnosis</td>\n",
              "    </tr>\n",
              "    <tr>\n",
              "      <td id=\"T_ac42f_row1_col0\" class=\"data row1 col0\" >binary_classifier_model_validation</td>\n",
              "      <td id=\"T_ac42f_row1_col1\" class=\"data row1 col1\" >BinaryClassifierModelValidation</td>\n",
              "      <td id=\"T_ac42f_row1_col2\" class=\"data row1 col2\" >Test suite for binary classification models.</td>\n",
              "      <td id=\"T_ac42f_row1_col3\" class=\"data row1 col3\" >binary_classifier_metrics, binary_classifier_validation, binary_classifier_model_diagnosis</td>\n",
              "    </tr>\n",
              "    <tr>\n",
              "      <td id=\"T_ac42f_row2_col0\" class=\"data row2 col0\" >tabular_dataset</td>\n",
              "      <td id=\"T_ac42f_row2_col1\" class=\"data row2 col1\" >TabularDataset</td>\n",
              "      <td id=\"T_ac42f_row2_col2\" class=\"data row2 col2\" >Test suite for tabular datasets.</td>\n",
              "      <td id=\"T_ac42f_row2_col3\" class=\"data row2 col3\" >tabular_dataset_description, tabular_data_quality</td>\n",
              "    </tr>\n",
              "    <tr>\n",
              "      <td id=\"T_ac42f_row3_col0\" class=\"data row3 col0\" >time_series_dataset</td>\n",
              "      <td id=\"T_ac42f_row3_col1\" class=\"data row3 col1\" >TimeSeriesDataset</td>\n",
              "      <td id=\"T_ac42f_row3_col2\" class=\"data row3 col2\" >Test suite for time series datasets.</td>\n",
              "      <td id=\"T_ac42f_row3_col3\" class=\"data row3 col3\" >time_series_data_quality, time_series_univariate, time_series_multivariate</td>\n",
              "    </tr>\n",
              "    <tr>\n",
              "      <td id=\"T_ac42f_row4_col0\" class=\"data row4 col0\" >time_series_model_validation</td>\n",
              "      <td id=\"T_ac42f_row4_col1\" class=\"data row4 col1\" >TimeSeriesModelValidation</td>\n",
              "      <td id=\"T_ac42f_row4_col2\" class=\"data row4 col2\" >Test suite for time series model validation.</td>\n",
              "      <td id=\"T_ac42f_row4_col3\" class=\"data row4 col3\" >regression_model_performance, regression_models_comparison, time_series_forecast</td>\n",
              "    </tr>\n",
              "  </tbody>\n",
              "</table>\n"
            ],
            "text/plain": [
              "<pandas.io.formats.style.Styler at 0x1074cb310>"
            ]
          },
          "execution_count": 3,
          "metadata": {},
          "output_type": "execute_result"
        }
      ],
      "source": [
        "vm.test_suites.list_suites()"
      ]
    },
    {
      "cell_type": "code",
      "execution_count": 4,
      "metadata": {},
      "outputs": [
        {
          "data": {
            "text/html": [
              "<style type=\"text/css\">\n",
              "</style>\n",
              "<table id=\"T_522f2\">\n",
              "  <thead>\n",
              "    <tr>\n",
              "      <th id=\"T_522f2_level0_col0\" class=\"col_heading level0 col0\" >ID</th>\n",
              "      <th id=\"T_522f2_level0_col1\" class=\"col_heading level0 col1\" >Name</th>\n",
              "      <th id=\"T_522f2_level0_col2\" class=\"col_heading level0 col2\" >Description</th>\n",
              "    </tr>\n",
              "  </thead>\n",
              "  <tbody>\n",
              "    <tr>\n",
              "      <td id=\"T_522f2_row0_col0\" class=\"data row0 col0\" >binary_classifier_metrics</td>\n",
              "      <td id=\"T_522f2_row0_col1\" class=\"data row0 col1\" >BinaryClassifierMetrics</td>\n",
              "      <td id=\"T_522f2_row0_col2\" class=\"data row0 col2\" >Test plan for sklearn classifier metrics</td>\n",
              "    </tr>\n",
              "    <tr>\n",
              "      <td id=\"T_522f2_row1_col0\" class=\"data row1 col0\" >binary_classifier_validation</td>\n",
              "      <td id=\"T_522f2_row1_col1\" class=\"data row1 col1\" >BinaryClassifierPerformance</td>\n",
              "      <td id=\"T_522f2_row1_col2\" class=\"data row1 col2\" >Test plan for sklearn classifier models</td>\n",
              "    </tr>\n",
              "    <tr>\n",
              "      <td id=\"T_522f2_row2_col0\" class=\"data row2 col0\" >binary_classifier_model_diagnosis</td>\n",
              "      <td id=\"T_522f2_row2_col1\" class=\"data row2 col1\" >BinaryClassifierDiagnosis</td>\n",
              "      <td id=\"T_522f2_row2_col2\" class=\"data row2 col2\" >Test plan for sklearn classifier model diagnosis tests</td>\n",
              "    </tr>\n",
              "    <tr>\n",
              "      <td id=\"T_522f2_row3_col0\" class=\"data row3 col0\" >tabular_dataset_description</td>\n",
              "      <td id=\"T_522f2_row3_col1\" class=\"data row3 col1\" >TabularDatasetDescription</td>\n",
              "      <td id=\"T_522f2_row3_col2\" class=\"data row3 col2\" >Test plan to extract metadata and descriptive\n",
              "    statistics from a tabular dataset</td>\n",
              "    </tr>\n",
              "    <tr>\n",
              "      <td id=\"T_522f2_row4_col0\" class=\"data row4 col0\" >tabular_data_quality</td>\n",
              "      <td id=\"T_522f2_row4_col1\" class=\"data row4 col1\" >TabularDataQuality</td>\n",
              "      <td id=\"T_522f2_row4_col2\" class=\"data row4 col2\" >Test plan for data quality on tabular datasets</td>\n",
              "    </tr>\n",
              "    <tr>\n",
              "      <td id=\"T_522f2_row5_col0\" class=\"data row5 col0\" >time_series_data_quality</td>\n",
              "      <td id=\"T_522f2_row5_col1\" class=\"data row5 col1\" >TimeSeriesDataQuality</td>\n",
              "      <td id=\"T_522f2_row5_col2\" class=\"data row5 col2\" >Test plan for data quality on time series datasets</td>\n",
              "    </tr>\n",
              "    <tr>\n",
              "      <td id=\"T_522f2_row6_col0\" class=\"data row6 col0\" >time_series_univariate</td>\n",
              "      <td id=\"T_522f2_row6_col1\" class=\"data row6 col1\" >TimeSeriesUnivariate</td>\n",
              "      <td id=\"T_522f2_row6_col2\" class=\"data row6 col2\" >Test plan to perform time series univariate analysis.</td>\n",
              "    </tr>\n",
              "    <tr>\n",
              "      <td id=\"T_522f2_row7_col0\" class=\"data row7 col0\" >time_series_multivariate</td>\n",
              "      <td id=\"T_522f2_row7_col1\" class=\"data row7 col1\" >TimeSeriesMultivariate</td>\n",
              "      <td id=\"T_522f2_row7_col2\" class=\"data row7 col2\" >Test plan to perform time series multivariate analysis.</td>\n",
              "    </tr>\n",
              "    <tr>\n",
              "      <td id=\"T_522f2_row8_col0\" class=\"data row8 col0\" >time_series_forecast</td>\n",
              "      <td id=\"T_522f2_row8_col1\" class=\"data row8 col1\" >TimeSeriesForecast</td>\n",
              "      <td id=\"T_522f2_row8_col2\" class=\"data row8 col2\" >Test plan to perform time series forecast tests.</td>\n",
              "    </tr>\n",
              "    <tr>\n",
              "      <td id=\"T_522f2_row9_col0\" class=\"data row9 col0\" >regression_model_performance</td>\n",
              "      <td id=\"T_522f2_row9_col1\" class=\"data row9 col1\" >RegressionModelPerformance</td>\n",
              "      <td id=\"T_522f2_row9_col2\" class=\"data row9 col2\" >Test plan for performance metric of regression model of statsmodels library</td>\n",
              "    </tr>\n",
              "    <tr>\n",
              "      <td id=\"T_522f2_row10_col0\" class=\"data row10 col0\" >regression_models_comparison</td>\n",
              "      <td id=\"T_522f2_row10_col1\" class=\"data row10 col1\" >RegressionModelsComparison</td>\n",
              "      <td id=\"T_522f2_row10_col2\" class=\"data row10 col2\" >Test plan for metrics comparison of regression model of statsmodels library</td>\n",
              "    </tr>\n",
              "  </tbody>\n",
              "</table>\n"
            ],
            "text/plain": [
              "<pandas.io.formats.style.Styler at 0x28c504a60>"
            ]
          },
          "execution_count": 4,
          "metadata": {},
          "output_type": "execute_result"
        }
      ],
      "source": [
        "vm.test_plans.list_plans()"
      ]
    },
    {
      "attachments": {},
      "cell_type": "markdown",
      "metadata": {},
      "source": [
        "## 3. Load Data"
      ]
    },
    {
      "attachments": {},
      "cell_type": "markdown",
      "metadata": {},
      "source": [
        "Conigure your use case."
      ]
    },
    {
      "cell_type": "code",
      "execution_count": 5,
      "metadata": {},
      "outputs": [],
      "source": [
        "# from validmind.datasets.classification import lending_club as demo_dataset\n",
        "from validmind.datasets.regression import fred as demo_dataset\n",
        "\n",
        "target_column = demo_dataset.target_column\n",
        "feature_columns = demo_dataset.feature_columns\n",
        "\n",
        "# Split the dataset into test and training \n",
        "df = demo_dataset.load_data()"
      ]
    },
    {
      "attachments": {},
      "cell_type": "markdown",
      "metadata": {},
      "source": [
        "## 4. Data Description"
      ]
    },
    {
      "cell_type": "code",
      "execution_count": 6,
      "metadata": {},
      "outputs": [
        {
          "name": "stdout",
          "output_type": "stream",
          "text": [
            "<class 'pandas.core.frame.DataFrame'>\n",
            "DatetimeIndex: 3551 entries, 1947-01-01 to 2023-04-27\n",
            "Data columns (total 4 columns):\n",
            " #   Column        Non-Null Count  Dtype  \n",
            "---  ------        --------------  -----  \n",
            " 0   MORTGAGE30US  2718 non-null   float64\n",
            " 1   FEDFUNDS      825 non-null    float64\n",
            " 2   GS10          841 non-null    float64\n",
            " 3   UNRATE        903 non-null    float64\n",
            "dtypes: float64(4)\n",
            "memory usage: 138.7 KB\n"
          ]
        }
      ],
      "source": [
        "df.info()"
      ]
    },
    {
      "attachments": {},
      "cell_type": "markdown",
      "metadata": {},
      "source": [
        "## 5. Data Validation"
      ]
    },
    {
      "attachments": {},
      "cell_type": "markdown",
      "metadata": {},
      "source": [
        "### User Configuration of Test Suite "
      ]
    },
    {
      "attachments": {},
      "cell_type": "markdown",
      "metadata": {},
      "source": [
        "Users can input the configuration to a test suite using **`config`**, allowing fine-tuning the suite according to their specific data requirements. \n",
        "\n",
        "**Time Series Data Quality params**\n",
        "- `time_series_outliers` is set to identify outliers using a specific Z-score threshold\n",
        "- `time_series_missing_values` defines a minimum threshold to identify missing data points.\n",
        "\n",
        "**Time Series Univariate params**\n",
        "- *Visualization*: `time_series_line_plot` and `time_series_histogram` are designed to generate line and histogram plots respectively for each column in a DataFrame.\n",
        "\n",
        "- *Seasonality*:  `seasonal_decompose` and `auto_seasonality` are dedicated to analyzing the seasonal component of the time series. `seasonal_decompose` performs a seasonal decomposition of the data, while `auto_seasonality` aids in the automatic detection of seasonality.\n",
        "\n",
        "- *Stationarity*: `window_size` determines the number of consecutive data points used for calculating the rolling mean and standard deviation.\n",
        "\n",
        "- *ARIMA*: `acf_pacf_plot`, `auto_ar`, and `auto_ma` are part of the ARIMA (Autoregressive Integrated Moving Average) model analysis. `acf_pacf_plot` generates autocorrelation and partial autocorrelation plots, `auto_ar` determines the order of the autoregressive part of the model, and `auto_ma` does the same for the moving average part.\n",
        "\n",
        "\n",
        "**Time Series Multivariate params**\n",
        "- *Visualization*: `scatter_plot` is used to create scatter plots for each column in the DataFrame, offering a visual tool to understand the relationship between different variables in the dataset.\n",
        "\n",
        "- *Correlation*: `lagged_correlation_heatmap` facilitates the creation of a heatmap, which visually represents the lagged correlation between the target column and the feature columns of a demo dataset. This provides a convenient way to examine the time-delayed correlation between different series.\n",
        "\n",
        "- *Cointegration*: `engle_granger_coint` sets a threshold for conducting the Engle-Granger cointegration test, which is a statistical method used to identify the long-term correlation between two or more time series."
      ]
    },
    {
      "cell_type": "code",
      "execution_count": 7,
      "metadata": {},
      "outputs": [],
      "source": [
        "config={\n",
        "    \n",
        "    # TIME SERIES DATA QUALITY PARAMS\n",
        "    \"time_series_outliers\": {\n",
        "        \"zscore_threshold\": 3,\n",
        "    },\n",
        "    \"time_series_missing_values\":{\n",
        "        \"min_threshold\": 2,\n",
        "    },\n",
        "    \n",
        "    # TIME SERIES UNIVARIATE PARAMS \n",
        "    \"rolling_stats_plot\": {\n",
        "        \"window_size\": 12    \n",
        "    },\n",
        "     \"seasonal_decompose\": {\n",
        "        \"seasonal_model\": 'additive'\n",
        "    },\n",
        "     \"auto_seasonality\": {\n",
        "        \"min_period\": 1,\n",
        "        \"max_period\": 3\n",
        "    },\n",
        "      \"auto_stationarity\": {\n",
        "        \"max_order\": 3,\n",
        "        \"threshold\": 0.05\n",
        "    },\n",
        "    \"auto_ar\": {\n",
        "        \"max_ar_order\": 4\n",
        "    },\n",
        "    \"auto_ma\": {\n",
        "        \"max_ma_order\": 3\n",
        "    },\n",
        "\n",
        "    # TIME SERIES MULTIVARIATE PARAMS \n",
        "    \"lagged_correlation_heatmap\": {\n",
        "        \"target_col\": demo_dataset.target_column,\n",
        "        \"independent_vars\": demo_dataset.feature_columns\n",
        "    },\n",
        "    \"engle_granger_coint\": {\n",
        "        \"threshold\": 0.05\n",
        "    },\n",
        "}"
      ]
    },
    {
      "attachments": {},
      "cell_type": "markdown",
      "metadata": {},
      "source": [
        "### Validation of Raw Dataset"
      ]
    },
    {
      "attachments": {},
      "cell_type": "markdown",
      "metadata": {},
      "source": [
        "#### **Run the Time Series Dataset Test Suite**"
      ]
    },
    {
      "cell_type": "code",
      "execution_count": 8,
      "metadata": {},
      "outputs": [
        {
          "name": "stdout",
          "output_type": "stream",
          "text": [
            "Pandas dataset detected. Initializing VM Dataset instance...\n",
            "Inferring dataset types...\n"
          ]
        },
        {
          "data": {
            "application/vnd.jupyter.widget-view+json": {
              "model_id": "08398194f3ae48a2b4f2266f4a225818",
              "version_major": 2,
              "version_minor": 0
            },
            "text/plain": [
              "HBox(children=(Label(value='Running test suite...'), IntProgress(value=0, max=32)))"
            ]
          },
          "metadata": {},
          "output_type": "display_data"
        },
        {
          "name": "stderr",
          "output_type": "stream",
          "text": [
            "The default method 'yw' can produce PACF values outside of the [-1,1] interval. After 0.13, the default will change tounadjusted Yule-Walker ('ywm'). You can use this method now by setting method='ywm'.\n",
            "No frequency could be inferred for variable 'MORTGAGE30US'. Skipping seasonal decomposition and plots for this variable.\n"
          ]
        },
        {
          "name": "stdout",
          "output_type": "stream",
          "text": [
            "Frequency of FEDFUNDS: MS\n",
            "Frequency of GS10: MS\n",
            "Frequency of UNRATE: MS\n"
          ]
        },
        {
          "name": "stderr",
          "output_type": "stream",
          "text": [
            "iteritems is deprecated and will be removed in a future version. Use .items instead.\n",
            "The frame.append method is deprecated and will be removed from pandas in a future version. Use pandas.concat instead.\n",
            "The frame.append method is deprecated and will be removed from pandas in a future version. Use pandas.concat instead.\n",
            "The frame.append method is deprecated and will be removed from pandas in a future version. Use pandas.concat instead.\n",
            "The frame.append method is deprecated and will be removed from pandas in a future version. Use pandas.concat instead.\n",
            "The frame.append method is deprecated and will be removed from pandas in a future version. Use pandas.concat instead.\n",
            "The frame.append method is deprecated and will be removed from pandas in a future version. Use pandas.concat instead.\n",
            "The frame.append method is deprecated and will be removed from pandas in a future version. Use pandas.concat instead.\n",
            "The frame.append method is deprecated and will be removed from pandas in a future version. Use pandas.concat instead.\n",
            "The frame.append method is deprecated and will be removed from pandas in a future version. Use pandas.concat instead.\n",
            "The frame.append method is deprecated and will be removed from pandas in a future version. Use pandas.concat instead.\n",
            "The frame.append method is deprecated and will be removed from pandas in a future version. Use pandas.concat instead.\n",
            "The frame.append method is deprecated and will be removed from pandas in a future version. Use pandas.concat instead.\n",
            "The frame.append method is deprecated and will be removed from pandas in a future version. Use pandas.concat instead.\n",
            "The frame.append method is deprecated and will be removed from pandas in a future version. Use pandas.concat instead.\n",
            "The frame.append method is deprecated and will be removed from pandas in a future version. Use pandas.concat instead.\n",
            "The frame.append method is deprecated and will be removed from pandas in a future version. Use pandas.concat instead.\n",
            "The frame.append method is deprecated and will be removed from pandas in a future version. Use pandas.concat instead.\n",
            "The frame.append method is deprecated and will be removed from pandas in a future version. Use pandas.concat instead.\n",
            "The frame.append method is deprecated and will be removed from pandas in a future version. Use pandas.concat instead.\n",
            "The frame.append method is deprecated and will be removed from pandas in a future version. Use pandas.concat instead.\n",
            "The frame.append method is deprecated and will be removed from pandas in a future version. Use pandas.concat instead.\n",
            "The frame.append method is deprecated and will be removed from pandas in a future version. Use pandas.concat instead.\n",
            "The frame.append method is deprecated and will be removed from pandas in a future version. Use pandas.concat instead.\n",
            "The frame.append method is deprecated and will be removed from pandas in a future version. Use pandas.concat instead.\n",
            "The frame.append method is deprecated and will be removed from pandas in a future version. Use pandas.concat instead.\n",
            "The frame.append method is deprecated and will be removed from pandas in a future version. Use pandas.concat instead.\n"
          ]
        },
        {
          "name": "stdout",
          "output_type": "stream",
          "text": [
            "Warning: MORTGAGE30US is not stationary. Results may be inaccurate.\n",
            "Warning: GS10 is not stationary. Results may be inaccurate.\n"
          ]
        },
        {
          "name": "stderr",
          "output_type": "stream",
          "text": [
            "A date index has been provided, but it has no associated frequency information and so will be ignored when e.g. forecasting.\n",
            "The frame.append method is deprecated and will be removed from pandas in a future version. Use pandas.concat instead.\n",
            "A date index has been provided, but it has no associated frequency information and so will be ignored when e.g. forecasting.\n",
            "The frame.append method is deprecated and will be removed from pandas in a future version. Use pandas.concat instead.\n",
            "A date index has been provided, but it has no associated frequency information and so will be ignored when e.g. forecasting.\n",
            "The frame.append method is deprecated and will be removed from pandas in a future version. Use pandas.concat instead.\n",
            "A date index has been provided, but it has no associated frequency information and so will be ignored when e.g. forecasting.\n",
            "The frame.append method is deprecated and will be removed from pandas in a future version. Use pandas.concat instead.\n",
            "A date index has been provided, but it has no associated frequency information and so will be ignored when e.g. forecasting.\n",
            "The frame.append method is deprecated and will be removed from pandas in a future version. Use pandas.concat instead.\n",
            "No frequency information was provided, so inferred frequency MS will be used.\n",
            "The frame.append method is deprecated and will be removed from pandas in a future version. Use pandas.concat instead.\n",
            "No frequency information was provided, so inferred frequency MS will be used.\n",
            "The frame.append method is deprecated and will be removed from pandas in a future version. Use pandas.concat instead.\n",
            "No frequency information was provided, so inferred frequency MS will be used.\n",
            "The frame.append method is deprecated and will be removed from pandas in a future version. Use pandas.concat instead.\n",
            "No frequency information was provided, so inferred frequency MS will be used.\n",
            "The frame.append method is deprecated and will be removed from pandas in a future version. Use pandas.concat instead.\n",
            "No frequency information was provided, so inferred frequency MS will be used.\n",
            "The frame.append method is deprecated and will be removed from pandas in a future version. Use pandas.concat instead.\n",
            "No frequency information was provided, so inferred frequency MS will be used.\n",
            "The frame.append method is deprecated and will be removed from pandas in a future version. Use pandas.concat instead.\n",
            "No frequency information was provided, so inferred frequency MS will be used.\n",
            "The frame.append method is deprecated and will be removed from pandas in a future version. Use pandas.concat instead.\n",
            "No frequency information was provided, so inferred frequency MS will be used.\n",
            "The frame.append method is deprecated and will be removed from pandas in a future version. Use pandas.concat instead.\n",
            "No frequency information was provided, so inferred frequency MS will be used.\n",
            "The frame.append method is deprecated and will be removed from pandas in a future version. Use pandas.concat instead.\n",
            "No frequency information was provided, so inferred frequency MS will be used.\n",
            "The frame.append method is deprecated and will be removed from pandas in a future version. Use pandas.concat instead.\n",
            "No frequency information was provided, so inferred frequency MS will be used.\n",
            "The frame.append method is deprecated and will be removed from pandas in a future version. Use pandas.concat instead.\n",
            "No frequency information was provided, so inferred frequency MS will be used.\n",
            "The frame.append method is deprecated and will be removed from pandas in a future version. Use pandas.concat instead.\n",
            "No frequency information was provided, so inferred frequency MS will be used.\n",
            "The frame.append method is deprecated and will be removed from pandas in a future version. Use pandas.concat instead.\n",
            "No frequency information was provided, so inferred frequency MS will be used.\n",
            "The frame.append method is deprecated and will be removed from pandas in a future version. Use pandas.concat instead.\n",
            "No frequency information was provided, so inferred frequency MS will be used.\n",
            "The frame.append method is deprecated and will be removed from pandas in a future version. Use pandas.concat instead.\n"
          ]
        },
        {
          "name": "stdout",
          "output_type": "stream",
          "text": [
            "Warning: MORTGAGE30US is not stationary. Results may be inaccurate.\n"
          ]
        },
        {
          "name": "stderr",
          "output_type": "stream",
          "text": [
            "A date index has been provided, but it has no associated frequency information and so will be ignored when e.g. forecasting.\n",
            "A date index has been provided, but it has no associated frequency information and so will be ignored when e.g. forecasting.\n",
            "A date index has been provided, but it has no associated frequency information and so will be ignored when e.g. forecasting.\n",
            "The frame.append method is deprecated and will be removed from pandas in a future version. Use pandas.concat instead.\n",
            "A date index has been provided, but it has no associated frequency information and so will be ignored when e.g. forecasting.\n",
            "A date index has been provided, but it has no associated frequency information and so will be ignored when e.g. forecasting.\n",
            "A date index has been provided, but it has no associated frequency information and so will be ignored when e.g. forecasting.\n",
            "Non-invertible starting MA parameters found. Using zeros as starting parameters.\n",
            "The frame.append method is deprecated and will be removed from pandas in a future version. Use pandas.concat instead.\n",
            "A date index has been provided, but it has no associated frequency information and so will be ignored when e.g. forecasting.\n",
            "A date index has been provided, but it has no associated frequency information and so will be ignored when e.g. forecasting.\n",
            "A date index has been provided, but it has no associated frequency information and so will be ignored when e.g. forecasting.\n",
            "Non-invertible starting MA parameters found. Using zeros as starting parameters.\n",
            "The frame.append method is deprecated and will be removed from pandas in a future version. Use pandas.concat instead.\n",
            "A date index has been provided, but it has no associated frequency information and so will be ignored when e.g. forecasting.\n",
            "A date index has been provided, but it has no associated frequency information and so will be ignored when e.g. forecasting.\n",
            "A date index has been provided, but it has no associated frequency information and so will be ignored when e.g. forecasting.\n",
            "Non-invertible starting MA parameters found. Using zeros as starting parameters.\n",
            "The frame.append method is deprecated and will be removed from pandas in a future version. Use pandas.concat instead.\n",
            "No frequency information was provided, so inferred frequency MS will be used.\n",
            "No frequency information was provided, so inferred frequency MS will be used.\n",
            "No frequency information was provided, so inferred frequency MS will be used.\n",
            "The frame.append method is deprecated and will be removed from pandas in a future version. Use pandas.concat instead.\n",
            "No frequency information was provided, so inferred frequency MS will be used.\n",
            "No frequency information was provided, so inferred frequency MS will be used.\n",
            "No frequency information was provided, so inferred frequency MS will be used.\n",
            "Non-invertible starting MA parameters found. Using zeros as starting parameters.\n",
            "The frame.append method is deprecated and will be removed from pandas in a future version. Use pandas.concat instead.\n",
            "No frequency information was provided, so inferred frequency MS will be used.\n",
            "No frequency information was provided, so inferred frequency MS will be used.\n",
            "No frequency information was provided, so inferred frequency MS will be used.\n",
            "Non-invertible starting MA parameters found. Using zeros as starting parameters.\n",
            "The frame.append method is deprecated and will be removed from pandas in a future version. Use pandas.concat instead.\n",
            "No frequency information was provided, so inferred frequency MS will be used.\n",
            "No frequency information was provided, so inferred frequency MS will be used.\n",
            "No frequency information was provided, so inferred frequency MS will be used.\n",
            "Non-invertible starting MA parameters found. Using zeros as starting parameters.\n",
            "The frame.append method is deprecated and will be removed from pandas in a future version. Use pandas.concat instead.\n",
            "No frequency information was provided, so inferred frequency MS will be used.\n",
            "No frequency information was provided, so inferred frequency MS will be used.\n",
            "No frequency information was provided, so inferred frequency MS will be used.\n",
            "The frame.append method is deprecated and will be removed from pandas in a future version. Use pandas.concat instead.\n",
            "No frequency information was provided, so inferred frequency MS will be used.\n",
            "No frequency information was provided, so inferred frequency MS will be used.\n",
            "No frequency information was provided, so inferred frequency MS will be used.\n",
            "Non-invertible starting MA parameters found. Using zeros as starting parameters.\n"
          ]
        },
        {
          "name": "stdout",
          "output_type": "stream",
          "text": [
            "Warning: GS10 is not stationary. Results may be inaccurate.\n"
          ]
        },
        {
          "name": "stderr",
          "output_type": "stream",
          "text": [
            "The frame.append method is deprecated and will be removed from pandas in a future version. Use pandas.concat instead.\n",
            "No frequency information was provided, so inferred frequency MS will be used.\n",
            "No frequency information was provided, so inferred frequency MS will be used.\n",
            "No frequency information was provided, so inferred frequency MS will be used.\n",
            "Non-invertible starting MA parameters found. Using zeros as starting parameters.\n",
            "The frame.append method is deprecated and will be removed from pandas in a future version. Use pandas.concat instead.\n",
            "No frequency information was provided, so inferred frequency MS will be used.\n",
            "No frequency information was provided, so inferred frequency MS will be used.\n",
            "No frequency information was provided, so inferred frequency MS will be used.\n",
            "Non-invertible starting MA parameters found. Using zeros as starting parameters.\n",
            "The frame.append method is deprecated and will be removed from pandas in a future version. Use pandas.concat instead.\n",
            "No frequency information was provided, so inferred frequency MS will be used.\n",
            "No frequency information was provided, so inferred frequency MS will be used.\n",
            "No frequency information was provided, so inferred frequency MS will be used.\n",
            "The frame.append method is deprecated and will be removed from pandas in a future version. Use pandas.concat instead.\n",
            "No frequency information was provided, so inferred frequency MS will be used.\n",
            "No frequency information was provided, so inferred frequency MS will be used.\n",
            "No frequency information was provided, so inferred frequency MS will be used.\n",
            "Non-invertible starting MA parameters found. Using zeros as starting parameters.\n",
            "The frame.append method is deprecated and will be removed from pandas in a future version. Use pandas.concat instead.\n",
            "No frequency information was provided, so inferred frequency MS will be used.\n",
            "No frequency information was provided, so inferred frequency MS will be used.\n",
            "No frequency information was provided, so inferred frequency MS will be used.\n",
            "The frame.append method is deprecated and will be removed from pandas in a future version. Use pandas.concat instead.\n",
            "No frequency information was provided, so inferred frequency MS will be used.\n",
            "No frequency information was provided, so inferred frequency MS will be used.\n",
            "No frequency information was provided, so inferred frequency MS will be used.\n",
            "Non-invertible starting MA parameters found. Using zeros as starting parameters.\n",
            "The frame.append method is deprecated and will be removed from pandas in a future version. Use pandas.concat instead.\n",
            "The frame.append method is deprecated and will be removed from pandas in a future version. Use pandas.concat instead.\n",
            "The frame.append method is deprecated and will be removed from pandas in a future version. Use pandas.concat instead.\n",
            "The frame.append method is deprecated and will be removed from pandas in a future version. Use pandas.concat instead.\n",
            "The frame.append method is deprecated and will be removed from pandas in a future version. Use pandas.concat instead.\n",
            "The frame.append method is deprecated and will be removed from pandas in a future version. Use pandas.concat instead.\n",
            "The frame.append method is deprecated and will be removed from pandas in a future version. Use pandas.concat instead.\n"
          ]
        },
        {
          "data": {
            "application/vnd.jupyter.widget-view+json": {
              "model_id": "7cab2ddd9c504262b8b000b7b5602e80",
              "version_major": 2,
              "version_minor": 0
            },
            "text/plain": [
              "VBox(children=(HTML(value='<h2>Test Suite Results: <i style=\"color: #DE257E\">Time Series Dataset</i></h2><hr>'…"
            ]
          },
          "metadata": {},
          "output_type": "display_data"
        }
      ],
      "source": [
        "vm_dataset = vm.init_dataset(\n",
        "    dataset=df,\n",
        "    target_column=demo_dataset.target_column,\n",
        ")\n",
        "\n",
        "full_suite = vm.run_test_suite(\n",
        "    \"time_series_dataset\",\n",
        "    dataset=vm_dataset,\n",
        "    config = config,\n",
        ")"
      ]
    },
    {
      "attachments": {},
      "cell_type": "markdown",
      "metadata": {},
      "source": [
        "### Handle Dataset Frequencies"
      ]
    },
    {
      "attachments": {},
      "cell_type": "markdown",
      "metadata": {},
      "source": [
        "Show the frequencies of each variable in the raw dataset."
      ]
    },
    {
      "cell_type": "code",
      "execution_count": 9,
      "metadata": {},
      "outputs": [
        {
          "data": {
            "text/html": [
              "<div>\n",
              "<style scoped>\n",
              "    .dataframe tbody tr th:only-of-type {\n",
              "        vertical-align: middle;\n",
              "    }\n",
              "\n",
              "    .dataframe tbody tr th {\n",
              "        vertical-align: top;\n",
              "    }\n",
              "\n",
              "    .dataframe thead th {\n",
              "        text-align: right;\n",
              "    }\n",
              "</style>\n",
              "<table border=\"1\" class=\"dataframe\">\n",
              "  <thead>\n",
              "    <tr style=\"text-align: right;\">\n",
              "      <th></th>\n",
              "      <th>Variable</th>\n",
              "      <th>Frequency</th>\n",
              "    </tr>\n",
              "  </thead>\n",
              "  <tbody>\n",
              "    <tr>\n",
              "      <th>0</th>\n",
              "      <td>MORTGAGE30US</td>\n",
              "      <td>None</td>\n",
              "    </tr>\n",
              "    <tr>\n",
              "      <th>1</th>\n",
              "      <td>FEDFUNDS</td>\n",
              "      <td>MS</td>\n",
              "    </tr>\n",
              "    <tr>\n",
              "      <th>2</th>\n",
              "      <td>GS10</td>\n",
              "      <td>MS</td>\n",
              "    </tr>\n",
              "    <tr>\n",
              "      <th>3</th>\n",
              "      <td>UNRATE</td>\n",
              "      <td>MS</td>\n",
              "    </tr>\n",
              "  </tbody>\n",
              "</table>\n",
              "</div>"
            ],
            "text/plain": [
              "       Variable Frequency\n",
              "0  MORTGAGE30US      None\n",
              "1      FEDFUNDS        MS\n",
              "2          GS10        MS\n",
              "3        UNRATE        MS"
            ]
          },
          "metadata": {},
          "output_type": "display_data"
        }
      ],
      "source": [
        "frequencies = identify_frequencies(df)\n",
        "display(frequencies)"
      ]
    },
    {
      "attachments": {},
      "cell_type": "markdown",
      "metadata": {},
      "source": [
        "Handle frequencies by resampling all variables to a common frequency."
      ]
    },
    {
      "cell_type": "code",
      "execution_count": 10,
      "metadata": {},
      "outputs": [
        {
          "data": {
            "text/html": [
              "<div>\n",
              "<style scoped>\n",
              "    .dataframe tbody tr th:only-of-type {\n",
              "        vertical-align: middle;\n",
              "    }\n",
              "\n",
              "    .dataframe tbody tr th {\n",
              "        vertical-align: top;\n",
              "    }\n",
              "\n",
              "    .dataframe thead th {\n",
              "        text-align: right;\n",
              "    }\n",
              "</style>\n",
              "<table border=\"1\" class=\"dataframe\">\n",
              "  <thead>\n",
              "    <tr style=\"text-align: right;\">\n",
              "      <th></th>\n",
              "      <th>Variable</th>\n",
              "      <th>Frequency</th>\n",
              "    </tr>\n",
              "  </thead>\n",
              "  <tbody>\n",
              "    <tr>\n",
              "      <th>0</th>\n",
              "      <td>MORTGAGE30US</td>\n",
              "      <td>MS</td>\n",
              "    </tr>\n",
              "    <tr>\n",
              "      <th>1</th>\n",
              "      <td>FEDFUNDS</td>\n",
              "      <td>MS</td>\n",
              "    </tr>\n",
              "    <tr>\n",
              "      <th>2</th>\n",
              "      <td>GS10</td>\n",
              "      <td>MS</td>\n",
              "    </tr>\n",
              "    <tr>\n",
              "      <th>3</th>\n",
              "      <td>UNRATE</td>\n",
              "      <td>MS</td>\n",
              "    </tr>\n",
              "  </tbody>\n",
              "</table>\n",
              "</div>"
            ],
            "text/plain": [
              "       Variable Frequency\n",
              "0  MORTGAGE30US        MS\n",
              "1      FEDFUNDS        MS\n",
              "2          GS10        MS\n",
              "3        UNRATE        MS"
            ]
          },
          "metadata": {},
          "output_type": "display_data"
        }
      ],
      "source": [
        "preprocessed_df = resample_to_common_frequency(df, common_frequency=demo_dataset.frequency)\n",
        "frequencies = identify_frequencies(preprocessed_df)\n",
        "display(frequencies)"
      ]
    },
    {
      "attachments": {},
      "cell_type": "markdown",
      "metadata": {},
      "source": [
        "#### **Run the Time Series Dataset Test Suite**\n",
        "\n",
        "Run the same suite again after handling frequencies.     "
      ]
    },
    {
      "cell_type": "code",
      "execution_count": 11,
      "metadata": {},
      "outputs": [
        {
          "name": "stdout",
          "output_type": "stream",
          "text": [
            "Pandas dataset detected. Initializing VM Dataset instance...\n",
            "Inferring dataset types...\n"
          ]
        },
        {
          "data": {
            "application/vnd.jupyter.widget-view+json": {
              "model_id": "9a517b785ba34419b497a1a1412bb615",
              "version_major": 2,
              "version_minor": 0
            },
            "text/plain": [
              "HBox(children=(Label(value='Running test suite...'), IntProgress(value=0, max=32)))"
            ]
          },
          "metadata": {},
          "output_type": "display_data"
        },
        {
          "name": "stderr",
          "output_type": "stream",
          "text": [
            "The default method 'yw' can produce PACF values outside of the [-1,1] interval. After 0.13, the default will change tounadjusted Yule-Walker ('ywm'). You can use this method now by setting method='ywm'.\n"
          ]
        },
        {
          "name": "stdout",
          "output_type": "stream",
          "text": [
            "Frequency of MORTGAGE30US: MS\n",
            "Frequency of FEDFUNDS: MS\n",
            "Frequency of GS10: MS\n",
            "Frequency of UNRATE: MS\n"
          ]
        },
        {
          "name": "stderr",
          "output_type": "stream",
          "text": [
            "iteritems is deprecated and will be removed in a future version. Use .items instead.\n",
            "The frame.append method is deprecated and will be removed from pandas in a future version. Use pandas.concat instead.\n",
            "The frame.append method is deprecated and will be removed from pandas in a future version. Use pandas.concat instead.\n",
            "The frame.append method is deprecated and will be removed from pandas in a future version. Use pandas.concat instead.\n",
            "The frame.append method is deprecated and will be removed from pandas in a future version. Use pandas.concat instead.\n",
            "The frame.append method is deprecated and will be removed from pandas in a future version. Use pandas.concat instead.\n",
            "The frame.append method is deprecated and will be removed from pandas in a future version. Use pandas.concat instead.\n",
            "The frame.append method is deprecated and will be removed from pandas in a future version. Use pandas.concat instead.\n",
            "The frame.append method is deprecated and will be removed from pandas in a future version. Use pandas.concat instead.\n",
            "The frame.append method is deprecated and will be removed from pandas in a future version. Use pandas.concat instead.\n",
            "The frame.append method is deprecated and will be removed from pandas in a future version. Use pandas.concat instead.\n",
            "The frame.append method is deprecated and will be removed from pandas in a future version. Use pandas.concat instead.\n",
            "The frame.append method is deprecated and will be removed from pandas in a future version. Use pandas.concat instead.\n",
            "The frame.append method is deprecated and will be removed from pandas in a future version. Use pandas.concat instead.\n",
            "The frame.append method is deprecated and will be removed from pandas in a future version. Use pandas.concat instead.\n",
            "The frame.append method is deprecated and will be removed from pandas in a future version. Use pandas.concat instead.\n",
            "The frame.append method is deprecated and will be removed from pandas in a future version. Use pandas.concat instead.\n",
            "The frame.append method is deprecated and will be removed from pandas in a future version. Use pandas.concat instead.\n",
            "The frame.append method is deprecated and will be removed from pandas in a future version. Use pandas.concat instead.\n",
            "The frame.append method is deprecated and will be removed from pandas in a future version. Use pandas.concat instead.\n",
            "The frame.append method is deprecated and will be removed from pandas in a future version. Use pandas.concat instead.\n",
            "The frame.append method is deprecated and will be removed from pandas in a future version. Use pandas.concat instead.\n",
            "The frame.append method is deprecated and will be removed from pandas in a future version. Use pandas.concat instead.\n",
            "The frame.append method is deprecated and will be removed from pandas in a future version. Use pandas.concat instead.\n",
            "The frame.append method is deprecated and will be removed from pandas in a future version. Use pandas.concat instead.\n",
            "The frame.append method is deprecated and will be removed from pandas in a future version. Use pandas.concat instead.\n",
            "The frame.append method is deprecated and will be removed from pandas in a future version. Use pandas.concat instead.\n",
            "The frame.append method is deprecated and will be removed from pandas in a future version. Use pandas.concat instead.\n",
            "The frame.append method is deprecated and will be removed from pandas in a future version. Use pandas.concat instead.\n",
            "The frame.append method is deprecated and will be removed from pandas in a future version. Use pandas.concat instead.\n",
            "The frame.append method is deprecated and will be removed from pandas in a future version. Use pandas.concat instead.\n"
          ]
        },
        {
          "name": "stdout",
          "output_type": "stream",
          "text": [
            "Warning: MORTGAGE30US is not stationary. Results may be inaccurate.\n",
            "Warning: GS10 is not stationary. Results may be inaccurate.\n",
            "Warning: MORTGAGE30US is not stationary. Results may be inaccurate.\n"
          ]
        },
        {
          "name": "stderr",
          "output_type": "stream",
          "text": [
            "The frame.append method is deprecated and will be removed from pandas in a future version. Use pandas.concat instead.\n",
            "The frame.append method is deprecated and will be removed from pandas in a future version. Use pandas.concat instead.\n",
            "The frame.append method is deprecated and will be removed from pandas in a future version. Use pandas.concat instead.\n",
            "The frame.append method is deprecated and will be removed from pandas in a future version. Use pandas.concat instead.\n",
            "The frame.append method is deprecated and will be removed from pandas in a future version. Use pandas.concat instead.\n",
            "The frame.append method is deprecated and will be removed from pandas in a future version. Use pandas.concat instead.\n",
            "The frame.append method is deprecated and will be removed from pandas in a future version. Use pandas.concat instead.\n",
            "The frame.append method is deprecated and will be removed from pandas in a future version. Use pandas.concat instead.\n",
            "The frame.append method is deprecated and will be removed from pandas in a future version. Use pandas.concat instead.\n",
            "The frame.append method is deprecated and will be removed from pandas in a future version. Use pandas.concat instead.\n",
            "The frame.append method is deprecated and will be removed from pandas in a future version. Use pandas.concat instead.\n",
            "The frame.append method is deprecated and will be removed from pandas in a future version. Use pandas.concat instead.\n",
            "The frame.append method is deprecated and will be removed from pandas in a future version. Use pandas.concat instead.\n",
            "The frame.append method is deprecated and will be removed from pandas in a future version. Use pandas.concat instead.\n",
            "The frame.append method is deprecated and will be removed from pandas in a future version. Use pandas.concat instead.\n",
            "The frame.append method is deprecated and will be removed from pandas in a future version. Use pandas.concat instead.\n",
            "The frame.append method is deprecated and will be removed from pandas in a future version. Use pandas.concat instead.\n",
            "Non-invertible starting MA parameters found. Using zeros as starting parameters.\n",
            "The frame.append method is deprecated and will be removed from pandas in a future version. Use pandas.concat instead.\n",
            "Non-invertible starting MA parameters found. Using zeros as starting parameters.\n",
            "The frame.append method is deprecated and will be removed from pandas in a future version. Use pandas.concat instead.\n",
            "Non-invertible starting MA parameters found. Using zeros as starting parameters.\n",
            "The frame.append method is deprecated and will be removed from pandas in a future version. Use pandas.concat instead.\n",
            "The frame.append method is deprecated and will be removed from pandas in a future version. Use pandas.concat instead.\n",
            "Non-invertible starting MA parameters found. Using zeros as starting parameters.\n",
            "The frame.append method is deprecated and will be removed from pandas in a future version. Use pandas.concat instead.\n",
            "Non-invertible starting MA parameters found. Using zeros as starting parameters.\n",
            "The frame.append method is deprecated and will be removed from pandas in a future version. Use pandas.concat instead.\n",
            "Non-invertible starting MA parameters found. Using zeros as starting parameters.\n",
            "The frame.append method is deprecated and will be removed from pandas in a future version. Use pandas.concat instead.\n",
            "The frame.append method is deprecated and will be removed from pandas in a future version. Use pandas.concat instead.\n",
            "Non-invertible starting MA parameters found. Using zeros as starting parameters.\n"
          ]
        },
        {
          "name": "stdout",
          "output_type": "stream",
          "text": [
            "Warning: GS10 is not stationary. Results may be inaccurate.\n"
          ]
        },
        {
          "name": "stderr",
          "output_type": "stream",
          "text": [
            "The frame.append method is deprecated and will be removed from pandas in a future version. Use pandas.concat instead.\n",
            "Non-invertible starting MA parameters found. Using zeros as starting parameters.\n",
            "The frame.append method is deprecated and will be removed from pandas in a future version. Use pandas.concat instead.\n",
            "Non-invertible starting MA parameters found. Using zeros as starting parameters.\n",
            "The frame.append method is deprecated and will be removed from pandas in a future version. Use pandas.concat instead.\n",
            "The frame.append method is deprecated and will be removed from pandas in a future version. Use pandas.concat instead.\n",
            "Non-invertible starting MA parameters found. Using zeros as starting parameters.\n",
            "The frame.append method is deprecated and will be removed from pandas in a future version. Use pandas.concat instead.\n",
            "The frame.append method is deprecated and will be removed from pandas in a future version. Use pandas.concat instead.\n",
            "Non-invertible starting MA parameters found. Using zeros as starting parameters.\n",
            "The frame.append method is deprecated and will be removed from pandas in a future version. Use pandas.concat instead.\n",
            "The frame.append method is deprecated and will be removed from pandas in a future version. Use pandas.concat instead.\n",
            "The frame.append method is deprecated and will be removed from pandas in a future version. Use pandas.concat instead.\n",
            "The frame.append method is deprecated and will be removed from pandas in a future version. Use pandas.concat instead.\n",
            "The frame.append method is deprecated and will be removed from pandas in a future version. Use pandas.concat instead.\n",
            "The frame.append method is deprecated and will be removed from pandas in a future version. Use pandas.concat instead.\n",
            "The frame.append method is deprecated and will be removed from pandas in a future version. Use pandas.concat instead.\n"
          ]
        },
        {
          "data": {
            "application/vnd.jupyter.widget-view+json": {
              "model_id": "29c998f3a0074d9e8f031196c78dddde",
              "version_major": 2,
              "version_minor": 0
            },
            "text/plain": [
              "VBox(children=(HTML(value='<h2>Test Suite Results: <i style=\"color: #DE257E\">Time Series Dataset</i></h2><hr>'…"
            ]
          },
          "metadata": {},
          "output_type": "display_data"
        }
      ],
      "source": [
        "vm_dataset = vm.init_dataset(\n",
        "    dataset=preprocessed_df,\n",
        "    target_column=demo_dataset.target_column,\n",
        ")\n",
        "\n",
        "full_suite = vm.run_test_suite(\n",
        "    \"time_series_dataset\",\n",
        "    dataset=vm_dataset,\n",
        ")"
      ]
    },
    {
      "attachments": {},
      "cell_type": "markdown",
      "metadata": {},
      "source": [
        "### Handle Missing Values"
      ]
    },
    {
      "attachments": {},
      "cell_type": "markdown",
      "metadata": {},
      "source": [
        "Handle the missing values by droping all the `nan` values. "
      ]
    },
    {
      "cell_type": "code",
      "execution_count": 12,
      "metadata": {},
      "outputs": [],
      "source": [
        "preprocessed_df = preprocessed_df.dropna()"
      ]
    },
    {
      "attachments": {},
      "cell_type": "markdown",
      "metadata": {},
      "source": [
        "#### **Run the Time Series Dataset Test Suite**"
      ]
    },
    {
      "attachments": {},
      "cell_type": "markdown",
      "metadata": {},
      "source": [
        "Run the same test suite to check there are no missing values and frequencies of all variables are the same."
      ]
    },
    {
      "cell_type": "code",
      "execution_count": 13,
      "metadata": {},
      "outputs": [
        {
          "name": "stdout",
          "output_type": "stream",
          "text": [
            "Pandas dataset detected. Initializing VM Dataset instance...\n",
            "Inferring dataset types...\n"
          ]
        },
        {
          "data": {
            "application/vnd.jupyter.widget-view+json": {
              "model_id": "04e38ddc8c1c4782884c6e79e2fd5f1b",
              "version_major": 2,
              "version_minor": 0
            },
            "text/plain": [
              "HBox(children=(Label(value='Running test suite...'), IntProgress(value=0, max=32)))"
            ]
          },
          "metadata": {},
          "output_type": "display_data"
        },
        {
          "name": "stderr",
          "output_type": "stream",
          "text": [
            "The default method 'yw' can produce PACF values outside of the [-1,1] interval. After 0.13, the default will change tounadjusted Yule-Walker ('ywm'). You can use this method now by setting method='ywm'.\n"
          ]
        },
        {
          "name": "stdout",
          "output_type": "stream",
          "text": [
            "Frequency of MORTGAGE30US: MS\n",
            "Frequency of FEDFUNDS: MS\n",
            "Frequency of GS10: MS\n",
            "Frequency of UNRATE: MS\n"
          ]
        },
        {
          "name": "stderr",
          "output_type": "stream",
          "text": [
            "iteritems is deprecated and will be removed in a future version. Use .items instead.\n",
            "The frame.append method is deprecated and will be removed from pandas in a future version. Use pandas.concat instead.\n",
            "The frame.append method is deprecated and will be removed from pandas in a future version. Use pandas.concat instead.\n",
            "The frame.append method is deprecated and will be removed from pandas in a future version. Use pandas.concat instead.\n",
            "The frame.append method is deprecated and will be removed from pandas in a future version. Use pandas.concat instead.\n",
            "The frame.append method is deprecated and will be removed from pandas in a future version. Use pandas.concat instead.\n",
            "The frame.append method is deprecated and will be removed from pandas in a future version. Use pandas.concat instead.\n",
            "The frame.append method is deprecated and will be removed from pandas in a future version. Use pandas.concat instead.\n",
            "The frame.append method is deprecated and will be removed from pandas in a future version. Use pandas.concat instead.\n",
            "The frame.append method is deprecated and will be removed from pandas in a future version. Use pandas.concat instead.\n",
            "The frame.append method is deprecated and will be removed from pandas in a future version. Use pandas.concat instead.\n",
            "The frame.append method is deprecated and will be removed from pandas in a future version. Use pandas.concat instead.\n",
            "The frame.append method is deprecated and will be removed from pandas in a future version. Use pandas.concat instead.\n",
            "The frame.append method is deprecated and will be removed from pandas in a future version. Use pandas.concat instead.\n",
            "The frame.append method is deprecated and will be removed from pandas in a future version. Use pandas.concat instead.\n",
            "The frame.append method is deprecated and will be removed from pandas in a future version. Use pandas.concat instead.\n",
            "The frame.append method is deprecated and will be removed from pandas in a future version. Use pandas.concat instead.\n",
            "The frame.append method is deprecated and will be removed from pandas in a future version. Use pandas.concat instead.\n",
            "The frame.append method is deprecated and will be removed from pandas in a future version. Use pandas.concat instead.\n",
            "The frame.append method is deprecated and will be removed from pandas in a future version. Use pandas.concat instead.\n",
            "The frame.append method is deprecated and will be removed from pandas in a future version. Use pandas.concat instead.\n",
            "The frame.append method is deprecated and will be removed from pandas in a future version. Use pandas.concat instead.\n",
            "The frame.append method is deprecated and will be removed from pandas in a future version. Use pandas.concat instead.\n",
            "The frame.append method is deprecated and will be removed from pandas in a future version. Use pandas.concat instead.\n",
            "The frame.append method is deprecated and will be removed from pandas in a future version. Use pandas.concat instead.\n",
            "The frame.append method is deprecated and will be removed from pandas in a future version. Use pandas.concat instead.\n",
            "The frame.append method is deprecated and will be removed from pandas in a future version. Use pandas.concat instead.\n",
            "The frame.append method is deprecated and will be removed from pandas in a future version. Use pandas.concat instead.\n",
            "The frame.append method is deprecated and will be removed from pandas in a future version. Use pandas.concat instead.\n",
            "The frame.append method is deprecated and will be removed from pandas in a future version. Use pandas.concat instead.\n",
            "The frame.append method is deprecated and will be removed from pandas in a future version. Use pandas.concat instead.\n"
          ]
        },
        {
          "name": "stdout",
          "output_type": "stream",
          "text": [
            "Warning: MORTGAGE30US is not stationary. Results may be inaccurate.\n",
            "Warning: FEDFUNDS is not stationary. Results may be inaccurate.\n",
            "Warning: GS10 is not stationary. Results may be inaccurate.\n",
            "Warning: MORTGAGE30US is not stationary. Results may be inaccurate.\n"
          ]
        },
        {
          "name": "stderr",
          "output_type": "stream",
          "text": [
            "The frame.append method is deprecated and will be removed from pandas in a future version. Use pandas.concat instead.\n",
            "The frame.append method is deprecated and will be removed from pandas in a future version. Use pandas.concat instead.\n",
            "The frame.append method is deprecated and will be removed from pandas in a future version. Use pandas.concat instead.\n",
            "The frame.append method is deprecated and will be removed from pandas in a future version. Use pandas.concat instead.\n",
            "The frame.append method is deprecated and will be removed from pandas in a future version. Use pandas.concat instead.\n",
            "The frame.append method is deprecated and will be removed from pandas in a future version. Use pandas.concat instead.\n",
            "The frame.append method is deprecated and will be removed from pandas in a future version. Use pandas.concat instead.\n",
            "The frame.append method is deprecated and will be removed from pandas in a future version. Use pandas.concat instead.\n",
            "The frame.append method is deprecated and will be removed from pandas in a future version. Use pandas.concat instead.\n",
            "The frame.append method is deprecated and will be removed from pandas in a future version. Use pandas.concat instead.\n",
            "The frame.append method is deprecated and will be removed from pandas in a future version. Use pandas.concat instead.\n",
            "The frame.append method is deprecated and will be removed from pandas in a future version. Use pandas.concat instead.\n",
            "The frame.append method is deprecated and will be removed from pandas in a future version. Use pandas.concat instead.\n",
            "The frame.append method is deprecated and will be removed from pandas in a future version. Use pandas.concat instead.\n",
            "The frame.append method is deprecated and will be removed from pandas in a future version. Use pandas.concat instead.\n",
            "The frame.append method is deprecated and will be removed from pandas in a future version. Use pandas.concat instead.\n",
            "The frame.append method is deprecated and will be removed from pandas in a future version. Use pandas.concat instead.\n",
            "Non-invertible starting MA parameters found. Using zeros as starting parameters.\n",
            "The frame.append method is deprecated and will be removed from pandas in a future version. Use pandas.concat instead.\n",
            "Non-invertible starting MA parameters found. Using zeros as starting parameters.\n",
            "The frame.append method is deprecated and will be removed from pandas in a future version. Use pandas.concat instead.\n",
            "Non-invertible starting MA parameters found. Using zeros as starting parameters.\n",
            "The frame.append method is deprecated and will be removed from pandas in a future version. Use pandas.concat instead.\n",
            "The frame.append method is deprecated and will be removed from pandas in a future version. Use pandas.concat instead.\n",
            "Non-invertible starting MA parameters found. Using zeros as starting parameters.\n",
            "The frame.append method is deprecated and will be removed from pandas in a future version. Use pandas.concat instead.\n",
            "Non-invertible starting MA parameters found. Using zeros as starting parameters.\n"
          ]
        },
        {
          "name": "stdout",
          "output_type": "stream",
          "text": [
            "Warning: FEDFUNDS is not stationary. Results may be inaccurate.\n"
          ]
        },
        {
          "name": "stderr",
          "output_type": "stream",
          "text": [
            "The frame.append method is deprecated and will be removed from pandas in a future version. Use pandas.concat instead.\n",
            "Non-invertible starting MA parameters found. Using zeros as starting parameters.\n",
            "The frame.append method is deprecated and will be removed from pandas in a future version. Use pandas.concat instead.\n",
            "The frame.append method is deprecated and will be removed from pandas in a future version. Use pandas.concat instead.\n",
            "Non-invertible starting MA parameters found. Using zeros as starting parameters.\n"
          ]
        },
        {
          "name": "stdout",
          "output_type": "stream",
          "text": [
            "Warning: GS10 is not stationary. Results may be inaccurate.\n"
          ]
        },
        {
          "name": "stderr",
          "output_type": "stream",
          "text": [
            "The frame.append method is deprecated and will be removed from pandas in a future version. Use pandas.concat instead.\n",
            "Non-invertible starting MA parameters found. Using zeros as starting parameters.\n",
            "The frame.append method is deprecated and will be removed from pandas in a future version. Use pandas.concat instead.\n",
            "Non-invertible starting MA parameters found. Using zeros as starting parameters.\n",
            "The frame.append method is deprecated and will be removed from pandas in a future version. Use pandas.concat instead.\n",
            "The frame.append method is deprecated and will be removed from pandas in a future version. Use pandas.concat instead.\n",
            "Non-invertible starting MA parameters found. Using zeros as starting parameters.\n",
            "The frame.append method is deprecated and will be removed from pandas in a future version. Use pandas.concat instead.\n",
            "The frame.append method is deprecated and will be removed from pandas in a future version. Use pandas.concat instead.\n",
            "Non-invertible starting MA parameters found. Using zeros as starting parameters.\n",
            "The frame.append method is deprecated and will be removed from pandas in a future version. Use pandas.concat instead.\n",
            "The frame.append method is deprecated and will be removed from pandas in a future version. Use pandas.concat instead.\n",
            "The frame.append method is deprecated and will be removed from pandas in a future version. Use pandas.concat instead.\n",
            "The frame.append method is deprecated and will be removed from pandas in a future version. Use pandas.concat instead.\n",
            "The frame.append method is deprecated and will be removed from pandas in a future version. Use pandas.concat instead.\n",
            "The frame.append method is deprecated and will be removed from pandas in a future version. Use pandas.concat instead.\n",
            "The frame.append method is deprecated and will be removed from pandas in a future version. Use pandas.concat instead.\n"
          ]
        },
        {
          "data": {
            "application/vnd.jupyter.widget-view+json": {
              "model_id": "3d5d6d584bed484d80737821605caf70",
              "version_major": 2,
              "version_minor": 0
            },
            "text/plain": [
              "VBox(children=(HTML(value='<h2>Test Suite Results: <i style=\"color: #DE257E\">Time Series Dataset</i></h2><hr>'…"
            ]
          },
          "metadata": {},
          "output_type": "display_data"
        }
      ],
      "source": [
        "vm_dataset = vm.init_dataset(\n",
        "    dataset=preprocessed_df,\n",
        "    target_column=demo_dataset.target_column,\n",
        ")\n",
        "\n",
        "full_suite = vm.run_test_suite(\n",
        "    \"time_series_dataset\",\n",
        "    dataset=vm_dataset,\n",
        ")"
      ]
    },
    {
      "attachments": {},
      "cell_type": "markdown",
      "metadata": {},
      "source": [
        "### Handle Stationarity"
      ]
    },
    {
      "attachments": {},
      "cell_type": "markdown",
      "metadata": {},
      "source": [
        "Handle stationarity by taking the first difference. "
      ]
    },
    {
      "cell_type": "code",
      "execution_count": 14,
      "metadata": {},
      "outputs": [],
      "source": [
        "preprocessed_df = preprocessed_df.diff().fillna(method='bfill')"
      ]
    },
    {
      "attachments": {},
      "cell_type": "markdown",
      "metadata": {},
      "source": [
        "#### **Run the Time Series Dataset Test Suite**"
      ]
    },
    {
      "cell_type": "code",
      "execution_count": 15,
      "metadata": {},
      "outputs": [
        {
          "name": "stdout",
          "output_type": "stream",
          "text": [
            "Pandas dataset detected. Initializing VM Dataset instance...\n",
            "Inferring dataset types...\n"
          ]
        },
        {
          "data": {
            "application/vnd.jupyter.widget-view+json": {
              "model_id": "bc338359e8e8432493a0af017569467a",
              "version_major": 2,
              "version_minor": 0
            },
            "text/plain": [
              "HBox(children=(Label(value='Running test suite...'), IntProgress(value=0, max=32)))"
            ]
          },
          "metadata": {},
          "output_type": "display_data"
        },
        {
          "name": "stderr",
          "output_type": "stream",
          "text": [
            "The default method 'yw' can produce PACF values outside of the [-1,1] interval. After 0.13, the default will change tounadjusted Yule-Walker ('ywm'). You can use this method now by setting method='ywm'.\n"
          ]
        },
        {
          "name": "stdout",
          "output_type": "stream",
          "text": [
            "Frequency of MORTGAGE30US: MS\n",
            "Frequency of FEDFUNDS: MS\n",
            "Frequency of GS10: MS\n",
            "Frequency of UNRATE: MS\n"
          ]
        },
        {
          "name": "stderr",
          "output_type": "stream",
          "text": [
            "iteritems is deprecated and will be removed in a future version. Use .items instead.\n",
            "The frame.append method is deprecated and will be removed from pandas in a future version. Use pandas.concat instead.\n",
            "The frame.append method is deprecated and will be removed from pandas in a future version. Use pandas.concat instead.\n",
            "The frame.append method is deprecated and will be removed from pandas in a future version. Use pandas.concat instead.\n",
            "The frame.append method is deprecated and will be removed from pandas in a future version. Use pandas.concat instead.\n",
            "The frame.append method is deprecated and will be removed from pandas in a future version. Use pandas.concat instead.\n",
            "The frame.append method is deprecated and will be removed from pandas in a future version. Use pandas.concat instead.\n",
            "The frame.append method is deprecated and will be removed from pandas in a future version. Use pandas.concat instead.\n",
            "The frame.append method is deprecated and will be removed from pandas in a future version. Use pandas.concat instead.\n",
            "The frame.append method is deprecated and will be removed from pandas in a future version. Use pandas.concat instead.\n",
            "The frame.append method is deprecated and will be removed from pandas in a future version. Use pandas.concat instead.\n",
            "The frame.append method is deprecated and will be removed from pandas in a future version. Use pandas.concat instead.\n",
            "The frame.append method is deprecated and will be removed from pandas in a future version. Use pandas.concat instead.\n",
            "The frame.append method is deprecated and will be removed from pandas in a future version. Use pandas.concat instead.\n",
            "The frame.append method is deprecated and will be removed from pandas in a future version. Use pandas.concat instead.\n",
            "The frame.append method is deprecated and will be removed from pandas in a future version. Use pandas.concat instead.\n",
            "The frame.append method is deprecated and will be removed from pandas in a future version. Use pandas.concat instead.\n",
            "The frame.append method is deprecated and will be removed from pandas in a future version. Use pandas.concat instead.\n",
            "The frame.append method is deprecated and will be removed from pandas in a future version. Use pandas.concat instead.\n",
            "The frame.append method is deprecated and will be removed from pandas in a future version. Use pandas.concat instead.\n",
            "The frame.append method is deprecated and will be removed from pandas in a future version. Use pandas.concat instead.\n",
            "The frame.append method is deprecated and will be removed from pandas in a future version. Use pandas.concat instead.\n",
            "The frame.append method is deprecated and will be removed from pandas in a future version. Use pandas.concat instead.\n",
            "The frame.append method is deprecated and will be removed from pandas in a future version. Use pandas.concat instead.\n",
            "The frame.append method is deprecated and will be removed from pandas in a future version. Use pandas.concat instead.\n",
            "The frame.append method is deprecated and will be removed from pandas in a future version. Use pandas.concat instead.\n",
            "The frame.append method is deprecated and will be removed from pandas in a future version. Use pandas.concat instead.\n",
            "The frame.append method is deprecated and will be removed from pandas in a future version. Use pandas.concat instead.\n",
            "The frame.append method is deprecated and will be removed from pandas in a future version. Use pandas.concat instead.\n",
            "The frame.append method is deprecated and will be removed from pandas in a future version. Use pandas.concat instead.\n",
            "The frame.append method is deprecated and will be removed from pandas in a future version. Use pandas.concat instead.\n",
            "The frame.append method is deprecated and will be removed from pandas in a future version. Use pandas.concat instead.\n",
            "The frame.append method is deprecated and will be removed from pandas in a future version. Use pandas.concat instead.\n",
            "The frame.append method is deprecated and will be removed from pandas in a future version. Use pandas.concat instead.\n",
            "The frame.append method is deprecated and will be removed from pandas in a future version. Use pandas.concat instead.\n",
            "The frame.append method is deprecated and will be removed from pandas in a future version. Use pandas.concat instead.\n",
            "The frame.append method is deprecated and will be removed from pandas in a future version. Use pandas.concat instead.\n",
            "The frame.append method is deprecated and will be removed from pandas in a future version. Use pandas.concat instead.\n",
            "The frame.append method is deprecated and will be removed from pandas in a future version. Use pandas.concat instead.\n",
            "The frame.append method is deprecated and will be removed from pandas in a future version. Use pandas.concat instead.\n",
            "The frame.append method is deprecated and will be removed from pandas in a future version. Use pandas.concat instead.\n",
            "The frame.append method is deprecated and will be removed from pandas in a future version. Use pandas.concat instead.\n",
            "The frame.append method is deprecated and will be removed from pandas in a future version. Use pandas.concat instead.\n",
            "The frame.append method is deprecated and will be removed from pandas in a future version. Use pandas.concat instead.\n",
            "The frame.append method is deprecated and will be removed from pandas in a future version. Use pandas.concat instead.\n",
            "The frame.append method is deprecated and will be removed from pandas in a future version. Use pandas.concat instead.\n",
            "The frame.append method is deprecated and will be removed from pandas in a future version. Use pandas.concat instead.\n",
            "The frame.append method is deprecated and will be removed from pandas in a future version. Use pandas.concat instead.\n",
            "The frame.append method is deprecated and will be removed from pandas in a future version. Use pandas.concat instead.\n",
            "The frame.append method is deprecated and will be removed from pandas in a future version. Use pandas.concat instead.\n",
            "The frame.append method is deprecated and will be removed from pandas in a future version. Use pandas.concat instead.\n",
            "The frame.append method is deprecated and will be removed from pandas in a future version. Use pandas.concat instead.\n",
            "The frame.append method is deprecated and will be removed from pandas in a future version. Use pandas.concat instead.\n",
            "The frame.append method is deprecated and will be removed from pandas in a future version. Use pandas.concat instead.\n",
            "The frame.append method is deprecated and will be removed from pandas in a future version. Use pandas.concat instead.\n",
            "The frame.append method is deprecated and will be removed from pandas in a future version. Use pandas.concat instead.\n",
            "The frame.append method is deprecated and will be removed from pandas in a future version. Use pandas.concat instead.\n",
            "The frame.append method is deprecated and will be removed from pandas in a future version. Use pandas.concat instead.\n",
            "The frame.append method is deprecated and will be removed from pandas in a future version. Use pandas.concat instead.\n",
            "The frame.append method is deprecated and will be removed from pandas in a future version. Use pandas.concat instead.\n",
            "The frame.append method is deprecated and will be removed from pandas in a future version. Use pandas.concat instead.\n",
            "The frame.append method is deprecated and will be removed from pandas in a future version. Use pandas.concat instead.\n",
            "The frame.append method is deprecated and will be removed from pandas in a future version. Use pandas.concat instead.\n"
          ]
        },
        {
          "data": {
            "application/vnd.jupyter.widget-view+json": {
              "model_id": "3427353d695a4d1ab171184eceb84d2a",
              "version_major": 2,
              "version_minor": 0
            },
            "text/plain": [
              "VBox(children=(HTML(value='<h2>Test Suite Results: <i style=\"color: #DE257E\">Time Series Dataset</i></h2><hr>'…"
            ]
          },
          "metadata": {},
          "output_type": "display_data"
        }
      ],
      "source": [
        "vm_dataset = vm.init_dataset(\n",
        "    dataset=preprocessed_df,\n",
        "    target_column=demo_dataset.target_column,\n",
        ")\n",
        "\n",
        "full_suite = vm.run_test_suite(\n",
        "    \"time_series_dataset\",\n",
        "    dataset=vm_dataset,\n",
        ")"
      ]
    }
  ],
  "metadata": {
    "kernelspec": {
      "display_name": "validmind-eEL8LtKG-py3.10",
      "language": "python",
      "name": "python3"
    },
    "language_info": {
      "codemirror_mode": {
        "name": "ipython",
        "version": 3
      },
      "file_extension": ".py",
      "mimetype": "text/x-python",
      "name": "python",
      "nbconvert_exporter": "python",
      "pygments_lexer": "ipython3",
      "version": "3.10.9"
    },
    "orig_nbformat": 4
  },
  "nbformat": 4,
  "nbformat_minor": 2
}
