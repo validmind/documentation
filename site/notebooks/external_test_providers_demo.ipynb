{
 "cells": [
  {
   "attachments": {},
   "cell_type": "markdown",
   "metadata": {},
   "source": [
    "# Integrate an External Test Provider\n",
    "\n",
    "This notebook demonstrates how to use a custom test provider to be able to use custom tests with the Validmind Developer Framework.\n",
    "In the notebook, we load a couple different demo test providers and register them with the Validmind framework to be able to run a template that utilizes those tests."
   ]
  },
  {
   "attachments": {},
   "cell_type": "markdown",
   "metadata": {},
   "source": [
    "## Before you begin\n",
    "\n",
    "To use the ValidMind Developer Framework with a Jupyter notebook, you need to install and initialize the client library first, along with getting your Python environment ready.\n",
    "\n",
    "If you don't already have one, you should also [create a documentation project](https://docs.validmind.ai/guide/create-your-first-documentation-project.html) on the ValidMind platform. You will use this project to upload your documentation and test results."
   ]
  },
  {
   "attachments": {},
   "cell_type": "markdown",
   "metadata": {},
   "source": [
    "## Install the client library"
   ]
  },
  {
   "cell_type": "code",
   "execution_count": null,
   "metadata": {},
   "outputs": [],
   "source": [
    "%pip install --upgrade validmind"
   ]
  },
  {
   "attachments": {},
   "cell_type": "markdown",
   "metadata": {},
   "source": [
    "## Initialize the client library\n",
    "\n",
    "In a browser, go to the **Client Integration** page of your documentation project and click **Copy to clipboard** next to the code snippet. This code snippet gives you the API key, API secret, and project identifier to link your notebook to your documentation project.\n",
    "\n",
    "::: {.column-margin}\n",
    "::: {.callout-tip}\n",
    "This step requires a documentation project. [Learn how you can create one](https://docs.validmind.ai/guide/create-your-first-documentation-project.html).\n",
    ":::\n",
    ":::\n",
    "\n",
    "Next, replace this placeholder with your own code snippet:"
   ]
  },
  {
   "cell_type": "code",
   "execution_count": null,
   "metadata": {},
   "outputs": [],
   "source": [
    "## Replace with code snippet from your documentation project ##\n",
    "\n",
    "import validmind as vm\n",
    "\n",
    "vm.init(\n",
    "    api_host=\"https://api.prod.validmind.ai/api/v1/tracking\",\n",
    "    api_key=\"xxxxxxxxxxxxxxxxxxxxxxxxxxxxxxxx\",\n",
    "    api_secret=\"API_SECRET\",\n",
    "    project=\"xxxxxxxxxxxxxxxxxxxxxxxxx\"\n",
    ")"
   ]
  },
  {
   "attachments": {},
   "cell_type": "markdown",
   "metadata": {},
   "source": [
    "##### Update your template\n",
    "\n",
    "Within the project you would like to use, create a new Content Block in the documentation template and add the following code:\n",
    "\n",
    "```yaml\n",
    "      - content_type: metric\n",
    "        content_id: my_local_provider.tests.MyCustomTest\n",
    "      - content_type: metric\n",
    "        content_id: my_inline_provider.tests.MyCustomTest\n",
    "```\n",
    "\n",
    "See the section below on setting up and registering test providers for more info on how these content_id's get mapped to the actual test providers and tests."
   ]
  },
  {
   "attachments": {},
   "cell_type": "markdown",
   "metadata": {},
   "source": [
    "### Preview the template for the current project to validate that it looks correct"
   ]
  },
  {
   "cell_type": "code",
   "execution_count": null,
   "metadata": {},
   "outputs": [],
   "source": [
    "# we should see two custom content blocks in the template whose IDs are under the namespaces registered below (`my_inline_provider` and `my_local_provider`)\n",
    "# the ID should match the path to the `tests` directory in this repo\n",
    "vm.preview_template()"
   ]
  },
  {
   "attachments": {},
   "cell_type": "markdown",
   "metadata": {},
   "source": [
    "### Register external test providers\n",
    "\n",
    "We will now instantiate and register the Test Provider classes that we imported above.\n",
    "\n",
    "For the Github provider, we will need to specify the `org` and `repo` to pull from as well as optionally pass a `token` if the repo is private.\n",
    "\n",
    "For the Local Filesystem provider, we will just need to specify the root folder under which the provider class will look for tests. In this case, it is the current directory for this demo so you may have to adjust the path for your machine."
   ]
  },
  {
   "attachments": {},
   "cell_type": "markdown",
   "metadata": {},
   "source": [
    "**Import the Local File System Test Provider from the `validmind.tests` module**"
   ]
  },
  {
   "cell_type": "code",
   "execution_count": null,
   "metadata": {},
   "outputs": [],
   "source": [
    "from validmind.tests import LocalTestProvider"
   ]
  },
  {
   "attachments": {},
   "cell_type": "markdown",
   "metadata": {},
   "source": [
    "**Create an inline TestProvider Class that just returns a single test**"
   ]
  },
  {
   "cell_type": "code",
   "execution_count": null,
   "metadata": {},
   "outputs": [],
   "source": [
    "import pandas as pd\n",
    "\n",
    "class MySecondCustomTest(vm.vm_models.Metric):\n",
    "    # The metric name should match the content ID on the template\n",
    "    name = \"my_inline_provider.tests.MyCustomTest\"\n",
    "\n",
    "    def description(self):\n",
    "        return \"This is a custom test from an external test provider.\"\n",
    "\n",
    "    def run(self):\n",
    "        return self.cache_results([{\"foo\": \"bar\"}])\n",
    "\n",
    "    def summary(self, results):\n",
    "        return vm.vm_models.ResultSummary(\n",
    "            results=[\n",
    "                vm.vm_models.ResultTable(\n",
    "                    data=pd.DataFrame(results),\n",
    "                    metadata=vm.vm_models.ResultTableMetadata(\n",
    "                        title=\"Results from Test Provider Inside Notebook\"\n",
    "                    ),\n",
    "                )\n",
    "            ]\n",
    "        )\n",
    "\n",
    "\n",
    "class TestProviderInline:\n",
    "    def load_test(self, test_id):\n",
    "        # ignore the test_id and just return the single test above\n",
    "        return MySecondCustomTest"
   ]
  },
  {
   "cell_type": "code",
   "execution_count": null,
   "metadata": {},
   "outputs": [],
   "source": [
    "# instantiate the test provider\n",
    "inline_test_provider = TestProviderInline()\n",
    "local_test_provider = LocalTestProvider(root_folder=\".\")\n",
    "\n",
    "# register the test providers\n",
    "vm.tests.register_test_provider(\n",
    "    namespace=\"my_inline_provider\",\n",
    "    test_provider=inline_test_provider,\n",
    ") # validmind will now call the `TestProviderInline.load_test` method whenever it encounters a test ID that starts with `my_inline_provider`\n",
    "\n",
    "vm.tests.register_test_provider(\n",
    "    namespace=\"my_local_provider\",\n",
    "    test_provider=local_test_provider,\n",
    ") # validmind will now call the `LocalTestProvider.load_test` method whenever it encounters a test ID that starts with `my_local_provider`"
   ]
  },
  {
   "attachments": {},
   "cell_type": "markdown",
   "metadata": {},
   "source": [
    "### Running the template\n",
    "\n",
    "Now we can run the template as usual and it will use the external test providers to load the appropriate tests. Note that we're not passing any context such as `dataset` and `model` to `run_template()`. This is because the template we're using for this demo only has a single section and does not require any additional context to run."
   ]
  },
  {
   "cell_type": "code",
   "execution_count": null,
   "metadata": {},
   "outputs": [],
   "source": [
    "vm.run_template()"
   ]
  }
 ],
 "metadata": {
  "kernelspec": {
   "display_name": "Python 3",
   "language": "python",
   "name": "python3"
  },
  "language_info": {
   "codemirror_mode": {
    "name": "ipython",
    "version": 3
   },
   "file_extension": ".py",
   "mimetype": "text/x-python",
   "name": "python",
   "nbconvert_exporter": "python",
   "pygments_lexer": "ipython3",
   "version": "3.10.5"
  }
 },
 "nbformat": 4,
 "nbformat_minor": 2
}
