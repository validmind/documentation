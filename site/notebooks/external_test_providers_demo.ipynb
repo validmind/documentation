{
 "cells": [
  {
   "attachments": {},
   "cell_type": "markdown",
   "metadata": {},
   "source": [
    "# Integrate an External Test Provider\n",
    "\n",
    "This notebook demonstrates how to use a custom test provider to be able to use custom tests with the Validmind Developer Framework.\n",
    "In the notebook, we load a couple different demo test providers and register them with the Validmind framework to be able to run a template that utilizes those tests."
   ]
  },
  {
   "cell_type": "code",
   "execution_count": 1,
   "metadata": {},
   "outputs": [],
   "source": [
    "# install validmind if its not already installed\n",
    "# %pip install validmind"
   ]
  },
  {
   "attachments": {},
   "cell_type": "markdown",
   "metadata": {},
   "source": [
    "##### Update your template\n",
    "\n",
    "Within the project you would like to use, create a new Content Block in the documentation template and add the following code:\n",
    "\n",
    "```yaml\n",
    "      - content_type: metric\n",
    "        content_id: my_local_provider.tests.MyCustomTest\n",
    "      - content_type: metric\n",
    "        content_id: my_inline_provider.tests.MyCustomTest\n",
    "```\n",
    "\n",
    "See the section below on setting up and registering test providers for more info on how these content_id's get mapped to the actual test providers and tests."
   ]
  },
  {
   "attachments": {},
   "cell_type": "markdown",
   "metadata": {},
   "source": [
    "### Set up the Validmind connection\n",
    "\n",
    "**get your api_key and api_secret from the Validmind UI**"
   ]
  },
  {
   "cell_type": "code",
   "execution_count": 4,
   "metadata": {},
   "outputs": [
    {
     "name": "stderr",
     "output_type": "stream",
     "text": [
      "2023-06-20 15:08:36,290 - INFO - api_client - Connected to ValidMind. Project: External Test Provider Demo (clj1vl7l9000lahztzgtj5aqj)\n"
     ]
    }
   ],
   "source": [
    "import validmind as vm\n",
    "\n",
    "vm.init(\n",
    "    api_host = \"http://localhost:3000/api/v1/tracking\",\n",
    "    api_key = \"e22b89a6b9c2a27da47cb0a09febc001\",\n",
    "    api_secret = \"a61be901b5596e3c528d94231e4a3c504ef0bb803d16815f8dfd6857fac03e57\",\n",
    "    project = \"clj1vl7l9000lahztzgtj5aqj\"\n",
    ")"
   ]
  },
  {
   "attachments": {},
   "cell_type": "markdown",
   "metadata": {},
   "source": [
    "### Preview the template for the current project to validate that it looks correct"
   ]
  },
  {
   "cell_type": "code",
   "execution_count": 5,
   "metadata": {},
   "outputs": [
    {
     "data": {
      "application/vnd.jupyter.widget-view+json": {
       "model_id": "92735f1d55c94c2f8799cd26552266fa",
       "version_major": 2,
       "version_minor": 0
      },
      "text/plain": [
       "Accordion(children=(VBox(children=(HTML(value='\\n<div class=\"lm-Widget p-Widget jupyter-widget-Collapse jupyte…"
      ]
     },
     "metadata": {},
     "output_type": "display_data"
    }
   ],
   "source": [
    "# we should see two custom content blocks in the template whose IDs are under the namespaces registered below (`my_inline_provider` and `my_local_provider`)\n",
    "# the ID should match the path to the `tests` directory in this repo\n",
    "vm.preview_template()"
   ]
  },
  {
   "attachments": {},
   "cell_type": "markdown",
   "metadata": {},
   "source": [
    "### Register external test providers\n",
    "\n",
    "We will now instantiate and register the Test Provider classes that we imported above.\n",
    "\n",
    "For the Github provider, we will need to specify the `org` and `repo` to pull from as well as optionally pass a `token` if the repo is private.\n",
    "\n",
    "For the Local Filesystem provider, we will just need to specify the root folder under which the provider class will look for tests. In this case, it is the current directory for this demo so you may have to adjust the path for your machine."
   ]
  },
  {
   "attachments": {},
   "cell_type": "markdown",
   "metadata": {},
   "source": [
    "**Import the Local File System Test Provider from the `validmind.tests` module**"
   ]
  },
  {
   "cell_type": "code",
   "execution_count": null,
   "metadata": {},
   "outputs": [],
   "source": [
    "from validmind.tests import LocalTestProvider"
   ]
  },
  {
   "attachments": {},
   "cell_type": "markdown",
   "metadata": {},
   "source": [
    "**Create an inline TestProvider Class that just returns a single test**"
   ]
  },
  {
   "cell_type": "code",
   "execution_count": null,
   "metadata": {},
   "outputs": [],
   "source": [
    "class MySecondCustomTest(vm.vm_models.Metric):\n",
    "    def description(self):\n",
    "        return \"This is a custom test from an external test provider.\"\n",
    "\n",
    "    def run(self):\n",
    "        return self.cache_results({\"foo\": \"bar\"})\n",
    "\n",
    "    def summary(self, results):\n",
    "        return vm.vm_models.ResultSummary(\n",
    "            results=[\n",
    "                vm.vm_models.ResultTable(\n",
    "                    data=[{\"results\": results}],\n",
    "                    metadata=vm.vm_models.ResultTableMetadata(\n",
    "                        title=\"Custom Test from External Test Provider\"\n",
    "                    ),\n",
    "                )\n",
    "            ]\n",
    "        )\n",
    "\n",
    "\n",
    "class TestProviderInline:\n",
    "    def load_test(self, test_id):\n",
    "        # ignore the test_id and just return the single test above\n",
    "        return MySecondCustomTest"
   ]
  },
  {
   "cell_type": "code",
   "execution_count": 6,
   "metadata": {},
   "outputs": [],
   "source": [
    "# instantiate the test provider\n",
    "inline_test_provider = TestProviderInline()\n",
    "local_test_provider = LocalTestProvider(root_folder=\".\")\n",
    "\n",
    "# register the test providers\n",
    "vm.tests.register_test_provider(\n",
    "    namespace=\"my_inline_provider\",\n",
    "    test_provider=inline_test_provider,\n",
    ") # validmind will now call the `TestProviderInline.load_test` method whenever it encounters a test ID that starts with `my_inline_provider`\n",
    "vm.tests.register_test_provider(\n",
    "    namespace=\"my_local_provider\",\n",
    "    test_provider=local_test_provider,\n",
    ") # validmind will now call the `LocalTestProvider.load_test` method whenever it encounters a test ID that starts with `my_local_provider`"
   ]
  },
  {
   "attachments": {},
   "cell_type": "markdown",
   "metadata": {},
   "source": [
    "### Running the template\n",
    "\n",
    "Now we can run the template as usual and it will use the external test providers to load the appropriate tests."
   ]
  },
  {
   "cell_type": "code",
   "execution_count": 13,
   "metadata": {},
   "outputs": [
    {
     "data": {
      "application/vnd.jupyter.widget-view+json": {
       "model_id": "0135d17b4c1f48669a24fba1d62afb49",
       "version_major": 2,
       "version_minor": 0
      },
      "text/plain": [
       "HBox(children=(Label(value='Running test suite...'), IntProgress(value=0, max=4)))"
      ]
     },
     "metadata": {},
     "output_type": "display_data"
    },
    {
     "data": {
      "application/vnd.jupyter.widget-view+json": {
       "model_id": "76e921fbfef144d7a92dde9f39b2d3d6",
       "version_major": 2,
       "version_minor": 0
      },
      "text/plain": [
       "VBox(children=(HTML(value='<h2>Test Suite Results: <i style=\"color: #DE257E\">External Test Provider Demo</i></…"
      ]
     },
     "metadata": {},
     "output_type": "display_data"
    }
   ],
   "source": [
    "vm.run_template()"
   ]
  }
 ],
 "metadata": {
  "kernelspec": {
   "display_name": "Python 3 (ipykernel)",
   "language": "python",
   "name": "python3"
  },
  "language_info": {
   "codemirror_mode": {
    "name": "ipython",
    "version": 3
   },
   "file_extension": ".py",
   "mimetype": "text/x-python",
   "name": "python",
   "nbconvert_exporter": "python",
   "pygments_lexer": "ipython3",
   "version": "3.9.16"
  }
 },
 "nbformat": 4,
 "nbformat_minor": 2
}
