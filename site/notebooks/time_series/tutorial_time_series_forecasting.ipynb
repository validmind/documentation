{
       "cells": [
              {
                     "attachments": {},
                     "cell_type": "markdown",
                     "metadata": {},
                     "source": [
                            "# Time Series Forecasting Model Tutorial"
                     ]
              },
              {
                     "attachments": {},
                     "cell_type": "markdown",
                     "metadata": {},
                     "source": [
                            "## Introduction"
                     ]
              },
              {
                     "attachments": {},
                     "cell_type": "markdown",
                     "metadata": {},
                     "source": [
                            "This tutorial shows **Model Developers** on how to use and configure the **Developer Framework** and the **MRM ValidMind Platform**. The following steps will guide you to **automatically** document and test Time Series Forecasting models: \n",
                            "\n",
                            "- Step 1: Connect Notebook to ValidMind Project \n",
                            "- Step 2: Import Raw Data\n",
                            "- Step 3: Run Data Validation Test Suite on Raw Data\n",
                            "- Step 4: Preprocess Data\n",
                            "- Step 5: Run Data Validation Test Suite on Processed Data\n",
                            "- Step 6: Load Pre-Trained Models\n",
                            "- Step 7: Run Model Validation Test Suite on Models\n",
                            "\n"
                     ]
              },
              {
                     "attachments": {},
                     "cell_type": "markdown",
                     "metadata": {},
                     "source": [
                            "## Before you begin\n",
                            "\n",
                            "To use the ValidMind Developer Framework with a Jupyter notebook, you need to install and initialize the client library first, along with getting your Python environment ready.\n",
                            "\n",
                            "If you don't already have one, you should also [create a documentation project](https://docs.validmind.ai/guide/create-your-first-documentation-project.html) on the ValidMind platform. You will use this project to upload your documentation and test results."
                     ]
              },
              {
                     "attachments": {},
                     "cell_type": "markdown",
                     "metadata": {},
                     "source": [
                            "## Install the client library"
                     ]
              },
              {
                     "cell_type": "code",
                     "execution_count": null,
                     "metadata": {},
                     "outputs": [],
                     "source": [
                            "%pip install --upgrade validmind"
                     ]
              },
              {
                     "attachments": {},
                     "cell_type": "markdown",
                     "metadata": {},
                     "source": [
                            "## Initialize the client library\n",
                            "\n",
                            "In a browser, go to the **Client Integration** page of your documentation project and click **Copy to clipboard** next to the code snippet. This code snippet gives you the API key, API secret, and project identifier to link your notebook to your documentation project.\n",
                            "\n",
                            "::: {.column-margin}\n",
                            "::: {.callout-tip}\n",
                            "This step requires a documentation project. [Learn how you can create one](https://docs.validmind.ai/guide/create-your-first-documentation-project.html).\n",
                            ":::\n",
                            ":::\n",
                            "\n",
                            "Next, replace this placeholder with your own code snippet:"
                     ]
              },
              {
                     "cell_type": "code",
                     "execution_count": null,
                     "metadata": {},
                     "outputs": [],
                     "source": [
                            "## Replace with code snippet from your documentation project ##\n",
                            "\n",
                            "import validmind as vm\n",
                            "\n",
                            "vm.init(\n",
                            "    api_host=\"https://api.prod.validmind.ai/api/v1/tracking\",\n",
                            "    api_key=\"xxxxxxxxxxxxxxxxxxxxxxxxxxxxxxxx\",\n",
                            "    api_secret=\"API_SECRET\",\n",
                            "    project=\"xxxxxxxxxxxxxxxxxxxxxxxxx\"\n",
                            ")"
                     ]
              },
              {
                     "attachments": {},
                     "cell_type": "markdown",
                     "metadata": {},
                     "source": [
                            "## Step 1: Connect Notebook to ValidMind Project\n",
                            "Prepare the environment for our analysis by following the **Before you begin** section. First, **import** all necessary libraries and modules required for our analysis. Next, **connect** to the ValidMind MRM platform, which provides a comprehensive suite of tools and services for model validation.\n",
                            "\n",
                            "Finally, define and **configure** the specific use case we are working on by setting up any required parameters, data sources, or other settings that will be used throughout the analysis."
                     ]
              },
              {
                     "attachments": {},
                     "cell_type": "markdown",
                     "metadata": {},
                     "source": [
                            "#### Explore Test Suites, Test Plans and Tests"
                     ]
              },
              {
                     "cell_type": "code",
                     "execution_count": null,
                     "metadata": {},
                     "outputs": [],
                     "source": [
                            "vm.test_suites.list_suites()"
                     ]
              },
              {
                     "cell_type": "code",
                     "execution_count": null,
                     "metadata": {},
                     "outputs": [],
                     "source": [
                            "vm.test_plans.list_plans()"
                     ]
              },
              {
                     "cell_type": "code",
                     "execution_count": null,
                     "metadata": {},
                     "outputs": [],
                     "source": [
                            "vm.tests.list_tests()"
                     ]
              },
              {
                     "attachments": {},
                     "cell_type": "markdown",
                     "metadata": {},
                     "source": [
                            "## Step 2: Import Raw Data"
                     ]
              },
              {
                     "attachments": {},
                     "cell_type": "markdown",
                     "metadata": {},
                     "source": [
                            "#### Import FRED Dataset"
                     ]
              },
              {
                     "cell_type": "code",
                     "execution_count": null,
                     "metadata": {},
                     "outputs": [],
                     "source": [
                            "from validmind.datasets.regression import fred as demo_dataset\n",
                            "\n",
                            "target_column = demo_dataset.target_column\n",
                            "feature_columns = demo_dataset.feature_columns\n",
                            "\n",
                            "df = demo_dataset.load_data()\n",
                            "df.tail(10)"
                     ]
              },
              {
                     "attachments": {},
                     "cell_type": "markdown",
                     "metadata": {},
                     "source": [
                            "## Step 3: Run Data Validation Test Suite on Raw Data"
                     ]
              },
              {
                     "attachments": {},
                     "cell_type": "markdown",
                     "metadata": {},
                     "source": [
                            "#### Explore the Time Series Dataset Test Suite"
                     ]
              },
              {
                     "cell_type": "code",
                     "execution_count": null,
                     "metadata": {},
                     "outputs": [],
                     "source": [
                            "vm.test_suites.describe_suite(\"time_series_dataset\")"
                     ]
              },
              {
                     "attachments": {},
                     "cell_type": "markdown",
                     "metadata": {},
                     "source": [
                            "#### Explore Test Plans"
                     ]
              },
              {
                     "cell_type": "code",
                     "execution_count": null,
                     "metadata": {},
                     "outputs": [],
                     "source": [
                            "vm.test_plans.describe_plan(\"time_series_data_quality\")"
                     ]
              },
              {
                     "cell_type": "code",
                     "execution_count": null,
                     "metadata": {},
                     "outputs": [],
                     "source": [
                            "vm.test_plans.describe_plan(\"time_series_univariate\")"
                     ]
              },
              {
                     "attachments": {},
                     "cell_type": "markdown",
                     "metadata": {},
                     "source": [
                            "##### Connect Raw Dataset to ValidMind Platform"
                     ]
              },
              {
                     "cell_type": "code",
                     "execution_count": null,
                     "metadata": {},
                     "outputs": [],
                     "source": [
                            "vm_dataset = vm.init_dataset(\n",
                            "    dataset=df,\n",
                            "    target_column=demo_dataset.target_column,\n",
                            ")"
                     ]
              },
              {
                     "attachments": {},
                     "cell_type": "markdown",
                     "metadata": {},
                     "source": [
                            "##### Run Time Series Dataset Test Suite on Raw Dataset"
                     ]
              },
              {
                     "cell_type": "code",
                     "execution_count": null,
                     "metadata": {},
                     "outputs": [],
                     "source": [
                            "config={\n",
                            "    \n",
                            "    # TIME SERIES DATA QUALITY PARAMS\n",
                            "    \"time_series_outliers\": {\n",
                            "        \"zscore_threshold\": 3,\n",
                            "    },\n",
                            "    \"time_series_missing_values\":{\n",
                            "        \"min_threshold\": 2,\n",
                            "    },\n",
                            "    \n",
                            "    # TIME SERIES UNIVARIATE PARAMS \n",
                            "    \"rolling_stats_plot\": {\n",
                            "        \"window_size\": 12    \n",
                            "    },\n",
                            "     \"seasonal_decompose\": {\n",
                            "        \"seasonal_model\": 'additive'\n",
                            "    },\n",
                            "     \"auto_seasonality\": {\n",
                            "        \"min_period\": 1,\n",
                            "        \"max_period\": 3\n",
                            "    },\n",
                            "      \"auto_stationarity\": {\n",
                            "        \"max_order\": 3,\n",
                            "        \"threshold\": 0.05\n",
                            "    },\n",
                            "    \"auto_ar\": {\n",
                            "        \"max_ar_order\": 2\n",
                            "    },\n",
                            "    \"auto_ma\": {\n",
                            "        \"max_ma_order\": 2\n",
                            "    },\n",
                            "\n",
                            "    # TIME SERIES MULTIVARIATE PARAMS \n",
                            "    \"lagged_correlation_heatmap\": {\n",
                            "        \"target_col\": demo_dataset.target_column,\n",
                            "        \"independent_vars\": demo_dataset.feature_columns\n",
                            "    },\n",
                            "    \"engle_granger_coint\": {\n",
                            "        \"threshold\": 0.05\n",
                            "    },\n",
                            "}\n",
                            "\n",
                            "full_suite = vm.run_test_suite(\n",
                            "    \"time_series_dataset\",\n",
                            "    dataset=vm_dataset,\n",
                            "    config = config,\n",
                            ")"
                     ]
              },
              {
                     "attachments": {},
                     "cell_type": "markdown",
                     "metadata": {},
                     "source": [
                            "## Step 4: Preprocess Data"
                     ]
              },
              {
                     "attachments": {},
                     "cell_type": "markdown",
                     "metadata": {},
                     "source": [
                            "##### Handle Frequencies, Missing Values and Stationairty"
                     ]
              },
              {
                     "cell_type": "code",
                     "execution_count": null,
                     "metadata": {},
                     "outputs": [],
                     "source": [
                            "# Sample frequencies to Monthly\n",
                            "resampled_df = df.resample(\"MS\").last()\n",
                            "\n",
                            "# Remove all missing values\n",
                            "nona_df = resampled_df.dropna()\n",
                            "\n",
                            "# Take the first different across all variables\n",
                            "preprocessed_df = nona_df.diff().dropna()"
                     ]
              },
              {
                     "attachments": {},
                     "cell_type": "markdown",
                     "metadata": {},
                     "source": [
                            "## Step 5: Run Data Validation Test Suite on Processed Data"
                     ]
              },
              {
                     "cell_type": "code",
                     "execution_count": null,
                     "metadata": {},
                     "outputs": [],
                     "source": [
                            "vm_dataset = vm.init_dataset(\n",
                            "    dataset=preprocessed_df,\n",
                            "    target_column=demo_dataset.target_column,\n",
                            ")\n",
                            "\n",
                            "full_suite = vm.run_test_suite(\n",
                            "    \"time_series_dataset\",\n",
                            "    dataset=vm_dataset,\n",
                            "    config = config,\n",
                            ")"
                     ]
              },
              {
                     "attachments": {},
                     "cell_type": "markdown",
                     "metadata": {},
                     "source": [
                            "## Step 6: Load Pre-Trained Models"
                     ]
              },
              {
                     "attachments": {},
                     "cell_type": "markdown",
                     "metadata": {},
                     "source": [
                            "#### Load Pre-Trained Models"
                     ]
              },
              {
                     "cell_type": "code",
                     "execution_count": null,
                     "metadata": {},
                     "outputs": [],
                     "source": [
                            "from validmind.datasets.regression import fred as demo_dataset\n",
                            "model_A, train_df_A, test_df_A = demo_dataset.load_model('fred_loan_rates_model_3')\n",
                            "model_B, train_df_B, test_df_B = demo_dataset.load_model('fred_loan_rates_model_4')"
                     ]
              },
              {
                     "attachments": {},
                     "cell_type": "markdown",
                     "metadata": {},
                     "source": [
                            "##### Connect a List of Models To the ValidMind Platform"
                     ]
              },
              {
                     "cell_type": "code",
                     "execution_count": null,
                     "metadata": {},
                     "outputs": [],
                     "source": [
                            "# Initialize training and testing datasets for model A\n",
                            "vm_train_ds_A = vm.init_dataset(dataset=train_df_A, type=\"generic\", target_column=demo_dataset.target_column)\n",
                            "vm_test_ds_A = vm.init_dataset(dataset=test_df_A, type=\"generic\", target_column=demo_dataset.target_column)\n",
                            "\n",
                            "# Initialize training and testing datasets for model B\n",
                            "vm_train_ds_B = vm.init_dataset(dataset=train_df_B, type=\"generic\", target_column=demo_dataset.target_column)\n",
                            "vm_test_ds_B = vm.init_dataset(dataset=test_df_B, type=\"generic\", target_column=demo_dataset.target_column)\n",
                            "\n",
                            "# Initialize model A\n",
                            "vm_model_A = vm.init_model(\n",
                            "    model = model_A, \n",
                            "    train_ds=vm_train_ds_A, \n",
                            "    test_ds=vm_test_ds_A)\n",
                            "\n",
                            "# Initialize model B\n",
                            "vm_model_B = vm.init_model(\n",
                            "    model = model_B,\n",
                            "    train_ds=vm_train_ds_B,\n",
                            "    test_ds=vm_test_ds_B)\n",
                            "\n",
                            "\n",
                            "list_of_models = [vm_model_A, vm_model_B]"
                     ]
              },
              {
                     "attachments": {},
                     "cell_type": "markdown",
                     "metadata": {},
                     "source": [
                            "## Step 7: Run Model Validation Test Suite on Models"
                     ]
              },
              {
                     "attachments": {},
                     "cell_type": "markdown",
                     "metadata": {},
                     "source": [
                            "#### Explore the Time Series Model Validation Test Suite"
                     ]
              },
              {
                     "cell_type": "code",
                     "execution_count": null,
                     "metadata": {},
                     "outputs": [],
                     "source": [
                            "vm.test_suites.describe_test_suite(\"time_series_model_validation\")"
                     ]
              },
              {
                     "attachments": {},
                     "cell_type": "markdown",
                     "metadata": {},
                     "source": [
                            "#### Explore Test Plans"
                     ]
              },
              {
                     "cell_type": "code",
                     "execution_count": null,
                     "metadata": {},
                     "outputs": [],
                     "source": [
                            "vm.test_plans.describe_plan(\"regression_model_description\")"
                     ]
              },
              {
                     "cell_type": "code",
                     "execution_count": null,
                     "metadata": {},
                     "outputs": [],
                     "source": [
                            "vm.test_plans.describe_plan(\"regression_models_evaluation\")"
                     ]
              },
              {
                     "cell_type": "code",
                     "execution_count": null,
                     "metadata": {},
                     "outputs": [],
                     "source": [
                            "vm.test_plans.describe_plan(\"time_series_forecast\")"
                     ]
              },
              {
                     "cell_type": "code",
                     "execution_count": null,
                     "metadata": {},
                     "outputs": [],
                     "source": [
                            "vm.test_plans.describe_plan(\"time_series_sensitivity\")"
                     ]
              },
              {
                     "attachments": {},
                     "cell_type": "markdown",
                     "metadata": {},
                     "source": [
                            "#### Run Model Validation Test Suite on a List of Models"
                     ]
              },
              {
                     "cell_type": "code",
                     "execution_count": null,
                     "metadata": {},
                     "outputs": [],
                     "source": [
                            "config= {\n",
                            "    \"regression_forecast_plot_levels\": {\n",
                            "        \"transformation\": \"integrate\",\n",
                            "    },\n",
                            "    \"regression_sensitivity_plot\": {\n",
                            "        \"transformation\": \"integrate\",\n",
                            "        \"shocks\": [0.3],\n",
                            "    }\n",
                            "}\n",
                            "\n",
                            "full_suite = vm.run_test_suite(\n",
                            "    \"time_series_model_validation\",\n",
                            "    model = vm_model_B,\n",
                            "    models = list_of_models,\n",
                            "    config = config,\n",
                            ")"
                     ]
              }
       ],
       "metadata": {
              "kernelspec": {
                     "display_name": "validmind-eEL8LtKG-py3.10",
                     "language": "python",
                     "name": "python3"
              },
              "language_info": {
                     "codemirror_mode": {
                            "name": "ipython",
                            "version": 3
                     },
                     "file_extension": ".py",
                     "mimetype": "text/x-python",
                     "name": "python",
                     "nbconvert_exporter": "python",
                     "pygments_lexer": "ipython3",
                     "version": "3.10.5"
              },
              "orig_nbformat": 4
       },
       "nbformat": 4,
       "nbformat_minor": 2
}
