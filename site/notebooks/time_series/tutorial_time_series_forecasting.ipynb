{
       "cells": [
              {
                     "attachments": {},
                     "cell_type": "markdown",
                     "metadata": {},
                     "source": [
                            "# Time Series Forecasting Model Tutorial"
                     ]
              },
              {
                     "attachments": {},
                     "cell_type": "markdown",
                     "metadata": {},
                     "source": [
                            "## Introduction"
                     ]
              },
              {
                     "attachments": {},
                     "cell_type": "markdown",
                     "metadata": {},
                     "source": [
                            "This tutorial shows **Model Developers** on how to use and configure the **Developer Framework** and the **ValidMind Platform**. The following steps will guide you to **automatically** document and test Time Series Forecasting models: \n",
                            "\n",
                            "- Step 1: Import raw data\n",
                            "- Step 3: Run data validation test suite on raw data\n",
                            "- Step 4: Preprocess data\n",
                            "- Step 5: Run data validation test suite on processed data\n",
                            "- Step 6: Load pre-trained models\n",
                            "- Step 7: Run model validation test suite on models"
                     ]
              },
              {
                     "attachments": {},
                     "cell_type": "markdown",
                     "metadata": {},
                     "source": [
                            "## Before you begin\n",
                            "\n",
                            "To use the ValidMind Developer Framework with a Jupyter notebook, you need to install and initialize the client library first, along with getting your Python environment ready.\n",
                            "\n",
                            "If you don't already have one, you should also [create a documentation project](https://docs.validmind.ai/guide/create-your-first-documentation-project.html) on the ValidMind platform. You will use this project to upload your documentation and test results."
                     ]
              },
              {
                     "attachments": {},
                     "cell_type": "markdown",
                     "metadata": {},
                     "source": [
                            "## Install the client library"
                     ]
              },
              {
                     "cell_type": "code",
                     "execution_count": null,
                     "metadata": {},
                     "outputs": [],
                     "source": [
                            "%pip install -q validmind"
                     ]
              },
              {
                     "attachments": {},
                     "cell_type": "markdown",
                     "metadata": {},
                     "source": [
                            "## Initialize the client library\n",
                            "\n",
                            "In a browser, go to the **Client Integration** page of your documentation project and click **Copy to clipboard** next to the code snippet. This code snippet gives you the API key, API secret, and project identifier to link your notebook to your documentation project.\n",
                            "\n",
                            "::: {.column-margin}\n",
                            "::: {.callout-tip}\n",
                            "This step requires a documentation project. [Learn how you can create one](https://docs.validmind.ai/guide/create-your-first-documentation-project.html).\n",
                            ":::\n",
                            ":::\n",
                            "\n",
                            "Next, replace this placeholder with your own code snippet:"
                     ]
              },
              {
                     "cell_type": "code",
                     "execution_count": null,
                     "metadata": {},
                     "outputs": [],
                     "source": [
                            "## Replace with code snippet from your documentation project ##\n",
                            "\n",
                            "import validmind as vm\n",
                            "\n",
                            "vm.init(\n",
                            "    api_host=\"https://api.prod.validmind.ai/api/v1/tracking\",\n",
                            "    api_key=\"...\",\n",
                            "    api_secret=\"...\",\n",
                            "    project=\"...\"\n",
                            ")"
                     ]
              },
              {
                     "attachments": {},
                     "cell_type": "markdown",
                     "metadata": {},
                     "source": [
                            "#### Explore available test suites\n",
                            "\n",
                            "In this notebook we will run a collection of test suites that are available in the ValidMind Developer Framework. Test suites group together a collection of tests that are relevant for a specific use case. In our case, we will run test different test suites for time series forecasting models. Once a test suite runs successfully, its results will be automatically uploaded to the ValidMind platform."
                     ]
              },
              {
                     "cell_type": "code",
                     "execution_count": null,
                     "metadata": {},
                     "outputs": [],
                     "source": [
                            "vm.test_suites.list_suites()"
                     ]
              },
              {
                     "cell_type": "markdown",
                     "metadata": {},
                     "source": [
                            "For our example use case we will run the following test suites:\n",
                            "\n",
                            "- `time_series_dataset`\n",
                            "- `time_series_model_validation`"
                     ]
              },
              {
                     "attachments": {},
                     "cell_type": "markdown",
                     "metadata": {},
                     "source": [
                            "## Step 1: Import raw data"
                     ]
              },
              {
                     "attachments": {},
                     "cell_type": "markdown",
                     "metadata": {},
                     "source": [
                            "#### Import FRED dataset\n",
                            "\n",
                            "Federal Reserve Economic Data, or FRED, is a comprehensive database maintained by the Federal Reserve Bank of St. Louis. It offers a wide array of economic data from various sources, including U.S. government agencies and international organizations. The dataset encompasses numerous economic indicators across various categories such as employment, consumer price indices, money supply, and gross domestic product, among others.\n",
                            "\n",
                            "FRED provides a valuable resource for researchers, policymakers, and anyone interested in understanding economic trends and conducting economic analysis. The platform also includes tools for data visualization, which can help users interpret complex economic data and identify trends over time.\n",
                            "\n",
                            "In the following code snippet we will import a sample FRED dataset into a Pandas dataframe."
                     ]
              },
              {
                     "cell_type": "code",
                     "execution_count": null,
                     "metadata": {},
                     "outputs": [],
                     "source": [
                            "from validmind.datasets.regression import fred as demo_dataset\n",
                            "\n",
                            "target_column = demo_dataset.target_column\n",
                            "feature_columns = demo_dataset.feature_columns\n",
                            "\n",
                            "df = demo_dataset.load_data()\n",
                            "df.tail(10)"
                     ]
              },
              {
                     "attachments": {},
                     "cell_type": "markdown",
                     "metadata": {},
                     "source": [
                            "## Step 2: Run data validation test suite on raw data"
                     ]
              },
              {
                     "attachments": {},
                     "cell_type": "markdown",
                     "metadata": {},
                     "source": [
                            "#### Explore the time series dataset test suites\n",
                            "\n",
                            "Let's see what tests are included on each test plan."
                     ]
              },
              {
                     "cell_type": "code",
                     "execution_count": null,
                     "metadata": {},
                     "outputs": [],
                     "source": [
                            "vm.test_suites.describe_suite(\"time_series_data_quality\")"
                     ]
              },
              {
                     "cell_type": "code",
                     "execution_count": null,
                     "metadata": {},
                     "outputs": [],
                     "source": [
                            "vm.test_suites.describe_suite(\"time_series_univariate\")"
                     ]
              },
              {
                     "attachments": {},
                     "cell_type": "markdown",
                     "metadata": {},
                     "source": [
                            "##### Connect Raw Dataset to ValidMind Platform"
                     ]
              },
              {
                     "cell_type": "code",
                     "execution_count": null,
                     "metadata": {},
                     "outputs": [],
                     "source": [
                            "vm_dataset = vm.init_dataset(\n",
                            "    dataset=df,\n",
                            "    target_column=demo_dataset.target_column,\n",
                            ")"
                     ]
              },
              {
                     "attachments": {},
                     "cell_type": "markdown",
                     "metadata": {},
                     "source": [
                            "##### Run Time Series Dataset Test Suite on Raw Dataset"
                     ]
              },
              {
                     "cell_type": "code",
                     "execution_count": null,
                     "metadata": {},
                     "outputs": [],
                     "source": [
                            "config = {\n",
                            "    # TIME SERIES DATA QUALITY PARAMS\n",
                            "    \"validmind.data_validation.TimeSeriesOutliers\": {\n",
                            "        \"zscore_threshold\": 3,\n",
                            "    },\n",
                            "    \"validmind.data_validation.TimeSeriesMissingValues\":{\n",
                            "        \"min_threshold\": 2,\n",
                            "    },\n",
                            "\n",
                            "    # TIME SERIES UNIVARIATE PARAMS\n",
                            "    \"validmind.data_validation.RollingStatsPlot\": {\n",
                            "        \"window_size\": 12\n",
                            "    },\n",
                            "     \"validmind.data_validation.SeasonalDecompose\": {\n",
                            "        \"seasonal_model\": 'additive'\n",
                            "    },\n",
                            "     \"validmind.data_validation.AutoSeasonality\": {\n",
                            "        \"min_period\": 1,\n",
                            "        \"max_period\": 3\n",
                            "    },\n",
                            "      \"validmind.data_validation.AutoStationarity\": {\n",
                            "        \"max_order\": 3,\n",
                            "        \"threshold\": 0.05\n",
                            "    },\n",
                            "    \"validmind.data_validation.AutoAR\": {\n",
                            "        \"max_ar_order\": 2\n",
                            "    },\n",
                            "    \"validmind.data_validation.AutoMA\": {\n",
                            "        \"max_ma_order\": 2\n",
                            "    },\n",
                            "\n",
                            "    # TIME SERIES MULTIVARIATE PARAMS\n",
                            "    \"validmind.data_validation.LaggedCorrelationHeatmap\": {\n",
                            "        \"target_col\": demo_dataset.target_column,\n",
                            "        \"independent_vars\": demo_dataset.feature_columns\n",
                            "    },\n",
                            "    \"validmind.data_validation.EngleGrangerCoint\": {\n",
                            "        \"threshold\": 0.05\n",
                            "    },\n",
                            "}\n",
                            "\n",
                            "full_suite = vm.run_test_suite(\n",
                            "    \"time_series_dataset\",\n",
                            "    dataset=vm_dataset,\n",
                            "    config = config,\n",
                            ")"
                     ]
              },
              {
                     "attachments": {},
                     "cell_type": "markdown",
                     "metadata": {},
                     "source": [
                            "## Step 3: Preprocess data"
                     ]
              },
              {
                     "attachments": {},
                     "cell_type": "markdown",
                     "metadata": {},
                     "source": [
                            "##### Handle Frequencies, Missing Values and Stationairty"
                     ]
              },
              {
                     "cell_type": "code",
                     "execution_count": null,
                     "metadata": {},
                     "outputs": [],
                     "source": [
                            "# Sample frequencies to Monthly\n",
                            "resampled_df = df.resample(\"MS\").last()\n",
                            "\n",
                            "# Remove all missing values\n",
                            "nona_df = resampled_df.dropna()\n",
                            "\n",
                            "# Take the first different across all variables\n",
                            "preprocessed_df = nona_df.diff().dropna()"
                     ]
              },
              {
                     "attachments": {},
                     "cell_type": "markdown",
                     "metadata": {},
                     "source": [
                            "## Step 4: Run data validation test suite on processed Data"
                     ]
              },
              {
                     "cell_type": "code",
                     "execution_count": null,
                     "metadata": {},
                     "outputs": [],
                     "source": [
                            "vm_dataset = vm.init_dataset(\n",
                            "    dataset=preprocessed_df,\n",
                            "    target_column=demo_dataset.target_column,\n",
                            ")\n",
                            "\n",
                            "full_suite = vm.run_test_suite(\n",
                            "    \"time_series_dataset\",\n",
                            "    dataset=vm_dataset,\n",
                            "    config=config,\n",
                            ")"
                     ]
              },
              {
                     "attachments": {},
                     "cell_type": "markdown",
                     "metadata": {},
                     "source": [
                            "## Step 5: Load pre-trained models"
                     ]
              },
              {
                     "attachments": {},
                     "cell_type": "markdown",
                     "metadata": {},
                     "source": [
                            "#### Load pre-trained models"
                     ]
              },
              {
                     "cell_type": "code",
                     "execution_count": null,
                     "metadata": {},
                     "outputs": [],
                     "source": [
                            "from validmind.datasets.regression import fred as demo_dataset\n",
                            "\n",
                            "model_A, train_df_A, test_df_A = demo_dataset.load_model('fred_loan_rates_model_3')\n",
                            "model_B, train_df_B, test_df_B = demo_dataset.load_model('fred_loan_rates_model_4')"
                     ]
              },
              {
                     "attachments": {},
                     "cell_type": "markdown",
                     "metadata": {},
                     "source": [
                            "##### Initialize VM Models"
                     ]
              },
              {
                     "cell_type": "code",
                     "execution_count": null,
                     "metadata": {},
                     "outputs": [],
                     "source": [
                            "# Initialize training and testing datasets for model A\n",
                            "vm_train_ds_A = vm.init_dataset(dataset=train_df_A, target_column=demo_dataset.target_column)\n",
                            "vm_test_ds_A = vm.init_dataset(dataset=test_df_A, target_column=demo_dataset.target_column)\n",
                            "\n",
                            "# Initialize training and testing datasets for model B\n",
                            "vm_train_ds_B = vm.init_dataset(dataset=train_df_B, target_column=demo_dataset.target_column)\n",
                            "vm_test_ds_B = vm.init_dataset(dataset=test_df_B, target_column=demo_dataset.target_column)\n",
                            "\n",
                            "# Initialize model A\n",
                            "vm_model_A = vm.init_model(\n",
                            "    model = model_A,\n",
                            "    train_ds=vm_train_ds_A,\n",
                            "    test_ds=vm_test_ds_A)\n",
                            "\n",
                            "# Initialize model B\n",
                            "vm_model_B = vm.init_model(\n",
                            "    model = model_B,\n",
                            "    train_ds=vm_train_ds_B,\n",
                            "    test_ds=vm_test_ds_B)\n",
                            "\n",
                            "\n",
                            "models = [vm_model_A, vm_model_B]"
                     ]
              },
              {
                     "attachments": {},
                     "cell_type": "markdown",
                     "metadata": {},
                     "source": [
                            "## Step 6: Run model validation test suite on models"
                     ]
              },
              {
                     "attachments": {},
                     "cell_type": "markdown",
                     "metadata": {},
                     "source": [
                            "#### Explore the time series model validation test suite"
                     ]
              },
              {
                     "cell_type": "code",
                     "execution_count": null,
                     "metadata": {},
                     "outputs": [],
                     "source": [
                            "vm.test_suites.describe_test_suite(\"time_series_model_validation\")"
                     ]
              },
              {
                     "attachments": {},
                     "cell_type": "markdown",
                     "metadata": {},
                     "source": [
                            "#### Run model validation test suite on a list of models"
                     ]
              },
              {
                     "cell_type": "code",
                     "execution_count": null,
                     "metadata": {},
                     "outputs": [],
                     "source": [
                            "config = {\n",
                            "    \"validmind.model_validation.statsmodels.RegressionModelForecastPlotLevels\": {\n",
                            "        \"transformation\": \"integrate\",\n",
                            "    },\n",
                            "    \"validmind.model_validation.statsmodels.RegressionModelSensitivityPlot\": {\n",
                            "        \"transformation\": \"integrate\",\n",
                            "        \"shocks\": [0.3],\n",
                            "    }\n",
                            "}\n",
                            "\n",
                            "full_suite = vm.run_test_suite(\n",
                            "    \"time_series_model_validation\",\n",
                            "    model = vm_model_B,\n",
                            "    models = models,\n",
                            "    config = config,\n",
                            ")"
                     ]
              }
       ],
       "metadata": {
              "kernelspec": {
                     "display_name": "Dev Framework 3.9.16",
                     "language": "python",
                     "name": "dev-framework-3.9"
              },
              "language_info": {
                     "codemirror_mode": {
                            "name": "ipython",
                            "version": 3
                     },
                     "file_extension": ".py",
                     "mimetype": "text/x-python",
                     "name": "python",
                     "nbconvert_exporter": "python",
                     "pygments_lexer": "ipython3",
                     "version": "3.9.16"
              },
              "orig_nbformat": 4
       },
       "nbformat": 4,
       "nbformat_minor": 2
}
