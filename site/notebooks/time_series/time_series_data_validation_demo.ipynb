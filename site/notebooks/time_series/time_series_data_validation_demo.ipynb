{
 "cells": [
  {
   "attachments": {},
   "cell_type": "markdown",
   "metadata": {},
   "source": [
    "# Time Series Data Validation Demo"
   ]
  },
  {
   "attachments": {},
   "cell_type": "markdown",
   "metadata": {},
   "source": [
    "## 1. Introduction"
   ]
  },
  {
   "attachments": {},
   "cell_type": "markdown",
   "metadata": {},
   "source": [
    "The Time Series Data Validation Demo notebook aims to demonstrate the application of various data validation tests using the **ValidMind MRM Platform** and **Developer Framework**. Ensuring the quality and an a robust exploratory data analysis of time series data is essential for accurate model predictions and robust decision-making processes.\n",
    "\n",
    "In this demo, we will walk through different **data validation suites of tests** tailored for time series data, showcasing how these tools can assist you in identifying potential issues and inconsistencies in the data. \n",
    "\n"
   ]
  },
  {
   "attachments": {},
   "cell_type": "markdown",
   "metadata": {},
   "source": [
    "## 2. Setup \n",
    "\n",
    "Prepare the environment for our analysis. First, **import** all necessary libraries and modules required for our analysis. Next, **connect** to the ValidMind MRM platform, which provides a comprehensive suite of tools and services for model validation.\n",
    "\n",
    "Finally, define and **configure** the specific use case we are working on by setting up any required parameters, data sources, or other settings that will be used throughout the analysis. "
   ]
  },
  {
   "attachments": {},
   "cell_type": "markdown",
   "metadata": {},
   "source": [
    "### Import Libraries"
   ]
  },
  {
   "cell_type": "code",
   "execution_count": 3,
   "metadata": {},
   "outputs": [
    {
     "name": "stdout",
     "output_type": "stream",
     "text": [
      "The dotenv extension is already loaded. To reload it, use:\n",
      "  %reload_ext dotenv\n"
     ]
    }
   ],
   "source": [
    "# Load API key and secret from environment variables\n",
    "%load_ext dotenv\n",
    "%dotenv .env\n",
    "\n",
    "# ValidMind libraries \n",
    "import validmind as vm\n",
    "from validmind.datasets.regression import (\n",
    "    identify_frequencies, \n",
    "    resample_to_common_frequency\n",
    ")"
   ]
  },
  {
   "attachments": {},
   "cell_type": "markdown",
   "metadata": {},
   "source": [
    "### Connect to the ValidMind Library"
   ]
  },
  {
   "cell_type": "code",
   "execution_count": 4,
   "metadata": {},
   "outputs": [
    {
     "name": "stdout",
     "output_type": "stream",
     "text": [
      "Connected to ValidMind. Project: Customer Churn Model - Initial Validation (clhhz04x40000wcy6shay2oco)\n"
     ]
    }
   ],
   "source": [
    "vm.init(\n",
    "  api_host = \"http://localhost:3000/api/v1/tracking\",\n",
    "  project = \"clhhz04x40000wcy6shay2oco\"\n",
    ")"
   ]
  },
  {
   "attachments": {},
   "cell_type": "markdown",
   "metadata": {},
   "source": [
    "### Find All Test Plans Available in the Developer Framework"
   ]
  },
  {
   "attachments": {},
   "cell_type": "markdown",
   "metadata": {},
   "source": [
    "We can find all the test plans available in the developer framework by calling the following functions:\n",
    "\n",
    "- All test plans: `vm.test_plans.list_plans()`\n",
    "- Describe a test plan: `vm.test_plans.describe_plan(\"time_series_data_quality\")`\n",
    "- List all available tests: `vm.test_plans.list_tests()`"
   ]
  },
  {
   "cell_type": "code",
   "execution_count": 5,
   "metadata": {},
   "outputs": [
    {
     "data": {
      "text/html": [
       "<table>\n",
       "<thead>\n",
       "<tr><th>ID                               </th><th>Name                       </th><th>Description                                                                </th></tr>\n",
       "</thead>\n",
       "<tbody>\n",
       "<tr><td>binary_classifier_metrics        </td><td>BinaryClassifierMetrics    </td><td>Test plan for sklearn classifier metrics                                   </td></tr>\n",
       "<tr><td>binary_classifier_validation     </td><td>BinaryClassifierPerformance</td><td>Test plan for sklearn classifier models                                    </td></tr>\n",
       "<tr><td>binary_classifier_model_diagnosis</td><td>BinaryClassifierDiagnosis  </td><td>Test plan for sklearn classifier model diagnosis tests                     </td></tr>\n",
       "<tr><td>tabular_dataset_description      </td><td>TabularDatasetDescription  </td><td>Test plan to extract metadata and descriptive\n",
       "    statistics from a tabular dataset                                                                            </td></tr>\n",
       "<tr><td>tabular_data_quality             </td><td>TabularDataQuality         </td><td>Test plan for data quality on tabular datasets                             </td></tr>\n",
       "<tr><td>time_series_data_quality         </td><td>TimeSeriesDataQuality      </td><td>Test plan for data quality on time series datasets                         </td></tr>\n",
       "<tr><td>time_series_univariate           </td><td>TimeSeriesUnivariate       </td><td>Test plan to perform time series univariate analysis.                      </td></tr>\n",
       "<tr><td>time_series_multivariate         </td><td>TimeSeriesMultivariate     </td><td>Test plan to perform time series multivariate analysis.                    </td></tr>\n",
       "<tr><td>time_series_forecast             </td><td>TimeSeriesForecast         </td><td>Test plan to perform time series forecast tests.                           </td></tr>\n",
       "<tr><td>regression_model_performance     </td><td>RegressionModelPerformance </td><td>Test plan for performance metric of regression model of statsmodels library</td></tr>\n",
       "<tr><td>regression_models_comparison     </td><td>RegressionModelsComparison </td><td>Test plan for metrics comparison of regression model of statsmodels library</td></tr>\n",
       "</tbody>\n",
       "</table>"
      ],
      "text/plain": [
       "'<table>\\n<thead>\\n<tr><th>ID                               </th><th>Name                       </th><th>Description                                                                </th></tr>\\n</thead>\\n<tbody>\\n<tr><td>binary_classifier_metrics        </td><td>BinaryClassifierMetrics    </td><td>Test plan for sklearn classifier metrics                                   </td></tr>\\n<tr><td>binary_classifier_validation     </td><td>BinaryClassifierPerformance</td><td>Test plan for sklearn classifier models                                    </td></tr>\\n<tr><td>binary_classifier_model_diagnosis</td><td>BinaryClassifierDiagnosis  </td><td>Test plan for sklearn classifier model diagnosis tests                     </td></tr>\\n<tr><td>tabular_dataset_description      </td><td>TabularDatasetDescription  </td><td>Test plan to extract metadata and descriptive\\n    statistics from a tabular dataset                                                                            </td></tr>\\n<tr><td>tabular_data_quality             </td><td>TabularDataQuality         </td><td>Test plan for data quality on tabular datasets                             </td></tr>\\n<tr><td>time_series_data_quality         </td><td>TimeSeriesDataQuality      </td><td>Test plan for data quality on time series datasets                         </td></tr>\\n<tr><td>time_series_univariate           </td><td>TimeSeriesUnivariate       </td><td>Test plan to perform time series univariate analysis.                      </td></tr>\\n<tr><td>time_series_multivariate         </td><td>TimeSeriesMultivariate     </td><td>Test plan to perform time series multivariate analysis.                    </td></tr>\\n<tr><td>time_series_forecast             </td><td>TimeSeriesForecast         </td><td>Test plan to perform time series forecast tests.                           </td></tr>\\n<tr><td>regression_model_performance     </td><td>RegressionModelPerformance </td><td>Test plan for performance metric of regression model of statsmodels library</td></tr>\\n<tr><td>regression_models_comparison     </td><td>RegressionModelsComparison </td><td>Test plan for metrics comparison of regression model of statsmodels library</td></tr>\\n</tbody>\\n</table>'"
      ]
     },
     "execution_count": 5,
     "metadata": {},
     "output_type": "execute_result"
    }
   ],
   "source": [
    "vm.test_plans.list_plans()"
   ]
  },
  {
   "attachments": {},
   "cell_type": "markdown",
   "metadata": {},
   "source": [
    "## 3. Load Data"
   ]
  },
  {
   "attachments": {},
   "cell_type": "markdown",
   "metadata": {},
   "source": [
    "Conigure your use case."
   ]
  },
  {
   "cell_type": "code",
   "execution_count": 6,
   "metadata": {},
   "outputs": [],
   "source": [
    "# from validmind.datasets.classification import lending_club as demo_dataset\n",
    "from validmind.datasets.regression import fred as demo_dataset\n",
    "\n",
    "target_column = demo_dataset.target_column\n",
    "feature_columns = demo_dataset.feature_columns"
   ]
  },
  {
   "cell_type": "code",
   "execution_count": 7,
   "metadata": {},
   "outputs": [],
   "source": [
    "# Split the dataset into test and training \n",
    "df = demo_dataset.load_data()"
   ]
  },
  {
   "attachments": {},
   "cell_type": "markdown",
   "metadata": {},
   "source": [
    "## 3. Data Description"
   ]
  },
  {
   "cell_type": "code",
   "execution_count": 8,
   "metadata": {},
   "outputs": [
    {
     "data": {
      "text/html": [
       "<div>\n",
       "<style scoped>\n",
       "    .dataframe tbody tr th:only-of-type {\n",
       "        vertical-align: middle;\n",
       "    }\n",
       "\n",
       "    .dataframe tbody tr th {\n",
       "        vertical-align: top;\n",
       "    }\n",
       "\n",
       "    .dataframe thead th {\n",
       "        text-align: right;\n",
       "    }\n",
       "</style>\n",
       "<table border=\"1\" class=\"dataframe\">\n",
       "  <thead>\n",
       "    <tr style=\"text-align: right;\">\n",
       "      <th></th>\n",
       "      <th>MORTGAGE30US</th>\n",
       "      <th>FEDFUNDS</th>\n",
       "      <th>GS10</th>\n",
       "      <th>UNRATE</th>\n",
       "    </tr>\n",
       "    <tr>\n",
       "      <th>DATE</th>\n",
       "      <th></th>\n",
       "      <th></th>\n",
       "      <th></th>\n",
       "      <th></th>\n",
       "    </tr>\n",
       "  </thead>\n",
       "  <tbody>\n",
       "    <tr>\n",
       "      <th>1947-01-01</th>\n",
       "      <td>NaN</td>\n",
       "      <td>NaN</td>\n",
       "      <td>NaN</td>\n",
       "      <td>NaN</td>\n",
       "    </tr>\n",
       "    <tr>\n",
       "      <th>1947-02-01</th>\n",
       "      <td>NaN</td>\n",
       "      <td>NaN</td>\n",
       "      <td>NaN</td>\n",
       "      <td>NaN</td>\n",
       "    </tr>\n",
       "    <tr>\n",
       "      <th>1947-03-01</th>\n",
       "      <td>NaN</td>\n",
       "      <td>NaN</td>\n",
       "      <td>NaN</td>\n",
       "      <td>NaN</td>\n",
       "    </tr>\n",
       "    <tr>\n",
       "      <th>1947-04-01</th>\n",
       "      <td>NaN</td>\n",
       "      <td>NaN</td>\n",
       "      <td>NaN</td>\n",
       "      <td>NaN</td>\n",
       "    </tr>\n",
       "    <tr>\n",
       "      <th>1947-05-01</th>\n",
       "      <td>NaN</td>\n",
       "      <td>NaN</td>\n",
       "      <td>NaN</td>\n",
       "      <td>NaN</td>\n",
       "    </tr>\n",
       "    <tr>\n",
       "      <th>...</th>\n",
       "      <td>...</td>\n",
       "      <td>...</td>\n",
       "      <td>...</td>\n",
       "      <td>...</td>\n",
       "    </tr>\n",
       "    <tr>\n",
       "      <th>2023-04-01</th>\n",
       "      <td>NaN</td>\n",
       "      <td>NaN</td>\n",
       "      <td>3.46</td>\n",
       "      <td>NaN</td>\n",
       "    </tr>\n",
       "    <tr>\n",
       "      <th>2023-04-06</th>\n",
       "      <td>6.28</td>\n",
       "      <td>NaN</td>\n",
       "      <td>NaN</td>\n",
       "      <td>NaN</td>\n",
       "    </tr>\n",
       "    <tr>\n",
       "      <th>2023-04-13</th>\n",
       "      <td>6.27</td>\n",
       "      <td>NaN</td>\n",
       "      <td>NaN</td>\n",
       "      <td>NaN</td>\n",
       "    </tr>\n",
       "    <tr>\n",
       "      <th>2023-04-20</th>\n",
       "      <td>6.39</td>\n",
       "      <td>NaN</td>\n",
       "      <td>NaN</td>\n",
       "      <td>NaN</td>\n",
       "    </tr>\n",
       "    <tr>\n",
       "      <th>2023-04-27</th>\n",
       "      <td>6.43</td>\n",
       "      <td>NaN</td>\n",
       "      <td>NaN</td>\n",
       "      <td>NaN</td>\n",
       "    </tr>\n",
       "  </tbody>\n",
       "</table>\n",
       "<p>3551 rows × 4 columns</p>\n",
       "</div>"
      ],
      "text/plain": [
       "            MORTGAGE30US  FEDFUNDS  GS10  UNRATE\n",
       "DATE                                            \n",
       "1947-01-01           NaN       NaN   NaN     NaN\n",
       "1947-02-01           NaN       NaN   NaN     NaN\n",
       "1947-03-01           NaN       NaN   NaN     NaN\n",
       "1947-04-01           NaN       NaN   NaN     NaN\n",
       "1947-05-01           NaN       NaN   NaN     NaN\n",
       "...                  ...       ...   ...     ...\n",
       "2023-04-01           NaN       NaN  3.46     NaN\n",
       "2023-04-06          6.28       NaN   NaN     NaN\n",
       "2023-04-13          6.27       NaN   NaN     NaN\n",
       "2023-04-20          6.39       NaN   NaN     NaN\n",
       "2023-04-27          6.43       NaN   NaN     NaN\n",
       "\n",
       "[3551 rows x 4 columns]"
      ]
     },
     "metadata": {},
     "output_type": "display_data"
    }
   ],
   "source": [
    "display(df)"
   ]
  },
  {
   "cell_type": "code",
   "execution_count": 9,
   "metadata": {},
   "outputs": [
    {
     "name": "stdout",
     "output_type": "stream",
     "text": [
      "<class 'pandas.core.frame.DataFrame'>\n",
      "DatetimeIndex: 3551 entries, 1947-01-01 to 2023-04-27\n",
      "Data columns (total 4 columns):\n",
      " #   Column        Non-Null Count  Dtype  \n",
      "---  ------        --------------  -----  \n",
      " 0   MORTGAGE30US  2718 non-null   float64\n",
      " 1   FEDFUNDS      825 non-null    float64\n",
      " 2   GS10          841 non-null    float64\n",
      " 3   UNRATE        903 non-null    float64\n",
      "dtypes: float64(4)\n",
      "memory usage: 138.7 KB\n"
     ]
    }
   ],
   "source": [
    "df.info()"
   ]
  },
  {
   "attachments": {},
   "cell_type": "markdown",
   "metadata": {},
   "source": [
    "## 4. Data Quality"
   ]
  },
  {
   "attachments": {},
   "cell_type": "markdown",
   "metadata": {},
   "source": [
    "#### **Run Data Quality Test Plan**"
   ]
  },
  {
   "attachments": {},
   "cell_type": "markdown",
   "metadata": {},
   "source": [
    "We will now run the default data quality test plan that will execute a suite of data quality tests such as:\n",
    "\n",
    "- Frequency missmatches \n",
    "- Missing values\n",
    "- Outliers\n",
    "\n",
    "ValidMind evaluates if the data quality metrics are within expected ranges. These thresholds or ranges can be further configured by model validators."
   ]
  },
  {
   "cell_type": "code",
   "execution_count": 10,
   "metadata": {},
   "outputs": [
    {
     "data": {
      "text/html": [
       "<table>\n",
       "<thead>\n",
       "<tr><th>Attribute       </th><th>Value                                                                                                           </th></tr>\n",
       "</thead>\n",
       "<tbody>\n",
       "<tr><td>ID              </td><td>time_series_data_quality                                                                                        </td></tr>\n",
       "<tr><td>Name            </td><td>TimeSeriesDataQuality                                                                                           </td></tr>\n",
       "<tr><td>Description     </td><td>Test plan for data quality on time series datasets                                                              </td></tr>\n",
       "<tr><td>Required Context</td><td>[&#x27;dataset&#x27;]                                                                                                     </td></tr>\n",
       "<tr><td>Tests           </td><td>TimeSeriesOutliers (ThresholdTest), TimeSeriesMissingValues (ThresholdTest), TimeSeriesFrequency (ThresholdTest)</td></tr>\n",
       "<tr><td>Test Plans      </td><td>[]                                                                                                              </td></tr>\n",
       "</tbody>\n",
       "</table>"
      ],
      "text/plain": [
       "'<table>\\n<thead>\\n<tr><th>Attribute       </th><th>Value                                                                                                           </th></tr>\\n</thead>\\n<tbody>\\n<tr><td>ID              </td><td>time_series_data_quality                                                                                        </td></tr>\\n<tr><td>Name            </td><td>TimeSeriesDataQuality                                                                                           </td></tr>\\n<tr><td>Description     </td><td>Test plan for data quality on time series datasets                                                              </td></tr>\\n<tr><td>Required Context</td><td>[&#x27;dataset&#x27;]                                                                                                     </td></tr>\\n<tr><td>Tests           </td><td>TimeSeriesOutliers (ThresholdTest), TimeSeriesMissingValues (ThresholdTest), TimeSeriesFrequency (ThresholdTest)</td></tr>\\n<tr><td>Test Plans      </td><td>[]                                                                                                              </td></tr>\\n</tbody>\\n</table>'"
      ]
     },
     "execution_count": 10,
     "metadata": {},
     "output_type": "execute_result"
    }
   ],
   "source": [
    "vm.test_plans.describe_plan(\"time_series_data_quality\")"
   ]
  },
  {
   "cell_type": "code",
   "execution_count": 11,
   "metadata": {},
   "outputs": [
    {
     "name": "stdout",
     "output_type": "stream",
     "text": [
      "Pandas dataset detected. Initializing VM Dataset instance...\n",
      "Inferring dataset types...\n"
     ]
    },
    {
     "data": {
      "application/vnd.jupyter.widget-view+json": {
       "model_id": "0cdedeb809064ed6ae29012d5cd35569",
       "version_major": 2,
       "version_minor": 0
      },
      "text/plain": [
       "HBox(children=(Label(value='Running test plan...'), IntProgress(value=0, max=6)))"
      ]
     },
     "metadata": {},
     "output_type": "display_data"
    },
    {
     "data": {
      "application/vnd.jupyter.widget-view+json": {
       "model_id": "d95e719e09424ec3bc49ffe42fde8971",
       "version_major": 2,
       "version_minor": 0
      },
      "text/plain": [
       "VBox(children=(HTML(value='<h2>Results for <i>Time Series Data Quality</i> Test Plan:</h2><hr>'), HTML(value='…"
      ]
     },
     "metadata": {},
     "output_type": "display_data"
    },
    {
     "data": {
      "text/plain": [
       "TimeSeriesDataQuality(test_context=TestContext(dataset=Dataset(raw_dataset=            MORTGAGE30US  FEDFUNDS  GS10  UNRATE\n",
       "DATE                                            \n",
       "1947-01-01           NaN       NaN   NaN     NaN\n",
       "1947-02-01           NaN       NaN   NaN     NaN\n",
       "1947-03-01           NaN       NaN   NaN     NaN\n",
       "1947-04-01           NaN       NaN   NaN     NaN\n",
       "1947-05-01           NaN       NaN   NaN     NaN\n",
       "...                  ...       ...   ...     ...\n",
       "2023-04-01           NaN       NaN  3.46     NaN\n",
       "2023-04-06          6.28       NaN   NaN     NaN\n",
       "2023-04-13          6.27       NaN   NaN     NaN\n",
       "2023-04-20          6.39       NaN   NaN     NaN\n",
       "2023-04-27          6.43       NaN   NaN     NaN\n",
       "\n",
       "[3551 rows x 4 columns], fields=[{'id': 'MORTGAGE30US', 'type': 'Numeric'}, {'id': 'FEDFUNDS', 'type': 'Numeric'}, {'id': 'GS10', 'type': 'Numeric'}, {'id': 'UNRATE', 'type': 'Numeric'}], sample=[{'id': 'head', 'data': [{'MORTGAGE30US': nan, 'FEDFUNDS': nan, 'GS10': nan, 'UNRATE': nan}, {'MORTGAGE30US': nan, 'FEDFUNDS': nan, 'GS10': nan, 'UNRATE': nan}, {'MORTGAGE30US': nan, 'FEDFUNDS': nan, 'GS10': nan, 'UNRATE': nan}, {'MORTGAGE30US': nan, 'FEDFUNDS': nan, 'GS10': nan, 'UNRATE': nan}, {'MORTGAGE30US': nan, 'FEDFUNDS': nan, 'GS10': nan, 'UNRATE': nan}]}, {'id': 'tail', 'data': [{'MORTGAGE30US': nan, 'FEDFUNDS': nan, 'GS10': 3.46, 'UNRATE': nan}, {'MORTGAGE30US': 6.28, 'FEDFUNDS': nan, 'GS10': nan, 'UNRATE': nan}, {'MORTGAGE30US': 6.27, 'FEDFUNDS': nan, 'GS10': nan, 'UNRATE': nan}, {'MORTGAGE30US': 6.39, 'FEDFUNDS': nan, 'GS10': nan, 'UNRATE': nan}, {'MORTGAGE30US': 6.43, 'FEDFUNDS': nan, 'GS10': nan, 'UNRATE': nan}]}], shape={'rows': 3551, 'columns': 4}, correlation_matrix=None, correlations=None, type='training', options=None, statistics=None, targets=None, target_column=None, class_labels=None, _feature_lookup={}, _transformed_df=None), model=None, models=None, context_data=None), config={...})"
      ]
     },
     "execution_count": 11,
     "metadata": {},
     "output_type": "execute_result"
    }
   ],
   "source": [
    "vm_dataset = vm.init_dataset(\n",
    "    dataset=df\n",
    ")\n",
    "\n",
    "config={\n",
    "    \"time_series_outliers\": {\n",
    "        \"zscore_threshold\": 3,\n",
    "\n",
    "    },\n",
    "    \"time_series_missing_values\":{\n",
    "        \"min_threshold\": 2,\n",
    "    }\n",
    "}\n",
    "\n",
    "vm.run_test_plan(\"time_series_data_quality\", dataset=vm_dataset, config=config)"
   ]
  },
  {
   "attachments": {},
   "cell_type": "markdown",
   "metadata": {},
   "source": [
    "Identify the frequencies of each variable in the raw dataset."
   ]
  },
  {
   "cell_type": "code",
   "execution_count": 12,
   "metadata": {},
   "outputs": [
    {
     "data": {
      "text/html": [
       "<div>\n",
       "<style scoped>\n",
       "    .dataframe tbody tr th:only-of-type {\n",
       "        vertical-align: middle;\n",
       "    }\n",
       "\n",
       "    .dataframe tbody tr th {\n",
       "        vertical-align: top;\n",
       "    }\n",
       "\n",
       "    .dataframe thead th {\n",
       "        text-align: right;\n",
       "    }\n",
       "</style>\n",
       "<table border=\"1\" class=\"dataframe\">\n",
       "  <thead>\n",
       "    <tr style=\"text-align: right;\">\n",
       "      <th></th>\n",
       "      <th>Variable</th>\n",
       "      <th>Frequency</th>\n",
       "    </tr>\n",
       "  </thead>\n",
       "  <tbody>\n",
       "    <tr>\n",
       "      <th>0</th>\n",
       "      <td>MORTGAGE30US</td>\n",
       "      <td>None</td>\n",
       "    </tr>\n",
       "    <tr>\n",
       "      <th>1</th>\n",
       "      <td>FEDFUNDS</td>\n",
       "      <td>MS</td>\n",
       "    </tr>\n",
       "    <tr>\n",
       "      <th>2</th>\n",
       "      <td>GS10</td>\n",
       "      <td>MS</td>\n",
       "    </tr>\n",
       "    <tr>\n",
       "      <th>3</th>\n",
       "      <td>UNRATE</td>\n",
       "      <td>MS</td>\n",
       "    </tr>\n",
       "  </tbody>\n",
       "</table>\n",
       "</div>"
      ],
      "text/plain": [
       "       Variable Frequency\n",
       "0  MORTGAGE30US      None\n",
       "1      FEDFUNDS        MS\n",
       "2          GS10        MS\n",
       "3        UNRATE        MS"
      ]
     },
     "metadata": {},
     "output_type": "display_data"
    }
   ],
   "source": [
    "frequencies = identify_frequencies(df)\n",
    "display(frequencies)"
   ]
  },
  {
   "attachments": {},
   "cell_type": "markdown",
   "metadata": {},
   "source": [
    "Handle frequencies by resampling all variables to a common frequency."
   ]
  },
  {
   "cell_type": "code",
   "execution_count": 13,
   "metadata": {},
   "outputs": [
    {
     "data": {
      "text/html": [
       "<div>\n",
       "<style scoped>\n",
       "    .dataframe tbody tr th:only-of-type {\n",
       "        vertical-align: middle;\n",
       "    }\n",
       "\n",
       "    .dataframe tbody tr th {\n",
       "        vertical-align: top;\n",
       "    }\n",
       "\n",
       "    .dataframe thead th {\n",
       "        text-align: right;\n",
       "    }\n",
       "</style>\n",
       "<table border=\"1\" class=\"dataframe\">\n",
       "  <thead>\n",
       "    <tr style=\"text-align: right;\">\n",
       "      <th></th>\n",
       "      <th>Variable</th>\n",
       "      <th>Frequency</th>\n",
       "    </tr>\n",
       "  </thead>\n",
       "  <tbody>\n",
       "    <tr>\n",
       "      <th>0</th>\n",
       "      <td>MORTGAGE30US</td>\n",
       "      <td>MS</td>\n",
       "    </tr>\n",
       "    <tr>\n",
       "      <th>1</th>\n",
       "      <td>FEDFUNDS</td>\n",
       "      <td>MS</td>\n",
       "    </tr>\n",
       "    <tr>\n",
       "      <th>2</th>\n",
       "      <td>GS10</td>\n",
       "      <td>MS</td>\n",
       "    </tr>\n",
       "    <tr>\n",
       "      <th>3</th>\n",
       "      <td>UNRATE</td>\n",
       "      <td>MS</td>\n",
       "    </tr>\n",
       "  </tbody>\n",
       "</table>\n",
       "</div>"
      ],
      "text/plain": [
       "       Variable Frequency\n",
       "0  MORTGAGE30US        MS\n",
       "1      FEDFUNDS        MS\n",
       "2          GS10        MS\n",
       "3        UNRATE        MS"
      ]
     },
     "metadata": {},
     "output_type": "display_data"
    }
   ],
   "source": [
    "preprocessed_df = resample_to_common_frequency(df, common_frequency=demo_dataset.frequency)\n",
    "frequencies = identify_frequencies(preprocessed_df)\n",
    "display(frequencies)"
   ]
  },
  {
   "attachments": {},
   "cell_type": "markdown",
   "metadata": {},
   "source": [
    "Run Data Quality Test Plan again this time with the resampled dataset `preprocessed_df` and same configuration.     "
   ]
  },
  {
   "cell_type": "code",
   "execution_count": 14,
   "metadata": {},
   "outputs": [
    {
     "name": "stdout",
     "output_type": "stream",
     "text": [
      "Pandas dataset detected. Initializing VM Dataset instance...\n",
      "Inferring dataset types...\n"
     ]
    },
    {
     "data": {
      "application/vnd.jupyter.widget-view+json": {
       "model_id": "150fbc43f27d4d609c5abc0d96c6e53b",
       "version_major": 2,
       "version_minor": 0
      },
      "text/plain": [
       "HBox(children=(Label(value='Running test plan...'), IntProgress(value=0, max=6)))"
      ]
     },
     "metadata": {},
     "output_type": "display_data"
    },
    {
     "data": {
      "application/vnd.jupyter.widget-view+json": {
       "model_id": "ab0f3c19fac04e79a4dd5425b3768898",
       "version_major": 2,
       "version_minor": 0
      },
      "text/plain": [
       "VBox(children=(HTML(value='<h2>Results for <i>Time Series Data Quality</i> Test Plan:</h2><hr>'), HTML(value='…"
      ]
     },
     "metadata": {},
     "output_type": "display_data"
    },
    {
     "data": {
      "text/plain": [
       "TimeSeriesDataQuality(test_context=TestContext(dataset=Dataset(raw_dataset=            MORTGAGE30US  FEDFUNDS  GS10  UNRATE\n",
       "DATE                                            \n",
       "1947-01-01           NaN       NaN   NaN     NaN\n",
       "1947-02-01           NaN       NaN   NaN     NaN\n",
       "1947-03-01           NaN       NaN   NaN     NaN\n",
       "1947-04-01           NaN       NaN   NaN     NaN\n",
       "1947-05-01           NaN       NaN   NaN     NaN\n",
       "...                  ...       ...   ...     ...\n",
       "2022-12-01          6.49      4.10  3.62     3.5\n",
       "2023-01-01          6.49      4.33  3.53     3.4\n",
       "2023-02-01          6.49      4.57  3.75     3.6\n",
       "2023-03-01          6.49      4.65  3.66     3.5\n",
       "2023-04-01          6.49       NaN  3.46     NaN\n",
       "\n",
       "[916 rows x 4 columns], fields=[{'id': 'MORTGAGE30US', 'type': 'Numeric'}, {'id': 'FEDFUNDS', 'type': 'Numeric'}, {'id': 'GS10', 'type': 'Numeric'}, {'id': 'UNRATE', 'type': 'Numeric'}], sample=[{'id': 'head', 'data': [{'MORTGAGE30US': nan, 'FEDFUNDS': nan, 'GS10': nan, 'UNRATE': nan}, {'MORTGAGE30US': nan, 'FEDFUNDS': nan, 'GS10': nan, 'UNRATE': nan}, {'MORTGAGE30US': nan, 'FEDFUNDS': nan, 'GS10': nan, 'UNRATE': nan}, {'MORTGAGE30US': nan, 'FEDFUNDS': nan, 'GS10': nan, 'UNRATE': nan}, {'MORTGAGE30US': nan, 'FEDFUNDS': nan, 'GS10': nan, 'UNRATE': nan}]}, {'id': 'tail', 'data': [{'MORTGAGE30US': 6.49, 'FEDFUNDS': 4.1, 'GS10': 3.62, 'UNRATE': 3.5}, {'MORTGAGE30US': 6.49, 'FEDFUNDS': 4.33, 'GS10': 3.53, 'UNRATE': 3.4}, {'MORTGAGE30US': 6.49, 'FEDFUNDS': 4.57, 'GS10': 3.75, 'UNRATE': 3.6}, {'MORTGAGE30US': 6.49, 'FEDFUNDS': 4.65, 'GS10': 3.66, 'UNRATE': 3.5}, {'MORTGAGE30US': 6.49, 'FEDFUNDS': nan, 'GS10': 3.46, 'UNRATE': nan}]}], shape={'rows': 916, 'columns': 4}, correlation_matrix=None, correlations=None, type='training', options=None, statistics=None, targets=None, target_column=None, class_labels=None, _feature_lookup={}, _transformed_df=None), model=None, models=None, context_data=None), config={...})"
      ]
     },
     "execution_count": 14,
     "metadata": {},
     "output_type": "execute_result"
    }
   ],
   "source": [
    "vm_dataset = vm.init_dataset(\n",
    "    dataset=preprocessed_df\n",
    ")\n",
    "vm.run_test_plan(\"time_series_data_quality\", dataset=vm_dataset, config=config)"
   ]
  },
  {
   "attachments": {},
   "cell_type": "markdown",
   "metadata": {},
   "source": [
    "Handle the missing values by droping all the `nan` values. "
   ]
  },
  {
   "cell_type": "code",
   "execution_count": 15,
   "metadata": {},
   "outputs": [],
   "source": [
    "preprocessed_df = preprocessed_df.dropna()"
   ]
  },
  {
   "attachments": {},
   "cell_type": "markdown",
   "metadata": {},
   "source": [
    "Run Data Quality Test Plan again to check there are no missin values and frequencies of all variables are the same."
   ]
  },
  {
   "cell_type": "code",
   "execution_count": 16,
   "metadata": {},
   "outputs": [
    {
     "name": "stdout",
     "output_type": "stream",
     "text": [
      "Pandas dataset detected. Initializing VM Dataset instance...\n",
      "Inferring dataset types...\n"
     ]
    },
    {
     "data": {
      "application/vnd.jupyter.widget-view+json": {
       "model_id": "5135bd8a203449cbaccb9bbb06953182",
       "version_major": 2,
       "version_minor": 0
      },
      "text/plain": [
       "HBox(children=(Label(value='Running test plan...'), IntProgress(value=0, max=6)))"
      ]
     },
     "metadata": {},
     "output_type": "display_data"
    },
    {
     "data": {
      "application/vnd.jupyter.widget-view+json": {
       "model_id": "9a1ed79ca45a43c2ac69119c996331f7",
       "version_major": 2,
       "version_minor": 0
      },
      "text/plain": [
       "VBox(children=(HTML(value='<h2>Results for <i>Time Series Data Quality</i> Test Plan:</h2><hr>'), HTML(value='…"
      ]
     },
     "metadata": {},
     "output_type": "display_data"
    },
    {
     "data": {
      "text/plain": [
       "TimeSeriesDataQuality(test_context=TestContext(dataset=Dataset(raw_dataset=            MORTGAGE30US  FEDFUNDS  GS10  UNRATE\n",
       "DATE                                            \n",
       "1971-10-01      7.670000      5.20  5.93     5.8\n",
       "1971-11-01      7.647273      4.91  5.81     6.0\n",
       "1971-12-01      7.624545      4.14  5.93     6.0\n",
       "1972-01-01      7.601818      3.51  5.95     5.8\n",
       "1972-02-01      7.579091      3.30  6.08     5.7\n",
       "...                  ...       ...   ...     ...\n",
       "2022-11-01      6.213333      3.78  3.89     3.6\n",
       "2022-12-01      6.490000      4.10  3.62     3.5\n",
       "2023-01-01      6.490000      4.33  3.53     3.4\n",
       "2023-02-01      6.490000      4.57  3.75     3.6\n",
       "2023-03-01      6.490000      4.65  3.66     3.5\n",
       "\n",
       "[618 rows x 4 columns], fields=[{'id': 'MORTGAGE30US', 'type': 'Numeric'}, {'id': 'FEDFUNDS', 'type': 'Numeric'}, {'id': 'GS10', 'type': 'Numeric'}, {'id': 'UNRATE', 'type': 'Numeric'}], sample=[{'id': 'head', 'data': [{'MORTGAGE30US': 7.67, 'FEDFUNDS': 5.2, 'GS10': 5.93, 'UNRATE': 5.8}, {'MORTGAGE30US': 7.647272727272727, 'FEDFUNDS': 4.91, 'GS10': 5.81, 'UNRATE': 6.0}, {'MORTGAGE30US': 7.624545454545454, 'FEDFUNDS': 4.14, 'GS10': 5.93, 'UNRATE': 6.0}, {'MORTGAGE30US': 7.601818181818182, 'FEDFUNDS': 3.51, 'GS10': 5.95, 'UNRATE': 5.8}, {'MORTGAGE30US': 7.579090909090909, 'FEDFUNDS': 3.3, 'GS10': 6.08, 'UNRATE': 5.7}]}, {'id': 'tail', 'data': [{'MORTGAGE30US': 6.213333333333334, 'FEDFUNDS': 3.78, 'GS10': 3.89, 'UNRATE': 3.6}, {'MORTGAGE30US': 6.49, 'FEDFUNDS': 4.1, 'GS10': 3.62, 'UNRATE': 3.5}, {'MORTGAGE30US': 6.49, 'FEDFUNDS': 4.33, 'GS10': 3.53, 'UNRATE': 3.4}, {'MORTGAGE30US': 6.49, 'FEDFUNDS': 4.57, 'GS10': 3.75, 'UNRATE': 3.6}, {'MORTGAGE30US': 6.49, 'FEDFUNDS': 4.65, 'GS10': 3.66, 'UNRATE': 3.5}]}], shape={'rows': 618, 'columns': 4}, correlation_matrix=None, correlations=None, type='training', options=None, statistics=None, targets=None, target_column=None, class_labels=None, _feature_lookup={}, _transformed_df=None), model=None, models=None, context_data=None), config={...})"
      ]
     },
     "execution_count": 16,
     "metadata": {},
     "output_type": "execute_result"
    }
   ],
   "source": [
    "vm_dataset = vm.init_dataset(\n",
    "    dataset=preprocessed_df\n",
    ")\n",
    "vm.run_test_plan(\"time_series_data_quality\", dataset=vm_dataset, config=config)"
   ]
  },
  {
   "attachments": {},
   "cell_type": "markdown",
   "metadata": {},
   "source": [
    "## 5. Exploratory Data Analysis"
   ]
  },
  {
   "attachments": {},
   "cell_type": "markdown",
   "metadata": {},
   "source": [
    "### Univariate Analysis"
   ]
  },
  {
   "attachments": {},
   "cell_type": "markdown",
   "metadata": {},
   "source": [
    "#### **Run Time Series Univariate Test Plan**"
   ]
  },
  {
   "cell_type": "code",
   "execution_count": 17,
   "metadata": {},
   "outputs": [
    {
     "data": {
      "text/html": [
       "<table>\n",
       "<thead>\n",
       "<tr><th>Attribute       </th><th>Value                                                                                                                                                                                                                           </th></tr>\n",
       "</thead>\n",
       "<tbody>\n",
       "<tr><td>ID              </td><td>time_series_univariate                                                                                                                                                                                                          </td></tr>\n",
       "<tr><td>Name            </td><td>TimeSeriesUnivariate                                                                                                                                                                                                            </td></tr>\n",
       "<tr><td>Description     </td><td>Test plan to perform time series univariate analysis.                                                                                                                                                                           </td></tr>\n",
       "<tr><td>Required Context</td><td>[&#x27;dataset&#x27;]                                                                                                                                                                                                                     </td></tr>\n",
       "<tr><td>Tests           </td><td>TimeSeriesLinePlot (Metric), TimeSeriesHistogram (Metric), ACFandPACFPlot (Metric), SeasonalDecompose (Metric), AutoSeasonality (Metric), AutoStationarity (Metric), RollingStatsPlot (Metric), AutoAR (Metric), AutoMA (Metric)</td></tr>\n",
       "<tr><td>Test Plans      </td><td>[]                                                                                                                                                                                                                              </td></tr>\n",
       "</tbody>\n",
       "</table>"
      ],
      "text/plain": [
       "'<table>\\n<thead>\\n<tr><th>Attribute       </th><th>Value                                                                                                                                                                                                                           </th></tr>\\n</thead>\\n<tbody>\\n<tr><td>ID              </td><td>time_series_univariate                                                                                                                                                                                                          </td></tr>\\n<tr><td>Name            </td><td>TimeSeriesUnivariate                                                                                                                                                                                                            </td></tr>\\n<tr><td>Description     </td><td>Test plan to perform time series univariate analysis.                                                                                                                                                                           </td></tr>\\n<tr><td>Required Context</td><td>[&#x27;dataset&#x27;]                                                                                                                                                                                                                     </td></tr>\\n<tr><td>Tests           </td><td>TimeSeriesLinePlot (Metric), TimeSeriesHistogram (Metric), ACFandPACFPlot (Metric), SeasonalDecompose (Metric), AutoSeasonality (Metric), AutoStationarity (Metric), RollingStatsPlot (Metric), AutoAR (Metric), AutoMA (Metric)</td></tr>\\n<tr><td>Test Plans      </td><td>[]                                                                                                                                                                                                                              </td></tr>\\n</tbody>\\n</table>'"
      ]
     },
     "execution_count": 17,
     "metadata": {},
     "output_type": "execute_result"
    }
   ],
   "source": [
    "vm.test_plans.describe_plan(\"time_series_univariate\")"
   ]
  },
  {
   "cell_type": "code",
   "execution_count": 18,
   "metadata": {},
   "outputs": [
    {
     "name": "stdout",
     "output_type": "stream",
     "text": [
      "Pandas dataset detected. Initializing VM Dataset instance...\n",
      "Inferring dataset types...\n"
     ]
    },
    {
     "data": {
      "application/vnd.jupyter.widget-view+json": {
       "model_id": "41f7a186fe774d24b5dc51912a755bbc",
       "version_major": 2,
       "version_minor": 0
      },
      "text/plain": [
       "HBox(children=(Label(value='Running test plan...'), IntProgress(value=0, max=18)))"
      ]
     },
     "metadata": {},
     "output_type": "display_data"
    },
    {
     "name": "stderr",
     "output_type": "stream",
     "text": [
      "The default method 'yw' can produce PACF values outside of the [-1,1] interval. After 0.13, the default will change tounadjusted Yule-Walker ('ywm'). You can use this method now by setting method='ywm'.\n"
     ]
    },
    {
     "name": "stdout",
     "output_type": "stream",
     "text": [
      "Frequency of MORTGAGE30US: MS\n"
     ]
    },
    {
     "name": "stderr",
     "output_type": "stream",
     "text": [
      "The default method 'yw' can produce PACF values outside of the [-1,1] interval. After 0.13, the default will change tounadjusted Yule-Walker ('ywm'). You can use this method now by setting method='ywm'.\n"
     ]
    },
    {
     "name": "stdout",
     "output_type": "stream",
     "text": [
      "Frequency of FEDFUNDS: MS\n"
     ]
    },
    {
     "name": "stderr",
     "output_type": "stream",
     "text": [
      "The default method 'yw' can produce PACF values outside of the [-1,1] interval. After 0.13, the default will change tounadjusted Yule-Walker ('ywm'). You can use this method now by setting method='ywm'.\n"
     ]
    },
    {
     "name": "stdout",
     "output_type": "stream",
     "text": [
      "Frequency of GS10: MS\n"
     ]
    },
    {
     "name": "stderr",
     "output_type": "stream",
     "text": [
      "The default method 'yw' can produce PACF values outside of the [-1,1] interval. After 0.13, the default will change tounadjusted Yule-Walker ('ywm'). You can use this method now by setting method='ywm'.\n"
     ]
    },
    {
     "name": "stdout",
     "output_type": "stream",
     "text": [
      "Frequency of UNRATE: MS\n"
     ]
    },
    {
     "name": "stderr",
     "output_type": "stream",
     "text": [
      "The default method 'yw' can produce PACF values outside of the [-1,1] interval. After 0.13, the default will change tounadjusted Yule-Walker ('ywm'). You can use this method now by setting method='ywm'.\n"
     ]
    },
    {
     "name": "stdout",
     "output_type": "stream",
     "text": [
      "Warning: MORTGAGE30US is not stationary. Results may be inaccurate.\n",
      "Warning: FEDFUNDS is not stationary. Results may be inaccurate.\n",
      "Warning: GS10 is not stationary. Results may be inaccurate.\n",
      "Warning: MORTGAGE30US is not stationary. Results may be inaccurate.\n"
     ]
    },
    {
     "name": "stderr",
     "output_type": "stream",
     "text": [
      "Non-invertible starting MA parameters found. Using zeros as starting parameters.\n"
     ]
    },
    {
     "name": "stdout",
     "output_type": "stream",
     "text": [
      "Warning: FEDFUNDS is not stationary. Results may be inaccurate.\n"
     ]
    },
    {
     "name": "stderr",
     "output_type": "stream",
     "text": [
      "Non-invertible starting MA parameters found. Using zeros as starting parameters.\n"
     ]
    },
    {
     "name": "stdout",
     "output_type": "stream",
     "text": [
      "Warning: GS10 is not stationary. Results may be inaccurate.\n"
     ]
    },
    {
     "name": "stderr",
     "output_type": "stream",
     "text": [
      "Non-invertible starting MA parameters found. Using zeros as starting parameters.\n",
      "Non-invertible starting MA parameters found. Using zeros as starting parameters.\n"
     ]
    },
    {
     "data": {
      "application/vnd.jupyter.widget-view+json": {
       "model_id": "d7a2563acc704a4ca566a47648a22ff4",
       "version_major": 2,
       "version_minor": 0
      },
      "text/plain": [
       "VBox(children=(HTML(value='<h2>Results for <i>Time Series Univariate</i> Test Plan:</h2><hr>'), HTML(value='<d…"
      ]
     },
     "metadata": {},
     "output_type": "display_data"
    },
    {
     "data": {
      "text/plain": [
       "TimeSeriesUnivariate(test_context=TestContext(dataset=Dataset(raw_dataset=            MORTGAGE30US  FEDFUNDS  GS10  UNRATE\n",
       "DATE                                            \n",
       "1971-10-01      7.670000      5.20  5.93     5.8\n",
       "1971-11-01      7.647273      4.91  5.81     6.0\n",
       "1971-12-01      7.624545      4.14  5.93     6.0\n",
       "1972-01-01      7.601818      3.51  5.95     5.8\n",
       "1972-02-01      7.579091      3.30  6.08     5.7\n",
       "...                  ...       ...   ...     ...\n",
       "2022-11-01      6.213333      3.78  3.89     3.6\n",
       "2022-12-01      6.490000      4.10  3.62     3.5\n",
       "2023-01-01      6.490000      4.33  3.53     3.4\n",
       "2023-02-01      6.490000      4.57  3.75     3.6\n",
       "2023-03-01      6.490000      4.65  3.66     3.5\n",
       "\n",
       "[618 rows x 4 columns], fields=[{'id': 'MORTGAGE30US', 'type': 'Numeric'}, {'id': 'FEDFUNDS', 'type': 'Numeric'}, {'id': 'GS10', 'type': 'Numeric'}, {'id': 'UNRATE', 'type': 'Numeric'}], sample=[{'id': 'head', 'data': [{'MORTGAGE30US': 7.67, 'FEDFUNDS': 5.2, 'GS10': 5.93, 'UNRATE': 5.8}, {'MORTGAGE30US': 7.647272727272727, 'FEDFUNDS': 4.91, 'GS10': 5.81, 'UNRATE': 6.0}, {'MORTGAGE30US': 7.624545454545454, 'FEDFUNDS': 4.14, 'GS10': 5.93, 'UNRATE': 6.0}, {'MORTGAGE30US': 7.601818181818182, 'FEDFUNDS': 3.51, 'GS10': 5.95, 'UNRATE': 5.8}, {'MORTGAGE30US': 7.579090909090909, 'FEDFUNDS': 3.3, 'GS10': 6.08, 'UNRATE': 5.7}]}, {'id': 'tail', 'data': [{'MORTGAGE30US': 6.213333333333334, 'FEDFUNDS': 3.78, 'GS10': 3.89, 'UNRATE': 3.6}, {'MORTGAGE30US': 6.49, 'FEDFUNDS': 4.1, 'GS10': 3.62, 'UNRATE': 3.5}, {'MORTGAGE30US': 6.49, 'FEDFUNDS': 4.33, 'GS10': 3.53, 'UNRATE': 3.4}, {'MORTGAGE30US': 6.49, 'FEDFUNDS': 4.57, 'GS10': 3.75, 'UNRATE': 3.6}, {'MORTGAGE30US': 6.49, 'FEDFUNDS': 4.65, 'GS10': 3.66, 'UNRATE': 3.5}]}], shape={'rows': 618, 'columns': 4}, correlation_matrix=None, correlations=None, type='training', options=None, statistics=None, targets=None, target_column=None, class_labels=None, _feature_lookup={}, _transformed_df=None), model=None, models=None, context_data={'seasonal_decompose': {'MORTGAGE30US': <statsmodels.tsa.seasonal.DecomposeResult object at 0x290ceba30>, 'FEDFUNDS': <statsmodels.tsa.seasonal.DecomposeResult object at 0x291d70eb0>, 'GS10': <statsmodels.tsa.seasonal.DecomposeResult object at 0x29223abc0>, 'UNRATE': <statsmodels.tsa.seasonal.DecomposeResult object at 0x29262bca0>}}), config={...})"
      ]
     },
     "execution_count": 18,
     "metadata": {},
     "output_type": "execute_result"
    }
   ],
   "source": [
    "test_plan_config = {\n",
    "    \"time_series_line_plot\": {\n",
    "        \"columns\": df.columns\n",
    "    },\n",
    "    \"time_series_histogram\": {\n",
    "        \"columns\": df.columns\n",
    "    },\n",
    "    \"acf_pacf_plot\": {\n",
    "        \"columns\": df.columns\n",
    "    },\n",
    "    \"auto_ar\": {\n",
    "        \"max_ar_order\": 3\n",
    "    },\n",
    "    \"auto_ma\": {\n",
    "        \"max_ma_order\": 3\n",
    "    },\n",
    "    \"seasonal_decompose\": {\n",
    "        \"seasonal_model\": 'additive',\n",
    "         \"fig_size\": (40,30)\n",
    "    },\n",
    "    \"auto_seasonality\": {\n",
    "        \"min_period\": 1,\n",
    "        \"max_period\": 3\n",
    "    },\n",
    "      \"auto_stationarity\": {\n",
    "        \"max_order\": 3,\n",
    "        \"threshold\": 0.05\n",
    "    },\n",
    "      \"rolling_stats_plot\": {\n",
    "        \"window_size\": 12    \n",
    "    },\n",
    "}\n",
    "\n",
    "vm_dataset = vm.init_dataset(\n",
    "    dataset=preprocessed_df\n",
    ")\n",
    "vm.run_test_plan(\"time_series_univariate\", config=test_plan_config, dataset=vm_dataset)"
   ]
  },
  {
   "attachments": {},
   "cell_type": "markdown",
   "metadata": {},
   "source": [
    "### Multivariate Analysis"
   ]
  },
  {
   "attachments": {},
   "cell_type": "markdown",
   "metadata": {},
   "source": [
    "#### **Run Time Series Multivariate Test Plan**"
   ]
  },
  {
   "cell_type": "code",
   "execution_count": 19,
   "metadata": {},
   "outputs": [
    {
     "data": {
      "text/html": [
       "<table>\n",
       "<thead>\n",
       "<tr><th>Attribute       </th><th>Value                                                                                                   </th></tr>\n",
       "</thead>\n",
       "<tbody>\n",
       "<tr><td>ID              </td><td>time_series_multivariate                                                                                </td></tr>\n",
       "<tr><td>Name            </td><td>TimeSeriesMultivariate                                                                                  </td></tr>\n",
       "<tr><td>Description     </td><td>Test plan to perform time series multivariate analysis.                                                 </td></tr>\n",
       "<tr><td>Required Context</td><td>[&#x27;dataset&#x27;]                                                                                             </td></tr>\n",
       "<tr><td>Tests           </td><td>ScatterPlot (Metric), LaggedCorrelationHeatmap (Metric), EngleGrangerCoint (Metric), SpreadPlot (Metric)</td></tr>\n",
       "<tr><td>Test Plans      </td><td>[]                                                                                                      </td></tr>\n",
       "</tbody>\n",
       "</table>"
      ],
      "text/plain": [
       "'<table>\\n<thead>\\n<tr><th>Attribute       </th><th>Value                                                                                                   </th></tr>\\n</thead>\\n<tbody>\\n<tr><td>ID              </td><td>time_series_multivariate                                                                                </td></tr>\\n<tr><td>Name            </td><td>TimeSeriesMultivariate                                                                                  </td></tr>\\n<tr><td>Description     </td><td>Test plan to perform time series multivariate analysis.                                                 </td></tr>\\n<tr><td>Required Context</td><td>[&#x27;dataset&#x27;]                                                                                             </td></tr>\\n<tr><td>Tests           </td><td>ScatterPlot (Metric), LaggedCorrelationHeatmap (Metric), EngleGrangerCoint (Metric), SpreadPlot (Metric)</td></tr>\\n<tr><td>Test Plans      </td><td>[]                                                                                                      </td></tr>\\n</tbody>\\n</table>'"
      ]
     },
     "execution_count": 19,
     "metadata": {},
     "output_type": "execute_result"
    }
   ],
   "source": [
    "vm.test_plans.describe_plan(\"time_series_multivariate\")"
   ]
  },
  {
   "cell_type": "code",
   "execution_count": 20,
   "metadata": {},
   "outputs": [
    {
     "data": {
      "application/vnd.jupyter.widget-view+json": {
       "model_id": "ea13a2ebdae8478298f62f40fd5f8137",
       "version_major": 2,
       "version_minor": 0
      },
      "text/plain": [
       "HBox(children=(Label(value='Running test plan...'), IntProgress(value=0, max=8)))"
      ]
     },
     "metadata": {},
     "output_type": "display_data"
    },
    {
     "ename": "ValueError",
     "evalue": "The 'target_col' must be a single string or a list containing a single string",
     "output_type": "error",
     "traceback": [
      "\u001b[0;31m---------------------------------------------------------------------------\u001b[0m",
      "\u001b[0;31mValueError\u001b[0m                                Traceback (most recent call last)",
      "Cell \u001b[0;32mIn[20], line 14\u001b[0m\n\u001b[1;32m      1\u001b[0m test_plan_config \u001b[39m=\u001b[39m {\n\u001b[1;32m      2\u001b[0m     \u001b[39m\"\u001b[39m\u001b[39mscatter_plot\u001b[39m\u001b[39m\"\u001b[39m: {\n\u001b[1;32m      3\u001b[0m         \u001b[39m\"\u001b[39m\u001b[39mcolumns\u001b[39m\u001b[39m\"\u001b[39m: df\u001b[39m.\u001b[39mcolumns\n\u001b[0;32m   (...)\u001b[0m\n\u001b[1;32m     11\u001b[0m     },\n\u001b[1;32m     12\u001b[0m }\n\u001b[0;32m---> 14\u001b[0m vm\u001b[39m.\u001b[39;49mrun_test_plan(\u001b[39m\"\u001b[39;49m\u001b[39mtime_series_multivariate\u001b[39;49m\u001b[39m\"\u001b[39;49m, config\u001b[39m=\u001b[39;49mtest_plan_config, dataset\u001b[39m=\u001b[39;49mvm_dataset)\n",
      "File \u001b[0;32m~/Dev/github/validmind/validmind-python/validmind/client.py:213\u001b[0m, in \u001b[0;36mrun_test_plan\u001b[0;34m(test_plan_name, send, **kwargs)\u001b[0m\n\u001b[1;32m    208\u001b[0m \u001b[39mexcept\u001b[39;00m \u001b[39mValueError\u001b[39;00m \u001b[39mas\u001b[39;00m exc:\n\u001b[1;32m    209\u001b[0m     \u001b[39mraise\u001b[39;00m \u001b[39mValueError\u001b[39;00m(\n\u001b[1;32m    210\u001b[0m         \u001b[39m\"\u001b[39m\u001b[39mError initializing test plan \u001b[39m\u001b[39m{}\u001b[39;00m\u001b[39m. \u001b[39m\u001b[39m{}\u001b[39;00m\u001b[39m\"\u001b[39m\u001b[39m.\u001b[39mformat(test_plan_name, \u001b[39mstr\u001b[39m(exc))\n\u001b[1;32m    211\u001b[0m     )\n\u001b[0;32m--> 213\u001b[0m plan\u001b[39m.\u001b[39;49mrun(send\u001b[39m=\u001b[39;49msend)\n\u001b[1;32m    215\u001b[0m \u001b[39mreturn\u001b[39;00m plan\n",
      "File \u001b[0;32m~/Dev/github/validmind/validmind-python/validmind/vm_models/test_plan.py:183\u001b[0m, in \u001b[0;36mTestPlan.run\u001b[0;34m(self, render_summary, send)\u001b[0m\n\u001b[1;32m    177\u001b[0m test_instance \u001b[39m=\u001b[39m test(\u001b[39mself\u001b[39m\u001b[39m.\u001b[39mtest_context, params\u001b[39m=\u001b[39mtest_params)\n\u001b[1;32m    179\u001b[0m \u001b[39mself\u001b[39m\u001b[39m.\u001b[39mpbar_description\u001b[39m.\u001b[39mvalue \u001b[39m=\u001b[39m (\n\u001b[1;32m    180\u001b[0m     \u001b[39mf\u001b[39m\u001b[39m\"\u001b[39m\u001b[39mRunning \u001b[39m\u001b[39m{\u001b[39;00mtest\u001b[39m.\u001b[39mtest_type\u001b[39m}\u001b[39;00m\u001b[39m: \u001b[39m\u001b[39m{\u001b[39;00mtest_instance\u001b[39m.\u001b[39mname\u001b[39m}\u001b[39;00m\u001b[39m\"\u001b[39m\n\u001b[1;32m    181\u001b[0m )\n\u001b[0;32m--> 183\u001b[0m test_instance\u001b[39m.\u001b[39;49mrun()\n\u001b[1;32m    185\u001b[0m \u001b[39mif\u001b[39;00m test_instance\u001b[39m.\u001b[39mresult \u001b[39mis\u001b[39;00m \u001b[39mNone\u001b[39;00m:\n\u001b[1;32m    186\u001b[0m     \u001b[39mself\u001b[39m\u001b[39m.\u001b[39mpbar_description\u001b[39m.\u001b[39mvalue \u001b[39m=\u001b[39m \u001b[39m\"\u001b[39m\u001b[39mTest returned None, skipping...\u001b[39m\u001b[39m\"\u001b[39m\n",
      "File \u001b[0;32m~/Dev/github/validmind/validmind-python/validmind/data_validation/metrics.py:477\u001b[0m, in \u001b[0;36mLaggedCorrelationHeatmap.run\u001b[0;34m(self)\u001b[0m\n\u001b[1;32m    474\u001b[0m     target_col \u001b[39m=\u001b[39m target_col[\u001b[39m0\u001b[39m]\n\u001b[1;32m    476\u001b[0m \u001b[39mif\u001b[39;00m \u001b[39mnot\u001b[39;00m \u001b[39misinstance\u001b[39m(target_col, \u001b[39mstr\u001b[39m):\n\u001b[0;32m--> 477\u001b[0m     \u001b[39mraise\u001b[39;00m \u001b[39mValueError\u001b[39;00m(\n\u001b[1;32m    478\u001b[0m         \u001b[39m\"\u001b[39m\u001b[39mThe \u001b[39m\u001b[39m'\u001b[39m\u001b[39mtarget_col\u001b[39m\u001b[39m'\u001b[39m\u001b[39m must be a single string or a list containing a single string\u001b[39m\u001b[39m\"\u001b[39m\n\u001b[1;32m    479\u001b[0m     )\n\u001b[1;32m    481\u001b[0m df \u001b[39m=\u001b[39m \u001b[39mself\u001b[39m\u001b[39m.\u001b[39mdataset\u001b[39m.\u001b[39mdf\n\u001b[1;32m    483\u001b[0m correlations \u001b[39m=\u001b[39m \u001b[39mself\u001b[39m\u001b[39m.\u001b[39m_compute_correlations(\n\u001b[1;32m    484\u001b[0m     df, target_col, independent_vars, num_lags\n\u001b[1;32m    485\u001b[0m )\n",
      "\u001b[0;31mValueError\u001b[0m: The 'target_col' must be a single string or a list containing a single string"
     ]
    }
   ],
   "source": [
    "test_plan_config = {\n",
    "    \"scatter_plot\": {\n",
    "        \"columns\": df.columns\n",
    "    },\n",
    "    \"lagged_correlation_heatmap\": {\n",
    "        \"target_col\": demo_dataset.target_column,\n",
    "        \"independent_vars\": demo_dataset.feature_columns\n",
    "    },\n",
    "    \"engle_granger_coint\": {\n",
    "        \"threshold\": 0.05\n",
    "    },\n",
    "}\n",
    "\n",
    "vm.run_test_plan(\"time_series_multivariate\", config=test_plan_config, dataset=vm_dataset)"
   ]
  }
 ],
 "metadata": {
  "kernelspec": {
   "display_name": "validmind-eEL8LtKG-py3.10",
   "language": "python",
   "name": "python3"
  },
  "language_info": {
   "codemirror_mode": {
    "name": "ipython",
    "version": 3
   },
   "file_extension": ".py",
   "mimetype": "text/x-python",
   "name": "python",
   "nbconvert_exporter": "python",
   "pygments_lexer": "ipython3",
   "version": "3.10.9"
  },
  "orig_nbformat": 4
 },
 "nbformat": 4,
 "nbformat_minor": 2
}
