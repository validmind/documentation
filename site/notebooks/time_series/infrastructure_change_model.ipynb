{
 "cells": [
  {
   "attachments": {},
   "cell_type": "markdown",
   "metadata": {},
   "source": [
    "# Loan Rates Forecast Models Comparison test plan"
   ]
  },
  {
   "attachments": {},
   "cell_type": "markdown",
   "metadata": {},
   "source": [
    "#### Setup"
   ]
  },
  {
   "cell_type": "code",
   "execution_count": 1,
   "metadata": {},
   "outputs": [],
   "source": [
    "%load_ext dotenv\n",
    "%dotenv .env\n",
    "\n",
    "import os\n",
    "os.chdir(os.path.join(os.getcwd(), \"../..\"))"
   ]
  },
  {
   "cell_type": "code",
   "execution_count": 2,
   "metadata": {},
   "outputs": [
    {
     "name": "stdout",
     "output_type": "stream",
     "text": [
      "Connected to ValidMind. Project: Stock Price Prediction Model - Initial Validation (clhhzo21s006wl9rl0swhv40h)\n"
     ]
    }
   ],
   "source": [
    "import validmind as vm\n",
    "vm.init(  api_host = \"http://localhost:3000/api/v1/tracking\",\n",
    "  project = \"clhhzo21s006wl9rl0swhv40h\")\n"
   ]
  },
  {
   "cell_type": "code",
   "execution_count": 3,
   "metadata": {},
   "outputs": [],
   "source": [
    "# System libraries\n",
    "import glob\n",
    "\n",
    "# ML libraries\n",
    "import pandas as pd\n",
    "import numpy as np\n",
    "from scipy import stats\n",
    "import statsmodels.api as sm\n",
    "from statsmodels.tsa.seasonal import seasonal_decompose\n",
    "from statsmodels.tsa.ar_model import AutoReg\n",
    "from statsmodels.tsa.stattools import adfuller, kpss\n",
    "from statsmodels.tsa.arima.model import ARIMA\n",
    "from arch.unitroot import PhillipsPerron, DFGLS\n",
    "import xgboost as xgb\n",
    "from numpy import argmax\n",
    "from sklearn.metrics import accuracy_score, precision_recall_curve\n",
    "from sklearn.model_selection import train_test_split\n",
    "\n",
    "# Plotting libraries \n",
    "import matplotlib.pyplot as plt\n",
    "import seaborn as sns\n",
    "%matplotlib inline"
   ]
  },
  {
   "attachments": {},
   "cell_type": "markdown",
   "metadata": {},
   "source": [
    "#### Load FRED Data"
   ]
  },
  {
   "cell_type": "code",
   "execution_count": 4,
   "metadata": {},
   "outputs": [],
   "source": [
    "def merge_fred_csv_files(file_pattern):\n",
    "    # Use glob to find all files matching the specified pattern\n",
    "    file_list = glob.glob(file_pattern)\n",
    "\n",
    "    # Initialize an empty list to store individual DataFrames\n",
    "    dataframes = []\n",
    "\n",
    "    # Iterate through each file in the file list\n",
    "    for file in file_list:\n",
    "        # Read the CSV file into a DataFrame\n",
    "        df = pd.read_csv(file, parse_dates=['DATE'], index_col='DATE')\n",
    "\n",
    "        # Add the DataFrame to the list of DataFrames\n",
    "        dataframes.append(df)\n",
    "\n",
    "    # Merge all the DataFrames in the list into a single DataFrame\n",
    "    merged_df = pd.concat(dataframes, axis=1)\n",
    "\n",
    "    return merged_df\n"
   ]
  },
  {
   "cell_type": "code",
   "execution_count": 5,
   "metadata": {},
   "outputs": [
    {
     "data": {
      "text/html": [
       "<div>\n",
       "<style scoped>\n",
       "    .dataframe tbody tr th:only-of-type {\n",
       "        vertical-align: middle;\n",
       "    }\n",
       "\n",
       "    .dataframe tbody tr th {\n",
       "        vertical-align: top;\n",
       "    }\n",
       "\n",
       "    .dataframe thead th {\n",
       "        text-align: right;\n",
       "    }\n",
       "</style>\n",
       "<table border=\"1\" class=\"dataframe\">\n",
       "  <thead>\n",
       "    <tr style=\"text-align: right;\">\n",
       "      <th></th>\n",
       "      <th>GDPC1</th>\n",
       "      <th>GS5</th>\n",
       "      <th>GS10</th>\n",
       "      <th>GS3</th>\n",
       "      <th>MORTGAGE30US</th>\n",
       "      <th>UNRATE</th>\n",
       "      <th>CPIAUCSL</th>\n",
       "      <th>FEDFUNDS</th>\n",
       "      <th>GDP</th>\n",
       "    </tr>\n",
       "    <tr>\n",
       "      <th>DATE</th>\n",
       "      <th></th>\n",
       "      <th></th>\n",
       "      <th></th>\n",
       "      <th></th>\n",
       "      <th></th>\n",
       "      <th></th>\n",
       "      <th></th>\n",
       "      <th></th>\n",
       "      <th></th>\n",
       "    </tr>\n",
       "  </thead>\n",
       "  <tbody>\n",
       "    <tr>\n",
       "      <th>1947-01-01</th>\n",
       "      <td>2034.450</td>\n",
       "      <td>NaN</td>\n",
       "      <td>NaN</td>\n",
       "      <td>NaN</td>\n",
       "      <td>NaN</td>\n",
       "      <td>NaN</td>\n",
       "      <td>21.48</td>\n",
       "      <td>NaN</td>\n",
       "      <td>243.164</td>\n",
       "    </tr>\n",
       "    <tr>\n",
       "      <th>1947-02-01</th>\n",
       "      <td>NaN</td>\n",
       "      <td>NaN</td>\n",
       "      <td>NaN</td>\n",
       "      <td>NaN</td>\n",
       "      <td>NaN</td>\n",
       "      <td>NaN</td>\n",
       "      <td>21.62</td>\n",
       "      <td>NaN</td>\n",
       "      <td>NaN</td>\n",
       "    </tr>\n",
       "    <tr>\n",
       "      <th>1947-03-01</th>\n",
       "      <td>NaN</td>\n",
       "      <td>NaN</td>\n",
       "      <td>NaN</td>\n",
       "      <td>NaN</td>\n",
       "      <td>NaN</td>\n",
       "      <td>NaN</td>\n",
       "      <td>22.00</td>\n",
       "      <td>NaN</td>\n",
       "      <td>NaN</td>\n",
       "    </tr>\n",
       "    <tr>\n",
       "      <th>1947-04-01</th>\n",
       "      <td>2029.024</td>\n",
       "      <td>NaN</td>\n",
       "      <td>NaN</td>\n",
       "      <td>NaN</td>\n",
       "      <td>NaN</td>\n",
       "      <td>NaN</td>\n",
       "      <td>22.00</td>\n",
       "      <td>NaN</td>\n",
       "      <td>245.968</td>\n",
       "    </tr>\n",
       "    <tr>\n",
       "      <th>1947-05-01</th>\n",
       "      <td>NaN</td>\n",
       "      <td>NaN</td>\n",
       "      <td>NaN</td>\n",
       "      <td>NaN</td>\n",
       "      <td>NaN</td>\n",
       "      <td>NaN</td>\n",
       "      <td>21.95</td>\n",
       "      <td>NaN</td>\n",
       "      <td>NaN</td>\n",
       "    </tr>\n",
       "    <tr>\n",
       "      <th>...</th>\n",
       "      <td>...</td>\n",
       "      <td>...</td>\n",
       "      <td>...</td>\n",
       "      <td>...</td>\n",
       "      <td>...</td>\n",
       "      <td>...</td>\n",
       "      <td>...</td>\n",
       "      <td>...</td>\n",
       "      <td>...</td>\n",
       "    </tr>\n",
       "    <tr>\n",
       "      <th>2023-04-01</th>\n",
       "      <td>NaN</td>\n",
       "      <td>NaN</td>\n",
       "      <td>3.46</td>\n",
       "      <td>NaN</td>\n",
       "      <td>NaN</td>\n",
       "      <td>NaN</td>\n",
       "      <td>NaN</td>\n",
       "      <td>NaN</td>\n",
       "      <td>NaN</td>\n",
       "    </tr>\n",
       "    <tr>\n",
       "      <th>2023-04-06</th>\n",
       "      <td>NaN</td>\n",
       "      <td>NaN</td>\n",
       "      <td>NaN</td>\n",
       "      <td>NaN</td>\n",
       "      <td>6.28</td>\n",
       "      <td>NaN</td>\n",
       "      <td>NaN</td>\n",
       "      <td>NaN</td>\n",
       "      <td>NaN</td>\n",
       "    </tr>\n",
       "    <tr>\n",
       "      <th>2023-04-13</th>\n",
       "      <td>NaN</td>\n",
       "      <td>NaN</td>\n",
       "      <td>NaN</td>\n",
       "      <td>NaN</td>\n",
       "      <td>6.27</td>\n",
       "      <td>NaN</td>\n",
       "      <td>NaN</td>\n",
       "      <td>NaN</td>\n",
       "      <td>NaN</td>\n",
       "    </tr>\n",
       "    <tr>\n",
       "      <th>2023-04-20</th>\n",
       "      <td>NaN</td>\n",
       "      <td>NaN</td>\n",
       "      <td>NaN</td>\n",
       "      <td>NaN</td>\n",
       "      <td>6.39</td>\n",
       "      <td>NaN</td>\n",
       "      <td>NaN</td>\n",
       "      <td>NaN</td>\n",
       "      <td>NaN</td>\n",
       "    </tr>\n",
       "    <tr>\n",
       "      <th>2023-04-27</th>\n",
       "      <td>NaN</td>\n",
       "      <td>NaN</td>\n",
       "      <td>NaN</td>\n",
       "      <td>NaN</td>\n",
       "      <td>6.43</td>\n",
       "      <td>NaN</td>\n",
       "      <td>NaN</td>\n",
       "      <td>NaN</td>\n",
       "      <td>NaN</td>\n",
       "    </tr>\n",
       "  </tbody>\n",
       "</table>\n",
       "<p>3551 rows × 9 columns</p>\n",
       "</div>"
      ],
      "text/plain": [
       "               GDPC1  GS5  GS10  GS3  MORTGAGE30US  UNRATE  CPIAUCSL  \\\n",
       "DATE                                                                   \n",
       "1947-01-01  2034.450  NaN   NaN  NaN           NaN     NaN     21.48   \n",
       "1947-02-01       NaN  NaN   NaN  NaN           NaN     NaN     21.62   \n",
       "1947-03-01       NaN  NaN   NaN  NaN           NaN     NaN     22.00   \n",
       "1947-04-01  2029.024  NaN   NaN  NaN           NaN     NaN     22.00   \n",
       "1947-05-01       NaN  NaN   NaN  NaN           NaN     NaN     21.95   \n",
       "...              ...  ...   ...  ...           ...     ...       ...   \n",
       "2023-04-01       NaN  NaN  3.46  NaN           NaN     NaN       NaN   \n",
       "2023-04-06       NaN  NaN   NaN  NaN          6.28     NaN       NaN   \n",
       "2023-04-13       NaN  NaN   NaN  NaN          6.27     NaN       NaN   \n",
       "2023-04-20       NaN  NaN   NaN  NaN          6.39     NaN       NaN   \n",
       "2023-04-27       NaN  NaN   NaN  NaN          6.43     NaN       NaN   \n",
       "\n",
       "            FEDFUNDS      GDP  \n",
       "DATE                           \n",
       "1947-01-01       NaN  243.164  \n",
       "1947-02-01       NaN      NaN  \n",
       "1947-03-01       NaN      NaN  \n",
       "1947-04-01       NaN  245.968  \n",
       "1947-05-01       NaN      NaN  \n",
       "...              ...      ...  \n",
       "2023-04-01       NaN      NaN  \n",
       "2023-04-06       NaN      NaN  \n",
       "2023-04-13       NaN      NaN  \n",
       "2023-04-20       NaN      NaN  \n",
       "2023-04-27       NaN      NaN  \n",
       "\n",
       "[3551 rows x 9 columns]"
      ]
     },
     "metadata": {},
     "output_type": "display_data"
    }
   ],
   "source": [
    "file_pattern = './notebooks/datasets/time_series/raw/fred/*.csv'\n",
    "df = merge_fred_csv_files(file_pattern)\n",
    "display(df)"
   ]
  },
  {
   "attachments": {},
   "cell_type": "markdown",
   "metadata": {},
   "source": [
    "Preselection of variables."
   ]
  },
  {
   "cell_type": "code",
   "execution_count": 6,
   "metadata": {},
   "outputs": [],
   "source": [
    "selected_cols = ['MORTGAGE30US', 'UNRATE', 'GS10', 'FEDFUNDS'] \n",
    "df = df[selected_cols]"
   ]
  },
  {
   "cell_type": "code",
   "execution_count": 7,
   "metadata": {},
   "outputs": [
    {
     "name": "stdout",
     "output_type": "stream",
     "text": [
      "<class 'pandas.core.frame.DataFrame'>\n",
      "DatetimeIndex: 3551 entries, 1947-01-01 to 2023-04-27\n",
      "Data columns (total 4 columns):\n",
      " #   Column        Non-Null Count  Dtype  \n",
      "---  ------        --------------  -----  \n",
      " 0   MORTGAGE30US  2718 non-null   float64\n",
      " 1   UNRATE        903 non-null    float64\n",
      " 2   GS10          841 non-null    float64\n",
      " 3   FEDFUNDS      825 non-null    float64\n",
      "dtypes: float64(4)\n",
      "memory usage: 138.7 KB\n"
     ]
    }
   ],
   "source": [
    "df.info()"
   ]
  },
  {
   "cell_type": "code",
   "execution_count": 8,
   "metadata": {},
   "outputs": [],
   "source": [
    "df = df.resample('MS').last()\n",
    "df = df.dropna()\n",
    "df_diff = df.diff().dropna()"
   ]
  },
  {
   "attachments": {},
   "cell_type": "markdown",
   "metadata": {},
   "source": [
    "## Model Methodology"
   ]
  },
  {
   "attachments": {},
   "cell_type": "markdown",
   "metadata": {},
   "source": [
    "### Training Data"
   ]
  },
  {
   "attachments": {},
   "cell_type": "markdown",
   "metadata": {},
   "source": [
    "#### Sampling "
   ]
  },
  {
   "attachments": {},
   "cell_type": "markdown",
   "metadata": {},
   "source": [
    "**Step 1: Split dataset into Training and Test**"
   ]
  },
  {
   "cell_type": "code",
   "execution_count": 9,
   "metadata": {},
   "outputs": [],
   "source": [
    "split_index = int(len(df) * 0.8)   # use 80% of the data for training\n",
    "df_train, df_test = df[:split_index], df[split_index:]"
   ]
  },
  {
   "attachments": {},
   "cell_type": "markdown",
   "metadata": {},
   "source": [
    "**Step 2: Create a Stationary Train and Test Dataset**"
   ]
  },
  {
   "cell_type": "code",
   "execution_count": 10,
   "metadata": {},
   "outputs": [],
   "source": [
    "# Apply first difference to both training and test df\n",
    "df_train_diff = df_train.diff().dropna()\n",
    "df_test_diff = df_test.diff().dropna()\n"
   ]
  },
  {
   "attachments": {},
   "cell_type": "markdown",
   "metadata": {},
   "source": [
    "#### Model Training"
   ]
  },
  {
   "attachments": {},
   "cell_type": "markdown",
   "metadata": {},
   "source": [
    "#### Model 1: Loan Rates and FEDFUNDS"
   ]
  },
  {
   "attachments": {},
   "cell_type": "markdown",
   "metadata": {},
   "source": [
    "**Step 1: Fit Model**"
   ]
  },
  {
   "cell_type": "code",
   "execution_count": 11,
   "metadata": {},
   "outputs": [
    {
     "name": "stdout",
     "output_type": "stream",
     "text": [
      "                                 OLS Regression Results                                \n",
      "=======================================================================================\n",
      "Dep. Variable:           MORTGAGE30US   R-squared (uncentered):                   0.286\n",
      "Model:                            OLS   Adj. R-squared (uncentered):              0.284\n",
      "Method:                 Least Squares   F-statistic:                              198.8\n",
      "Date:                Thu, 11 May 2023   Prob (F-statistic):                    3.22e-38\n",
      "Time:                        14:49:40   Log-Likelihood:                         -57.220\n",
      "No. Observations:                 498   AIC:                                      116.4\n",
      "Df Residuals:                     497   BIC:                                      120.7\n",
      "Df Model:                           1                                                  \n",
      "Covariance Type:            nonrobust                                                  \n",
      "==============================================================================\n",
      "                 coef    std err          t      P>|t|      [0.025      0.975]\n",
      "------------------------------------------------------------------------------\n",
      "FEDFUNDS       0.2901      0.021     14.100      0.000       0.250       0.330\n",
      "==============================================================================\n",
      "Omnibus:                      139.024   Durbin-Watson:                   1.581\n",
      "Prob(Omnibus):                  0.000   Jarque-Bera (JB):              806.633\n",
      "Skew:                           1.080   Prob(JB):                    6.95e-176\n",
      "Kurtosis:                       8.849   Cond. No.                         1.00\n",
      "==============================================================================\n",
      "\n",
      "Notes:\n",
      "[1] R² is computed without centering (uncentered) since the model does not contain a constant.\n",
      "[2] Standard Errors assume that the covariance matrix of the errors is correctly specified.\n"
     ]
    }
   ],
   "source": [
    "m1_training_dataset = df_train_diff[['FEDFUNDS','MORTGAGE30US']]\n",
    "m1_test_dataset = df_test_diff[['FEDFUNDS','MORTGAGE30US']]\n",
    "\n",
    "# Add the independent variables with no intercept\n",
    "X_1 = df_train_diff['FEDFUNDS']\n",
    "\n",
    "# Define the dependent variable \n",
    "y_1 = df_train_diff['MORTGAGE30US']\n",
    "\n",
    "# Fit the linear regression model\n",
    "model_1 = sm.OLS(y_1, X_1).fit()\n",
    "\n",
    "# Display the model summary\n",
    "print(model_1.summary())"
   ]
  },
  {
   "attachments": {},
   "cell_type": "markdown",
   "metadata": {},
   "source": [
    "### Model 2: Loan Rates, constant and FEDFUNDS"
   ]
  },
  {
   "attachments": {},
   "cell_type": "markdown",
   "metadata": {},
   "source": [
    "**Step 1: Fit Model**"
   ]
  },
  {
   "cell_type": "code",
   "execution_count": 12,
   "metadata": {},
   "outputs": [
    {
     "name": "stdout",
     "output_type": "stream",
     "text": [
      "                            OLS Regression Results                            \n",
      "==============================================================================\n",
      "Dep. Variable:           MORTGAGE30US   R-squared:                       0.286\n",
      "Model:                            OLS   Adj. R-squared:                  0.284\n",
      "Method:                 Least Squares   F-statistic:                     198.3\n",
      "Date:                Thu, 11 May 2023   Prob (F-statistic):           3.99e-38\n",
      "Time:                        14:49:40   Log-Likelihood:                -57.120\n",
      "No. Observations:                 498   AIC:                             118.2\n",
      "Df Residuals:                     496   BIC:                             126.7\n",
      "Df Model:                           1                                         \n",
      "Covariance Type:            nonrobust                                         \n",
      "==============================================================================\n",
      "                 coef    std err          t      P>|t|      [0.025      0.975]\n",
      "------------------------------------------------------------------------------\n",
      "const         -0.0055      0.012     -0.448      0.654      -0.029       0.018\n",
      "FEDFUNDS       0.2899      0.021     14.082      0.000       0.249       0.330\n",
      "==============================================================================\n",
      "Omnibus:                      138.997   Durbin-Watson:                   1.581\n",
      "Prob(Omnibus):                  0.000   Jarque-Bera (JB):              806.946\n",
      "Skew:                           1.080   Prob(JB):                    5.94e-176\n",
      "Kurtosis:                       8.850   Cond. No.                         1.69\n",
      "==============================================================================\n",
      "\n",
      "Notes:\n",
      "[1] Standard Errors assume that the covariance matrix of the errors is correctly specified.\n"
     ]
    },
    {
     "name": "stderr",
     "output_type": "stream",
     "text": [
      "\n",
      "A value is trying to be set on a copy of a slice from a DataFrame.\n",
      "Try using .loc[row_indexer,col_indexer] = value instead\n",
      "\n",
      "See the caveats in the documentation: https://pandas.pydata.org/pandas-docs/stable/user_guide/indexing.html#returning-a-view-versus-a-copy\n",
      "\n",
      "A value is trying to be set on a copy of a slice from a DataFrame.\n",
      "Try using .loc[row_indexer,col_indexer] = value instead\n",
      "\n",
      "See the caveats in the documentation: https://pandas.pydata.org/pandas-docs/stable/user_guide/indexing.html#returning-a-view-versus-a-copy\n"
     ]
    }
   ],
   "source": [
    "m2_training_dataset = df_train_diff[['FEDFUNDS','MORTGAGE30US']]\n",
    "m2_training_dataset['const'] = 1.0\n",
    "m2_test_dataset = df_test_diff[['FEDFUNDS','MORTGAGE30US']]\n",
    "m2_test_dataset['const'] = 1.0\n",
    "\n",
    "\n",
    "\n",
    "# Add a constant to the independent variables for the linear regression model\n",
    "X_2 = sm.add_constant(df_train_diff['FEDFUNDS'])\n",
    "\n",
    "# Define the dependent variable \n",
    "y_2 = df_train_diff['MORTGAGE30US']\n",
    "\n",
    "# Fit the linear regression model\n",
    "model_2 = sm.OLS(y_2, X_2).fit()\n",
    "\n",
    "# Display the model summary\n",
    "print(model_2.summary())"
   ]
  },
  {
   "attachments": {},
   "cell_type": "markdown",
   "metadata": {},
   "source": [
    "**Step 2: Reasoning**"
   ]
  },
  {
   "attachments": {},
   "cell_type": "markdown",
   "metadata": {},
   "source": []
  },
  {
   "attachments": {},
   "cell_type": "markdown",
   "metadata": {},
   "source": [
    "### Model 3: Loan Rates and GS10"
   ]
  },
  {
   "cell_type": "code",
   "execution_count": 13,
   "metadata": {},
   "outputs": [
    {
     "name": "stdout",
     "output_type": "stream",
     "text": [
      "                                 OLS Regression Results                                \n",
      "=======================================================================================\n",
      "Dep. Variable:           MORTGAGE30US   R-squared (uncentered):                   0.529\n",
      "Model:                            OLS   Adj. R-squared (uncentered):              0.528\n",
      "Method:                 Least Squares   F-statistic:                              558.1\n",
      "Date:                Thu, 11 May 2023   Prob (F-statistic):                    2.80e-83\n",
      "Time:                        14:49:40   Log-Likelihood:                          46.439\n",
      "No. Observations:                 498   AIC:                                     -90.88\n",
      "Df Residuals:                     497   BIC:                                     -86.67\n",
      "Df Model:                           1                                                  \n",
      "Covariance Type:            nonrobust                                                  \n",
      "==============================================================================\n",
      "                 coef    std err          t      P>|t|      [0.025      0.975]\n",
      "------------------------------------------------------------------------------\n",
      "GS10           0.7428      0.031     23.624      0.000       0.681       0.805\n",
      "==============================================================================\n",
      "Omnibus:                      216.020   Durbin-Watson:                   1.949\n",
      "Prob(Omnibus):                  0.000   Jarque-Bera (JB):            27264.604\n",
      "Skew:                           0.803   Prob(JB):                         0.00\n",
      "Kurtosis:                      39.213   Cond. No.                         1.00\n",
      "==============================================================================\n",
      "\n",
      "Notes:\n",
      "[1] R² is computed without centering (uncentered) since the model does not contain a constant.\n",
      "[2] Standard Errors assume that the covariance matrix of the errors is correctly specified.\n"
     ]
    }
   ],
   "source": [
    "m3_training_dataset = df_train_diff[['GS10','MORTGAGE30US']]\n",
    "m3_test_dataset = df_test_diff[['GS10','MORTGAGE30US']]\n",
    "\n",
    "\n",
    "# Add a constant to the independent variables for the linear regression model\n",
    "X_3 = df_train_diff['GS10']\n",
    "\n",
    "# Define the dependent variable \n",
    "y_3 = df_train_diff['MORTGAGE30US']\n",
    "\n",
    "# Fit the linear regression model\n",
    "model_3 = sm.OLS(y_3, X_3).fit()\n",
    "\n",
    "# Display the model summary\n",
    "print(model_3.summary())"
   ]
  },
  {
   "attachments": {},
   "cell_type": "markdown",
   "metadata": {},
   "source": [
    "#### VM model summary test plan"
   ]
  },
  {
   "cell_type": "code",
   "execution_count": 14,
   "metadata": {},
   "outputs": [
    {
     "data": {
      "text/html": [
       "<table>\n",
       "<thead>\n",
       "<tr><th>ID                               </th><th>Name                       </th><th>Description                                                                </th></tr>\n",
       "</thead>\n",
       "<tbody>\n",
       "<tr><td>binary_classifier_metrics        </td><td>BinaryClassifierMetrics    </td><td>Test plan for sklearn classifier metrics                                   </td></tr>\n",
       "<tr><td>binary_classifier_validation     </td><td>BinaryClassifierPerformance</td><td>Test plan for sklearn classifier models                                    </td></tr>\n",
       "<tr><td>binary_classifier_model_diagnosis</td><td>BinaryClassifierDiagnosis  </td><td>Test plan for sklearn classifier model diagnosis tests                     </td></tr>\n",
       "<tr><td>binary_classifier                </td><td>BinaryClassifier           </td><td>Test plan for sklearn classifier models that includes\n",
       "    both metrics and validation tests                                                                            </td></tr>\n",
       "<tr><td>tabular_dataset                  </td><td>TabularDataset             </td><td>Test plan for generic tabular datasets                                     </td></tr>\n",
       "<tr><td>tabular_dataset_description      </td><td>TabularDatasetDescription  </td><td>Test plan to extract metadata and descriptive\n",
       "    statistics from a tabular dataset                                                                            </td></tr>\n",
       "<tr><td>tabular_data_quality             </td><td>TabularDataQuality         </td><td>Test plan for data quality on tabular datasets                             </td></tr>\n",
       "<tr><td>normality_test_plan              </td><td>NormalityTestPlan          </td><td>Test plan to perform normality tests.                                      </td></tr>\n",
       "<tr><td>autocorrelation_test_plan        </td><td>AutocorrelationTestPlan    </td><td>Test plan to perform autocorrelation tests.                                </td></tr>\n",
       "<tr><td>seasonality_test_plan            </td><td>SesonalityTestPlan         </td><td>Test plan to perform seasonality tests.                                    </td></tr>\n",
       "<tr><td>unit_root                        </td><td>UnitRoot                   </td><td>Test plan to perform unit root tests.                                      </td></tr>\n",
       "<tr><td>stationarity_test_plan           </td><td>StationarityTestPlan       </td><td>Test plan to perform stationarity tests.                                   </td></tr>\n",
       "<tr><td>timeseries                       </td><td>TimeSeries                 </td><td>Test plan for time series statsmodels that includes\n",
       "    both metrics and validation tests                                                                            </td></tr>\n",
       "<tr><td>time_series_data_quality         </td><td>TimeSeriesDataQuality      </td><td>Test plan for data quality on time series datasets                         </td></tr>\n",
       "<tr><td>time_series_dataset              </td><td>TimeSeriesDataset          </td><td>Test plan for time series  datasets                                        </td></tr>\n",
       "<tr><td>time_series_univariate           </td><td>TimeSeriesUnivariate       </td><td>Test plan to perform time series univariate analysis.                      </td></tr>\n",
       "<tr><td>time_series_multivariate         </td><td>TimeSeriesMultivariate     </td><td>Test plan to perform time series multivariate analysis.                    </td></tr>\n",
       "<tr><td>time_series_forecast             </td><td>TimeSeriesForecast         </td><td>Test plan to perform time series forecast tests.                           </td></tr>\n",
       "<tr><td>regression_model_performance     </td><td>RegressionModelPerformance </td><td>Test plan for performance metric of regression model of statsmodels library</td></tr>\n",
       "<tr><td>regression_models_comparison     </td><td>RegressionModelsComparison </td><td>Test plan for metrics comparison of regression model of statsmodels library</td></tr>\n",
       "</tbody>\n",
       "</table>"
      ],
      "text/plain": [
       "'<table>\\n<thead>\\n<tr><th>ID                               </th><th>Name                       </th><th>Description                                                                </th></tr>\\n</thead>\\n<tbody>\\n<tr><td>binary_classifier_metrics        </td><td>BinaryClassifierMetrics    </td><td>Test plan for sklearn classifier metrics                                   </td></tr>\\n<tr><td>binary_classifier_validation     </td><td>BinaryClassifierPerformance</td><td>Test plan for sklearn classifier models                                    </td></tr>\\n<tr><td>binary_classifier_model_diagnosis</td><td>BinaryClassifierDiagnosis  </td><td>Test plan for sklearn classifier model diagnosis tests                     </td></tr>\\n<tr><td>binary_classifier                </td><td>BinaryClassifier           </td><td>Test plan for sklearn classifier models that includes\\n    both metrics and validation tests                                                                            </td></tr>\\n<tr><td>tabular_dataset                  </td><td>TabularDataset             </td><td>Test plan for generic tabular datasets                                     </td></tr>\\n<tr><td>tabular_dataset_description      </td><td>TabularDatasetDescription  </td><td>Test plan to extract metadata and descriptive\\n    statistics from a tabular dataset                                                                            </td></tr>\\n<tr><td>tabular_data_quality             </td><td>TabularDataQuality         </td><td>Test plan for data quality on tabular datasets                             </td></tr>\\n<tr><td>normality_test_plan              </td><td>NormalityTestPlan          </td><td>Test plan to perform normality tests.                                      </td></tr>\\n<tr><td>autocorrelation_test_plan        </td><td>AutocorrelationTestPlan    </td><td>Test plan to perform autocorrelation tests.                                </td></tr>\\n<tr><td>seasonality_test_plan            </td><td>SesonalityTestPlan         </td><td>Test plan to perform seasonality tests.                                    </td></tr>\\n<tr><td>unit_root                        </td><td>UnitRoot                   </td><td>Test plan to perform unit root tests.                                      </td></tr>\\n<tr><td>stationarity_test_plan           </td><td>StationarityTestPlan       </td><td>Test plan to perform stationarity tests.                                   </td></tr>\\n<tr><td>timeseries                       </td><td>TimeSeries                 </td><td>Test plan for time series statsmodels that includes\\n    both metrics and validation tests                                                                            </td></tr>\\n<tr><td>time_series_data_quality         </td><td>TimeSeriesDataQuality      </td><td>Test plan for data quality on time series datasets                         </td></tr>\\n<tr><td>time_series_dataset              </td><td>TimeSeriesDataset          </td><td>Test plan for time series  datasets                                        </td></tr>\\n<tr><td>time_series_univariate           </td><td>TimeSeriesUnivariate       </td><td>Test plan to perform time series univariate analysis.                      </td></tr>\\n<tr><td>time_series_multivariate         </td><td>TimeSeriesMultivariate     </td><td>Test plan to perform time series multivariate analysis.                    </td></tr>\\n<tr><td>time_series_forecast             </td><td>TimeSeriesForecast         </td><td>Test plan to perform time series forecast tests.                           </td></tr>\\n<tr><td>regression_model_performance     </td><td>RegressionModelPerformance </td><td>Test plan for performance metric of regression model of statsmodels library</td></tr>\\n<tr><td>regression_models_comparison     </td><td>RegressionModelsComparison </td><td>Test plan for metrics comparison of regression model of statsmodels library</td></tr>\\n</tbody>\\n</table>'"
      ]
     },
     "execution_count": 14,
     "metadata": {},
     "output_type": "execute_result"
    }
   ],
   "source": [
    "vm.test_plans.list_plans()"
   ]
  },
  {
   "attachments": {},
   "cell_type": "markdown",
   "metadata": {},
   "source": [
    "#### Model perfomance Test"
   ]
  },
  {
   "cell_type": "code",
   "execution_count": 15,
   "metadata": {},
   "outputs": [
    {
     "name": "stdout",
     "output_type": "stream",
     "text": [
      "Pandas dataset detected. Initializing VM Dataset instance...\n",
      "Inferring dataset types...\n",
      "Pandas dataset detected. Initializing VM Dataset instance...\n",
      "Inferring dataset types...\n"
     ]
    },
    {
     "name": "stderr",
     "output_type": "stream",
     "text": [
      "                                                                                                                                          \r"
     ]
    },
    {
     "data": {
      "text/html": [
       "<h2>Results for <i>Regression Model Performance</i> Test Plan:</h2><hr><div class=\"result\">Test plan for performance metric of regression model of statsmodels library</div><div class=\"result\">\n",
       "            <h4>Logged the following  metric to the ValidMind platform:</h4>\n",
       "            \n",
       "            <div class=\"metric-result\">\n",
       "                <div class=\"metric-result-body\">\n",
       "                    <div class=\"metric-body-column\">\n",
       "                        <div class=\"metric-body-column-title\">Metric Name</div>\n",
       "                        <div class=\"metric-body-column-value\"></div>\n",
       "                    </div>\n",
       "                    <div class=\"metric-body-column\">\n",
       "                        <div class=\"metric-body-column-title\">Metric Type</div>\n",
       "                        <div class=\"metric-body-column-value\"></div>\n",
       "                    </div>\n",
       "                    <div class=\"metric-body-column\">\n",
       "                        <div class=\"metric-body-column-title\">Metric Scope</div>\n",
       "                        <div class=\"metric-body-column-value\">test</div>\n",
       "                    </div>\n",
       "                </div>\n",
       "                <div class=\"metric-value\">\n",
       "                    <div class=\"metric-value-title\">Metric Value</div>\n",
       "                    <div class=\"metric-value-value\">\n",
       "                        <pre>{'Independent Variables': ['FEDFUNDS'], 'R-Squared': 0.2857335514089734, 'Adjusted R-Squared': 0.2842963955767983, 'MSE': 0.0738243956495036, 'RMSE': 0.27170645124748805}</pre>\n",
       "                    </div>\n",
       "                </div>\n",
       "            \n",
       "        </div>\n",
       "        <style>\n",
       "            .metric-result {\n",
       "                background-color: #F5F5F5;\n",
       "                border: 1px solid #e0e0e0;\n",
       "                border-radius: 4px;\n",
       "                padding: 10px;\n",
       "                margin: 10px 0;\n",
       "            }\n",
       "            .metric-result-body {\n",
       "                display: flex;\n",
       "                flex-direction: column;\n",
       "                justify-content: space-between;\n",
       "                gap: 10px;\n",
       "            }\n",
       "            .metric-body-column {\n",
       "                display: flex;\n",
       "                flex-direction: column;\n",
       "                justify-content: space-between;\n",
       "                width: 33%;\n",
       "            }\n",
       "            .metric-body-column-title {\n",
       "                font-size: 16px;\n",
       "                font-weight: 600;\n",
       "            }\n",
       "            .metric-value {\n",
       "                display: flex;\n",
       "                flex-direction: column;\n",
       "                justify-content: space-between;\n",
       "                margin-top: 15px;\n",
       "            }\n",
       "            .metric-value-title {\n",
       "                font-size: 16px;\n",
       "                font-weight: 600;\n",
       "            }\n",
       "            .metric-value-value {\n",
       "                font-size: 14px;\n",
       "                font-weight: 500;\n",
       "                margin-top: 10px;\n",
       "            }\n",
       "            .metric-plot img {\n",
       "                margin-left: auto !important;\n",
       "                margin-right: auto !important;\n",
       "                max-height: 500px !important;\n",
       "                height: 100%;\n",
       "                width: auto;\n",
       "                max-width: 800px;\n",
       "            }\n",
       "        </style>\n",
       "        </div>\n",
       "        <style>\n",
       "            .result {\n",
       "                margin: 10px 0;\n",
       "                padding: 10px;\n",
       "                background-color: #f1f1f1;\n",
       "                border: 1px solid #ccc;\n",
       "                border-radius: 5px;\n",
       "            }\n",
       "        </style>\n",
       "        "
      ],
      "text/plain": [
       "<IPython.core.display.HTML object>"
      ]
     },
     "metadata": {},
     "output_type": "display_data"
    },
    {
     "name": "stdout",
     "output_type": "stream",
     "text": [
      "Pandas dataset detected. Initializing VM Dataset instance...\n",
      "Inferring dataset types...\n",
      "Pandas dataset detected. Initializing VM Dataset instance...\n",
      "Inferring dataset types...\n",
      "Pandas dataset detected. Initializing VM Dataset instance...\n",
      "Inferring dataset types...\n",
      "Pandas dataset detected. Initializing VM Dataset instance...\n",
      "Inferring dataset types...\n"
     ]
    },
    {
     "name": "stderr",
     "output_type": "stream",
     "text": [
      "                                                                                                                                                 \r"
     ]
    },
    {
     "data": {
      "text/html": [
       "<h2>Results for <i>Regression Models Comparison</i> Test Plan:</h2><hr><div class=\"result\">Test plan for metrics comparison of regression model of statsmodels library</div><div class=\"result\">\n",
       "            <h4>Logged the following  metric to the ValidMind platform:</h4>\n",
       "            \n",
       "            <div class=\"metric-result\">\n",
       "                <div class=\"metric-result-body\">\n",
       "                    <div class=\"metric-body-column\">\n",
       "                        <div class=\"metric-body-column-title\">Metric Name</div>\n",
       "                        <div class=\"metric-body-column-value\"></div>\n",
       "                    </div>\n",
       "                    <div class=\"metric-body-column\">\n",
       "                        <div class=\"metric-body-column-title\">Metric Type</div>\n",
       "                        <div class=\"metric-body-column-value\"></div>\n",
       "                    </div>\n",
       "                    <div class=\"metric-body-column\">\n",
       "                        <div class=\"metric-body-column-title\">Metric Scope</div>\n",
       "                        <div class=\"metric-body-column-value\">test</div>\n",
       "                    </div>\n",
       "                </div>\n",
       "                <div class=\"metric-value\">\n",
       "                    <div class=\"metric-value-title\">Metric Value</div>\n",
       "                    <div class=\"metric-value-value\">\n",
       "                        <pre>[{'Model': '(const, FEDFUNDS)', 'MSE': 0.12208298758088999, 'RMSE': 0.3494037601126954}, {'Model': '(GS10)', 'MSE': 0.024309938653901447, 'RMSE': 0.15591644766958182}]</pre>\n",
       "                    </div>\n",
       "                </div>\n",
       "            \n",
       "        </div>\n",
       "        <style>\n",
       "            .metric-result {\n",
       "                background-color: #F5F5F5;\n",
       "                border: 1px solid #e0e0e0;\n",
       "                border-radius: 4px;\n",
       "                padding: 10px;\n",
       "                margin: 10px 0;\n",
       "            }\n",
       "            .metric-result-body {\n",
       "                display: flex;\n",
       "                flex-direction: column;\n",
       "                justify-content: space-between;\n",
       "                gap: 10px;\n",
       "            }\n",
       "            .metric-body-column {\n",
       "                display: flex;\n",
       "                flex-direction: column;\n",
       "                justify-content: space-between;\n",
       "                width: 33%;\n",
       "            }\n",
       "            .metric-body-column-title {\n",
       "                font-size: 16px;\n",
       "                font-weight: 600;\n",
       "            }\n",
       "            .metric-value {\n",
       "                display: flex;\n",
       "                flex-direction: column;\n",
       "                justify-content: space-between;\n",
       "                margin-top: 15px;\n",
       "            }\n",
       "            .metric-value-title {\n",
       "                font-size: 16px;\n",
       "                font-weight: 600;\n",
       "            }\n",
       "            .metric-value-value {\n",
       "                font-size: 14px;\n",
       "                font-weight: 500;\n",
       "                margin-top: 10px;\n",
       "            }\n",
       "            .metric-plot img {\n",
       "                margin-left: auto !important;\n",
       "                margin-right: auto !important;\n",
       "                max-height: 500px !important;\n",
       "                height: 100%;\n",
       "                width: auto;\n",
       "                max-width: 800px;\n",
       "            }\n",
       "        </style>\n",
       "        </div><div class=\"result\">\n",
       "            <h4>Logged the following  metric to the ValidMind platform:</h4>\n",
       "            \n",
       "            <div class=\"metric-result\">\n",
       "                <div class=\"metric-result-body\">\n",
       "                    <div class=\"metric-body-column\">\n",
       "                        <div class=\"metric-body-column-title\">Metric Name</div>\n",
       "                        <div class=\"metric-body-column-value\"></div>\n",
       "                    </div>\n",
       "                    <div class=\"metric-body-column\">\n",
       "                        <div class=\"metric-body-column-title\">Metric Type</div>\n",
       "                        <div class=\"metric-body-column-value\"></div>\n",
       "                    </div>\n",
       "                    <div class=\"metric-body-column\">\n",
       "                        <div class=\"metric-body-column-title\">Metric Scope</div>\n",
       "                        <div class=\"metric-body-column-value\">test</div>\n",
       "                    </div>\n",
       "                </div>\n",
       "                <div class=\"metric-value\">\n",
       "                    <div class=\"metric-value-title\">Metric Value</div>\n",
       "                    <div class=\"metric-value-value\">\n",
       "                        <pre>[{'Model': 'Model_1', 'Independent Variables': ['const', 'FEDFUNDS'], 'R-Squared': 0.28560235448239246, 'Adjusted R-Squared': 0.28416203664868767, 'MSE': 0.07394328220568015, 'RMSE': 0.2719251408120995}, {'Model': 'Model_2', 'Independent Variables': ['GS10'], 'R-Squared': 0.5289543117383433, 'Adjusted R-Squared': 0.5280065336935513, 'MSE': 0.048685841716096745, 'RMSE': 0.22064868392106204}]</pre>\n",
       "                    </div>\n",
       "                </div>\n",
       "            \n",
       "        </div>\n",
       "        <style>\n",
       "            .metric-result {\n",
       "                background-color: #F5F5F5;\n",
       "                border: 1px solid #e0e0e0;\n",
       "                border-radius: 4px;\n",
       "                padding: 10px;\n",
       "                margin: 10px 0;\n",
       "            }\n",
       "            .metric-result-body {\n",
       "                display: flex;\n",
       "                flex-direction: column;\n",
       "                justify-content: space-between;\n",
       "                gap: 10px;\n",
       "            }\n",
       "            .metric-body-column {\n",
       "                display: flex;\n",
       "                flex-direction: column;\n",
       "                justify-content: space-between;\n",
       "                width: 33%;\n",
       "            }\n",
       "            .metric-body-column-title {\n",
       "                font-size: 16px;\n",
       "                font-weight: 600;\n",
       "            }\n",
       "            .metric-value {\n",
       "                display: flex;\n",
       "                flex-direction: column;\n",
       "                justify-content: space-between;\n",
       "                margin-top: 15px;\n",
       "            }\n",
       "            .metric-value-title {\n",
       "                font-size: 16px;\n",
       "                font-weight: 600;\n",
       "            }\n",
       "            .metric-value-value {\n",
       "                font-size: 14px;\n",
       "                font-weight: 500;\n",
       "                margin-top: 10px;\n",
       "            }\n",
       "            .metric-plot img {\n",
       "                margin-left: auto !important;\n",
       "                margin-right: auto !important;\n",
       "                max-height: 500px !important;\n",
       "                height: 100%;\n",
       "                width: auto;\n",
       "                max-width: 800px;\n",
       "            }\n",
       "        </style>\n",
       "        </div>\n",
       "        <style>\n",
       "            .result {\n",
       "                margin: 10px 0;\n",
       "                padding: 10px;\n",
       "                background-color: #f1f1f1;\n",
       "                border: 1px solid #ccc;\n",
       "                border-radius: 5px;\n",
       "            }\n",
       "        </style>\n",
       "        "
      ],
      "text/plain": [
       "<IPython.core.display.HTML object>"
      ]
     },
     "metadata": {},
     "output_type": "display_data"
    }
   ],
   "source": [
    "vm_model_1 = vm.init_model(model_1)\n",
    "vm_train_ds_1 = vm.init_dataset(dataset=m1_training_dataset, type=\"generic\", target_column=\"MORTGAGE30US\")\n",
    "vm_test_ds_1 = vm.init_dataset(dataset=m1_test_dataset, type=\"generic\", target_column=\"MORTGAGE30US\")\n",
    "\n",
    "model_performance_test_plan = vm.run_test_plan(\"regression_model_performance\", \n",
    "                                             model=vm_model_1\n",
    "                                            )\n",
    "\n",
    "vm_train_ds_2 = vm.init_dataset(dataset=m2_training_dataset, type=\"generic\", target_column=\"MORTGAGE30US\")\n",
    "vm_test_ds_2 = vm.init_dataset(dataset=m2_test_dataset, type=\"generic\", target_column=\"MORTGAGE30US\")\n",
    "vm_model_2 = vm.init_model(model_2, train_ds=vm_train_ds_2, test_ds=vm_test_ds_2, validation_ds=vm_test_ds_2)\n",
    "\n",
    "\n",
    "vm_train_ds_3 = vm.init_dataset(dataset=m3_training_dataset, type=\"generic\", target_column=\"MORTGAGE30US\")\n",
    "vm_test_ds_3 = vm.init_dataset(dataset=m3_test_dataset, type=\"generic\", target_column=\"MORTGAGE30US\")\n",
    "vm_model_3 = vm.init_model(model_3, train_ds=vm_train_ds_3, test_ds=vm_test_ds_3, validation_ds=vm_test_ds_3)\n",
    "\n",
    "\n",
    "model_comparison_test_plan = vm.run_test_plan(\"regression_models_comparison\", \n",
    "                                             model = vm_model_1,\n",
    "                                             models= [vm_model_2, vm_model_3],\n",
    "                                            )\n",
    "\n"
   ]
  },
  {
   "cell_type": "code",
   "execution_count": null,
   "metadata": {},
   "outputs": [],
   "source": []
  },
  {
   "cell_type": "code",
   "execution_count": null,
   "metadata": {},
   "outputs": [],
   "source": []
  }
 ],
 "metadata": {
  "kernelspec": {
   "display_name": "dev-framework",
   "language": "python",
   "name": "dev-framework"
  },
  "language_info": {
   "codemirror_mode": {
    "name": "ipython",
    "version": 3
   },
   "file_extension": ".py",
   "mimetype": "text/x-python",
   "name": "python",
   "nbconvert_exporter": "python",
   "pygments_lexer": "ipython3",
   "version": "3.9.6"
  },
  "orig_nbformat": 4
 },
 "nbformat": 4,
 "nbformat_minor": 2
}
