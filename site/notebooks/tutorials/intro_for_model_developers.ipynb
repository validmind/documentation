{
 "cells": [
  {
   "cell_type": "markdown",
   "metadata": {},
   "source": [
    "# ValidMind introduction for model developers\n",
    "\n",
    "Learn how to use ValidMind for your end-to-end model documentation process based on common model development scenarios with our *ValidMind for model development* series of four introductory notebooks:\n",
    "\n",
    "1. [101 Set up the ValidMind Library](/notebooks/tutorials/model_development/101-set_up_validmind.ipynb)\n",
    "2. [102 Start the model development process](/notebooks/tutorials/model_development/102-start_development_process.ipynb)\n",
    "3. [103 Integrate custom tests](/notebooks/tutorials/model_development/103-integrate_custom_tests.ipynb)\n",
    "4. [104 Finalize testing and documentation](/notebooks/tutorials/model_development/104-finalize_testing_documentation.ipynb)\n",
    "\n",
    "<div class=\"alert alert-block alert-info\" style=\"background-color: #B5B5B510; color: black; border: 1px solid #083E44; border-left-width: 5px; box-shadow: 2px 2px 4px rgba(0, 0, 0, 0.2);border-radius: 5px;\"><span style=\"color: #083E44;\"><b>Or, take our Developer Fundamentals course which walks you through the basics of ValidMind paired with this notebook series.</b></span>\n",
    "<br></br>\n",
    "Training is FREE — <a href=\"https://docs.validmind.ai/training/developer-fundamentals/developer-fundamentals-register.html\" style=\"color: #DE257E;\"><b>Register now!</b></a></div>"
   ]
  }
 ],
 "metadata": {
  "kernelspec": {
   "display_name": "ValidMind Library",
   "language": "python",
   "name": "validmind"
  },
  "language_info": {
   "codemirror_mode": {
    "name": "ipython",
    "version": 3
   },
   "file_extension": ".py",
   "mimetype": "text/x-python",
   "name": "python",
   "nbconvert_exporter": "python",
   "pygments_lexer": "ipython3",
   "version": "3.10.13"
  }
 },
 "nbformat": 4,
 "nbformat_minor": 2
}
