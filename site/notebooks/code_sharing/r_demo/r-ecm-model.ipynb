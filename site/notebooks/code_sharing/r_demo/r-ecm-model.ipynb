{
 "cells": [
  {
   "cell_type": "markdown",
   "metadata": {},
   "source": [
    "### Pre-requisites:\n",
    "#### 1. Install R\n",
    "\n",
    "Install R with Homebrew on macOS:\n",
    "\n",
    "```bash\n",
    "brew install r\n",
    "```\n",
    "\n",
    "### 2. Install brew deps\n",
    "\n",
    "```bash\n",
    "brew install harfbuzz fribidi libtiff\n",
    "```\n",
    "\n",
    "#### 3. Install R kernel for Jupyter\n",
    "Open up an R session with `R` and run the following commands:\n",
    "\n",
    "```r\n",
    "install.packages('IRkernel')\n",
    "IRkernel::installspec(sys_prefix = TRUE)\n",
    "```\n",
    "\n",
    "For helpful shortcuts, run this in a terminal:\n",
    "\n",
    "```bash\n",
    "poetry run jupyter labextension install @techrah/text-shortcuts\n",
    "```\n",
    "\n",
    "#### 4. Make sure you choose the R kernel when you open a new notebook\n",
    "\n",
    "#### 5. Install the R packages we need (best to run this in an R terminal instead of the notebook)\n",
    "\n",
    "```r\n",
    "install.packages('ecm')\n",
    "install.packages('tidyverse')\n",
    "```\n"
   ]
  },
  {
   "cell_type": "markdown",
   "metadata": {},
   "source": [
    "# Building an ECM Model Using R and the `ecm` Package in a Jupyter Notebook\n",
    "\n",
    "## Step 1: Load the Required Libraries\n",
    "\n",
    "We will start by loading the necessary libraries that we will use in this notebook. Here, we will use the `ecm` package to build the ECM model.\n"
   ]
  },
  {
   "cell_type": "code",
   "execution_count": null,
   "metadata": {
    "vscode": {
     "languageId": "r"
    }
   },
   "outputs": [],
   "source": [
    "library(ecm)\n",
    "library(tidyverse)\n",
    "library(broom)"
   ]
  },
  {
   "cell_type": "markdown",
   "metadata": {},
   "source": [
    "## Step 2: Load the Data\n",
    "\n",
    "Next, we will load the data that we will use to build the ECM model. For this example, we will use ecm to predict Wilshire 5000 index based on corporate profits, Federal Reserve funds rate, and unemployment rate"
   ]
  },
  {
   "cell_type": "code",
   "execution_count": null,
   "metadata": {
    "vscode": {
     "languageId": "r"
    }
   },
   "outputs": [],
   "source": [
    "# Load the data\n",
    "data(Wilshire)\n",
    "# Use 2015-12-01 and earlier data to build models\n",
    "trn <- Wilshire[Wilshire$date<='2015-12-01',]"
   ]
  },
  {
   "cell_type": "markdown",
   "metadata": {},
   "source": [
    "## Step 3: Build the ECM Model\n",
    "\n",
    "Now, we will build the ECM model using the `ecm` package."
   ]
  },
  {
   "cell_type": "code",
   "execution_count": null,
   "metadata": {
    "vscode": {
     "languageId": "r"
    }
   },
   "outputs": [],
   "source": [
    "# Assume all predictors are needed in the equilibrium and transient terms of ecm.\n",
    "xeq <- xtr <- trn[c('CorpProfits', 'FedFundsRate', 'UnempRate')]\n",
    "model <- ecm(trn$Wilshire5000, xeq, xtr, includeIntercept=TRUE)\n",
    "\n",
    "summary(model)"
   ]
  },
  {
   "cell_type": "code",
   "execution_count": null,
   "metadata": {
    "vscode": {
     "languageId": "r"
    }
   },
   "outputs": [],
   "source": [
    "summary(model)$coefficients"
   ]
  },
  {
   "cell_type": "code",
   "execution_count": null,
   "metadata": {
    "vscode": {
     "languageId": "r"
    }
   },
   "outputs": [],
   "source": [
    "tidy(model)"
   ]
  },
  {
   "cell_type": "code",
   "execution_count": null,
   "metadata": {
    "vscode": {
     "languageId": "r"
    }
   },
   "outputs": [],
   "source": [
    "augment(model)"
   ]
  },
  {
   "cell_type": "code",
   "execution_count": null,
   "metadata": {
    "vscode": {
     "languageId": "r"
    }
   },
   "outputs": [],
   "source": [
    "glance(model)"
   ]
  },
  {
   "cell_type": "code",
   "execution_count": null,
   "metadata": {
    "vscode": {
     "languageId": "r"
    }
   },
   "outputs": [],
   "source": [
    "par(mfrow=c(2,2))\n",
    "plot(model)"
   ]
  },
  {
   "cell_type": "markdown",
   "metadata": {},
   "source": [
    "## Step 4: Save the ECM Model\n",
    "\n",
    "Finally, we will save the ECM model to a file so that we can use it later."
   ]
  },
  {
   "cell_type": "code",
   "execution_count": null,
   "metadata": {
    "vscode": {
     "languageId": "r"
    }
   },
   "outputs": [],
   "source": [
    "# save the model to an RDS file\n",
    "saveRDS(model, 'r-ecm-model.rds')"
   ]
  }
 ],
 "metadata": {
  "kernelspec": {
   "display_name": "R",
   "language": "R",
   "name": "ir"
  },
  "language_info": {
   "codemirror_mode": "r",
   "file_extension": ".r",
   "mimetype": "text/x-r-source",
   "name": "R",
   "pygments_lexer": "r",
   "version": "4.2.2"
  }
 },
 "nbformat": 4,
 "nbformat_minor": 2
}
