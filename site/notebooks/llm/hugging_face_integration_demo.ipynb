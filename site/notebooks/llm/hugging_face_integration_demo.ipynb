{
 "cells": [
  {
   "cell_type": "markdown",
   "metadata": {},
   "source": [
    "# Sentiment analysis of financial data using Hugging face LLM models\n",
    "This notebook aims to provide an introduction to documenting an LLM model using the ValidMind Developer Framework. The use case presented is a sentiment analysis of financial pharse data (https://huggingface.co/datasets/financial_phrasebank).\n",
    "\n",
    "- Initializing the ValidMind Developer Framework\n",
    "- Running a test various tests to quickly generate document about the data and model\n",
    "\n",
    "## Before you begin\n",
    "\n",
    "To use the ValidMind Developer Framework with a Jupyter notebook, you need to install and initialize the client library first, along with getting your Python environment ready.\n",
    "\n",
    "If you don't already have one, you should also [create a documentation project](https://docs.validmind.ai/guide/create-your-first-documentation-project.html) on the ValidMind platform. You will use this project to upload your documentation and test results.\n",
    "\n",
    "## Install the client library\n"
   ]
  },
  {
   "cell_type": "code",
   "execution_count": 1,
   "metadata": {},
   "outputs": [],
   "source": [
    "# %pip install --upgrade validmind"
   ]
  },
  {
   "cell_type": "markdown",
   "metadata": {},
   "source": [
    "## Initialize the client library\n",
    "\n",
    "In a browser, go to the **Client Integration** page of your documentation project and click **Copy to clipboard** next to the code snippet. This code snippet gives you the API key, API secret, and project identifier to link your notebook to your documentation project.\n",
    "\n",
    "::: {.column-margin}\n",
    "::: {.callout-tip}\n",
    "This step requires a documentation project. [Learn how you can create one](https://docs.validmind.ai/guide/create-your-first-documentation-project.html).\n",
    ":::\n",
    ":::\n",
    "\n",
    "Next, replace this placeholder with your own code snippet:"
   ]
  },
  {
   "cell_type": "code",
   "execution_count": 2,
   "metadata": {},
   "outputs": [
    {
     "name": "stderr",
     "output_type": "stream",
     "text": [
      "2023-09-08 16:59:14,966 - INFO(validmind.api_client): Connected to ValidMind. Project: Sentiment Analysis GPT - Initial Validation (cllmzt1d000bhue8h9ibsrybh)\n"
     ]
    }
   ],
   "source": [
    "## Replace the code below with the code snippet from your project ## \n",
    "\n",
    "import validmind as vm\n",
    "  \n",
    "vm.init(\n",
    "    api_host = \"https://api.prod.validmind.ai/api/v1/tracking\",\n",
    "    api_key = \"...\",\n",
    "    api_secret = \"...\",\n",
    "    project = \"...\"\n",
    ")"
   ]
  },
  {
   "cell_type": "markdown",
   "metadata": {},
   "source": [
    "### Load Dataset\n",
    "\n",
    "In this section, we'll load the financial phrasebank dataset, which will be the foundation for our sentiment analysis tasks."
   ]
  },
  {
   "cell_type": "code",
   "execution_count": 3,
   "metadata": {},
   "outputs": [
    {
     "data": {
      "text/html": [
       "<div>\n",
       "<style scoped>\n",
       "    .dataframe tbody tr th:only-of-type {\n",
       "        vertical-align: middle;\n",
       "    }\n",
       "\n",
       "    .dataframe tbody tr th {\n",
       "        vertical-align: top;\n",
       "    }\n",
       "\n",
       "    .dataframe thead th {\n",
       "        text-align: right;\n",
       "    }\n",
       "</style>\n",
       "<table border=\"1\" class=\"dataframe\">\n",
       "  <thead>\n",
       "    <tr style=\"text-align: right;\">\n",
       "      <th></th>\n",
       "      <th>Sentiment</th>\n",
       "      <th>Sentence</th>\n",
       "    </tr>\n",
       "  </thead>\n",
       "  <tbody>\n",
       "    <tr>\n",
       "      <th>4501</th>\n",
       "      <td>positive</td>\n",
       "      <td>The company said it estimates to make a slight...</td>\n",
       "    </tr>\n",
       "    <tr>\n",
       "      <th>1591</th>\n",
       "      <td>neutral</td>\n",
       "      <td>Russia wants to utilise its huge forest reserv...</td>\n",
       "    </tr>\n",
       "    <tr>\n",
       "      <th>52</th>\n",
       "      <td>positive</td>\n",
       "      <td>Within the framework of the partnership , Noki...</td>\n",
       "    </tr>\n",
       "    <tr>\n",
       "      <th>2706</th>\n",
       "      <td>neutral</td>\n",
       "      <td>Work on the assignment has already started and...</td>\n",
       "    </tr>\n",
       "    <tr>\n",
       "      <th>4566</th>\n",
       "      <td>negative</td>\n",
       "      <td>Dealers said the share was largely hit by inve...</td>\n",
       "    </tr>\n",
       "    <tr>\n",
       "      <th>3621</th>\n",
       "      <td>neutral</td>\n",
       "      <td>In addition , the company is considering the s...</td>\n",
       "    </tr>\n",
       "    <tr>\n",
       "      <th>793</th>\n",
       "      <td>positive</td>\n",
       "      <td>When the situation normalises , the company wi...</td>\n",
       "    </tr>\n",
       "    <tr>\n",
       "      <th>2336</th>\n",
       "      <td>neutral</td>\n",
       "      <td>BasWare is headquartered in Espoo , Finland .</td>\n",
       "    </tr>\n",
       "    <tr>\n",
       "      <th>3211</th>\n",
       "      <td>neutral</td>\n",
       "      <td>The company will propose a dividend of EUR0 .1...</td>\n",
       "    </tr>\n",
       "    <tr>\n",
       "      <th>4527</th>\n",
       "      <td>neutral</td>\n",
       "      <td>Rosen was cautious about being too optimistic ...</td>\n",
       "    </tr>\n",
       "  </tbody>\n",
       "</table>\n",
       "</div>"
      ],
      "text/plain": [
       "     Sentiment                                           Sentence\n",
       "4501  positive  The company said it estimates to make a slight...\n",
       "1591   neutral  Russia wants to utilise its huge forest reserv...\n",
       "52    positive  Within the framework of the partnership , Noki...\n",
       "2706   neutral  Work on the assignment has already started and...\n",
       "4566  negative  Dealers said the share was largely hit by inve...\n",
       "3621   neutral  In addition , the company is considering the s...\n",
       "793   positive  When the situation normalises , the company wi...\n",
       "2336   neutral      BasWare is headquartered in Espoo , Finland .\n",
       "3211   neutral  The company will propose a dividend of EUR0 .1...\n",
       "4527   neutral  Rosen was cautious about being too optimistic ..."
      ]
     },
     "execution_count": 3,
     "metadata": {},
     "output_type": "execute_result"
    }
   ],
   "source": [
    "import pandas as pd\n",
    "\n",
    "df = pd.read_csv('./datasets/sentiments.csv')\n",
    "sample = df.sample(10)\n",
    "sample"
   ]
  },
  {
   "cell_type": "markdown",
   "metadata": {},
   "source": [
    "## NLP data quality tests\n",
    "\n",
    "Before we proceed with the analysis, it's crucial to ensure the quality of our NLP data. This section runs a data quality test plan to validate the data's integrity and suitability."
   ]
  },
  {
   "cell_type": "code",
   "execution_count": 4,
   "metadata": {},
   "outputs": [
    {
     "name": "stderr",
     "output_type": "stream",
     "text": [
      "2023-09-08 16:59:15,014 - INFO(validmind.client): The 'type' argument to init_dataset() argument is deprecated and no longer required.\n",
      "2023-09-08 16:59:15,014 - INFO(validmind.client): Pandas dataset detected. Initializing VM Dataset instance...\n"
     ]
    },
    {
     "data": {
      "application/vnd.jupyter.widget-view+json": {
       "model_id": "e98c3c86980a484baa4f2fc2789acbcb",
       "version_major": 2,
       "version_minor": 0
      },
      "text/plain": [
       "HBox(children=(Label(value='Running test plan...'), IntProgress(value=0, max=12)))"
      ]
     },
     "metadata": {},
     "output_type": "display_data"
    },
    {
     "name": "stderr",
     "output_type": "stream",
     "text": [
      "[nltk_data] Downloading package stopwords to\n",
      "[nltk_data]     /Users/andres/nltk_data...\n",
      "[nltk_data]   Package stopwords is already up-to-date!\n",
      "[nltk_data] Downloading package stopwords to\n",
      "[nltk_data]     /Users/andres/nltk_data...\n",
      "[nltk_data]   Package stopwords is already up-to-date!\n"
     ]
    },
    {
     "data": {
      "application/vnd.jupyter.widget-view+json": {
       "model_id": "563da2b2b5944438a712323b409434b5",
       "version_major": 2,
       "version_minor": 0
      },
      "text/plain": [
       "VBox(children=(HTML(value='<h2>Results for <i>Text Data Quality</i> Test Plan:</h2><hr>'), HTML(value='<div cl…"
      ]
     },
     "metadata": {},
     "output_type": "display_data"
    }
   ],
   "source": [
    "vm_ds = vm.init_dataset(dataset=df, type=\"generic\", text_column='Sentence', target_column=\"Sentiment\")\n",
    "text_data_test_plan = vm.run_test_plan(\"text_data_quality\",\n",
    "                                       dataset=vm_ds)"
   ]
  },
  {
   "cell_type": "markdown",
   "metadata": {},
   "source": [
    "## Hugging face transformers"
   ]
  },
  {
   "cell_type": "markdown",
   "metadata": {},
   "source": [
    "### Example model wrapper\n",
    "\n",
    "The following code template showcases how to wrap a Hugging Face model for compatibility with the ValidMind Developer Framework. We will load an example model using the transformers API and then run some predictions on our test dataset.\n",
    "\n",
    "The ValidMind developer framework provides support for Hugging Face transformers out of the box, so in the following section we will show how to initialize multiple transformers models with the `init_model` function, removing the need for a custom wrapper. In cases where you need extra pre-processing or post-processing steps, you can use the following code template as a starting point to wrap your model."
   ]
  },
  {
   "cell_type": "code",
   "execution_count": 5,
   "metadata": {},
   "outputs": [],
   "source": [
    "from transformers import pipeline\n",
    "from dataclasses import dataclass\n",
    "@dataclass\n",
    "\n",
    "class Sentiment_HuggingFace:\n",
    "    \"\"\"\n",
    "    A VM Model instance wrapper only requires a predict and predict_proba method.\n",
    "    \"\"\"\n",
    "\n",
    "    predicted_prob_values = None\n",
    "\n",
    "    def __init__(self, pipeline_task, model_name=None, model=None, tokenizer=None):\n",
    "        self.model_name = model_name\n",
    "        self.pipeline_task = pipeline_task\n",
    "        self.model = pipeline(pipeline_task, model=model, tokenizer=tokenizer)\n",
    "\n",
    "    def predict(self, data):\n",
    "        data = [str(datapoint) for datapoint in data]\n",
    "        results = []\n",
    "        results = self.model(data)\n",
    "        results_df = pd.DataFrame(results)\n",
    "        self.predicted_prob_values = results_df.score.values\n",
    "        return results_df.label.values\n",
    "\n",
    "    def predict_proba(self):\n",
    "        if self.predicted_prob_values is None:\n",
    "            raise ValueError(\"First run predict method to retrieve predicted probabilities\")\n",
    "        return self.predicted_prob_values\n"
   ]
  },
  {
   "cell_type": "code",
   "execution_count": 6,
   "metadata": {},
   "outputs": [
    {
     "data": {
      "text/html": [
       "<div>\n",
       "<style scoped>\n",
       "    .dataframe tbody tr th:only-of-type {\n",
       "        vertical-align: middle;\n",
       "    }\n",
       "\n",
       "    .dataframe tbody tr th {\n",
       "        vertical-align: top;\n",
       "    }\n",
       "\n",
       "    .dataframe thead th {\n",
       "        text-align: right;\n",
       "    }\n",
       "</style>\n",
       "<table border=\"1\" class=\"dataframe\">\n",
       "  <thead>\n",
       "    <tr style=\"text-align: right;\">\n",
       "      <th></th>\n",
       "      <th>Sentiment</th>\n",
       "      <th>Sentence</th>\n",
       "      <th>y_pred</th>\n",
       "      <th>y_pred_prob</th>\n",
       "    </tr>\n",
       "  </thead>\n",
       "  <tbody>\n",
       "    <tr>\n",
       "      <th>0</th>\n",
       "      <td>neutral</td>\n",
       "      <td>According to Gran , the company has no plans t...</td>\n",
       "      <td>neutral</td>\n",
       "      <td>0.988819</td>\n",
       "    </tr>\n",
       "    <tr>\n",
       "      <th>1</th>\n",
       "      <td>neutral</td>\n",
       "      <td>Technopolis plans to develop in stages an area...</td>\n",
       "      <td>neutral</td>\n",
       "      <td>0.999853</td>\n",
       "    </tr>\n",
       "    <tr>\n",
       "      <th>2</th>\n",
       "      <td>negative</td>\n",
       "      <td>The international electronic industry company ...</td>\n",
       "      <td>negative</td>\n",
       "      <td>0.999682</td>\n",
       "    </tr>\n",
       "    <tr>\n",
       "      <th>3</th>\n",
       "      <td>positive</td>\n",
       "      <td>With the new production plant the company woul...</td>\n",
       "      <td>positive</td>\n",
       "      <td>0.999855</td>\n",
       "    </tr>\n",
       "    <tr>\n",
       "      <th>4</th>\n",
       "      <td>positive</td>\n",
       "      <td>According to the company 's updated strategy f...</td>\n",
       "      <td>positive</td>\n",
       "      <td>0.999766</td>\n",
       "    </tr>\n",
       "    <tr>\n",
       "      <th>5</th>\n",
       "      <td>positive</td>\n",
       "      <td>FINANCING OF ASPOCOMP 'S GROWTH Aspocomp is ag...</td>\n",
       "      <td>positive</td>\n",
       "      <td>0.999806</td>\n",
       "    </tr>\n",
       "    <tr>\n",
       "      <th>6</th>\n",
       "      <td>positive</td>\n",
       "      <td>For the last quarter of 2010 , Componenta 's n...</td>\n",
       "      <td>positive</td>\n",
       "      <td>0.999853</td>\n",
       "    </tr>\n",
       "    <tr>\n",
       "      <th>7</th>\n",
       "      <td>positive</td>\n",
       "      <td>In the third quarter of 2010 , net sales incre...</td>\n",
       "      <td>positive</td>\n",
       "      <td>0.999842</td>\n",
       "    </tr>\n",
       "    <tr>\n",
       "      <th>8</th>\n",
       "      <td>positive</td>\n",
       "      <td>Operating profit rose to EUR 13.1 mn from EUR ...</td>\n",
       "      <td>positive</td>\n",
       "      <td>0.999813</td>\n",
       "    </tr>\n",
       "    <tr>\n",
       "      <th>9</th>\n",
       "      <td>positive</td>\n",
       "      <td>Operating profit totalled EUR 21.1 mn , up fro...</td>\n",
       "      <td>positive</td>\n",
       "      <td>0.999816</td>\n",
       "    </tr>\n",
       "  </tbody>\n",
       "</table>\n",
       "</div>"
      ],
      "text/plain": [
       "  Sentiment                                           Sentence    y_pred  \\\n",
       "0   neutral  According to Gran , the company has no plans t...   neutral   \n",
       "1   neutral  Technopolis plans to develop in stages an area...   neutral   \n",
       "2  negative  The international electronic industry company ...  negative   \n",
       "3  positive  With the new production plant the company woul...  positive   \n",
       "4  positive  According to the company 's updated strategy f...  positive   \n",
       "5  positive  FINANCING OF ASPOCOMP 'S GROWTH Aspocomp is ag...  positive   \n",
       "6  positive  For the last quarter of 2010 , Componenta 's n...  positive   \n",
       "7  positive  In the third quarter of 2010 , net sales incre...  positive   \n",
       "8  positive  Operating profit rose to EUR 13.1 mn from EUR ...  positive   \n",
       "9  positive  Operating profit totalled EUR 21.1 mn , up fro...  positive   \n",
       "\n",
       "   y_pred_prob  \n",
       "0     0.988819  \n",
       "1     0.999853  \n",
       "2     0.999682  \n",
       "3     0.999855  \n",
       "4     0.999766  \n",
       "5     0.999806  \n",
       "6     0.999853  \n",
       "7     0.999842  \n",
       "8     0.999813  \n",
       "9     0.999816  "
      ]
     },
     "execution_count": 6,
     "metadata": {},
     "output_type": "execute_result"
    }
   ],
   "source": [
    "from transformers import BertTokenizer, BertForSequenceClassification\n",
    "\n",
    "model = BertForSequenceClassification.from_pretrained(\"ahmedrachid/FinancialBERT-Sentiment-Analysis\",num_labels=3)\n",
    "tokenizer = BertTokenizer.from_pretrained(\"ahmedrachid/FinancialBERT-Sentiment-Analysis\")\n",
    "sentiment_model_hf = Sentiment_HuggingFace(\"sentiment-analysis\", model=model, tokenizer=tokenizer)\n",
    "\n",
    "df_test = df.head(15)\n",
    "\n",
    "y_pred = sentiment_model_hf.predict(df_test.Sentence.values.tolist())\n",
    "y_pred_prob = sentiment_model_hf.predict_proba()\n",
    "df_results = df_test.copy()\n",
    "df_results['y_pred'] = y_pred\n",
    "df_results['y_pred_prob'] = y_pred_prob\n",
    "df_results.head(10)"
   ]
  },
  {
   "cell_type": "markdown",
   "metadata": {},
   "source": [
    "## 1. Hugging Face: FinancialBERT-Sentiment-Analysis\n",
    "\n",
    "https://huggingface.co/ahmedrachid/FinancialBERT-Sentiment-Analysis\n",
    "\n",
    "Let's now explore integrating and testing FinancialBERT, a model designed specifically for sentiment analysis in the financial domain."
   ]
  },
  {
   "cell_type": "code",
   "execution_count": 7,
   "metadata": {},
   "outputs": [],
   "source": [
    "from transformers import BertTokenizer, BertForSequenceClassification\n",
    "from transformers import pipeline\n",
    "\n",
    "model = BertForSequenceClassification.from_pretrained(\"ahmedrachid/FinancialBERT-Sentiment-Analysis\",num_labels=3)\n",
    "tokenizer = BertTokenizer.from_pretrained(\"ahmedrachid/FinancialBERT-Sentiment-Analysis\")\n",
    "hfmodel = pipeline(\"sentiment-analysis\", model=model, tokenizer=tokenizer)\n"
   ]
  },
  {
   "cell_type": "markdown",
   "metadata": {},
   "source": [
    "### Initialize VM dataset"
   ]
  },
  {
   "cell_type": "code",
   "execution_count": 8,
   "metadata": {},
   "outputs": [
    {
     "name": "stderr",
     "output_type": "stream",
     "text": [
      "2023-09-08 16:59:24,152 - INFO(validmind.client): Pandas dataset detected. Initializing VM Dataset instance...\n"
     ]
    }
   ],
   "source": [
    "# Load a test dataset with 100 rows only\n",
    "vm_test_ds = vm.init_dataset(\n",
    "    dataset=df.head(100),\n",
    "    text_column=\"Sentence\",\n",
    "    target_column=\"Sentiment\",\n",
    ")"
   ]
  },
  {
   "cell_type": "markdown",
   "metadata": {},
   "source": [
    "### Initialize VM model\n",
    "\n",
    "When initializing a VM model, we pre-calculate predictions on the test dataset. This operation can take a long time for large datasets."
   ]
  },
  {
   "cell_type": "code",
   "execution_count": 9,
   "metadata": {},
   "outputs": [],
   "source": [
    "vm_model_1 = vm.init_model(\n",
    "    hfmodel,\n",
    "    test_ds=vm_test_ds,\n",
    ")"
   ]
  },
  {
   "cell_type": "code",
   "execution_count": 11,
   "metadata": {},
   "outputs": [
    {
     "data": {
      "application/vnd.jupyter.widget-view+json": {
       "model_id": "db101070c2754d738d420bd871cca9b2",
       "version_major": 2,
       "version_minor": 0
      },
      "text/plain": [
       "HBox(children=(Label(value='Running test suite...'), IntProgress(value=0, max=36)))"
      ]
     },
     "metadata": {},
     "output_type": "display_data"
    },
    {
     "name": "stderr",
     "output_type": "stream",
     "text": [
      "2023-09-08 16:59:29,363 - ERROR(validmind.vm_models.test_plan): Failed to run test 'classifier_in_sample_performance': (MissingRequiredTestContextError) Model Training Dataset 'model.train_ds' is a required input and must be passed as a keyword argument to the test plan\n",
      "2023-09-08 16:59:29,370 - ERROR(validmind.vm_models.test_plan): Failed to run test 'pfi': (MissingRequiredTestContextError) Model Training Dataset 'model.train_ds' is a required input and must be passed as a keyword argument to the test plan\n",
      "2023-09-08 16:59:34,443 - ERROR(validmind.vm_models.test_plan): Failed to run test 'pr_curve': (SkipTestError) Precision Recall Curve is only supported for binary classification models\n",
      "2023-09-08 16:59:39,030 - ERROR(validmind.vm_models.test_plan): Failed to run test 'roc_curve': (SkipTestError) ROC Curve is only supported for binary classification models\n",
      "2023-09-08 16:59:39,030 - ERROR(validmind.vm_models.test_plan): Failed to run test 'psi': (MissingRequiredTestContextError) Model Training Dataset 'model.train_ds' is a required input and must be passed as a keyword argument to the test plan\n",
      "2023-09-08 16:59:39,031 - INFO(validmind.tests.model_validation.sklearn.SHAPGlobalImportance): Skiping SHAP for transformers models\n",
      "2023-09-08 16:59:39,031 - INFO(validmind.tests.model_validation.sklearn.SHAPGlobalImportance): Skiping SHAP for transformers models\n",
      "2023-09-08 16:59:40,138 - ERROR(validmind.vm_models.test_plan): Failed to run test 'training_test_degradation': (MissingRequiredTestContextError) Model Training Dataset 'model.train_ds' is a required input and must be passed as a keyword argument to the test plan\n",
      "2023-09-08 16:59:40,575 - ERROR(validmind.vm_models.test_plan): Failed to run test 'overfit_regions': (MissingRequiredTestContextError) Model Training Dataset 'model.train_ds' is a required input and must be passed as a keyword argument to the test plan\n",
      "2023-09-08 16:59:40,577 - ERROR(validmind.vm_models.test_plan): Failed to run test 'weak_spots': (MissingRequiredTestContextError) Model Training Dataset 'model.train_ds' is a required input and must be passed as a keyword argument to the test plan\n",
      "2023-09-08 16:59:40,578 - ERROR(validmind.vm_models.test_plan): Failed to run test 'robustness': (MissingRequiredTestContextError) Model Training Dataset 'model.train_ds' is a required input and must be passed as a keyword argument to the test plan\n"
     ]
    },
    {
     "data": {
      "application/vnd.jupyter.widget-view+json": {
       "model_id": "6794948337944df6aef4ef8364f507ca",
       "version_major": 2,
       "version_minor": 0
      },
      "text/plain": [
       "VBox(children=(HTML(value='<h2>Test Suite Results: <i style=\"color: #DE257E\">Classifier Model Validation</i></…"
      ]
     },
     "metadata": {},
     "output_type": "display_data"
    }
   ],
   "source": [
    "# Some errors are expected since some classifier metrics are not applicable to all models\n",
    "full_suite = vm.run_test_suite(\n",
    "    \"classifier_model_validation\",\n",
    "    dataset=vm_test_ds,\n",
    "    model=vm_model_1,\n",
    ")"
   ]
  },
  {
   "cell_type": "markdown",
   "metadata": {},
   "source": [
    "## 2. Hugging Face: distilroberta-finetuned-financial-news-sentiment-analysis\n",
    "\n",
    "https://huggingface.co/mrm8488/distilroberta-finetuned-financial-news-sentiment-analysis\n",
    "\n",
    "The distilroberta model was fine-tuned on the phrasebank dataset: https://huggingface.co/datasets/financial_phrasebank."
   ]
  },
  {
   "cell_type": "code",
   "execution_count": 12,
   "metadata": {},
   "outputs": [],
   "source": [
    "from transformers import AutoTokenizer, AutoModelForSequenceClassification\n",
    "\n",
    "tokenizer = AutoTokenizer.from_pretrained(\"mrm8488/distilroberta-finetuned-financial-news-sentiment-analysis\")\n",
    "model = AutoModelForSequenceClassification.from_pretrained(\"mrm8488/distilroberta-finetuned-financial-news-sentiment-analysis\")\n",
    "hfmodel = pipeline(\"sentiment-analysis\", model=model, tokenizer=tokenizer)\n"
   ]
  },
  {
   "cell_type": "markdown",
   "metadata": {},
   "source": [
    "### Initialize VM model"
   ]
  },
  {
   "cell_type": "code",
   "execution_count": 13,
   "metadata": {},
   "outputs": [],
   "source": [
    "vm_model_2 = vm.init_model(\n",
    "    hfmodel,\n",
    "    test_ds=vm_test_ds,\n",
    ")"
   ]
  },
  {
   "cell_type": "code",
   "execution_count": 14,
   "metadata": {},
   "outputs": [
    {
     "data": {
      "application/vnd.jupyter.widget-view+json": {
       "model_id": "a46681d7406445d191667d5184f01844",
       "version_major": 2,
       "version_minor": 0
      },
      "text/plain": [
       "HBox(children=(Label(value='Running test suite...'), IntProgress(value=0, max=36)))"
      ]
     },
     "metadata": {},
     "output_type": "display_data"
    },
    {
     "name": "stderr",
     "output_type": "stream",
     "text": [
      "2023-09-08 16:59:44,632 - ERROR(validmind.vm_models.test_plan): Failed to run test 'classifier_in_sample_performance': (MissingRequiredTestContextError) Model Training Dataset 'model.train_ds' is a required input and must be passed as a keyword argument to the test plan\n",
      "2023-09-08 16:59:44,639 - ERROR(validmind.vm_models.test_plan): Failed to run test 'pfi': (MissingRequiredTestContextError) Model Training Dataset 'model.train_ds' is a required input and must be passed as a keyword argument to the test plan\n",
      "2023-09-08 16:59:46,802 - ERROR(validmind.vm_models.test_plan): Failed to run test 'pr_curve': (SkipTestError) Precision Recall Curve is only supported for binary classification models\n",
      "2023-09-08 16:59:48,990 - ERROR(validmind.vm_models.test_plan): Failed to run test 'roc_curve': (SkipTestError) ROC Curve is only supported for binary classification models\n",
      "2023-09-08 16:59:48,991 - ERROR(validmind.vm_models.test_plan): Failed to run test 'psi': (MissingRequiredTestContextError) Model Training Dataset 'model.train_ds' is a required input and must be passed as a keyword argument to the test plan\n",
      "2023-09-08 16:59:48,992 - INFO(validmind.tests.model_validation.sklearn.SHAPGlobalImportance): Skiping SHAP for transformers models\n",
      "2023-09-08 16:59:48,992 - INFO(validmind.tests.model_validation.sklearn.SHAPGlobalImportance): Skiping SHAP for transformers models\n",
      "2023-09-08 16:59:50,009 - ERROR(validmind.vm_models.test_plan): Failed to run test 'training_test_degradation': (MissingRequiredTestContextError) Model Training Dataset 'model.train_ds' is a required input and must be passed as a keyword argument to the test plan\n",
      "2023-09-08 16:59:50,326 - ERROR(validmind.vm_models.test_plan): Failed to run test 'overfit_regions': (MissingRequiredTestContextError) Model Training Dataset 'model.train_ds' is a required input and must be passed as a keyword argument to the test plan\n",
      "2023-09-08 16:59:50,328 - ERROR(validmind.vm_models.test_plan): Failed to run test 'weak_spots': (MissingRequiredTestContextError) Model Training Dataset 'model.train_ds' is a required input and must be passed as a keyword argument to the test plan\n",
      "2023-09-08 16:59:50,328 - ERROR(validmind.vm_models.test_plan): Failed to run test 'robustness': (MissingRequiredTestContextError) Model Training Dataset 'model.train_ds' is a required input and must be passed as a keyword argument to the test plan\n"
     ]
    },
    {
     "data": {
      "application/vnd.jupyter.widget-view+json": {
       "model_id": "e05a55d945d54c3f856c8390ea68b8c1",
       "version_major": 2,
       "version_minor": 0
      },
      "text/plain": [
       "VBox(children=(HTML(value='<h2>Test Suite Results: <i style=\"color: #DE257E\">Classifier Model Validation</i></…"
      ]
     },
     "metadata": {},
     "output_type": "display_data"
    }
   ],
   "source": [
    "full_suite = vm.run_test_suite(\n",
    "    \"classifier_model_validation\",\n",
    "    dataset=vm_test_ds,\n",
    "    model=vm_model_2,\n",
    "    models=[vm_model_1]\n",
    "\n",
    ")"
   ]
  },
  {
   "cell_type": "markdown",
   "metadata": {},
   "source": [
    "## 3. Hugging Face: financial-roberta-large-sentiment\n",
    "\n",
    "https://huggingface.co/soleimanian/financial-roberta-large-sentiment\n",
    "\n",
    "The financial-roberta-large model is another financial sentiment analysis model trained on large amounts of data including:\n",
    "\n",
    "- Financial Statements\n",
    "- Earnings Announcements\n",
    "- Earnings Call Transcripts\n",
    "- Corporate Social Responsibility (CSR) Reports\n",
    "- Environmental, Social, and Governance (ESG) News\n",
    "- Financial News\n",
    "- Etc."
   ]
  },
  {
   "cell_type": "code",
   "execution_count": 15,
   "metadata": {},
   "outputs": [],
   "source": [
    "# Load model directly\n",
    "from transformers import AutoTokenizer, AutoModelForSequenceClassification\n",
    "\n",
    "tokenizer = AutoTokenizer.from_pretrained(\"soleimanian/financial-roberta-large-sentiment\")\n",
    "model = AutoModelForSequenceClassification.from_pretrained(\"soleimanian/financial-roberta-large-sentiment\")\n",
    "hfmodel = pipeline(\"sentiment-analysis\", model=model, tokenizer=tokenizer)\n"
   ]
  },
  {
   "cell_type": "code",
   "execution_count": 16,
   "metadata": {},
   "outputs": [],
   "source": [
    "vm_model_3 = vm.init_model(\n",
    "    hfmodel,\n",
    "    test_ds=vm_test_ds,\n",
    ")"
   ]
  },
  {
   "cell_type": "code",
   "execution_count": 17,
   "metadata": {},
   "outputs": [
    {
     "data": {
      "application/vnd.jupyter.widget-view+json": {
       "model_id": "b749b109e19d4ec3b406bf5de6ef03be",
       "version_major": 2,
       "version_minor": 0
      },
      "text/plain": [
       "HBox(children=(Label(value='Running test suite...'), IntProgress(value=0, max=36)))"
      ]
     },
     "metadata": {},
     "output_type": "display_data"
    },
    {
     "name": "stderr",
     "output_type": "stream",
     "text": [
      "2023-09-08 17:00:08,942 - ERROR(validmind.vm_models.test_plan): Failed to run test 'classifier_in_sample_performance': (MissingRequiredTestContextError) Model Training Dataset 'model.train_ds' is a required input and must be passed as a keyword argument to the test plan\n",
      "2023-09-08 17:00:08,954 - ERROR(validmind.vm_models.test_plan): Failed to run test 'pfi': (MissingRequiredTestContextError) Model Training Dataset 'model.train_ds' is a required input and must be passed as a keyword argument to the test plan\n",
      "2023-09-08 17:00:23,020 - ERROR(validmind.vm_models.test_plan): Failed to run test 'pr_curve': (SkipTestError) Precision Recall Curve is only supported for binary classification models\n",
      "2023-09-08 17:00:37,171 - ERROR(validmind.vm_models.test_plan): Failed to run test 'roc_curve': (SkipTestError) ROC Curve is only supported for binary classification models\n",
      "2023-09-08 17:00:37,172 - ERROR(validmind.vm_models.test_plan): Failed to run test 'psi': (MissingRequiredTestContextError) Model Training Dataset 'model.train_ds' is a required input and must be passed as a keyword argument to the test plan\n",
      "2023-09-08 17:00:37,172 - INFO(validmind.tests.model_validation.sklearn.SHAPGlobalImportance): Skiping SHAP for transformers models\n",
      "2023-09-08 17:00:37,172 - INFO(validmind.tests.model_validation.sklearn.SHAPGlobalImportance): Skiping SHAP for transformers models\n",
      "2023-09-08 17:00:38,237 - ERROR(validmind.vm_models.test_plan): Failed to run test 'training_test_degradation': (MissingRequiredTestContextError) Model Training Dataset 'model.train_ds' is a required input and must be passed as a keyword argument to the test plan\n",
      "2023-09-08 17:00:38,586 - ERROR(validmind.vm_models.test_plan): Failed to run test 'overfit_regions': (MissingRequiredTestContextError) Model Training Dataset 'model.train_ds' is a required input and must be passed as a keyword argument to the test plan\n",
      "2023-09-08 17:00:38,589 - ERROR(validmind.vm_models.test_plan): Failed to run test 'weak_spots': (MissingRequiredTestContextError) Model Training Dataset 'model.train_ds' is a required input and must be passed as a keyword argument to the test plan\n",
      "2023-09-08 17:00:38,589 - ERROR(validmind.vm_models.test_plan): Failed to run test 'robustness': (MissingRequiredTestContextError) Model Training Dataset 'model.train_ds' is a required input and must be passed as a keyword argument to the test plan\n"
     ]
    },
    {
     "data": {
      "application/vnd.jupyter.widget-view+json": {
       "model_id": "b8ee2bab3a36498da1a03887f5cbd686",
       "version_major": 2,
       "version_minor": 0
      },
      "text/plain": [
       "VBox(children=(HTML(value='<h2>Test Suite Results: <i style=\"color: #DE257E\">Classifier Model Validation</i></…"
      ]
     },
     "metadata": {},
     "output_type": "display_data"
    }
   ],
   "source": [
    "full_suite = vm.run_test_suite(\n",
    "    \"classifier_model_validation\",\n",
    "    dataset=vm_test_ds,\n",
    "    model=vm_model_3,\n",
    "    models=[vm_model_1, vm_model_2]\n",
    ")"
   ]
  }
 ],
 "metadata": {
  "kernelspec": {
   "display_name": "Dev Framework 3.9.16",
   "language": "python",
   "name": "dev-framework-3.9"
  },
  "language_info": {
   "codemirror_mode": {
    "name": "ipython",
    "version": 3
   },
   "file_extension": ".py",
   "mimetype": "text/x-python",
   "name": "python",
   "nbconvert_exporter": "python",
   "pygments_lexer": "ipython3",
   "version": "3.9.16"
  },
  "orig_nbformat": 4
 },
 "nbformat": 4,
 "nbformat_minor": 2
}
