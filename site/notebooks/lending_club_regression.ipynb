{
 "cells": [
  {
   "attachments": {},
   "cell_type": "markdown",
   "metadata": {},
   "source": [
    "# Lending club regression"
   ]
  },
  {
   "cell_type": "markdown",
   "metadata": {},
   "source": [
    "## Environment Preparation\n",
    "\n",
    "* Load the SDK code from the local package directory\n",
    "* Load the API key and secret in the .env file"
   ]
  },
  {
   "cell_type": "code",
   "execution_count": 1,
   "metadata": {},
   "outputs": [
    {
     "data": {
      "text/plain": [
       "True"
      ]
     },
     "execution_count": 1,
     "metadata": {},
     "output_type": "execute_result"
    }
   ],
   "source": [
    "# Quick hack to load local SDK code\n",
    "import os\n",
    "\n",
    "os.chdir(os.path.join(os.getcwd(), \"..\"))\n",
    "\n",
    "# Load API key and secret from environment variables\n",
    "from dotenv import load_dotenv\n",
    "load_dotenv()"
   ]
  },
  {
   "cell_type": "markdown",
   "metadata": {},
   "source": [
    "## ValidMind SDK Introduction"
   ]
  },
  {
   "cell_type": "code",
   "execution_count": 2,
   "metadata": {},
   "outputs": [],
   "source": [
    "import matplotlib.pyplot as plt\n",
    "import pandas as pd\n",
    "import seaborn as sns\n",
    "import xgboost as xgb\n",
    "\n",
    "from sklearn.metrics import accuracy_score\n",
    "from sklearn.model_selection import train_test_split\n",
    "\n",
    "pd.options.display.max_rows = None"
   ]
  },
  {
   "cell_type": "code",
   "execution_count": 3,
   "metadata": {},
   "outputs": [],
   "source": [
    "# Initialize ValidMind SDK\n",
    "import validmind as vm\n",
    "\n",
    "# For test environment use api_host=\"https://api.test.vm.validmind.ai/api/v1/tracking\"\n",
    "# vm.init(project=\"cl2r3k1ri000009jweny7ba1g\")"
   ]
  },
  {
   "cell_type": "code",
   "execution_count": 4,
   "metadata": {},
   "outputs": [
    {
     "name": "stderr",
     "output_type": "stream",
     "text": [
      "Columns (21,49) have mixed types.Specify dtype option on import or set low_memory=False.\n"
     ]
    }
   ],
   "source": [
    "df = pd.read_csv(\"./notebooks/datasets/_temp/loan_data_2007_2014_preprocessed.csv\")\n",
    "\n",
    "# targets = vm.DatasetTargets(\n",
    "#     target_column=\"loan_status\",\n",
    "#     class_labels={\n",
    "#         \"Fully Paid\": \"Fully Paid\",\n",
    "#         \"Charged Off\": \"Charged Off\",\n",
    "#     }\n",
    "# )\n",
    "\n",
    "# vm_dataset = vm.log_dataset(df, \"training\", analyze=True, targets=targets)"
   ]
  },
  {
   "cell_type": "code",
   "execution_count": 5,
   "metadata": {},
   "outputs": [],
   "source": [
    "loan_data_defaults = df[df['loan_status'].isin(['Charged Off','Does not meet the credit policy. Status:Charged Off'])]"
   ]
  },
  {
   "cell_type": "code",
   "execution_count": 6,
   "metadata": {},
   "outputs": [
    {
     "data": {
      "text/plain": [
       "(43236, 209)"
      ]
     },
     "execution_count": 6,
     "metadata": {},
     "output_type": "execute_result"
    }
   ],
   "source": [
    "loan_data_defaults.shape"
   ]
  },
  {
   "cell_type": "code",
   "execution_count": 7,
   "metadata": {},
   "outputs": [
    {
     "name": "stderr",
     "output_type": "stream",
     "text": [
      "\n",
      "A value is trying to be set on a copy of a slice from a DataFrame\n",
      "\n",
      "See the caveats in the documentation: https://pandas.pydata.org/pandas-docs/stable/user_guide/indexing.html#returning-a-view-versus-a-copy\n"
     ]
    }
   ],
   "source": [
    "loan_data_defaults['mths_since_last_delinq'].fillna(0, inplace=True)\n",
    "loan_data_defaults['mths_since_last_record'].fillna(0, inplace=True)"
   ]
  },
  {
   "cell_type": "code",
   "execution_count": 8,
   "metadata": {},
   "outputs": [
    {
     "name": "stderr",
     "output_type": "stream",
     "text": [
      "\n",
      "A value is trying to be set on a copy of a slice from a DataFrame.\n",
      "Try using .loc[row_indexer,col_indexer] = value instead\n",
      "\n",
      "See the caveats in the documentation: https://pandas.pydata.org/pandas-docs/stable/user_guide/indexing.html#returning-a-view-versus-a-copy\n"
     ]
    }
   ],
   "source": [
    "# We calculate the dependent variable for the EAD model: credit conversion factor.\n",
    "# It is the ratio of the difference of the amount used at the moment of default to the total funded amount.\n",
    "loan_data_defaults['CCF'] = (loan_data_defaults['funded_amnt'] - loan_data_defaults['total_rec_prncp']) / loan_data_defaults['funded_amnt']"
   ]
  },
  {
   "cell_type": "code",
   "execution_count": 9,
   "metadata": {},
   "outputs": [
    {
     "data": {
      "text/plain": [
       "count    43236.000000\n",
       "mean         0.735952\n",
       "std          0.200742\n",
       "min          0.000438\n",
       "25%          0.632088\n",
       "50%          0.789908\n",
       "75%          0.888543\n",
       "max          1.000000\n",
       "Name: CCF, dtype: float64"
      ]
     },
     "execution_count": 9,
     "metadata": {},
     "output_type": "execute_result"
    }
   ],
   "source": [
    "loan_data_defaults['CCF'].describe()"
   ]
  },
  {
   "cell_type": "code",
   "execution_count": 10,
   "metadata": {},
   "outputs": [
    {
     "data": {
      "text/plain": [
       "(array([   3.,   17.,   16.,   44.,   16.,   13.,   71.,   26.,    7.,\n",
       "          63.,   67.,   17.,   60.,   90.,   23.,   55.,   82.,   42.,\n",
       "          47.,  123.,   82.,   70.,  122.,   86.,   89.,  110.,  117.,\n",
       "         111.,  122.,  120.,  135.,  141.,  154.,  146.,  160.,  175.,\n",
       "         152.,  187.,  202.,  174.,  204.,  208.,  210.,  211.,  241.,\n",
       "         264.,  281.,  224.,  308.,  267.,  287.,  296.,  340.,  274.,\n",
       "         365.,  370.,  392.,  364.,  393.,  419.,  411.,  429.,  445.,\n",
       "         497.,  481.,  478.,  569.,  568.,  599.,  618.,  727.,  691.,\n",
       "         626.,  805.,  804.,  776.,  881.,  851.,  916.,  934.,  925.,\n",
       "        1078.,  933., 1218., 1041., 1082., 1336., 1040., 1374., 1073.,\n",
       "        1406., 1287.,  952., 1414.,  795., 1320.,  578.,  949.,  343.,\n",
       "         531.]),\n",
       " array([4.3800000e-04, 1.0433620e-02, 2.0429240e-02, 3.0424860e-02,\n",
       "        4.0420480e-02, 5.0416100e-02, 6.0411720e-02, 7.0407340e-02,\n",
       "        8.0402960e-02, 9.0398580e-02, 1.0039420e-01, 1.1038982e-01,\n",
       "        1.2038544e-01, 1.3038106e-01, 1.4037668e-01, 1.5037230e-01,\n",
       "        1.6036792e-01, 1.7036354e-01, 1.8035916e-01, 1.9035478e-01,\n",
       "        2.0035040e-01, 2.1034602e-01, 2.2034164e-01, 2.3033726e-01,\n",
       "        2.4033288e-01, 2.5032850e-01, 2.6032412e-01, 2.7031974e-01,\n",
       "        2.8031536e-01, 2.9031098e-01, 3.0030660e-01, 3.1030222e-01,\n",
       "        3.2029784e-01, 3.3029346e-01, 3.4028908e-01, 3.5028470e-01,\n",
       "        3.6028032e-01, 3.7027594e-01, 3.8027156e-01, 3.9026718e-01,\n",
       "        4.0026280e-01, 4.1025842e-01, 4.2025404e-01, 4.3024966e-01,\n",
       "        4.4024528e-01, 4.5024090e-01, 4.6023652e-01, 4.7023214e-01,\n",
       "        4.8022776e-01, 4.9022338e-01, 5.0021900e-01, 5.1021462e-01,\n",
       "        5.2021024e-01, 5.3020586e-01, 5.4020148e-01, 5.5019710e-01,\n",
       "        5.6019272e-01, 5.7018834e-01, 5.8018396e-01, 5.9017958e-01,\n",
       "        6.0017520e-01, 6.1017082e-01, 6.2016644e-01, 6.3016206e-01,\n",
       "        6.4015768e-01, 6.5015330e-01, 6.6014892e-01, 6.7014454e-01,\n",
       "        6.8014016e-01, 6.9013578e-01, 7.0013140e-01, 7.1012702e-01,\n",
       "        7.2012264e-01, 7.3011826e-01, 7.4011388e-01, 7.5010950e-01,\n",
       "        7.6010512e-01, 7.7010074e-01, 7.8009636e-01, 7.9009198e-01,\n",
       "        8.0008760e-01, 8.1008322e-01, 8.2007884e-01, 8.3007446e-01,\n",
       "        8.4007008e-01, 8.5006570e-01, 8.6006132e-01, 8.7005694e-01,\n",
       "        8.8005256e-01, 8.9004818e-01, 9.0004380e-01, 9.1003942e-01,\n",
       "        9.2003504e-01, 9.3003066e-01, 9.4002628e-01, 9.5002190e-01,\n",
       "        9.6001752e-01, 9.7001314e-01, 9.8000876e-01, 9.9000438e-01,\n",
       "        1.0000000e+00]),\n",
       " <BarContainer object of 100 artists>)"
      ]
     },
     "execution_count": 10,
     "metadata": {},
     "output_type": "execute_result"
    },
    {
     "data": {
      "image/png": "[encoded data removed]",
      "text/plain": [
       "<Figure size 432x288 with 1 Axes>"
      ]
     },
     "metadata": {
      "needs_background": "light"
     },
     "output_type": "display_data"
    }
   ],
   "source": [
    "plt.hist(loan_data_defaults['CCF'], bins = 100)"
   ]
  },
  {
   "cell_type": "code",
   "execution_count": 11,
   "metadata": {},
   "outputs": [],
   "source": [
    "ead_inputs_train, ead_inputs_test, ead_targets_train, ead_targets_test = train_test_split(loan_data_defaults.drop(['good_bad', 'CCF'], axis = 1), loan_data_defaults['CCF'], test_size = 0.2, random_state = 42)"
   ]
  },
  {
   "cell_type": "code",
   "execution_count": 12,
   "metadata": {},
   "outputs": [],
   "source": [
    "features_all = ['grade:A',\n",
    "'grade:B',\n",
    "'grade:C',\n",
    "'grade:D',\n",
    "'grade:E',\n",
    "'grade:F',\n",
    "'grade:G',\n",
    "'home_ownership:MORTGAGE',\n",
    "'home_ownership:NONE',\n",
    "'home_ownership:OTHER',\n",
    "'home_ownership:OWN',\n",
    "'home_ownership:RENT',\n",
    "'verification_status:Not Verified',\n",
    "'verification_status:Source Verified',\n",
    "'verification_status:Verified',\n",
    "'purpose:car',\n",
    "'purpose:credit_card',\n",
    "'purpose:debt_consolidation',\n",
    "'purpose:educational',\n",
    "'purpose:home_improvement',\n",
    "'purpose:house',\n",
    "'purpose:major_purchase',\n",
    "'purpose:medical',\n",
    "'purpose:moving',\n",
    "'purpose:other',\n",
    "'purpose:renewable_energy',\n",
    "'purpose:small_business',\n",
    "'purpose:vacation',\n",
    "'purpose:wedding',\n",
    "'initial_list_status:f',\n",
    "'initial_list_status:w',\n",
    "'term_int',\n",
    "'emp_length_int',\n",
    "'mths_since_issue_d',\n",
    "'mths_since_earliest_cr_line',\n",
    "'funded_amnt',\n",
    "'int_rate',\n",
    "'installment',\n",
    "'annual_inc',\n",
    "'dti',\n",
    "'delinq_2yrs',\n",
    "'inq_last_6mths',\n",
    "'mths_since_last_delinq',\n",
    "'mths_since_last_record',\n",
    "'open_acc',\n",
    "'pub_rec',\n",
    "'total_acc',\n",
    "'acc_now_delinq',\n",
    "'total_rev_hi_lim']\n",
    "# List of all independent variables for the models."
   ]
  },
  {
   "cell_type": "code",
   "execution_count": 13,
   "metadata": {},
   "outputs": [],
   "source": [
    "features_reference_cat = ['grade:G',\n",
    "'home_ownership:RENT',\n",
    "'verification_status:Verified',\n",
    "'purpose:credit_card',\n",
    "'initial_list_status:f']\n",
    "# List of the dummy variable reference categories. "
   ]
  },
  {
   "cell_type": "code",
   "execution_count": 14,
   "metadata": {},
   "outputs": [],
   "source": [
    "ead_inputs_train = ead_inputs_train[features_all]"
   ]
  },
  {
   "cell_type": "code",
   "execution_count": 15,
   "metadata": {},
   "outputs": [],
   "source": [
    "ead_inputs_train = ead_inputs_train.drop(features_reference_cat, axis = 1)\n",
    "# Here we remove the dummy variable reference categories."
   ]
  },
  {
   "cell_type": "code",
   "execution_count": 16,
   "metadata": {},
   "outputs": [],
   "source": [
    "from sklearn import linear_model\n",
    "from sklearn.metrics import mean_squared_error, r2_score\n",
    "\n",
    "import numpy as np\n",
    "import scipy.stats as stat"
   ]
  },
  {
   "cell_type": "code",
   "execution_count": 17,
   "metadata": {},
   "outputs": [],
   "source": [
    "class LinearRegression(linear_model.LinearRegression):\n",
    "    \"\"\"\n",
    "    LinearRegression class after sklearn's, but calculate t-statistics\n",
    "    and p-values for model coefficients (betas).\n",
    "    Additional attributes available after .fit()\n",
    "    are `t` and `p` which are of the shape (y.shape[1], X.shape[1])\n",
    "    which is (n_features, n_coefs)\n",
    "    This class sets the intercept to 0 by default, since usually we include it\n",
    "    in X.\n",
    "    \"\"\"\n",
    "    \n",
    "    # nothing changes in __init__\n",
    "    def __init__(self, fit_intercept=True, normalize=False, copy_X=True,\n",
    "                 n_jobs=1, positive=False):\n",
    "        self.fit_intercept = fit_intercept\n",
    "        self.normalize = normalize\n",
    "        self.copy_X = copy_X\n",
    "        self.n_jobs = n_jobs\n",
    "        self.positive = positive\n",
    "\n",
    "    \n",
    "    def fit(self, X, y, n_jobs=1):\n",
    "        self = super(LinearRegression, self).fit(X, y, n_jobs)\n",
    "        \n",
    "        # Calculate SSE (sum of squared errors)\n",
    "        # and SE (standard error)\n",
    "        sse = np.sum((self.predict(X) - y) ** 2, axis=0) / float(X.shape[0] - X.shape[1])\n",
    "        se = np.array([np.sqrt(np.diagonal(sse * np.linalg.inv(np.dot(X.T, X))))])\n",
    "\n",
    "        # compute the t-statistic for each feature\n",
    "        self.t = self.coef_ / se\n",
    "        # find the p-value for each feature\n",
    "        self.p = np.squeeze(2 * (1 - stat.t.cdf(np.abs(self.t), y.shape[0] - X.shape[1])))\n",
    "        return self"
   ]
  },
  {
   "cell_type": "code",
   "execution_count": 18,
   "metadata": {},
   "outputs": [
    {
     "name": "stderr",
     "output_type": "stream",
     "text": [
      "'normalize' was deprecated in version 1.0 and will be removed in 1.2. Please leave the normalize parameter to its default value to silence this warning. The default behavior of this estimator is to not do any normalization. If normalization is needed please use sklearn.preprocessing.StandardScaler instead.\n"
     ]
    },
    {
     "data": {
      "text/plain": [
       "LinearRegression()"
      ]
     },
     "execution_count": 18,
     "metadata": {},
     "output_type": "execute_result"
    }
   ],
   "source": [
    "reg_ead = LinearRegression()\n",
    "# We create an instance of an object from the 'LogisticRegression' class.\n",
    "reg_ead.fit(ead_inputs_train, ead_targets_train)\n",
    "# Estimates the coefficients of the object from the 'LogisticRegression' class\n",
    "# with inputs (independent variables) contained in the first dataframe\n",
    "# and targets (dependent variables) contained in the second dataframe."
   ]
  },
  {
   "cell_type": "code",
   "execution_count": 19,
   "metadata": {},
   "outputs": [],
   "source": [
    "feature_name = ead_inputs_train.columns.values"
   ]
  },
  {
   "cell_type": "code",
   "execution_count": 20,
   "metadata": {},
   "outputs": [
    {
     "data": {
      "text/html": [
       "<div>\n",
       "<style scoped>\n",
       "    .dataframe tbody tr th:only-of-type {\n",
       "        vertical-align: middle;\n",
       "    }\n",
       "\n",
       "    .dataframe tbody tr th {\n",
       "        vertical-align: top;\n",
       "    }\n",
       "\n",
       "    .dataframe thead th {\n",
       "        text-align: right;\n",
       "    }\n",
       "</style>\n",
       "<table border=\"1\" class=\"dataframe\">\n",
       "  <thead>\n",
       "    <tr style=\"text-align: right;\">\n",
       "      <th></th>\n",
       "      <th>Feature name</th>\n",
       "      <th>Coefficients</th>\n",
       "      <th>p_values</th>\n",
       "    </tr>\n",
       "  </thead>\n",
       "  <tbody>\n",
       "    <tr>\n",
       "      <th>0</th>\n",
       "      <td>Intercept</td>\n",
       "      <td>1.109746e+00</td>\n",
       "      <td>NaN</td>\n",
       "    </tr>\n",
       "    <tr>\n",
       "      <th>1</th>\n",
       "      <td>grade:A</td>\n",
       "      <td>-3.030033e-01</td>\n",
       "      <td>0.000000e+00</td>\n",
       "    </tr>\n",
       "    <tr>\n",
       "      <th>2</th>\n",
       "      <td>grade:B</td>\n",
       "      <td>-2.364277e-01</td>\n",
       "      <td>0.000000e+00</td>\n",
       "    </tr>\n",
       "    <tr>\n",
       "      <th>3</th>\n",
       "      <td>grade:C</td>\n",
       "      <td>-1.720232e-01</td>\n",
       "      <td>0.000000e+00</td>\n",
       "    </tr>\n",
       "    <tr>\n",
       "      <th>4</th>\n",
       "      <td>grade:D</td>\n",
       "      <td>-1.198470e-01</td>\n",
       "      <td>0.000000e+00</td>\n",
       "    </tr>\n",
       "    <tr>\n",
       "      <th>5</th>\n",
       "      <td>grade:E</td>\n",
       "      <td>-6.768713e-02</td>\n",
       "      <td>0.000000e+00</td>\n",
       "    </tr>\n",
       "    <tr>\n",
       "      <th>6</th>\n",
       "      <td>grade:F</td>\n",
       "      <td>-2.045907e-02</td>\n",
       "      <td>4.428795e-03</td>\n",
       "    </tr>\n",
       "    <tr>\n",
       "      <th>7</th>\n",
       "      <td>home_ownership:MORTGAGE</td>\n",
       "      <td>-6.343341e-03</td>\n",
       "      <td>2.632464e-03</td>\n",
       "    </tr>\n",
       "    <tr>\n",
       "      <th>8</th>\n",
       "      <td>home_ownership:NONE</td>\n",
       "      <td>-5.539064e-03</td>\n",
       "      <td>9.318931e-01</td>\n",
       "    </tr>\n",
       "    <tr>\n",
       "      <th>9</th>\n",
       "      <td>home_ownership:OTHER</td>\n",
       "      <td>-2.426052e-03</td>\n",
       "      <td>9.335820e-01</td>\n",
       "    </tr>\n",
       "    <tr>\n",
       "      <th>10</th>\n",
       "      <td>home_ownership:OWN</td>\n",
       "      <td>-1.619582e-03</td>\n",
       "      <td>6.366112e-01</td>\n",
       "    </tr>\n",
       "    <tr>\n",
       "      <th>11</th>\n",
       "      <td>verification_status:Not Verified</td>\n",
       "      <td>5.339510e-05</td>\n",
       "      <td>9.828295e-01</td>\n",
       "    </tr>\n",
       "    <tr>\n",
       "      <th>12</th>\n",
       "      <td>verification_status:Source Verified</td>\n",
       "      <td>8.967822e-03</td>\n",
       "      <td>7.828941e-05</td>\n",
       "    </tr>\n",
       "    <tr>\n",
       "      <th>13</th>\n",
       "      <td>purpose:car</td>\n",
       "      <td>7.904787e-04</td>\n",
       "      <td>9.330252e-01</td>\n",
       "    </tr>\n",
       "    <tr>\n",
       "      <th>14</th>\n",
       "      <td>purpose:debt_consolidation</td>\n",
       "      <td>1.264922e-02</td>\n",
       "      <td>5.898438e-07</td>\n",
       "    </tr>\n",
       "    <tr>\n",
       "      <th>15</th>\n",
       "      <td>purpose:educational</td>\n",
       "      <td>9.643587e-02</td>\n",
       "      <td>1.801025e-06</td>\n",
       "    </tr>\n",
       "    <tr>\n",
       "      <th>16</th>\n",
       "      <td>purpose:home_improvement</td>\n",
       "      <td>1.923044e-02</td>\n",
       "      <td>4.873543e-05</td>\n",
       "    </tr>\n",
       "    <tr>\n",
       "      <th>17</th>\n",
       "      <td>purpose:house</td>\n",
       "      <td>1.607120e-02</td>\n",
       "      <td>1.653651e-01</td>\n",
       "    </tr>\n",
       "    <tr>\n",
       "      <th>18</th>\n",
       "      <td>purpose:major_purchase</td>\n",
       "      <td>2.984917e-02</td>\n",
       "      <td>2.197793e-05</td>\n",
       "    </tr>\n",
       "    <tr>\n",
       "      <th>19</th>\n",
       "      <td>purpose:medical</td>\n",
       "      <td>3.962479e-02</td>\n",
       "      <td>5.238263e-06</td>\n",
       "    </tr>\n",
       "    <tr>\n",
       "      <th>20</th>\n",
       "      <td>purpose:moving</td>\n",
       "      <td>4.577630e-02</td>\n",
       "      <td>2.987383e-06</td>\n",
       "    </tr>\n",
       "    <tr>\n",
       "      <th>21</th>\n",
       "      <td>purpose:other</td>\n",
       "      <td>3.706744e-02</td>\n",
       "      <td>0.000000e+00</td>\n",
       "    </tr>\n",
       "    <tr>\n",
       "      <th>22</th>\n",
       "      <td>purpose:renewable_energy</td>\n",
       "      <td>7.212969e-02</td>\n",
       "      <td>8.889877e-03</td>\n",
       "    </tr>\n",
       "    <tr>\n",
       "      <th>23</th>\n",
       "      <td>purpose:small_business</td>\n",
       "      <td>5.128674e-02</td>\n",
       "      <td>0.000000e+00</td>\n",
       "    </tr>\n",
       "    <tr>\n",
       "      <th>24</th>\n",
       "      <td>purpose:vacation</td>\n",
       "      <td>1.874863e-02</td>\n",
       "      <td>1.152702e-01</td>\n",
       "    </tr>\n",
       "    <tr>\n",
       "      <th>25</th>\n",
       "      <td>purpose:wedding</td>\n",
       "      <td>4.350522e-02</td>\n",
       "      <td>2.032121e-04</td>\n",
       "    </tr>\n",
       "    <tr>\n",
       "      <th>26</th>\n",
       "      <td>initial_list_status:w</td>\n",
       "      <td>1.318126e-02</td>\n",
       "      <td>6.115181e-09</td>\n",
       "    </tr>\n",
       "    <tr>\n",
       "      <th>27</th>\n",
       "      <td>term_int</td>\n",
       "      <td>4.551882e-03</td>\n",
       "      <td>0.000000e+00</td>\n",
       "    </tr>\n",
       "    <tr>\n",
       "      <th>28</th>\n",
       "      <td>emp_length_int</td>\n",
       "      <td>-1.591478e-03</td>\n",
       "      <td>4.404626e-10</td>\n",
       "    </tr>\n",
       "    <tr>\n",
       "      <th>29</th>\n",
       "      <td>mths_since_issue_d</td>\n",
       "      <td>-4.305274e-03</td>\n",
       "      <td>0.000000e+00</td>\n",
       "    </tr>\n",
       "    <tr>\n",
       "      <th>30</th>\n",
       "      <td>mths_since_earliest_cr_line</td>\n",
       "      <td>-3.634030e-05</td>\n",
       "      <td>2.742071e-03</td>\n",
       "    </tr>\n",
       "    <tr>\n",
       "      <th>31</th>\n",
       "      <td>funded_amnt</td>\n",
       "      <td>2.212126e-06</td>\n",
       "      <td>7.225181e-03</td>\n",
       "    </tr>\n",
       "    <tr>\n",
       "      <th>32</th>\n",
       "      <td>int_rate</td>\n",
       "      <td>-1.172652e-02</td>\n",
       "      <td>0.000000e+00</td>\n",
       "    </tr>\n",
       "    <tr>\n",
       "      <th>33</th>\n",
       "      <td>installment</td>\n",
       "      <td>-6.865607e-05</td>\n",
       "      <td>7.429261e-03</td>\n",
       "    </tr>\n",
       "    <tr>\n",
       "      <th>34</th>\n",
       "      <td>annual_inc</td>\n",
       "      <td>5.021817e-09</td>\n",
       "      <td>8.574696e-01</td>\n",
       "    </tr>\n",
       "    <tr>\n",
       "      <th>35</th>\n",
       "      <td>dti</td>\n",
       "      <td>2.832769e-04</td>\n",
       "      <td>3.632507e-02</td>\n",
       "    </tr>\n",
       "    <tr>\n",
       "      <th>36</th>\n",
       "      <td>delinq_2yrs</td>\n",
       "      <td>4.833234e-04</td>\n",
       "      <td>6.946456e-01</td>\n",
       "    </tr>\n",
       "    <tr>\n",
       "      <th>37</th>\n",
       "      <td>inq_last_6mths</td>\n",
       "      <td>1.131678e-02</td>\n",
       "      <td>0.000000e+00</td>\n",
       "    </tr>\n",
       "    <tr>\n",
       "      <th>38</th>\n",
       "      <td>mths_since_last_delinq</td>\n",
       "      <td>-1.965980e-04</td>\n",
       "      <td>3.220434e-06</td>\n",
       "    </tr>\n",
       "    <tr>\n",
       "      <th>39</th>\n",
       "      <td>mths_since_last_record</td>\n",
       "      <td>-5.085639e-05</td>\n",
       "      <td>3.291896e-01</td>\n",
       "    </tr>\n",
       "    <tr>\n",
       "      <th>40</th>\n",
       "      <td>open_acc</td>\n",
       "      <td>-2.142130e-03</td>\n",
       "      <td>4.218847e-15</td>\n",
       "    </tr>\n",
       "    <tr>\n",
       "      <th>41</th>\n",
       "      <td>pub_rec</td>\n",
       "      <td>6.782062e-03</td>\n",
       "      <td>4.252750e-02</td>\n",
       "    </tr>\n",
       "    <tr>\n",
       "      <th>42</th>\n",
       "      <td>total_acc</td>\n",
       "      <td>4.518110e-04</td>\n",
       "      <td>1.902931e-04</td>\n",
       "    </tr>\n",
       "    <tr>\n",
       "      <th>43</th>\n",
       "      <td>acc_now_delinq</td>\n",
       "      <td>9.974801e-03</td>\n",
       "      <td>5.012787e-01</td>\n",
       "    </tr>\n",
       "    <tr>\n",
       "      <th>44</th>\n",
       "      <td>total_rev_hi_lim</td>\n",
       "      <td>2.166527e-07</td>\n",
       "      <td>8.196014e-05</td>\n",
       "    </tr>\n",
       "  </tbody>\n",
       "</table>\n",
       "</div>"
      ],
      "text/plain": [
       "                           Feature name  Coefficients      p_values\n",
       "0                             Intercept  1.109746e+00           NaN\n",
       "1                               grade:A -3.030033e-01  0.000000e+00\n",
       "2                               grade:B -2.364277e-01  0.000000e+00\n",
       "3                               grade:C -1.720232e-01  0.000000e+00\n",
       "4                               grade:D -1.198470e-01  0.000000e+00\n",
       "5                               grade:E -6.768713e-02  0.000000e+00\n",
       "6                               grade:F -2.045907e-02  4.428795e-03\n",
       "7               home_ownership:MORTGAGE -6.343341e-03  2.632464e-03\n",
       "8                   home_ownership:NONE -5.539064e-03  9.318931e-01\n",
       "9                  home_ownership:OTHER -2.426052e-03  9.335820e-01\n",
       "10                   home_ownership:OWN -1.619582e-03  6.366112e-01\n",
       "11     verification_status:Not Verified  5.339510e-05  9.828295e-01\n",
       "12  verification_status:Source Verified  8.967822e-03  7.828941e-05\n",
       "13                          purpose:car  7.904787e-04  9.330252e-01\n",
       "14           purpose:debt_consolidation  1.264922e-02  5.898438e-07\n",
       "15                  purpose:educational  9.643587e-02  1.801025e-06\n",
       "16             purpose:home_improvement  1.923044e-02  4.873543e-05\n",
       "17                        purpose:house  1.607120e-02  1.653651e-01\n",
       "18               purpose:major_purchase  2.984917e-02  2.197793e-05\n",
       "19                      purpose:medical  3.962479e-02  5.238263e-06\n",
       "20                       purpose:moving  4.577630e-02  2.987383e-06\n",
       "21                        purpose:other  3.706744e-02  0.000000e+00\n",
       "22             purpose:renewable_energy  7.212969e-02  8.889877e-03\n",
       "23               purpose:small_business  5.128674e-02  0.000000e+00\n",
       "24                     purpose:vacation  1.874863e-02  1.152702e-01\n",
       "25                      purpose:wedding  4.350522e-02  2.032121e-04\n",
       "26                initial_list_status:w  1.318126e-02  6.115181e-09\n",
       "27                             term_int  4.551882e-03  0.000000e+00\n",
       "28                       emp_length_int -1.591478e-03  4.404626e-10\n",
       "29                   mths_since_issue_d -4.305274e-03  0.000000e+00\n",
       "30          mths_since_earliest_cr_line -3.634030e-05  2.742071e-03\n",
       "31                          funded_amnt  2.212126e-06  7.225181e-03\n",
       "32                             int_rate -1.172652e-02  0.000000e+00\n",
       "33                          installment -6.865607e-05  7.429261e-03\n",
       "34                           annual_inc  5.021817e-09  8.574696e-01\n",
       "35                                  dti  2.832769e-04  3.632507e-02\n",
       "36                          delinq_2yrs  4.833234e-04  6.946456e-01\n",
       "37                       inq_last_6mths  1.131678e-02  0.000000e+00\n",
       "38               mths_since_last_delinq -1.965980e-04  3.220434e-06\n",
       "39               mths_since_last_record -5.085639e-05  3.291896e-01\n",
       "40                             open_acc -2.142130e-03  4.218847e-15\n",
       "41                              pub_rec  6.782062e-03  4.252750e-02\n",
       "42                            total_acc  4.518110e-04  1.902931e-04\n",
       "43                       acc_now_delinq  9.974801e-03  5.012787e-01\n",
       "44                     total_rev_hi_lim  2.166527e-07  8.196014e-05"
      ]
     },
     "execution_count": 20,
     "metadata": {},
     "output_type": "execute_result"
    }
   ],
   "source": [
    "summary_table = pd.DataFrame(columns = ['Feature name'], data = feature_name)\n",
    "# Creates a dataframe with a column titled 'Feature name' and row values contained in the 'feature_name' variable.\n",
    "summary_table['Coefficients'] = np.transpose(reg_ead.coef_)\n",
    "# Creates a new column in the dataframe, called 'Coefficients',\n",
    "# with row values the transposed coefficients from the 'LogisticRegression' object.\n",
    "summary_table.index = summary_table.index + 1\n",
    "# Increases the index of every row of the dataframe with 1.\n",
    "summary_table.loc[0] = ['Intercept', reg_ead.intercept_]\n",
    "# Assigns values of the row with index 0 of the dataframe.\n",
    "summary_table = summary_table.sort_index()\n",
    "# Sorts the dataframe by index.\n",
    "p_values = reg_ead.p\n",
    "# We take the result of the newly added method 'p_values' and store it in a variable 'p_values'.\n",
    "p_values = np.append(np.nan,np.array(p_values))\n",
    "# We add the value 'NaN' in the beginning of the variable with p-values.\n",
    "summary_table['p_values'] = p_values\n",
    "# In the 'summary_table' dataframe, we add a new column, called 'p_values', containing the values from the 'p_values' variable.\n",
    "summary_table"
   ]
  },
  {
   "cell_type": "code",
   "execution_count": 21,
   "metadata": {},
   "outputs": [],
   "source": [
    "ead_inputs_test = ead_inputs_test[features_all]\n",
    "# Here we keep only the variables we need for the model."
   ]
  },
  {
   "cell_type": "code",
   "execution_count": 22,
   "metadata": {},
   "outputs": [],
   "source": [
    "ead_inputs_test = ead_inputs_test.drop(features_reference_cat, axis = 1)\n",
    "# Here we remove the dummy variable reference categories."
   ]
  },
  {
   "cell_type": "code",
   "execution_count": 23,
   "metadata": {},
   "outputs": [],
   "source": [
    "y_hat_test_ead = reg_ead.predict(ead_inputs_test)\n",
    "# Calculates the predicted values for the dependent variable (targets)\n",
    "# based on the values of the independent variables (inputs) supplied as an argument."
   ]
  },
  {
   "cell_type": "code",
   "execution_count": 24,
   "metadata": {},
   "outputs": [],
   "source": [
    "ead_targets_test_temp = ead_targets_test"
   ]
  },
  {
   "cell_type": "code",
   "execution_count": 25,
   "metadata": {},
   "outputs": [],
   "source": [
    "ead_targets_test_temp = ead_targets_test_temp.reset_index(drop = True)\n",
    "# We reset the index of a dataframe."
   ]
  },
  {
   "cell_type": "code",
   "execution_count": 26,
   "metadata": {},
   "outputs": [
    {
     "data": {
      "text/html": [
       "<div>\n",
       "<style scoped>\n",
       "    .dataframe tbody tr th:only-of-type {\n",
       "        vertical-align: middle;\n",
       "    }\n",
       "\n",
       "    .dataframe tbody tr th {\n",
       "        vertical-align: top;\n",
       "    }\n",
       "\n",
       "    .dataframe thead th {\n",
       "        text-align: right;\n",
       "    }\n",
       "</style>\n",
       "<table border=\"1\" class=\"dataframe\">\n",
       "  <thead>\n",
       "    <tr style=\"text-align: right;\">\n",
       "      <th></th>\n",
       "      <th>CCF</th>\n",
       "      <th>0</th>\n",
       "    </tr>\n",
       "  </thead>\n",
       "  <tbody>\n",
       "    <tr>\n",
       "      <th>CCF</th>\n",
       "      <td>1.000000</td>\n",
       "      <td>0.530654</td>\n",
       "    </tr>\n",
       "    <tr>\n",
       "      <th>0</th>\n",
       "      <td>0.530654</td>\n",
       "      <td>1.000000</td>\n",
       "    </tr>\n",
       "  </tbody>\n",
       "</table>\n",
       "</div>"
      ],
      "text/plain": [
       "          CCF         0\n",
       "CCF  1.000000  0.530654\n",
       "0    0.530654  1.000000"
      ]
     },
     "execution_count": 26,
     "metadata": {},
     "output_type": "execute_result"
    }
   ],
   "source": [
    "pd.concat([ead_targets_test_temp, pd.DataFrame(y_hat_test_ead)], axis = 1).corr()\n",
    "# We calculate the correlation between actual and predicted values."
   ]
  },
  {
   "cell_type": "code",
   "execution_count": 27,
   "metadata": {},
   "outputs": [
    {
     "name": "stderr",
     "output_type": "stream",
     "text": [
      "`distplot` is a deprecated function and will be removed in a future version. Please adapt your code to use either `displot` (a figure-level function with similar flexibility) or `histplot` (an axes-level function for histograms).\n"
     ]
    },
    {
     "data": {
      "text/plain": [
       "<AxesSubplot:xlabel='CCF', ylabel='Density'>"
      ]
     },
     "execution_count": 27,
     "metadata": {},
     "output_type": "execute_result"
    },
    {
     "data": {
      "image/png": "[encoded data removed]",
      "text/plain": [
       "<Figure size 432x288 with 1 Axes>"
      ]
     },
     "metadata": {
      "needs_background": "light"
     },
     "output_type": "display_data"
    }
   ],
   "source": [
    "sns.distplot(ead_targets_test - y_hat_test_ead)\n",
    "# We plot the distribution of the residuals."
   ]
  },
  {
   "cell_type": "code",
   "execution_count": 28,
   "metadata": {},
   "outputs": [
    {
     "data": {
      "text/html": [
       "<div>\n",
       "<style scoped>\n",
       "    .dataframe tbody tr th:only-of-type {\n",
       "        vertical-align: middle;\n",
       "    }\n",
       "\n",
       "    .dataframe tbody tr th {\n",
       "        vertical-align: top;\n",
       "    }\n",
       "\n",
       "    .dataframe thead th {\n",
       "        text-align: right;\n",
       "    }\n",
       "</style>\n",
       "<table border=\"1\" class=\"dataframe\">\n",
       "  <thead>\n",
       "    <tr style=\"text-align: right;\">\n",
       "      <th></th>\n",
       "      <th>0</th>\n",
       "    </tr>\n",
       "  </thead>\n",
       "  <tbody>\n",
       "    <tr>\n",
       "      <th>count</th>\n",
       "      <td>8648.000000</td>\n",
       "    </tr>\n",
       "    <tr>\n",
       "      <th>mean</th>\n",
       "      <td>0.736013</td>\n",
       "    </tr>\n",
       "    <tr>\n",
       "      <th>std</th>\n",
       "      <td>0.105194</td>\n",
       "    </tr>\n",
       "    <tr>\n",
       "      <th>min</th>\n",
       "      <td>0.384774</td>\n",
       "    </tr>\n",
       "    <tr>\n",
       "      <th>25%</th>\n",
       "      <td>0.661553</td>\n",
       "    </tr>\n",
       "    <tr>\n",
       "      <th>50%</th>\n",
       "      <td>0.731750</td>\n",
       "    </tr>\n",
       "    <tr>\n",
       "      <th>75%</th>\n",
       "      <td>0.810625</td>\n",
       "    </tr>\n",
       "    <tr>\n",
       "      <th>max</th>\n",
       "      <td>1.161088</td>\n",
       "    </tr>\n",
       "  </tbody>\n",
       "</table>\n",
       "</div>"
      ],
      "text/plain": [
       "                 0\n",
       "count  8648.000000\n",
       "mean      0.736013\n",
       "std       0.105194\n",
       "min       0.384774\n",
       "25%       0.661553\n",
       "50%       0.731750\n",
       "75%       0.810625\n",
       "max       1.161088"
      ]
     },
     "execution_count": 28,
     "metadata": {},
     "output_type": "execute_result"
    }
   ],
   "source": [
    "pd.DataFrame(y_hat_test_ead).describe()\n",
    "# Shows some descriptive statisics for the values of a column."
   ]
  },
  {
   "cell_type": "code",
   "execution_count": 29,
   "metadata": {},
   "outputs": [],
   "source": [
    "y_hat_test_ead = np.where(y_hat_test_ead < 0, 0, y_hat_test_ead)\n",
    "y_hat_test_ead = np.where(y_hat_test_ead > 1, 1, y_hat_test_ead)\n",
    "# We set predicted values that are greater than 1 to 1 and predicted values that are less than 0 to 0."
   ]
  },
  {
   "cell_type": "code",
   "execution_count": 30,
   "metadata": {},
   "outputs": [
    {
     "data": {
      "text/html": [
       "<div>\n",
       "<style scoped>\n",
       "    .dataframe tbody tr th:only-of-type {\n",
       "        vertical-align: middle;\n",
       "    }\n",
       "\n",
       "    .dataframe tbody tr th {\n",
       "        vertical-align: top;\n",
       "    }\n",
       "\n",
       "    .dataframe thead th {\n",
       "        text-align: right;\n",
       "    }\n",
       "</style>\n",
       "<table border=\"1\" class=\"dataframe\">\n",
       "  <thead>\n",
       "    <tr style=\"text-align: right;\">\n",
       "      <th></th>\n",
       "      <th>0</th>\n",
       "    </tr>\n",
       "  </thead>\n",
       "  <tbody>\n",
       "    <tr>\n",
       "      <th>count</th>\n",
       "      <td>8648.000000</td>\n",
       "    </tr>\n",
       "    <tr>\n",
       "      <th>mean</th>\n",
       "      <td>0.735992</td>\n",
       "    </tr>\n",
       "    <tr>\n",
       "      <th>std</th>\n",
       "      <td>0.105127</td>\n",
       "    </tr>\n",
       "    <tr>\n",
       "      <th>min</th>\n",
       "      <td>0.384774</td>\n",
       "    </tr>\n",
       "    <tr>\n",
       "      <th>25%</th>\n",
       "      <td>0.661553</td>\n",
       "    </tr>\n",
       "    <tr>\n",
       "      <th>50%</th>\n",
       "      <td>0.731750</td>\n",
       "    </tr>\n",
       "    <tr>\n",
       "      <th>75%</th>\n",
       "      <td>0.810625</td>\n",
       "    </tr>\n",
       "    <tr>\n",
       "      <th>max</th>\n",
       "      <td>1.000000</td>\n",
       "    </tr>\n",
       "  </tbody>\n",
       "</table>\n",
       "</div>"
      ],
      "text/plain": [
       "                 0\n",
       "count  8648.000000\n",
       "mean      0.735992\n",
       "std       0.105127\n",
       "min       0.384774\n",
       "25%       0.661553\n",
       "50%       0.731750\n",
       "75%       0.810625\n",
       "max       1.000000"
      ]
     },
     "execution_count": 30,
     "metadata": {},
     "output_type": "execute_result"
    }
   ],
   "source": [
    "pd.DataFrame(y_hat_test_ead).describe()\n",
    "# Shows some descriptive statisics for the values of a column."
   ]
  },
  {
   "cell_type": "code",
   "execution_count": 31,
   "metadata": {},
   "outputs": [
    {
     "data": {
      "text/plain": [
       "0.0291749760949319"
      ]
     },
     "execution_count": 31,
     "metadata": {},
     "output_type": "execute_result"
    }
   ],
   "source": [
    "mean_squared_error(ead_targets_test, y_hat_test_ead)"
   ]
  },
  {
   "cell_type": "code",
   "execution_count": 32,
   "metadata": {},
   "outputs": [
    {
     "data": {
      "text/plain": [
       "0.2822776667644732"
      ]
     },
     "execution_count": 32,
     "metadata": {},
     "output_type": "execute_result"
    }
   ],
   "source": [
    "r2_score(ead_targets_test, y_hat_test_ead)"
   ]
  },
  {
   "cell_type": "code",
   "execution_count": 33,
   "metadata": {},
   "outputs": [
    {
     "data": {
      "text/plain": [
       "XGBRegressor(base_score=None, booster='gblinear', callbacks=None,\n",
       "             colsample_bylevel=None, colsample_bynode=None,\n",
       "             colsample_bytree=None, early_stopping_rounds=None,\n",
       "             enable_categorical=False,\n",
       "             eval_metric=<function mean_squared_error at 0x169861310>,\n",
       "             gamma=None, gpu_id=None, grow_policy=None, importance_type=None,\n",
       "             interaction_constraints=None, learning_rate=None, max_bin=None,\n",
       "             max_cat_to_onehot=None, max_delta_step=None, max_depth=None,\n",
       "             max_leaves=None, min_child_weight=None, missing=nan,\n",
       "             monotone_constraints=None, n_estimators=100, n_jobs=None,\n",
       "             num_parallel_tree=None, predictor=None, random_state=None,\n",
       "             reg_alpha=None, reg_lambda=None, ...)"
      ]
     },
     "execution_count": 33,
     "metadata": {},
     "output_type": "execute_result"
    }
   ],
   "source": [
    "xgb_model = xgb.XGBRegressor()\n",
    "xgb_model.set_params(\n",
    "    booster='gblinear',\n",
    "    eval_metric=mean_squared_error,\n",
    ")"
   ]
  },
  {
   "cell_type": "code",
   "execution_count": 42,
   "metadata": {},
   "outputs": [
    {
     "name": "stdout",
     "output_type": "stream",
     "text": [
      "[0]\tvalidation_0-rmse:0.18787\tvalidation_0-mean_squared_error:0.03529\tvalidation_1-rmse:0.18834\tvalidation_1-mean_squared_error:0.03547\n",
      "[1]\tvalidation_0-rmse:0.18491\tvalidation_0-mean_squared_error:0.03419\tvalidation_1-rmse:0.18507\tvalidation_1-mean_squared_error:0.03425\n",
      "[2]\tvalidation_0-rmse:0.18372\tvalidation_0-mean_squared_error:0.03375\tvalidation_1-rmse:0.18379\tvalidation_1-mean_squared_error:0.03378\n",
      "[3]\tvalidation_0-rmse:0.18299\tvalidation_0-mean_squared_error:0.03348\tvalidation_1-rmse:0.18312\tvalidation_1-mean_squared_error:0.03353\n",
      "[4]\tvalidation_0-rmse:0.18238\tvalidation_0-mean_squared_error:0.03326\tvalidation_1-rmse:0.18246\tvalidation_1-mean_squared_error:0.03329\n",
      "[5]\tvalidation_0-rmse:0.18177\tvalidation_0-mean_squared_error:0.03304\tvalidation_1-rmse:0.18202\tvalidation_1-mean_squared_error:0.03313\n",
      "[6]\tvalidation_0-rmse:0.18120\tvalidation_0-mean_squared_error:0.03283\tvalidation_1-rmse:0.18152\tvalidation_1-mean_squared_error:0.03295\n",
      "[7]\tvalidation_0-rmse:0.18075\tvalidation_0-mean_squared_error:0.03267\tvalidation_1-rmse:0.18116\tvalidation_1-mean_squared_error:0.03282\n",
      "[8]\tvalidation_0-rmse:0.18032\tvalidation_0-mean_squared_error:0.03251\tvalidation_1-rmse:0.18073\tvalidation_1-mean_squared_error:0.03266\n",
      "[9]\tvalidation_0-rmse:0.17989\tvalidation_0-mean_squared_error:0.03236\tvalidation_1-rmse:0.18038\tvalidation_1-mean_squared_error:0.03254\n",
      "[10]\tvalidation_0-rmse:0.17948\tvalidation_0-mean_squared_error:0.03221\tvalidation_1-rmse:0.17992\tvalidation_1-mean_squared_error:0.03237\n",
      "[11]\tvalidation_0-rmse:0.17909\tvalidation_0-mean_squared_error:0.03207\tvalidation_1-rmse:0.17954\tvalidation_1-mean_squared_error:0.03224\n",
      "[12]\tvalidation_0-rmse:0.17873\tvalidation_0-mean_squared_error:0.03195\tvalidation_1-rmse:0.17920\tvalidation_1-mean_squared_error:0.03211\n",
      "[13]\tvalidation_0-rmse:0.17841\tvalidation_0-mean_squared_error:0.03183\tvalidation_1-rmse:0.17896\tvalidation_1-mean_squared_error:0.03202\n",
      "[14]\tvalidation_0-rmse:0.17809\tvalidation_0-mean_squared_error:0.03172\tvalidation_1-rmse:0.17858\tvalidation_1-mean_squared_error:0.03189\n",
      "[15]\tvalidation_0-rmse:0.17779\tvalidation_0-mean_squared_error:0.03161\tvalidation_1-rmse:0.17825\tvalidation_1-mean_squared_error:0.03177\n",
      "[16]\tvalidation_0-rmse:0.17751\tvalidation_0-mean_squared_error:0.03151\tvalidation_1-rmse:0.17789\tvalidation_1-mean_squared_error:0.03164\n",
      "[17]\tvalidation_0-rmse:0.17717\tvalidation_0-mean_squared_error:0.03139\tvalidation_1-rmse:0.17761\tvalidation_1-mean_squared_error:0.03155\n",
      "[18]\tvalidation_0-rmse:0.17689\tvalidation_0-mean_squared_error:0.03129\tvalidation_1-rmse:0.17730\tvalidation_1-mean_squared_error:0.03144\n",
      "[19]\tvalidation_0-rmse:0.17664\tvalidation_0-mean_squared_error:0.03120\tvalidation_1-rmse:0.17706\tvalidation_1-mean_squared_error:0.03135\n",
      "[20]\tvalidation_0-rmse:0.17641\tvalidation_0-mean_squared_error:0.03112\tvalidation_1-rmse:0.17678\tvalidation_1-mean_squared_error:0.03125\n",
      "[21]\tvalidation_0-rmse:0.17619\tvalidation_0-mean_squared_error:0.03104\tvalidation_1-rmse:0.17656\tvalidation_1-mean_squared_error:0.03117\n",
      "[22]\tvalidation_0-rmse:0.17598\tvalidation_0-mean_squared_error:0.03097\tvalidation_1-rmse:0.17634\tvalidation_1-mean_squared_error:0.03110\n",
      "[23]\tvalidation_0-rmse:0.17580\tvalidation_0-mean_squared_error:0.03090\tvalidation_1-rmse:0.17614\tvalidation_1-mean_squared_error:0.03102\n",
      "[24]\tvalidation_0-rmse:0.17560\tvalidation_0-mean_squared_error:0.03083\tvalidation_1-rmse:0.17592\tvalidation_1-mean_squared_error:0.03095\n",
      "[25]\tvalidation_0-rmse:0.17542\tvalidation_0-mean_squared_error:0.03077\tvalidation_1-rmse:0.17574\tvalidation_1-mean_squared_error:0.03088\n",
      "[26]\tvalidation_0-rmse:0.17525\tvalidation_0-mean_squared_error:0.03071\tvalidation_1-rmse:0.17553\tvalidation_1-mean_squared_error:0.03081\n",
      "[27]\tvalidation_0-rmse:0.17507\tvalidation_0-mean_squared_error:0.03065\tvalidation_1-rmse:0.17533\tvalidation_1-mean_squared_error:0.03074\n",
      "[28]\tvalidation_0-rmse:0.17491\tvalidation_0-mean_squared_error:0.03060\tvalidation_1-rmse:0.17515\tvalidation_1-mean_squared_error:0.03068\n",
      "[29]\tvalidation_0-rmse:0.17481\tvalidation_0-mean_squared_error:0.03056\tvalidation_1-rmse:0.17505\tvalidation_1-mean_squared_error:0.03064\n",
      "[30]\tvalidation_0-rmse:0.17469\tvalidation_0-mean_squared_error:0.03052\tvalidation_1-rmse:0.17487\tvalidation_1-mean_squared_error:0.03058\n",
      "[31]\tvalidation_0-rmse:0.17455\tvalidation_0-mean_squared_error:0.03047\tvalidation_1-rmse:0.17470\tvalidation_1-mean_squared_error:0.03052\n",
      "[32]\tvalidation_0-rmse:0.17443\tvalidation_0-mean_squared_error:0.03043\tvalidation_1-rmse:0.17451\tvalidation_1-mean_squared_error:0.03045\n",
      "[33]\tvalidation_0-rmse:0.17431\tvalidation_0-mean_squared_error:0.03038\tvalidation_1-rmse:0.17443\tvalidation_1-mean_squared_error:0.03043\n",
      "[34]\tvalidation_0-rmse:0.17420\tvalidation_0-mean_squared_error:0.03035\tvalidation_1-rmse:0.17426\tvalidation_1-mean_squared_error:0.03037\n",
      "[35]\tvalidation_0-rmse:0.17412\tvalidation_0-mean_squared_error:0.03032\tvalidation_1-rmse:0.17418\tvalidation_1-mean_squared_error:0.03034\n",
      "[36]\tvalidation_0-rmse:0.17403\tvalidation_0-mean_squared_error:0.03029\tvalidation_1-rmse:0.17399\tvalidation_1-mean_squared_error:0.03027\n",
      "[37]\tvalidation_0-rmse:0.17393\tvalidation_0-mean_squared_error:0.03025\tvalidation_1-rmse:0.17388\tvalidation_1-mean_squared_error:0.03024\n",
      "[38]\tvalidation_0-rmse:0.17386\tvalidation_0-mean_squared_error:0.03023\tvalidation_1-rmse:0.17376\tvalidation_1-mean_squared_error:0.03019\n",
      "[39]\tvalidation_0-rmse:0.17377\tvalidation_0-mean_squared_error:0.03020\tvalidation_1-rmse:0.17370\tvalidation_1-mean_squared_error:0.03017\n",
      "[40]\tvalidation_0-rmse:0.17370\tvalidation_0-mean_squared_error:0.03017\tvalidation_1-rmse:0.17363\tvalidation_1-mean_squared_error:0.03015\n",
      "[41]\tvalidation_0-rmse:0.17363\tvalidation_0-mean_squared_error:0.03015\tvalidation_1-rmse:0.17358\tvalidation_1-mean_squared_error:0.03013\n",
      "[42]\tvalidation_0-rmse:0.17357\tvalidation_0-mean_squared_error:0.03012\tvalidation_1-rmse:0.17350\tvalidation_1-mean_squared_error:0.03010\n",
      "[43]\tvalidation_0-rmse:0.17350\tvalidation_0-mean_squared_error:0.03010\tvalidation_1-rmse:0.17346\tvalidation_1-mean_squared_error:0.03009\n",
      "[44]\tvalidation_0-rmse:0.17345\tvalidation_0-mean_squared_error:0.03009\tvalidation_1-rmse:0.17340\tvalidation_1-mean_squared_error:0.03007\n",
      "[45]\tvalidation_0-rmse:0.17339\tvalidation_0-mean_squared_error:0.03007\tvalidation_1-rmse:0.17334\tvalidation_1-mean_squared_error:0.03005\n",
      "[46]\tvalidation_0-rmse:0.17335\tvalidation_0-mean_squared_error:0.03005\tvalidation_1-rmse:0.17327\tvalidation_1-mean_squared_error:0.03002\n",
      "[47]\tvalidation_0-rmse:0.17329\tvalidation_0-mean_squared_error:0.03003\tvalidation_1-rmse:0.17320\tvalidation_1-mean_squared_error:0.03000\n",
      "[48]\tvalidation_0-rmse:0.17325\tvalidation_0-mean_squared_error:0.03001\tvalidation_1-rmse:0.17311\tvalidation_1-mean_squared_error:0.02997\n",
      "[49]\tvalidation_0-rmse:0.17321\tvalidation_0-mean_squared_error:0.03000\tvalidation_1-rmse:0.17311\tvalidation_1-mean_squared_error:0.02997\n",
      "[50]\tvalidation_0-rmse:0.17316\tvalidation_0-mean_squared_error:0.02998\tvalidation_1-rmse:0.17304\tvalidation_1-mean_squared_error:0.02994\n",
      "[51]\tvalidation_0-rmse:0.17312\tvalidation_0-mean_squared_error:0.02997\tvalidation_1-rmse:0.17302\tvalidation_1-mean_squared_error:0.02994\n",
      "[52]\tvalidation_0-rmse:0.17309\tvalidation_0-mean_squared_error:0.02996\tvalidation_1-rmse:0.17299\tvalidation_1-mean_squared_error:0.02993\n",
      "[53]\tvalidation_0-rmse:0.17305\tvalidation_0-mean_squared_error:0.02995\tvalidation_1-rmse:0.17293\tvalidation_1-mean_squared_error:0.02991\n",
      "[54]\tvalidation_0-rmse:0.17301\tvalidation_0-mean_squared_error:0.02993\tvalidation_1-rmse:0.17290\tvalidation_1-mean_squared_error:0.02989\n",
      "[55]\tvalidation_0-rmse:0.17298\tvalidation_0-mean_squared_error:0.02992\tvalidation_1-rmse:0.17285\tvalidation_1-mean_squared_error:0.02988\n",
      "[56]\tvalidation_0-rmse:0.17296\tvalidation_0-mean_squared_error:0.02991\tvalidation_1-rmse:0.17278\tvalidation_1-mean_squared_error:0.02985\n",
      "[57]\tvalidation_0-rmse:0.17292\tvalidation_0-mean_squared_error:0.02990\tvalidation_1-rmse:0.17276\tvalidation_1-mean_squared_error:0.02985\n",
      "[58]\tvalidation_0-rmse:0.17289\tvalidation_0-mean_squared_error:0.02989\tvalidation_1-rmse:0.17273\tvalidation_1-mean_squared_error:0.02984\n",
      "[59]\tvalidation_0-rmse:0.17287\tvalidation_0-mean_squared_error:0.02988\tvalidation_1-rmse:0.17269\tvalidation_1-mean_squared_error:0.02982\n",
      "[60]\tvalidation_0-rmse:0.17284\tvalidation_0-mean_squared_error:0.02987\tvalidation_1-rmse:0.17267\tvalidation_1-mean_squared_error:0.02982\n",
      "[61]\tvalidation_0-rmse:0.17282\tvalidation_0-mean_squared_error:0.02987\tvalidation_1-rmse:0.17264\tvalidation_1-mean_squared_error:0.02981\n",
      "[62]\tvalidation_0-rmse:0.17280\tvalidation_0-mean_squared_error:0.02986\tvalidation_1-rmse:0.17262\tvalidation_1-mean_squared_error:0.02980\n",
      "[63]\tvalidation_0-rmse:0.17278\tvalidation_0-mean_squared_error:0.02985\tvalidation_1-rmse:0.17257\tvalidation_1-mean_squared_error:0.02978\n",
      "[64]\tvalidation_0-rmse:0.17275\tvalidation_0-mean_squared_error:0.02984\tvalidation_1-rmse:0.17256\tvalidation_1-mean_squared_error:0.02978\n",
      "[65]\tvalidation_0-rmse:0.17274\tvalidation_0-mean_squared_error:0.02984\tvalidation_1-rmse:0.17256\tvalidation_1-mean_squared_error:0.02978\n",
      "[66]\tvalidation_0-rmse:0.17272\tvalidation_0-mean_squared_error:0.02983\tvalidation_1-rmse:0.17254\tvalidation_1-mean_squared_error:0.02977\n",
      "[67]\tvalidation_0-rmse:0.17270\tvalidation_0-mean_squared_error:0.02983\tvalidation_1-rmse:0.17249\tvalidation_1-mean_squared_error:0.02975\n",
      "[68]\tvalidation_0-rmse:0.17268\tvalidation_0-mean_squared_error:0.02982\tvalidation_1-rmse:0.17248\tvalidation_1-mean_squared_error:0.02975\n",
      "[69]\tvalidation_0-rmse:0.17267\tvalidation_0-mean_squared_error:0.02981\tvalidation_1-rmse:0.17246\tvalidation_1-mean_squared_error:0.02974\n",
      "[70]\tvalidation_0-rmse:0.17265\tvalidation_0-mean_squared_error:0.02981\tvalidation_1-rmse:0.17244\tvalidation_1-mean_squared_error:0.02974\n",
      "[71]\tvalidation_0-rmse:0.17264\tvalidation_0-mean_squared_error:0.02980\tvalidation_1-rmse:0.17240\tvalidation_1-mean_squared_error:0.02972\n",
      "[72]\tvalidation_0-rmse:0.17262\tvalidation_0-mean_squared_error:0.02980\tvalidation_1-rmse:0.17239\tvalidation_1-mean_squared_error:0.02972\n",
      "[73]\tvalidation_0-rmse:0.17261\tvalidation_0-mean_squared_error:0.02979\tvalidation_1-rmse:0.17237\tvalidation_1-mean_squared_error:0.02971\n",
      "[74]\tvalidation_0-rmse:0.17259\tvalidation_0-mean_squared_error:0.02979\tvalidation_1-rmse:0.17236\tvalidation_1-mean_squared_error:0.02971\n",
      "[75]\tvalidation_0-rmse:0.17258\tvalidation_0-mean_squared_error:0.02978\tvalidation_1-rmse:0.17234\tvalidation_1-mean_squared_error:0.02970\n",
      "[76]\tvalidation_0-rmse:0.17257\tvalidation_0-mean_squared_error:0.02978\tvalidation_1-rmse:0.17232\tvalidation_1-mean_squared_error:0.02969\n",
      "[77]\tvalidation_0-rmse:0.17256\tvalidation_0-mean_squared_error:0.02978\tvalidation_1-rmse:0.17230\tvalidation_1-mean_squared_error:0.02969\n",
      "[78]\tvalidation_0-rmse:0.17255\tvalidation_0-mean_squared_error:0.02977\tvalidation_1-rmse:0.17228\tvalidation_1-mean_squared_error:0.02968\n",
      "[79]\tvalidation_0-rmse:0.17254\tvalidation_0-mean_squared_error:0.02977\tvalidation_1-rmse:0.17226\tvalidation_1-mean_squared_error:0.02967\n",
      "[80]\tvalidation_0-rmse:0.17253\tvalidation_0-mean_squared_error:0.02977\tvalidation_1-rmse:0.17224\tvalidation_1-mean_squared_error:0.02967\n",
      "[81]\tvalidation_0-rmse:0.17252\tvalidation_0-mean_squared_error:0.02976\tvalidation_1-rmse:0.17223\tvalidation_1-mean_squared_error:0.02966\n",
      "[82]\tvalidation_0-rmse:0.17251\tvalidation_0-mean_squared_error:0.02976\tvalidation_1-rmse:0.17222\tvalidation_1-mean_squared_error:0.02966\n",
      "[83]\tvalidation_0-rmse:0.17250\tvalidation_0-mean_squared_error:0.02976\tvalidation_1-rmse:0.17221\tvalidation_1-mean_squared_error:0.02966\n",
      "[84]\tvalidation_0-rmse:0.17249\tvalidation_0-mean_squared_error:0.02975\tvalidation_1-rmse:0.17221\tvalidation_1-mean_squared_error:0.02966\n",
      "[85]\tvalidation_0-rmse:0.17249\tvalidation_0-mean_squared_error:0.02975\tvalidation_1-rmse:0.17219\tvalidation_1-mean_squared_error:0.02965\n",
      "[86]\tvalidation_0-rmse:0.17248\tvalidation_0-mean_squared_error:0.02975\tvalidation_1-rmse:0.17219\tvalidation_1-mean_squared_error:0.02965\n",
      "[87]\tvalidation_0-rmse:0.17247\tvalidation_0-mean_squared_error:0.02975\tvalidation_1-rmse:0.17218\tvalidation_1-mean_squared_error:0.02965\n",
      "[88]\tvalidation_0-rmse:0.17247\tvalidation_0-mean_squared_error:0.02975\tvalidation_1-rmse:0.17217\tvalidation_1-mean_squared_error:0.02964\n",
      "[89]\tvalidation_0-rmse:0.17246\tvalidation_0-mean_squared_error:0.02974\tvalidation_1-rmse:0.17217\tvalidation_1-mean_squared_error:0.02964\n",
      "[90]\tvalidation_0-rmse:0.17246\tvalidation_0-mean_squared_error:0.02974\tvalidation_1-rmse:0.17216\tvalidation_1-mean_squared_error:0.02964\n",
      "[91]\tvalidation_0-rmse:0.17245\tvalidation_0-mean_squared_error:0.02974\tvalidation_1-rmse:0.17216\tvalidation_1-mean_squared_error:0.02964\n",
      "[92]\tvalidation_0-rmse:0.17244\tvalidation_0-mean_squared_error:0.02974\tvalidation_1-rmse:0.17215\tvalidation_1-mean_squared_error:0.02964\n",
      "[93]\tvalidation_0-rmse:0.17244\tvalidation_0-mean_squared_error:0.02974\tvalidation_1-rmse:0.17214\tvalidation_1-mean_squared_error:0.02963\n",
      "[94]\tvalidation_0-rmse:0.17243\tvalidation_0-mean_squared_error:0.02973\tvalidation_1-rmse:0.17213\tvalidation_1-mean_squared_error:0.02963\n",
      "[95]\tvalidation_0-rmse:0.17243\tvalidation_0-mean_squared_error:0.02973\tvalidation_1-rmse:0.17211\tvalidation_1-mean_squared_error:0.02962\n",
      "[96]\tvalidation_0-rmse:0.17242\tvalidation_0-mean_squared_error:0.02973\tvalidation_1-rmse:0.17212\tvalidation_1-mean_squared_error:0.02962\n",
      "[97]\tvalidation_0-rmse:0.17242\tvalidation_0-mean_squared_error:0.02973\tvalidation_1-rmse:0.17211\tvalidation_1-mean_squared_error:0.02962\n",
      "[98]\tvalidation_0-rmse:0.17241\tvalidation_0-mean_squared_error:0.02973\tvalidation_1-rmse:0.17210\tvalidation_1-mean_squared_error:0.02962\n",
      "[99]\tvalidation_0-rmse:0.17241\tvalidation_0-mean_squared_error:0.02972\tvalidation_1-rmse:0.17209\tvalidation_1-mean_squared_error:0.02962\n"
     ]
    },
    {
     "data": {
      "text/plain": [
       "XGBRegressor(base_score=0.5, booster='gblinear', callbacks=None,\n",
       "             colsample_bylevel=None, colsample_bynode=None,\n",
       "             colsample_bytree=None, early_stopping_rounds=None,\n",
       "             enable_categorical=False,\n",
       "             eval_metric=<function mean_squared_error at 0x169861310>,\n",
       "             gamma=None, gpu_id=-1, grow_policy=None, importance_type=None,\n",
       "             interaction_constraints=None, learning_rate=0.5, max_bin=None,\n",
       "             max_cat_to_onehot=None, max_delta_step=None, max_depth=None,\n",
       "             max_leaves=None, min_child_weight=None, missing=nan,\n",
       "             monotone_constraints=None, n_estimators=100, n_jobs=0,\n",
       "             num_parallel_tree=None, predictor=None, random_state=0,\n",
       "             reg_alpha=0, reg_lambda=0, ...)"
      ]
     },
     "execution_count": 42,
     "metadata": {},
     "output_type": "execute_result"
    }
   ],
   "source": [
    "xgb_model.fit(ead_inputs_train, ead_targets_train, eval_set=[(ead_inputs_train, ead_targets_train), (ead_inputs_test, ead_targets_test)],)"
   ]
  },
  {
   "cell_type": "code",
   "execution_count": 44,
   "metadata": {},
   "outputs": [],
   "source": [
    "y_hat_test_ead_xgb = xgb_model.predict(ead_inputs_test)\n",
    "# Calculates the predicted values for the dependent variable (targets)\n",
    "# based on the values of the independent variables (inputs) supplied as an argument."
   ]
  },
  {
   "cell_type": "code",
   "execution_count": 36,
   "metadata": {},
   "outputs": [
    {
     "data": {
      "text/html": [
       "<div>\n",
       "<style scoped>\n",
       "    .dataframe tbody tr th:only-of-type {\n",
       "        vertical-align: middle;\n",
       "    }\n",
       "\n",
       "    .dataframe tbody tr th {\n",
       "        vertical-align: top;\n",
       "    }\n",
       "\n",
       "    .dataframe thead th {\n",
       "        text-align: right;\n",
       "    }\n",
       "</style>\n",
       "<table border=\"1\" class=\"dataframe\">\n",
       "  <thead>\n",
       "    <tr style=\"text-align: right;\">\n",
       "      <th></th>\n",
       "      <th>CCF</th>\n",
       "      <th>0</th>\n",
       "    </tr>\n",
       "  </thead>\n",
       "  <tbody>\n",
       "    <tr>\n",
       "      <th>CCF</th>\n",
       "      <td>1.00000</td>\n",
       "      <td>0.52144</td>\n",
       "    </tr>\n",
       "    <tr>\n",
       "      <th>0</th>\n",
       "      <td>0.52144</td>\n",
       "      <td>1.00000</td>\n",
       "    </tr>\n",
       "  </tbody>\n",
       "</table>\n",
       "</div>"
      ],
      "text/plain": [
       "         CCF        0\n",
       "CCF  1.00000  0.52144\n",
       "0    0.52144  1.00000"
      ]
     },
     "execution_count": 36,
     "metadata": {},
     "output_type": "execute_result"
    }
   ],
   "source": [
    "pd.concat([ead_targets_test_temp, pd.DataFrame(y_hat_test_ead_xgb)], axis = 1).corr()\n",
    "# We calculate the correlation between actual and predicted values."
   ]
  },
  {
   "cell_type": "code",
   "execution_count": 37,
   "metadata": {},
   "outputs": [
    {
     "name": "stderr",
     "output_type": "stream",
     "text": [
      "`distplot` is a deprecated function and will be removed in a future version. Please adapt your code to use either `displot` (a figure-level function with similar flexibility) or `histplot` (an axes-level function for histograms).\n"
     ]
    },
    {
     "data": {
      "text/plain": [
       "<AxesSubplot:xlabel='CCF', ylabel='Density'>"
      ]
     },
     "execution_count": 37,
     "metadata": {},
     "output_type": "execute_result"
    },
    {
     "data": {
      "image/png": "[encoded data removed]",
      "text/plain": [
       "<Figure size 432x288 with 1 Axes>"
      ]
     },
     "metadata": {
      "needs_background": "light"
     },
     "output_type": "display_data"
    }
   ],
   "source": [
    "sns.distplot(ead_targets_test - y_hat_test_ead_xgb)\n",
    "# We plot the distribution of the residuals."
   ]
  },
  {
   "cell_type": "code",
   "execution_count": 38,
   "metadata": {},
   "outputs": [
    {
     "data": {
      "text/html": [
       "<div>\n",
       "<style scoped>\n",
       "    .dataframe tbody tr th:only-of-type {\n",
       "        vertical-align: middle;\n",
       "    }\n",
       "\n",
       "    .dataframe tbody tr th {\n",
       "        vertical-align: top;\n",
       "    }\n",
       "\n",
       "    .dataframe thead th {\n",
       "        text-align: right;\n",
       "    }\n",
       "</style>\n",
       "<table border=\"1\" class=\"dataframe\">\n",
       "  <thead>\n",
       "    <tr style=\"text-align: right;\">\n",
       "      <th></th>\n",
       "      <th>0</th>\n",
       "    </tr>\n",
       "  </thead>\n",
       "  <tbody>\n",
       "    <tr>\n",
       "      <th>count</th>\n",
       "      <td>8648.000000</td>\n",
       "    </tr>\n",
       "    <tr>\n",
       "      <th>mean</th>\n",
       "      <td>0.735745</td>\n",
       "    </tr>\n",
       "    <tr>\n",
       "      <th>std</th>\n",
       "      <td>0.101577</td>\n",
       "    </tr>\n",
       "    <tr>\n",
       "      <th>min</th>\n",
       "      <td>0.408254</td>\n",
       "    </tr>\n",
       "    <tr>\n",
       "      <th>25%</th>\n",
       "      <td>0.664853</td>\n",
       "    </tr>\n",
       "    <tr>\n",
       "      <th>50%</th>\n",
       "      <td>0.728506</td>\n",
       "    </tr>\n",
       "    <tr>\n",
       "      <th>75%</th>\n",
       "      <td>0.811329</td>\n",
       "    </tr>\n",
       "    <tr>\n",
       "      <th>max</th>\n",
       "      <td>1.310113</td>\n",
       "    </tr>\n",
       "  </tbody>\n",
       "</table>\n",
       "</div>"
      ],
      "text/plain": [
       "                 0\n",
       "count  8648.000000\n",
       "mean      0.735745\n",
       "std       0.101577\n",
       "min       0.408254\n",
       "25%       0.664853\n",
       "50%       0.728506\n",
       "75%       0.811329\n",
       "max       1.310113"
      ]
     },
     "execution_count": 38,
     "metadata": {},
     "output_type": "execute_result"
    }
   ],
   "source": [
    "pd.DataFrame(y_hat_test_ead_xgb).describe()\n",
    "# Shows some descriptive statisics for the values of a column."
   ]
  },
  {
   "cell_type": "code",
   "execution_count": 39,
   "metadata": {},
   "outputs": [
    {
     "data": {
      "text/plain": [
       "0.029612655435575855"
      ]
     },
     "execution_count": 39,
     "metadata": {},
     "output_type": "execute_result"
    }
   ],
   "source": [
    "mean_squared_error(ead_targets_test, y_hat_test_ead_xgb)"
   ]
  },
  {
   "cell_type": "code",
   "execution_count": 40,
   "metadata": {},
   "outputs": [
    {
     "data": {
      "text/plain": [
       "0.2715104861315287"
      ]
     },
     "execution_count": 40,
     "metadata": {},
     "output_type": "execute_result"
    }
   ],
   "source": [
    "r2_score(ead_targets_test, y_hat_test_ead_xgb)"
   ]
  }
 ],
 "metadata": {
  "interpreter": {
   "hash": "e673a474f5e5c69884c79b5bbf26bd3f43f29ea8e4fba12a1f063946fe17172c"
  },
  "kernelspec": {
   "display_name": "Python 3 (ipykernel)",
   "language": "python",
   "name": "python3"
  },
  "language_info": {
   "codemirror_mode": {
    "name": "ipython",
    "version": 3
   },
   "file_extension": ".py",
   "mimetype": "text/x-python",
   "name": "python",
   "nbconvert_exporter": "python",
   "pygments_lexer": "ipython3",
   "version": "3.8.6"
  }
 },
 "nbformat": 4,
 "nbformat_minor": 2
}
