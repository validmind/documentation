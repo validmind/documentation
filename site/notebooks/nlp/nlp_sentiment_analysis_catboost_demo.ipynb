{
 "cells": [
  {
   "attachments": {},
   "cell_type": "markdown",
   "metadata": {},
   "source": [
    "# Sensitivity Analysis\n",
    "## Natural Language Processing Analysis & Binary Classification using CatBoost\n",
    "This notebook aims to provide an introduction to documenting an NLP model using the ValidMind Developer Framework. The use case presented is a sentiment analysis of tweets related to COVID-19 into \"positive\" and \"negative\"; the model is a binary text classification using the CatBoost library.\n",
    "\n",
    "We will train a sample model and demonstrate the following documentation functionalities:\n",
    "\n",
    "- Initializing the ValidMind Developer Framework\n",
    "- Using a sample datasets provided by the library to train a simple nlp classification model using CatBoost library\n",
    "- Running a test various tests to quickly generate document about the data and model\n",
    "\n",
    "## Before you begin\n",
    "\n",
    "To use the ValidMind Developer Framework with a Jupyter notebook, you need to install and initialize the client library first, along with getting your Python environment ready.\n",
    "\n",
    "If you don't already have one, you should also [create a documentation project](https://docs.validmind.ai/guide/create-your-first-documentation-project.html) on the ValidMind platform. You will use this project to upload your documentation and test results.\n",
    "\n",
    "## Install the client library\n"
   ]
  },
  {
   "cell_type": "code",
   "execution_count": 1,
   "metadata": {},
   "outputs": [],
   "source": [
    "%pip install --upgrade validmind"
   ]
  },
  {
   "attachments": {},
   "cell_type": "markdown",
   "metadata": {},
   "source": [
    "## Initialize the client library\n",
    "\n",
    "In a browser, go to the **Client Integration** page of your documentation project and click **Copy to clipboard** next to the code snippet. This code snippet gives you the API key, API secret, and project identifier to link your notebook to your documentation project.\n",
    "\n",
    "::: {.column-margin}\n",
    "::: {.callout-tip}\n",
    "This step requires a documentation project. [Learn how you can create one](https://docs.validmind.ai/guide/create-your-first-documentation-project.html).\n",
    ":::\n",
    ":::\n",
    "\n",
    "Next, replace this placeholder with your own code snippet:"
   ]
  },
  {
   "cell_type": "code",
   "execution_count": 2,
   "metadata": {},
   "outputs": [
    {
     "name": "stderr",
     "output_type": "stream",
     "text": [
      "/Users/anilsorathiya/Library/Caches/pypoetry/virtualenvs/validmind-pPj8dHa5-py3.9/lib/python3.9/site-packages/urllib3/__init__.py:34: NotOpenSSLWarning: urllib3 v2.0 only supports OpenSSL 1.1.1+, currently the 'ssl' module is compiled with 'LibreSSL 2.8.3'. See: https://github.com/urllib3/urllib3/issues/3020\n",
      "  warnings.warn(\n",
      "2023-07-06 12:52:29,172 - INFO - api_client - Connected to ValidMind. Project: nlp model sensitivity analysis - Initial Validation (cliop8llc003x32rlklophmdl)\n"
     ]
    }
   ],
   "source": [
    "## Replace with code snippet from your documentation project ##\n",
    "\n",
    "import validmind as vm\n",
    "\n",
    "vm.init(\n",
    "    api_host=\"https://api.prod.validmind.ai/api/v1/tracking\",\n",
    "    api_key=\"...\",\n",
    "    api_secret=\"...\",\n",
    "    project=\"...\"\n",
    ")"
   ]
  },
  {
   "attachments": {},
   "cell_type": "markdown",
   "metadata": {},
   "source": [
    "## 1. Explorary Data Analysis of Covid tweets data\n",
    "The emphasis in this section is on the in-depth analysis and preprocessing of the text data (tweets). In this section, we introduce the manually tagged COVID-19 tweets, which range from Highly Negative to Highly Positive, representing five distinct classes. In this Exploratory Data Analysis (EDA), these five classes will be simplified to two classes: Positive and Negative.\n",
    "\n"
   ]
  },
  {
   "attachments": {},
   "cell_type": "markdown",
   "metadata": {},
   "source": [
    "### Load library"
   ]
  },
  {
   "cell_type": "code",
   "execution_count": 3,
   "metadata": {},
   "outputs": [
    {
     "name": "stdout",
     "output_type": "stream",
     "text": [
      "env: PYTORCH_MPS_HIGH_WATERMARK_RATIO=0.8\n"
     ]
    }
   ],
   "source": [
    "%set_env PYTORCH_MPS_HIGH_WATERMARK_RATIO 0.8\n",
    "\n",
    "import pandas as pd\n",
    "import numpy as np\n",
    "from catboost import CatBoostClassifier\n",
    "from sklearn.model_selection import train_test_split\n",
    "\n",
    "\n",
    "%matplotlib inline\n",
    "\n",
    "import warnings\n",
    "warnings.filterwarnings('ignore')\n",
    "\n",
    "import torch\n",
    "if torch.backends.mps.is_available():\n",
    "    device = torch.device(\"mps\")\n",
    "elif torch.cuda.is_available():\n",
    "    device = torch.device(\"cuda\")\n",
    "else:\n",
    "    device = torch.device(\"cpu\")\n",
    "\n",
    "device = \"cpu\"\n",
    "\n",
    "train_model = True"
   ]
  },
  {
   "attachments": {},
   "cell_type": "markdown",
   "metadata": {},
   "source": [
    "###  Load covid-19 tweets data"
   ]
  },
  {
   "cell_type": "code",
   "execution_count": 4,
   "metadata": {},
   "outputs": [
    {
     "data": {
      "text/html": [
       "<div>\n",
       "<style scoped>\n",
       "    .dataframe tbody tr th:only-of-type {\n",
       "        vertical-align: middle;\n",
       "    }\n",
       "\n",
       "    .dataframe tbody tr th {\n",
       "        vertical-align: top;\n",
       "    }\n",
       "\n",
       "    .dataframe thead th {\n",
       "        text-align: right;\n",
       "    }\n",
       "</style>\n",
       "<table border=\"1\" class=\"dataframe\">\n",
       "  <thead>\n",
       "    <tr style=\"text-align: right;\">\n",
       "      <th></th>\n",
       "      <th>OriginalTweet</th>\n",
       "      <th>Sentiment</th>\n",
       "    </tr>\n",
       "  </thead>\n",
       "  <tbody>\n",
       "    <tr>\n",
       "      <th>0</th>\n",
       "      <td>@MeNyrbie @Phil_Gahan @Chrisitv https://t.co/i...</td>\n",
       "      <td>Neutral</td>\n",
       "    </tr>\n",
       "    <tr>\n",
       "      <th>1</th>\n",
       "      <td>advice Talk to your neighbours family to excha...</td>\n",
       "      <td>Positive</td>\n",
       "    </tr>\n",
       "    <tr>\n",
       "      <th>2</th>\n",
       "      <td>Coronavirus Australia: Woolworths to give elde...</td>\n",
       "      <td>Positive</td>\n",
       "    </tr>\n",
       "    <tr>\n",
       "      <th>3</th>\n",
       "      <td>My food stock is not the only one which is emp...</td>\n",
       "      <td>Positive</td>\n",
       "    </tr>\n",
       "    <tr>\n",
       "      <th>4</th>\n",
       "      <td>Me, ready to go at supermarket during the #COV...</td>\n",
       "      <td>Extremely Negative</td>\n",
       "    </tr>\n",
       "    <tr>\n",
       "      <th>5</th>\n",
       "      <td>As news of the regions first confirmed COVID-...</td>\n",
       "      <td>Positive</td>\n",
       "    </tr>\n",
       "    <tr>\n",
       "      <th>6</th>\n",
       "      <td>Cashier at grocery store was sharing his insig...</td>\n",
       "      <td>Positive</td>\n",
       "    </tr>\n",
       "    <tr>\n",
       "      <th>7</th>\n",
       "      <td>Was at the supermarket today. Didn't buy toile...</td>\n",
       "      <td>Neutral</td>\n",
       "    </tr>\n",
       "    <tr>\n",
       "      <th>8</th>\n",
       "      <td>Due to COVID-19 our retail store and classroom...</td>\n",
       "      <td>Positive</td>\n",
       "    </tr>\n",
       "    <tr>\n",
       "      <th>9</th>\n",
       "      <td>For corona prevention,we should stop to buy th...</td>\n",
       "      <td>Negative</td>\n",
       "    </tr>\n",
       "  </tbody>\n",
       "</table>\n",
       "</div>"
      ],
      "text/plain": [
       "                                       OriginalTweet           Sentiment\n",
       "0  @MeNyrbie @Phil_Gahan @Chrisitv https://t.co/i...             Neutral\n",
       "1  advice Talk to your neighbours family to excha...            Positive\n",
       "2  Coronavirus Australia: Woolworths to give elde...            Positive\n",
       "3  My food stock is not the only one which is emp...            Positive\n",
       "4  Me, ready to go at supermarket during the #COV...  Extremely Negative\n",
       "5  As news of the regions first confirmed COVID-...            Positive\n",
       "6  Cashier at grocery store was sharing his insig...            Positive\n",
       "7  Was at the supermarket today. Didn't buy toile...             Neutral\n",
       "8  Due to COVID-19 our retail store and classroom...            Positive\n",
       "9  For corona prevention,we should stop to buy th...            Negative"
      ]
     },
     "execution_count": 4,
     "metadata": {},
     "output_type": "execute_result"
    }
   ],
   "source": [
    "from validmind.datasets.nlp import twitter_covid_19 as demo_data\n",
    "df = demo_data.load_data()\n",
    "df.head(10)"
   ]
  },
  {
   "attachments": {},
   "cell_type": "markdown",
   "metadata": {},
   "source": [
    "### Run text data quality test plan\n",
    "In this section we use the ValidMind Developer Framework to run various data quality checks on the dataset, and send the results to the model document on the ValidMind Platform UI."
   ]
  },
  {
   "cell_type": "code",
   "execution_count": 5,
   "metadata": {},
   "outputs": [
    {
     "name": "stderr",
     "output_type": "stream",
     "text": [
      "2023-07-06 12:52:30,028 - INFO - client - Pandas dataset detected. Initializing VM Dataset instance...\n",
      "2023-07-06 12:52:30,028 - INFO - dataset - Inferring dataset types...\n"
     ]
    }
   ],
   "source": [
    "vm_ds = vm.init_dataset(dataset=df, type=\"generic\", text_column='OriginalTweet', target_column=\"Sentiment\")"
   ]
  },
  {
   "cell_type": "code",
   "execution_count": 6,
   "metadata": {},
   "outputs": [
    {
     "data": {
      "application/vnd.jupyter.widget-view+json": {
       "model_id": "3fb28401e8d347f9afef9e261a9d769f",
       "version_major": 2,
       "version_minor": 0
      },
      "text/plain": [
       "HBox(children=(Label(value='Running test plan...'), IntProgress(value=0, max=14)))"
      ]
     },
     "metadata": {},
     "output_type": "display_data"
    },
    {
     "name": "stderr",
     "output_type": "stream",
     "text": [
      "[nltk_data] Downloading package stopwords to\n",
      "[nltk_data]     /Users/anilsorathiya/nltk_data...\n",
      "[nltk_data]   Package stopwords is already up-to-date!\n",
      "[nltk_data] Downloading package stopwords to\n",
      "[nltk_data]     /Users/anilsorathiya/nltk_data...\n",
      "[nltk_data]   Package stopwords is already up-to-date!\n"
     ]
    },
    {
     "data": {
      "application/vnd.jupyter.widget-view+json": {
       "model_id": "c00df04a21dc4caf8a4e10909cb11d49",
       "version_major": 2,
       "version_minor": 0
      },
      "text/plain": [
       "VBox(children=(HTML(value='<h2>Results for <i>Text Data Quality</i> Test Plan:</h2><hr>'), HTML(value='<div cl…"
      ]
     },
     "metadata": {},
     "output_type": "display_data"
    }
   ],
   "source": [
    "config = {\n",
    "    \"class_imbalance\":{\"min_percent_threshold\": 3}\n",
    "}\n",
    "text_data_test_plan = vm.run_test_plan(\"text_data_quality\",\n",
    "                                       dataset=vm_ds,\n",
    "                                       config=config)"
   ]
  },
  {
   "attachments": {},
   "cell_type": "markdown",
   "metadata": {},
   "source": [
    "## 2. Preprocess data"
   ]
  },
  {
   "attachments": {},
   "cell_type": "markdown",
   "metadata": {},
   "source": [
    "### Handle class bias \n",
    "One way to handle class bias is to merge a specific class data with related class. \n",
    "Here, we will copy the text and class lables in separate columns so that the original text is also there for comparison."
   ]
  },
  {
   "cell_type": "code",
   "execution_count": 7,
   "metadata": {},
   "outputs": [
    {
     "name": "stdout",
     "output_type": "stream",
     "text": [
      "Original Classes: ['Neutral' 'Positive' 'Extremely Negative' 'Negative' 'Extremely Positive']\n",
      "positive    0.435814\n",
      "negative    0.378846\n",
      "neutral     0.185341\n",
      "Name: sentiment, dtype: float64\n",
      "Modified Classes: ['neutral' 'positive' 'negative']\n"
     ]
    }
   ],
   "source": [
    "print(\"Original Classes:\", df.Sentiment.unique())\n",
    "\n",
    "df['text'] = df.OriginalTweet\n",
    "df[\"text\"] = df[\"text\"].astype(str)\n",
    "\n",
    "def classes_def(x):\n",
    "    if x ==  \"Extremely Positive\":\n",
    "        return \"positive\"\n",
    "    elif x == \"Extremely Negative\":\n",
    "        return \"negative\"\n",
    "    elif x == \"Negative\":\n",
    "        return \"negative\"\n",
    "    elif x ==  \"Positive\":\n",
    "        return \"positive\"\n",
    "    else:\n",
    "        return \"neutral\"\n",
    "    \n",
    "df['sentiment']=df['Sentiment'].apply(lambda x:classes_def(x))\n",
    "target=df['sentiment']\n",
    "\n",
    "print(df.sentiment.value_counts(normalize= True))\n",
    "print(\"Modified Classes:\", df.sentiment.unique())"
   ]
  },
  {
   "attachments": {},
   "cell_type": "markdown",
   "metadata": {},
   "source": [
    "### Remove neutral class"
   ]
  },
  {
   "cell_type": "code",
   "execution_count": 8,
   "metadata": {},
   "outputs": [
    {
     "name": "stdout",
     "output_type": "stream",
     "text": [
      "['positive' 'negative']\n",
      "positive    0.534964\n",
      "negative    0.465036\n",
      "Name: sentiment, dtype: float64\n",
      "(36623, 4)\n"
     ]
    }
   ],
   "source": [
    "df = df[df[\"sentiment\"] != \"neutral\"]\n",
    "print(df.sentiment.unique())\n",
    "print(df.sentiment.value_counts(normalize= True))\n",
    "print(df.shape)"
   ]
  },
  {
   "cell_type": "code",
   "execution_count": 9,
   "metadata": {},
   "outputs": [
    {
     "data": {
      "text/html": [
       "<div>\n",
       "<style scoped>\n",
       "    .dataframe tbody tr th:only-of-type {\n",
       "        vertical-align: middle;\n",
       "    }\n",
       "\n",
       "    .dataframe tbody tr th {\n",
       "        vertical-align: top;\n",
       "    }\n",
       "\n",
       "    .dataframe thead th {\n",
       "        text-align: right;\n",
       "    }\n",
       "</style>\n",
       "<table border=\"1\" class=\"dataframe\">\n",
       "  <thead>\n",
       "    <tr style=\"text-align: right;\">\n",
       "      <th></th>\n",
       "      <th>OriginalTweet</th>\n",
       "      <th>Sentiment</th>\n",
       "      <th>text</th>\n",
       "      <th>sentiment</th>\n",
       "    </tr>\n",
       "  </thead>\n",
       "  <tbody>\n",
       "    <tr>\n",
       "      <th>1</th>\n",
       "      <td>advice Talk to your neighbours family to excha...</td>\n",
       "      <td>Positive</td>\n",
       "      <td>advice Talk to your neighbours family to excha...</td>\n",
       "      <td>positive</td>\n",
       "    </tr>\n",
       "    <tr>\n",
       "      <th>2</th>\n",
       "      <td>Coronavirus Australia: Woolworths to give elde...</td>\n",
       "      <td>Positive</td>\n",
       "      <td>Coronavirus Australia: Woolworths to give elde...</td>\n",
       "      <td>positive</td>\n",
       "    </tr>\n",
       "    <tr>\n",
       "      <th>3</th>\n",
       "      <td>My food stock is not the only one which is emp...</td>\n",
       "      <td>Positive</td>\n",
       "      <td>My food stock is not the only one which is emp...</td>\n",
       "      <td>positive</td>\n",
       "    </tr>\n",
       "    <tr>\n",
       "      <th>4</th>\n",
       "      <td>Me, ready to go at supermarket during the #COV...</td>\n",
       "      <td>Extremely Negative</td>\n",
       "      <td>Me, ready to go at supermarket during the #COV...</td>\n",
       "      <td>negative</td>\n",
       "    </tr>\n",
       "    <tr>\n",
       "      <th>5</th>\n",
       "      <td>As news of the regions first confirmed COVID-...</td>\n",
       "      <td>Positive</td>\n",
       "      <td>As news of the regions first confirmed COVID-...</td>\n",
       "      <td>positive</td>\n",
       "    </tr>\n",
       "    <tr>\n",
       "      <th>...</th>\n",
       "      <td>...</td>\n",
       "      <td>...</td>\n",
       "      <td>...</td>\n",
       "      <td>...</td>\n",
       "    </tr>\n",
       "    <tr>\n",
       "      <th>44949</th>\n",
       "      <td>@RicePolitics @MDCounties Craig, will you call...</td>\n",
       "      <td>Negative</td>\n",
       "      <td>@RicePolitics @MDCounties Craig, will you call...</td>\n",
       "      <td>negative</td>\n",
       "    </tr>\n",
       "    <tr>\n",
       "      <th>44950</th>\n",
       "      <td>Meanwhile In A Supermarket in Israel -- People...</td>\n",
       "      <td>Positive</td>\n",
       "      <td>Meanwhile In A Supermarket in Israel -- People...</td>\n",
       "      <td>positive</td>\n",
       "    </tr>\n",
       "    <tr>\n",
       "      <th>44951</th>\n",
       "      <td>Did you panic buy a lot of non-perishable item...</td>\n",
       "      <td>Negative</td>\n",
       "      <td>Did you panic buy a lot of non-perishable item...</td>\n",
       "      <td>negative</td>\n",
       "    </tr>\n",
       "    <tr>\n",
       "      <th>44953</th>\n",
       "      <td>Gov need to do somethings instead of biar je r...</td>\n",
       "      <td>Extremely Negative</td>\n",
       "      <td>Gov need to do somethings instead of biar je r...</td>\n",
       "      <td>negative</td>\n",
       "    </tr>\n",
       "    <tr>\n",
       "      <th>44954</th>\n",
       "      <td>I and @ForestandPaper members are committed to...</td>\n",
       "      <td>Extremely Positive</td>\n",
       "      <td>I and @ForestandPaper members are committed to...</td>\n",
       "      <td>positive</td>\n",
       "    </tr>\n",
       "  </tbody>\n",
       "</table>\n",
       "<p>36623 rows × 4 columns</p>\n",
       "</div>"
      ],
      "text/plain": [
       "                                           OriginalTweet           Sentiment  \\\n",
       "1      advice Talk to your neighbours family to excha...            Positive   \n",
       "2      Coronavirus Australia: Woolworths to give elde...            Positive   \n",
       "3      My food stock is not the only one which is emp...            Positive   \n",
       "4      Me, ready to go at supermarket during the #COV...  Extremely Negative   \n",
       "5      As news of the regions first confirmed COVID-...            Positive   \n",
       "...                                                  ...                 ...   \n",
       "44949  @RicePolitics @MDCounties Craig, will you call...            Negative   \n",
       "44950  Meanwhile In A Supermarket in Israel -- People...            Positive   \n",
       "44951  Did you panic buy a lot of non-perishable item...            Negative   \n",
       "44953  Gov need to do somethings instead of biar je r...  Extremely Negative   \n",
       "44954  I and @ForestandPaper members are committed to...  Extremely Positive   \n",
       "\n",
       "                                                    text sentiment  \n",
       "1      advice Talk to your neighbours family to excha...  positive  \n",
       "2      Coronavirus Australia: Woolworths to give elde...  positive  \n",
       "3      My food stock is not the only one which is emp...  positive  \n",
       "4      Me, ready to go at supermarket during the #COV...  negative  \n",
       "5      As news of the regions first confirmed COVID-...  positive  \n",
       "...                                                  ...       ...  \n",
       "44949  @RicePolitics @MDCounties Craig, will you call...  negative  \n",
       "44950  Meanwhile In A Supermarket in Israel -- People...  positive  \n",
       "44951  Did you panic buy a lot of non-perishable item...  negative  \n",
       "44953  Gov need to do somethings instead of biar je r...  negative  \n",
       "44954  I and @ForestandPaper members are committed to...  positive  \n",
       "\n",
       "[36623 rows x 4 columns]"
      ]
     },
     "execution_count": 9,
     "metadata": {},
     "output_type": "execute_result"
    }
   ],
   "source": [
    "df"
   ]
  },
  {
   "attachments": {},
   "cell_type": "markdown",
   "metadata": {},
   "source": [
    "### Remove urls and html links"
   ]
  },
  {
   "cell_type": "code",
   "execution_count": 10,
   "metadata": {},
   "outputs": [],
   "source": [
    "#Remove Urls and HTML links\n",
    "import re\n",
    "\n",
    "def remove_urls(text):\n",
    "    url_remove = re.compile(r'https?://\\S+|www\\.\\S+')\n",
    "    return url_remove.sub(r'', text)\n",
    "\n",
    "df['text']=df['text'].apply(lambda x:remove_urls(x))\n",
    "\n",
    "def remove_html(text):\n",
    "    html=re.compile(r'<.*?>')\n",
    "    return html.sub(r'',text)\n",
    "\n",
    "df['text']=df['text'].apply(lambda x:remove_html(x))"
   ]
  },
  {
   "attachments": {},
   "cell_type": "markdown",
   "metadata": {},
   "source": [
    "### Convert text to lower case \n"
   ]
  },
  {
   "cell_type": "code",
   "execution_count": 11,
   "metadata": {},
   "outputs": [],
   "source": [
    "# Lower casing\n",
    "def lower(text):\n",
    "    low_text= text.lower()\n",
    "    return low_text\n",
    "df['text']=df['text'].apply(lambda x:lower(x))\n"
   ]
  },
  {
   "attachments": {},
   "cell_type": "markdown",
   "metadata": {},
   "source": [
    "### Remove numbers "
   ]
  },
  {
   "cell_type": "code",
   "execution_count": 12,
   "metadata": {},
   "outputs": [],
   "source": [
    "# Number removal\n",
    "def remove_num(text):\n",
    "    remove= re.sub(r'\\d+', '', text)\n",
    "    return remove\n",
    "df['text']=df['text'].apply(lambda x:remove_num(x))\n"
   ]
  },
  {
   "attachments": {},
   "cell_type": "markdown",
   "metadata": {},
   "source": [
    "### Remove stopwords "
   ]
  },
  {
   "cell_type": "code",
   "execution_count": 13,
   "metadata": {},
   "outputs": [],
   "source": [
    "#Remove stopwords\n",
    "from nltk.corpus import stopwords\n",
    "\", \".join(stopwords.words('english'))\n",
    "STOPWORDS = set(stopwords.words('english'))\n",
    "\n",
    "def remove_stopwords(text):\n",
    "    \"\"\"custom function to remove the stopwords\"\"\"\n",
    "    return \" \".join([word for word in str(text).split() if word not in STOPWORDS])\n",
    "df['text']=df['text'].apply(lambda x:remove_stopwords(x))"
   ]
  },
  {
   "attachments": {},
   "cell_type": "markdown",
   "metadata": {},
   "source": [
    "### Remove Punctuations "
   ]
  },
  {
   "cell_type": "code",
   "execution_count": 14,
   "metadata": {},
   "outputs": [],
   "source": [
    "#Remove Punctuations\n",
    "\n",
    "def punct_remove(text):\n",
    "    punct = re.sub(r\"[^\\w\\s\\d]\",\"\", text)\n",
    "    return punct\n",
    "df['text']=df['text'].apply(lambda x:punct_remove(x))\n"
   ]
  },
  {
   "attachments": {},
   "cell_type": "markdown",
   "metadata": {},
   "source": [
    "### Remove mentions "
   ]
  },
  {
   "cell_type": "code",
   "execution_count": 15,
   "metadata": {},
   "outputs": [],
   "source": [
    "#Remove mentions \n",
    "def remove_mention(x):\n",
    "    text=re.sub(r'@\\w+','',x)\n",
    "    return text\n",
    "df['text']=df['text'].apply(lambda x:remove_mention(x))\n"
   ]
  },
  {
   "attachments": {},
   "cell_type": "markdown",
   "metadata": {},
   "source": [
    "### Remove hashtags "
   ]
  },
  {
   "cell_type": "code",
   "execution_count": 16,
   "metadata": {},
   "outputs": [],
   "source": [
    "#Remove hashtags \n",
    "\n",
    "def remove_hash(x):\n",
    "    text=re.sub(r'#\\w+','',x)\n",
    "    return text\n",
    "df['text']=df['text'].apply(lambda x:remove_hash(x))"
   ]
  },
  {
   "attachments": {},
   "cell_type": "markdown",
   "metadata": {},
   "source": [
    "### Remove extra white space left while removing stuff"
   ]
  },
  {
   "cell_type": "code",
   "execution_count": 17,
   "metadata": {},
   "outputs": [],
   "source": [
    "#Remove extra white space left while removing stuff\n",
    "def remove_space(text):\n",
    "    space_remove = re.sub(r\"\\s+\",\" \",text).strip()\n",
    "    return space_remove\n",
    "df['text']=df['text'].apply(lambda x:remove_space(x))"
   ]
  },
  {
   "cell_type": "code",
   "execution_count": 18,
   "metadata": {},
   "outputs": [
    {
     "data": {
      "text/html": [
       "<div>\n",
       "<style scoped>\n",
       "    .dataframe tbody tr th:only-of-type {\n",
       "        vertical-align: middle;\n",
       "    }\n",
       "\n",
       "    .dataframe tbody tr th {\n",
       "        vertical-align: top;\n",
       "    }\n",
       "\n",
       "    .dataframe thead th {\n",
       "        text-align: right;\n",
       "    }\n",
       "</style>\n",
       "<table border=\"1\" class=\"dataframe\">\n",
       "  <thead>\n",
       "    <tr style=\"text-align: right;\">\n",
       "      <th></th>\n",
       "      <th>OriginalTweet</th>\n",
       "      <th>Sentiment</th>\n",
       "      <th>text</th>\n",
       "      <th>sentiment</th>\n",
       "    </tr>\n",
       "  </thead>\n",
       "  <tbody>\n",
       "    <tr>\n",
       "      <th>1</th>\n",
       "      <td>advice Talk to your neighbours family to excha...</td>\n",
       "      <td>Positive</td>\n",
       "      <td>advice talk neighbours family exchange phone n...</td>\n",
       "      <td>positive</td>\n",
       "    </tr>\n",
       "    <tr>\n",
       "      <th>2</th>\n",
       "      <td>Coronavirus Australia: Woolworths to give elde...</td>\n",
       "      <td>Positive</td>\n",
       "      <td>coronavirus australia woolworths give elderly ...</td>\n",
       "      <td>positive</td>\n",
       "    </tr>\n",
       "    <tr>\n",
       "      <th>3</th>\n",
       "      <td>My food stock is not the only one which is emp...</td>\n",
       "      <td>Positive</td>\n",
       "      <td>food stock one empty please panic enough food ...</td>\n",
       "      <td>positive</td>\n",
       "    </tr>\n",
       "    <tr>\n",
       "      <th>4</th>\n",
       "      <td>Me, ready to go at supermarket during the #COV...</td>\n",
       "      <td>Extremely Negative</td>\n",
       "      <td>me ready go supermarket covid outbreak im para...</td>\n",
       "      <td>negative</td>\n",
       "    </tr>\n",
       "    <tr>\n",
       "      <th>5</th>\n",
       "      <td>As news of the regions first confirmed COVID-...</td>\n",
       "      <td>Positive</td>\n",
       "      <td>news regions first confirmed covid case came s...</td>\n",
       "      <td>positive</td>\n",
       "    </tr>\n",
       "    <tr>\n",
       "      <th>...</th>\n",
       "      <td>...</td>\n",
       "      <td>...</td>\n",
       "      <td>...</td>\n",
       "      <td>...</td>\n",
       "    </tr>\n",
       "    <tr>\n",
       "      <th>44949</th>\n",
       "      <td>@RicePolitics @MDCounties Craig, will you call...</td>\n",
       "      <td>Negative</td>\n",
       "      <td>ricepolitics mdcounties craig call general ass...</td>\n",
       "      <td>negative</td>\n",
       "    </tr>\n",
       "    <tr>\n",
       "      <th>44950</th>\n",
       "      <td>Meanwhile In A Supermarket in Israel -- People...</td>\n",
       "      <td>Positive</td>\n",
       "      <td>meanwhile supermarket israel people dance sing...</td>\n",
       "      <td>positive</td>\n",
       "    </tr>\n",
       "    <tr>\n",
       "      <th>44951</th>\n",
       "      <td>Did you panic buy a lot of non-perishable item...</td>\n",
       "      <td>Negative</td>\n",
       "      <td>panic buy lot nonperishable items echo needs f...</td>\n",
       "      <td>negative</td>\n",
       "    </tr>\n",
       "    <tr>\n",
       "      <th>44953</th>\n",
       "      <td>Gov need to do somethings instead of biar je r...</td>\n",
       "      <td>Extremely Negative</td>\n",
       "      <td>gov need somethings instead biar je rakyat ass...</td>\n",
       "      <td>negative</td>\n",
       "    </tr>\n",
       "    <tr>\n",
       "      <th>44954</th>\n",
       "      <td>I and @ForestandPaper members are committed to...</td>\n",
       "      <td>Extremely Positive</td>\n",
       "      <td>forestandpaper members committed safety employ...</td>\n",
       "      <td>positive</td>\n",
       "    </tr>\n",
       "  </tbody>\n",
       "</table>\n",
       "<p>36623 rows × 4 columns</p>\n",
       "</div>"
      ],
      "text/plain": [
       "                                           OriginalTweet           Sentiment  \\\n",
       "1      advice Talk to your neighbours family to excha...            Positive   \n",
       "2      Coronavirus Australia: Woolworths to give elde...            Positive   \n",
       "3      My food stock is not the only one which is emp...            Positive   \n",
       "4      Me, ready to go at supermarket during the #COV...  Extremely Negative   \n",
       "5      As news of the regions first confirmed COVID-...            Positive   \n",
       "...                                                  ...                 ...   \n",
       "44949  @RicePolitics @MDCounties Craig, will you call...            Negative   \n",
       "44950  Meanwhile In A Supermarket in Israel -- People...            Positive   \n",
       "44951  Did you panic buy a lot of non-perishable item...            Negative   \n",
       "44953  Gov need to do somethings instead of biar je r...  Extremely Negative   \n",
       "44954  I and @ForestandPaper members are committed to...  Extremely Positive   \n",
       "\n",
       "                                                    text sentiment  \n",
       "1      advice talk neighbours family exchange phone n...  positive  \n",
       "2      coronavirus australia woolworths give elderly ...  positive  \n",
       "3      food stock one empty please panic enough food ...  positive  \n",
       "4      me ready go supermarket covid outbreak im para...  negative  \n",
       "5      news regions first confirmed covid case came s...  positive  \n",
       "...                                                  ...       ...  \n",
       "44949  ricepolitics mdcounties craig call general ass...  negative  \n",
       "44950  meanwhile supermarket israel people dance sing...  positive  \n",
       "44951  panic buy lot nonperishable items echo needs f...  negative  \n",
       "44953  gov need somethings instead biar je rakyat ass...  negative  \n",
       "44954  forestandpaper members committed safety employ...  positive  \n",
       "\n",
       "[36623 rows x 4 columns]"
      ]
     },
     "execution_count": 18,
     "metadata": {},
     "output_type": "execute_result"
    }
   ],
   "source": [
    "df"
   ]
  },
  {
   "attachments": {},
   "cell_type": "markdown",
   "metadata": {},
   "source": [
    "### Run text data quality tests again\n",
    "Here, we are checking the quality of the data again by running data quality tests so verify that we have preprocess data well and tests are passing according to our requirements."
   ]
  },
  {
   "cell_type": "code",
   "execution_count": 19,
   "metadata": {},
   "outputs": [
    {
     "name": "stderr",
     "output_type": "stream",
     "text": [
      "2023-07-06 12:52:42,024 - INFO - client - Pandas dataset detected. Initializing VM Dataset instance...\n",
      "2023-07-06 12:52:42,024 - INFO - dataset - Inferring dataset types...\n"
     ]
    },
    {
     "data": {
      "application/vnd.jupyter.widget-view+json": {
       "model_id": "ccb0aae50efc417289df21cd37fee5c5",
       "version_major": 2,
       "version_minor": 0
      },
      "text/plain": [
       "HBox(children=(Label(value='Running test plan...'), IntProgress(value=0, max=14)))"
      ]
     },
     "metadata": {},
     "output_type": "display_data"
    },
    {
     "name": "stderr",
     "output_type": "stream",
     "text": [
      "[nltk_data] Downloading package stopwords to\n",
      "[nltk_data]     /Users/anilsorathiya/nltk_data...\n",
      "[nltk_data]   Package stopwords is already up-to-date!\n",
      "[nltk_data] Downloading package stopwords to\n",
      "[nltk_data]     /Users/anilsorathiya/nltk_data...\n",
      "[nltk_data]   Package stopwords is already up-to-date!\n"
     ]
    },
    {
     "data": {
      "application/vnd.jupyter.widget-view+json": {
       "model_id": "509afbf5d2f44565837a13b4a12de3e2",
       "version_major": 2,
       "version_minor": 0
      },
      "text/plain": [
       "VBox(children=(HTML(value='<h2>Results for <i>Text Data Quality</i> Test Plan:</h2><hr>'), HTML(value='<div cl…"
      ]
     },
     "metadata": {},
     "output_type": "display_data"
    }
   ],
   "source": [
    "vm_ds = vm.init_dataset(dataset=df, type=\"generic\", text_column='text', target_column=\"sentiment\")\n",
    "\n",
    "config = {\n",
    "    \"class_imbalance\":{\"min_percent_threshold\": 3}\n",
    "}\n",
    "text_data_test_plan = vm.run_test_plan(\"text_data_quality\",\n",
    "                                       dataset=vm_ds,\n",
    "                                       config=config)"
   ]
  },
  {
   "attachments": {},
   "cell_type": "markdown",
   "metadata": {},
   "source": [
    "## 4. Modeling "
   ]
  },
  {
   "attachments": {},
   "cell_type": "markdown",
   "metadata": {},
   "source": [
    "### Training, validation, test\n",
    "\n",
    "With our data in nice shape, we'll split it into training, validation, and test sets."
   ]
  },
  {
   "cell_type": "code",
   "execution_count": 20,
   "metadata": {},
   "outputs": [
    {
     "name": "stdout",
     "output_type": "stream",
     "text": [
      "[0 1]\n",
      "                                       OriginalTweet           Sentiment  \\\n",
      "1  advice Talk to your neighbours family to excha...            Positive   \n",
      "2  Coronavirus Australia: Woolworths to give elde...            Positive   \n",
      "3  My food stock is not the only one which is emp...            Positive   \n",
      "4  Me, ready to go at supermarket during the #COV...  Extremely Negative   \n",
      "5  As news of the regions first confirmed COVID-...            Positive   \n",
      "\n",
      "                                                text sentiment  \n",
      "1  advice talk neighbours family exchange phone n...         1  \n",
      "2  coronavirus australia woolworths give elderly ...         1  \n",
      "3  food stock one empty please panic enough food ...         1  \n",
      "4  me ready go supermarket covid outbreak im para...         0  \n",
      "5  news regions first confirmed covid case came s...         1  \n"
     ]
    }
   ],
   "source": [
    "\n",
    "df = df[df['sentiment'] != \"neutral\"]\n",
    "df.loc[df['sentiment'] == \"positive\", 'sentiment'] = 1\n",
    "df.loc[df['sentiment'] == \"negative\", 'sentiment'] = 0\n",
    "print(np.unique(df['sentiment']))\n",
    "\n",
    "print(df.head())\n",
    "train, test = train_test_split(df[['text','sentiment']], test_size=0.33, random_state=42)\n",
    "train = train[['text','sentiment']]\n",
    "test = test[['text','sentiment']]\n",
    "\n",
    "train, valid = train_test_split(\n",
    "    train,\n",
    "    train_size=0.7,\n",
    "    random_state=0,\n",
    "    stratify=train['sentiment'])\n",
    "y_train, X_train = \\\n",
    "    train['sentiment'], train.drop(['sentiment'], axis=1)\n",
    "y_valid, X_valid = \\\n",
    "    valid['sentiment'], valid.drop(['sentiment'], axis=1)\n",
    "y_test, X_test= \\\n",
    "    test['sentiment'], test.drop(['sentiment'], axis=1)"
   ]
  },
  {
   "attachments": {},
   "cell_type": "markdown",
   "metadata": {},
   "source": [
    "### Build model"
   ]
  },
  {
   "cell_type": "code",
   "execution_count": 21,
   "metadata": {},
   "outputs": [],
   "source": [
    "def fit_model(X_train, y_train,val_data, **kwargs):\n",
    "    model = CatBoostClassifier(\n",
    "        task_type='CPU',\n",
    "        iterations=5000,\n",
    "        eval_metric='Accuracy',\n",
    "        od_type='Iter',\n",
    "        od_wait=500,\n",
    "        **kwargs\n",
    "    )\n",
    "    return model.fit(\n",
    "        X=X_train,\n",
    "        y=y_train,\n",
    "        eval_set=val_data,\n",
    "        verbose=100,\n",
    "        plot=True,\n",
    "        use_best_model=True\n",
    "        )"
   ]
  },
  {
   "cell_type": "code",
   "execution_count": 22,
   "metadata": {},
   "outputs": [
    {
     "data": {
      "application/vnd.jupyter.widget-view+json": {
       "model_id": "336dac05bfd94f20b6458d76f1cab2dd",
       "version_major": 2,
       "version_minor": 0
      },
      "text/plain": [
       "MetricVisualizer(layout=Layout(align_self='stretch', height='500px'))"
      ]
     },
     "metadata": {},
     "output_type": "display_data"
    },
    {
     "name": "stdout",
     "output_type": "stream",
     "text": [
      "0:\tlearn: 0.6037263\ttest: 0.6062211\tbest: 0.6062211 (0)\ttotal: 101ms\tremaining: 8m 25s\n",
      "100:\tlearn: 0.8601456\ttest: 0.8288509\tbest: 0.8291225 (98)\ttotal: 4.36s\tremaining: 3m 31s\n",
      "200:\tlearn: 0.9101601\ttest: 0.8515349\tbest: 0.8528932 (193)\ttotal: 8.52s\tremaining: 3m 23s\n",
      "300:\tlearn: 0.9349054\ttest: 0.8562891\tbest: 0.8564249 (297)\ttotal: 12.8s\tremaining: 3m 19s\n",
      "400:\tlearn: 0.9557496\ttest: 0.8566965\tbest: 0.8583265 (348)\ttotal: 17s\tremaining: 3m 15s\n",
      "500:\tlearn: 0.9712955\ttest: 0.8569682\tbest: 0.8583265 (348)\ttotal: 21.2s\tremaining: 3m 10s\n",
      "600:\tlearn: 0.9795633\ttest: 0.8576474\tbest: 0.8583265 (348)\ttotal: 25.3s\tremaining: 3m 5s\n",
      "700:\tlearn: 0.9865502\ttest: 0.8533007\tbest: 0.8583265 (348)\ttotal: 29.6s\tremaining: 3m 1s\n",
      "800:\tlearn: 0.9915575\ttest: 0.8572399\tbest: 0.8583265 (348)\ttotal: 33.8s\tremaining: 2m 57s\n",
      "900:\tlearn: 0.9949345\ttest: 0.8603640\tbest: 0.8610432 (869)\ttotal: 38.1s\tremaining: 2m 53s\n",
      "1000:\tlearn: 0.9970306\ttest: 0.8604999\tbest: 0.8610432 (869)\ttotal: 42.4s\tremaining: 2m 49s\n",
      "1100:\tlearn: 0.9980786\ttest: 0.8590057\tbest: 0.8611790 (1038)\ttotal: 46.7s\tremaining: 2m 45s\n",
      "1200:\tlearn: 0.9985444\ttest: 0.8602282\tbest: 0.8611790 (1038)\ttotal: 51s\tremaining: 2m 41s\n",
      "1300:\tlearn: 0.9987773\ttest: 0.8626732\tbest: 0.8632165 (1261)\ttotal: 55.2s\tremaining: 2m 37s\n",
      "1400:\tlearn: 0.9990684\ttest: 0.8621299\tbest: 0.8632165 (1261)\ttotal: 59.5s\tremaining: 2m 32s\n",
      "1500:\tlearn: 0.9991266\ttest: 0.8624015\tbest: 0.8636240 (1464)\ttotal: 1m 3s\tremaining: 2m 28s\n",
      "1600:\tlearn: 0.9991849\ttest: 0.8614507\tbest: 0.8636240 (1464)\ttotal: 1m 8s\tremaining: 2m 24s\n",
      "1700:\tlearn: 0.9992431\ttest: 0.8617224\tbest: 0.8636240 (1464)\ttotal: 1m 12s\tremaining: 2m 20s\n",
      "1800:\tlearn: 0.9993013\ttest: 0.8613149\tbest: 0.8638957 (1756)\ttotal: 1m 16s\tremaining: 2m 16s\n",
      "1900:\tlearn: 0.9994178\ttest: 0.8614507\tbest: 0.8638957 (1756)\ttotal: 1m 21s\tremaining: 2m 12s\n",
      "2000:\tlearn: 0.9994760\ttest: 0.8604999\tbest: 0.8638957 (1756)\ttotal: 1m 25s\tremaining: 2m 8s\n",
      "2100:\tlearn: 0.9994760\ttest: 0.8600924\tbest: 0.8638957 (1756)\ttotal: 1m 29s\tremaining: 2m 3s\n",
      "2200:\tlearn: 0.9994760\ttest: 0.8607715\tbest: 0.8638957 (1756)\ttotal: 1m 34s\tremaining: 1m 59s\n",
      "Stopped by overfitting detector  (500 iterations wait)\n",
      "\n",
      "bestTest = 0.8638956805\n",
      "bestIteration = 1756\n",
      "\n",
      "Shrink model to first 1757 iterations.\n"
     ]
    }
   ],
   "source": [
    "model = fit_model(\n",
    "    X_train, y_train,\n",
    "    val_data=(X_valid,y_valid),\n",
    "    text_features=['text'],\n",
    "    learning_rate=0.35,\n",
    "    tokenizers=[\n",
    "        {\n",
    "            'tokenizer_id': 'Sense',\n",
    "            'separator_type': 'BySense',\n",
    "            'lowercasing': 'True',\n",
    "            'token_types':['Word', 'Number', 'SentenceBreak'],\n",
    "            'sub_tokens_policy':'SeveralTokens'\n",
    "        }      \n",
    "    ],\n",
    "    dictionaries = [\n",
    "        {\n",
    "            'dictionary_id': 'Word',\n",
    "            'max_dictionary_size': '5000'\n",
    "        }\n",
    "    ],\n",
    "    feature_calcers = [\n",
    "        'BoW:top_tokens_count=10000'\n",
    "    ]\n",
    ")"
   ]
  },
  {
   "attachments": {},
   "cell_type": "markdown",
   "metadata": {},
   "source": [
    "### Initialize validmind objects"
   ]
  },
  {
   "cell_type": "code",
   "execution_count": 23,
   "metadata": {},
   "outputs": [
    {
     "name": "stderr",
     "output_type": "stream",
     "text": [
      "2023-07-06 12:54:24,980 - INFO - client - Pandas dataset detected. Initializing VM Dataset instance...\n",
      "2023-07-06 12:54:24,982 - INFO - dataset - Inferring dataset types...\n",
      "2023-07-06 12:54:24,998 - INFO - client - Pandas dataset detected. Initializing VM Dataset instance...\n",
      "2023-07-06 12:54:24,999 - INFO - dataset - Inferring dataset types...\n"
     ]
    }
   ],
   "source": [
    "vm_train_ds = vm.init_dataset(dataset=pd.concat([X_train, y_train], axis=1), type=\"generic\", target_column=\"sentiment\")\n",
    "vm_test_ds = vm.init_dataset(dataset=pd.concat([X_test, y_test], axis=1), type=\"generic\",target_column=\"sentiment\")\n",
    "vm_model = vm.init_model(model, train_ds=vm_train_ds, test_ds=vm_test_ds)"
   ]
  },
  {
   "attachments": {},
   "cell_type": "markdown",
   "metadata": {},
   "source": [
    "#### Run model metrics test plan"
   ]
  },
  {
   "cell_type": "code",
   "execution_count": 24,
   "metadata": {},
   "outputs": [
    {
     "data": {
      "application/vnd.jupyter.widget-view+json": {
       "model_id": "b6ea398a2fd243a6bd85a1a45caaae6e",
       "version_major": 2,
       "version_minor": 0
      },
      "text/plain": [
       "HBox(children=(Label(value='Running test plan...'), IntProgress(value=0, max=20)))"
      ]
     },
     "metadata": {},
     "output_type": "display_data"
    },
    {
     "name": "stderr",
     "output_type": "stream",
     "text": [
      "2023-07-06 12:54:25,525 - INFO - PermutationFeatureImportance - Skiping PFI for catboost models\n",
      "2023-07-06 12:54:25,555 - INFO - PopulationStabilityIndex - Skiping PSI for catboost models\n",
      "2023-07-06 12:54:25,556 - INFO - SHAPGlobalImportance - Skiping SHAP for catboost models\n"
     ]
    },
    {
     "data": {
      "application/vnd.jupyter.widget-view+json": {
       "model_id": "0794d38204934b49a7d4b1dc1d6db302",
       "version_major": 2,
       "version_minor": 0
      },
      "text/plain": [
       "VBox(children=(HTML(value='<h2>Results for <i>Binary Classifier Metrics</i> Test Plan:</h2><hr>'), HTML(value=…"
      ]
     },
     "metadata": {},
     "output_type": "display_data"
    }
   ],
   "source": [
    "model_metrics_test_plan = vm.run_test_plan(\"binary_classifier_metrics\", \n",
    "                                             model=vm_model\n",
    "                                            )"
   ]
  },
  {
   "attachments": {},
   "cell_type": "markdown",
   "metadata": {},
   "source": [
    "#### Run model validation test plan"
   ]
  },
  {
   "cell_type": "code",
   "execution_count": 25,
   "metadata": {},
   "outputs": [
    {
     "data": {
      "application/vnd.jupyter.widget-view+json": {
       "model_id": "acec797f33ca4a548ea62bc3ed2f2958",
       "version_major": 2,
       "version_minor": 0
      },
      "text/plain": [
       "HBox(children=(Label(value='Running test plan...'), IntProgress(value=0, max=8)))"
      ]
     },
     "metadata": {},
     "output_type": "display_data"
    },
    {
     "data": {
      "application/vnd.jupyter.widget-view+json": {
       "model_id": "757e53f450294ff7a15a02b0f568f161",
       "version_major": 2,
       "version_minor": 0
      },
      "text/plain": [
       "VBox(children=(HTML(value='<h2>Results for <i>Binary Classifier Validation</i> Test Plan:</h2><hr>'), HTML(val…"
      ]
     },
     "metadata": {},
     "output_type": "display_data"
    }
   ],
   "source": [
    "model_validation_test_plan = vm.run_test_plan(\"binary_classifier_validation\", \n",
    "                                             model=vm_model\n",
    "                                            )"
   ]
  },
  {
   "cell_type": "code",
   "execution_count": null,
   "metadata": {},
   "outputs": [],
   "source": []
  }
 ],
 "metadata": {
  "kernelspec": {
   "display_name": "Dev Framework 3.9.16",
   "language": "python",
   "name": "dev-framework-3.9"
  },
  "language_info": {
   "codemirror_mode": {
    "name": "ipython",
    "version": 3
   },
   "file_extension": ".py",
   "mimetype": "text/x-python",
   "name": "python",
   "nbconvert_exporter": "python",
   "pygments_lexer": "ipython3",
   "version": "3.9.16"
  },
  "orig_nbformat": 4
 },
 "nbformat": 4,
 "nbformat_minor": 2
}
