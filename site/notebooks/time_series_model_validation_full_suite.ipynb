{
 "cells": [
  {
   "attachments": {},
   "cell_type": "markdown",
   "metadata": {},
   "source": [
    "# Time Series Model Validation Test Suite"
   ]
  },
  {
   "attachments": {},
   "cell_type": "markdown",
   "metadata": {},
   "source": [
    "## 1. Introduction"
   ]
  },
  {
   "attachments": {},
   "cell_type": "markdown",
   "metadata": {},
   "source": [
    "## 2. Setup \n",
    "\n",
    "Prepare the environment for our analysis. First, **import** all necessary libraries and modules required for our analysis. Next, **connect** to the ValidMind MRM platform, which provides a comprehensive suite of tools and services for model validation.\n",
    "\n",
    "Finally, define and **configure** the specific use case we are working on by setting up any required parameters, data sources, or other settings that will be used throughout the analysis. "
   ]
  },
  {
   "attachments": {},
   "cell_type": "markdown",
   "metadata": {},
   "source": [
    "### Import Libraries"
   ]
  },
  {
   "cell_type": "code",
   "execution_count": 1,
   "metadata": {},
   "outputs": [],
   "source": [
    "# Load API key and secret from environment variables\n",
    "%load_ext dotenv\n",
    "%dotenv .env\n",
    "\n",
    "# ValidMind libraries \n",
    "import validmind as vm"
   ]
  },
  {
   "attachments": {},
   "cell_type": "markdown",
   "metadata": {},
   "source": [
    "### Connect to the ValidMind Library"
   ]
  },
  {
   "cell_type": "code",
   "execution_count": 2,
   "metadata": {},
   "outputs": [
    {
     "name": "stdout",
     "output_type": "stream",
     "text": [
      "Connected to ValidMind. Project: Customer Churn Model - Initial Validation (clhhz04x40000wcy6shay2oco)\n"
     ]
    }
   ],
   "source": [
    "vm.init(\n",
    "  api_host = \"http://localhost:3000/api/v1/tracking\",\n",
    "  project = \"clhhz04x40000wcy6shay2oco\"\n",
    ")"
   ]
  },
  {
   "attachments": {},
   "cell_type": "markdown",
   "metadata": {},
   "source": [
    "### Find All Test Suites and Plans Available in the Developer Framework"
   ]
  },
  {
   "cell_type": "code",
   "execution_count": 3,
   "metadata": {},
   "outputs": [
    {
     "data": {
      "text/html": [
       "<table>\n",
       "<thead>\n",
       "<tr><th>ID                                </th><th>Name                           </th><th>Description                                      </th><th>Test Plans                                                                                                                                   </th></tr>\n",
       "</thead>\n",
       "<tbody>\n",
       "<tr><td>binary_classifier_full_suite      </td><td>BinaryClassifierFullSuite      </td><td>Full test suite for binary classification models.</td><td>tabular_dataset_description, tabular_data_quality, binary_classifier_metrics, binary_classifier_validation, binary_classifier_model_diagnosis</td></tr>\n",
       "<tr><td>binary_classifier_model_validation</td><td>BinaryClassifierModelValidation</td><td>Test suite for binary classification models.     </td><td>binary_classifier_metrics, binary_classifier_validation, binary_classifier_model_diagnosis                                                   </td></tr>\n",
       "<tr><td>tabular_dataset                   </td><td>TabularDataset                 </td><td>Test suite for tabular datasets.                 </td><td>tabular_dataset_description, tabular_data_quality                                                                                            </td></tr>\n",
       "<tr><td>time_series_dataset               </td><td>TimeSeriesDataset              </td><td>Test suite for time series datasets.             </td><td>time_series_data_quality, time_series_univariate, time_series_multivariate                                                                   </td></tr>\n",
       "<tr><td>time_series_model_validation      </td><td>TimeSeriesModelValidation      </td><td>Test suite for time series model validation.     </td><td>regression_model_performance, regression_models_comparison, time_series_forecast                                                             </td></tr>\n",
       "</tbody>\n",
       "</table>"
      ],
      "text/plain": [
       "'<table>\\n<thead>\\n<tr><th>ID                                </th><th>Name                           </th><th>Description                                      </th><th>Test Plans                                                                                                                                   </th></tr>\\n</thead>\\n<tbody>\\n<tr><td>binary_classifier_full_suite      </td><td>BinaryClassifierFullSuite      </td><td>Full test suite for binary classification models.</td><td>tabular_dataset_description, tabular_data_quality, binary_classifier_metrics, binary_classifier_validation, binary_classifier_model_diagnosis</td></tr>\\n<tr><td>binary_classifier_model_validation</td><td>BinaryClassifierModelValidation</td><td>Test suite for binary classification models.     </td><td>binary_classifier_metrics, binary_classifier_validation, binary_classifier_model_diagnosis                                                   </td></tr>\\n<tr><td>tabular_dataset                   </td><td>TabularDataset                 </td><td>Test suite for tabular datasets.                 </td><td>tabular_dataset_description, tabular_data_quality                                                                                            </td></tr>\\n<tr><td>time_series_dataset               </td><td>TimeSeriesDataset              </td><td>Test suite for time series datasets.             </td><td>time_series_data_quality, time_series_univariate, time_series_multivariate                                                                   </td></tr>\\n<tr><td>time_series_model_validation      </td><td>TimeSeriesModelValidation      </td><td>Test suite for time series model validation.     </td><td>regression_model_performance, regression_models_comparison, time_series_forecast                                                             </td></tr>\\n</tbody>\\n</table>'"
      ]
     },
     "execution_count": 3,
     "metadata": {},
     "output_type": "execute_result"
    }
   ],
   "source": [
    "vm.test_suites.list_suites()"
   ]
  },
  {
   "cell_type": "code",
   "execution_count": 4,
   "metadata": {},
   "outputs": [
    {
     "data": {
      "text/html": [
       "<table>\n",
       "<thead>\n",
       "<tr><th>ID                               </th><th>Name                       </th><th>Description                                                                </th></tr>\n",
       "</thead>\n",
       "<tbody>\n",
       "<tr><td>binary_classifier_metrics        </td><td>BinaryClassifierMetrics    </td><td>Test plan for sklearn classifier metrics                                   </td></tr>\n",
       "<tr><td>binary_classifier_validation     </td><td>BinaryClassifierPerformance</td><td>Test plan for sklearn classifier models                                    </td></tr>\n",
       "<tr><td>binary_classifier_model_diagnosis</td><td>BinaryClassifierDiagnosis  </td><td>Test plan for sklearn classifier model diagnosis tests                     </td></tr>\n",
       "<tr><td>tabular_dataset_description      </td><td>TabularDatasetDescription  </td><td>Test plan to extract metadata and descriptive\n",
       "    statistics from a tabular dataset                                                                            </td></tr>\n",
       "<tr><td>tabular_data_quality             </td><td>TabularDataQuality         </td><td>Test plan for data quality on tabular datasets                             </td></tr>\n",
       "<tr><td>time_series_data_quality         </td><td>TimeSeriesDataQuality      </td><td>Test plan for data quality on time series datasets                         </td></tr>\n",
       "<tr><td>time_series_univariate           </td><td>TimeSeriesUnivariate       </td><td>Test plan to perform time series univariate analysis.                      </td></tr>\n",
       "<tr><td>time_series_multivariate         </td><td>TimeSeriesMultivariate     </td><td>Test plan to perform time series multivariate analysis.                    </td></tr>\n",
       "<tr><td>time_series_forecast             </td><td>TimeSeriesForecast         </td><td>Test plan to perform time series forecast tests.                           </td></tr>\n",
       "<tr><td>regression_model_performance     </td><td>RegressionModelPerformance </td><td>Test plan for performance metric of regression model of statsmodels library</td></tr>\n",
       "<tr><td>regression_models_comparison     </td><td>RegressionModelsComparison </td><td>Test plan for metrics comparison of regression model of statsmodels library</td></tr>\n",
       "</tbody>\n",
       "</table>"
      ],
      "text/plain": [
       "'<table>\\n<thead>\\n<tr><th>ID                               </th><th>Name                       </th><th>Description                                                                </th></tr>\\n</thead>\\n<tbody>\\n<tr><td>binary_classifier_metrics        </td><td>BinaryClassifierMetrics    </td><td>Test plan for sklearn classifier metrics                                   </td></tr>\\n<tr><td>binary_classifier_validation     </td><td>BinaryClassifierPerformance</td><td>Test plan for sklearn classifier models                                    </td></tr>\\n<tr><td>binary_classifier_model_diagnosis</td><td>BinaryClassifierDiagnosis  </td><td>Test plan for sklearn classifier model diagnosis tests                     </td></tr>\\n<tr><td>tabular_dataset_description      </td><td>TabularDatasetDescription  </td><td>Test plan to extract metadata and descriptive\\n    statistics from a tabular dataset                                                                            </td></tr>\\n<tr><td>tabular_data_quality             </td><td>TabularDataQuality         </td><td>Test plan for data quality on tabular datasets                             </td></tr>\\n<tr><td>time_series_data_quality         </td><td>TimeSeriesDataQuality      </td><td>Test plan for data quality on time series datasets                         </td></tr>\\n<tr><td>time_series_univariate           </td><td>TimeSeriesUnivariate       </td><td>Test plan to perform time series univariate analysis.                      </td></tr>\\n<tr><td>time_series_multivariate         </td><td>TimeSeriesMultivariate     </td><td>Test plan to perform time series multivariate analysis.                    </td></tr>\\n<tr><td>time_series_forecast             </td><td>TimeSeriesForecast         </td><td>Test plan to perform time series forecast tests.                           </td></tr>\\n<tr><td>regression_model_performance     </td><td>RegressionModelPerformance </td><td>Test plan for performance metric of regression model of statsmodels library</td></tr>\\n<tr><td>regression_models_comparison     </td><td>RegressionModelsComparison </td><td>Test plan for metrics comparison of regression model of statsmodels library</td></tr>\\n</tbody>\\n</table>'"
      ]
     },
     "execution_count": 4,
     "metadata": {},
     "output_type": "execute_result"
    }
   ],
   "source": [
    "vm.test_plans.list_plans()"
   ]
  },
  {
   "attachments": {},
   "cell_type": "markdown",
   "metadata": {},
   "source": [
    "## 3. Load Models"
   ]
  },
  {
   "attachments": {},
   "cell_type": "markdown",
   "metadata": {},
   "source": [
    "#### Load Pre-Trained Time Series Models"
   ]
  },
  {
   "cell_type": "code",
   "execution_count": 5,
   "metadata": {},
   "outputs": [],
   "source": [
    "# Currently only fred pre-trained models are available\n",
    "from validmind.datasets.regression import fred as demo_dataset\n",
    "model_A, train_df_A, test_df_A = demo_dataset.load_model('fred_loan_rates_model_1')\n",
    "model_B, train_df_B, test_df_B = demo_dataset.load_model('fred_loan_rates_model_3')\n",
    "model_C, train_df_C, test_df_C = demo_dataset.load_model('fred_loan_rates_model_4')\n",
    "model_D, train_df_D, test_df_D = demo_dataset.load_model('fred_loan_rates_model_5')"
   ]
  },
  {
   "attachments": {},
   "cell_type": "markdown",
   "metadata": {},
   "source": [
    "#### Create ValidMind Datasets"
   ]
  },
  {
   "cell_type": "code",
   "execution_count": 6,
   "metadata": {},
   "outputs": [
    {
     "name": "stdout",
     "output_type": "stream",
     "text": [
      "Pandas dataset detected. Initializing VM Dataset instance...\n",
      "Inferring dataset types...\n",
      "Pandas dataset detected. Initializing VM Dataset instance...\n",
      "Inferring dataset types...\n",
      "Pandas dataset detected. Initializing VM Dataset instance...\n",
      "Inferring dataset types...\n",
      "Pandas dataset detected. Initializing VM Dataset instance...\n",
      "Inferring dataset types...\n",
      "Pandas dataset detected. Initializing VM Dataset instance...\n",
      "Inferring dataset types...\n",
      "Pandas dataset detected. Initializing VM Dataset instance...\n",
      "Inferring dataset types...\n",
      "Pandas dataset detected. Initializing VM Dataset instance...\n",
      "Inferring dataset types...\n",
      "Pandas dataset detected. Initializing VM Dataset instance...\n",
      "Inferring dataset types...\n"
     ]
    }
   ],
   "source": [
    "# Initialize training and testing datasets for model A\n",
    "vm_train_ds_A = vm.init_dataset(dataset=train_df_A, type=\"generic\", target_column=demo_dataset.target_column)\n",
    "vm_test_ds_A = vm.init_dataset(dataset=test_df_A, type=\"generic\", target_column=demo_dataset.target_column)\n",
    "\n",
    "# Initialize training and testing datasets for model B\n",
    "vm_train_ds_B = vm.init_dataset(dataset=train_df_B, type=\"generic\", target_column=demo_dataset.target_column)\n",
    "vm_test_ds_B = vm.init_dataset(dataset=test_df_B, type=\"generic\", target_column=demo_dataset.target_column)\n",
    "\n",
    "# Initialize training and testing datasets for model C\n",
    "vm_train_ds_C = vm.init_dataset(dataset=train_df_C, type=\"generic\", target_column=demo_dataset.target_column)\n",
    "vm_test_ds_C = vm.init_dataset(dataset=test_df_C, type=\"generic\", target_column=demo_dataset.target_column)\n",
    "\n",
    "# Initialize training and testing datasets for model D\n",
    "vm_train_ds_D = vm.init_dataset(dataset=train_df_D, type=\"generic\", target_column=demo_dataset.target_column)\n",
    "vm_test_ds_D = vm.init_dataset(dataset=test_df_D, type=\"generic\", target_column=demo_dataset.target_column)\n"
   ]
  },
  {
   "attachments": {},
   "cell_type": "markdown",
   "metadata": {},
   "source": [
    "#### Create ValidMind Models"
   ]
  },
  {
   "cell_type": "code",
   "execution_count": 7,
   "metadata": {},
   "outputs": [],
   "source": [
    "# Initialize model A\n",
    "vm_model_A = vm.init_model(\n",
    "    model = model_A, \n",
    "    train_ds=vm_train_ds_A, \n",
    "    test_ds=vm_test_ds_A)\n",
    "\n",
    "# Initialize model B\n",
    "vm_model_B = vm.init_model(\n",
    "    model = model_B,\n",
    "    train_ds=vm_train_ds_B,\n",
    "    test_ds=vm_test_ds_B)\n",
    "\n",
    "# Initialize model C\n",
    "vm_model_C = vm.init_model(\n",
    "    model=model_C, \n",
    "    train_ds=vm_train_ds_C, \n",
    "    test_ds=vm_test_ds_C\n",
    ")\n",
    "\n",
    "# Initialize model D\n",
    "vm_model_D = vm.init_model(\n",
    "    model=model_D,\n",
    "    train_ds=vm_train_ds_D,\n",
    "    test_ds=vm_test_ds_D\n",
    ")\n",
    "\n",
    "\n",
    "list_of_models = [vm_model_A, vm_model_B, vm_model_C, vm_model_D]"
   ]
  },
  {
   "attachments": {},
   "cell_type": "markdown",
   "metadata": {},
   "source": [
    "## 4. Model Validation"
   ]
  },
  {
   "attachments": {},
   "cell_type": "markdown",
   "metadata": {},
   "source": [
    "#### **Run Time Series Model Validation Test Suite**"
   ]
  },
  {
   "cell_type": "code",
   "execution_count": 8,
   "metadata": {},
   "outputs": [
    {
     "data": {
      "application/vnd.jupyter.widget-view+json": {
       "model_id": "aac6283d311e476898b35729b4c0af81",
       "version_major": 2,
       "version_minor": 0
      },
      "text/plain": [
       "HBox(children=(Label(value='Running test suite...'), IntProgress(value=0, max=8)))"
      ]
     },
     "metadata": {},
     "output_type": "display_data"
    },
    {
     "data": {
      "application/vnd.jupyter.widget-view+json": {
       "model_id": "bfb8bcd92ada40b9aad8d7f6ed3e0f1b",
       "version_major": 2,
       "version_minor": 0
      },
      "text/plain": [
       "VBox(children=(HTML(value='<h2>Test Suite Results: <i style=\"color: #DE257E\">Time Series Model Validation</i><…"
      ]
     },
     "metadata": {},
     "output_type": "display_data"
    }
   ],
   "source": [
    "full_suite = vm.run_test_suite(\n",
    "    \"time_series_model_validation\",\n",
    "    model = vm_model_B,\n",
    "    models=list_of_models,\n",
    ")"
   ]
  }
 ],
 "metadata": {
  "kernelspec": {
   "display_name": "validmind-eEL8LtKG-py3.10",
   "language": "python",
   "name": "python3"
  },
  "language_info": {
   "codemirror_mode": {
    "name": "ipython",
    "version": 3
   },
   "file_extension": ".py",
   "mimetype": "text/x-python",
   "name": "python",
   "nbconvert_exporter": "python",
   "pygments_lexer": "ipython3",
   "version": "3.10.9"
  },
  "orig_nbformat": 4
 },
 "nbformat": 4,
 "nbformat_minor": 2
}
