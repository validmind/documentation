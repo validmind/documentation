{
 "cells": [
  {
   "attachments": {},
   "cell_type": "markdown",
   "metadata": {},
   "source": [
    "# Credit Risk Scorecard Model Development"
   ]
  },
  {
   "attachments": {},
   "cell_type": "markdown",
   "metadata": {},
   "source": [
    "## Introduction"
   ]
  },
  {
   "attachments": {},
   "cell_type": "markdown",
   "metadata": {},
   "source": [
    "The **Credit risk Scorecard** model created from the Lending Club dataset is instrumental in computing the Probability of Default (PD), a key factor in ECL calculations. This scorecard assesses several credit characteristics of potential borrowers, like their credit history, income, outstanding debts, and more, each of which is assigned a specific score. By combining these scores, we derive a total score for each borrower, which translates into an estimated Point-in-Time (PiT) PD. The PiT PD reflects the borrower's likelihood of default at a specific point in time, accounting for both current and foreseeable future conditions.\n",
    "\n",
    "Additionally, for a holistic view of credit risk, it's essential to estimate the Lifetime PD. The Lifetime PD, as the name suggests, predicts the borrower's likelihood of default throughout the life of the exposure, taking into account potential future changes in the economic and financial conditions."
   ]
  },
  {
   "attachments": {},
   "cell_type": "markdown",
   "metadata": {},
   "source": [
    "## Setup"
   ]
  },
  {
   "attachments": {},
   "cell_type": "markdown",
   "metadata": {},
   "source": [
    "### Import Libraries"
   ]
  },
  {
   "cell_type": "code",
   "execution_count": 1,
   "metadata": {},
   "outputs": [],
   "source": [
    "from notebooks.probability_of_default.helpers.Developer import Developer\n",
    "from notebooks.probability_of_default.helpers.scorecard_model import *\n",
    "from notebooks.probability_of_default.helpers.model_development import *\n",
    "\n",
    "from IPython.display import HTML\n"
   ]
  },
  {
   "attachments": {},
   "cell_type": "markdown",
   "metadata": {},
   "source": [
    "### Input Parameters"
   ]
  },
  {
   "cell_type": "code",
   "execution_count": 2,
   "metadata": {},
   "outputs": [],
   "source": [
    "default_column = \"default\"\n",
    "\n",
    "lending_club_url = \"https://vmai.s3.us-west-1.amazonaws.com/datasets/lending_club_loan_data_2007_2014.csv\"\n",
    "\n",
    "preliminary_features_to_drop = [\n",
    "    \"Unnamed: 0\",\n",
    "    \"id\", \"member_id\", \"funded_amnt\", \"emp_title\", \"url\", \"desc\", \"application_type\",\n",
    "    \"title\", \"zip_code\", \"delinq_2yrs\", \"mths_since_last_delinq\", \"mths_since_last_record\",\n",
    "    \"revol_bal\", \"total_rec_prncp\", \"total_rec_late_fee\", \"recoveries\", \"out_prncp_inv\", \"out_prncp\", \n",
    "    \"collection_recovery_fee\", \"next_pymnt_d\", \"initial_list_status\", \"pub_rec\",\n",
    "    \"collections_12_mths_ex_med\", \"policy_code\", \"acc_now_delinq\", \"pymnt_plan\",\n",
    "    \"tot_coll_amt\", \"tot_cur_bal\", \"total_rev_hi_lim\", \"last_pymnt_d\", \"last_credit_pull_d\",\n",
    "    'earliest_cr_line', 'issue_d']\n",
    "\n",
    "final_features_to_drop = ['addr_state', 'total_rec_int', 'loan_amnt',\n",
    "                    'funded_amnt_inv', 'dti', 'revol_util', 'total_pymnt', \n",
    "                    'total_pymnt_inv', 'last_pymnt_amnt', \"inq_last_6mths\"]\n",
    "\n",
    "min_missing_percentage = 0.8\n",
    "\n",
    "iqr_threshold = 1.5\n",
    "\n",
    "test_size = 0.2\n",
    "\n",
    "woe_breaks_adj = {\"int_rate\": [5,10,15]}\n",
    "\n",
    "# Import Data \n",
    "id_params = {\"source\": lending_club_url}\n",
    "\n",
    "# Data Preparation \n",
    "dp_params = {\n",
    "    \"features_to_drop\": preliminary_features_to_drop,\n",
    "    \"default_column\": default_column,\n",
    "    \"min_missing_percentage\": min_missing_percentage,\n",
    "    \"iqr_threshold\": iqr_threshold,\n",
    "}\n",
    "\n",
    "# Data Split\n",
    "ds_params = {\n",
    "    \"target_column\": default_column,\n",
    "    \"test_size\": test_size\n",
    "}\n",
    "\n",
    "# Feature Selection\n",
    "fs_params = {\n",
    "    \"features_to_drop\": final_features_to_drop\n",
    "}\n",
    "\n",
    "# Feature Engineering \n",
    "fe_params = {\n",
    "    \"target_column\": default_column,\n",
    "    \"woe_breaks_adj\": woe_breaks_adj\n",
    "}\n",
    "\n",
    "# Model Training \n",
    "mt_params = {\n",
    "    \"target_column\": default_column,\n",
    "    \"add_constant\": False\n",
    "}"
   ]
  },
  {
   "attachments": {},
   "cell_type": "markdown",
   "metadata": {},
   "source": [
    "## Model Development"
   ]
  },
  {
   "cell_type": "code",
   "execution_count": 3,
   "metadata": {},
   "outputs": [
    {
     "name": "stderr",
     "output_type": "stream",
     "text": [
      "/Users/juanvalidmind/Dev/github/validmind-python/notebooks/probability_of_default/helpers/scorecard_model.py:15: DtypeWarning: Columns (20) have mixed types. Specify dtype option on import or set low_memory=False.\n",
      "  df_out = pd.read_csv(source)\n",
      "INFO: Details of Import Data:\n",
      "INFO: Columns: ['Unnamed: 0', 'id', 'member_id', 'loan_amnt', 'funded_amnt', 'funded_amnt_inv', 'term', 'int_rate', 'installment', 'grade', 'sub_grade', 'emp_title', 'emp_length', 'home_ownership', 'annual_inc', 'verification_status', 'issue_d', 'loan_status', 'pymnt_plan', 'url', 'desc', 'purpose', 'title', 'zip_code', 'addr_state', 'dti', 'delinq_2yrs', 'earliest_cr_line', 'inq_last_6mths', 'mths_since_last_delinq', 'mths_since_last_record', 'open_acc', 'pub_rec', 'revol_bal', 'revol_util', 'total_acc', 'initial_list_status', 'out_prncp', 'out_prncp_inv', 'total_pymnt', 'total_pymnt_inv', 'total_rec_prncp', 'total_rec_int', 'total_rec_late_fee', 'recoveries', 'collection_recovery_fee', 'last_pymnt_d', 'last_pymnt_amnt', 'next_pymnt_d', 'last_credit_pull_d', 'collections_12_mths_ex_med', 'mths_since_last_major_derog', 'policy_code', 'application_type', 'annual_inc_joint', 'dti_joint', 'verification_status_joint', 'acc_now_delinq', 'tot_coll_amt', 'tot_cur_bal', 'open_acc_6m', 'open_il_6m', 'open_il_12m', 'open_il_24m', 'mths_since_rcnt_il', 'total_bal_il', 'il_util', 'open_rv_12m', 'open_rv_24m', 'max_bal_bc', 'all_util', 'total_rev_hi_lim', 'inq_fi', 'total_cu_tl', 'inq_last_12m']\n",
      "INFO: Number of Rows: 466285\n",
      "INFO: Number of Columns: 75\n",
      "INFO: Data Types: {'Unnamed: 0': dtype('int64'), 'id': dtype('int64'), 'member_id': dtype('int64'), 'loan_amnt': dtype('int64'), 'funded_amnt': dtype('int64'), 'funded_amnt_inv': dtype('float64'), 'term': dtype('O'), 'int_rate': dtype('float64'), 'installment': dtype('float64'), 'grade': dtype('O'), 'sub_grade': dtype('O'), 'emp_title': dtype('O'), 'emp_length': dtype('O'), 'home_ownership': dtype('O'), 'annual_inc': dtype('float64'), 'verification_status': dtype('O'), 'issue_d': dtype('O'), 'loan_status': dtype('O'), 'pymnt_plan': dtype('O'), 'url': dtype('O'), 'desc': dtype('O'), 'purpose': dtype('O'), 'title': dtype('O'), 'zip_code': dtype('O'), 'addr_state': dtype('O'), 'dti': dtype('float64'), 'delinq_2yrs': dtype('float64'), 'earliest_cr_line': dtype('O'), 'inq_last_6mths': dtype('float64'), 'mths_since_last_delinq': dtype('float64'), 'mths_since_last_record': dtype('float64'), 'open_acc': dtype('float64'), 'pub_rec': dtype('float64'), 'revol_bal': dtype('int64'), 'revol_util': dtype('float64'), 'total_acc': dtype('float64'), 'initial_list_status': dtype('O'), 'out_prncp': dtype('float64'), 'out_prncp_inv': dtype('float64'), 'total_pymnt': dtype('float64'), 'total_pymnt_inv': dtype('float64'), 'total_rec_prncp': dtype('float64'), 'total_rec_int': dtype('float64'), 'total_rec_late_fee': dtype('float64'), 'recoveries': dtype('float64'), 'collection_recovery_fee': dtype('float64'), 'last_pymnt_d': dtype('O'), 'last_pymnt_amnt': dtype('float64'), 'next_pymnt_d': dtype('O'), 'last_credit_pull_d': dtype('O'), 'collections_12_mths_ex_med': dtype('float64'), 'mths_since_last_major_derog': dtype('float64'), 'policy_code': dtype('int64'), 'application_type': dtype('O'), 'annual_inc_joint': dtype('float64'), 'dti_joint': dtype('float64'), 'verification_status_joint': dtype('float64'), 'acc_now_delinq': dtype('float64'), 'tot_coll_amt': dtype('float64'), 'tot_cur_bal': dtype('float64'), 'open_acc_6m': dtype('float64'), 'open_il_6m': dtype('float64'), 'open_il_12m': dtype('float64'), 'open_il_24m': dtype('float64'), 'mths_since_rcnt_il': dtype('float64'), 'total_bal_il': dtype('float64'), 'il_util': dtype('float64'), 'open_rv_12m': dtype('float64'), 'open_rv_24m': dtype('float64'), 'max_bal_bc': dtype('float64'), 'all_util': dtype('float64'), 'total_rev_hi_lim': dtype('float64'), 'inq_fi': dtype('float64'), 'total_cu_tl': dtype('float64'), 'inq_last_12m': dtype('float64')}\n",
      "INFO: Total Missing Values: 9776224\n"
     ]
    }
   ],
   "source": [
    "df_raw = import_data(id_params)"
   ]
  },
  {
   "cell_type": "code",
   "execution_count": 4,
   "metadata": {},
   "outputs": [
    {
     "name": "stdout",
     "output_type": "stream",
     "text": [
      "features_to_drop: ['Unnamed: 0', 'id', 'member_id', 'funded_amnt', 'emp_title', 'url', 'desc', 'application_type', 'title', 'zip_code', 'delinq_2yrs', 'mths_since_last_delinq', 'mths_since_last_record', 'revol_bal', 'total_rec_prncp', 'total_rec_late_fee', 'recoveries', 'out_prncp_inv', 'out_prncp', 'collection_recovery_fee', 'next_pymnt_d', 'initial_list_status', 'pub_rec', 'collections_12_mths_ex_med', 'policy_code', 'acc_now_delinq', 'pymnt_plan', 'tot_coll_amt', 'tot_cur_bal', 'total_rev_hi_lim', 'last_pymnt_d', 'last_credit_pull_d', 'earliest_cr_line', 'issue_d']\n",
      "default_column: default\n",
      "min_missing_percentage: 0.8\n",
      "iqr_threshold: 1.5\n",
      "\n",
      "Initial DataFrame:\n",
      "Number of columns: 75\n",
      "Columns: Unnamed: 0, id, member_id, loan_amnt, funded_amnt, funded_amnt_inv, term, int_rate, installment, grade, sub_grade, emp_title, emp_length, home_ownership, annual_inc, verification_status, issue_d, loan_status, pymnt_plan, url, desc, purpose, title, zip_code, addr_state, dti, delinq_2yrs, earliest_cr_line, inq_last_6mths, mths_since_last_delinq, mths_since_last_record, open_acc, pub_rec, revol_bal, revol_util, total_acc, initial_list_status, out_prncp, out_prncp_inv, total_pymnt, total_pymnt_inv, total_rec_prncp, total_rec_int, total_rec_late_fee, recoveries, collection_recovery_fee, last_pymnt_d, last_pymnt_amnt, next_pymnt_d, last_credit_pull_d, collections_12_mths_ex_med, mths_since_last_major_derog, policy_code, application_type, annual_inc_joint, dti_joint, verification_status_joint, acc_now_delinq, tot_coll_amt, tot_cur_bal, open_acc_6m, open_il_6m, open_il_12m, open_il_24m, mths_since_rcnt_il, total_bal_il, il_util, open_rv_12m, open_rv_24m, max_bal_bc, all_util, total_rev_hi_lim, inq_fi, total_cu_tl, inq_last_12m\n",
      "\n",
      "After dropping specified features:\n",
      "Number of columns: 41\n",
      "Columns: loan_amnt, funded_amnt_inv, term, int_rate, installment, grade, sub_grade, emp_length, home_ownership, annual_inc, verification_status, loan_status, purpose, addr_state, dti, inq_last_6mths, open_acc, revol_util, total_acc, total_pymnt, total_pymnt_inv, total_rec_int, last_pymnt_amnt, mths_since_last_major_derog, annual_inc_joint, dti_joint, verification_status_joint, open_acc_6m, open_il_6m, open_il_12m, open_il_24m, mths_since_rcnt_il, total_bal_il, il_util, open_rv_12m, open_rv_24m, max_bal_bc, all_util, inq_fi, total_cu_tl, inq_last_12m\n",
      "\n",
      "After adding default definition for column 'default':\n",
      "Number of columns: 41\n",
      "Analyzing missing values in the dataset...\n",
      "Found 18 features with more than 80.0% missing values.\n",
      "Dropping the following columns: total_bal_il, il_util, annual_inc_joint, open_il_24m, open_rv_24m, inq_last_12m, open_il_6m, all_util, inq_fi, verification_status_joint, total_cu_tl, open_acc_6m, mths_since_rcnt_il, open_rv_12m, open_il_12m, max_bal_bc, mths_since_last_major_derog, dti_joint\n",
      "\n",
      "After removing features based on missing values (threshold: 80.0%):\n",
      "Number of columns: 23\n",
      "Columns: loan_amnt, funded_amnt_inv, term, int_rate, installment, grade, sub_grade, emp_length, home_ownership, annual_inc, verification_status, purpose, addr_state, dti, inq_last_6mths, open_acc, revol_util, total_acc, total_pymnt, total_pymnt_inv, total_rec_int, last_pymnt_amnt, default\n",
      "\n",
      "After converting 'term' column:\n",
      "\n",
      "After converting 'emp_length' column:\n",
      "\n",
      "After modifying 'inq_last_6mths' column values:\n",
      "\n",
      "After removing outliers based on IQR for column 'default' (threshold: 1.5):\n",
      "Remaining rows: 227214\n",
      "\n",
      "Data Preparation Complete:\n",
      "Final number of columns: 23\n",
      "Columns: loan_amnt, funded_amnt_inv, term, int_rate, installment, grade, sub_grade, emp_length, home_ownership, annual_inc, verification_status, purpose, addr_state, dti, inq_last_6mths, open_acc, revol_util, total_acc, total_pymnt, total_pymnt_inv, total_rec_int, last_pymnt_amnt, default\n"
     ]
    }
   ],
   "source": [
    "df_prepared = data_preparation(df_raw, dp_params)"
   ]
  },
  {
   "cell_type": "code",
   "execution_count": 5,
   "metadata": {},
   "outputs": [
    {
     "name": "stderr",
     "output_type": "stream",
     "text": [
      "INFO: Details of Training Data:\n",
      "INFO: Columns: ['loan_amnt', 'funded_amnt_inv', 'term', 'int_rate', 'installment', 'grade', 'sub_grade', 'emp_length', 'home_ownership', 'annual_inc', 'verification_status', 'purpose', 'addr_state', 'dti', 'inq_last_6mths', 'open_acc', 'revol_util', 'total_acc', 'total_pymnt', 'total_pymnt_inv', 'total_rec_int', 'last_pymnt_amnt', 'default']\n",
      "INFO: Number of Rows: 181771\n",
      "INFO: Number of Columns: 23\n",
      "INFO: Data Types: {'loan_amnt': dtype('int64'), 'funded_amnt_inv': dtype('float64'), 'term': dtype('O'), 'int_rate': dtype('float64'), 'installment': dtype('float64'), 'grade': dtype('O'), 'sub_grade': dtype('O'), 'emp_length': dtype('float64'), 'home_ownership': dtype('O'), 'annual_inc': dtype('float64'), 'verification_status': dtype('O'), 'purpose': dtype('O'), 'addr_state': dtype('O'), 'dti': dtype('float64'), 'inq_last_6mths': CategoricalDtype(categories=[0.0, 1.0, 2.0, 3.0, 4.0, 5.0, 6.0, 7.0, 8.0], ordered=False), 'open_acc': dtype('float64'), 'revol_util': dtype('float64'), 'total_acc': dtype('float64'), 'total_pymnt': dtype('float64'), 'total_pymnt_inv': dtype('float64'), 'total_rec_int': dtype('float64'), 'last_pymnt_amnt': dtype('float64'), 'default': dtype('int64')}\n"
     ]
    },
    {
     "name": "stdout",
     "output_type": "stream",
     "text": [
      "Training data has 181771 rows and 22 columns.\n",
      "Test data has 45443 rows and 22 columns.\n"
     ]
    },
    {
     "name": "stderr",
     "output_type": "stream",
     "text": [
      "INFO: Total Missing Values: 7097\n",
      "INFO: Details of Test Data:\n",
      "INFO: Columns: ['loan_amnt', 'funded_amnt_inv', 'term', 'int_rate', 'installment', 'grade', 'sub_grade', 'emp_length', 'home_ownership', 'annual_inc', 'verification_status', 'purpose', 'addr_state', 'dti', 'inq_last_6mths', 'open_acc', 'revol_util', 'total_acc', 'total_pymnt', 'total_pymnt_inv', 'total_rec_int', 'last_pymnt_amnt', 'default']\n",
      "INFO: Number of Rows: 45443\n",
      "INFO: Number of Columns: 23\n",
      "INFO: Data Types: {'loan_amnt': dtype('int64'), 'funded_amnt_inv': dtype('float64'), 'term': dtype('O'), 'int_rate': dtype('float64'), 'installment': dtype('float64'), 'grade': dtype('O'), 'sub_grade': dtype('O'), 'emp_length': dtype('float64'), 'home_ownership': dtype('O'), 'annual_inc': dtype('float64'), 'verification_status': dtype('O'), 'purpose': dtype('O'), 'addr_state': dtype('O'), 'dti': dtype('float64'), 'inq_last_6mths': CategoricalDtype(categories=[0.0, 1.0, 2.0, 3.0, 4.0, 5.0, 6.0, 7.0, 8.0], ordered=False), 'open_acc': dtype('float64'), 'revol_util': dtype('float64'), 'total_acc': dtype('float64'), 'total_pymnt': dtype('float64'), 'total_pymnt_inv': dtype('float64'), 'total_rec_int': dtype('float64'), 'last_pymnt_amnt': dtype('float64'), 'default': dtype('int64')}\n",
      "INFO: Total Missing Values: 1762\n"
     ]
    }
   ],
   "source": [
    "df_train, df_test = data_split(df_prepared, ds_params)"
   ]
  },
  {
   "cell_type": "code",
   "execution_count": 6,
   "metadata": {},
   "outputs": [
    {
     "name": "stdout",
     "output_type": "stream",
     "text": [
      "Rows retained with purpose 'debt_consolidation' or 'credit_card': 142293\n"
     ]
    },
    {
     "name": "stderr",
     "output_type": "stream",
     "text": [
      "INFO: Details of Feature Selection:\n",
      "INFO: Columns: ['term', 'int_rate', 'installment', 'grade', 'sub_grade', 'emp_length', 'home_ownership', 'annual_inc', 'verification_status', 'purpose', 'open_acc', 'total_acc', 'default']\n",
      "INFO: Number of Rows: 181771\n",
      "INFO: Number of Columns: 13\n",
      "INFO: Data Types: {'term': dtype('O'), 'int_rate': dtype('float64'), 'installment': dtype('float64'), 'grade': dtype('O'), 'sub_grade': dtype('O'), 'emp_length': dtype('float64'), 'home_ownership': dtype('O'), 'annual_inc': dtype('float64'), 'verification_status': dtype('O'), 'purpose': dtype('O'), 'open_acc': dtype('float64'), 'total_acc': dtype('float64'), 'default': dtype('int64')}\n",
      "INFO: Total Missing Values: 6941\n",
      "INFO: Details of Feature Selection:\n",
      "INFO: Columns: ['term', 'int_rate', 'installment', 'grade', 'sub_grade', 'emp_length', 'home_ownership', 'annual_inc', 'verification_status', 'purpose', 'open_acc', 'total_acc', 'default']\n",
      "INFO: Number of Rows: 45443\n",
      "INFO: Number of Columns: 13\n",
      "INFO: Data Types: {'term': dtype('O'), 'int_rate': dtype('float64'), 'installment': dtype('float64'), 'grade': dtype('O'), 'sub_grade': dtype('O'), 'emp_length': dtype('float64'), 'home_ownership': dtype('O'), 'annual_inc': dtype('float64'), 'verification_status': dtype('O'), 'purpose': dtype('O'), 'open_acc': dtype('float64'), 'total_acc': dtype('float64'), 'default': dtype('int64')}\n",
      "INFO: Total Missing Values: 1732\n"
     ]
    },
    {
     "name": "stdout",
     "output_type": "stream",
     "text": [
      "Rows after removing grades 'F' or 'G': 137816\n",
      "Rows after removing sub_grades starting with 'F' or 'G': 137816\n",
      "Rows after removing home_ownership values 'OTHER', 'NONE', or 'ANY': 137723\n",
      "Total rows dropped: 44048\n",
      "Rows retained with purpose 'debt_consolidation' or 'credit_card': 35532\n",
      "Rows after removing grades 'F' or 'G': 34349\n",
      "Rows after removing sub_grades starting with 'F' or 'G': 34349\n",
      "Rows after removing home_ownership values 'OTHER', 'NONE', or 'ANY': 34322\n",
      "Total rows dropped: 11121\n"
     ]
    }
   ],
   "source": [
    "df_train_feature_selection = feature_selection(df_train, fs_params)\n",
    "df_test_feature_selection = feature_selection(df_test, fs_params)"
   ]
  },
  {
   "cell_type": "code",
   "execution_count": 7,
   "metadata": {},
   "outputs": [
    {
     "name": "stdout",
     "output_type": "stream",
     "text": [
      "Performing binning with breaks_adj: {'int_rate': [5, 10, 15]}\n",
      "[INFO] creating woe binning ...\n",
      "Converting 12 features to WoE values.\n",
      "[INFO] converting into woe values ...\n"
     ]
    },
    {
     "name": "stderr",
     "output_type": "stream",
     "text": [
      "INFO: Details of Feature Engineering:\n",
      "INFO: Columns: ['term', 'int_rate', 'installment', 'grade', 'sub_grade', 'emp_length', 'home_ownership', 'annual_inc', 'verification_status', 'purpose', 'open_acc', 'total_acc', 'default']\n",
      "INFO: Number of Rows: 181771\n",
      "INFO: Number of Columns: 13\n",
      "INFO: Data Types: {'term': dtype('O'), 'int_rate': dtype('float64'), 'installment': dtype('float64'), 'grade': dtype('O'), 'sub_grade': dtype('O'), 'emp_length': dtype('float64'), 'home_ownership': dtype('O'), 'annual_inc': dtype('float64'), 'verification_status': dtype('O'), 'purpose': dtype('O'), 'open_acc': dtype('float64'), 'total_acc': dtype('float64'), 'default': dtype('int64')}\n",
      "INFO: Total Missing Values: 6941\n"
     ]
    },
    {
     "name": "stdout",
     "output_type": "stream",
     "text": [
      "Successfully converted features to WoE values.\n",
      "Performing binning with breaks_adj: {'int_rate': [5, 10, 15]}\n",
      "[INFO] creating woe binning ...\n",
      "Converting 12 features to WoE values.\n",
      "[INFO] converting into woe values ...\n"
     ]
    },
    {
     "name": "stderr",
     "output_type": "stream",
     "text": [
      "INFO: Details of Feature Engineering:\n",
      "INFO: Columns: ['term', 'int_rate', 'installment', 'grade', 'sub_grade', 'emp_length', 'home_ownership', 'annual_inc', 'verification_status', 'purpose', 'open_acc', 'total_acc', 'default']\n",
      "INFO: Number of Rows: 45443\n",
      "INFO: Number of Columns: 13\n",
      "INFO: Data Types: {'term': dtype('O'), 'int_rate': dtype('float64'), 'installment': dtype('float64'), 'grade': dtype('O'), 'sub_grade': dtype('O'), 'emp_length': dtype('float64'), 'home_ownership': dtype('O'), 'annual_inc': dtype('float64'), 'verification_status': dtype('O'), 'purpose': dtype('O'), 'open_acc': dtype('float64'), 'total_acc': dtype('float64'), 'default': dtype('int64')}\n",
      "INFO: Total Missing Values: 1732\n"
     ]
    },
    {
     "name": "stdout",
     "output_type": "stream",
     "text": [
      "Successfully converted features to WoE values.\n"
     ]
    }
   ],
   "source": [
    "df_train_feature_eng = feature_engineering(df_train_feature_selection, fe_params)\n",
    "df_test_feature_eng = feature_engineering(df_test_feature_selection, fe_params)"
   ]
  },
  {
   "cell_type": "code",
   "execution_count": 8,
   "metadata": {},
   "outputs": [
    {
     "name": "stdout",
     "output_type": "stream",
     "text": [
      "Added constant to dataframe. Number of columns went from 13 to 14.\n",
      "Added constant to dataframe. Number of columns went from 13 to 14.\n",
      "Training the model with 13 features and 181771 data points.\n",
      "GLM Logisitic Regression Model trained successfully.\n"
     ]
    }
   ],
   "source": [
    "df_train_feature_eng = add_constant(df_train_feature_eng)\n",
    "df_test_feature_eng = add_constant(df_test_feature_eng)\n",
    "\n",
    "model_fit_candidate = model_training(df_train_feature_eng, mt_params)"
   ]
  },
  {
   "cell_type": "code",
   "execution_count": 9,
   "metadata": {},
   "outputs": [
    {
     "name": "stdout",
     "output_type": "stream",
     "text": [
      "                 Generalized Linear Model Regression Results                  \n",
      "==============================================================================\n",
      "Dep. Variable:                default   No. Observations:               181771\n",
      "Model:                            GLM   Df Residuals:                   181758\n",
      "Model Family:                Binomial   Df Model:                           12\n",
      "Link Function:                  Logit   Scale:                          1.0000\n",
      "Method:                          IRLS   Log-Likelihood:                -80653.\n",
      "Date:                Wed, 23 Aug 2023   Deviance:                   1.6131e+05\n",
      "Time:                        13:28:04   Pearson chi2:                 1.82e+05\n",
      "No. Iterations:                     5   Pseudo R-squ. (CS):            0.07327\n",
      "Covariance Type:            nonrobust                                         \n",
      "===========================================================================================\n",
      "                              coef    std err          z      P>|z|      [0.025      0.975]\n",
      "-------------------------------------------------------------------------------------------\n",
      "const                      -1.4727      0.006   -229.290      0.000      -1.485      -1.460\n",
      "term_woe                    0.4974      0.018     27.923      0.000       0.462       0.532\n",
      "home_ownership_woe          0.5800      0.053     11.040      0.000       0.477       0.683\n",
      "emp_length_woe              0.8827      0.056     15.813      0.000       0.773       0.992\n",
      "int_rate_woe                0.1913      0.023      8.354      0.000       0.146       0.236\n",
      "grade_woe                   0.3778      0.032     11.792      0.000       0.315       0.441\n",
      "verification_status_woe     0.1983      0.034      5.754      0.000       0.131       0.266\n",
      "purpose_woe                 0.4425      0.043     10.259      0.000       0.358       0.527\n",
      "sub_grade_woe               0.2816      0.032      8.696      0.000       0.218       0.345\n",
      "open_acc_woe                2.2963      0.165     13.935      0.000       1.973       2.619\n",
      "installment_woe             0.8661      0.051     16.832      0.000       0.765       0.967\n",
      "annual_inc_woe              1.2351      0.032     38.701      0.000       1.173       1.298\n",
      "total_acc_woe               1.0200      0.107      9.506      0.000       0.810       1.230\n",
      "===========================================================================================\n"
     ]
    }
   ],
   "source": [
    "print(model_fit_candidate.summary())"
   ]
  },
  {
   "attachments": {},
   "cell_type": "markdown",
   "metadata": {},
   "source": [
    "## Save Data and Models"
   ]
  },
  {
   "cell_type": "code",
   "execution_count": 10,
   "metadata": {},
   "outputs": [
    {
     "name": "stderr",
     "output_type": "stream",
     "text": [
      "INFO: Saved 7 objects to datasets/scorecard_data_and_models.pkl\n"
     ]
    },
    {
     "data": {
      "text/plain": [
       "['df_raw',\n",
       " 'df_prepared',\n",
       " 'df_train',\n",
       " 'df_train_feature_selection',\n",
       " 'df_train_feature_eng',\n",
       " 'df_test_feature_eng',\n",
       " 'model_fit_final']"
      ]
     },
     "execution_count": 10,
     "metadata": {},
     "output_type": "execute_result"
    }
   ],
   "source": [
    "developer = Developer()\n",
    "\n",
    "objects_to_store = {\n",
    "    \"df_raw\": df_raw,\n",
    "    \"df_prepared\": df_prepared,\n",
    "    \"df_train\": df_train,\n",
    "    \"df_train_feature_selection\": df_train_feature_selection,\n",
    "    \"df_train_feature_eng\": df_train_feature_eng,\n",
    "    \"df_test_feature_eng\": df_test_feature_eng,\n",
    "    \"model_fit_final\": model_fit_candidate,\n",
    "}\n",
    "\n",
    "developer.save_objects_to_pickle(\n",
    "    filename=\"datasets/scorecard_data_and_models.pkl\", \n",
    "    objects_to_save=objects_to_store)"
   ]
  }
 ],
 "metadata": {
  "kernelspec": {
   "display_name": "dev-framework",
   "language": "python",
   "name": "dev-framework"
  },
  "language_info": {
   "codemirror_mode": {
    "name": "ipython",
    "version": 3
   },
   "file_extension": ".py",
   "mimetype": "text/x-python",
   "name": "python",
   "nbconvert_exporter": "python",
   "pygments_lexer": "ipython3",
   "version": "3.10.11"
  },
  "orig_nbformat": 4
 },
 "nbformat": 4,
 "nbformat_minor": 2
}
