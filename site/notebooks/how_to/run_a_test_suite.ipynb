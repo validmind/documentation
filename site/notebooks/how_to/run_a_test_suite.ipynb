{
 "cells": [
  {
   "attachments": {},
   "cell_type": "markdown",
   "metadata": {},
   "source": [
    "# Running an Individual Test Suite\n",
    "\n",
    "This notebook shows how to run an individual test suite that is part of the ValidMind Developer Framework.  These instructions include the code required to:\n",
    "\n",
    "- Load the demo dataset\n",
    "- List available test suites\n",
    "- Run the data validation test suite\n",
    "- Run the model validation test suite\n",
    "- Prepocess the raw dataset\n",
    "- Train a model for testing\n",
    "- Import and run the individual test suite\n",
    "- Initialize ValidMind objects\n",
    "- Run the binary classification test suite"
   ]
  },
  {
   "attachments": {},
   "cell_type": "markdown",
   "metadata": {},
   "source": [
    "## Before you begin\n",
    "\n",
    "::: {.callout-tip}\n",
    "### New to ValidMind? \n",
    "For access to all features available in this notebook, create a free ValidMind account. \n",
    "\n",
    "Signing up is FREE — [**Sign up now**](https://app.prod.validmind.ai)\n",
    ":::\n",
    "\n",
    "If you encounter errors due to missing modules in your Python environment, install the modules with `pip install`, and then re-run the notebook. For more help, refer to [Installing Python Modules](https://docs.python.org/3/installing/index.html)."
   ]
  },
  {
   "attachments": {},
   "cell_type": "markdown",
   "metadata": {},
   "source": [
    "## Install the client library"
   ]
  },
  {
   "cell_type": "code",
   "execution_count": 1,
   "metadata": {},
   "outputs": [
    {
     "name": "stdout",
     "output_type": "stream",
     "text": [
      "\n",
      "\u001b[1m[\u001b[0m\u001b[34;49mnotice\u001b[0m\u001b[1;39;49m]\u001b[0m\u001b[39;49m A new release of pip is available: \u001b[0m\u001b[31;49m23.2.1\u001b[0m\u001b[39;49m -> \u001b[0m\u001b[32;49m23.3.2\u001b[0m\n",
      "\u001b[1m[\u001b[0m\u001b[34;49mnotice\u001b[0m\u001b[1;39;49m]\u001b[0m\u001b[39;49m To update, run: \u001b[0m\u001b[32;49mpip install --upgrade pip\u001b[0m\n",
      "Note: you may need to restart the kernel to use updated packages.\n"
     ]
    }
   ],
   "source": [
    "%pip install -q validmind"
   ]
  },
  {
   "attachments": {},
   "cell_type": "markdown",
   "metadata": {},
   "source": [
    "## Initialize the client library\n",
    "\n",
    "Every documentation project in the Platform UI comes with a _code snippet_ that lets the client library associate your documentation and tests with the right project on the Platform UI when you run this notebook. As you will see later, documentation projects are useful because they act as containers for model documentation and validation reports and they enable you to organize all of your documentation work in one place. \n",
    "\n",
    "Get your code snippet by creating a documentation project:\n",
    "\n",
    "1. In a browser, log into the [Platform UI](https://app.prod.validmind.ai).\n",
    "\n",
    "2. Go to **Documentation Projects** and click **Create new project**.\n",
    "\n",
    "3. Select **`[Demo] Customer Churn Model`** and **`Initial Validation`** for the model name and type, give the project a unique  name to make it yours, and then click **Create project**.\n",
    "\n",
    "4. Go to **Documentation Projects** > **YOUR_UNIQUE_PROJECT_NAME** > **Getting Started** and click **Copy snippet to clipboard**.\n",
    "\n",
    "Next, replace this placeholder with your own code snippet:"
   ]
  },
  {
   "cell_type": "code",
   "execution_count": 2,
   "metadata": {},
   "outputs": [
    {
     "name": "stderr",
     "output_type": "stream",
     "text": [
      "2024-01-19 12:03:14,348 - INFO(validmind.api_client): Connected to ValidMind. Project: [Demo] Customer Churn Model - Initial Validation (clr4sqr8z003muqy64hksfbnx)\n"
     ]
    }
   ],
   "source": [
    "## Replace with code snippet from your documentation project ##\n",
    "\n",
    "import validmind as vm\n",
    "\n",
    "vm.init(\n",
    "  api_host = \"http://localhost:3000/api/v1/tracking\",\n",
    "  api_key = \"...\",\n",
    "  api_secret = \"...\",\n",
    "  project = \"...\"\n",
    ")"
   ]
  },
  {
   "cell_type": "code",
   "execution_count": 3,
   "metadata": {
    "tags": []
   },
   "outputs": [],
   "source": [
    "%matplotlib inline\n",
    "\n",
    "import xgboost as xgb"
   ]
  },
  {
   "attachments": {},
   "cell_type": "markdown",
   "metadata": {},
   "source": [
    "## Load the Demo Dataset"
   ]
  },
  {
   "cell_type": "code",
   "execution_count": 4,
   "metadata": {
    "tags": []
   },
   "outputs": [],
   "source": [
    "# You can also import taiwan_credit like this:\n",
    "# from validmind.datasets.classification import taiwan_credit as demo_dataset\n",
    "from validmind.datasets.classification import customer_churn as demo_dataset\n",
    "\n",
    "df = demo_dataset.load_data()"
   ]
  },
  {
   "cell_type": "code",
   "execution_count": 5,
   "metadata": {
    "tags": []
   },
   "outputs": [
    {
     "name": "stderr",
     "output_type": "stream",
     "text": [
      "2024-01-19 12:03:14,450 - INFO(validmind.client): Pandas dataset detected. Initializing VM Dataset instance...\n"
     ]
    }
   ],
   "source": [
    "vm_dataset = vm.init_dataset(\n",
    "    dataset=df,\n",
    "    target_column=demo_dataset.target_column,\n",
    "    class_labels=demo_dataset.class_labels\n",
    ")"
   ]
  },
  {
   "attachments": {},
   "cell_type": "markdown",
   "metadata": {},
   "source": [
    "## List available test suites"
   ]
  },
  {
   "cell_type": "code",
   "execution_count": 6,
   "metadata": {},
   "outputs": [
    {
     "data": {
      "text/html": [
       "<style type=\"text/css\">\n",
       "#T_c2f72 th {\n",
       "  text-align: left;\n",
       "}\n",
       "#T_c2f72_row0_col0, #T_c2f72_row0_col1, #T_c2f72_row0_col2, #T_c2f72_row0_col3, #T_c2f72_row1_col0, #T_c2f72_row1_col1, #T_c2f72_row1_col2, #T_c2f72_row1_col3, #T_c2f72_row2_col0, #T_c2f72_row2_col1, #T_c2f72_row2_col2, #T_c2f72_row2_col3, #T_c2f72_row3_col0, #T_c2f72_row3_col1, #T_c2f72_row3_col2, #T_c2f72_row3_col3, #T_c2f72_row4_col0, #T_c2f72_row4_col1, #T_c2f72_row4_col2, #T_c2f72_row4_col3, #T_c2f72_row5_col0, #T_c2f72_row5_col1, #T_c2f72_row5_col2, #T_c2f72_row5_col3, #T_c2f72_row6_col0, #T_c2f72_row6_col1, #T_c2f72_row6_col2, #T_c2f72_row6_col3, #T_c2f72_row7_col0, #T_c2f72_row7_col1, #T_c2f72_row7_col2, #T_c2f72_row7_col3, #T_c2f72_row8_col0, #T_c2f72_row8_col1, #T_c2f72_row8_col2, #T_c2f72_row8_col3, #T_c2f72_row9_col0, #T_c2f72_row9_col1, #T_c2f72_row9_col2, #T_c2f72_row9_col3, #T_c2f72_row10_col0, #T_c2f72_row10_col1, #T_c2f72_row10_col2, #T_c2f72_row10_col3, #T_c2f72_row11_col0, #T_c2f72_row11_col1, #T_c2f72_row11_col2, #T_c2f72_row11_col3, #T_c2f72_row12_col0, #T_c2f72_row12_col1, #T_c2f72_row12_col2, #T_c2f72_row12_col3, #T_c2f72_row13_col0, #T_c2f72_row13_col1, #T_c2f72_row13_col2, #T_c2f72_row13_col3, #T_c2f72_row14_col0, #T_c2f72_row14_col1, #T_c2f72_row14_col2, #T_c2f72_row14_col3, #T_c2f72_row15_col0, #T_c2f72_row15_col1, #T_c2f72_row15_col2, #T_c2f72_row15_col3, #T_c2f72_row16_col0, #T_c2f72_row16_col1, #T_c2f72_row16_col2, #T_c2f72_row16_col3, #T_c2f72_row17_col0, #T_c2f72_row17_col1, #T_c2f72_row17_col2, #T_c2f72_row17_col3, #T_c2f72_row18_col0, #T_c2f72_row18_col1, #T_c2f72_row18_col2, #T_c2f72_row18_col3, #T_c2f72_row19_col0, #T_c2f72_row19_col1, #T_c2f72_row19_col2, #T_c2f72_row19_col3, #T_c2f72_row20_col0, #T_c2f72_row20_col1, #T_c2f72_row20_col2, #T_c2f72_row20_col3, #T_c2f72_row21_col0, #T_c2f72_row21_col1, #T_c2f72_row21_col2, #T_c2f72_row21_col3, #T_c2f72_row22_col0, #T_c2f72_row22_col1, #T_c2f72_row22_col2, #T_c2f72_row22_col3, #T_c2f72_row23_col0, #T_c2f72_row23_col1, #T_c2f72_row23_col2, #T_c2f72_row23_col3, #T_c2f72_row24_col0, #T_c2f72_row24_col1, #T_c2f72_row24_col2, #T_c2f72_row24_col3, #T_c2f72_row25_col0, #T_c2f72_row25_col1, #T_c2f72_row25_col2, #T_c2f72_row25_col3, #T_c2f72_row26_col0, #T_c2f72_row26_col1, #T_c2f72_row26_col2, #T_c2f72_row26_col3, #T_c2f72_row27_col0, #T_c2f72_row27_col1, #T_c2f72_row27_col2, #T_c2f72_row27_col3, #T_c2f72_row28_col0, #T_c2f72_row28_col1, #T_c2f72_row28_col2, #T_c2f72_row28_col3, #T_c2f72_row29_col0, #T_c2f72_row29_col1, #T_c2f72_row29_col2, #T_c2f72_row29_col3, #T_c2f72_row30_col0, #T_c2f72_row30_col1, #T_c2f72_row30_col2, #T_c2f72_row30_col3, #T_c2f72_row31_col0, #T_c2f72_row31_col1, #T_c2f72_row31_col2, #T_c2f72_row31_col3 {\n",
       "  text-align: left;\n",
       "}\n",
       "</style>\n",
       "<table id=\"T_c2f72\">\n",
       "  <thead>\n",
       "    <tr>\n",
       "      <th id=\"T_c2f72_level0_col0\" class=\"col_heading level0 col0\" >ID</th>\n",
       "      <th id=\"T_c2f72_level0_col1\" class=\"col_heading level0 col1\" >Name</th>\n",
       "      <th id=\"T_c2f72_level0_col2\" class=\"col_heading level0 col2\" >Description</th>\n",
       "      <th id=\"T_c2f72_level0_col3\" class=\"col_heading level0 col3\" >Tests</th>\n",
       "    </tr>\n",
       "  </thead>\n",
       "  <tbody>\n",
       "    <tr>\n",
       "      <td id=\"T_c2f72_row0_col0\" class=\"data row0 col0\" >classifier_model_diagnosis</td>\n",
       "      <td id=\"T_c2f72_row0_col1\" class=\"data row0 col1\" >ClassifierDiagnosis</td>\n",
       "      <td id=\"T_c2f72_row0_col2\" class=\"data row0 col2\" >Test suite for sklearn classifier model diagnosis tests</td>\n",
       "      <td id=\"T_c2f72_row0_col3\" class=\"data row0 col3\" >validmind.model_validation.sklearn.OverfitDiagnosis, validmind.model_validation.sklearn.WeakspotsDiagnosis, validmind.model_validation.sklearn.RobustnessDiagnosis</td>\n",
       "    </tr>\n",
       "    <tr>\n",
       "      <td id=\"T_c2f72_row1_col0\" class=\"data row1 col0\" >classifier_full_suite</td>\n",
       "      <td id=\"T_c2f72_row1_col1\" class=\"data row1 col1\" >ClassifierFullSuite</td>\n",
       "      <td id=\"T_c2f72_row1_col2\" class=\"data row1 col2\" >Full test suite for binary classification models.</td>\n",
       "      <td id=\"T_c2f72_row1_col3\" class=\"data row1 col3\" >validmind.data_validation.DatasetMetadata, validmind.data_validation.DatasetDescription, validmind.data_validation.DescriptiveStatistics, validmind.data_validation.PearsonCorrelationMatrix, validmind.data_validation.ClassImbalance, validmind.data_validation.Duplicates, validmind.data_validation.HighCardinality, validmind.data_validation.HighPearsonCorrelation, validmind.data_validation.MissingValues, validmind.data_validation.Skewness, validmind.data_validation.UniqueRows, validmind.data_validation.TooManyZeroValues, validmind.model_validation.ModelMetadata, validmind.data_validation.DatasetSplit, validmind.model_validation.sklearn.ConfusionMatrix, validmind.model_validation.sklearn.ClassifierInSamplePerformance, validmind.model_validation.sklearn.ClassifierOutOfSamplePerformance, validmind.model_validation.sklearn.PermutationFeatureImportance, validmind.model_validation.sklearn.PrecisionRecallCurve, validmind.model_validation.sklearn.ROCCurve, validmind.model_validation.sklearn.PopulationStabilityIndex, validmind.model_validation.sklearn.SHAPGlobalImportance, validmind.model_validation.sklearn.MinimumAccuracy, validmind.model_validation.sklearn.MinimumF1Score, validmind.model_validation.sklearn.MinimumROCAUCScore, validmind.model_validation.sklearn.TrainingTestDegradation, validmind.model_validation.sklearn.ModelsPerformanceComparison, validmind.model_validation.sklearn.OverfitDiagnosis, validmind.model_validation.sklearn.WeakspotsDiagnosis, validmind.model_validation.sklearn.RobustnessDiagnosis</td>\n",
       "    </tr>\n",
       "    <tr>\n",
       "      <td id=\"T_c2f72_row2_col0\" class=\"data row2 col0\" >classifier_metrics</td>\n",
       "      <td id=\"T_c2f72_row2_col1\" class=\"data row2 col1\" >ClassifierMetrics</td>\n",
       "      <td id=\"T_c2f72_row2_col2\" class=\"data row2 col2\" >Test suite for sklearn classifier metrics</td>\n",
       "      <td id=\"T_c2f72_row2_col3\" class=\"data row2 col3\" >validmind.model_validation.ModelMetadata, validmind.data_validation.DatasetSplit, validmind.model_validation.sklearn.ConfusionMatrix, validmind.model_validation.sklearn.ClassifierInSamplePerformance, validmind.model_validation.sklearn.ClassifierOutOfSamplePerformance, validmind.model_validation.sklearn.PermutationFeatureImportance, validmind.model_validation.sklearn.PrecisionRecallCurve, validmind.model_validation.sklearn.ROCCurve, validmind.model_validation.sklearn.PopulationStabilityIndex, validmind.model_validation.sklearn.SHAPGlobalImportance</td>\n",
       "    </tr>\n",
       "    <tr>\n",
       "      <td id=\"T_c2f72_row3_col0\" class=\"data row3 col0\" >classifier_model_validation</td>\n",
       "      <td id=\"T_c2f72_row3_col1\" class=\"data row3 col1\" >ClassifierModelValidation</td>\n",
       "      <td id=\"T_c2f72_row3_col2\" class=\"data row3 col2\" >Test suite for binary classification models.</td>\n",
       "      <td id=\"T_c2f72_row3_col3\" class=\"data row3 col3\" >validmind.model_validation.ModelMetadata, validmind.data_validation.DatasetSplit, validmind.model_validation.sklearn.ConfusionMatrix, validmind.model_validation.sklearn.ClassifierInSamplePerformance, validmind.model_validation.sklearn.ClassifierOutOfSamplePerformance, validmind.model_validation.sklearn.PermutationFeatureImportance, validmind.model_validation.sklearn.PrecisionRecallCurve, validmind.model_validation.sklearn.ROCCurve, validmind.model_validation.sklearn.PopulationStabilityIndex, validmind.model_validation.sklearn.SHAPGlobalImportance, validmind.model_validation.sklearn.MinimumAccuracy, validmind.model_validation.sklearn.MinimumF1Score, validmind.model_validation.sklearn.MinimumROCAUCScore, validmind.model_validation.sklearn.TrainingTestDegradation, validmind.model_validation.sklearn.ModelsPerformanceComparison, validmind.model_validation.sklearn.OverfitDiagnosis, validmind.model_validation.sklearn.WeakspotsDiagnosis, validmind.model_validation.sklearn.RobustnessDiagnosis</td>\n",
       "    </tr>\n",
       "    <tr>\n",
       "      <td id=\"T_c2f72_row4_col0\" class=\"data row4 col0\" >classifier_validation</td>\n",
       "      <td id=\"T_c2f72_row4_col1\" class=\"data row4 col1\" >ClassifierPerformance</td>\n",
       "      <td id=\"T_c2f72_row4_col2\" class=\"data row4 col2\" >Test suite for sklearn classifier models</td>\n",
       "      <td id=\"T_c2f72_row4_col3\" class=\"data row4 col3\" >validmind.model_validation.sklearn.MinimumAccuracy, validmind.model_validation.sklearn.MinimumF1Score, validmind.model_validation.sklearn.MinimumROCAUCScore, validmind.model_validation.sklearn.TrainingTestDegradation, validmind.model_validation.sklearn.ModelsPerformanceComparison</td>\n",
       "    </tr>\n",
       "    <tr>\n",
       "      <td id=\"T_c2f72_row5_col0\" class=\"data row5 col0\" >cluster_full_suite</td>\n",
       "      <td id=\"T_c2f72_row5_col1\" class=\"data row5 col1\" >ClusterFullSuite</td>\n",
       "      <td id=\"T_c2f72_row5_col2\" class=\"data row5 col2\" >Full test suite for clustering models.</td>\n",
       "      <td id=\"T_c2f72_row5_col3\" class=\"data row5 col3\" >validmind.model_validation.ModelMetadata, validmind.data_validation.DatasetSplit, validmind.model_validation.sklearn.HomogeneityScore, validmind.model_validation.sklearn.CompletenessScore, validmind.model_validation.sklearn.VMeasure, validmind.model_validation.sklearn.AdjustedRandIndex, validmind.model_validation.sklearn.AdjustedMutualInformation, validmind.model_validation.sklearn.FowlkesMallowsScore, validmind.model_validation.sklearn.ClusterPerformanceMetrics, validmind.model_validation.sklearn.ClusterCosineSimilarity, validmind.model_validation.sklearn.SilhouettePlot, validmind.model_validation.ClusterSizeDistribution, validmind.model_validation.sklearn.HyperParametersTuning, validmind.model_validation.sklearn.KMeansClustersOptimization</td>\n",
       "    </tr>\n",
       "    <tr>\n",
       "      <td id=\"T_c2f72_row6_col0\" class=\"data row6 col0\" >cluster_metrics</td>\n",
       "      <td id=\"T_c2f72_row6_col1\" class=\"data row6 col1\" >ClusterMetrics</td>\n",
       "      <td id=\"T_c2f72_row6_col2\" class=\"data row6 col2\" >Test suite for sklearn clustering metrics</td>\n",
       "      <td id=\"T_c2f72_row6_col3\" class=\"data row6 col3\" >validmind.model_validation.ModelMetadata, validmind.data_validation.DatasetSplit, validmind.model_validation.sklearn.HomogeneityScore, validmind.model_validation.sklearn.CompletenessScore, validmind.model_validation.sklearn.VMeasure, validmind.model_validation.sklearn.AdjustedRandIndex, validmind.model_validation.sklearn.AdjustedMutualInformation, validmind.model_validation.sklearn.FowlkesMallowsScore, validmind.model_validation.sklearn.ClusterPerformanceMetrics, validmind.model_validation.sklearn.ClusterCosineSimilarity, validmind.model_validation.sklearn.SilhouettePlot</td>\n",
       "    </tr>\n",
       "    <tr>\n",
       "      <td id=\"T_c2f72_row7_col0\" class=\"data row7 col0\" >cluster_performance</td>\n",
       "      <td id=\"T_c2f72_row7_col1\" class=\"data row7 col1\" >ClusterPerformance</td>\n",
       "      <td id=\"T_c2f72_row7_col2\" class=\"data row7 col2\" >Test suite for sklearn cluster performance</td>\n",
       "      <td id=\"T_c2f72_row7_col3\" class=\"data row7 col3\" >validmind.model_validation.ClusterSizeDistribution</td>\n",
       "    </tr>\n",
       "    <tr>\n",
       "      <td id=\"T_c2f72_row8_col0\" class=\"data row8 col0\" >embeddings_full_suite</td>\n",
       "      <td id=\"T_c2f72_row8_col1\" class=\"data row8 col1\" >EmbeddingsFullSuite</td>\n",
       "      <td id=\"T_c2f72_row8_col2\" class=\"data row8 col2\" >Full test suite for embeddings models.</td>\n",
       "      <td id=\"T_c2f72_row8_col3\" class=\"data row8 col3\" >validmind.model_validation.ModelMetadata, validmind.data_validation.DatasetSplit, validmind.model_validation.embeddings.DescriptiveAnalytics, validmind.model_validation.embeddings.CosineSimilarityDistribution, validmind.model_validation.embeddings.ClusterDistribution, validmind.model_validation.embeddings.EmbeddingsVisualization2D, validmind.model_validation.embeddings.StabilityAnalysisRandomNoise, validmind.model_validation.embeddings.StabilityAnalysisSynonyms, validmind.model_validation.embeddings.StabilityAnalysisKeyword, validmind.model_validation.embeddings.StabilityAnalysisTranslation</td>\n",
       "    </tr>\n",
       "    <tr>\n",
       "      <td id=\"T_c2f72_row9_col0\" class=\"data row9 col0\" >embeddings_metrics</td>\n",
       "      <td id=\"T_c2f72_row9_col1\" class=\"data row9 col1\" >EmbeddingsMetrics</td>\n",
       "      <td id=\"T_c2f72_row9_col2\" class=\"data row9 col2\" >Test suite for embeddings metrics</td>\n",
       "      <td id=\"T_c2f72_row9_col3\" class=\"data row9 col3\" >validmind.model_validation.ModelMetadata, validmind.data_validation.DatasetSplit, validmind.model_validation.embeddings.DescriptiveAnalytics, validmind.model_validation.embeddings.CosineSimilarityDistribution, validmind.model_validation.embeddings.ClusterDistribution, validmind.model_validation.embeddings.EmbeddingsVisualization2D</td>\n",
       "    </tr>\n",
       "    <tr>\n",
       "      <td id=\"T_c2f72_row10_col0\" class=\"data row10 col0\" >embeddings_model_performance</td>\n",
       "      <td id=\"T_c2f72_row10_col1\" class=\"data row10 col1\" >EmbeddingsPerformance</td>\n",
       "      <td id=\"T_c2f72_row10_col2\" class=\"data row10 col2\" >Test suite for embeddings model performance</td>\n",
       "      <td id=\"T_c2f72_row10_col3\" class=\"data row10 col3\" >validmind.model_validation.embeddings.StabilityAnalysisRandomNoise, validmind.model_validation.embeddings.StabilityAnalysisSynonyms, validmind.model_validation.embeddings.StabilityAnalysisKeyword, validmind.model_validation.embeddings.StabilityAnalysisTranslation</td>\n",
       "    </tr>\n",
       "    <tr>\n",
       "      <td id=\"T_c2f72_row11_col0\" class=\"data row11 col0\" >hyper_parameters_optimization</td>\n",
       "      <td id=\"T_c2f72_row11_col1\" class=\"data row11 col1\" >KmeansParametersOptimization</td>\n",
       "      <td id=\"T_c2f72_row11_col2\" class=\"data row11 col2\" >Test suite for sklearn hyperparameters optimization</td>\n",
       "      <td id=\"T_c2f72_row11_col3\" class=\"data row11 col3\" >validmind.model_validation.sklearn.HyperParametersTuning, validmind.model_validation.sklearn.KMeansClustersOptimization</td>\n",
       "    </tr>\n",
       "    <tr>\n",
       "      <td id=\"T_c2f72_row12_col0\" class=\"data row12 col0\" >llm_classifier_full_suite</td>\n",
       "      <td id=\"T_c2f72_row12_col1\" class=\"data row12 col1\" >LLMClassifierFullSuite</td>\n",
       "      <td id=\"T_c2f72_row12_col2\" class=\"data row12 col2\" >Full test suite for LLM classification models.</td>\n",
       "      <td id=\"T_c2f72_row12_col3\" class=\"data row12 col3\" >validmind.data_validation.ClassImbalance, validmind.data_validation.Duplicates, validmind.data_validation.nlp.StopWords, validmind.data_validation.nlp.Punctuations, validmind.data_validation.nlp.CommonWords, validmind.data_validation.nlp.TextDescription, validmind.model_validation.ModelMetadata, validmind.data_validation.DatasetSplit, validmind.model_validation.sklearn.ConfusionMatrix, validmind.model_validation.sklearn.ClassifierInSamplePerformance, validmind.model_validation.sklearn.ClassifierOutOfSamplePerformance, validmind.model_validation.sklearn.PermutationFeatureImportance, validmind.model_validation.sklearn.PrecisionRecallCurve, validmind.model_validation.sklearn.ROCCurve, validmind.model_validation.sklearn.PopulationStabilityIndex, validmind.model_validation.sklearn.SHAPGlobalImportance, validmind.model_validation.sklearn.MinimumAccuracy, validmind.model_validation.sklearn.MinimumF1Score, validmind.model_validation.sklearn.MinimumROCAUCScore, validmind.model_validation.sklearn.TrainingTestDegradation, validmind.model_validation.sklearn.ModelsPerformanceComparison, validmind.model_validation.sklearn.OverfitDiagnosis, validmind.model_validation.sklearn.WeakspotsDiagnosis, validmind.model_validation.sklearn.RobustnessDiagnosis, validmind.prompt_validation.Bias, validmind.prompt_validation.Clarity, validmind.prompt_validation.Conciseness, validmind.prompt_validation.Delimitation, validmind.prompt_validation.NegativeInstruction, validmind.prompt_validation.Robustness, validmind.prompt_validation.Specificity</td>\n",
       "    </tr>\n",
       "    <tr>\n",
       "      <td id=\"T_c2f72_row13_col0\" class=\"data row13 col0\" >prompt_validation</td>\n",
       "      <td id=\"T_c2f72_row13_col1\" class=\"data row13 col1\" >PromptValidation</td>\n",
       "      <td id=\"T_c2f72_row13_col2\" class=\"data row13 col2\" >Test suite for prompt validation</td>\n",
       "      <td id=\"T_c2f72_row13_col3\" class=\"data row13 col3\" >validmind.prompt_validation.Bias, validmind.prompt_validation.Clarity, validmind.prompt_validation.Conciseness, validmind.prompt_validation.Delimitation, validmind.prompt_validation.NegativeInstruction, validmind.prompt_validation.Robustness, validmind.prompt_validation.Specificity</td>\n",
       "    </tr>\n",
       "    <tr>\n",
       "      <td id=\"T_c2f72_row14_col0\" class=\"data row14 col0\" >nlp_classifier_full_suite</td>\n",
       "      <td id=\"T_c2f72_row14_col1\" class=\"data row14 col1\" >NLPClassifierFullSuite</td>\n",
       "      <td id=\"T_c2f72_row14_col2\" class=\"data row14 col2\" >Full test suite for NLP classification models.</td>\n",
       "      <td id=\"T_c2f72_row14_col3\" class=\"data row14 col3\" >validmind.data_validation.ClassImbalance, validmind.data_validation.Duplicates, validmind.data_validation.nlp.StopWords, validmind.data_validation.nlp.Punctuations, validmind.data_validation.nlp.CommonWords, validmind.data_validation.nlp.TextDescription, validmind.model_validation.ModelMetadata, validmind.data_validation.DatasetSplit, validmind.model_validation.sklearn.ConfusionMatrix, validmind.model_validation.sklearn.ClassifierInSamplePerformance, validmind.model_validation.sklearn.ClassifierOutOfSamplePerformance, validmind.model_validation.sklearn.PermutationFeatureImportance, validmind.model_validation.sklearn.PrecisionRecallCurve, validmind.model_validation.sklearn.ROCCurve, validmind.model_validation.sklearn.PopulationStabilityIndex, validmind.model_validation.sklearn.SHAPGlobalImportance, validmind.model_validation.sklearn.MinimumAccuracy, validmind.model_validation.sklearn.MinimumF1Score, validmind.model_validation.sklearn.MinimumROCAUCScore, validmind.model_validation.sklearn.TrainingTestDegradation, validmind.model_validation.sklearn.ModelsPerformanceComparison, validmind.model_validation.sklearn.OverfitDiagnosis, validmind.model_validation.sklearn.WeakspotsDiagnosis, validmind.model_validation.sklearn.RobustnessDiagnosis</td>\n",
       "    </tr>\n",
       "    <tr>\n",
       "      <td id=\"T_c2f72_row15_col0\" class=\"data row15 col0\" >regression_metrics</td>\n",
       "      <td id=\"T_c2f72_row15_col1\" class=\"data row15 col1\" >RegressionMetrics</td>\n",
       "      <td id=\"T_c2f72_row15_col2\" class=\"data row15 col2\" >Test suite for performance metrics of regression metrics</td>\n",
       "      <td id=\"T_c2f72_row15_col3\" class=\"data row15 col3\" >validmind.data_validation.DatasetSplit, validmind.model_validation.ModelMetadata, validmind.model_validation.sklearn.PermutationFeatureImportance</td>\n",
       "    </tr>\n",
       "    <tr>\n",
       "      <td id=\"T_c2f72_row16_col0\" class=\"data row16 col0\" >regression_model_description</td>\n",
       "      <td id=\"T_c2f72_row16_col1\" class=\"data row16 col1\" >RegressionModelDescription</td>\n",
       "      <td id=\"T_c2f72_row16_col2\" class=\"data row16 col2\" >Test suite for performance metric of regression model of statsmodels library</td>\n",
       "      <td id=\"T_c2f72_row16_col3\" class=\"data row16 col3\" >validmind.data_validation.DatasetSplit, validmind.model_validation.ModelMetadata</td>\n",
       "    </tr>\n",
       "    <tr>\n",
       "      <td id=\"T_c2f72_row17_col0\" class=\"data row17 col0\" >regression_models_evaluation</td>\n",
       "      <td id=\"T_c2f72_row17_col1\" class=\"data row17 col1\" >RegressionModelsEvaluation</td>\n",
       "      <td id=\"T_c2f72_row17_col2\" class=\"data row17 col2\" >Test suite for metrics comparison of regression model of statsmodels library</td>\n",
       "      <td id=\"T_c2f72_row17_col3\" class=\"data row17 col3\" >validmind.model_validation.statsmodels.RegressionModelsCoeffs, validmind.model_validation.statsmodels.RegressionModelsPerformance</td>\n",
       "    </tr>\n",
       "    <tr>\n",
       "      <td id=\"T_c2f72_row18_col0\" class=\"data row18 col0\" >regression_models_comparison</td>\n",
       "      <td id=\"T_c2f72_row18_col1\" class=\"data row18 col1\" >RegressionModelsComparison</td>\n",
       "      <td id=\"T_c2f72_row18_col2\" class=\"data row18 col2\" >Test suite for regression models performance comparison</td>\n",
       "      <td id=\"T_c2f72_row18_col3\" class=\"data row18 col3\" >validmind.model_validation.sklearn.RegressionModelsPerformanceComparison</td>\n",
       "    </tr>\n",
       "    <tr>\n",
       "      <td id=\"T_c2f72_row19_col0\" class=\"data row19 col0\" >regression_full_suite</td>\n",
       "      <td id=\"T_c2f72_row19_col1\" class=\"data row19 col1\" >RegressionFullSuite</td>\n",
       "      <td id=\"T_c2f72_row19_col2\" class=\"data row19 col2\" >Full test suite for regression models.</td>\n",
       "      <td id=\"T_c2f72_row19_col3\" class=\"data row19 col3\" >validmind.data_validation.DatasetMetadata, validmind.data_validation.DatasetDescription, validmind.data_validation.DescriptiveStatistics, validmind.data_validation.PearsonCorrelationMatrix, validmind.data_validation.ClassImbalance, validmind.data_validation.Duplicates, validmind.data_validation.HighCardinality, validmind.data_validation.HighPearsonCorrelation, validmind.data_validation.MissingValues, validmind.data_validation.Skewness, validmind.data_validation.UniqueRows, validmind.data_validation.TooManyZeroValues, validmind.data_validation.DatasetSplit, validmind.model_validation.ModelMetadata, validmind.model_validation.sklearn.PermutationFeatureImportance, validmind.model_validation.sklearn.RegressionErrors, validmind.model_validation.sklearn.RegressionR2Square, validmind.model_validation.sklearn.RegressionModelsPerformanceComparison</td>\n",
       "    </tr>\n",
       "    <tr>\n",
       "      <td id=\"T_c2f72_row20_col0\" class=\"data row20 col0\" >regression_performance</td>\n",
       "      <td id=\"T_c2f72_row20_col1\" class=\"data row20 col1\" >RegressionPerformance</td>\n",
       "      <td id=\"T_c2f72_row20_col2\" class=\"data row20 col2\" >Test suite for regression model performance</td>\n",
       "      <td id=\"T_c2f72_row20_col3\" class=\"data row20 col3\" >validmind.model_validation.sklearn.RegressionErrors, validmind.model_validation.sklearn.RegressionR2Square</td>\n",
       "    </tr>\n",
       "    <tr>\n",
       "      <td id=\"T_c2f72_row21_col0\" class=\"data row21 col0\" >summarization_metrics</td>\n",
       "      <td id=\"T_c2f72_row21_col1\" class=\"data row21 col1\" >SummarizationMetrics</td>\n",
       "      <td id=\"T_c2f72_row21_col2\" class=\"data row21 col2\" >Test suite for Summarization metrics</td>\n",
       "      <td id=\"T_c2f72_row21_col3\" class=\"data row21 col3\" >validmind.model_validation.RougeMetrics, validmind.model_validation.TokenDisparity, validmind.model_validation.BleuScore, validmind.model_validation.BertScore, validmind.model_validation.ContextualRecall</td>\n",
       "    </tr>\n",
       "    <tr>\n",
       "      <td id=\"T_c2f72_row22_col0\" class=\"data row22 col0\" >tabular_dataset</td>\n",
       "      <td id=\"T_c2f72_row22_col1\" class=\"data row22 col1\" >TabularDataset</td>\n",
       "      <td id=\"T_c2f72_row22_col2\" class=\"data row22 col2\" >Test suite for tabular datasets.</td>\n",
       "      <td id=\"T_c2f72_row22_col3\" class=\"data row22 col3\" >validmind.data_validation.DatasetMetadata, validmind.data_validation.DatasetDescription, validmind.data_validation.DescriptiveStatistics, validmind.data_validation.PearsonCorrelationMatrix, validmind.data_validation.ClassImbalance, validmind.data_validation.Duplicates, validmind.data_validation.HighCardinality, validmind.data_validation.HighPearsonCorrelation, validmind.data_validation.MissingValues, validmind.data_validation.Skewness, validmind.data_validation.UniqueRows, validmind.data_validation.TooManyZeroValues</td>\n",
       "    </tr>\n",
       "    <tr>\n",
       "      <td id=\"T_c2f72_row23_col0\" class=\"data row23 col0\" >tabular_dataset_description</td>\n",
       "      <td id=\"T_c2f72_row23_col1\" class=\"data row23 col1\" >TabularDatasetDescription</td>\n",
       "      <td id=\"T_c2f72_row23_col2\" class=\"data row23 col2\" >Test suite to extract metadata and descriptive\n",
       "    statistics from a tabular dataset</td>\n",
       "      <td id=\"T_c2f72_row23_col3\" class=\"data row23 col3\" >validmind.data_validation.DatasetMetadata, validmind.data_validation.DatasetDescription, validmind.data_validation.DescriptiveStatistics, validmind.data_validation.PearsonCorrelationMatrix</td>\n",
       "    </tr>\n",
       "    <tr>\n",
       "      <td id=\"T_c2f72_row24_col0\" class=\"data row24 col0\" >tabular_data_quality</td>\n",
       "      <td id=\"T_c2f72_row24_col1\" class=\"data row24 col1\" >TabularDataQuality</td>\n",
       "      <td id=\"T_c2f72_row24_col2\" class=\"data row24 col2\" >Test suite for data quality on tabular datasets</td>\n",
       "      <td id=\"T_c2f72_row24_col3\" class=\"data row24 col3\" >validmind.data_validation.ClassImbalance, validmind.data_validation.Duplicates, validmind.data_validation.HighCardinality, validmind.data_validation.HighPearsonCorrelation, validmind.data_validation.MissingValues, validmind.data_validation.Skewness, validmind.data_validation.UniqueRows, validmind.data_validation.TooManyZeroValues</td>\n",
       "    </tr>\n",
       "    <tr>\n",
       "      <td id=\"T_c2f72_row25_col0\" class=\"data row25 col0\" >text_data_quality</td>\n",
       "      <td id=\"T_c2f72_row25_col1\" class=\"data row25 col1\" >TextDataQuality</td>\n",
       "      <td id=\"T_c2f72_row25_col2\" class=\"data row25 col2\" >Test suite for data quality on text data</td>\n",
       "      <td id=\"T_c2f72_row25_col3\" class=\"data row25 col3\" >validmind.data_validation.ClassImbalance, validmind.data_validation.Duplicates, validmind.data_validation.nlp.StopWords, validmind.data_validation.nlp.Punctuations, validmind.data_validation.nlp.CommonWords, validmind.data_validation.nlp.TextDescription</td>\n",
       "    </tr>\n",
       "    <tr>\n",
       "      <td id=\"T_c2f72_row26_col0\" class=\"data row26 col0\" >time_series_data_quality</td>\n",
       "      <td id=\"T_c2f72_row26_col1\" class=\"data row26 col1\" >TimeSeriesDataQuality</td>\n",
       "      <td id=\"T_c2f72_row26_col2\" class=\"data row26 col2\" >Test suite for data quality on time series datasets</td>\n",
       "      <td id=\"T_c2f72_row26_col3\" class=\"data row26 col3\" >validmind.data_validation.TimeSeriesOutliers, validmind.data_validation.TimeSeriesMissingValues, validmind.data_validation.TimeSeriesFrequency</td>\n",
       "    </tr>\n",
       "    <tr>\n",
       "      <td id=\"T_c2f72_row27_col0\" class=\"data row27 col0\" >time_series_dataset</td>\n",
       "      <td id=\"T_c2f72_row27_col1\" class=\"data row27 col1\" >TimeSeriesDataset</td>\n",
       "      <td id=\"T_c2f72_row27_col2\" class=\"data row27 col2\" >Test suite for time series datasets.</td>\n",
       "      <td id=\"T_c2f72_row27_col3\" class=\"data row27 col3\" >validmind.data_validation.TimeSeriesOutliers, validmind.data_validation.TimeSeriesMissingValues, validmind.data_validation.TimeSeriesFrequency, validmind.data_validation.TimeSeriesLinePlot, validmind.data_validation.TimeSeriesHistogram, validmind.data_validation.ACFandPACFPlot, validmind.data_validation.SeasonalDecompose, validmind.data_validation.AutoSeasonality, validmind.data_validation.AutoStationarity, validmind.data_validation.RollingStatsPlot, validmind.data_validation.AutoAR, validmind.data_validation.AutoMA, validmind.data_validation.ScatterPlot, validmind.data_validation.LaggedCorrelationHeatmap, validmind.data_validation.EngleGrangerCoint, validmind.data_validation.SpreadPlot</td>\n",
       "    </tr>\n",
       "    <tr>\n",
       "      <td id=\"T_c2f72_row28_col0\" class=\"data row28 col0\" >time_series_model_validation</td>\n",
       "      <td id=\"T_c2f72_row28_col1\" class=\"data row28 col1\" >TimeSeriesModelValidation</td>\n",
       "      <td id=\"T_c2f72_row28_col2\" class=\"data row28 col2\" >Test suite for time series model validation.</td>\n",
       "      <td id=\"T_c2f72_row28_col3\" class=\"data row28 col3\" >validmind.data_validation.DatasetSplit, validmind.model_validation.ModelMetadata, validmind.model_validation.statsmodels.RegressionModelsCoeffs, validmind.model_validation.statsmodels.RegressionModelsPerformance, validmind.model_validation.statsmodels.RegressionModelForecastPlotLevels, validmind.model_validation.statsmodels.RegressionModelSensitivityPlot</td>\n",
       "    </tr>\n",
       "    <tr>\n",
       "      <td id=\"T_c2f72_row29_col0\" class=\"data row29 col0\" >time_series_multivariate</td>\n",
       "      <td id=\"T_c2f72_row29_col1\" class=\"data row29 col1\" >TimeSeriesMultivariate</td>\n",
       "      <td id=\"T_c2f72_row29_col2\" class=\"data row29 col2\" >This test suite provides a preliminary understanding of the features\n",
       "    and relationship in multivariate dataset. It presents various\n",
       "    multivariate visualizations that can help identify patterns, trends,\n",
       "    and relationships between pairs of variables. The visualizations are\n",
       "    designed to explore the relationships between multiple features\n",
       "    simultaneously. They allow you to quickly identify any patterns or\n",
       "    trends in the data, as well as any potential outliers or anomalies.\n",
       "    The individual feature distribution can also be explored to provide\n",
       "    insight into the range and frequency of values observed in the data.\n",
       "    This multivariate analysis test suite aims to provide an overview of\n",
       "    the data structure and guide further exploration and modeling.</td>\n",
       "      <td id=\"T_c2f72_row29_col3\" class=\"data row29 col3\" >validmind.data_validation.ScatterPlot, validmind.data_validation.LaggedCorrelationHeatmap, validmind.data_validation.EngleGrangerCoint, validmind.data_validation.SpreadPlot</td>\n",
       "    </tr>\n",
       "    <tr>\n",
       "      <td id=\"T_c2f72_row30_col0\" class=\"data row30 col0\" >time_series_sensitivity</td>\n",
       "      <td id=\"T_c2f72_row30_col1\" class=\"data row30 col1\" >TimeSeriesSensitivity</td>\n",
       "      <td id=\"T_c2f72_row30_col2\" class=\"data row30 col2\" >This test suite performs sensitivity analysis on a statsmodels OLS linear regression model\n",
       "    by applying distinct shocks to each input variable individually and then computing the\n",
       "    model's predictions. The aim of this test suite is to investigate the model's responsiveness\n",
       "    to variations in its inputs. By juxtaposing the model's predictions under baseline and shocked\n",
       "    conditions, users can visually evaluate the sensitivity of the model to changes in each\n",
       "    variable. This kind of analysis can also shed light on potential model limitations, including\n",
       "    over-reliance on specific variables or insufficient responsiveness to changes in inputs. As a\n",
       "    result, this test suite can provide insights that may be beneficial for refining the model\n",
       "    structure, improving its robustness, and ensuring a more reliable prediction performance.</td>\n",
       "      <td id=\"T_c2f72_row30_col3\" class=\"data row30 col3\" >validmind.model_validation.statsmodels.RegressionModelSensitivityPlot</td>\n",
       "    </tr>\n",
       "    <tr>\n",
       "      <td id=\"T_c2f72_row31_col0\" class=\"data row31 col0\" >time_series_univariate</td>\n",
       "      <td id=\"T_c2f72_row31_col1\" class=\"data row31 col1\" >TimeSeriesUnivariate</td>\n",
       "      <td id=\"T_c2f72_row31_col2\" class=\"data row31 col2\" >This test suite provides a preliminary understanding of the target variable(s)\n",
       "    used in the time series dataset. It visualizations that present the raw time\n",
       "    series data and a histogram of the target variable(s).\n",
       "\n",
       "    The raw time series data provides a visual inspection of the target variable's\n",
       "    behavior over time. This helps to identify any patterns or trends in the data,\n",
       "    as well as any potential outliers or anomalies. The histogram of the target\n",
       "    variable displays the distribution of values, providing insight into the range\n",
       "    and frequency of values observed in the data.</td>\n",
       "      <td id=\"T_c2f72_row31_col3\" class=\"data row31 col3\" >validmind.data_validation.TimeSeriesLinePlot, validmind.data_validation.TimeSeriesHistogram, validmind.data_validation.ACFandPACFPlot, validmind.data_validation.SeasonalDecompose, validmind.data_validation.AutoSeasonality, validmind.data_validation.AutoStationarity, validmind.data_validation.RollingStatsPlot, validmind.data_validation.AutoAR, validmind.data_validation.AutoMA</td>\n",
       "    </tr>\n",
       "  </tbody>\n",
       "</table>\n"
      ],
      "text/plain": [
       "<pandas.io.formats.style.Styler at 0x2870a46a0>"
      ]
     },
     "execution_count": 6,
     "metadata": {},
     "output_type": "execute_result"
    }
   ],
   "source": [
    "vm.test_suites.list_suites()"
   ]
  },
  {
   "attachments": {},
   "cell_type": "markdown",
   "metadata": {},
   "source": [
    "## Run the data validation test suite"
   ]
  },
  {
   "cell_type": "code",
   "execution_count": 7,
   "metadata": {
    "tags": []
   },
   "outputs": [
    {
     "data": {
      "application/vnd.jupyter.widget-view+json": {
       "model_id": "711d669253504ff8ab9c62796fb92df1",
       "version_major": 2,
       "version_minor": 0
      },
      "text/plain": [
       "HBox(children=(Label(value='Running test suite...'), IntProgress(value=0, max=24)))"
      ]
     },
     "metadata": {},
     "output_type": "display_data"
    },
    {
     "data": {
      "application/vnd.jupyter.widget-view+json": {
       "model_id": "b8a6c065021142dfbe1ef5aaba7ff9b7",
       "version_major": 2,
       "version_minor": 0
      },
      "text/plain": [
       "VBox(children=(HTML(value='<h2>Test Suite Results: <i style=\"color: #DE257E\">Tabular Dataset</i></h2><hr>'), H…"
      ]
     },
     "metadata": {},
     "output_type": "display_data"
    }
   ],
   "source": [
    "tabular_suite = vm.run_test_suite(\"tabular_dataset\", dataset=vm_dataset)"
   ]
  },
  {
   "attachments": {},
   "cell_type": "markdown",
   "metadata": {},
   "source": [
    "## Run the model validation test suite"
   ]
  },
  {
   "attachments": {},
   "cell_type": "markdown",
   "metadata": {},
   "source": [
    "We will need to preprocess the dataset and produce the training, test and validation splits first."
   ]
  },
  {
   "attachments": {},
   "cell_type": "markdown",
   "metadata": {},
   "source": [
    "### Prepocess the raw dataset"
   ]
  },
  {
   "cell_type": "code",
   "execution_count": 8,
   "metadata": {},
   "outputs": [],
   "source": [
    "train_df, validation_df, test_df = demo_dataset.preprocess(df)"
   ]
  },
  {
   "attachments": {},
   "cell_type": "markdown",
   "metadata": {},
   "source": [
    "### Train a model for testing\n",
    "\n",
    "We train a simple customer churn model for our test."
   ]
  },
  {
   "cell_type": "code",
   "execution_count": 9,
   "metadata": {},
   "outputs": [
    {
     "data": {
      "text/html": [
       "<style>#sk-container-id-1 {color: black;}#sk-container-id-1 pre{padding: 0;}#sk-container-id-1 div.sk-toggleable {background-color: white;}#sk-container-id-1 label.sk-toggleable__label {cursor: pointer;display: block;width: 100%;margin-bottom: 0;padding: 0.3em;box-sizing: border-box;text-align: center;}#sk-container-id-1 label.sk-toggleable__label-arrow:before {content: \"▸\";float: left;margin-right: 0.25em;color: #696969;}#sk-container-id-1 label.sk-toggleable__label-arrow:hover:before {color: black;}#sk-container-id-1 div.sk-estimator:hover label.sk-toggleable__label-arrow:before {color: black;}#sk-container-id-1 div.sk-toggleable__content {max-height: 0;max-width: 0;overflow: hidden;text-align: left;background-color: #f0f8ff;}#sk-container-id-1 div.sk-toggleable__content pre {margin: 0.2em;color: black;border-radius: 0.25em;background-color: #f0f8ff;}#sk-container-id-1 input.sk-toggleable__control:checked~div.sk-toggleable__content {max-height: 200px;max-width: 100%;overflow: auto;}#sk-container-id-1 input.sk-toggleable__control:checked~label.sk-toggleable__label-arrow:before {content: \"▾\";}#sk-container-id-1 div.sk-estimator input.sk-toggleable__control:checked~label.sk-toggleable__label {background-color: #d4ebff;}#sk-container-id-1 div.sk-label input.sk-toggleable__control:checked~label.sk-toggleable__label {background-color: #d4ebff;}#sk-container-id-1 input.sk-hidden--visually {border: 0;clip: rect(1px 1px 1px 1px);clip: rect(1px, 1px, 1px, 1px);height: 1px;margin: -1px;overflow: hidden;padding: 0;position: absolute;width: 1px;}#sk-container-id-1 div.sk-estimator {font-family: monospace;background-color: #f0f8ff;border: 1px dotted black;border-radius: 0.25em;box-sizing: border-box;margin-bottom: 0.5em;}#sk-container-id-1 div.sk-estimator:hover {background-color: #d4ebff;}#sk-container-id-1 div.sk-parallel-item::after {content: \"\";width: 100%;border-bottom: 1px solid gray;flex-grow: 1;}#sk-container-id-1 div.sk-label:hover label.sk-toggleable__label {background-color: #d4ebff;}#sk-container-id-1 div.sk-serial::before {content: \"\";position: absolute;border-left: 1px solid gray;box-sizing: border-box;top: 0;bottom: 0;left: 50%;z-index: 0;}#sk-container-id-1 div.sk-serial {display: flex;flex-direction: column;align-items: center;background-color: white;padding-right: 0.2em;padding-left: 0.2em;position: relative;}#sk-container-id-1 div.sk-item {position: relative;z-index: 1;}#sk-container-id-1 div.sk-parallel {display: flex;align-items: stretch;justify-content: center;background-color: white;position: relative;}#sk-container-id-1 div.sk-item::before, #sk-container-id-1 div.sk-parallel-item::before {content: \"\";position: absolute;border-left: 1px solid gray;box-sizing: border-box;top: 0;bottom: 0;left: 50%;z-index: -1;}#sk-container-id-1 div.sk-parallel-item {display: flex;flex-direction: column;z-index: 1;position: relative;background-color: white;}#sk-container-id-1 div.sk-parallel-item:first-child::after {align-self: flex-end;width: 50%;}#sk-container-id-1 div.sk-parallel-item:last-child::after {align-self: flex-start;width: 50%;}#sk-container-id-1 div.sk-parallel-item:only-child::after {width: 0;}#sk-container-id-1 div.sk-dashed-wrapped {border: 1px dashed gray;margin: 0 0.4em 0.5em 0.4em;box-sizing: border-box;padding-bottom: 0.4em;background-color: white;}#sk-container-id-1 div.sk-label label {font-family: monospace;font-weight: bold;display: inline-block;line-height: 1.2em;}#sk-container-id-1 div.sk-label-container {text-align: center;}#sk-container-id-1 div.sk-container {/* jupyter's `normalize.less` sets `[hidden] { display: none; }` but bootstrap.min.css set `[hidden] { display: none !important; }` so we also need the `!important` here to be able to override the default hidden behavior on the sphinx rendered scikit-learn.org. See: https://github.com/scikit-learn/scikit-learn/issues/21755 */display: inline-block !important;position: relative;}#sk-container-id-1 div.sk-text-repr-fallback {display: none;}</style><div id=\"sk-container-id-1\" class=\"sk-top-container\"><div class=\"sk-text-repr-fallback\"><pre>XGBClassifier(base_score=None, booster=None, callbacks=None,\n",
       "              colsample_bylevel=None, colsample_bynode=None,\n",
       "              colsample_bytree=None, early_stopping_rounds=10,\n",
       "              enable_categorical=False, eval_metric=[&#x27;error&#x27;, &#x27;logloss&#x27;, &#x27;auc&#x27;],\n",
       "              feature_types=None, gamma=None, gpu_id=None, grow_policy=None,\n",
       "              importance_type=None, interaction_constraints=None,\n",
       "              learning_rate=None, max_bin=None, max_cat_threshold=None,\n",
       "              max_cat_to_onehot=None, max_delta_step=None, max_depth=None,\n",
       "              max_leaves=None, min_child_weight=None, missing=nan,\n",
       "              monotone_constraints=None, n_estimators=100, n_jobs=None,\n",
       "              num_parallel_tree=None, predictor=None, random_state=None, ...)</pre><b>In a Jupyter environment, please rerun this cell to show the HTML representation or trust the notebook. <br />On GitHub, the HTML representation is unable to render, please try loading this page with nbviewer.org.</b></div><div class=\"sk-container\" hidden><div class=\"sk-item\"><div class=\"sk-estimator sk-toggleable\"><input class=\"sk-toggleable__control sk-hidden--visually\" id=\"sk-estimator-id-1\" type=\"checkbox\" checked><label for=\"sk-estimator-id-1\" class=\"sk-toggleable__label sk-toggleable__label-arrow\">XGBClassifier</label><div class=\"sk-toggleable__content\"><pre>XGBClassifier(base_score=None, booster=None, callbacks=None,\n",
       "              colsample_bylevel=None, colsample_bynode=None,\n",
       "              colsample_bytree=None, early_stopping_rounds=10,\n",
       "              enable_categorical=False, eval_metric=[&#x27;error&#x27;, &#x27;logloss&#x27;, &#x27;auc&#x27;],\n",
       "              feature_types=None, gamma=None, gpu_id=None, grow_policy=None,\n",
       "              importance_type=None, interaction_constraints=None,\n",
       "              learning_rate=None, max_bin=None, max_cat_threshold=None,\n",
       "              max_cat_to_onehot=None, max_delta_step=None, max_depth=None,\n",
       "              max_leaves=None, min_child_weight=None, missing=nan,\n",
       "              monotone_constraints=None, n_estimators=100, n_jobs=None,\n",
       "              num_parallel_tree=None, predictor=None, random_state=None, ...)</pre></div></div></div></div></div>"
      ],
      "text/plain": [
       "XGBClassifier(base_score=None, booster=None, callbacks=None,\n",
       "              colsample_bylevel=None, colsample_bynode=None,\n",
       "              colsample_bytree=None, early_stopping_rounds=10,\n",
       "              enable_categorical=False, eval_metric=['error', 'logloss', 'auc'],\n",
       "              feature_types=None, gamma=None, gpu_id=None, grow_policy=None,\n",
       "              importance_type=None, interaction_constraints=None,\n",
       "              learning_rate=None, max_bin=None, max_cat_threshold=None,\n",
       "              max_cat_to_onehot=None, max_delta_step=None, max_depth=None,\n",
       "              max_leaves=None, min_child_weight=None, missing=nan,\n",
       "              monotone_constraints=None, n_estimators=100, n_jobs=None,\n",
       "              num_parallel_tree=None, predictor=None, random_state=None, ...)"
      ]
     },
     "execution_count": 9,
     "metadata": {},
     "output_type": "execute_result"
    }
   ],
   "source": [
    "x_train = train_df.drop(demo_dataset.target_column, axis=1)\n",
    "y_train = train_df[demo_dataset.target_column]\n",
    "x_val = validation_df.drop(demo_dataset.target_column, axis=1)\n",
    "y_val = validation_df[demo_dataset.target_column]\n",
    "\n",
    "model = xgb.XGBClassifier(early_stopping_rounds=10)\n",
    "model.set_params(\n",
    "    eval_metric=[\"error\", \"logloss\", \"auc\"],\n",
    ")\n",
    "model.fit(\n",
    "    x_train,\n",
    "    y_train,\n",
    "    eval_set=[(x_val, y_val)],\n",
    "    verbose=False,\n",
    ")"
   ]
  },
  {
   "attachments": {},
   "cell_type": "markdown",
   "metadata": {},
   "source": [
    "## Import and run the individual test suite\n",
    "\n",
    "### Initialize ValidMind objects\n",
    "\n",
    "We initize the objects required to run test suites using the ValidMind framework."
   ]
  },
  {
   "cell_type": "code",
   "execution_count": 10,
   "metadata": {},
   "outputs": [
    {
     "name": "stderr",
     "output_type": "stream",
     "text": [
      "2024-01-19 12:03:20,239 - INFO(validmind.client): The 'type' argument to init_dataset() argument is deprecated and no longer required.\n",
      "2024-01-19 12:03:20,240 - INFO(validmind.client): Pandas dataset detected. Initializing VM Dataset instance...\n",
      "2024-01-19 12:03:20,242 - INFO(validmind.client): The 'type' argument to init_dataset() argument is deprecated and no longer required.\n",
      "2024-01-19 12:03:20,242 - INFO(validmind.client): Pandas dataset detected. Initializing VM Dataset instance...\n"
     ]
    }
   ],
   "source": [
    "vm_train_ds = vm.init_dataset(\n",
    "    dataset=train_df,\n",
    "    type=\"generic\",\n",
    "    target_column=demo_dataset.target_column\n",
    ")\n",
    "\n",
    "vm_test_ds = vm.init_dataset(\n",
    "    dataset=test_df,\n",
    "    type=\"generic\",\n",
    "    target_column=demo_dataset.target_column\n",
    ")\n",
    "\n",
    "vm_model = vm.init_model(\n",
    "    model,\n",
    "    train_ds=vm_train_ds,\n",
    "    test_ds=vm_test_ds,\n",
    ")"
   ]
  },
  {
   "attachments": {},
   "cell_type": "markdown",
   "metadata": {},
   "source": [
    "### Run the binary classification test suite"
   ]
  },
  {
   "cell_type": "code",
   "execution_count": 13,
   "metadata": {
    "tags": []
   },
   "outputs": [
    {
     "data": {
      "application/vnd.jupyter.widget-view+json": {
       "model_id": "670398ef2c4e4f35b1c6d3c5f88324e2",
       "version_major": 2,
       "version_minor": 0
      },
      "text/plain": [
       "HBox(children=(Label(value='Running test suite...'), IntProgress(value=0, max=36)))"
      ]
     },
     "metadata": {},
     "output_type": "display_data"
    },
    {
     "data": {
      "application/vnd.jupyter.widget-view+json": {
       "model_id": "18d202e771cc46c5bcab484e0aaf6c64",
       "version_major": 2,
       "version_minor": 0
      },
      "text/plain": [
       "VBox(children=(HTML(value='<h2>Test Suite Results: <i style=\"color: #DE257E\">Classifier Model Validation</i></…"
      ]
     },
     "metadata": {},
     "output_type": "display_data"
    }
   ],
   "source": [
    "model_suite = vm.run_test_suite(\n",
    "    \"classifier_model_validation\", \n",
    "    inputs = {\n",
    "        \"model\":vm_model,\n",
    "        \"models\":[vm_model]\n",
    "    }\n",
    ")"
   ]
  }
 ],
 "metadata": {
  "kernelspec": {
   "display_name": "Developer Framework",
   "language": "python",
   "name": "dev-framework"
  },
  "language_info": {
   "codemirror_mode": {
    "name": "ipython",
    "version": 3
   },
   "file_extension": ".py",
   "mimetype": "text/x-python",
   "name": "python",
   "nbconvert_exporter": "python",
   "pygments_lexer": "ipython3",
   "version": "3.10.13"
  }
 },
 "nbformat": 4,
 "nbformat_minor": 4
}
