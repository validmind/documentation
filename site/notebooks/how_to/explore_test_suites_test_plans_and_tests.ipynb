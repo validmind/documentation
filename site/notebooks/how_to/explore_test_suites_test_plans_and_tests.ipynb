{
 "cells": [
  {
   "attachments": {},
   "cell_type": "markdown",
   "metadata": {},
   "source": [
    "# Viewing all available Test suites, Test plans and tests\n",
    "This notebook aim to demostrate the list of interfaces available to get details of test suites, test plans and tests.\n"
   ]
  },
  {
   "attachments": {},
   "cell_type": "markdown",
   "metadata": {},
   "source": [
    "## Before you begin\n",
    "\n",
    "To use the ValidMind Developer Framework with a Jupyter notebook, you need to install and initialize the client library first, along with getting your Python environment ready.\n",
    "\n",
    "If you don't already have one, you should also [create a documentation project](https://docs.validmind.ai/guide/create-your-first-documentation-project.html) on the ValidMind platform. You will use this project to upload your documentation and test results."
   ]
  },
  {
   "attachments": {},
   "cell_type": "markdown",
   "metadata": {},
   "source": [
    "## Install the client library"
   ]
  },
  {
   "cell_type": "code",
   "execution_count": 2,
   "metadata": {},
   "outputs": [
    {
     "name": "stdout",
     "output_type": "stream",
     "text": [
      "Defaulting to user installation because normal site-packages is not writeable\n",
      "Collecting validmind\n",
      "  Downloading validmind-1.19.2-py3-none-any.whl (6.2 MB)\n",
      "\u001b[K     |████████████████████████████████| 6.2 MB 6.5 MB/s eta 0:00:01\n",
      "\u001b[?25hCollecting click<9.0.0,>=8.0.4\n",
      "  Downloading click-8.1.7-py3-none-any.whl (97 kB)\n",
      "\u001b[K     |████████████████████████████████| 97 kB 42.0 MB/s eta 0:00:01\n",
      "\u001b[?25hCollecting python-dotenv<0.21.0,>=0.20.0\n",
      "  Using cached python_dotenv-0.20.0-py3-none-any.whl (17 kB)\n",
      "Collecting pypmml<0.10.0,>=0.9.17\n",
      "  Using cached pypmml-0.9.17-py3-none-any.whl\n",
      "Collecting scorecardpy<0.2.0.0,>=0.1.9.6\n",
      "  Downloading scorecardpy-0.1.9.7.tar.gz (58 kB)\n",
      "\u001b[K     |████████████████████████████████| 58 kB 23.7 MB/s eta 0:00:01\n",
      "\u001b[?25hCollecting rouge<2.0.0,>=1.0.1\n",
      "  Downloading rouge-1.0.1-py3-none-any.whl (13 kB)\n",
      "Collecting ipywidgets<9.0.0,>=8.0.6\n",
      "  Downloading ipywidgets-8.1.1-py3-none-any.whl (139 kB)\n",
      "\u001b[K     |████████████████████████████████| 139 kB 66.2 MB/s eta 0:00:01\n",
      "\u001b[?25hCollecting xgboost<2.0.0,>=1.5.2\n",
      "  Downloading xgboost-1.7.6-py3-none-macosx_12_0_arm64.whl (1.6 MB)\n",
      "\u001b[K     |████████████████████████████████| 1.6 MB 83.3 MB/s eta 0:00:01\n",
      "\u001b[?25hCollecting dython<0.8.0,>=0.7.1\n",
      "  Using cached dython-0.7.4-py3-none-any.whl (24 kB)\n",
      "Collecting wget<4.0,>=3.2\n",
      "  Downloading wget-3.2.zip (10 kB)\n",
      "Collecting sentencepiece<0.2.0,>=0.1.99\n",
      "  Downloading sentencepiece-0.1.99-cp39-cp39-macosx_11_0_arm64.whl (1.2 MB)\n",
      "\u001b[K     |████████████████████████████████| 1.2 MB 62.7 MB/s eta 0:00:01\n",
      "\u001b[?25hCollecting pdoc<14.0.0,>=13.1.1\n",
      "  Downloading pdoc-13.1.1-py3-none-any.whl (132 kB)\n",
      "\u001b[K     |████████████████████████████████| 132 kB 81.2 MB/s eta 0:00:01\n",
      "\u001b[?25hCollecting plotly-express<0.5.0,>=0.4.1\n",
      "  Downloading plotly_express-0.4.1-py2.py3-none-any.whl (2.9 kB)\n",
      "Collecting nltk<4.0.0,>=3.8.1\n",
      "  Downloading nltk-3.8.1-py3-none-any.whl (1.5 MB)\n",
      "\u001b[K     |████████████████████████████████| 1.5 MB 77.7 MB/s eta 0:00:01\n",
      "\u001b[?25hCollecting scikit-learn<2.0.0,>=1.0.2\n",
      "  Downloading scikit_learn-1.3.0-cp39-cp39-macosx_12_0_arm64.whl (9.5 MB)\n",
      "\u001b[K     |████████████████████████████████| 9.5 MB 84.9 MB/s eta 0:00:01\n",
      "\u001b[?25hCollecting shap<0.42.0,>=0.41.0\n",
      "  Using cached shap-0.41.0-cp39-cp39-macosx_11_0_arm64.whl\n",
      "Collecting aiohttp[speedups]<4.0.0,>=3.8.4\n",
      "  Downloading aiohttp-3.8.5-cp39-cp39-macosx_11_0_arm64.whl (345 kB)\n",
      "\u001b[K     |████████████████████████████████| 345 kB 74.3 MB/s eta 0:00:01\n",
      "\u001b[?25hCollecting statsmodels<0.14.0,>=0.13.5\n",
      "  Using cached statsmodels-0.13.5-cp39-cp39-macosx_11_0_arm64.whl (9.2 MB)\n",
      "Collecting pandas==1.5.3\n",
      "  Downloading pandas-1.5.3-cp39-cp39-macosx_11_0_arm64.whl (11.0 MB)\n",
      "\u001b[K     |████████████████████████████████| 11.0 MB 69.4 MB/s eta 0:00:01\n",
      "\u001b[?25hCollecting arch<6.0.0,>=5.4.0\n",
      "  Downloading arch-5.6.0-cp39-cp39-macosx_11_0_arm64.whl (866 kB)\n",
      "\u001b[K     |████████████████████████████████| 866 kB 69.9 MB/s eta 0:00:01\n",
      "\u001b[?25hCollecting langdetect<2.0.0,>=1.0.9\n",
      "  Downloading langdetect-1.0.9.tar.gz (981 kB)\n",
      "\u001b[K     |████████████████████████████████| 981 kB 33.7 MB/s eta 0:00:01\n",
      "\u001b[?25hCollecting seaborn<0.12.0,>=0.11.2\n",
      "  Using cached seaborn-0.11.2-py3-none-any.whl (292 kB)\n",
      "Collecting pydantic<2.0.0,>=1.9.1\n",
      "  Downloading pydantic-1.10.12-cp39-cp39-macosx_11_0_arm64.whl (2.6 MB)\n",
      "\u001b[K     |████████████████████████████████| 2.6 MB 78.8 MB/s eta 0:00:01\n",
      "\u001b[?25hRequirement already satisfied: requests<3.0.0,>=2.27.1 in /Users/nrichers/Library/Python/3.9/lib/python/site-packages (from validmind) (2.28.2)\n",
      "Collecting plotly<6.0.0,>=5.14.1\n",
      "  Downloading plotly-5.17.0-py2.py3-none-any.whl (15.6 MB)\n",
      "\u001b[K     |████████████████████████████████| 15.6 MB 1.3 MB/s eta 0:00:011\n",
      "\u001b[?25hCollecting textstat<0.8.0,>=0.7.3\n",
      "  Downloading textstat-0.7.3-py3-none-any.whl (105 kB)\n",
      "\u001b[K     |████████████████████████████████| 105 kB 49.6 MB/s eta 0:00:01\n",
      "\u001b[?25hCollecting ipython==7.34.0\n",
      "  Downloading ipython-7.34.0-py3-none-any.whl (793 kB)\n",
      "\u001b[K     |████████████████████████████████| 793 kB 77.2 MB/s eta 0:00:01\n",
      "\u001b[?25hCollecting markdown<4.0.0,>=3.4.3\n",
      "  Downloading Markdown-3.4.4-py3-none-any.whl (94 kB)\n",
      "\u001b[K     |████████████████████████████████| 94 kB 24.9 MB/s eta 0:00:01\n",
      "\u001b[?25hCollecting numpy==1.22.3\n",
      "  Using cached numpy-1.22.3-cp39-cp39-macosx_11_0_arm64.whl (12.8 MB)\n",
      "Collecting tabulate<0.9.0,>=0.8.9\n",
      "  Downloading tabulate-0.8.10-py3-none-any.whl (29 kB)\n",
      "Collecting catboost<2.0,>=1.2\n",
      "  Downloading catboost-1.2.1-cp39-cp39-macosx_11_0_universal2.whl (25.7 MB)\n",
      "\u001b[K     |████████████████████████████████| 25.7 MB 118.7 MB/s eta 0:00:01\n",
      "\u001b[?25hCollecting sentry-sdk<2.0.0,>=1.24.0\n",
      "  Downloading sentry_sdk-1.31.0-py2.py3-none-any.whl (224 kB)\n",
      "\u001b[K     |████████████████████████████████| 224 kB 71.8 MB/s eta 0:00:01\n",
      "\u001b[?25hCollecting pandas-profiling<4.0.0,>=3.6.6\n",
      "  Using cached pandas_profiling-3.6.6-py2.py3-none-any.whl (324 kB)\n",
      "Collecting tqdm<5.0.0,>=4.64.0\n",
      "  Downloading tqdm-4.66.1-py3-none-any.whl (78 kB)\n",
      "\u001b[K     |████████████████████████████████| 78 kB 42.5 MB/s eta 0:00:01\n",
      "\u001b[?25hRequirement already satisfied: traitlets>=4.2 in /Users/nrichers/Library/Python/3.9/lib/python/site-packages (from ipython==7.34.0->validmind) (5.9.0)\n",
      "Requirement already satisfied: pickleshare in /Users/nrichers/Library/Python/3.9/lib/python/site-packages (from ipython==7.34.0->validmind) (0.7.5)\n",
      "Requirement already satisfied: prompt-toolkit!=3.0.0,!=3.0.1,<3.1.0,>=2.0.0 in /Users/nrichers/Library/Python/3.9/lib/python/site-packages (from ipython==7.34.0->validmind) (3.0.36)\n",
      "Requirement already satisfied: matplotlib-inline in /Users/nrichers/Library/Python/3.9/lib/python/site-packages (from ipython==7.34.0->validmind) (0.1.6)\n",
      "Requirement already satisfied: decorator in /Users/nrichers/Library/Python/3.9/lib/python/site-packages (from ipython==7.34.0->validmind) (5.1.1)\n",
      "Requirement already satisfied: backcall in /Users/nrichers/Library/Python/3.9/lib/python/site-packages (from ipython==7.34.0->validmind) (0.2.0)\n",
      "Requirement already satisfied: pygments in /Users/nrichers/Library/Python/3.9/lib/python/site-packages (from ipython==7.34.0->validmind) (2.14.0)\n",
      "Requirement already satisfied: jedi>=0.16 in /Users/nrichers/Library/Python/3.9/lib/python/site-packages (from ipython==7.34.0->validmind) (0.18.2)\n",
      "Requirement already satisfied: setuptools>=18.5 in /Library/Developer/CommandLineTools/Library/Frameworks/Python3.framework/Versions/3.9/lib/python3.9/site-packages (from ipython==7.34.0->validmind) (58.0.4)\n",
      "Requirement already satisfied: pexpect>4.3 in /Users/nrichers/Library/Python/3.9/lib/python/site-packages (from ipython==7.34.0->validmind) (4.8.0)\n",
      "Requirement already satisfied: appnope in /Users/nrichers/Library/Python/3.9/lib/python/site-packages (from ipython==7.34.0->validmind) (0.1.3)\n",
      "Collecting pytz>=2020.1\n",
      "  Downloading pytz-2023.3.post1-py2.py3-none-any.whl (502 kB)\n",
      "\u001b[K     |████████████████████████████████| 502 kB 13.9 MB/s eta 0:00:01\n",
      "\u001b[?25hRequirement already satisfied: python-dateutil>=2.8.1 in /Users/nrichers/Library/Python/3.9/lib/python/site-packages (from pandas==1.5.3->validmind) (2.8.2)\n",
      "Requirement already satisfied: attrs>=17.3.0 in /Users/nrichers/Library/Python/3.9/lib/python/site-packages (from aiohttp[speedups]<4.0.0,>=3.8.4->validmind) (20.3.0)\n",
      "Collecting frozenlist>=1.1.1\n",
      "  Downloading frozenlist-1.4.0-cp39-cp39-macosx_11_0_arm64.whl (46 kB)\n",
      "\u001b[K     |████████████████████████████████| 46 kB 31.4 MB/s eta 0:00:01\n",
      "\u001b[?25hCollecting yarl<2.0,>=1.0\n",
      "  Downloading yarl-1.9.2-cp39-cp39-macosx_11_0_arm64.whl (62 kB)\n",
      "\u001b[K     |████████████████████████████████| 62 kB 10.9 MB/s eta 0:00:01\n",
      "\u001b[?25hCollecting async-timeout<5.0,>=4.0.0a3\n",
      "  Downloading async_timeout-4.0.3-py3-none-any.whl (5.7 kB)\n",
      "Requirement already satisfied: charset-normalizer<4.0,>=2.0 in /Users/nrichers/Library/Python/3.9/lib/python/site-packages (from aiohttp[speedups]<4.0.0,>=3.8.4->validmind) (3.0.1)\n",
      "Collecting multidict<7.0,>=4.5\n",
      "  Downloading multidict-6.0.4-cp39-cp39-macosx_11_0_arm64.whl (29 kB)\n",
      "Collecting aiosignal>=1.1.2\n",
      "  Downloading aiosignal-1.3.1-py3-none-any.whl (7.6 kB)\n",
      "Collecting Brotli\n",
      "  Downloading Brotli-1.1.0-cp39-cp39-macosx_10_9_universal2.whl (873 kB)\n",
      "\u001b[K     |████████████████████████████████| 873 kB 34.2 MB/s eta 0:00:01\n",
      "\u001b[?25hCollecting cchardet\n",
      "  Downloading cchardet-2.1.7.tar.gz (653 kB)\n",
      "\u001b[K     |████████████████████████████████| 653 kB 76.6 MB/s eta 0:00:01\n",
      "\u001b[?25hCollecting aiodns\n",
      "  Downloading aiodns-3.0.0-py3-none-any.whl (5.0 kB)\n",
      "Collecting scipy>=1.3\n",
      "  Downloading scipy-1.11.2-cp39-cp39-macosx_12_0_arm64.whl (29.6 MB)\n",
      "\u001b[K     |████████████████████████████████| 29.6 MB 1.5 MB/s eta 0:00:01\n",
      "\u001b[?25hCollecting property-cached>=1.6.4\n",
      "  Using cached property_cached-1.6.4-py2.py3-none-any.whl (7.8 kB)\n",
      "Collecting matplotlib\n",
      "  Downloading matplotlib-3.8.0-cp39-cp39-macosx_11_0_arm64.whl (7.5 MB)\n",
      "\u001b[K     |████████████████████████████████| 7.5 MB 71.1 MB/s eta 0:00:01\n",
      "\u001b[?25hRequirement already satisfied: six in /Library/Developer/CommandLineTools/Library/Frameworks/Python3.framework/Versions/3.9/lib/python3.9/site-packages (from catboost<2.0,>=1.2->validmind) (1.15.0)\n",
      "Collecting graphviz\n",
      "  Downloading graphviz-0.20.1-py3-none-any.whl (47 kB)\n",
      "\u001b[K     |████████████████████████████████| 47 kB 27.2 MB/s eta 0:00:01\n",
      "\u001b[?25hCollecting dython<0.8.0,>=0.7.1\n",
      "  Using cached dython-0.7.3-py3-none-any.whl (23 kB)\n",
      "  Using cached dython-0.7.2-py3-none-any.whl (22 kB)\n",
      "Requirement already satisfied: psutil>=5.9.1 in /Users/nrichers/Library/Python/3.9/lib/python/site-packages (from dython<0.8.0,>=0.7.1->validmind) (5.9.4)\n",
      "Collecting scikit-plot>=0.3.7\n",
      "  Using cached scikit_plot-0.3.7-py3-none-any.whl (33 kB)\n",
      "Collecting comm>=0.1.3\n",
      "  Downloading comm-0.1.4-py3-none-any.whl (6.6 kB)\n",
      "Collecting widgetsnbextension~=4.0.9\n",
      "  Downloading widgetsnbextension-4.0.9-py3-none-any.whl (2.3 MB)\n",
      "\u001b[K     |████████████████████████████████| 2.3 MB 74.2 MB/s eta 0:00:01\n",
      "\u001b[?25hCollecting jupyterlab-widgets~=3.0.9\n",
      "  Downloading jupyterlab_widgets-3.0.9-py3-none-any.whl (214 kB)\n",
      "\u001b[K     |████████████████████████████████| 214 kB 88.2 MB/s eta 0:00:01\n",
      "\u001b[?25hRequirement already satisfied: parso<0.9.0,>=0.8.0 in /Users/nrichers/Library/Python/3.9/lib/python/site-packages (from jedi>=0.16->ipython==7.34.0->validmind) (0.8.3)\n",
      "Requirement already satisfied: importlib-metadata>=4.4 in /Users/nrichers/Library/Python/3.9/lib/python/site-packages (from markdown<4.0.0,>=3.4.3->validmind) (6.0.0)\n",
      "Requirement already satisfied: zipp>=0.5 in /Users/nrichers/Library/Python/3.9/lib/python/site-packages (from importlib-metadata>=4.4->markdown<4.0.0,>=3.4.3->validmind) (3.12.1)\n",
      "Collecting kiwisolver>=1.0.1\n",
      "  Downloading kiwisolver-1.4.5-cp39-cp39-macosx_11_0_arm64.whl (66 kB)\n",
      "\u001b[K     |████████████████████████████████| 66 kB 36.6 MB/s eta 0:00:01\n",
      "\u001b[?25hCollecting pyparsing>=2.3.1\n",
      "  Downloading pyparsing-3.1.1-py3-none-any.whl (103 kB)\n",
      "\u001b[K     |████████████████████████████████| 103 kB 99.6 MB/s eta 0:00:01\n",
      "\u001b[?25hCollecting contourpy>=1.0.1\n",
      "  Downloading contourpy-1.1.0-cp39-cp39-macosx_11_0_arm64.whl (229 kB)\n",
      "\u001b[K     |████████████████████████████████| 229 kB 91.6 MB/s eta 0:00:01\n",
      "\u001b[?25hCollecting pillow>=6.2.0\n",
      "  Downloading Pillow-10.0.1-cp39-cp39-macosx_11_0_arm64.whl (3.3 MB)\n",
      "\u001b[K     |████████████████████████████████| 3.3 MB 77.6 MB/s eta 0:00:01\n",
      "\u001b[?25hRequirement already satisfied: packaging>=20.0 in /Users/nrichers/Library/Python/3.9/lib/python/site-packages (from matplotlib->catboost<2.0,>=1.2->validmind) (23.0)\n",
      "Collecting fonttools>=4.22.0\n",
      "  Downloading fonttools-4.42.1-cp39-cp39-macosx_10_9_universal2.whl (2.7 MB)\n",
      "\u001b[K     |████████████████████████████████| 2.7 MB 67.7 MB/s eta 0:00:01\n",
      "\u001b[?25hCollecting cycler>=0.10\n",
      "  Downloading cycler-0.11.0-py3-none-any.whl (6.4 kB)\n",
      "Collecting importlib-resources>=3.2.0\n",
      "  Downloading importlib_resources-6.0.1-py3-none-any.whl (34 kB)\n",
      "Collecting regex>=2021.8.3\n",
      "  Downloading regex-2023.8.8-cp39-cp39-macosx_11_0_arm64.whl (289 kB)\n",
      "\u001b[K     |████████████████████████████████| 289 kB 74.6 MB/s eta 0:00:01\n",
      "\u001b[?25hCollecting joblib\n",
      "  Downloading joblib-1.3.2-py3-none-any.whl (302 kB)\n",
      "\u001b[K     |████████████████████████████████| 302 kB 83.5 MB/s eta 0:00:01\n",
      "\u001b[?25hCollecting ydata-profiling\n",
      "  Downloading ydata_profiling-4.5.1-py2.py3-none-any.whl (357 kB)\n",
      "\u001b[K     |████████████████████████████████| 357 kB 55.2 MB/s eta 0:00:01\n",
      "\u001b[?25hRequirement already satisfied: MarkupSafe in /Users/nrichers/Library/Python/3.9/lib/python/site-packages (from pdoc<14.0.0,>=13.1.1->validmind) (2.1.2)\n",
      "Requirement already satisfied: Jinja2>=2.11.0 in /Users/nrichers/Library/Python/3.9/lib/python/site-packages (from pdoc<14.0.0,>=13.1.1->validmind) (3.1.2)\n",
      "Requirement already satisfied: ptyprocess>=0.5 in /Users/nrichers/Library/Python/3.9/lib/python/site-packages (from pexpect>4.3->ipython==7.34.0->validmind) (0.7.0)\n",
      "Collecting tenacity>=6.2.0\n",
      "  Downloading tenacity-8.2.3-py3-none-any.whl (24 kB)\n",
      "Collecting patsy>=0.5\n",
      "  Downloading patsy-0.5.3-py2.py3-none-any.whl (233 kB)\n",
      "\u001b[K     |████████████████████████████████| 233 kB 74.4 MB/s eta 0:00:01\n",
      "\u001b[?25hRequirement already satisfied: wcwidth in /Users/nrichers/Library/Python/3.9/lib/python/site-packages (from prompt-toolkit!=3.0.0,!=3.0.1,<3.1.0,>=2.0.0->ipython==7.34.0->validmind) (0.2.6)\n",
      "Collecting typing-extensions>=4.2.0\n",
      "  Downloading typing_extensions-4.7.1-py3-none-any.whl (33 kB)\n",
      "Collecting py4j>=0.10.7\n",
      "  Using cached py4j-0.10.9.7-py2.py3-none-any.whl (200 kB)\n",
      "Requirement already satisfied: idna<4,>=2.5 in /Users/nrichers/Library/Python/3.9/lib/python/site-packages (from requests<3.0.0,>=2.27.1->validmind) (3.4)\n",
      "Requirement already satisfied: certifi>=2017.4.17 in /Users/nrichers/Library/Python/3.9/lib/python/site-packages (from requests<3.0.0,>=2.27.1->validmind) (2022.12.7)\n",
      "Requirement already satisfied: urllib3<1.27,>=1.21.1 in /Users/nrichers/Library/Python/3.9/lib/python/site-packages (from requests<3.0.0,>=2.27.1->validmind) (1.26.14)\n",
      "Collecting threadpoolctl>=2.0.0\n",
      "  Downloading threadpoolctl-3.2.0-py3-none-any.whl (15 kB)\n",
      "Collecting slicer==0.0.7\n",
      "  Using cached slicer-0.0.7-py3-none-any.whl (14 kB)\n",
      "Collecting numba\n",
      "  Downloading numba-0.57.1-cp39-cp39-macosx_11_0_arm64.whl (2.5 MB)\n",
      "\u001b[K     |████████████████████████████████| 2.5 MB 73.0 MB/s eta 0:00:01\n",
      "\u001b[?25hCollecting cloudpickle\n",
      "  Downloading cloudpickle-2.2.1-py3-none-any.whl (25 kB)\n",
      "Collecting pyphen\n",
      "  Downloading pyphen-0.14.0-py3-none-any.whl (2.0 MB)\n",
      "\u001b[K     |████████████████████████████████| 2.0 MB 56.4 MB/s eta 0:00:01\n",
      "\u001b[?25hCollecting pycares>=4.0.0\n",
      "  Downloading pycares-4.3.0-cp39-cp39-macosx_10_9_universal2.whl (136 kB)\n",
      "\u001b[K     |████████████████████████████████| 136 kB 87.1 MB/s eta 0:00:01\n",
      "\u001b[?25hRequirement already satisfied: cffi>=1.5.0 in /Users/nrichers/Library/Python/3.9/lib/python/site-packages (from pycares>=4.0.0->aiodns->aiohttp[speedups]<4.0.0,>=3.8.4->validmind) (1.15.1)\n",
      "Requirement already satisfied: pycparser in /Users/nrichers/Library/Python/3.9/lib/python/site-packages (from cffi>=1.5.0->pycares>=4.0.0->aiodns->aiohttp[speedups]<4.0.0,>=3.8.4->validmind) (2.21)\n",
      "Collecting llvmlite<0.41,>=0.40.0dev0\n",
      "  Downloading llvmlite-0.40.1-cp39-cp39-macosx_11_0_arm64.whl (28.1 MB)\n",
      "\u001b[K     |████████████████████████████████| 28.1 MB 324 kB/s eta 0:00:01\n",
      "\u001b[?25hCollecting imagehash==4.3.1\n",
      "  Using cached ImageHash-4.3.1-py2.py3-none-any.whl (296 kB)\n",
      "Collecting multimethod<2,>=1.4\n",
      "  Using cached multimethod-1.9.1-py3-none-any.whl (10 kB)\n",
      "Collecting dacite>=1.8\n",
      "  Downloading dacite-1.8.1-py3-none-any.whl (14 kB)\n",
      "Collecting wordcloud>=1.9.1\n",
      "  Downloading wordcloud-1.9.2.tar.gz (222 kB)\n",
      "\u001b[K     |████████████████████████████████| 222 kB 56.2 MB/s eta 0:00:01\n",
      "\u001b[?25hCollecting phik<0.13,>=0.11.1\n",
      "  Using cached phik-0.12.3-cp39-cp39-macosx_11_0_arm64.whl (649 kB)\n",
      "Collecting visions[type_image_path]==0.7.5\n",
      "  Using cached visions-0.7.5-py3-none-any.whl (102 kB)\n",
      "Requirement already satisfied: PyYAML<6.1,>=5.0.0 in /Users/nrichers/Library/Python/3.9/lib/python/site-packages (from ydata-profiling->pandas-profiling<4.0.0,>=3.6.6->validmind) (5.4.1)\n",
      "Collecting htmlmin==0.1.12\n",
      "  Using cached htmlmin-0.1.12-py3-none-any.whl\n",
      "Collecting typeguard<3,>=2.13.2\n",
      "  Using cached typeguard-2.13.3-py3-none-any.whl (17 kB)\n",
      "Collecting PyWavelets\n",
      "  Downloading PyWavelets-1.4.1-cp39-cp39-macosx_11_0_arm64.whl (4.3 MB)\n",
      "\u001b[K     |████████████████████████████████| 4.3 MB 14.9 MB/s eta 0:00:01\n",
      "\u001b[?25hCollecting networkx>=2.4\n",
      "  Downloading networkx-3.1-py3-none-any.whl (2.1 MB)\n",
      "\u001b[K     |████████████████████████████████| 2.1 MB 31.0 MB/s eta 0:00:01\n",
      "\u001b[?25hCollecting tangled-up-in-unicode>=0.0.4\n",
      "  Using cached tangled_up_in_unicode-0.2.0-py3-none-any.whl (4.7 MB)\n",
      "Building wheels for collected packages: langdetect, scorecardpy, wget, cchardet, wordcloud\n",
      "  Building wheel for langdetect (setup.py) ... \u001b[?25ldone\n",
      "\u001b[?25h  Created wheel for langdetect: filename=langdetect-1.0.9-py3-none-any.whl size=993242 sha256=d84d0b5264164ecdfa5eccf812082bb4558fa9687186bd4f99c745ad3d4a9e04\n",
      "  Stored in directory: /Users/nrichers/Library/Caches/pip/wheels/d1/c1/d9/7e068de779d863bc8f8fc9467d85e25cfe47fa5051fff1a1bb\n",
      "  Building wheel for scorecardpy (setup.py) ... \u001b[?25ldone\n",
      "\u001b[?25h  Created wheel for scorecardpy: filename=scorecardpy-0.1.9.7-py3-none-any.whl size=60655 sha256=cdb8d4aaa3b94868205be35317267b569582887e3fe276c6e8e53a066756c676\n",
      "  Stored in directory: /Users/nrichers/Library/Caches/pip/wheels/0b/56/c9/0233a5d8a04fbc9b49bac25e219c71daba6793fc238caa38b3\n",
      "  Building wheel for wget (setup.py) ... \u001b[?25ldone\n",
      "\u001b[?25h  Created wheel for wget: filename=wget-3.2-py3-none-any.whl size=9672 sha256=e085ac3c229f5cc7a5f649a7cd1d89f7d9c0ee605a7e72ec865f869e4b7ec991\n",
      "  Stored in directory: /Users/nrichers/Library/Caches/pip/wheels/04/5f/3e/46cc37c5d698415694d83f607f833f83f0149e49b3af9d0f38\n",
      "  Building wheel for cchardet (setup.py) ... \u001b[?25ldone\n",
      "\u001b[?25h  Created wheel for cchardet: filename=cchardet-2.1.7-cp39-cp39-macosx_10_9_universal2.whl size=226989 sha256=137bdb8654d3079e652360a2af383ec9e14d346caa67c964c9241dfb326270e8\n",
      "  Stored in directory: /Users/nrichers/Library/Caches/pip/wheels/53/72/df/32cb431a786ba2674993d3ea636aa0712c7f65495a9a3dbec9\n",
      "  Building wheel for wordcloud (setup.py) ... \u001b[?25ldone\n",
      "\u001b[?25h  Created wheel for wordcloud: filename=wordcloud-1.9.2-cp39-cp39-macosx_10_9_universal2.whl size=220327 sha256=a0551e1d580ebbe468d8093c52631a91f2fb8368a19dac7f8749e78984107365\n",
      "  Stored in directory: /Users/nrichers/Library/Caches/pip/wheels/fd/79/b1/1e0a49160de8dfb17c54736cc73759e1d26f9343b61c0d5441\n",
      "Successfully built langdetect scorecardpy wget cchardet wordcloud\n",
      "Installing collected packages: pytz, numpy, tangled-up-in-unicode, scipy, PyWavelets, pyparsing, pillow, pandas, networkx, multimethod, kiwisolver, importlib-resources, fonttools, cycler, contourpy, visions, typing-extensions, threadpoolctl, patsy, multidict, matplotlib, joblib, imagehash, frozenlist, yarl, wordcloud, typeguard, tqdm, tenacity, statsmodels, seaborn, scikit-learn, pydantic, pycares, phik, llvmlite, htmlmin, dacite, async-timeout, aiosignal, ydata-profiling, widgetsnbextension, slicer, scikit-plot, regex, pyphen, py4j, property-cached, plotly, numba, jupyterlab-widgets, ipython, graphviz, comm, cloudpickle, click, cchardet, Brotli, aiohttp, aiodns, xgboost, wget, textstat, tabulate, shap, sentry-sdk, sentencepiece, scorecardpy, rouge, python-dotenv, pypmml, plotly-express, pdoc, pandas-profiling, nltk, markdown, langdetect, ipywidgets, dython, catboost, arch, validmind\n",
      "  Attempting uninstall: widgetsnbextension\n",
      "    Found existing installation: widgetsnbextension 4.0.5\n",
      "    Uninstalling widgetsnbextension-4.0.5:\n",
      "      Successfully uninstalled widgetsnbextension-4.0.5\n",
      "  Attempting uninstall: jupyterlab-widgets\n",
      "    Found existing installation: jupyterlab-widgets 3.0.5\n",
      "    Uninstalling jupyterlab-widgets-3.0.5:\n",
      "      Successfully uninstalled jupyterlab-widgets-3.0.5\n",
      "  Attempting uninstall: ipython\n",
      "    Found existing installation: ipython 8.9.0\n",
      "    Uninstalling ipython-8.9.0:\n",
      "      Successfully uninstalled ipython-8.9.0\n",
      "  Attempting uninstall: comm\n",
      "    Found existing installation: comm 0.1.2\n",
      "    Uninstalling comm-0.1.2:\n",
      "      Successfully uninstalled comm-0.1.2\n",
      "  Attempting uninstall: ipywidgets\n",
      "    Found existing installation: ipywidgets 8.0.4\n",
      "    Uninstalling ipywidgets-8.0.4:\n",
      "      Successfully uninstalled ipywidgets-8.0.4\n",
      "Successfully installed Brotli-1.1.0 PyWavelets-1.4.1 aiodns-3.0.0 aiohttp-3.8.5 aiosignal-1.3.1 arch-5.6.0 async-timeout-4.0.3 catboost-1.2.1 cchardet-2.1.7 click-8.1.7 cloudpickle-2.2.1 comm-0.1.4 contourpy-1.1.0 cycler-0.11.0 dacite-1.8.1 dython-0.7.2 fonttools-4.42.1 frozenlist-1.4.0 graphviz-0.20.1 htmlmin-0.1.12 imagehash-4.3.1 importlib-resources-6.0.1 ipython-7.34.0 ipywidgets-8.1.1 joblib-1.3.2 jupyterlab-widgets-3.0.9 kiwisolver-1.4.5 langdetect-1.0.9 llvmlite-0.40.1 markdown-3.4.4 matplotlib-3.8.0 multidict-6.0.4 multimethod-1.9.1 networkx-3.1 nltk-3.8.1 numba-0.57.1 numpy-1.22.3 pandas-1.5.3 pandas-profiling-3.6.6 patsy-0.5.3 pdoc-13.1.1 phik-0.12.3 pillow-10.0.1 plotly-5.17.0 plotly-express-0.4.1 property-cached-1.6.4 py4j-0.10.9.7 pycares-4.3.0 pydantic-1.10.12 pyparsing-3.1.1 pyphen-0.14.0 pypmml-0.9.17 python-dotenv-0.20.0 pytz-2023.3.post1 regex-2023.8.8 rouge-1.0.1 scikit-learn-1.3.0 scikit-plot-0.3.7 scipy-1.11.2 scorecardpy-0.1.9.7 seaborn-0.11.2 sentencepiece-0.1.99 sentry-sdk-1.31.0 shap-0.41.0 slicer-0.0.7 statsmodels-0.13.5 tabulate-0.8.10 tangled-up-in-unicode-0.2.0 tenacity-8.2.3 textstat-0.7.3 threadpoolctl-3.2.0 tqdm-4.66.1 typeguard-2.13.3 typing-extensions-4.7.1 validmind-1.19.2 visions-0.7.5 wget-3.2 widgetsnbextension-4.0.9 wordcloud-1.9.2 xgboost-1.7.6 yarl-1.9.2 ydata-profiling-4.5.1\n",
      "\u001b[33mWARNING: You are using pip version 21.2.4; however, version 23.2.1 is available.\n",
      "You should consider upgrading via the '/Library/Developer/CommandLineTools/usr/bin/python3 -m pip install --upgrade pip' command.\u001b[0m\n",
      "Note: you may need to restart the kernel to use updated packages.\n"
     ]
    }
   ],
   "source": [
    "%pip install --upgrade validmind"
   ]
  },
  {
   "attachments": {},
   "cell_type": "markdown",
   "metadata": {},
   "source": [
    "## Initialize the client library\n",
    "\n",
    "In a browser, go to the **Client Integration** page of your documentation project and click **Copy to clipboard** next to the code snippet. This code snippet gives you the API key, API secret, and project identifier to link your notebook to your documentation project.\n",
    "\n",
    "::: {.column-margin}\n",
    "::: {.callout-tip}\n",
    "This step requires a documentation project. [Learn how you can create one](https://docs.validmind.ai/guide/create-your-first-documentation-project.html).\n",
    ":::\n",
    ":::\n",
    "\n",
    "Next, replace this placeholder with your own code snippet:"
   ]
  },
  {
   "cell_type": "code",
   "execution_count": 15,
   "metadata": {},
   "outputs": [
    {
     "ename": "InvalidProjectError",
     "evalue": "Project could not be found",
     "output_type": "error",
     "traceback": [
      "\u001b[0;31m---------------------------------------------------------------------------\u001b[0m",
      "\u001b[0;31mInvalidProjectError\u001b[0m                       Traceback (most recent call last)",
      "\u001b[1;32m/Users/nrichers/GitHub/validmind/documentation/site/notebooks/how_to/explore_test_suites_test_plans_and_tests.ipynb Cell 6\u001b[0m line \u001b[0;36m3\n\u001b[1;32m      <a href='vscode-notebook-cell:/Users/nrichers/GitHub/validmind/documentation/site/notebooks/how_to/explore_test_suites_test_plans_and_tests.ipynb#W5sZmlsZQ%3D%3D?line=0'>1</a>\u001b[0m \u001b[39mimport\u001b[39;00m \u001b[39mvalidmind\u001b[39;00m \u001b[39mas\u001b[39;00m \u001b[39mvm\u001b[39;00m\n\u001b[0;32m----> <a href='vscode-notebook-cell:/Users/nrichers/GitHub/validmind/documentation/site/notebooks/how_to/explore_test_suites_test_plans_and_tests.ipynb#W5sZmlsZQ%3D%3D?line=2'>3</a>\u001b[0m vm\u001b[39m.\u001b[39;49minit(\n\u001b[1;32m      <a href='vscode-notebook-cell:/Users/nrichers/GitHub/validmind/documentation/site/notebooks/how_to/explore_test_suites_test_plans_and_tests.ipynb#W5sZmlsZQ%3D%3D?line=3'>4</a>\u001b[0m   api_host \u001b[39m=\u001b[39;49m \u001b[39m\"\u001b[39;49m\u001b[39mhttps://api.dev.vm.validmind.ai/api/v1/tracking\u001b[39;49m\u001b[39m\"\u001b[39;49m,\n\u001b[1;32m      <a href='vscode-notebook-cell:/Users/nrichers/GitHub/validmind/documentation/site/notebooks/how_to/explore_test_suites_test_plans_and_tests.ipynb#W5sZmlsZQ%3D%3D?line=4'>5</a>\u001b[0m   api_key \u001b[39m=\u001b[39;49m \u001b[39m\"\u001b[39;49m\u001b[39mbc106842f5958db49f389f04d7c01c78\u001b[39;49m\u001b[39m\"\u001b[39;49m,\n\u001b[1;32m      <a href='vscode-notebook-cell:/Users/nrichers/GitHub/validmind/documentation/site/notebooks/how_to/explore_test_suites_test_plans_and_tests.ipynb#W5sZmlsZQ%3D%3D?line=5'>6</a>\u001b[0m   api_secret \u001b[39m=\u001b[39;49m \u001b[39m\"\u001b[39;49m\u001b[39mb84dafdfdb78ecf21f4f815e269da7e187e9659bf487138afe15c42edcb3e0bb\u001b[39;49m\u001b[39m\"\u001b[39;49m,\n\u001b[1;32m      <a href='vscode-notebook-cell:/Users/nrichers/GitHub/validmind/documentation/site/notebooks/how_to/explore_test_suites_test_plans_and_tests.ipynb#W5sZmlsZQ%3D%3D?line=6'>7</a>\u001b[0m   project \u001b[39m=\u001b[39;49m \u001b[39m\"\u001b[39;49m\u001b[39mclmkv739v000q19mojndgpqeaFAKE\u001b[39;49m\u001b[39m\"\u001b[39;49m\n\u001b[1;32m      <a href='vscode-notebook-cell:/Users/nrichers/GitHub/validmind/documentation/site/notebooks/how_to/explore_test_suites_test_plans_and_tests.ipynb#W5sZmlsZQ%3D%3D?line=7'>8</a>\u001b[0m )\n",
      "File \u001b[0;32m~/Library/Python/3.9/lib/python/site-packages/validmind/api_client.py:116\u001b[0m, in \u001b[0;36minit\u001b[0;34m(project, api_key, api_secret, api_host)\u001b[0m\n\u001b[1;32m    114\u001b[0m \u001b[39mif\u001b[39;00m _api_host\u001b[39m.\u001b[39mstartswith(\u001b[39m\"\u001b[39m\u001b[39mhttps://\u001b[39m\u001b[39m\"\u001b[39m):\n\u001b[1;32m    115\u001b[0m     send_single_error(e)\n\u001b[0;32m--> 116\u001b[0m \u001b[39mraise\u001b[39;00m e\n",
      "File \u001b[0;32m~/Library/Python/3.9/lib/python/site-packages/validmind/api_client.py:111\u001b[0m, in \u001b[0;36minit\u001b[0;34m(project, api_key, api_secret, api_host)\u001b[0m\n\u001b[1;32m    108\u001b[0m _run_cuid \u001b[39m=\u001b[39m os\u001b[39m.\u001b[39menviron\u001b[39m.\u001b[39mget(\u001b[39m\"\u001b[39m\u001b[39mVM_RUN_CUID\u001b[39m\u001b[39m\"\u001b[39m, \u001b[39mNone\u001b[39;00m)\n\u001b[1;32m    110\u001b[0m \u001b[39mtry\u001b[39;00m:\n\u001b[0;32m--> 111\u001b[0m     __ping()\n\u001b[1;32m    112\u001b[0m \u001b[39mexcept\u001b[39;00m \u001b[39mException\u001b[39;00m \u001b[39mas\u001b[39;00m e:\n\u001b[1;32m    113\u001b[0m     \u001b[39m# if the api host is https, assume we're not in dev mode and send to sentry\u001b[39;00m\n\u001b[1;32m    114\u001b[0m     \u001b[39mif\u001b[39;00m _api_host\u001b[39m.\u001b[39mstartswith(\u001b[39m\"\u001b[39m\u001b[39mhttps://\u001b[39m\u001b[39m\"\u001b[39m):\n",
      "File \u001b[0;32m~/Library/Python/3.9/lib/python/site-packages/validmind/api_client.py:147\u001b[0m, in \u001b[0;36m__ping\u001b[0;34m()\u001b[0m\n\u001b[1;32m    138\u001b[0m r \u001b[39m=\u001b[39m requests\u001b[39m.\u001b[39mget(\n\u001b[1;32m    139\u001b[0m     \u001b[39mf\u001b[39m\u001b[39m\"\u001b[39m\u001b[39m{\u001b[39;00m_api_host\u001b[39m}\u001b[39;00m\u001b[39m/ping\u001b[39m\u001b[39m\"\u001b[39m,\n\u001b[1;32m    140\u001b[0m     headers\u001b[39m=\u001b[39m{\n\u001b[0;32m   (...)\u001b[0m\n\u001b[1;32m    144\u001b[0m     },\n\u001b[1;32m    145\u001b[0m )\n\u001b[1;32m    146\u001b[0m \u001b[39mif\u001b[39;00m r\u001b[39m.\u001b[39mstatus_code \u001b[39m!=\u001b[39m \u001b[39m200\u001b[39m:\n\u001b[0;32m--> 147\u001b[0m     raise_api_error(r\u001b[39m.\u001b[39;49mtext)\n\u001b[1;32m    149\u001b[0m client_info \u001b[39m=\u001b[39m r\u001b[39m.\u001b[39mjson()\n\u001b[1;32m    151\u001b[0m init_sentry(client_info\u001b[39m.\u001b[39mget(\u001b[39m\"\u001b[39m\u001b[39msentry_config\u001b[39m\u001b[39m\"\u001b[39m, {}))\n",
      "File \u001b[0;32m~/Library/Python/3.9/lib/python/site-packages/validmind/errors.py:353\u001b[0m, in \u001b[0;36mraise_api_error\u001b[0;34m(error_string)\u001b[0m\n\u001b[1;32m    337\u001b[0m error_map \u001b[39m=\u001b[39m {\n\u001b[1;32m    338\u001b[0m     \u001b[39m\"\u001b[39m\u001b[39minvalid_credentials\u001b[39m\u001b[39m\"\u001b[39m: InvalidAPICredentialsError,\n\u001b[1;32m    339\u001b[0m     \u001b[39m\"\u001b[39m\u001b[39minvalid_project\u001b[39m\u001b[39m\"\u001b[39m: InvalidProjectError,\n\u001b[0;32m   (...)\u001b[0m\n\u001b[1;32m    349\u001b[0m     \u001b[39m\"\u001b[39m\u001b[39mstart_test_run_failed\u001b[39m\u001b[39m\"\u001b[39m: StartTestRunFailedError,\n\u001b[1;32m    350\u001b[0m }\n\u001b[1;32m    352\u001b[0m error_class \u001b[39m=\u001b[39m error_map\u001b[39m.\u001b[39mget(api_code, APIRequestError)\n\u001b[0;32m--> 353\u001b[0m \u001b[39mraise\u001b[39;00m error_class(api_description)\n",
      "\u001b[0;31mInvalidProjectError\u001b[0m: Project could not be found"
     ]
    }
   ],
   "source": [
    "\n",
    "\n",
    "import validmind as vm\n",
    "\n",
    "vm.init(\n",
    "  api_host = \"https://api.dev.vm.validmind.ai/api/v1/tracking\",\n",
    "  api_key = \"bc106842f5958db49f389f04d7c01c78\",\n",
    "  api_secret = \"b84dafdfdb78ecf21f4f815e269da7e187e9659bf487138afe15c42edcb3e0bb\",\n",
    "  project = \"clmkv739v000q19mojndgpqeaFAKE\"\n",
    ")\n",
    "  "
   ]
  },
  {
   "attachments": {},
   "cell_type": "markdown",
   "metadata": {},
   "source": [
    "## Available test suites\n",
    "The interface will provide the list of test suites available in the ValidMind framework"
   ]
  },
  {
   "cell_type": "code",
   "execution_count": 8,
   "metadata": {},
   "outputs": [
    {
     "data": {
      "text/html": [
       "<style type=\"text/css\">\n",
       "#T_6021e th {\n",
       "  text-align: left;\n",
       "}\n",
       "#T_6021e_row0_col0, #T_6021e_row0_col1, #T_6021e_row0_col2, #T_6021e_row0_col3, #T_6021e_row1_col0, #T_6021e_row1_col1, #T_6021e_row1_col2, #T_6021e_row1_col3, #T_6021e_row2_col0, #T_6021e_row2_col1, #T_6021e_row2_col2, #T_6021e_row2_col3, #T_6021e_row3_col0, #T_6021e_row3_col1, #T_6021e_row3_col2, #T_6021e_row3_col3, #T_6021e_row4_col0, #T_6021e_row4_col1, #T_6021e_row4_col2, #T_6021e_row4_col3, #T_6021e_row5_col0, #T_6021e_row5_col1, #T_6021e_row5_col2, #T_6021e_row5_col3, #T_6021e_row6_col0, #T_6021e_row6_col1, #T_6021e_row6_col2, #T_6021e_row6_col3 {\n",
       "  text-align: left;\n",
       "}\n",
       "</style>\n",
       "<table id=\"T_6021e\">\n",
       "  <thead>\n",
       "    <tr>\n",
       "      <th id=\"T_6021e_level0_col0\" class=\"col_heading level0 col0\" >ID</th>\n",
       "      <th id=\"T_6021e_level0_col1\" class=\"col_heading level0 col1\" >Name</th>\n",
       "      <th id=\"T_6021e_level0_col2\" class=\"col_heading level0 col2\" >Description</th>\n",
       "      <th id=\"T_6021e_level0_col3\" class=\"col_heading level0 col3\" >Test Plans</th>\n",
       "    </tr>\n",
       "  </thead>\n",
       "  <tbody>\n",
       "    <tr>\n",
       "      <td id=\"T_6021e_row0_col0\" class=\"data row0 col0\" >classifier_full_suite</td>\n",
       "      <td id=\"T_6021e_row0_col1\" class=\"data row0 col1\" >ClassifierFullSuite</td>\n",
       "      <td id=\"T_6021e_row0_col2\" class=\"data row0 col2\" >Full test suite for binary classification models.</td>\n",
       "      <td id=\"T_6021e_row0_col3\" class=\"data row0 col3\" >tabular_dataset_description, tabular_data_quality, classifier_metrics, classifier_validation, classifier_model_diagnosis</td>\n",
       "    </tr>\n",
       "    <tr>\n",
       "      <td id=\"T_6021e_row1_col0\" class=\"data row1 col0\" >classifier_model_validation</td>\n",
       "      <td id=\"T_6021e_row1_col1\" class=\"data row1 col1\" >ClassifierModelValidation</td>\n",
       "      <td id=\"T_6021e_row1_col2\" class=\"data row1 col2\" >Test suite for binary classification models.</td>\n",
       "      <td id=\"T_6021e_row1_col3\" class=\"data row1 col3\" >classifier_metrics, classifier_validation, classifier_model_diagnosis</td>\n",
       "    </tr>\n",
       "    <tr>\n",
       "      <td id=\"T_6021e_row2_col0\" class=\"data row2 col0\" >llm_classifier_full_suite</td>\n",
       "      <td id=\"T_6021e_row2_col1\" class=\"data row2 col1\" >LLMClassifierFullSuite</td>\n",
       "      <td id=\"T_6021e_row2_col2\" class=\"data row2 col2\" >Full test suite for LLM classification models.</td>\n",
       "      <td id=\"T_6021e_row2_col3\" class=\"data row2 col3\" >text_data_quality, classifier_metrics, classifier_validation, prompt_validation</td>\n",
       "    </tr>\n",
       "    <tr>\n",
       "      <td id=\"T_6021e_row3_col0\" class=\"data row3 col0\" >nlp_classifier_full_suite</td>\n",
       "      <td id=\"T_6021e_row3_col1\" class=\"data row3 col1\" >NLPClassifierFullSuite</td>\n",
       "      <td id=\"T_6021e_row3_col2\" class=\"data row3 col2\" >Full test suite for NLP classification models.</td>\n",
       "      <td id=\"T_6021e_row3_col3\" class=\"data row3 col3\" >text_data_quality, classifier_metrics, classifier_validation, classifier_model_diagnosis</td>\n",
       "    </tr>\n",
       "    <tr>\n",
       "      <td id=\"T_6021e_row4_col0\" class=\"data row4 col0\" >tabular_dataset</td>\n",
       "      <td id=\"T_6021e_row4_col1\" class=\"data row4 col1\" >TabularDataset</td>\n",
       "      <td id=\"T_6021e_row4_col2\" class=\"data row4 col2\" >Test suite for tabular datasets.</td>\n",
       "      <td id=\"T_6021e_row4_col3\" class=\"data row4 col3\" >tabular_dataset_description, tabular_data_quality</td>\n",
       "    </tr>\n",
       "    <tr>\n",
       "      <td id=\"T_6021e_row5_col0\" class=\"data row5 col0\" >time_series_dataset</td>\n",
       "      <td id=\"T_6021e_row5_col1\" class=\"data row5 col1\" >TimeSeriesDataset</td>\n",
       "      <td id=\"T_6021e_row5_col2\" class=\"data row5 col2\" >Test suite for time series datasets.</td>\n",
       "      <td id=\"T_6021e_row5_col3\" class=\"data row5 col3\" >time_series_data_quality, time_series_univariate, time_series_multivariate</td>\n",
       "    </tr>\n",
       "    <tr>\n",
       "      <td id=\"T_6021e_row6_col0\" class=\"data row6 col0\" >time_series_model_validation</td>\n",
       "      <td id=\"T_6021e_row6_col1\" class=\"data row6 col1\" >TimeSeriesModelValidation</td>\n",
       "      <td id=\"T_6021e_row6_col2\" class=\"data row6 col2\" >Test suite for time series model validation.</td>\n",
       "      <td id=\"T_6021e_row6_col3\" class=\"data row6 col3\" >regression_model_description, regression_models_evaluation, time_series_forecast, time_series_sensitivity</td>\n",
       "    </tr>\n",
       "  </tbody>\n",
       "</table>\n"
      ],
      "text/plain": [
       "<pandas.io.formats.style.Styler at 0x2a3e68280>"
      ]
     },
     "execution_count": 8,
     "metadata": {},
     "output_type": "execute_result"
    }
   ],
   "source": [
    "vm.test_suites.list_suites()"
   ]
  },
  {
   "attachments": {},
   "cell_type": "markdown",
   "metadata": {},
   "source": [
    "## Test plans\n",
    "The list of test plans available in a given test suite"
   ]
  },
  {
   "cell_type": "code",
   "execution_count": 14,
   "metadata": {},
   "outputs": [
    {
     "data": {
      "text/html": [
       "<style type=\"text/css\">\n",
       "#T_4450c th {\n",
       "  text-align: left;\n",
       "}\n",
       "#T_4450c_row0_col0, #T_4450c_row0_col1, #T_4450c_row0_col2, #T_4450c_row0_col3 {\n",
       "  text-align: left;\n",
       "}\n",
       "</style>\n",
       "<table id=\"T_4450c\">\n",
       "  <thead>\n",
       "    <tr>\n",
       "      <th id=\"T_4450c_level0_col0\" class=\"col_heading level0 col0\" >ID</th>\n",
       "      <th id=\"T_4450c_level0_col1\" class=\"col_heading level0 col1\" >Name</th>\n",
       "      <th id=\"T_4450c_level0_col2\" class=\"col_heading level0 col2\" >Description</th>\n",
       "      <th id=\"T_4450c_level0_col3\" class=\"col_heading level0 col3\" >Test Plans</th>\n",
       "    </tr>\n",
       "  </thead>\n",
       "  <tbody>\n",
       "    <tr>\n",
       "      <td id=\"T_4450c_row0_col0\" class=\"data row0 col0\" >classifier_full_suite</td>\n",
       "      <td id=\"T_4450c_row0_col1\" class=\"data row0 col1\" >ClassifierFullSuite</td>\n",
       "      <td id=\"T_4450c_row0_col2\" class=\"data row0 col2\" >Full test suite for binary classification models.</td>\n",
       "      <td id=\"T_4450c_row0_col3\" class=\"data row0 col3\" >tabular_dataset_description, tabular_data_quality, classifier_metrics, classifier_validation, classifier_model_diagnosis</td>\n",
       "    </tr>\n",
       "  </tbody>\n",
       "</table>\n"
      ],
      "text/plain": [
       "<pandas.io.formats.style.Styler at 0x2a4120100>"
      ]
     },
     "execution_count": 14,
     "metadata": {},
     "output_type": "execute_result"
    }
   ],
   "source": [
    "vm.test_suites.describe_suite(\"classifier_full_suite\")"
   ]
  },
  {
   "attachments": {},
   "cell_type": "markdown",
   "metadata": {},
   "source": [
    "### Test plan description and list of tests\n",
    "The list of tests avaiable in a specific test plan"
   ]
  },
  {
   "cell_type": "code",
   "execution_count": 10,
   "metadata": {},
   "outputs": [
    {
     "data": {
      "text/html": [
       "<style type=\"text/css\">\n",
       "#T_86c98 th {\n",
       "  text-align: left;\n",
       "}\n",
       "#T_86c98_row0_col0, #T_86c98_row0_col1, #T_86c98_row0_col2, #T_86c98_row0_col3 {\n",
       "  text-align: left;\n",
       "}\n",
       "</style>\n",
       "<table id=\"T_86c98\">\n",
       "  <thead>\n",
       "    <tr>\n",
       "      <th id=\"T_86c98_level0_col0\" class=\"col_heading level0 col0\" >ID</th>\n",
       "      <th id=\"T_86c98_level0_col1\" class=\"col_heading level0 col1\" >Name</th>\n",
       "      <th id=\"T_86c98_level0_col2\" class=\"col_heading level0 col2\" >Description</th>\n",
       "      <th id=\"T_86c98_level0_col3\" class=\"col_heading level0 col3\" >Tests</th>\n",
       "    </tr>\n",
       "  </thead>\n",
       "  <tbody>\n",
       "    <tr>\n",
       "      <td id=\"T_86c98_row0_col0\" class=\"data row0 col0\" >tabular_dataset_description</td>\n",
       "      <td id=\"T_86c98_row0_col1\" class=\"data row0 col1\" >TabularDatasetDescription</td>\n",
       "      <td id=\"T_86c98_row0_col2\" class=\"data row0 col2\" >Test plan to extract metadata and descriptive\n",
       "    statistics from a tabular dataset</td>\n",
       "      <td id=\"T_86c98_row0_col3\" class=\"data row0 col3\" >DatasetMetadata (DatasetMetadata)<br>DatasetDescription (Metric)<br>DescriptiveStatistics (Metric)<br>PearsonCorrelationMatrix (Metric)</td>\n",
       "    </tr>\n",
       "  </tbody>\n",
       "</table>\n"
      ],
      "text/plain": [
       "<pandas.io.formats.style.Styler at 0x2a3ecef10>"
      ]
     },
     "execution_count": 10,
     "metadata": {},
     "output_type": "execute_result"
    }
   ],
   "source": [
    "vm.test_plans.describe_plan(\"tabular_dataset_description\")"
   ]
  },
  {
   "attachments": {},
   "cell_type": "markdown",
   "metadata": {},
   "source": [
    "### Test detail"
   ]
  },
  {
   "cell_type": "code",
   "execution_count": 11,
   "metadata": {},
   "outputs": [
    {
     "data": {
      "text/html": [
       "<style type=\"text/css\">\n",
       "#T_0203f th {\n",
       "  text-align: left;\n",
       "}\n",
       "#T_0203f_row0_col0, #T_0203f_row0_col1, #T_0203f_row1_col0, #T_0203f_row1_col1, #T_0203f_row2_col0, #T_0203f_row2_col1, #T_0203f_row3_col0, #T_0203f_row3_col1, #T_0203f_row4_col0, #T_0203f_row4_col1, #T_0203f_row5_col0, #T_0203f_row5_col1 {\n",
       "  text-align: left;\n",
       "}\n",
       "</style>\n",
       "<table id=\"T_0203f\">\n",
       "  <thead>\n",
       "    <tr>\n",
       "      <th id=\"T_0203f_level0_col0\" class=\"col_heading level0 col0\" ></th>\n",
       "      <th id=\"T_0203f_level0_col1\" class=\"col_heading level0 col1\" > </th>\n",
       "    </tr>\n",
       "  </thead>\n",
       "  <tbody>\n",
       "    <tr>\n",
       "      <td id=\"T_0203f_row0_col0\" class=\"data row0 col0\" >ID:</td>\n",
       "      <td id=\"T_0203f_row0_col1\" class=\"data row0 col1\" >validmind.data_validation.DescriptiveStatistics</td>\n",
       "    </tr>\n",
       "    <tr>\n",
       "      <td id=\"T_0203f_row1_col0\" class=\"data row1 col0\" >Name:</td>\n",
       "      <td id=\"T_0203f_row1_col1\" class=\"data row1 col1\" >Descriptive Statistics</td>\n",
       "    </tr>\n",
       "    <tr>\n",
       "      <td id=\"T_0203f_row2_col0\" class=\"data row2 col0\" >Description:</td>\n",
       "      <td id=\"T_0203f_row2_col1\" class=\"data row2 col1\" >This section provides descriptive statistics for numerical and categorical variables found in the dataset.</td>\n",
       "    </tr>\n",
       "    <tr>\n",
       "      <td id=\"T_0203f_row3_col0\" class=\"data row3 col0\" >Test Type:</td>\n",
       "      <td id=\"T_0203f_row3_col1\" class=\"data row3 col1\" >Metric</td>\n",
       "    </tr>\n",
       "    <tr>\n",
       "      <td id=\"T_0203f_row4_col0\" class=\"data row4 col0\" >Required Inputs:</td>\n",
       "      <td id=\"T_0203f_row4_col1\" class=\"data row4 col1\" >['dataset']</td>\n",
       "    </tr>\n",
       "    <tr>\n",
       "      <td id=\"T_0203f_row5_col0\" class=\"data row5 col0\" >Params:</td>\n",
       "      <td id=\"T_0203f_row5_col1\" class=\"data row5 col1\" >{}</td>\n",
       "    </tr>\n",
       "  </tbody>\n",
       "</table>\n"
      ],
      "text/plain": [
       "<pandas.io.formats.style.Styler at 0x2a40066d0>"
      ]
     },
     "execution_count": 11,
     "metadata": {},
     "output_type": "execute_result"
    }
   ],
   "source": [
    "vm.tests.describe_test('DescriptiveStatistics')"
   ]
  },
  {
   "attachments": {},
   "cell_type": "markdown",
   "metadata": {},
   "source": [
    "### Details of test suites, test plans and tests\n",
    "This interface provide comprehensive details of test suites, test plans and tests"
   ]
  },
  {
   "cell_type": "code",
   "execution_count": 12,
   "metadata": {},
   "outputs": [
    {
     "ename": "ValueError",
     "evalue": "Test suite with ID: 'binary_classifier_full_suite' not found",
     "output_type": "error",
     "traceback": [
      "\u001b[0;31m---------------------------------------------------------------------------\u001b[0m",
      "\u001b[0;31mKeyError\u001b[0m                                  Traceback (most recent call last)",
      "File \u001b[0;32m~/Library/Python/3.9/lib/python/site-packages/validmind/test_suites/__init__.py:54\u001b[0m, in \u001b[0;36mget_by_id\u001b[0;34m(test_suite_id)\u001b[0m\n\u001b[1;32m     53\u001b[0m \u001b[39mtry\u001b[39;00m:\n\u001b[0;32m---> 54\u001b[0m     \u001b[39mreturn\u001b[39;00m _get_all_test_suites()[test_suite_id]\n\u001b[1;32m     55\u001b[0m \u001b[39mexcept\u001b[39;00m \u001b[39mKeyError\u001b[39;00m:\n",
      "\u001b[0;31mKeyError\u001b[0m: 'binary_classifier_full_suite'",
      "\nDuring handling of the above exception, another exception occurred:\n",
      "\u001b[0;31mValueError\u001b[0m                                Traceback (most recent call last)",
      "\u001b[1;32m/Users/nrichers/GitHub/validmind/documentation/site/notebooks/how_to/explore_test_suites_test_plans_and_tests.ipynb Cell 16\u001b[0m line \u001b[0;36m1\n\u001b[0;32m----> <a href='vscode-notebook-cell:/Users/nrichers/GitHub/validmind/documentation/site/notebooks/how_to/explore_test_suites_test_plans_and_tests.ipynb#X21sZmlsZQ%3D%3D?line=0'>1</a>\u001b[0m vm\u001b[39m.\u001b[39;49mtest_suites\u001b[39m.\u001b[39;49mdescribe_suite(\u001b[39m\"\u001b[39;49m\u001b[39mbinary_classifier_full_suite\u001b[39;49m\u001b[39m\"\u001b[39;49m, verbose\u001b[39m=\u001b[39;49m\u001b[39mTrue\u001b[39;49;00m)\n",
      "File \u001b[0;32m~/Library/Python/3.9/lib/python/site-packages/validmind/test_suites/__init__.py:94\u001b[0m, in \u001b[0;36mdescribe_suite\u001b[0;34m(test_suite_id, verbose)\u001b[0m\n\u001b[1;32m     83\u001b[0m \u001b[39mdef\u001b[39;00m \u001b[39mdescribe_suite\u001b[39m(test_suite_id: \u001b[39mstr\u001b[39m, verbose\u001b[39m=\u001b[39m\u001b[39mFalse\u001b[39;00m):\n\u001b[1;32m     84\u001b[0m \u001b[39m    \u001b[39m\u001b[39m\"\"\"\u001b[39;00m\n\u001b[1;32m     85\u001b[0m \u001b[39m    Describes a Test Suite by ID\u001b[39;00m\n\u001b[1;32m     86\u001b[0m \n\u001b[0;32m   (...)\u001b[0m\n\u001b[1;32m     92\u001b[0m \u001b[39m        pandas.DataFrame: A formatted table with the Test Suite description\u001b[39;00m\n\u001b[1;32m     93\u001b[0m \u001b[39m    \"\"\"\u001b[39;00m\n\u001b[0;32m---> 94\u001b[0m     test_suite \u001b[39m=\u001b[39m get_by_id(test_suite_id)\n\u001b[1;32m     96\u001b[0m     \u001b[39mif\u001b[39;00m \u001b[39mnot\u001b[39;00m verbose:\n\u001b[1;32m     97\u001b[0m         \u001b[39mreturn\u001b[39;00m format_dataframe(\n\u001b[1;32m     98\u001b[0m             pd\u001b[39m.\u001b[39mDataFrame(\n\u001b[1;32m     99\u001b[0m                 [\n\u001b[0;32m   (...)\u001b[0m\n\u001b[1;32m    107\u001b[0m             )\n\u001b[1;32m    108\u001b[0m         )\n",
      "File \u001b[0;32m~/Library/Python/3.9/lib/python/site-packages/validmind/test_suites/__init__.py:56\u001b[0m, in \u001b[0;36mget_by_id\u001b[0;34m(test_suite_id)\u001b[0m\n\u001b[1;32m     54\u001b[0m     \u001b[39mreturn\u001b[39;00m _get_all_test_suites()[test_suite_id]\n\u001b[1;32m     55\u001b[0m \u001b[39mexcept\u001b[39;00m \u001b[39mKeyError\u001b[39;00m:\n\u001b[0;32m---> 56\u001b[0m     \u001b[39mraise\u001b[39;00m \u001b[39mValueError\u001b[39;00m(\u001b[39mf\u001b[39m\u001b[39m\"\u001b[39m\u001b[39mTest suite with ID: \u001b[39m\u001b[39m'\u001b[39m\u001b[39m{\u001b[39;00mtest_suite_id\u001b[39m}\u001b[39;00m\u001b[39m'\u001b[39m\u001b[39m not found\u001b[39m\u001b[39m\"\u001b[39m)\n",
      "\u001b[0;31mValueError\u001b[0m: Test suite with ID: 'binary_classifier_full_suite' not found"
     ]
    }
   ],
   "source": [
    "vm.test_suites.describe_suite(\"binary_classifier_full_suite\", verbose=True)"
   ]
  },
  {
   "attachments": {},
   "cell_type": "markdown",
   "metadata": {},
   "source": [
    "## Available test suites"
   ]
  },
  {
   "cell_type": "code",
   "execution_count": 13,
   "metadata": {},
   "outputs": [
    {
     "name": "stderr",
     "output_type": "stream",
     "text": [
      "2023-09-15 10:54:37,128 - ERROR(validmind.tests): Unable to load test validmind.prompt_validation.Bias. No module named 'openai'\n"
     ]
    },
    {
     "ename": "LoadTestError",
     "evalue": "Unable to load test validmind.prompt_validation.Bias. No module named 'openai'",
     "output_type": "error",
     "traceback": [
      "\u001b[0;31m---------------------------------------------------------------------------\u001b[0m",
      "\u001b[0;31mLoadTestError\u001b[0m                             Traceback (most recent call last)",
      "\u001b[1;32m/Users/nrichers/GitHub/validmind/documentation/site/notebooks/how_to/explore_test_suites_test_plans_and_tests.ipynb Cell 18\u001b[0m line \u001b[0;36m1\n\u001b[0;32m----> <a href='vscode-notebook-cell:/Users/nrichers/GitHub/validmind/documentation/site/notebooks/how_to/explore_test_suites_test_plans_and_tests.ipynb#X23sZmlsZQ%3D%3D?line=0'>1</a>\u001b[0m vm\u001b[39m.\u001b[39;49mtests\u001b[39m.\u001b[39;49mlist_tests()\n",
      "File \u001b[0;32m~/Library/Python/3.9/lib/python/site-packages/validmind/tests/__init__.py:152\u001b[0m, in \u001b[0;36mlist_tests\u001b[0;34m(filter, task, pretty)\u001b[0m\n\u001b[1;32m    149\u001b[0m     tests \u001b[39m=\u001b[39m [test_id \u001b[39mfor\u001b[39;00m test_id \u001b[39min\u001b[39;00m __tests \u001b[39mif\u001b[39;00m \u001b[39mfilter\u001b[39m\u001b[39m.\u001b[39mlower() \u001b[39min\u001b[39;00m test_id\u001b[39m.\u001b[39mlower()]\n\u001b[1;32m    151\u001b[0m \u001b[39mif\u001b[39;00m pretty:\n\u001b[0;32m--> 152\u001b[0m     \u001b[39mreturn\u001b[39;00m _pretty_list_tests(tests)\n\u001b[1;32m    154\u001b[0m \u001b[39mreturn\u001b[39;00m tests\n",
      "File \u001b[0;32m~/Library/Python/3.9/lib/python/site-packages/validmind/tests/__init__.py:86\u001b[0m, in \u001b[0;36m_pretty_list_tests\u001b[0;34m(tests)\u001b[0m\n\u001b[1;32m     85\u001b[0m \u001b[39mdef\u001b[39;00m \u001b[39m_pretty_list_tests\u001b[39m(tests):\n\u001b[0;32m---> 86\u001b[0m     _load_tests(tests)\n\u001b[1;32m     88\u001b[0m     table \u001b[39m=\u001b[39m [\n\u001b[1;32m     89\u001b[0m         {\n\u001b[1;32m     90\u001b[0m             \u001b[39m\"\u001b[39m\u001b[39mTest Type\u001b[39m\u001b[39m\"\u001b[39m: __test_classes[test_id]\u001b[39m.\u001b[39mtest_type,\n\u001b[0;32m   (...)\u001b[0m\n\u001b[1;32m     99\u001b[0m         \u001b[39mfor\u001b[39;00m test_id \u001b[39min\u001b[39;00m tests\n\u001b[1;32m    100\u001b[0m     ]\n\u001b[1;32m    102\u001b[0m     \u001b[39mreturn\u001b[39;00m format_dataframe(pd\u001b[39m.\u001b[39mDataFrame(table))\n",
      "File \u001b[0;32m~/Library/Python/3.9/lib/python/site-packages/validmind/tests/__init__.py:82\u001b[0m, in \u001b[0;36m_load_tests\u001b[0;34m(test_ids)\u001b[0m\n\u001b[1;32m     80\u001b[0m __test_classes \u001b[39m=\u001b[39m {}\n\u001b[1;32m     81\u001b[0m \u001b[39mfor\u001b[39;00m test_id \u001b[39min\u001b[39;00m test_ids:\n\u001b[0;32m---> 82\u001b[0m     __test_classes[test_id] \u001b[39m=\u001b[39m load_test(test_id)\n",
      "File \u001b[0;32m~/Library/Python/3.9/lib/python/site-packages/validmind/tests/__init__.py:199\u001b[0m, in \u001b[0;36mload_test\u001b[0;34m(test_id, legacy)\u001b[0m\n\u001b[1;32m    197\u001b[0m \u001b[39mif\u001b[39;00m error:\n\u001b[1;32m    198\u001b[0m     logger\u001b[39m.\u001b[39merror(error)\n\u001b[0;32m--> 199\u001b[0m     \u001b[39mraise\u001b[39;00m LoadTestError(error)\n\u001b[1;32m    201\u001b[0m \u001b[39m# TODO: restore non-legacy flag for test IDs once we have a migration plan for existing templates\u001b[39;00m\n\u001b[1;32m    202\u001b[0m \u001b[39m# if not legacy:\u001b[39;00m\n\u001b[1;32m    203\u001b[0m \u001b[39m#     test._key = test_id\u001b[39;00m\n\u001b[1;32m    205\u001b[0m \u001b[39mreturn\u001b[39;00m test\n",
      "\u001b[0;31mLoadTestError\u001b[0m: Unable to load test validmind.prompt_validation.Bias. No module named 'openai'"
     ]
    }
   ],
   "source": [
    "vm.tests.list_tests()"
   ]
  }
 ],
 "metadata": {
  "kernelspec": {
   "display_name": "validmind-LmBC4yNo-py3.9",
   "language": "python",
   "name": "python3"
  },
  "language_info": {
   "codemirror_mode": {
    "name": "ipython",
    "version": 3
   },
   "file_extension": ".py",
   "mimetype": "text/x-python",
   "name": "python",
   "nbconvert_exporter": "python",
   "pygments_lexer": "ipython3",
   "version": "3.9.6"
  },
  "orig_nbformat": 4
 },
 "nbformat": 4,
 "nbformat_minor": 2
}
