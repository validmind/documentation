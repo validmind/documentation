{
 "cells": [
  {
   "cell_type": "markdown",
   "metadata": {},
   "source": [
    "# Load dataset predictions\n",
    "\n",
    "To enable tests to make use of predictions, you can load predictions in ValidMind dataset objects in multiple different ways.\n",
    "\n",
    "This interactive notebook includes the code required to load the demo dataset, preprocess the raw dataset and train a model for testing, and initialize ValidMind objects. Additionally, it offers options for loading predictions using the `assign_predictions()` function, such as loading predictions from a file, linking an existing prediction column in the dataset with a model, or allowing the ValidMind Library to run and link predictions to a model."
   ]
  },
  {
   "cell_type": "markdown",
   "metadata": {},
   "source": [
    "::: {.content-hidden when-format=\"html\"}\n",
    "## Contents    \n",
    "- [About ValidMind](#toc1__)    \n",
    "  - [Before you begin](#toc1_1__)    \n",
    "  - [New to ValidMind?](#toc1_2__)    \n",
    "  - [Key concepts](#toc1_3__)    \n",
    "- [Setting up](#toc2__)    \n",
    "  - [Install the ValidMind Library](#toc2_1__)    \n",
    "  - [Initialize the ValidMind Library](#toc2_2__)    \n",
    "    - [Register sample model](#toc2_2_1__)    \n",
    "    - [Apply documentation template](#toc2_2_2__)    \n",
    "    - [Get your code snippet](#toc2_2_3__)    \n",
    "  - [Preview the documentation template](#toc2_3__)    \n",
    "- [Load the sample dataset](#toc3__)    \n",
    "- [Prepocess the raw dataset](#toc4__)    \n",
    "- [Train models for testing](#toc5__)    \n",
    "- [Initialize ValidMind objects](#toc6__)    \n",
    "  - [Initialize the ValidMind models](#toc6_1__)    \n",
    "  - [Initialize the ValidMind datasets](#toc6_2__)    \n",
    "- [Options to load predictions using the ValidMind Library](#toc7__)    \n",
    "  - [Load predictions from a file](#toc7_1__)    \n",
    "  - [Predictions calculated outside of VM](#toc7_2__)    \n",
    "  - [Assign predictions to the training dataset](#toc7_3__)    \n",
    "  - [Run an example test](#toc7_4__)    \n",
    "  - [Link an existing prediction column in the dataset with a model](#toc7_5__)    \n",
    "    - [Link prediction column to a specific model](#toc7_5_1__)    \n",
    "  - [Link an existing prediction column in the dataset with a model](#toc7_6__)    \n",
    "    - [Pass `<vm_model>` in dataset interface](#toc7_6_1__)    \n",
    "    - [Through `assign_predictions` interface](#toc7_6_2__)    \n",
    "  - [Run an example test](#toc7_7__)    \n",
    "  - [Using `predict_fn` to store multiple columns](#toc7_8__)    \n",
    "    - [Create enhanced predict function](#toc7_8_1__)    \n",
    "    - [Initialize model with predict function](#toc7_8_2__)    \n",
    "    - [Assign predictions with multiple columns](#toc7_8_3__)    \n",
    "    - [Verify multiple columns in dataset](#toc7_8_4__)    \n",
    "- [Next steps](#toc8__)    \n",
    "  - [Work with your model documentation](#toc8_1__)    \n",
    "  - [Discover more learning resources](#toc8_2__)    \n",
    "- [Upgrade ValidMind](#toc9__)    \n",
    "\n",
    ":::\n",
    "<!-- jn-toc-notebook-config\n",
    "\tnumbering=false\n",
    "\tanchor=true\n",
    "\tflat=false\n",
    "\tminLevel=2\n",
    "\tmaxLevel=4\n",
    "\t/jn-toc-notebook-config -->\n",
    "<!-- THIS CELL WILL BE REPLACED ON TOC UPDATE. DO NOT WRITE YOUR TEXT IN THIS CELL -->"
   ]
  },
  {
   "cell_type": "markdown",
   "metadata": {},
   "source": [
    "<a id='toc1__'></a>\n",
    "\n",
    "## About ValidMind\n",
    "\n",
    "ValidMind is a suite of tools for managing model risk, including risk associated with AI and statistical models.\n",
    "\n",
    "You use the ValidMind Library to automate documentation and validation tests, and then use the ValidMind Platform to collaborate on model documentation. Together, these products simplify model risk management, facilitate compliance with regulations and institutional standards, and enhance collaboration between yourself and model validators.\n",
    "\n",
    "<a id='toc1_1__'></a>\n",
    "\n",
    "### Before you begin\n",
    "\n",
    "This notebook assumes you have basic familiarity with Python, including an understanding of how functions work. If you are new to Python, you can still run the notebook but we recommend further familiarizing yourself with the language. \n",
    "\n",
    "If you encounter errors due to missing modules in your Python environment, install the modules with `pip install`, and then re-run the notebook. For more help, refer to [Installing Python Modules](https://docs.python.org/3/installing/index.html).\n",
    "\n",
    "<a id='toc1_2__'></a>\n",
    "\n",
    "### New to ValidMind?\n",
    "\n",
    "If you haven't already seen our documentation on the [ValidMind Library](https://docs.validmind.ai/developer/validmind-library.html), we recommend you begin by exploring the available resources in this section. There, you can learn more about documenting models and running tests, as well as find code samples and our Python Library API reference.\n",
    "\n",
    "<div class=\"alert alert-block alert-info\" style=\"background-color: #B5B5B510; color: black; border: 1px solid #083E44; border-left-width: 5px; box-shadow: 2px 2px 4px rgba(0, 0, 0, 0.2);border-radius: 5px;\"><span style=\"color: #083E44;\"><b>For access to all features available in this notebook, you'll need access to a ValidMind account.</b></span>\n",
    "<br></br>\n",
    "<a href=\"https://docs.validmind.ai/guide/configuration/register-with-validmind.html\" style=\"color: #DE257E;\"><b>Register with ValidMind</b></a></div>\n",
    "\n",
    "<a id='toc1_3__'></a>\n",
    "\n",
    "### Key concepts\n",
    "\n",
    "**Model documentation**: A structured and detailed record pertaining to a model, encompassing key components such as its underlying assumptions, methodologies, data sources, inputs, performance metrics, evaluations, limitations, and intended uses. It serves to ensure transparency, adherence to regulatory requirements, and a clear understanding of potential risks associated with the model’s application.\n",
    "\n",
    "**Documentation template**: Functions as a test suite and lays out the structure of model documentation, segmented into various sections and sub-sections. Documentation templates define the structure of your model documentation, specifying the tests that should be run, and how the results should be displayed.\n",
    "\n",
    "**Tests**: A function contained in the ValidMind Library, designed to run a specific quantitative test on the dataset or model. Tests are the building blocks of ValidMind, used to evaluate and document models and datasets, and can be run individually or as part of a suite defined by your model documentation template.\n",
    "\n",
    "**Custom tests**: Custom tests are functions that you define to evaluate your model or dataset. These functions can be registered via the ValidMind Library to be used with the ValidMind Platform.\n",
    "\n",
    "**Inputs**: Objects to be evaluated and documented in the ValidMind Library. They can be any of the following:\n",
    "\n",
    "  - **model**: A single model that has been initialized in ValidMind with [`vm.init_model()`](https://docs.validmind.ai/validmind/validmind.html#init_model).\n",
    "  - **dataset**: Single dataset that has been initialized in ValidMind with [`vm.init_dataset()`](https://docs.validmind.ai/validmind/validmind.html#init_dataset).\n",
    "  - **models**: A list of ValidMind models - usually this is used when you want to compare multiple models in your custom test.\n",
    "  - **datasets**: A list of ValidMind datasets - usually this is used when you want to compare multiple datasets in your custom test. See this [example](https://docs.validmind.ai/notebooks/how_to/run_tests_that_require_multiple_datasets.html) for more information.\n",
    "\n",
    "**Parameters**: Additional arguments that can be passed when running a ValidMind test, used to pass additional information to a test, customize its behavior, or provide additional context.\n",
    "\n",
    "**Outputs**: Custom tests can return elements like tables or plots. Tables may be a list of dictionaries (each representing a row) or a pandas DataFrame. Plots may be matplotlib or plotly figures.\n",
    "\n",
    "**Test suites**: Collections of tests designed to run together to automate and generate model documentation end-to-end for specific use-cases.\n",
    "\n",
    "Example: the [`classifier_full_suite`](https://docs.validmind.ai/validmind/validmind/test_suites/classifier.html#ClassifierFullSuite) test suite runs tests from the [`tabular_dataset`](https://docs.validmind.ai/validmind/validmind/test_suites/tabular_datasets.html) and [`classifier`](https://docs.validmind.ai/validmind/validmind/test_suites/classifier.html) test suites to fully document the data and model sections for binary classification model use-cases."
   ]
  },
  {
   "cell_type": "markdown",
   "metadata": {},
   "source": [
    "<a id='toc2__'></a>\n",
    "\n",
    "## Setting up"
   ]
  },
  {
   "cell_type": "markdown",
   "metadata": {},
   "source": [
    "<a id='toc2_1__'></a>\n",
    "\n",
    "### Install the ValidMind Library\n",
    "\n",
    "To install the library:"
   ]
  },
  {
   "cell_type": "code",
   "execution_count": null,
   "metadata": {},
   "outputs": [],
   "source": [
    "%pip install -q validmind"
   ]
  },
  {
   "cell_type": "markdown",
   "metadata": {},
   "source": [
    "<a id='toc2_2__'></a>\n",
    "\n",
    "### Initialize the ValidMind Library"
   ]
  },
  {
   "cell_type": "markdown",
   "metadata": {},
   "source": [
    "<a id='toc2_2_1__'></a>\n",
    "\n",
    "#### Register sample model\n",
    "\n",
    "Let's first register a sample model for use with this notebook:\n",
    "\n",
    "1. In a browser, [log in to ValidMind](https://docs.validmind.ai/guide/configuration/log-in-to-validmind.html).\n",
    "\n",
    "2. In the left sidebar, navigate to **Inventory** and click **+ Register Model**.\n",
    "\n",
    "3. Enter the model details and click **Next >** to continue to assignment of model stakeholders. ([Need more help?](https://docs.validmind.ai/guide/model-inventory/register-models-in-inventory.html))\n",
    "\n",
    "   For example, to register a model for use with this notebook, select the following use case: `Marketing/Sales - Attrition/Churn Management`\n",
    "\n",
    "4. Select your own name under the **MODEL OWNER** drop-down.\n",
    "\n",
    "5. Click **Register Model** to add the model to your inventory."
   ]
  },
  {
   "cell_type": "markdown",
   "metadata": {},
   "source": [
    "<a id='toc2_2_2__'></a>\n",
    "\n",
    "#### Apply documentation template\n",
    "\n",
    "Once you've registered your model, let's select a documentation template. A template predefines sections for your model documentation and provides a general outline to follow, making the documentation process much easier.\n",
    "\n",
    "1. In the left sidebar that appears for your model, click **Documents** and select **Documentation**.\n",
    "\n",
    "2. Under **TEMPLATE**, select `Binary classification`.\n",
    "\n",
    "3. Click **Use Template** to apply the template."
   ]
  },
  {
   "cell_type": "markdown",
   "metadata": {},
   "source": [
    "<a id='toc2_2_3__'></a>\n",
    "\n",
    "#### Get your code snippet\n",
    "\n",
    "ValidMind generates a unique _code snippet_ for each registered model to connect with your developer environment. You initialize the ValidMind Library with this code snippet, which ensures that your documentation and tests are uploaded to the correct model when you run the notebook.\n",
    "\n",
    "1. On the left sidebar that appears for your model, select **Getting Started** and click **Copy snippet to clipboard**.\n",
    "2. Next, [load your model identifier credentials from an `.env` file](https://docs.validmind.ai/developer/model-documentation/store-credentials-in-env-file.html) or replace the placeholder with your own code snippet:"
   ]
  },
  {
   "cell_type": "code",
   "execution_count": null,
   "metadata": {},
   "outputs": [],
   "source": [
    "# Load your model identifier credentials from an `.env` file\n",
    "\n",
    "%load_ext dotenv\n",
    "%dotenv .env\n",
    "\n",
    "# Or replace with your code snippet\n",
    "\n",
    "import validmind as vm\n",
    "\n",
    "vm.init(\n",
    "    # api_host=\"...\",\n",
    "    # api_key=\"...\",\n",
    "    # api_secret=\"...\",\n",
    "    # model=\"...\",\n",
    ")"
   ]
  },
  {
   "cell_type": "markdown",
   "metadata": {},
   "source": [
    "<a id='toc2_3__'></a>\n",
    "\n",
    "### Preview the documentation template\n",
    "\n",
    "Let's verify that you have connected the ValidMind Library to the ValidMind Platform and that the appropriate *template* is selected for your model.\n",
    "\n",
    "You will upload documentation and test results unique to your model based on this template later on. For now, **take a look at the default structure that the template provides with [the `vm.preview_template()` function](https://docs.validmind.ai/validmind/validmind.html#preview_template)** from the ValidMind library and note the empty sections:"
   ]
  },
  {
   "cell_type": "code",
   "execution_count": null,
   "metadata": {},
   "outputs": [],
   "source": [
    "vm.preview_template()"
   ]
  },
  {
   "cell_type": "markdown",
   "metadata": {},
   "source": [
    "<a id='toc3__'></a>\n",
    "\n",
    "## Load the sample dataset\n",
    "\n",
    "The sample dataset used here is provided by the ValidMind library. To be able to use it, you need to import the dataset and load it into a pandas [DataFrame](https://pandas.pydata.org/docs/reference/api/pandas.DataFrame.html), a two-dimensional tabular data structure that makes use of rows and columns:"
   ]
  },
  {
   "cell_type": "code",
   "execution_count": null,
   "metadata": {},
   "outputs": [],
   "source": [
    "# Import the sample dataset from the library\n",
    "\n",
    "from validmind.datasets.classification import customer_churn as demo_dataset\n",
    "\n",
    "print(\n",
    "    f\"Loaded demo dataset with: \\n\\n\\t• Target column: '{demo_dataset.target_column}' \\n\\t• Class labels: {demo_dataset.class_labels}\"\n",
    ")\n",
    "\n",
    "raw_df = demo_dataset.load_data()\n",
    "raw_df.head()"
   ]
  },
  {
   "cell_type": "markdown",
   "metadata": {},
   "source": [
    "<a id='toc4__'></a>\n",
    "\n",
    "## Prepocess the raw dataset\n",
    "\n",
    "Preprocessing performs a number of operations to get ready for the subsequent steps:\n",
    "\n",
    "- Preprocess the data: Splits the DataFrame (`df`) into multiple datasets (`train_df`, `validation_df`, and `test_df`) using `demo_dataset.preprocess` to simplify preprocessing.\n",
    "- Separate features and targets: Drops the target column to create feature sets (`x_train`, `x_val`) and target sets (`y_train`, `y_val`)."
   ]
  },
  {
   "cell_type": "code",
   "execution_count": null,
   "metadata": {},
   "outputs": [],
   "source": [
    "train_df, validation_df, test_df = demo_dataset.preprocess(raw_df)\n",
    "x_train = train_df.drop(demo_dataset.target_column, axis=1)\n",
    "y_train = train_df[demo_dataset.target_column]\n",
    "x_val = validation_df.drop(demo_dataset.target_column, axis=1)\n",
    "y_val = validation_df[demo_dataset.target_column]"
   ]
  },
  {
   "cell_type": "markdown",
   "metadata": {},
   "source": [
    "<a id='toc5__'></a>\n",
    "\n",
    "## Train models for testing\n",
    "\n",
    "- Initialize XGBoost and Logistic Regression Classifiers"
   ]
  },
  {
   "cell_type": "code",
   "execution_count": null,
   "metadata": {},
   "outputs": [],
   "source": [
    "from sklearn.linear_model import LogisticRegression\n",
    "import xgboost\n",
    "\n",
    "%matplotlib inline\n",
    "\n",
    "xgb = xgboost.XGBClassifier(early_stopping_rounds=10)\n",
    "xgb.set_params(\n",
    "    eval_metric=[\"error\", \"logloss\", \"auc\"],\n",
    ")\n",
    "xgb.fit(\n",
    "    x_train,\n",
    "    y_train,\n",
    "    eval_set=[(x_val, y_val)],\n",
    "    verbose=False,\n",
    ")\n",
    "\n",
    "lr = LogisticRegression(random_state=0)\n",
    "lr.fit(\n",
    "    x_train,\n",
    "    y_train,\n",
    ")\n"
   ]
  },
  {
   "cell_type": "markdown",
   "metadata": {},
   "source": [
    "<a id='toc6__'></a>\n",
    "\n",
    "## Initialize ValidMind objects\n",
    "\n",
    "<a id='toc6_1__'></a>\n",
    "\n",
    "### Initialize the ValidMind models"
   ]
  },
  {
   "cell_type": "code",
   "execution_count": null,
   "metadata": {},
   "outputs": [],
   "source": [
    "vm_model_xgb = vm.init_model(\n",
    "    xgb,\n",
    "    input_id=\"xgb\",\n",
    ")\n",
    "vm_model_lr = vm.init_model(\n",
    "    lr,\n",
    "    input_id=\"lr\",\n",
    ")"
   ]
  },
  {
   "cell_type": "markdown",
   "metadata": {},
   "source": [
    "<a id='toc6_2__'></a>\n",
    "\n",
    "### Initialize the ValidMind datasets\n",
    "\n",
    "Before you can run tests, you must first initialize a ValidMind dataset object using the [`init_dataset`](https://docs.validmind.ai/validmind/validmind.html#init_dataset) function from the ValidMind (`vm`) module.\n",
    "\n",
    "This function takes a number of arguments:\n",
    "\n",
    "- `dataset` — the raw dataset that you want to provide as input to tests\n",
    "- `input_id` - a unique identifier that allows tracking what inputs are used when running each individual test\n",
    "- `target_column` — a required argument if tests require access to true values. This is the name of the target column in the dataset\n",
    "- `class_labels` — an optional value to map predicted classes to class labels\n",
    "\n",
    "With all datasets ready, you can now initialize the raw, training and test datasets (`raw_df`, `train_df` and `test_df`) created earlier into their own dataset objects using [`vm.init_dataset()`](https://docs.validmind.ai/validmind/validmind.html#init_dataset):"
   ]
  },
  {
   "cell_type": "code",
   "execution_count": null,
   "metadata": {},
   "outputs": [],
   "source": [
    "vm_raw_ds = vm.init_dataset(\n",
    "    input_id=\"raw_dataset\",\n",
    "    dataset=raw_df,\n",
    "    target_column=demo_dataset.target_column,\n",
    ")\n",
    "\n",
    "vm_train_ds = vm.init_dataset(\n",
    "    input_id=\"train_dataset\",\n",
    "    dataset=train_df,\n",
    "    target_column=demo_dataset.target_column,\n",
    ")\n",
    "vm_test_ds = vm.init_dataset(\n",
    "    input_id=\"test_dataset\", dataset=test_df, target_column=demo_dataset.target_column\n",
    ")"
   ]
  },
  {
   "cell_type": "markdown",
   "metadata": {},
   "source": [
    "<a id='toc7__'></a>\n",
    "\n",
    "## Options to load predictions using the ValidMind Library\n",
    "\n",
    "<a id='toc7_1__'></a>\n",
    "\n",
    "### Load predictions from a file\n",
    "\n",
    "This creates a new column called `<model_id>_prediction` in the dataset and assigns metadata to track that the `<model_id>_prediction` column is linked to the model `<model_id>`"
   ]
  },
  {
   "cell_type": "markdown",
   "metadata": {},
   "source": [
    "<a id='toc7_2__'></a>\n",
    "\n",
    "### Predictions calculated outside of VM"
   ]
  },
  {
   "cell_type": "code",
   "execution_count": null,
   "metadata": {},
   "outputs": [],
   "source": [
    "import pandas as pd\n",
    "\n",
    "train_xgb_prediction = pd.DataFrame(xgb.predict(x_train), columns=[\"xgb_prediction\"])\n",
    "test__xgb_prediction = pd.DataFrame(xgb.predict(x_val), columns=[\"xgb_prediction\"])\n",
    "\n",
    "train_lr_prediction = pd.DataFrame(lr.predict(x_train), columns=[\"lr_prediction\"])\n",
    "test_lr_prediction = pd.DataFrame(lr.predict(x_val), columns=[\"lr_prediction\"])"
   ]
  },
  {
   "cell_type": "markdown",
   "metadata": {},
   "source": [
    "<a id='toc7_3__'></a>\n",
    "\n",
    "### Assign predictions to the training dataset\n",
    "\n",
    "We can now use the `assign_predictions()` method from the `Dataset` object to link existing predictions to any model:"
   ]
  },
  {
   "cell_type": "code",
   "execution_count": null,
   "metadata": {},
   "outputs": [],
   "source": [
    "vm_train_ds.assign_predictions(\n",
    "    model=vm_model_xgb, prediction_values=train_xgb_prediction.xgb_prediction.values\n",
    ")\n",
    "vm_train_ds.assign_predictions(\n",
    "    model=vm_model_lr, prediction_values=train_lr_prediction.lr_prediction.values\n",
    ")"
   ]
  },
  {
   "cell_type": "markdown",
   "metadata": {},
   "source": [
    "<a id='toc7_4__'></a>\n",
    "\n",
    "### Run an example test\n",
    "\n",
    "Now, let's run an example test such as `MinimumAccuracy` twice to show how we're able to load the correct model predictions by using the `model` input parameter, even though we're passing the same `train_ds` dataset instance to the test:"
   ]
  },
  {
   "cell_type": "code",
   "execution_count": null,
   "metadata": {},
   "outputs": [],
   "source": [
    "full_suite = vm.tests.run_test(\n",
    "    \"validmind.model_validation.sklearn.MinimumAccuracy\",\n",
    "    inputs={\"dataset\": vm_train_ds, \"model\": vm_model_xgb},\n",
    ")"
   ]
  },
  {
   "cell_type": "code",
   "execution_count": null,
   "metadata": {},
   "outputs": [],
   "source": [
    "full_suite = vm.tests.run_test(\n",
    "    \"validmind.model_validation.sklearn.MinimumAccuracy\",\n",
    "    inputs={\n",
    "        \"dataset\": vm_train_ds,\n",
    "        \"model\": vm_model_lr,\n",
    "    },\n",
    ")"
   ]
  },
  {
   "cell_type": "markdown",
   "metadata": {},
   "source": [
    "<a id='toc7_5__'></a>\n",
    "\n",
    "### Link an existing prediction column in the dataset with a model\n",
    "\n",
    "This approach allows loading datasets that already have prediction columns in addition to feature and target columns. The ValidMind Library assigns metadata to track the predictions column that are linked to a given `<vm_model>` model."
   ]
  },
  {
   "cell_type": "code",
   "execution_count": null,
   "metadata": {},
   "outputs": [],
   "source": [
    "train_df2 = train_df.copy()\n",
    "train_df2[\"xgb_prediction\"] = train_xgb_prediction.xgb_prediction.values\n",
    "train_df2[\"lr_prediction\"] = train_lr_prediction.lr_prediction.values\n",
    "train_df2.head(5)"
   ]
  },
  {
   "cell_type": "code",
   "execution_count": null,
   "metadata": {},
   "outputs": [],
   "source": [
    "feature_columns = [\n",
    "    \"CreditScore\",\n",
    "    \"Gender\",\n",
    "    \"Age\",\n",
    "    \"Tenure\",\n",
    "    \"Balance\",\n",
    "    \"NumOfProducts\",\n",
    "    \"HasCrCard\",\n",
    "    \"IsActiveMember\",\n",
    "    \"EstimatedSalary\",\n",
    "    \"Geography_France\",\n",
    "    \"Geography_Germany\",\n",
    "    \"Geography_Spain\",\n",
    "]\n",
    "\n",
    "vm_train_ds = vm.init_dataset(\n",
    "    dataset=train_df2,\n",
    "    input_id=\"train_dataset\",\n",
    "    target_column=demo_dataset.target_column,\n",
    "    feature_columns=feature_columns,\n",
    ")"
   ]
  },
  {
   "cell_type": "markdown",
   "metadata": {},
   "source": [
    "<a id='toc7_5_1__'></a>\n",
    "\n",
    "#### Link prediction column to a specific model\n",
    "\n",
    "The `prediction_column` parameter informs the `Dataset` object about the model that should be linked to that column."
   ]
  },
  {
   "cell_type": "code",
   "execution_count": null,
   "metadata": {},
   "outputs": [],
   "source": [
    "vm_train_ds.assign_predictions(model=vm_model_xgb, prediction_column=\"xgb_prediction\")\n",
    "vm_train_ds.assign_predictions(model=vm_model_lr, prediction_column=\"lr_prediction\")"
   ]
  },
  {
   "cell_type": "code",
   "execution_count": null,
   "metadata": {
    "id": "wE0OckXjSPc7"
   },
   "outputs": [],
   "source": [
    "full_suite = vm.tests.run_test(\n",
    "    \"validmind.model_validation.sklearn.MinimumAccuracy\",\n",
    "    inputs={\"dataset\": vm_train_ds, \"model\": vm_model_xgb},\n",
    ")"
   ]
  },
  {
   "cell_type": "code",
   "execution_count": null,
   "metadata": {},
   "outputs": [],
   "source": [
    "full_suite = vm.tests.run_test(\n",
    "    \"validmind.model_validation.sklearn.MinimumAccuracy\",\n",
    "    inputs={\"dataset\": vm_train_ds, \"model\": vm_model_lr},\n",
    ")"
   ]
  },
  {
   "cell_type": "markdown",
   "metadata": {},
   "source": [
    "<a id='toc7_6__'></a>\n",
    "\n",
    "### Link an existing prediction column in the dataset with a model\n",
    "\n",
    "This lets the ValidMind Library run model predictions, creates a new column called `<model_id>_prediction`, and assign metadata to track that the `<model_id>_prediction` column is linked to the `<vm_model>` model.\n",
    "\n",
    "There are two ways run and assign model predictions with the ValidMind Library:\n",
    "\n",
    "- When initializing a `Dataset` with `init_dataset()`. This is the most straightforward method to assign predictions for a single model.\n",
    "- Using `dataset.assign_predictions()`. This allows assigning predictions to a dataset for one or more models."
   ]
  },
  {
   "cell_type": "markdown",
   "metadata": {},
   "source": [
    "<a id='toc7_6_1__'></a>\n",
    "\n",
    "#### Pass `<vm_model>` in dataset interface"
   ]
  },
  {
   "cell_type": "code",
   "execution_count": null,
   "metadata": {},
   "outputs": [],
   "source": [
    "feature_columns = [\n",
    "    \"CreditScore\",\n",
    "    \"Gender\",\n",
    "    \"Age\",\n",
    "    \"Tenure\",\n",
    "    \"Balance\",\n",
    "    \"NumOfProducts\",\n",
    "    \"HasCrCard\",\n",
    "    \"IsActiveMember\",\n",
    "    \"EstimatedSalary\",\n",
    "    \"Geography_France\",\n",
    "    \"Geography_Germany\",\n",
    "    \"Geography_Spain\",\n",
    "]\n",
    "\n",
    "vm_train_ds = vm.init_dataset(\n",
    "    model=vm_model_xgb,\n",
    "    dataset=train_df,\n",
    "    input_id=\"train_dataset\",\n",
    "    target_column=demo_dataset.target_column,\n",
    "    feature_columns=feature_columns,\n",
    ")"
   ]
  },
  {
   "cell_type": "markdown",
   "metadata": {},
   "source": [
    "<a id='toc7_6_2__'></a>\n",
    "\n",
    "#### Through `assign_predictions` interface"
   ]
  },
  {
   "cell_type": "code",
   "execution_count": null,
   "metadata": {},
   "outputs": [],
   "source": [
    "vm_train_ds = vm.init_dataset(\n",
    "    dataset=train_df,\n",
    "    input_id=\"train_dataset\",\n",
    "    target_column=demo_dataset.target_column,\n",
    "    feature_columns=feature_columns,\n",
    ")"
   ]
  },
  {
   "cell_type": "markdown",
   "metadata": {},
   "source": [
    "##### Perform predictions using the same `assign_predictions` interface"
   ]
  },
  {
   "cell_type": "code",
   "execution_count": null,
   "metadata": {},
   "outputs": [],
   "source": [
    "vm_train_ds.assign_predictions(model=vm_model_xgb)\n",
    "vm_train_ds.assign_predictions(model=vm_model_lr)"
   ]
  },
  {
   "cell_type": "markdown",
   "metadata": {},
   "source": [
    "<a id='toc7_7__'></a>\n",
    "\n",
    "### Run an example test\n",
    "\n",
    "Now, let's run an example test such as `MinimumAccuracy` twice to show how we're able to load the correct model predictions by using the `model` input parameter, even though we're passing the same `train_ds` dataset instance to the test:"
   ]
  },
  {
   "cell_type": "code",
   "execution_count": null,
   "metadata": {},
   "outputs": [],
   "source": [
    "full_suite = vm.tests.run_test(\n",
    "    \"validmind.model_validation.sklearn.MinimumAccuracy\",\n",
    "    inputs={\"dataset\": vm_train_ds, \"model\": vm_model_xgb},\n",
    ")"
   ]
  },
  {
   "cell_type": "code",
   "execution_count": null,
   "metadata": {},
   "outputs": [],
   "source": [
    "full_suite = vm.tests.run_test(\n",
    "    \"validmind.model_validation.sklearn.MinimumAccuracy\",\n",
    "    inputs={\n",
    "        \"dataset\": vm_train_ds,\n",
    "        \"model\": vm_model_lr,\n",
    "    },\n",
    ")"
   ]
  },
  {
   "cell_type": "markdown",
   "metadata": {},
   "source": [
    "<a id='toc7_8__'></a>\n",
    "\n",
    "### Using `predict_fn` to store multiple columns\n",
    "\n",
    "The `predict_fn` parameter in `vm.init_model()` allows you to create models that return multiple pieces of information when making predictions. This is particularly useful when you want to capture additional metadata, confidence scores, feature importance, or any other model-related information alongside the main prediction.\n",
    "\n",
    "By returning a dictionary from your predict function, ValidMind automatically creates separate columns for each key when you run `assign_predictions()`."
   ]
  },
  {
   "cell_type": "markdown",
   "metadata": {},
   "source": [
    "<a id='toc7_8_1__'></a>\n",
    "\n",
    "#### Create enhanced predict function\n",
    "\n",
    "Let's create a predict function that wraps our XGBoost model and returns multiple pieces of information:\n",
    "- **prediction**: The main class prediction\n",
    "- **prediction_proba**: The prediction probabilities for both classes\n",
    "- **confidence**: The maximum probability as a confidence score\n",
    "- **model_info**: Metadata about the model used"
   ]
  },
  {
   "cell_type": "code",
   "execution_count": null,
   "metadata": {},
   "outputs": [],
   "source": [
    "import numpy as np\n",
    "import pandas as pd\n",
    "\n",
    "def enhanced_xgb_predict_fn(input_data):\n",
    "    \"\"\"\n",
    "    Enhanced predict function that returns multiple pieces of information.\n",
    "    \n",
    "    Args:\n",
    "        input_data: Input features for prediction (single row as dictionary when called by ValidMind)\n",
    "    \n",
    "    Returns:\n",
    "        dict: Dictionary containing prediction, probabilities, confidence, and model info\n",
    "    \"\"\"\n",
    "    # Define the feature columns that the model was trained on\n",
    "    # These are the same columns from x_train (excluding the target column 'Exited')\n",
    "    training_features = [\n",
    "        'CreditScore', 'Gender', 'Age', 'Tenure', 'Balance', 'NumOfProducts',\n",
    "        'HasCrCard', 'IsActiveMember', 'EstimatedSalary', 'Geography_France',\n",
    "        'Geography_Germany', 'Geography_Spain'\n",
    "    ]\n",
    "    \n",
    "    # Convert dictionary input to DataFrame for model prediction\n",
    "    # When called by ValidMind, input_data is a single row dictionary\n",
    "    if isinstance(input_data, dict):\n",
    "        # Filter to only include training features and convert to DataFrame\n",
    "        filtered_data = {key: value for key, value in input_data.items() if key in training_features}\n",
    "        input_df = pd.DataFrame([filtered_data])\n",
    "        \n",
    "        # Ensure all training features are present (in case some are missing)\n",
    "        for feature in training_features:\n",
    "            if feature not in input_df.columns:\n",
    "                input_df[feature] = 0  # Default value for missing features\n",
    "        \n",
    "        # Reorder columns to match training order\n",
    "        input_df = input_df[training_features]\n",
    "    else:\n",
    "        # Handle other input types (DataFrame, array, etc.)\n",
    "        input_df = pd.DataFrame(input_data) if not isinstance(input_data, pd.DataFrame) else input_data\n",
    "        # Filter to training features if it's a DataFrame\n",
    "        if isinstance(input_df, pd.DataFrame):\n",
    "            input_df = input_df[training_features]\n",
    "    \n",
    "    # Make predictions\n",
    "    prediction = xgb.predict(input_df)\n",
    "    prediction_proba = xgb.predict_proba(input_df)\n",
    "    \n",
    "    # Since we're processing one row at a time, extract the single values\n",
    "    single_prediction = prediction[0] if len(prediction) > 0 else None\n",
    "    single_proba = prediction_proba[0] if len(prediction_proba) > 0 else None\n",
    "    \n",
    "    # Calculate confidence as the maximum probability for this prediction\n",
    "    confidence = np.max(single_proba) if single_proba is not None else None\n",
    "    \n",
    "    # Create model metadata\n",
    "    model_info = {\n",
    "        \"model_type\": \"XGBClassifier\",\n",
    "        \"n_estimators\": xgb.n_estimators,\n",
    "        \"max_depth\": xgb.max_depth,\n",
    "        \"feature_count\": len(training_features),\n",
    "        \"features_used\": training_features\n",
    "    }\n",
    "    \n",
    "    return {\n",
    "        \"prediction\": single_prediction,\n",
    "        \"prediction_proba\": single_proba.tolist() if single_proba is not None else None,\n",
    "        \"confidence\": confidence,\n",
    "        \"model_info\": model_info\n",
    "    }\n"
   ]
  },
  {
   "cell_type": "markdown",
   "metadata": {},
   "source": [
    "<a id='toc7_8_2__'></a>\n",
    "\n",
    "#### Initialize model with predict function\n",
    "\n",
    "Now we'll create a ValidMind model using the `predict_fn` parameter. This tells ValidMind to use our enhanced function instead of the model's default `predict()` method:"
   ]
  },
  {
   "cell_type": "code",
   "execution_count": null,
   "metadata": {},
   "outputs": [],
   "source": [
    "# Initialize ValidMind model with the enhanced predict function\n",
    "vm_model_enhanced_xgb = vm.init_model(\n",
    "    model=xgb,\n",
    "    input_id=\"enhanced_xgb\",\n",
    "    predict_fn=enhanced_xgb_predict_fn \n",
    ")\n",
    "\n",
    "print(f\"Enhanced XGBoost model initialized with input_id: {vm_model_enhanced_xgb.input_id}\")\n",
    "print(\"This model now uses the predict function that handles dictionary inputs correctly\")\n",
    "print(\"It will return multiple columns when predictions are assigned to datasets\")"
   ]
  },
  {
   "cell_type": "markdown",
   "metadata": {},
   "source": [
    "<a id='toc7_8_3__'></a>\n",
    "\n",
    "#### Assign predictions with multiple columns\n",
    "\n",
    "When we use `assign_predictions()` with our enhanced model, ValidMind will automatically create separate columns for each key returned by our predict function. Let's assign predictions to our test dataset:"
   ]
  },
  {
   "cell_type": "code",
   "execution_count": null,
   "metadata": {},
   "outputs": [],
   "source": [
    "# Create a fresh dataset for this demonstration\n",
    "vm_test_ds_enhanced = vm.init_dataset(\n",
    "    input_id=\"test_dataset_enhanced\",\n",
    "    dataset=test_df,\n",
    "    target_column=demo_dataset.target_column\n",
    ")\n",
    "\n",
    "# This will create multiple columns based on the keys returned by our predict function\n",
    "vm_test_ds_enhanced.assign_predictions(model=vm_model_enhanced_xgb)\n"
   ]
  },
  {
   "cell_type": "markdown",
   "metadata": {},
   "source": [
    "<a id='toc7_8_4__'></a>\n",
    "\n",
    "#### Verify multiple columns in dataset\n",
    "\n",
    "Let's examine the dataset to see all the columns that were created by our enhanced predict function. Each key from the returned dictionary becomes a separate column with the model's `input_id` as a prefix:"
   ]
  },
  {
   "cell_type": "code",
   "execution_count": null,
   "metadata": {},
   "outputs": [],
   "source": [
    "vm_test_ds_enhanced._df.head()"
   ]
  },
  {
   "cell_type": "markdown",
   "metadata": {},
   "source": [
    "<a id='toc8__'></a>\n",
    "\n",
    "## Next steps\n",
    "\n",
    "You can look at the results of this test suite right in the notebook where you ran the code, as you would expect. But there is a better way — use the ValidMind Platform to work with your model documentation.\n",
    "\n",
    "<a id='toc8_1__'></a>\n",
    "\n",
    "### Work with your model documentation\n",
    "\n",
    "1. From the **Model Inventory** in the ValidMind Platform, go to the model you registered earlier. ([Need more help?](https://docs.validmind.ai/guide/model-inventory/working-with-model-inventory.html))\n",
    "\n",
    "2. Click and expand the **Model Development** section.\n",
    "\n",
    "What you see is the full draft of your model documentation in a more easily consumable version. From here, you can make qualitative edits to model documentation, view guidelines, collaborate with validators, and submit your model documentation for approval when it's ready. [Learn more ...](https://docs.validmind.ai/guide/model-documentation/working-with-model-documentation.html)\n",
    "\n",
    "<a id='toc8_2__'></a>\n",
    "\n",
    "### Discover more learning resources\n",
    "\n",
    "We offer many interactive notebooks to help you document models:\n",
    "\n",
    "- [Run tests & test suites](https://docs.validmind.ai/developer/model-testing/testing-overview.html)\n",
    "- [Code samples](https://docs.validmind.ai/developer/samples-jupyter-notebooks.html)\n",
    "\n",
    "Or, visit our [documentation](https://docs.validmind.ai/) to learn more about ValidMind."
   ]
  },
  {
   "cell_type": "markdown",
   "metadata": {},
   "source": [
    "<a id='toc9__'></a>\n",
    "\n",
    "## Upgrade ValidMind\n",
    "\n",
    "<div class=\"alert alert-block alert-info\" style=\"background-color: #B5B5B510; color: black; border: 1px solid #083E44; border-left-width: 5px; box-shadow: 2px 2px 4px rgba(0, 0, 0, 0.2);border-radius: 5px;\">After installing ValidMind, you’ll want to periodically make sure you are on the latest version to access any new features and other enhancements.</div>\n",
    "\n",
    "Retrieve the information for the currently installed version of ValidMind:"
   ]
  },
  {
   "cell_type": "code",
   "execution_count": null,
   "metadata": {},
   "outputs": [],
   "source": [
    "%pip show validmind"
   ]
  },
  {
   "cell_type": "markdown",
   "metadata": {},
   "source": [
    "If the version returned is lower than the version indicated in our [production open-source code](https://github.com/validmind/validmind-library/blob/prod/validmind/__version__.py), restart your notebook and run:\n",
    "\n",
    "```bash\n",
    "%pip install --upgrade validmind\n",
    "```"
   ]
  },
  {
   "cell_type": "markdown",
   "metadata": {},
   "source": [
    "You may need to restart your kernel after running the upgrade package for changes to be applied."
   ]
  }
 ],
 "metadata": {
  "colab": {
   "provenance": []
  },
  "gpuClass": "standard",
  "kernelspec": {
   "display_name": "ValidMind Library",
   "language": "python",
   "name": "validmind"
  },
  "language_info": {
   "codemirror_mode": {
    "name": "ipython",
    "version": 3
   },
   "file_extension": ".py",
   "mimetype": "text/x-python",
   "name": "python",
   "nbconvert_exporter": "python",
   "pygments_lexer": "ipython3",
   "version": "3.11.9"
  }
 },
 "nbformat": 4,
 "nbformat_minor": 0
}
