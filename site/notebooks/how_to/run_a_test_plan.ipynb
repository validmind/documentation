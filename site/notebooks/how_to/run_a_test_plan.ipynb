{
 "cells": [
  {
   "attachments": {},
   "cell_type": "markdown",
   "metadata": {},
   "source": [
    "# Running an Individual Test Plan\n",
    "\n",
    "This notebook shows how to run an individual test plan and pass custom config parameters for the tests."
   ]
  },
  {
   "cell_type": "code",
   "execution_count": 1,
   "metadata": {},
   "outputs": [
    {
     "name": "stdout",
     "output_type": "stream",
     "text": [
      "cannot find .env file\n"
     ]
    }
   ],
   "source": [
    "%load_ext dotenv\n",
    "%dotenv dev.env\n",
    "\n",
    "import pandas as pd\n",
    "import xgboost as xgb\n",
    "\n",
    "from sklearn.metrics import accuracy_score\n",
    "from sklearn.model_selection import train_test_split\n",
    "\n",
    "%matplotlib inline"
   ]
  },
  {
   "cell_type": "code",
   "execution_count": 2,
   "metadata": {},
   "outputs": [
    {
     "name": "stdout",
     "output_type": "stream",
     "text": [
      "Connected to ValidMind. Project: Customer Churn Model dev - Initial Validation (clhsvn7va0000kgrl0nwybdff)\n"
     ]
    }
   ],
   "source": [
    "import validmind as vm\n",
    "\n",
    "\n",
    "vm.init(\n",
    "  api_host = \"http://localhost:3000/api/v1/tracking\",\n",
    "  project = \"clhsvn7va0000kgrl0nwybdff\"\n",
    ")\n",
    "  \n",
    "  "
   ]
  },
  {
   "attachments": {},
   "cell_type": "markdown",
   "metadata": {},
   "source": [
    "## Load the Demo Dataset"
   ]
  },
  {
   "cell_type": "code",
   "execution_count": 3,
   "metadata": {},
   "outputs": [],
   "source": [
    "# You can also import customer_churn like this:\n",
    "from validmind.datasets.classification import customer_churn as demo_dataset\n",
    "# from validmind.datasets.classification import taiwan_credit as demo_dataset\n",
    "\n",
    "df = demo_dataset.load_data()"
   ]
  },
  {
   "attachments": {},
   "cell_type": "markdown",
   "metadata": {},
   "source": [
    "### Prepocess the Raw Dataset\n",
    "We will need to preprocess the dataset and produce the training, test and validation splits first."
   ]
  },
  {
   "cell_type": "code",
   "execution_count": 4,
   "metadata": {},
   "outputs": [],
   "source": [
    "train_df, validation_df, test_df = demo_dataset.preprocess(df)"
   ]
  },
  {
   "attachments": {},
   "cell_type": "markdown",
   "metadata": {},
   "source": [
    "## Train a Model for Testing\n",
    "\n",
    "We train a simple customer churn model for our test."
   ]
  },
  {
   "cell_type": "code",
   "execution_count": 5,
   "metadata": {},
   "outputs": [
    {
     "data": {
      "text/html": [
       "<style>#sk-container-id-1 {color: black;background-color: white;}#sk-container-id-1 pre{padding: 0;}#sk-container-id-1 div.sk-toggleable {background-color: white;}#sk-container-id-1 label.sk-toggleable__label {cursor: pointer;display: block;width: 100%;margin-bottom: 0;padding: 0.3em;box-sizing: border-box;text-align: center;}#sk-container-id-1 label.sk-toggleable__label-arrow:before {content: \"▸\";float: left;margin-right: 0.25em;color: #696969;}#sk-container-id-1 label.sk-toggleable__label-arrow:hover:before {color: black;}#sk-container-id-1 div.sk-estimator:hover label.sk-toggleable__label-arrow:before {color: black;}#sk-container-id-1 div.sk-toggleable__content {max-height: 0;max-width: 0;overflow: hidden;text-align: left;background-color: #f0f8ff;}#sk-container-id-1 div.sk-toggleable__content pre {margin: 0.2em;color: black;border-radius: 0.25em;background-color: #f0f8ff;}#sk-container-id-1 input.sk-toggleable__control:checked~div.sk-toggleable__content {max-height: 200px;max-width: 100%;overflow: auto;}#sk-container-id-1 input.sk-toggleable__control:checked~label.sk-toggleable__label-arrow:before {content: \"▾\";}#sk-container-id-1 div.sk-estimator input.sk-toggleable__control:checked~label.sk-toggleable__label {background-color: #d4ebff;}#sk-container-id-1 div.sk-label input.sk-toggleable__control:checked~label.sk-toggleable__label {background-color: #d4ebff;}#sk-container-id-1 input.sk-hidden--visually {border: 0;clip: rect(1px 1px 1px 1px);clip: rect(1px, 1px, 1px, 1px);height: 1px;margin: -1px;overflow: hidden;padding: 0;position: absolute;width: 1px;}#sk-container-id-1 div.sk-estimator {font-family: monospace;background-color: #f0f8ff;border: 1px dotted black;border-radius: 0.25em;box-sizing: border-box;margin-bottom: 0.5em;}#sk-container-id-1 div.sk-estimator:hover {background-color: #d4ebff;}#sk-container-id-1 div.sk-parallel-item::after {content: \"\";width: 100%;border-bottom: 1px solid gray;flex-grow: 1;}#sk-container-id-1 div.sk-label:hover label.sk-toggleable__label {background-color: #d4ebff;}#sk-container-id-1 div.sk-serial::before {content: \"\";position: absolute;border-left: 1px solid gray;box-sizing: border-box;top: 0;bottom: 0;left: 50%;z-index: 0;}#sk-container-id-1 div.sk-serial {display: flex;flex-direction: column;align-items: center;background-color: white;padding-right: 0.2em;padding-left: 0.2em;position: relative;}#sk-container-id-1 div.sk-item {position: relative;z-index: 1;}#sk-container-id-1 div.sk-parallel {display: flex;align-items: stretch;justify-content: center;background-color: white;position: relative;}#sk-container-id-1 div.sk-item::before, #sk-container-id-1 div.sk-parallel-item::before {content: \"\";position: absolute;border-left: 1px solid gray;box-sizing: border-box;top: 0;bottom: 0;left: 50%;z-index: -1;}#sk-container-id-1 div.sk-parallel-item {display: flex;flex-direction: column;z-index: 1;position: relative;background-color: white;}#sk-container-id-1 div.sk-parallel-item:first-child::after {align-self: flex-end;width: 50%;}#sk-container-id-1 div.sk-parallel-item:last-child::after {align-self: flex-start;width: 50%;}#sk-container-id-1 div.sk-parallel-item:only-child::after {width: 0;}#sk-container-id-1 div.sk-dashed-wrapped {border: 1px dashed gray;margin: 0 0.4em 0.5em 0.4em;box-sizing: border-box;padding-bottom: 0.4em;background-color: white;}#sk-container-id-1 div.sk-label label {font-family: monospace;font-weight: bold;display: inline-block;line-height: 1.2em;}#sk-container-id-1 div.sk-label-container {text-align: center;}#sk-container-id-1 div.sk-container {/* jupyter's `normalize.less` sets `[hidden] { display: none; }` but bootstrap.min.css set `[hidden] { display: none !important; }` so we also need the `!important` here to be able to override the default hidden behavior on the sphinx rendered scikit-learn.org. See: https://github.com/scikit-learn/scikit-learn/issues/21755 */display: inline-block !important;position: relative;}#sk-container-id-1 div.sk-text-repr-fallback {display: none;}</style><div id=\"sk-container-id-1\" class=\"sk-top-container\"><div class=\"sk-text-repr-fallback\"><pre>XGBClassifier(base_score=None, booster=None, callbacks=None,\n",
       "              colsample_bylevel=None, colsample_bynode=None,\n",
       "              colsample_bytree=None, early_stopping_rounds=10,\n",
       "              enable_categorical=False, eval_metric=[&#x27;error&#x27;, &#x27;logloss&#x27;, &#x27;auc&#x27;],\n",
       "              feature_types=None, gamma=None, gpu_id=None, grow_policy=None,\n",
       "              importance_type=None, interaction_constraints=None,\n",
       "              learning_rate=None, max_bin=None, max_cat_threshold=None,\n",
       "              max_cat_to_onehot=None, max_delta_step=None, max_depth=None,\n",
       "              max_leaves=None, min_child_weight=None, missing=nan,\n",
       "              monotone_constraints=None, n_estimators=100, n_jobs=None,\n",
       "              num_parallel_tree=None, predictor=None, random_state=None, ...)</pre><b>In a Jupyter environment, please rerun this cell to show the HTML representation or trust the notebook. <br />On GitHub, the HTML representation is unable to render, please try loading this page with nbviewer.org.</b></div><div class=\"sk-container\" hidden><div class=\"sk-item\"><div class=\"sk-estimator sk-toggleable\"><input class=\"sk-toggleable__control sk-hidden--visually\" id=\"sk-estimator-id-1\" type=\"checkbox\" checked><label for=\"sk-estimator-id-1\" class=\"sk-toggleable__label sk-toggleable__label-arrow\">XGBClassifier</label><div class=\"sk-toggleable__content\"><pre>XGBClassifier(base_score=None, booster=None, callbacks=None,\n",
       "              colsample_bylevel=None, colsample_bynode=None,\n",
       "              colsample_bytree=None, early_stopping_rounds=10,\n",
       "              enable_categorical=False, eval_metric=[&#x27;error&#x27;, &#x27;logloss&#x27;, &#x27;auc&#x27;],\n",
       "              feature_types=None, gamma=None, gpu_id=None, grow_policy=None,\n",
       "              importance_type=None, interaction_constraints=None,\n",
       "              learning_rate=None, max_bin=None, max_cat_threshold=None,\n",
       "              max_cat_to_onehot=None, max_delta_step=None, max_depth=None,\n",
       "              max_leaves=None, min_child_weight=None, missing=nan,\n",
       "              monotone_constraints=None, n_estimators=100, n_jobs=None,\n",
       "              num_parallel_tree=None, predictor=None, random_state=None, ...)</pre></div></div></div></div></div>"
      ],
      "text/plain": [
       "XGBClassifier(base_score=None, booster=None, callbacks=None,\n",
       "              colsample_bylevel=None, colsample_bynode=None,\n",
       "              colsample_bytree=None, early_stopping_rounds=10,\n",
       "              enable_categorical=False, eval_metric=['error', 'logloss', 'auc'],\n",
       "              feature_types=None, gamma=None, gpu_id=None, grow_policy=None,\n",
       "              importance_type=None, interaction_constraints=None,\n",
       "              learning_rate=None, max_bin=None, max_cat_threshold=None,\n",
       "              max_cat_to_onehot=None, max_delta_step=None, max_depth=None,\n",
       "              max_leaves=None, min_child_weight=None, missing=nan,\n",
       "              monotone_constraints=None, n_estimators=100, n_jobs=None,\n",
       "              num_parallel_tree=None, predictor=None, random_state=None, ...)"
      ]
     },
     "execution_count": 5,
     "metadata": {},
     "output_type": "execute_result"
    }
   ],
   "source": [
    "x_train = train_df.drop(demo_dataset.target_column, axis=1)\n",
    "y_train = train_df[demo_dataset.target_column]\n",
    "x_val = validation_df.drop(demo_dataset.target_column, axis=1)\n",
    "y_val = validation_df[demo_dataset.target_column]\n",
    "\n",
    "model = xgb.XGBClassifier(early_stopping_rounds=10)\n",
    "model.set_params(\n",
    "    eval_metric=[\"error\", \"logloss\", \"auc\"],\n",
    ")\n",
    "model.fit(\n",
    "    x_train,\n",
    "    y_train,\n",
    "    eval_set=[(x_val, y_val)],\n",
    "    verbose=False,\n",
    ")"
   ]
  },
  {
   "attachments": {},
   "cell_type": "markdown",
   "metadata": {},
   "source": [
    "## Import and Run the Individual Test Plan\n",
    "\n",
    "### Initialize ValidMind objects\n",
    "\n",
    "We initize the objects required to run test plans using the ValidMind framework "
   ]
  },
  {
   "cell_type": "code",
   "execution_count": 6,
   "metadata": {},
   "outputs": [
    {
     "name": "stdout",
     "output_type": "stream",
     "text": [
      "Pandas dataset detected. Initializing VM Dataset instance...\n",
      "Inferring dataset types...\n",
      "Pandas dataset detected. Initializing VM Dataset instance...\n",
      "Inferring dataset types...\n"
     ]
    }
   ],
   "source": [
    "vm_train_ds = vm.init_dataset(\n",
    "    dataset=train_df,\n",
    "    type=\"generic\",\n",
    "    target_column=demo_dataset.target_column\n",
    ")\n",
    "\n",
    "vm_test_ds = vm.init_dataset(\n",
    "    dataset=test_df,\n",
    "    type=\"generic\",\n",
    "    target_column=demo_dataset.target_column\n",
    ")\n",
    "\n",
    "vm_model = vm.init_model(\n",
    "    model,\n",
    "    train_ds=vm_train_ds,\n",
    "    test_ds=vm_test_ds,\n",
    ")"
   ]
  },
  {
   "attachments": {},
   "cell_type": "markdown",
   "metadata": {},
   "source": [
    "### List of available Test Plans\n",
    "The interface to show list of test plans available in the ValidMind development framework"
   ]
  },
  {
   "cell_type": "code",
   "execution_count": 7,
   "metadata": {},
   "outputs": [
    {
     "data": {
      "text/html": [
       "<style type=\"text/css\">\n",
       "</style>\n",
       "<table id=\"T_1e917\">\n",
       "  <thead>\n",
       "    <tr>\n",
       "      <th id=\"T_1e917_level0_col0\" class=\"col_heading level0 col0\" >ID</th>\n",
       "      <th id=\"T_1e917_level0_col1\" class=\"col_heading level0 col1\" >Name</th>\n",
       "      <th id=\"T_1e917_level0_col2\" class=\"col_heading level0 col2\" >Description</th>\n",
       "    </tr>\n",
       "  </thead>\n",
       "  <tbody>\n",
       "    <tr>\n",
       "      <td id=\"T_1e917_row0_col0\" class=\"data row0 col0\" >binary_classifier_metrics</td>\n",
       "      <td id=\"T_1e917_row0_col1\" class=\"data row0 col1\" >BinaryClassifierMetrics</td>\n",
       "      <td id=\"T_1e917_row0_col2\" class=\"data row0 col2\" >Test plan for sklearn classifier metrics</td>\n",
       "    </tr>\n",
       "    <tr>\n",
       "      <td id=\"T_1e917_row1_col0\" class=\"data row1 col0\" >binary_classifier_validation</td>\n",
       "      <td id=\"T_1e917_row1_col1\" class=\"data row1 col1\" >BinaryClassifierPerformance</td>\n",
       "      <td id=\"T_1e917_row1_col2\" class=\"data row1 col2\" >Test plan for sklearn classifier models</td>\n",
       "    </tr>\n",
       "    <tr>\n",
       "      <td id=\"T_1e917_row2_col0\" class=\"data row2 col0\" >binary_classifier_model_diagnosis</td>\n",
       "      <td id=\"T_1e917_row2_col1\" class=\"data row2 col1\" >BinaryClassifierDiagnosis</td>\n",
       "      <td id=\"T_1e917_row2_col2\" class=\"data row2 col2\" >Test plan for sklearn classifier model diagnosis tests</td>\n",
       "    </tr>\n",
       "    <tr>\n",
       "      <td id=\"T_1e917_row3_col0\" class=\"data row3 col0\" >tabular_dataset_description</td>\n",
       "      <td id=\"T_1e917_row3_col1\" class=\"data row3 col1\" >TabularDatasetDescription</td>\n",
       "      <td id=\"T_1e917_row3_col2\" class=\"data row3 col2\" >Test plan to extract metadata and descriptive\n",
       "    statistics from a tabular dataset</td>\n",
       "    </tr>\n",
       "    <tr>\n",
       "      <td id=\"T_1e917_row4_col0\" class=\"data row4 col0\" >tabular_data_quality</td>\n",
       "      <td id=\"T_1e917_row4_col1\" class=\"data row4 col1\" >TabularDataQuality</td>\n",
       "      <td id=\"T_1e917_row4_col2\" class=\"data row4 col2\" >Test plan for data quality on tabular datasets</td>\n",
       "    </tr>\n",
       "    <tr>\n",
       "      <td id=\"T_1e917_row5_col0\" class=\"data row5 col0\" >time_series_data_quality</td>\n",
       "      <td id=\"T_1e917_row5_col1\" class=\"data row5 col1\" >TimeSeriesDataQuality</td>\n",
       "      <td id=\"T_1e917_row5_col2\" class=\"data row5 col2\" >Test plan for data quality on time series datasets</td>\n",
       "    </tr>\n",
       "    <tr>\n",
       "      <td id=\"T_1e917_row6_col0\" class=\"data row6 col0\" >time_series_univariate</td>\n",
       "      <td id=\"T_1e917_row6_col1\" class=\"data row6 col1\" >TimeSeriesUnivariate</td>\n",
       "      <td id=\"T_1e917_row6_col2\" class=\"data row6 col2\" >Test plan to perform time series univariate analysis.</td>\n",
       "    </tr>\n",
       "    <tr>\n",
       "      <td id=\"T_1e917_row7_col0\" class=\"data row7 col0\" >time_series_multivariate</td>\n",
       "      <td id=\"T_1e917_row7_col1\" class=\"data row7 col1\" >TimeSeriesMultivariate</td>\n",
       "      <td id=\"T_1e917_row7_col2\" class=\"data row7 col2\" >Test plan to perform time series multivariate analysis.</td>\n",
       "    </tr>\n",
       "    <tr>\n",
       "      <td id=\"T_1e917_row8_col0\" class=\"data row8 col0\" >time_series_forecast</td>\n",
       "      <td id=\"T_1e917_row8_col1\" class=\"data row8 col1\" >TimeSeriesForecast</td>\n",
       "      <td id=\"T_1e917_row8_col2\" class=\"data row8 col2\" >Test plan to perform time series forecast tests.</td>\n",
       "    </tr>\n",
       "    <tr>\n",
       "      <td id=\"T_1e917_row9_col0\" class=\"data row9 col0\" >regression_model_description</td>\n",
       "      <td id=\"T_1e917_row9_col1\" class=\"data row9 col1\" >RegressionModelDescription</td>\n",
       "      <td id=\"T_1e917_row9_col2\" class=\"data row9 col2\" >Test plan for performance metric of regression model of statsmodels library</td>\n",
       "    </tr>\n",
       "    <tr>\n",
       "      <td id=\"T_1e917_row10_col0\" class=\"data row10 col0\" >regression_models_evaluation</td>\n",
       "      <td id=\"T_1e917_row10_col1\" class=\"data row10 col1\" >RegressionModelsEvaluation</td>\n",
       "      <td id=\"T_1e917_row10_col2\" class=\"data row10 col2\" >Test plan for metrics comparison of regression model of statsmodels library</td>\n",
       "    </tr>\n",
       "  </tbody>\n",
       "</table>\n"
      ],
      "text/plain": [
       "<pandas.io.formats.style.Styler at 0x17f5df430>"
      ]
     },
     "execution_count": 7,
     "metadata": {},
     "output_type": "execute_result"
    }
   ],
   "source": [
    "vm.test_plans.list_plans()"
   ]
  },
  {
   "attachments": {},
   "cell_type": "markdown",
   "metadata": {},
   "source": [
    "\n",
    "### Detail of an individual Test Plan\n",
    "The interface will get detail of a specific test plan"
   ]
  },
  {
   "cell_type": "code",
   "execution_count": 8,
   "metadata": {},
   "outputs": [
    {
     "data": {
      "text/html": [
       "<style type=\"text/css\">\n",
       "</style>\n",
       "<table id=\"T_39a65\">\n",
       "  <thead>\n",
       "    <tr>\n",
       "      <th id=\"T_39a65_level0_col0\" class=\"col_heading level0 col0\" >ID</th>\n",
       "      <th id=\"T_39a65_level0_col1\" class=\"col_heading level0 col1\" >Name</th>\n",
       "      <th id=\"T_39a65_level0_col2\" class=\"col_heading level0 col2\" >Description</th>\n",
       "      <th id=\"T_39a65_level0_col3\" class=\"col_heading level0 col3\" >Required Context</th>\n",
       "      <th id=\"T_39a65_level0_col4\" class=\"col_heading level0 col4\" >Tests</th>\n",
       "    </tr>\n",
       "  </thead>\n",
       "  <tbody>\n",
       "    <tr>\n",
       "      <td id=\"T_39a65_row0_col0\" class=\"data row0 col0\" >binary_classifier_model_diagnosis</td>\n",
       "      <td id=\"T_39a65_row0_col1\" class=\"data row0 col1\" >BinaryClassifierDiagnosis</td>\n",
       "      <td id=\"T_39a65_row0_col2\" class=\"data row0 col2\" >Test plan for sklearn classifier model diagnosis tests</td>\n",
       "      <td id=\"T_39a65_row0_col3\" class=\"data row0 col3\" >model</td>\n",
       "      <td id=\"T_39a65_row0_col4\" class=\"data row0 col4\" >OverfitDiagnosis (ThresholdTest), WeakspotsDiagnosis (ThresholdTest), RobustnessDiagnosis (ThresholdTest)</td>\n",
       "    </tr>\n",
       "  </tbody>\n",
       "</table>\n"
      ],
      "text/plain": [
       "<pandas.io.formats.style.Styler at 0x2ad0b8850>"
      ]
     },
     "execution_count": 8,
     "metadata": {},
     "output_type": "execute_result"
    }
   ],
   "source": [
    "vm.test_plans.describe_plan(\"binary_classifier_model_diagnosis\")"
   ]
  },
  {
   "attachments": {},
   "cell_type": "markdown",
   "metadata": {},
   "source": [
    "### Define the required config parameters\n",
    "The config can be apply to specific test to override the default configuration parameters.\n",
    "\n",
    "The format of a config is:\n",
    "```\n",
    "config = {\n",
    "    \"<test1_id>\": {\n",
    "        \"<default_param_1>\": value,\n",
    "        \"<default_param_2>\": value,\n",
    "    },\n",
    "     \"<test2_id>\": {\n",
    "        \"<default_param_1>\": value,\n",
    "        \"<default_param_2>\": value,\n",
    "    },\n",
    "}\n",
    "```\n",
    "\n",
    "Users can input the configuration to test plan using **`config`**, allowing fine-tuning the suite according to their specific data requirements. "
   ]
  },
  {
   "cell_type": "code",
   "execution_count": 9,
   "metadata": {},
   "outputs": [],
   "source": [
    "config={\n",
    "    \"overfit_regions\": {\n",
    "        \"cut_off_percentage\": 3,\n",
    "        \"feature_columns\": [\"Age\", \"Balance\", \"Tenure\", \"NumOfProducts\"]\n",
    "    },\n",
    "    \"weak_spots\":{\n",
    "        \"features_columns\": [\"Age\", \"Balance\"],\n",
    "        \"accuracy_gap_threshold\": 85,\n",
    "    },\n",
    "    \"robustness\":{\n",
    "        \"features_columns\": [ \"Balance\", \"Tenure\"],\n",
    "        \"scaling_factor_std_dev_list\": [0.0, 0.1, 0.2, 0.3, 0.4, 0.5],\n",
    "        \"accuracy_decay_threshold\": 4,\n",
    "    }\n",
    "}"
   ]
  },
  {
   "attachments": {},
   "cell_type": "markdown",
   "metadata": {},
   "source": [
    "### Run the test plan and display results"
   ]
  },
  {
   "cell_type": "code",
   "execution_count": 10,
   "metadata": {},
   "outputs": [
    {
     "data": {
      "application/vnd.jupyter.widget-view+json": {
       "model_id": "d7a302d908054f5c98b7730399318e38",
       "version_major": 2,
       "version_minor": 0
      },
      "text/plain": [
       "HBox(children=(Label(value='Running test plan...'), IntProgress(value=0, max=6)))"
      ]
     },
     "metadata": {},
     "output_type": "display_data"
    },
    {
     "data": {
      "application/vnd.jupyter.widget-view+json": {
       "model_id": "5bf293147215409ab4f1cd867d80acb5",
       "version_major": 2,
       "version_minor": 0
      },
      "text/plain": [
       "VBox(children=(HTML(value='<h2>Results for <i>Binary Classifier Model Diagnosis</i> Test Plan:</h2><hr>'), HTM…"
      ]
     },
     "metadata": {},
     "output_type": "display_data"
    }
   ],
   "source": [
    "model_diagnosis_test_plan = vm.run_test_plan(\"binary_classifier_model_diagnosis\", \n",
    "                                             model=vm_model,\n",
    "                                             config=config)"
   ]
  },
  {
   "attachments": {},
   "cell_type": "markdown",
   "metadata": {},
   "source": [
    "### Accessing the test plan results"
   ]
  },
  {
   "attachments": {},
   "cell_type": "markdown",
   "metadata": {},
   "source": [
    "We can now access all the results of the test plan, including subtest plans using `test_plan.get_results()`.\n",
    "\n",
    "- `test_plan.get_results()`: With no arguments, this returns a list of all results\n",
    "- `test_plan.get_results(test_id)`: If provided with a test id, this returns the all results that match the given test id\n",
    "\n",
    "By default, get_results() returns a list, in case there are multiple tests with the same id."
   ]
  },
  {
   "cell_type": "code",
   "execution_count": 11,
   "metadata": {},
   "outputs": [
    {
     "data": {
      "text/plain": [
       "[TestPlanTestResult(result_id=\"overfit_regions\", test_results),\n",
       " TestPlanTestResult(result_id=\"weak_spots\", test_results),\n",
       " TestPlanTestResult(result_id=\"robustness\", test_results)]"
      ]
     },
     "execution_count": 11,
     "metadata": {},
     "output_type": "execute_result"
    }
   ],
   "source": [
    "model_diagnosis_test_plan.get_results()"
   ]
  },
  {
   "cell_type": "code",
   "execution_count": 12,
   "metadata": {},
   "outputs": [
    {
     "data": {
      "application/vnd.jupyter.widget-view+json": {
       "model_id": "9973711aad6a4c738c45d13dc8d1a534",
       "version_major": 2,
       "version_minor": 0
      },
      "text/plain": [
       "VBox(children=(HTML(value='\\n            <h2>Robustness ✅</h2>\\n            <p>The robustness of a machine lea…"
      ]
     },
     "metadata": {},
     "output_type": "display_data"
    }
   ],
   "source": [
    "model_robustness = model_diagnosis_test_plan.get_results(\"robustness\")[0]\n",
    "model_robustness.show()"
   ]
  }
 ],
 "metadata": {
  "kernelspec": {
   "display_name": "dev-framework",
   "language": "python",
   "name": "dev-framework"
  },
  "language_info": {
   "codemirror_mode": {
    "name": "ipython",
    "version": 3
   },
   "file_extension": ".py",
   "mimetype": "text/x-python",
   "name": "python",
   "nbconvert_exporter": "python",
   "pygments_lexer": "ipython3",
   "version": "3.9.6"
  },
  "orig_nbformat": 4
 },
 "nbformat": 4,
 "nbformat_minor": 2
}
