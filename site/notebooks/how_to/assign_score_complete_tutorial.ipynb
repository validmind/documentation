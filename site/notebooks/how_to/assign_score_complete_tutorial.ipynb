{
  "cells": [
    {
      "cell_type": "markdown",
      "metadata": {
        "vscode": {
          "languageId": "raw"
        }
      },
      "source": [
        "# Intro to Assign Scores\n"
      ]
    },
    {
      "cell_type": "markdown",
      "metadata": {
        "vscode": {
          "languageId": "raw"
        }
      },
      "source": [
        "The `assign_scores()` method is a powerful feature that allows you to compute and add unit metric scores as new columns in your dataset. This method takes a model and metric(s) as input, computes the specified metrics from the ValidMind unit_metrics library, and adds them as new columns. The computed metrics can be scalar values that apply to the entire dataset or per-row values, providing flexibility in how performance is measured and tracked.\n",
        "\n",
        "In this interactive notebook, we demonstrate how to use the `assign_scores()` method effectively. We'll walk through a complete example using a customer churn dataset, showing how to compute and assign both dataset-level metrics (like overall F1 score) and row-level metrics (like prediction probabilities). You'll learn how to work with single and multiple unit metrics, pass custom parameters, and handle different metric types - all while maintaining a clean, organized dataset structure. Currently, assign_scores() supports all metrics available in the validmind.unit_metrics module.\n",
        "\n",
        "**The Power of Integrated Scoring**\n",
        "\n",
        "Traditional model evaluation workflows often involve computing metrics separately from your core dataset, leading to fragmented analysis and potential data misalignment. The `assign_scores()` method addresses this challenge by:\n",
        "\n",
        "- **Seamless Integration**: Directly embedding computed metrics as dataset columns using a consistent naming convention\n",
        "- **Enhanced Traceability**: Maintaining clear links between model predictions and performance metrics\n",
        "- **Simplified Analysis**: Enabling straightforward comparison of metrics across different models and datasets\n",
        "- **Standardized Workflow**: Providing a unified approach to metric computation and storage\n",
        "\n",
        "**Understanding assign_scores()**\n",
        "\n",
        "The `assign_scores()` method computes unit metrics for a given model-dataset combination and adds the results as new columns to your dataset. Each new column follows the naming convention: `{model.input_id}_{metric_name}`, ensuring clear identification of which model and metric combination generated each score.\n",
        "\n",
        "Key features:\n",
        "\n",
        "- **Flexible Input**: Accepts single metrics or lists of metrics\n",
        "- **Parameter Support**: Allows passing additional parameters to underlying metric implementations\n",
        "- **Multi-Model Support**: Can assign scores from multiple models to the same dataset\n",
        "- **Type Agnostic**: Works with classification, regression, and other model types\n",
        "\n",
        "This approach streamlines your model evaluation workflow, making performance metrics an integral part of your dataset rather than external calculations.\n"
      ]
    },
    {
      "cell_type": "markdown",
      "metadata": {
        "vscode": {
          "languageId": "raw"
        }
      },
      "source": [
        "## Contents    \n",
        "- [About ValidMind](#toc1_)    \n",
        "  - [Before you begin](#toc1_1_)    \n",
        "  - [New to ValidMind?](#toc1_2_)    \n",
        "- [Install the ValidMind Library](#toc2_)    \n",
        "- [Initialize the ValidMind Library](#toc3_)    \n",
        "  - [Get your code snippet](#toc3_1_)   \n",
        "- [Load the demo dataset](#toc4_)    \n",
        "- [Train models for testing](#toc5_)    \n",
        "- [Initialize ValidMind objects](#toc6_)    \n",
        "- [Assign predictions](#toc7_)    \n",
        "- [Using assign_scores()](#toc8_)    \n",
        "  - [Basic Usage](#toc8_1_)    \n",
        "  - [Single Metric Assignment](#toc8_2_)    \n",
        "  - [Multiple Metrics Assignment](#toc8_3_)    \n",
        "  - [Passing Parameters to Metrics](#toc8_4_)    \n",
        "  - [Working with Different Metric Types](#toc8_5_)    \n",
        "- [Advanced assign_scores() Usage](#toc9_)    \n",
        "  - [Multi-Model Scoring](#toc9_1_)    \n",
        "  - [Individual Metrics](#toc9_2_)      \n",
        "- [Next steps](#toc12_)    \n",
        "  - [Work with your model documentation](#toc12_1_)    \n",
        "  - [Discover more learning resources](#toc12_2_)    \n",
        "- [Upgrade ValidMind](#toc13_)    \n",
        "\n",
        "<!-- vscode-jupyter-toc-config\n",
        "\tnumbering=false\n",
        "\tanchor=true\n",
        "\tflat=false\n",
        "\tminLevel=2\n",
        "\tmaxLevel=4\n",
        "\t/vscode-jupyter-toc-config -->\n",
        "<!-- THIS CELL WILL BE REPLACED ON TOC UPDATE. DO NOT WRITE YOUR TEXT IN THIS CELL -->\n"
      ]
    },
    {
      "cell_type": "markdown",
      "metadata": {
        "vscode": {
          "languageId": "raw"
        }
      },
      "source": [
        "\n",
        "<a id='toc1_'></a>\n",
        "\n",
        "## About ValidMind \n",
        "\n",
        "ValidMind is a suite of tools for managing model risk, including risk associated with AI and statistical models.\n",
        "\n",
        "You use the ValidMind Library to automate documentation and validation tests, and then use the ValidMind Platform to collaborate on model documentation. Together, these products simplify model risk management, facilitate compliance with regulations and institutional standards, and enhance collaboration between yourself and model validators.\n",
        "\n",
        "<a id='toc1_1_'></a>\n",
        "\n",
        "### Before you begin \n",
        "\n",
        "This notebook assumes you have basic familiarity with Python, including an understanding of how functions work. If you are new to Python, you can still run the notebook but we recommend further familiarizing yourself with the language. \n",
        "\n",
        "If you encounter errors due to missing modules in your Python environment, install the modules with `pip install`, and then re-run the notebook. For more help, refer to [Installing Python Modules](https://docs.python.org/3/installing/index.html).\n",
        "\n",
        "\n",
        "\n",
        "<a id='toc1_2_'></a>\n",
        "\n",
        "### New to ValidMind? \n",
        "\n",
        "If you haven't already seen our documentation on the [ValidMind Library](https://docs.validmind.ai/developer/validmind-library.html), we recommend you begin by exploring the available resources in this section. There, you can learn more about documenting models and running tests, as well as find code samples and our Python Library API reference.\n",
        "\n",
        "<div class=\"alert alert-block alert-info\" style=\"background-color: #B5B5B510; color: black; border: 1px solid #083E44; border-left-width: 5px; box-shadow: 2px 2px 4px rgba(0, 0, 0, 0.2);border-radius: 5px;\"><span style=\"color: #083E44;\"><b>For access to all features available in this notebook, you'll need access to a ValidMind account.</b></span>\n",
        "<br></br>\n",
        "<a href=\"https://docs.validmind.ai/guide/configuration/register-with-validmind.html\" style=\"color: #DE257E;\"><b>Register with ValidMind</b></a></div>\n"
      ]
    },
    {
      "cell_type": "markdown",
      "metadata": {
        "vscode": {
          "languageId": "raw"
        }
      },
      "source": [
        "<a id='toc2_'></a>\n",
        "\n",
        "## Install the ValidMind Library\n",
        "\n",
        "To install the library:\n"
      ]
    },
    {
      "cell_type": "code",
      "execution_count": null,
      "metadata": {},
      "outputs": [],
      "source": [
        "%pip install -q validmind\n"
      ]
    },
    {
      "cell_type": "markdown",
      "metadata": {
        "vscode": {
          "languageId": "raw"
        }
      },
      "source": [
        "<a id='toc3_'></a>\n",
        "\n",
        "## Initialize the ValidMind Library \n",
        "\n",
        "ValidMind generates a unique _code snippet_ for each registered model to connect with your developer environment. You initialize the ValidMind Library with this code snippet, which ensures that your documentation and tests are uploaded to the correct model when you run the notebook.\n",
        "\n",
        "<a id='toc3_1_'></a>\n",
        "\n",
        "### Get your code snippet\n",
        "\n",
        "1. In a browser, [log in to ValidMind](https://docs.validmind.ai/guide/configuration/log-in-to-validmind.html).\n",
        "\n",
        "2. In the left sidebar, navigate to **Model Inventory** and click **+ Register Model**.\n",
        "\n",
        "3. Enter the model details and click **Continue**. ([Need more help?](https://docs.validmind.ai/guide/model-inventory/register-models-in-inventory.html))\n",
        "\n",
        "   For example, to register a model for use with this notebook, select:\n",
        "\n",
        "   - Documentation template: `Binary classification`\n",
        "   - Use case: `Marketing/Sales - Analytics`\n",
        "\n",
        "   You can fill in other options according to your preference.\n",
        "\n",
        "4. Go to **Getting Started** and click **Copy snippet to clipboard**.\n",
        "\n",
        "Next, [load your model identifier credentials from an `.env` file](https://docs.validmind.ai/developer/model-documentation/store-credentials-in-env-file.html) or replace the placeholder with your own code snippet:\n"
      ]
    },
    {
      "cell_type": "code",
      "execution_count": null,
      "metadata": {},
      "outputs": [],
      "source": [
        "# Load your model identifier credentials from an `.env` file\n",
        "\n",
        "%load_ext dotenv\n",
        "%dotenv .env\n",
        "\n",
        "# Or replace with your code snippet\n",
        "\n",
        "import validmind as vm\n",
        "\n",
        "vm.init(\n",
        "    # api_host=\"...\",\n",
        "    # api_key=\"...\",\n",
        "    # api_secret=\"...\",\n",
        "    # model=\"...\",\n",
        ")\n"
      ]
    },
    {
      "cell_type": "markdown",
      "metadata": {
        "vscode": {
          "languageId": "raw"
        }
      },
      "source": [
        "<a id='toc4_'></a>\n",
        "\n",
        "## Load the demo dataset \n",
        "\n",
        "In this example, we load a demo dataset to demonstrate the assign_scores functionality with customer churn prediction models.\n"
      ]
    },
    {
      "cell_type": "code",
      "execution_count": null,
      "metadata": {},
      "outputs": [],
      "source": [
        "from validmind.datasets.classification import customer_churn as demo_dataset\n",
        "\n",
        "print(\n",
        "    f\"Loaded demo dataset with: \\n\\n\\t• Target column: '{demo_dataset.target_column}' \\n\\t• Class labels: {demo_dataset.class_labels}\"\n",
        ")\n",
        "\n",
        "raw_df = demo_dataset.load_data()\n",
        "raw_df.head()\n"
      ]
    },
    {
      "cell_type": "markdown",
      "metadata": {
        "vscode": {
          "languageId": "raw"
        }
      },
      "source": [
        "<a id='toc5_'></a>\n",
        "\n",
        "## Train models for testing \n",
        "\n",
        "We'll train two different customer churn models to demonstrate the assign_scores functionality with multiple models.\n"
      ]
    },
    {
      "cell_type": "code",
      "execution_count": null,
      "metadata": {},
      "outputs": [],
      "source": [
        "import xgboost as xgb\n",
        "from sklearn.ensemble import RandomForestClassifier\n",
        "\n",
        "# Preprocess the data\n",
        "train_df, validation_df, test_df = demo_dataset.preprocess(raw_df)\n",
        "\n",
        "# Prepare training data\n",
        "x_train = train_df.drop(demo_dataset.target_column, axis=1)\n",
        "y_train = train_df[demo_dataset.target_column]\n",
        "x_val = validation_df.drop(demo_dataset.target_column, axis=1)\n",
        "y_val = validation_df[demo_dataset.target_column]\n",
        "\n",
        "# Train XGBoost model\n",
        "xgb_model = xgb.XGBClassifier(early_stopping_rounds=10, random_state=42)\n",
        "xgb_model.set_params(\n",
        "    eval_metric=[\"error\", \"logloss\", \"auc\"],\n",
        ")\n",
        "xgb_model.fit(\n",
        "    x_train,\n",
        "    y_train,\n",
        "    eval_set=[(x_val, y_val)],\n",
        "    verbose=False,\n",
        ")\n",
        "\n",
        "# Train Random Forest model\n",
        "rf_model = RandomForestClassifier(n_estimators=100, random_state=42)\n",
        "rf_model.fit(x_train, y_train)\n",
        "\n",
        "print(\"Models trained successfully!\")\n",
        "print(f\"XGBoost training accuracy: {xgb_model.score(x_train, y_train):.3f}\")\n",
        "print(f\"Random Forest training accuracy: {rf_model.score(x_train, y_train):.3f}\")\n"
      ]
    },
    {
      "cell_type": "markdown",
      "metadata": {
        "vscode": {
          "languageId": "raw"
        }
      },
      "source": [
        "<a id='toc6_'></a>\n",
        "\n",
        "## Initialize ValidMind objects \n",
        "\n",
        "We initialize ValidMind `dataset` and `model` objects. The `input_id` parameter is crucial for the assign_scores functionality as it determines the column naming convention for assigned scores.\n"
      ]
    },
    {
      "cell_type": "code",
      "execution_count": null,
      "metadata": {},
      "outputs": [],
      "source": [
        "# Initialize datasets\n",
        "vm_train_ds = vm.init_dataset(\n",
        "    input_id=\"train_dataset\",\n",
        "    dataset=train_df,\n",
        "    target_column=demo_dataset.target_column,\n",
        ")\n",
        "vm_test_ds = vm.init_dataset(\n",
        "    input_id=\"test_dataset\",\n",
        "    dataset=test_df,\n",
        "    target_column=demo_dataset.target_column,\n",
        ")\n",
        "\n",
        "# Initialize models with descriptive input_ids\n",
        "vm_xgb_model = vm.init_model(model=xgb_model, input_id=\"xgboost_model\")\n",
        "vm_rf_model = vm.init_model(model=rf_model, input_id=\"random_forest_model\")\n",
        "\n",
        "print(\"ValidMind objects initialized successfully!\")\n",
        "print(f\"XGBoost model ID: {vm_xgb_model.input_id}\")\n",
        "print(f\"Random Forest model ID: {vm_rf_model.input_id}\")\n"
      ]
    },
    {
      "cell_type": "markdown",
      "metadata": {
        "vscode": {
          "languageId": "raw"
        }
      },
      "source": [
        "<a id='toc7_'></a>\n",
        "\n",
        "## Assign predictions \n",
        "\n",
        "Before we can use assign_scores(), we need to assign predictions to our datasets. This step is essential as many unit metrics require both actual and predicted values.\n"
      ]
    },
    {
      "cell_type": "code",
      "execution_count": null,
      "metadata": {},
      "outputs": [],
      "source": [
        "# Assign predictions for both models to both datasets\n",
        "vm_train_ds.assign_predictions(model=vm_xgb_model)\n",
        "vm_train_ds.assign_predictions(model=vm_rf_model)\n",
        "\n",
        "vm_test_ds.assign_predictions(model=vm_xgb_model)\n",
        "vm_test_ds.assign_predictions(model=vm_rf_model)\n",
        "\n",
        "print(\"Predictions assigned successfully!\")\n",
        "print(f\"Test dataset now has {len(vm_test_ds.df.columns)} columns\")\n"
      ]
    },
    {
      "cell_type": "markdown",
      "metadata": {
        "vscode": {
          "languageId": "raw"
        }
      },
      "source": [
        "<a id='toc8_'></a>\n",
        "\n",
        "## Using assign_scores()\n",
        "\n",
        "Now we'll explore the various ways to use the assign_scores() method to integrate performance metrics directly into your dataset.\n"
      ]
    },
    {
      "cell_type": "markdown",
      "metadata": {
        "vscode": {
          "languageId": "raw"
        }
      },
      "source": [
        "<a id='toc8_1_'></a>\n",
        "\n",
        "### Basic Usage\n",
        "\n",
        "The assign_scores() method has a simple interface:\n",
        "\n",
        "```python\n",
        "dataset.assign_scores(model, metrics, **kwargs)\n",
        "```\n",
        "\n",
        "- **model**: A ValidMind model object\n",
        "- **metrics**: Single metric ID or list of metric IDs (can use short names or full IDs)\n",
        "- **kwargs**: Additional parameters passed to the underlying metric implementations\n",
        "\n",
        "Let's first check what columns we currently have in our test dataset:\n"
      ]
    },
    {
      "cell_type": "code",
      "execution_count": null,
      "metadata": {},
      "outputs": [],
      "source": [
        "print(\"Current columns in test dataset:\")\n",
        "for i, col in enumerate(vm_test_ds.df.columns, 1):\n",
        "    print(f\"{i:2d}. {col}\")\n",
        "\n",
        "print(f\"\\nDataset shape: {vm_test_ds.df.shape}\")"
      ]
    },
    {
      "cell_type": "markdown",
      "metadata": {
        "vscode": {
          "languageId": "raw"
        }
      },
      "source": [
        "<a id='toc8_2_'></a>\n",
        "\n",
        "### Single Metric Assignment\n",
        "\n",
        "Let's start by assigning a single metric - the F1 score - for our XGBoost model on the test dataset.\n"
      ]
    },
    {
      "cell_type": "code",
      "execution_count": null,
      "metadata": {},
      "outputs": [],
      "source": [
        "# Assign F1 score for XGBoost model\n",
        "vm_test_ds.assign_scores(vm_xgb_model, \"F1\")\n",
        "\n",
        "print(\"After assigning F1 score:\")\n",
        "print(f\"New column added: {vm_test_ds.df.columns}\")\n"
      ]
    },
    {
      "cell_type": "markdown",
      "metadata": {
        "vscode": {
          "languageId": "raw"
        }
      },
      "source": [
        "<a id='toc8_3_'></a>\n",
        "\n",
        "### Multiple Metrics Assignment\n",
        "\n",
        "We can assign multiple metrics at once by passing a list of metric names. This is more efficient than calling assign_scores() multiple times.\n"
      ]
    },
    {
      "cell_type": "code",
      "execution_count": null,
      "metadata": {},
      "outputs": [],
      "source": [
        "# Assign multiple classification metrics for the Random Forest model\n",
        "classification_metrics = [\"Precision\", \"Recall\", \"Accuracy\", \"ROC_AUC\"]\n",
        "\n",
        "vm_test_ds.assign_scores(vm_rf_model, classification_metrics)\n",
        "\n",
        "print(\"After assigning multiple metrics for Random Forest:\")\n",
        "rf_columns = [col for col in vm_test_ds.df.columns if 'random_forest_model' in col]\n",
        "print(f\"Random Forest columns: {rf_columns}\")\n",
        "\n",
        "# Display the metric values\n",
        "for metric in classification_metrics:\n",
        "    col_name = f\"random_forest_model_{metric}\"\n",
        "    if col_name in vm_test_ds.df.columns:\n",
        "        value = vm_test_ds.df[col_name].iloc[0]\n",
        "        print(f\"{metric}: {value:.4f}\")\n"
      ]
    },
    {
      "cell_type": "markdown",
      "metadata": {
        "vscode": {
          "languageId": "raw"
        }
      },
      "source": [
        "<a id='toc8_4_'></a>\n",
        "\n",
        "### Passing Parameters to Metrics\n",
        "\n",
        "Many unit metrics accept additional parameters that are passed through to the underlying sklearn implementations. Let's demonstrate this with the ROC_AUC metric.\n"
      ]
    },
    {
      "cell_type": "code",
      "execution_count": null,
      "metadata": {},
      "outputs": [],
      "source": [
        "# Assign ROC_AUC with different averaging strategies\n",
        "vm_test_ds.assign_scores(vm_xgb_model, \"ROC_AUC\", average=\"macro\")\n",
        "\n",
        "# We can also assign with different parameters by calling assign_scores again\n",
        "# Note: This will overwrite the previous column with the same name\n",
        "print(\"ROC_AUC assigned with macro averaging\")\n",
        "\n",
        "# Let's also assign precision and recall with different averaging\n",
        "vm_test_ds.assign_scores(vm_xgb_model, [\"Precision\", \"Recall\"], average=\"weighted\")\n",
        "\n",
        "print(\"Precision and Recall assigned with weighted averaging\")\n",
        "\n",
        "# Display current XGBoost metric columns\n",
        "xgb_columns = [col for col in vm_test_ds.df.columns if 'xgboost_model' in col]\n",
        "print(f\"\\nXGBoost model columns: {xgb_columns}\")\n"
      ]
    },
    {
      "cell_type": "markdown",
      "metadata": {
        "vscode": {
          "languageId": "raw"
        }
      },
      "source": [
        "<a id='toc9_1_'></a>\n",
        "\n",
        "### Multi-Model Scoring\n",
        "\n",
        "One of the powerful features of assign_scores() is the ability to assign scores from multiple models to the same dataset, enabling easy model comparison.\n"
      ]
    },
    {
      "cell_type": "code",
      "execution_count": null,
      "metadata": {},
      "outputs": [],
      "source": [
        "# Let's assign a comprehensive set of metrics for both models\n",
        "comprehensive_metrics = [\"F1\", \"Precision\", \"Recall\", \"Accuracy\", \"ROC_AUC\"]\n",
        "\n",
        "# Assign for XGBoost model\n",
        "vm_test_ds.assign_scores(vm_xgb_model, comprehensive_metrics)\n",
        "\n",
        "# Assign for Random Forest model}\n",
        "vm_test_ds.assign_scores(vm_rf_model, comprehensive_metrics)\n",
        "\n",
        "print(\"Comprehensive metrics assigned for both models!\")\n"
      ]
    },
    {
      "cell_type": "markdown",
      "metadata": {},
      "source": [
        "<a id='toc9_2_'></a>\n",
        "\n",
        "### Individual Metrics\n",
        "The next section demonstrates how to assign individual metrics that compute scores per row, rather than aggregate metrics.\n",
        "We'll use two important metrics:\n",
        " \n",
        "- Brier Score: Measures how well calibrated the model's probability predictions are for each individual prediction\n",
        "- Log Loss: Evaluates how well the predicted probabilities match the true labels on a per-prediction basis\n",
        "\n",
        "Both metrics provide more granular insights into model performance at the individual prediction level.\n"
      ]
    },
    {
      "cell_type": "code",
      "execution_count": null,
      "metadata": {},
      "outputs": [],
      "source": [
        "# Let's add some individual metrics that compute per-row scores\n",
        "print(\"Adding individual metrics...\")\n",
        "\n",
        "# Add Brier Score - measures accuracy of probabilistic predictions per row\n",
        "vm_test_ds.assign_scores(vm_xgb_model, \"BrierScore\")\n",
        "print(\"Added Brier Score - lower values indicate better calibrated probabilities\")\n",
        "\n",
        "# Add Log Loss - measures how well the predicted probabilities match true labels per row\n",
        "vm_test_ds.assign_scores(vm_xgb_model, \"LogLoss\")\n",
        "print(\"Added Log Loss - lower values indicate better probability estimates\")\n",
        "\n",
        "# Create a comparison summary showing first few rows of individual metrics\n",
        "print(\"\\nFirst few rows of individual metrics:\")\n",
        "individual_metrics = [col for col in vm_test_ds.df.columns if any(m in col for m in ['BrierScore', 'LogLoss'])]\n",
        "print(vm_test_ds.df[individual_metrics].head())\n"
      ]
    },
    {
      "cell_type": "code",
      "execution_count": null,
      "metadata": {},
      "outputs": [],
      "source": [
        "vm_test_ds._df.head()"
      ]
    },
    {
      "cell_type": "markdown",
      "metadata": {
        "vscode": {
          "languageId": "raw"
        }
      },
      "source": [
        "<a id='toc12_'></a>\n",
        "\n",
        "## Next steps \n",
        "\n",
        "You can explore the assigned scores right in the notebook as demonstrated above. However, there's even more value in using the ValidMind Platform to work with your model documentation and monitoring.\n",
        "\n",
        "\n",
        "\n",
        "<a id='toc12_1_'></a>\n",
        "\n",
        "### Work with your model documentation \n",
        "\n",
        "1. From the **Model Inventory** in the ValidMind Platform, go to the model you registered earlier. ([Need more help?](https://docs.validmind.ai/guide/model-inventory/working-with-model-inventory.html))\n",
        "\n",
        "2. Click and expand the **Model Development** section.\n",
        "\n",
        "The scores you've assigned using `assign_scores()` become part of your model's documentation and can be used in ongoing monitoring workflows. You can view these metrics over time, set up alerts for performance drift, and compare models systematically. [Learn more ...](https://docs.validmind.ai/guide/model-documentation/working-with-model-documentation.html)\n",
        "\n",
        "\n",
        "\n",
        "<a id='toc12_2_'></a>\n",
        "\n",
        "### Discover more learning resources \n",
        "\n",
        "We offer many interactive notebooks to help you work with model scoring and evaluation:\n",
        "\n",
        "- [Run unit metrics](https://docs.validmind.ai/developer/model-testing/testing-overview.html)\n",
        "- [Assign predictions](https://docs.validmind.ai/developer/samples-jupyter-notebooks.html)\n",
        "- [Model comparison workflows](https://docs.validmind.ai/developer/samples-jupyter-notebooks.html)\n",
        "\n",
        "Or, visit our [documentation](https://docs.validmind.ai/) to learn more about ValidMind.\n"
      ]
    },
    {
      "cell_type": "markdown",
      "metadata": {
        "vscode": {
          "languageId": "raw"
        }
      },
      "source": [
        "<a id='toc13_'></a>\n",
        "\n",
        "## Upgrade ValidMind\n",
        "\n",
        "<div class=\"alert alert-block alert-info\" style=\"background-color: #B5B5B510; color: black; border: 1px solid #083E44; border-left-width: 5px; box-shadow: 2px 2px 4px rgba(0, 0, 0, 0.2);border-radius: 5px;\">After installing ValidMind, you'll want to periodically make sure you are on the latest version to access any new features and other enhancements.</div>\n",
        "\n",
        "Retrieve the information for the currently installed version of ValidMind:\n"
      ]
    },
    {
      "cell_type": "markdown",
      "metadata": {},
      "source": [
        "%pip show validmind\n"
      ]
    },
    {
      "cell_type": "markdown",
      "metadata": {
        "vscode": {
          "languageId": "raw"
        }
      },
      "source": [
        "If the version returned is lower than the version indicated in our [production open-source code](https://github.com/validmind/validmind-library/blob/prod/validmind/__version__.py), restart your notebook and run:\n",
        "\n",
        "```bash\n",
        "%pip install --upgrade validmind\n",
        "```\n"
      ]
    },
    {
      "cell_type": "markdown",
      "metadata": {
        "vscode": {
          "languageId": "raw"
        }
      },
      "source": [
        "You may need to restart your kernel after running the upgrade package for changes to be applied.\n"
      ]
    }
  ],
  "metadata": {
    "kernelspec": {
      "display_name": "ValidMind Library",
      "language": "python",
      "name": "validmind"
    },
    "language_info": {
      "codemirror_mode": {
        "name": "ipython",
        "version": 3
      },
      "file_extension": ".py",
      "mimetype": "text/x-python",
      "name": "python",
      "nbconvert_exporter": "python",
      "pygments_lexer": "ipython3",
      "version": "3.11.9"
    }
  },
  "nbformat": 4,
  "nbformat_minor": 2
}
