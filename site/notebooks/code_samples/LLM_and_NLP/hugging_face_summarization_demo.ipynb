{
    "cells": [
        {
            "attachments": {},
            "cell_type": "markdown",
            "metadata": {},
            "source": [
                "# Summarization of Financial Data Using Hugging Face NLP models\n",
                "\n",
                "This notebook shows model developers how to document a natural language processing (NLP) model using the ValidMind Developer Framework. The use case is a summarization of financial news based on a dataset containing just over 300k unique news articles as written by journalists at CNN and the Daily Mail. It shows you how to set up the ValidMind Developer Framework, initialize the client library, and load the dataset, followed by running the model validation tests provided by the framework to quickly generate documentation about the data and model."
            ]
        },
        {
            "cell_type": "markdown",
            "metadata": {},
            "source": [
                "## ValidMind at a glance\n",
                "\n",
                "ValidMind's platform enables organizations to identify, document, and manage model risks for all types of models, including AI/ML models, LLMs, and statistical models. As a model developer, you use the ValidMind Developer Framework to automate documentation and validation tests, and then use the ValidMind AI Risk Platform UI to collaborate on documentation projects. Together, these products simplify model risk management, facilitate compliance with regulations and institutional standards, and enhance collaboration between yourself and model validators.\n",
                "\n",
                "If this is your first time trying out ValidMind, we recommend going through the following resources first:\n",
                "\n",
                "- [Get started](https://docs.validmind.ai/guide/get-started.html) — The basics, including key concepts, and how our products work\n",
                "- [Get started with the ValidMind Developer Framework](https://docs.validmind.ai/guide/get-started-developer-framework.html) —  The path for developers, more code samples, and our developer reference"
            ]
        },
        {
            "cell_type": "markdown",
            "metadata": {},
            "source": [
                "## Before you begin\n",
                "\n",
                "::: {.callout-tip}\n",
                "### New to ValidMind? \n",
                "For access to all features available in this notebook, create a free ValidMind account. \n",
                "\n",
                "Signing up is FREE — [**Sign up now**](https://app.prod.validmind.ai)\n",
                ":::\n",
                "\n",
                "\n",
                "If you encounter errors due to missing modules in your Python environment, install the modules with `pip install`, and then re-run the notebook. For more help, refer to [Installing Python Modules](https://docs.python.org/3/installing/index.html)."
            ]
        },
        {
            "cell_type": "markdown",
            "metadata": {},
            "source": [
                "## Install the client library\n",
                "\n",
                "The client library provides Python support for the ValidMind Developer Framework. To install it:"
            ]
        },
        {
            "cell_type": "code",
            "execution_count": 1,
            "metadata": {},
            "outputs": [
                {
                    "name": "stdout",
                    "output_type": "stream",
                    "text": [
                        "\n",
                        "\u001b[1m[\u001b[0m\u001b[34;49mnotice\u001b[0m\u001b[1;39;49m]\u001b[0m\u001b[39;49m A new release of pip is available: \u001b[0m\u001b[31;49m23.2.1\u001b[0m\u001b[39;49m -> \u001b[0m\u001b[32;49m23.3.2\u001b[0m\n",
                        "\u001b[1m[\u001b[0m\u001b[34;49mnotice\u001b[0m\u001b[1;39;49m]\u001b[0m\u001b[39;49m To update, run: \u001b[0m\u001b[32;49mpip install --upgrade pip\u001b[0m\n",
                        "Note: you may need to restart the kernel to use updated packages.\n"
                    ]
                }
            ],
            "source": [
                "%pip install -q validmind"
            ]
        },
        {
            "attachments": {},
            "cell_type": "markdown",
            "metadata": {},
            "source": [
                "## Initialize the client library\n",
                "\n",
                "Every documentation project in the Platform UI comes with a _code snippet_ that lets the client library associate your documentation and tests with the right project on the Platform UI when you run this notebook.\n",
                "\n",
                "Get your code snippet by creating a documentation project:\n",
                "\n",
                "1. In a browser, log into the [Platform UI](https://app.prod.validmind.ai).\n",
                "\n",
                "2. Go to Go to **Documentation Projects** and click **Create new project**.\n",
                "\n",
                "3. Select **`[Demo] Hugging Face - Text Summarization`** and **`Initial Validation`** for the model name and type, give the project a unique  name to make it yours, and then click **Create project**.\n",
                "\n",
                "4. Go to **Documentation Projects** > **YOUR_UNIQUE_PROJECT_NAME** > **Getting Started** and click **Copy snippet to clipboard**.\n",
                "\n",
                "Next, replace this placeholder with your own code snippet:"
            ]
        },
        {
            "cell_type": "code",
            "execution_count": 2,
            "metadata": {},
            "outputs": [
                {
                    "name": "stderr",
                    "output_type": "stream",
                    "text": [
                        "2024-01-19 12:55:51,823 - INFO(validmind.api_client): Connected to ValidMind. Project: [Demo] Hugging Face - Text Summarization  - Initial Validation (clr4sqre7004ruqy6yysodsp8)\n"
                    ]
                }
            ],
            "source": [
                "## Replace the code below with the code snippet from your project ##\n",
                "\n",
                "\n",
                "import validmind as vm\n",
                "\n",
                "vm.init(\n",
                "  api_host = \"http://localhost:3000/api/v1/tracking\",\n",
                "  api_key = \"...\",\n",
                "  api_secret = \"...\",\n",
                "  project = \"...\"\n",
                ")\n",
                "  "
            ]
        },
        {
            "cell_type": "markdown",
            "metadata": {},
            "source": [
                "### Preview the documentation template\n",
                "\n",
                "A template predefines sections for your documentation project and provides a general outline to follow, making the documentation process much easier.\n",
                "\n",
                "You will upload documentation and test results into this template later on. For now, take a look at the structure that the template provides with the `vm.preview_template()` function from the ValidMind library and note the empty sections:"
            ]
        },
        {
            "cell_type": "code",
            "execution_count": 3,
            "metadata": {},
            "outputs": [
                {
                    "data": {
                        "application/vnd.jupyter.widget-view+json": {
                            "model_id": "4035e1f9012c45dc9e54b0ba190b581f",
                            "version_major": 2,
                            "version_minor": 0
                        },
                        "text/plain": [
                            "Accordion(children=(Accordion(children=(HTML(value='<p>Empty Section</p>'), Accordion(children=(HTML(value='<p…"
                        ]
                    },
                    "metadata": {},
                    "output_type": "display_data"
                }
            ],
            "source": [
                "vm.preview_template()"
            ]
        },
        {
            "cell_type": "markdown",
            "metadata": {},
            "source": [
                "### Helper functions\n",
                "\n",
                "Let's define the following functions to help visualize datasets with long text fields:"
            ]
        },
        {
            "cell_type": "code",
            "execution_count": 4,
            "metadata": {},
            "outputs": [],
            "source": [
                "import textwrap\n",
                "\n",
                "from IPython.display import display, HTML\n",
                "from tabulate import tabulate\n",
                "\n",
                "def _format_cell_text(text, width=50):\n",
                "    \"\"\"Private function to format a cell's text.\"\"\"\n",
                "    return '\\n'.join([textwrap.fill(line, width=width) for line in text.split('\\n')])\n",
                "\n",
                "def _format_dataframe_for_tabulate(df):\n",
                "    \"\"\"Private function to format the entire DataFrame for tabulation.\"\"\"\n",
                "    df_out = df.copy()\n",
                "\n",
                "    # Format all string columns\n",
                "    for column in df_out.columns:\n",
                "        if df_out[column].dtype == object:  # Check if column is of type object (likely strings)\n",
                "            df_out[column] = df_out[column].apply(_format_cell_text)\n",
                "    return df_out\n",
                "\n",
                "def _dataframe_to_html_table(df):\n",
                "    \"\"\"Private function to convert a DataFrame to an HTML table.\"\"\"\n",
                "    headers = df.columns.tolist()\n",
                "    table_data = df.values.tolist()\n",
                "    return tabulate(table_data, headers=headers, tablefmt=\"html\")\n",
                "\n",
                "def display_formatted_dataframe(df, num_rows=None):\n",
                "    \"\"\"Primary function to format and display a DataFrame.\"\"\"\n",
                "    if num_rows is not None:\n",
                "        df = df.head(num_rows)\n",
                "    formatted_df = _format_dataframe_for_tabulate(df)\n",
                "    html_table = _dataframe_to_html_table(formatted_df)\n",
                "    display(HTML(html_table))"
            ]
        },
        {
            "cell_type": "markdown",
            "metadata": {},
            "source": [
                "### Load the dataset\n",
                "\n",
                "The CNN Dailymail Dataset is an English-language dataset containing just over 300k unique news articles as written by journalists at CNN and the Daily Mail (https://huggingface.co/datasets/cnn_dailymail). The current version supports both extractive and abstractive summarization, though the original version was created for machine reading and comprehension and abstractive question answering."
            ]
        },
        {
            "cell_type": "code",
            "execution_count": 5,
            "metadata": {},
            "outputs": [
                {
                    "data": {
                        "text/html": [
                            "<table>\n",
                            "<thead>\n",
                            "<tr><th>article  </th><th>highlights  </th></tr>\n",
                            "</thead>\n",
                            "<tbody>\n",
                            "<tr><td>LONDON, England (Reuters) -- Harry Potter star\n",
                            "Daniel Radcliffe gains access to a reported £20\n",
                            "million ($41.1 million) fortune as he turns 18 on\n",
                            "Monday, but he insists the money won&#x27;t cast a\n",
                            "spell on him. Daniel Radcliffe as Harry Potter in\n",
                            "&quot;Harry Potter and the Order of the Phoenix&quot; To the\n",
                            "disappointment of gossip columnists around the\n",
                            "world, the young actor says he has no plans to\n",
                            "fritter his cash away on fast cars, drink and\n",
                            "celebrity parties. &quot;I don&#x27;t plan to be one of\n",
                            "those people who, as soon as they turn 18,\n",
                            "suddenly buy themselves a massive sports car\n",
                            "collection or something similar,&quot; he told an\n",
                            "Australian interviewer earlier this month. &quot;I\n",
                            "don&#x27;t think I&#x27;ll be particularly extravagant. &quot;The\n",
                            "things I like buying are things that cost about 10\n",
                            "pounds -- books and CDs and DVDs.&quot; At 18,\n",
                            "Radcliffe will be able to gamble in a casino, buy\n",
                            "a drink in a pub or see the horror film &quot;Hostel:\n",
                            "Part II,&quot; currently six places below his number\n",
                            "one movie on the UK box office chart. Details of\n",
                            "how he&#x27;ll mark his landmark birthday are under\n",
                            "wraps. His agent and publicist had no comment on\n",
                            "his plans. &quot;I&#x27;ll definitely have some sort of\n",
                            "party,&quot; he said in an interview. &quot;Hopefully none\n",
                            "of you will be reading about it.&quot; Radcliffe&#x27;s\n",
                            "earnings from the first five Potter films have\n",
                            "been held in a trust fund which he has not been\n",
                            "able to touch. Despite his growing fame and\n",
                            "riches, the actor says he is keeping his feet\n",
                            "firmly on the ground. &quot;People are always looking\n",
                            "to say &#x27;kid star goes off the rails,&#x27;&quot; he told\n",
                            "reporters last month. &quot;But I try very hard not to\n",
                            "go that way because it would be too easy for\n",
                            "them.&quot; His latest outing as the boy wizard in\n",
                            "&quot;Harry Potter and the Order of the Phoenix&quot; is\n",
                            "breaking records on both sides of the Atlantic and\n",
                            "he will reprise the role in the last two films.\n",
                            "Watch I-Reporter give her review of Potter&#x27;s\n",
                            "latest » . There is life beyond Potter, however.\n",
                            "The Londoner has filmed a TV movie called &quot;My Boy\n",
                            "Jack,&quot; about author Rudyard Kipling and his son,\n",
                            "due for release later this year. He will also\n",
                            "appear in &quot;December Boys,&quot; an Australian film\n",
                            "about four boys who escape an orphanage. Earlier\n",
                            "this year, he made his stage debut playing a\n",
                            "tortured teenager in Peter Shaffer&#x27;s &quot;Equus.&quot;\n",
                            "Meanwhile, he is braced for even closer media\n",
                            "scrutiny now that he&#x27;s legally an adult: &quot;I just\n",
                            "think I&#x27;m going to be more sort of fair game,&quot; he\n",
                            "told Reuters. E-mail to a friend . Copyright 2007\n",
                            "Reuters. All rights reserved.This material may not\n",
                            "be published, broadcast, rewritten, or\n",
                            "redistributed.          </td><td>Harry Potter star Daniel Radcliffe gets £20M\n",
                            "fortune as he turns 18 Monday .\n",
                            "Young actor says he has no plans to fritter his\n",
                            "cash away .\n",
                            "Radcliffe&#x27;s earnings from first five Potter films\n",
                            "have been held in trust fund .             </td></tr>\n",
                            "<tr><td>Editor&#x27;s note: In our Behind the Scenes series,\n",
                            "CNN correspondents share their experiences in\n",
                            "covering news and analyze the stories behind the\n",
                            "events. Here, Soledad O&#x27;Brien takes users inside a\n",
                            "jail where many of the inmates are mentally ill.\n",
                            "An inmate housed on the &quot;forgotten floor,&quot; where\n",
                            "many mentally ill inmates are housed in Miami\n",
                            "before trial. MIAMI, Florida (CNN) -- The ninth\n",
                            "floor of the Miami-Dade pretrial detention\n",
                            "facility is dubbed the &quot;forgotten floor.&quot; Here,\n",
                            "inmates with the most severe mental illnesses are\n",
                            "incarcerated until they&#x27;re ready to appear in\n",
                            "court. Most often, they face drug charges or\n",
                            "charges of assaulting an officer --charges that\n",
                            "Judge Steven Leifman says are usually &quot;avoidable\n",
                            "felonies.&quot; He says the arrests often result from\n",
                            "confrontations with police. Mentally ill people\n",
                            "often won&#x27;t do what they&#x27;re told when police\n",
                            "arrive on the scene -- confrontation seems to\n",
                            "exacerbate their illness and they become more\n",
                            "paranoid, delusional, and less likely to follow\n",
                            "directions, according to Leifman. So, they end up\n",
                            "on the ninth floor severely mentally disturbed,\n",
                            "but not getting any real help because they&#x27;re in\n",
                            "jail. We toured the jail with Leifman. He is well\n",
                            "known in Miami as an advocate for justice and the\n",
                            "mentally ill. Even though we were not exactly\n",
                            "welcomed with open arms by the guards, we were\n",
                            "given permission to shoot videotape and tour the\n",
                            "floor.  Go inside the &#x27;forgotten floor&#x27; » . At\n",
                            "first, it&#x27;s hard to determine where the people\n",
                            "are. The prisoners are wearing sleeveless robes.\n",
                            "Imagine cutting holes for arms and feet in a heavy\n",
                            "wool sleeping bag -- that&#x27;s kind of what they look\n",
                            "like. They&#x27;re designed to keep the mentally ill\n",
                            "patients from injuring themselves. That&#x27;s also why\n",
                            "they have no shoes, laces or mattresses. Leifman\n",
                            "says about one-third of all people in Miami-Dade\n",
                            "county jails are mentally ill. So, he says, the\n",
                            "sheer volume is overwhelming the system, and the\n",
                            "result is what we see on the ninth floor. Of\n",
                            "course, it is a jail, so it&#x27;s not supposed to be\n",
                            "warm and comforting, but the lights glare, the\n",
                            "cells are tiny and it&#x27;s loud. We see two,\n",
                            "sometimes three men -- sometimes in the robes,\n",
                            "sometimes naked, lying or sitting in their cells.\n",
                            "&quot;I am the son of the president. You need to get me\n",
                            "out of here!&quot; one man shouts at me. He is\n",
                            "absolutely serious, convinced that help is on the\n",
                            "way -- if only he could reach the White House.\n",
                            "Leifman tells me that these prisoner-patients will\n",
                            "often circulate through the system, occasionally\n",
                            "stabilizing in a mental hospital, only to return\n",
                            "to jail to face their charges. It&#x27;s brutally\n",
                            "unjust, in his mind, and he has become a strong\n",
                            "advocate for changing things in Miami. Over a meal\n",
                            "later, we talk about how things got this way for\n",
                            "mental patients. Leifman says 200 years ago people\n",
                            "were considered &quot;lunatics&quot; and they were locked up\n",
                            "in jails even if they had no charges against them.\n",
                            "They were just considered unfit to be in society.\n",
                            "Over the years, he says, there was some public\n",
                            "outcry, and the mentally ill were moved out of\n",
                            "jails and into hospitals. But Leifman says many of\n",
                            "these mental hospitals were so horrible they were\n",
                            "shut down. Where did the patients go? Nowhere. The\n",
                            "streets. They became, in many cases, the homeless,\n",
                            "he says. They never got treatment. Leifman says in\n",
                            "1955 there were more than half a million people in\n",
                            "state mental hospitals, and today that number has\n",
                            "been reduced 90 percent, and 40,000 to 50,000\n",
                            "people are in mental hospitals. The judge says\n",
                            "he&#x27;s working to change this. Starting in 2008,\n",
                            "many inmates who would otherwise have been brought\n",
                            "to the &quot;forgotten floor&quot;  will instead be sent to\n",
                            "a new mental health facility -- the first step on\n",
                            "a journey toward long-term treatment, not just\n",
                            "punishment. Leifman says it&#x27;s not the complete\n",
                            "answer, but it&#x27;s a start. Leifman says the best\n",
                            "part is that it&#x27;s a win-win solution. The patients\n",
                            "win, the families are relieved, and the state\n",
                            "saves money by simply not cycling these prisoners\n",
                            "through again and again. And, for Leifman, justice\n",
                            "is served. E-mail to a friend .          </td><td>Mentally ill inmates in Miami are housed on the\n",
                            "&quot;forgotten floor&quot;\n",
                            "Judge Steven Leifman says most are there as a\n",
                            "result of &quot;avoidable felonies&quot;\n",
                            "While CNN tours facility, patient shouts: &quot;I am\n",
                            "the son of the president&quot;\n",
                            "Leifman says the system is unjust and he&#x27;s\n",
                            "fighting for change .             </td></tr>\n",
                            "<tr><td>MINNEAPOLIS, Minnesota (CNN) -- Drivers who were\n",
                            "on the Minneapolis bridge when it collapsed told\n",
                            "harrowing tales of survival. &quot;The whole bridge\n",
                            "from one side of the Mississippi to the other just\n",
                            "completely gave way, fell all the way down,&quot;\n",
                            "survivor Gary Babineau told CNN. &quot;I probably had a\n",
                            "30-, 35-foot free fall. And there&#x27;s cars in the\n",
                            "water, there&#x27;s cars on fire. The whole bridge is\n",
                            "down.&quot; He said his back was injured but he\n",
                            "determined he could move around. &quot;I realized there\n",
                            "was a school bus right next to me, and me and a\n",
                            "couple of other guys went over and started lifting\n",
                            "the kids off the bridge. They were yelling,\n",
                            "screaming, bleeding. I think there were some\n",
                            "broken bones.&quot;  Watch a driver describe his narrow\n",
                            "escape » . At home when he heard about the\n",
                            "disaster, Dr. John Hink, an emergency room\n",
                            "physician, jumped into his car and rushed to the\n",
                            "scene in 15 minutes. He arrived at the south side\n",
                            "of the bridge, stood on the riverbank and saw\n",
                            "dozens of people lying dazed on an expansive deck.\n",
                            "They were in the middle of the Mississippi River,\n",
                            "which was churning fast, and he had no way of\n",
                            "getting to them. He went to the north side, where\n",
                            "there was easier access to people. Ambulances were\n",
                            "also having a hard time driving down to the river\n",
                            "to get closer to the scene. Working feverishly,\n",
                            "volunteers, EMTs and other officials managed to\n",
                            "get 55 people into ambulances in less than two\n",
                            "hours. Occasionally, a pickup truck with a medic\n",
                            "inside would drive to get an injured person and\n",
                            "bring him back up even ground, Hink told CNN. The\n",
                            "rescue effort was controlled and organized, he\n",
                            "said; the opposite of the lightning-quick\n",
                            "collapse. &quot;I could see the whole bridge as it was\n",
                            "going down, as it was falling,&quot; Babineau said. &quot;It\n",
                            "just gave a rumble real quick, and it all just\n",
                            "gave way, and it just fell completely, all the way\n",
                            "to the ground. And there was dust everywhere and\n",
                            "it was just like everyone has been saying: It was\n",
                            "just like out of the movies.&quot; Babineau said the\n",
                            "rear of his pickup truck was dangling over the\n",
                            "edge of a broken-off section of the bridge. He\n",
                            "said several vehicles slid past him into the\n",
                            "water. &quot;I stayed in my car for one or two seconds.\n",
                            "I saw a couple cars fall,&quot; he said. &quot;So I stayed\n",
                            "in my car until the cars quit falling for a\n",
                            "second, then I got out real quick, ran in front of\n",
                            "my truck -- because behind my truck was just a\n",
                            "hole -- and I helped a woman off of the bridge\n",
                            "with me. &quot;I just wanted off the bridge, and then I\n",
                            "ran over to the school bus. I started grabbing\n",
                            "kids and handing them down. It was just complete\n",
                            "chaos.&quot; He said most of the children were crying\n",
                            "or screaming. He and other rescuers set them on\n",
                            "the ground and told them to run to the river bank,\n",
                            "but a few needed to be carried because of their\n",
                            "injuries.  See rescuers clamber over rubble » .\n",
                            "Babineau said he had no rescue training. &quot;I just\n",
                            "knew what I had to do at the moment.&quot; Melissa\n",
                            "Hughes, 32, of Minneapolis, told The Associated\n",
                            "Press that she was driving home when the western\n",
                            "edge of the bridge collapsed under her. &quot;You know\n",
                            "that free-fall feeling? I felt that twice,&quot; Hughes\n",
                            "said. A pickup landed on top of her car, but she\n",
                            "was not hurt. &quot;I had no idea there was a vehicle\n",
                            "on my car,&quot; she told AP. &quot;It&#x27;s really very\n",
                            "surreal.&quot; Babineau told the Minneapolis Star-\n",
                            "Tribune: &quot;On the way down, I thought I was dead. I\n",
                            "literally thought I was dead. &quot;My truck was\n",
                            "completely face down, pointed toward the ground,\n",
                            "and my truck got ripped in half. It was folded in\n",
                            "half, and I can&#x27;t believe I&#x27;m alive.&quot;  See and\n",
                            "hear eyewitness accounts » . Bernie Toivonen told\n",
                            "CNN&#x27;s &quot;American Morning&quot; that his vehicle was on a\n",
                            "part of the bridge that ended up tilted at a\n",
                            "45-degree angle. &quot;I knew the deck was going down,\n",
                            "there was no question about it, and I thought I\n",
                            "was going to die,&quot; he said. After the bridge\n",
                            "settled and his car remained upright, &quot;I just put\n",
                            "in park, turned the key off and said, &#x27;Oh, I&#x27;m\n",
                            "alive,&#x27; &quot; he said. E-mail to a friend .          </td><td>NEW: &quot;I thought I was going to die,&quot; driver says .\n",
                            "Man says pickup truck was folded in half; he just\n",
                            "has cut on face .\n",
                            "Driver: &quot;I probably had a 30-, 35-foot free fall&quot;\n",
                            "Minnesota bridge collapsed during rush hour\n",
                            "Wednesday .             </td></tr>\n",
                            "<tr><td>WASHINGTON (CNN) -- Doctors removed five small\n",
                            "polyps from President Bush&#x27;s colon on Saturday,\n",
                            "and &quot;none appeared worrisome,&quot; a White House\n",
                            "spokesman said. The polyps were removed and sent\n",
                            "to the National Naval Medical Center in Bethesda,\n",
                            "Maryland, for routine microscopic examination,\n",
                            "spokesman Scott Stanzel said. Results are expected\n",
                            "in two to three days. All were small, less than a\n",
                            "centimeter [half an inch] in diameter, he said.\n",
                            "Bush is in good humor, Stanzel said, and will\n",
                            "resume his activities at Camp David. During the\n",
                            "procedure Vice President Dick Cheney assumed\n",
                            "presidential power. Bush reclaimed presidential\n",
                            "power at 9:21 a.m. after about two hours. Doctors\n",
                            "used &quot;monitored anesthesia care,&quot; Stanzel said, so\n",
                            "the president was asleep, but not as deeply\n",
                            "unconscious as with a true general anesthetic. He\n",
                            "spoke to first lady Laura Bush -- who is in\n",
                            "Midland, Texas, celebrating her mother&#x27;s birthday\n",
                            "-- before and after the procedure, Stanzel said.\n",
                            "Afterward, the president played with his Scottish\n",
                            "terriers, Barney and Miss Beazley, Stanzel said.\n",
                            "He planned to have lunch at Camp David and have\n",
                            "briefings with National Security Adviser Stephen\n",
                            "Hadley and White House Chief of Staff Josh Bolten,\n",
                            "and planned to take a bicycle ride Saturday\n",
                            "afternoon. Cheney, meanwhile, spent the morning at\n",
                            "his home on Maryland&#x27;s eastern shore, reading and\n",
                            "playing with his dogs, Stanzel said. Nothing\n",
                            "occurred that required him to take official action\n",
                            "as president before Bush reclaimed presidential\n",
                            "power. The procedure was supervised by Dr. Richard\n",
                            "Tubb, Bush&#x27;s physician, and conducted by a\n",
                            "multidisciplinary team from the National Naval\n",
                            "Medical Center in Bethesda, Maryland, the White\n",
                            "House said. Bush&#x27;s last colonoscopy was in June\n",
                            "2002, and no abnormalities were found, White House\n",
                            "spokesman Tony Snow said. The president&#x27;s doctor\n",
                            "had recommended a repeat procedure in about five\n",
                            "years. A colonoscopy is the most sensitive test\n",
                            "for colon cancer, rectal cancer and polyps, small\n",
                            "clumps of cells that can become cancerous,\n",
                            "according to the Mayo Clinic. Small polyps may be\n",
                            "removed during the procedure. Snow said on Friday\n",
                            "that Bush had polyps removed during colonoscopies\n",
                            "before becoming president. Snow himself is\n",
                            "undergoing chemotherapy for cancer that began in\n",
                            "his colon and spread to his liver.  Watch Snow\n",
                            "talk about Bush&#x27;s procedure and his own colon\n",
                            "cancer » . &quot;The president wants to encourage\n",
                            "everybody to use surveillance,&quot; Snow said. The\n",
                            "American Cancer Society recommends that people\n",
                            "without high risk factors or symptoms begin\n",
                            "getting screened for signs of colorectal cancer at\n",
                            "age 50. E-mail to a friend .          </td><td>Five small polyps found during procedure; &quot;none\n",
                            "worrisome,&quot; spokesman says .\n",
                            "President reclaims powers transferred to vice\n",
                            "president .\n",
                            "Bush undergoes routine colonoscopy at Camp David .             </td></tr>\n",
                            "<tr><td>(CNN)  -- The National Football League has\n",
                            "indefinitely suspended Atlanta Falcons quarterback\n",
                            "Michael Vick without pay, officials with the\n",
                            "league said Friday. NFL star Michael Vick is set\n",
                            "to appear in court Monday. A judge will have the\n",
                            "final say on a plea deal. Earlier, Vick admitted\n",
                            "to participating in a dogfighting ring as part of\n",
                            "a plea agreement with federal prosecutors in\n",
                            "Virginia. &quot;Your admitted conduct was not only\n",
                            "illegal, but also cruel and reprehensible. Your\n",
                            "team, the NFL, and NFL fans have all been hurt by\n",
                            "your actions,&quot; NFL Commissioner Roger Goodell said\n",
                            "in a letter to Vick. Goodell said he would review\n",
                            "the status of the suspension after the legal\n",
                            "proceedings are over. In papers filed Friday with\n",
                            "a federal court in Virginia, Vick also admitted\n",
                            "that he and two co-conspirators killed dogs that\n",
                            "did not fight well. Falcons owner Arthur Blank\n",
                            "said Vick&#x27;s admissions describe actions that are\n",
                            "&quot;incomprehensible and unacceptable.&quot; The\n",
                            "suspension makes &quot;a strong statement that conduct\n",
                            "which tarnishes the good reputation of the NFL\n",
                            "will not be tolerated,&quot; he said in a statement.\n",
                            "Watch what led to Vick&#x27;s suspension » . Goodell\n",
                            "said the Falcons could &quot;assert any claims or\n",
                            "remedies&quot; to recover $22 million of Vick&#x27;s signing\n",
                            "bonus from the 10-year, $130 million contract he\n",
                            "signed in 2004, according to The Associated Press.\n",
                            "Vick said he would plead guilty to one count of\n",
                            "&quot;Conspiracy to Travel in Interstate Commerce in\n",
                            "Aid of Unlawful Activities and to Sponsor a Dog in\n",
                            "an Animal Fighting Venture&quot; in a plea agreement\n",
                            "filed at U.S. District Court in Richmond,\n",
                            "Virginia. The charge is punishable by up to five\n",
                            "years in prison, a $250,000 fine, &quot;full\n",
                            "restitution, a special assessment and 3 years of\n",
                            "supervised release,&quot; the plea deal said. Federal\n",
                            "prosecutors agreed to ask for the low end of the\n",
                            "sentencing guidelines. &quot;The defendant will plead\n",
                            "guilty because the defendant is in fact guilty of\n",
                            "the charged offense,&quot; the plea agreement said. In\n",
                            "an additional summary of facts, signed by Vick and\n",
                            "filed with the agreement, Vick admitted buying pit\n",
                            "bulls and the property used for training and\n",
                            "fighting the dogs, but the statement said he did\n",
                            "not bet on the fights or receive any of the money\n",
                            "won. &quot;Most of the &#x27;Bad Newz Kennels&#x27; operations\n",
                            "and gambling monies were provided by Vick,&quot; the\n",
                            "official summary of facts said. Gambling wins were\n",
                            "generally split among co-conspirators Tony Taylor,\n",
                            "Quanis Phillips and sometimes Purnell Peace, it\n",
                            "continued. &quot;Vick did not gamble by placing side\n",
                            "bets on any of the fights. Vick did not receive\n",
                            "any of the proceeds from the purses that were won\n",
                            "by &#x27;Bad Newz Kennels.&#x27; &quot; Vick also agreed that\n",
                            "&quot;collective efforts&quot; by him and two others caused\n",
                            "the deaths of at least six dogs. Around April,\n",
                            "Vick, Peace and Phillips tested some dogs in\n",
                            "fighting sessions at Vick&#x27;s property in Virginia,\n",
                            "the statement said. &quot;Peace, Phillips and Vick\n",
                            "agreed to the killing of approximately 6-8 dogs\n",
                            "that did not perform well in &#x27;testing&#x27; sessions at\n",
                            "1915 Moonlight Road and all of those dogs were\n",
                            "killed by various methods, including hanging and\n",
                            "drowning. &quot;Vick agrees and stipulates that these\n",
                            "dogs all died as a result of the collective\n",
                            "efforts of Peace, Phillips and Vick,&quot; the summary\n",
                            "said. Peace, 35, of Virginia Beach, Virginia;\n",
                            "Phillips, 28, of Atlanta, Georgia; and Taylor, 34,\n",
                            "of Hampton, Virginia, already have accepted\n",
                            "agreements to plead guilty in exchange for reduced\n",
                            "sentences. Vick, 27, is scheduled to appear Monday\n",
                            "in court, where he is expected to plead guilty\n",
                            "before a judge.  See a timeline of the case\n",
                            "against Vick » . The judge in the case will have\n",
                            "the final say over the plea agreement. The federal\n",
                            "case against Vick focused on the interstate\n",
                            "conspiracy, but Vick&#x27;s admission that he was\n",
                            "involved in the killing of dogs could lead to\n",
                            "local charges, according to CNN legal analyst\n",
                            "Jeffrey Toobin. &quot;It sometimes happens -- not often\n",
                            "-- that the state will follow a federal\n",
                            "prosecution by charging its own crimes for exactly\n",
                            "the same behavior,&quot; Toobin said Friday. &quot;The risk\n",
                            "for Vick is, if he makes admissions in his federal\n",
                            "guilty plea, the state of Virginia could say,\n",
                            "&#x27;Hey, look, you admitted violating Virginia state\n",
                            "law as well. We&#x27;re going to introduce that against\n",
                            "you and charge you in our court.&#x27; &quot; In the plea\n",
                            "deal, Vick agreed to cooperate with investigators\n",
                            "and provide all information he may have on any\n",
                            "criminal activity and to testify if necessary.\n",
                            "Vick also agreed to turn over any documents he has\n",
                            "and to submit to polygraph tests. Vick agreed to\n",
                            "&quot;make restitution for the full amount of the costs\n",
                            "associated&quot; with the dogs that are being held by\n",
                            "the government. &quot;Such costs may include, but are\n",
                            "not limited to, all costs associated with the care\n",
                            "of the dogs involved in that case, including if\n",
                            "necessary, the long-term care and/or the humane\n",
                            "euthanasia of some or all of those animals.&quot;\n",
                            "Prosecutors, with the support of animal rights\n",
                            "activists, have asked for permission to euthanize\n",
                            "the dogs. But the dogs could serve as important\n",
                            "evidence in the cases against Vick and his\n",
                            "admitted co-conspirators. Judge Henry E. Hudson\n",
                            "issued an order Thursday telling the U.S. Marshals\n",
                            "Service to &quot;arrest and seize the defendant\n",
                            "property, and use discretion and whatever means\n",
                            "appropriate to protect and maintain said defendant\n",
                            "property.&quot; Both the judge&#x27;s order and Vick&#x27;s\n",
                            "filing refer to &quot;approximately&quot; 53 pit bull dogs.\n",
                            "After Vick&#x27;s indictment last month, Goodell\n",
                            "ordered the quarterback not to report to the\n",
                            "Falcons training camp, and the league is reviewing\n",
                            "the case. Blank told the NFL Network on Monday he\n",
                            "could not speculate on Vick&#x27;s future as a Falcon,\n",
                            "at least not until he had seen &quot;a statement of\n",
                            "facts&quot; in the case.  E-mail to a friend . CNN&#x27;s\n",
                            "Mike Phelan contributed to this report.          </td><td>NEW: NFL chief, Atlanta Falcons owner critical of\n",
                            "Michael Vick&#x27;s conduct .\n",
                            "NFL suspends Falcons quarterback indefinitely\n",
                            "without pay .\n",
                            "Vick admits funding dogfighting operation but says\n",
                            "he did not gamble .\n",
                            "Vick due in federal court Monday; future in NFL\n",
                            "remains uncertain .             </td></tr>\n",
                            "</tbody>\n",
                            "</table>"
                        ],
                        "text/plain": [
                            "<IPython.core.display.HTML object>"
                        ]
                    },
                    "metadata": {},
                    "output_type": "display_data"
                }
            ],
            "source": [
                "from datasets import load_dataset\n",
                "\n",
                "cnn_dataset = load_dataset('cnn_dailymail', '3.0.0')\n",
                "train_df = cnn_dataset.data['train'].to_pandas()\n",
                "val_df = cnn_dataset.data['validation'].to_pandas()\n",
                "test_df = cnn_dataset.data['test'].to_pandas()\n",
                "train_df = train_df[['article','highlights']]\n",
                "train_df = train_df.head(20)\n",
                "\n",
                "display_formatted_dataframe(train_df, num_rows=5)"
            ]
        },
        {
            "cell_type": "code",
            "execution_count": 6,
            "metadata": {},
            "outputs": [
                {
                    "name": "stderr",
                    "output_type": "stream",
                    "text": [
                        "2024-01-19 12:55:57,052 - INFO(validmind.client): Pandas dataset detected. Initializing VM Dataset instance...\n"
                    ]
                }
            ],
            "source": [
                "df = train_df.head(100)\n",
                "# Load a test dataset with 100 rows only\n",
                "vm_ds = vm.init_dataset(\n",
                "    dataset=df,\n",
                "    text_column=\"article\",\n",
                "    target_column=\"highlights\",\n",
                ")"
            ]
        },
        {
            "cell_type": "markdown",
            "metadata": {},
            "source": [
                "## NLP data quality tests\n",
                "\n",
                "Before we proceed with the analysis, it's crucial to ensure the quality of our NLP data. We can run the `data_preparation` section of the template to validate the data's integrity and suitability:"
            ]
        },
        {
            "cell_type": "code",
            "execution_count": 12,
            "metadata": {},
            "outputs": [
                {
                    "data": {
                        "application/vnd.jupyter.widget-view+json": {
                            "model_id": "4c0deaf6e6c1499292db073022fe9341",
                            "version_major": 2,
                            "version_minor": 0
                        },
                        "text/plain": [
                            "HBox(children=(Label(value='Running test suite...'), IntProgress(value=0, max=10)))"
                        ]
                    },
                    "metadata": {},
                    "output_type": "display_data"
                },
                {
                    "name": "stderr",
                    "output_type": "stream",
                    "text": [
                        "2024-01-19 12:57:31,698 - ERROR(validmind.vm_models.test_suite.test): Failed to run test 'class_imbalance': (SkipTestError) Skipping ClassImbalance test astarget column as more than 10 classes\n",
                        "[nltk_data] Downloading package stopwords to\n",
                        "[nltk_data]     /Users/juanvalidmind/nltk_data...\n",
                        "[nltk_data]   Package stopwords is already up-to-date!\n",
                        "[nltk_data] Downloading package stopwords to\n",
                        "[nltk_data]     /Users/juanvalidmind/nltk_data...\n",
                        "[nltk_data]   Package stopwords is already up-to-date!\n"
                    ]
                },
                {
                    "data": {
                        "application/vnd.jupyter.widget-view+json": {
                            "model_id": "8054a2dd182d48c4853536d2531553cf",
                            "version_major": 2,
                            "version_minor": 0
                        },
                        "text/plain": [
                            "VBox(children=(HTML(value='<h2>Test Suite Results: <i style=\"color: #DE257E\">Text Summarization With Nlp V1</i…"
                        ]
                    },
                    "metadata": {},
                    "output_type": "display_data"
                }
            ],
            "source": [
                "text_data_test_plan = vm.run_documentation_tests(\n",
                "    section=\"data_preparation\", \n",
                "    inputs = {\"dataset\":vm_ds}\n",
                ")"
            ]
        },
        {
            "cell_type": "code",
            "execution_count": 8,
            "metadata": {},
            "outputs": [
                {
                    "name": "stderr",
                    "output_type": "stream",
                    "text": [
                        "You are using the default legacy behaviour of the <class 'transformers.models.t5.tokenization_t5.T5Tokenizer'>. This is expected, and simply means that the `legacy` (previous) behavior will be used so nothing changes for you. If you want to use the new behaviour, set `legacy=False`. This should only be set if you understand what it means, and thouroughly read the reason why this was added as explained in https://github.com/huggingface/transformers/pull/24565\n",
                        "Special tokens have been added in the vocabulary, make sure the associated word embeddings are fine-tuned or trained.\n"
                    ]
                }
            ],
            "source": [
                "from transformers import pipeline, T5Tokenizer, T5ForConditionalGeneration\n",
                "\n",
                "tokenizer = T5Tokenizer.from_pretrained(\"t5-small\")\n",
                "model = T5ForConditionalGeneration.from_pretrained(\"t5-small\")\n",
                "\n",
                "summarizer_model = pipeline(\n",
                "    task=\"summarization\",\n",
                "    model=model,\n",
                "    tokenizer = tokenizer,\n",
                "    min_length=0,\n",
                "    max_length=60,\n",
                "    truncation=True,\n",
                "    model_kwargs={\"cache_dir\": '/Documents/Huggin_Face/'},\n",
                ")  # Note: We specify cache_dir to use predownloaded models."
            ]
        },
        {
            "cell_type": "code",
            "execution_count": 9,
            "metadata": {},
            "outputs": [
                {
                    "name": "stderr",
                    "output_type": "stream",
                    "text": [
                        "2024-01-19 12:56:02,852 - INFO(validmind.client): Pandas dataset detected. Initializing VM Dataset instance...\n"
                    ]
                }
            ],
            "source": [
                "df_test = df.head(10)\n",
                "\n",
                "vm_test_ds = vm.init_dataset(\n",
                "    dataset=train_df,\n",
                "    text_column=\"article\",\n",
                "    target_column=\"highlights\",\n",
                ")"
            ]
        },
        {
            "cell_type": "code",
            "execution_count": 10,
            "metadata": {},
            "outputs": [],
            "source": [
                "vm_model = vm.init_model(\n",
                "    summarizer_model,\n",
                "    test_ds=vm_test_ds,\n",
                ")"
            ]
        },
        {
            "cell_type": "markdown",
            "metadata": {},
            "source": [
                "### Run model validation tests\n",
                "\n",
                "It's possible to run a subset of tests on the documentation template by passing a `section` parameter to `run_documentation_tests()`. Let's run only the tests that evaluate the model's overall performance, including summarization metrics, by selecting the `model_development` section of the template:"
            ]
        },
        {
            "cell_type": "code",
            "execution_count": 13,
            "metadata": {},
            "outputs": [
                {
                    "data": {
                        "application/vnd.jupyter.widget-view+json": {
                            "model_id": "7b5e719a5e8149b8999299b69f910de6",
                            "version_major": 2,
                            "version_minor": 0
                        },
                        "text/plain": [
                            "HBox(children=(Label(value='Running test suite...'), IntProgress(value=0, max=14)))"
                        ]
                    },
                    "metadata": {},
                    "output_type": "display_data"
                },
                {
                    "name": "stderr",
                    "output_type": "stream",
                    "text": [
                        "Some weights of RobertaModel were not initialized from the model checkpoint at roberta-large and are newly initialized: ['roberta.pooler.dense.weight', 'roberta.pooler.dense.bias']\n",
                        "You should probably TRAIN this model on a down-stream task to be able to use it for predictions and inference.\n"
                    ]
                },
                {
                    "data": {
                        "application/vnd.jupyter.widget-view+json": {
                            "model_id": "13bc03167c8b46fb93bac2d64aad6f01",
                            "version_major": 2,
                            "version_minor": 0
                        },
                        "text/plain": [
                            "VBox(children=(HTML(value='<h2>Test Suite Results: <i style=\"color: #DE257E\">Text Summarization With Nlp V1</i…"
                        ]
                    },
                    "metadata": {},
                    "output_type": "display_data"
                }
            ],
            "source": [
                "config={\n",
                "    \"rouge_metric\": {\n",
                "        \"rouge_metrics\": [\"rouge-1\",\"rouge-2\", \"rouge-l\"],\n",
                "    },\n",
                "}\n",
                "summarization_results = vm.run_documentation_tests(\n",
                "    section=\"model_development\",\n",
                "    inputs = {\"model\":vm_model},\n",
                "    config=config,\n",
                ")"
            ]
        },
        {
            "cell_type": "markdown",
            "metadata": {},
            "source": [
                "## Next steps\n",
                "\n",
                "You can look at the results of this test suite right in the notebook where you ran the code, as you would expect. But there is a better way: view the prompt validation test results as part of your model documentation right in the ValidMind Platform UI: \n",
                "\n",
                "1. Log back into the [Platform UI](https://app.prod.validmind.ai) \n",
                "\n",
                "2. Go to **Documentation Projects** > **YOUR_DOCUMENTATION_PROJECT** > **Documentation**.\n",
                "\n",
                "3. Expand **2. Data Preparation** or **3. Model Development** to review all test results.\n",
                "\n",
                "What you can see now is a more easily consumable version of the prompt validation testing you just performed, along with other parts of your documentation project that still need to be completed. \n",
                "\n",
                "If you want to learn more about where you are in the model documentation process, take a look at [How do I use the framework?](https://docs.validmind.ai/guide/get-started-developer-framework.html#how-do-i-use-the-framework).\n",
                "\n"
            ]
        }
    ],
    "metadata": {
        "kernelspec": {
            "display_name": "Developer Framework",
            "language": "python",
            "name": "dev-framework"
        },
        "language_info": {
            "codemirror_mode": {
                "name": "ipython",
                "version": 3
            },
            "file_extension": ".py",
            "mimetype": "text/x-python",
            "name": "python",
            "nbconvert_exporter": "python",
            "pygments_lexer": "ipython3",
            "version": "3.10.13"
        },
        "orig_nbformat": 4
    },
    "nbformat": 4,
    "nbformat_minor": 2
}
