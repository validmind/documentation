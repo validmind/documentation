{
  "cells": [
    {
      "attachments": {},
      "cell_type": "markdown",
      "id": "cdaf18b9-ea09-4184-9c00-3837085ddfb9",
      "metadata": {},
      "source": [
        "## ValidMind Model diagnosis test Plan\n",
        "\n",
        "- Dataset: bank customer churn dataset: https://www.kaggle.com/code/kmalit/bank-customer-churn-prediction/data\n",
        "- Two models: we want to allow the model diagnosis functions to work for statsmodels and sklearn model interfaces since they have different predict() signatures.\n",
        "  - XGBoost/SKLearn classifier\n",
        "  - Logistic Regression with statsmodels\n",
        "- Test plans\n",
        "  - Model weak spots\n",
        "    - Single variable only\n",
        "  - Model overfit\n",
        "    - Single variable only\n",
        "  - Model robustness\n",
        "    - All features and single feature"
      ]
    },
    {
      "attachments": {},
      "cell_type": "markdown",
      "id": "c9f94e34-d68d-4592-9c79-cc5aeb884681",
      "metadata": {},
      "source": [
        "## Initializing the ValidMind Library"
      ]
    },
    {
      "cell_type": "code",
      "execution_count": 1,
      "id": "110e2f45-65d9-4729-b6f1-04ff1941e5e7",
      "metadata": {},
      "outputs": [
        {
          "name": "stdout",
          "output_type": "stream",
          "text": [
            "Connected to ValidMind. Project: Demo 2 (clhqvlen0005b0i8h6plie0yo)\n"
          ]
        }
      ],
      "source": [
        "%load_ext dotenv\n",
        "%dotenv dev.env\n",
        "\n",
        "import validmind as vm\n",
        "\n",
        "vm.init(\n",
        "  api_host = \"http://localhost:3000/api/v1/tracking\",\n",
        "  project = \"clhqvlen0005b0i8h6plie0yo\"\n",
        ")"
      ]
    },
    {
      "attachments": {},
      "cell_type": "markdown",
      "id": "9889d9b4",
      "metadata": {},
      "source": [
        "### Import libraries"
      ]
    },
    {
      "cell_type": "code",
      "execution_count": 2,
      "id": "6695d78d",
      "metadata": {},
      "outputs": [],
      "source": [
        "import pandas as pd\n",
        "import numpy as np\n",
        "import xgboost as xgb\n",
        "\n",
        "from numpy import argmax\n",
        "from sklearn.metrics import accuracy_score, precision_recall_curve\n",
        "from sklearn.model_selection import train_test_split"
      ]
    },
    {
      "attachments": {},
      "cell_type": "markdown",
      "id": "7309c9ed-f843-416d-ad69-d952d32f3145",
      "metadata": {},
      "source": [
        "### Running a data quality test plan\n",
        "\n",
        "We will now run the default data quality test plan that will collect the\n",
        "following metadata from a dataset:\n",
        "\n",
        "- Field types and descriptions\n",
        "- Descriptive statistics\n",
        "- Data distribution histograms\n",
        "- Feature correlations\n",
        "\n",
        "and will run a collection of data quality tests such as:\n",
        "\n",
        "- Class imbalance\n",
        "- Duplicates\n",
        "- High cardinality\n",
        "- Missing values\n",
        "- Skewness\n",
        "\n",
        "ValidMind evaluates if the data quality metrics are within expected ranges. These thresholds or ranges can be further configured by model validators.\n",
        "\n",
        "### Load our demo dataset\n",
        "\n",
        "Before running the test plan, we must first load the dataset into a Pandas DataFrame and initialize\n",
        "a ValidMind dataset object:"
      ]
    },
    {
      "cell_type": "code",
      "execution_count": 3,
      "id": "d556e103-7c08-4e3c-916a-7395fa28c21d",
      "metadata": {},
      "outputs": [
        {
          "name": "stdout",
          "output_type": "stream",
          "text": [
            "Pandas dataset detected. Initializing VM Dataset instance...\n",
            "Inferring dataset types...\n"
          ]
        }
      ],
      "source": [
        "from validmind.datasets.classification import customer_churn as demo_dataset\n",
        "\n",
        "df = demo_dataset.load_data()\n",
        "\n",
        "vm_dataset = vm.init_dataset(\n",
        "    dataset=df,\n",
        "    target_column=\"Exited\",\n",
        "    class_labels={\n",
        "        \"0\": \"Did not exit\",\n",
        "        \"1\": \"Exited\",\n",
        "    }\n",
        ")"
      ]
    },
    {
      "attachments": {},
      "cell_type": "markdown",
      "id": "dcb73dec-ab0d-42d8-ae02-e7615af1b26f",
      "metadata": {},
      "source": [
        "### Preparing the dataset for training\n",
        "\n",
        "Before we train a model, we need to run some common minimal feature selection and engineering steps on the dataset:\n",
        "\n",
        "- Dropping irrelevant variables\n",
        "- Encoding categorical variables"
      ]
    },
    {
      "attachments": {},
      "cell_type": "markdown",
      "id": "031d4f24-974b-4f98-9e42-936141469dd1",
      "metadata": {},
      "source": [
        "#### Dropping irrelevant variables\n",
        "\n",
        "The following variables will be dropped from the dataset:\n",
        "\n",
        "- `RowNumber`: it's a unique identifier to the record\n",
        "- `CustomerId`: it's a unique identifier to the customer\n",
        "- `Surname`: no predictive power for this variable\n",
        "- `CreditScore`: we didn't observer any correlation between `CreditScore` and our target column `Exited`"
      ]
    },
    {
      "cell_type": "code",
      "execution_count": 4,
      "id": "a273c418-0a7f-4a76-a164-875457c4d17e",
      "metadata": {},
      "outputs": [],
      "source": [
        "df.drop([\"RowNumber\", \"CustomerId\", \"Surname\", \"CreditScore\"], axis=1, inplace=True)"
      ]
    },
    {
      "attachments": {},
      "cell_type": "markdown",
      "id": "0fbce02a-aa0b-441f-86af-256f4357daa8",
      "metadata": {},
      "source": [
        "#### Encoding categorical variables\n",
        "\n",
        "We will apply one-hot or dummy encoding to the following variables:\n",
        "\n",
        "- `Geography`: only 3 unique values found in the dataset\n",
        "- `Gender`: convert from string to integer"
      ]
    },
    {
      "cell_type": "code",
      "execution_count": 5,
      "id": "a64f2b81-73ca-442b-ae1f-3c2ba96fc4ef",
      "metadata": {},
      "outputs": [],
      "source": [
        "genders = {\"Male\": 0, \"Female\": 1}\n",
        "df.replace({\"Gender\": genders}, inplace=True)"
      ]
    },
    {
      "cell_type": "code",
      "execution_count": 6,
      "id": "4ea07ab7-ac51-4156-a7c9-ece5d245a742",
      "metadata": {},
      "outputs": [],
      "source": [
        "df = pd.concat([df, pd.get_dummies(df[\"Geography\"], prefix=\"Geography\")], axis=1)\n",
        "df.drop(\"Geography\", axis=1, inplace=True)"
      ]
    },
    {
      "attachments": {},
      "cell_type": "markdown",
      "id": "04b1fd1a-449a-4c0d-8d94-1307ee685c45",
      "metadata": {},
      "source": [
        "We are now ready to train our model with the preprocessed dataset:"
      ]
    },
    {
      "cell_type": "code",
      "execution_count": 7,
      "id": "718928b8-1e82-4f9b-8090-c8460a461504",
      "metadata": {},
      "outputs": [
        {
          "data": {
            "text/html": [
              "<div>\n",
              "<style scoped>\n",
              "    .dataframe tbody tr th:only-of-type {\n",
              "        vertical-align: middle;\n",
              "    }\n",
              "\n",
              "    .dataframe tbody tr th {\n",
              "        vertical-align: top;\n",
              "    }\n",
              "\n",
              "    .dataframe thead th {\n",
              "        text-align: right;\n",
              "    }\n",
              "</style>\n",
              "<table border=\"1\" class=\"dataframe\">\n",
              "  <thead>\n",
              "    <tr style=\"text-align: right;\">\n",
              "      <th></th>\n",
              "      <th>Gender</th>\n",
              "      <th>Age</th>\n",
              "      <th>Tenure</th>\n",
              "      <th>Balance</th>\n",
              "      <th>NumOfProducts</th>\n",
              "      <th>HasCrCard</th>\n",
              "      <th>IsActiveMember</th>\n",
              "      <th>EstimatedSalary</th>\n",
              "      <th>Exited</th>\n",
              "      <th>Geography_France</th>\n",
              "      <th>Geography_Germany</th>\n",
              "      <th>Geography_Spain</th>\n",
              "    </tr>\n",
              "  </thead>\n",
              "  <tbody>\n",
              "    <tr>\n",
              "      <th>0</th>\n",
              "      <td>1</td>\n",
              "      <td>42</td>\n",
              "      <td>2</td>\n",
              "      <td>0.00</td>\n",
              "      <td>1</td>\n",
              "      <td>1</td>\n",
              "      <td>1</td>\n",
              "      <td>101348.88</td>\n",
              "      <td>1</td>\n",
              "      <td>1</td>\n",
              "      <td>0</td>\n",
              "      <td>0</td>\n",
              "    </tr>\n",
              "    <tr>\n",
              "      <th>1</th>\n",
              "      <td>1</td>\n",
              "      <td>41</td>\n",
              "      <td>1</td>\n",
              "      <td>83807.86</td>\n",
              "      <td>1</td>\n",
              "      <td>0</td>\n",
              "      <td>1</td>\n",
              "      <td>112542.58</td>\n",
              "      <td>0</td>\n",
              "      <td>0</td>\n",
              "      <td>0</td>\n",
              "      <td>1</td>\n",
              "    </tr>\n",
              "    <tr>\n",
              "      <th>2</th>\n",
              "      <td>1</td>\n",
              "      <td>42</td>\n",
              "      <td>8</td>\n",
              "      <td>159660.80</td>\n",
              "      <td>3</td>\n",
              "      <td>1</td>\n",
              "      <td>0</td>\n",
              "      <td>113931.57</td>\n",
              "      <td>1</td>\n",
              "      <td>1</td>\n",
              "      <td>0</td>\n",
              "      <td>0</td>\n",
              "    </tr>\n",
              "    <tr>\n",
              "      <th>3</th>\n",
              "      <td>1</td>\n",
              "      <td>39</td>\n",
              "      <td>1</td>\n",
              "      <td>0.00</td>\n",
              "      <td>2</td>\n",
              "      <td>0</td>\n",
              "      <td>0</td>\n",
              "      <td>93826.63</td>\n",
              "      <td>0</td>\n",
              "      <td>1</td>\n",
              "      <td>0</td>\n",
              "      <td>0</td>\n",
              "    </tr>\n",
              "    <tr>\n",
              "      <th>4</th>\n",
              "      <td>1</td>\n",
              "      <td>43</td>\n",
              "      <td>2</td>\n",
              "      <td>125510.82</td>\n",
              "      <td>1</td>\n",
              "      <td>1</td>\n",
              "      <td>1</td>\n",
              "      <td>79084.10</td>\n",
              "      <td>0</td>\n",
              "      <td>0</td>\n",
              "      <td>0</td>\n",
              "      <td>1</td>\n",
              "    </tr>\n",
              "  </tbody>\n",
              "</table>\n",
              "</div>"
            ],
            "text/plain": [
              "   Gender  Age  Tenure    Balance  NumOfProducts  HasCrCard  IsActiveMember  \\\n",
              "0       1   42       2       0.00              1          1               1   \n",
              "1       1   41       1   83807.86              1          0               1   \n",
              "2       1   42       8  159660.80              3          1               0   \n",
              "3       1   39       1       0.00              2          0               0   \n",
              "4       1   43       2  125510.82              1          1               1   \n",
              "\n",
              "   EstimatedSalary  Exited  Geography_France  Geography_Germany  \\\n",
              "0        101348.88       1                 1                  0   \n",
              "1        112542.58       0                 0                  0   \n",
              "2        113931.57       1                 1                  0   \n",
              "3         93826.63       0                 1                  0   \n",
              "4         79084.10       0                 0                  0   \n",
              "\n",
              "   Geography_Spain  \n",
              "0                0  \n",
              "1                1  \n",
              "2                0  \n",
              "3                0  \n",
              "4                1  "
            ]
          },
          "execution_count": 7,
          "metadata": {},
          "output_type": "execute_result"
        }
      ],
      "source": [
        "df.head()"
      ]
    },
    {
      "attachments": {},
      "cell_type": "markdown",
      "id": "21ad0ad4-9016-4eb5-97d6-c1efb229212d",
      "metadata": {},
      "source": [
        "#### Dataset preparation\n",
        "\n",
        "For training our model, we will **randomly** split the dataset in 3 parts:\n",
        "\n",
        "- `training` split with 60% of the rows\n",
        "- `validation` split with 20% of the rows\n",
        "- `test` split with 20% of the rows\n",
        "\n",
        "The `test` dataset will be our held out dataset for model evaluation."
      ]
    },
    {
      "cell_type": "code",
      "execution_count": 8,
      "id": "7686bbd2-2a22-4660-9b0a-c1c3026aa8cf",
      "metadata": {},
      "outputs": [],
      "source": [
        "train_df, test_df = train_test_split(df, test_size=0.20)\n",
        "\n",
        "# This guarantees a 60/20/20 split\n",
        "train_ds, val_ds = train_test_split(train_df, test_size=0.25)\n",
        "\n",
        "# For training\n",
        "x_train = train_df.drop(\"Exited\", axis=1)\n",
        "y_train = train_df.loc[:, \"Exited\"].astype(int)\n",
        "x_val = val_ds.drop(\"Exited\", axis=1)\n",
        "y_val = val_ds.loc[:, \"Exited\"].astype(int)\n",
        "\n",
        "# For testing\n",
        "x_test = test_df.drop(\"Exited\", axis=1)\n",
        "y_test = test_df.loc[:, \"Exited\"].astype(int)"
      ]
    },
    {
      "attachments": {},
      "cell_type": "markdown",
      "id": "b130e565-fa3a-4775-89f2-19fd17c55be0",
      "metadata": {},
      "source": [
        "### Model training\n",
        "\n",
        "We will train a simple XGBoost model and set its `eval_set` to `[(x_train, y_train), (x_val, y_val)]` in order to collect validation datasets metrics on every round. The ValidMind library supports collecting any type of \"in training\" metrics so model developers can provide additional context to model validators if necessary."
      ]
    },
    {
      "cell_type": "code",
      "execution_count": 9,
      "id": "8cdc5ee1-4acc-4520-a97d-27cd3f850e07",
      "metadata": {},
      "outputs": [
        {
          "data": {
            "text/html": [
              "<style>#sk-container-id-1 {color: black;background-color: white;}#sk-container-id-1 pre{padding: 0;}#sk-container-id-1 div.sk-toggleable {background-color: white;}#sk-container-id-1 label.sk-toggleable__label {cursor: pointer;display: block;width: 100%;margin-bottom: 0;padding: 0.3em;box-sizing: border-box;text-align: center;}#sk-container-id-1 label.sk-toggleable__label-arrow:before {content: \"▸\";float: left;margin-right: 0.25em;color: #696969;}#sk-container-id-1 label.sk-toggleable__label-arrow:hover:before {color: black;}#sk-container-id-1 div.sk-estimator:hover label.sk-toggleable__label-arrow:before {color: black;}#sk-container-id-1 div.sk-toggleable__content {max-height: 0;max-width: 0;overflow: hidden;text-align: left;background-color: #f0f8ff;}#sk-container-id-1 div.sk-toggleable__content pre {margin: 0.2em;color: black;border-radius: 0.25em;background-color: #f0f8ff;}#sk-container-id-1 input.sk-toggleable__control:checked~div.sk-toggleable__content {max-height: 200px;max-width: 100%;overflow: auto;}#sk-container-id-1 input.sk-toggleable__control:checked~label.sk-toggleable__label-arrow:before {content: \"▾\";}#sk-container-id-1 div.sk-estimator input.sk-toggleable__control:checked~label.sk-toggleable__label {background-color: #d4ebff;}#sk-container-id-1 div.sk-label input.sk-toggleable__control:checked~label.sk-toggleable__label {background-color: #d4ebff;}#sk-container-id-1 input.sk-hidden--visually {border: 0;clip: rect(1px 1px 1px 1px);clip: rect(1px, 1px, 1px, 1px);height: 1px;margin: -1px;overflow: hidden;padding: 0;position: absolute;width: 1px;}#sk-container-id-1 div.sk-estimator {font-family: monospace;background-color: #f0f8ff;border: 1px dotted black;border-radius: 0.25em;box-sizing: border-box;margin-bottom: 0.5em;}#sk-container-id-1 div.sk-estimator:hover {background-color: #d4ebff;}#sk-container-id-1 div.sk-parallel-item::after {content: \"\";width: 100%;border-bottom: 1px solid gray;flex-grow: 1;}#sk-container-id-1 div.sk-label:hover label.sk-toggleable__label {background-color: #d4ebff;}#sk-container-id-1 div.sk-serial::before {content: \"\";position: absolute;border-left: 1px solid gray;box-sizing: border-box;top: 0;bottom: 0;left: 50%;z-index: 0;}#sk-container-id-1 div.sk-serial {display: flex;flex-direction: column;align-items: center;background-color: white;padding-right: 0.2em;padding-left: 0.2em;position: relative;}#sk-container-id-1 div.sk-item {position: relative;z-index: 1;}#sk-container-id-1 div.sk-parallel {display: flex;align-items: stretch;justify-content: center;background-color: white;position: relative;}#sk-container-id-1 div.sk-item::before, #sk-container-id-1 div.sk-parallel-item::before {content: \"\";position: absolute;border-left: 1px solid gray;box-sizing: border-box;top: 0;bottom: 0;left: 50%;z-index: -1;}#sk-container-id-1 div.sk-parallel-item {display: flex;flex-direction: column;z-index: 1;position: relative;background-color: white;}#sk-container-id-1 div.sk-parallel-item:first-child::after {align-self: flex-end;width: 50%;}#sk-container-id-1 div.sk-parallel-item:last-child::after {align-self: flex-start;width: 50%;}#sk-container-id-1 div.sk-parallel-item:only-child::after {width: 0;}#sk-container-id-1 div.sk-dashed-wrapped {border: 1px dashed gray;margin: 0 0.4em 0.5em 0.4em;box-sizing: border-box;padding-bottom: 0.4em;background-color: white;}#sk-container-id-1 div.sk-label label {font-family: monospace;font-weight: bold;display: inline-block;line-height: 1.2em;}#sk-container-id-1 div.sk-label-container {text-align: center;}#sk-container-id-1 div.sk-container {/* jupyter's `normalize.less` sets `[hidden] { display: none; }` but bootstrap.min.css set `[hidden] { display: none !important; }` so we also need the `!important` here to be able to override the default hidden behavior on the sphinx rendered scikit-learn.org. See: https://github.com/scikit-learn/scikit-learn/issues/21755 */display: inline-block !important;position: relative;}#sk-container-id-1 div.sk-text-repr-fallback {display: none;}</style><div id=\"sk-container-id-1\" class=\"sk-top-container\"><div class=\"sk-text-repr-fallback\"><pre>XGBClassifier(base_score=None, booster=None, callbacks=None,\n",
              "              colsample_bylevel=None, colsample_bynode=None,\n",
              "              colsample_bytree=None, early_stopping_rounds=10,\n",
              "              enable_categorical=False, eval_metric=[&#x27;error&#x27;, &#x27;logloss&#x27;, &#x27;auc&#x27;],\n",
              "              feature_types=None, gamma=None, gpu_id=None, grow_policy=None,\n",
              "              importance_type=None, interaction_constraints=None,\n",
              "              learning_rate=None, max_bin=None, max_cat_threshold=None,\n",
              "              max_cat_to_onehot=None, max_delta_step=None, max_depth=None,\n",
              "              max_leaves=None, min_child_weight=None, missing=nan,\n",
              "              monotone_constraints=None, n_estimators=100, n_jobs=None,\n",
              "              num_parallel_tree=None, predictor=None, random_state=None, ...)</pre><b>In a Jupyter environment, please rerun this cell to show the HTML representation or trust the notebook. <br />On GitHub, the HTML representation is unable to render, please try loading this page with nbviewer.org.</b></div><div class=\"sk-container\" hidden><div class=\"sk-item\"><div class=\"sk-estimator sk-toggleable\"><input class=\"sk-toggleable__control sk-hidden--visually\" id=\"sk-estimator-id-1\" type=\"checkbox\" checked><label for=\"sk-estimator-id-1\" class=\"sk-toggleable__label sk-toggleable__label-arrow\">XGBClassifier</label><div class=\"sk-toggleable__content\"><pre>XGBClassifier(base_score=None, booster=None, callbacks=None,\n",
              "              colsample_bylevel=None, colsample_bynode=None,\n",
              "              colsample_bytree=None, early_stopping_rounds=10,\n",
              "              enable_categorical=False, eval_metric=[&#x27;error&#x27;, &#x27;logloss&#x27;, &#x27;auc&#x27;],\n",
              "              feature_types=None, gamma=None, gpu_id=None, grow_policy=None,\n",
              "              importance_type=None, interaction_constraints=None,\n",
              "              learning_rate=None, max_bin=None, max_cat_threshold=None,\n",
              "              max_cat_to_onehot=None, max_delta_step=None, max_depth=None,\n",
              "              max_leaves=None, min_child_weight=None, missing=nan,\n",
              "              monotone_constraints=None, n_estimators=100, n_jobs=None,\n",
              "              num_parallel_tree=None, predictor=None, random_state=None, ...)</pre></div></div></div></div></div>"
            ],
            "text/plain": [
              "XGBClassifier(base_score=None, booster=None, callbacks=None,\n",
              "              colsample_bylevel=None, colsample_bynode=None,\n",
              "              colsample_bytree=None, early_stopping_rounds=10,\n",
              "              enable_categorical=False, eval_metric=['error', 'logloss', 'auc'],\n",
              "              feature_types=None, gamma=None, gpu_id=None, grow_policy=None,\n",
              "              importance_type=None, interaction_constraints=None,\n",
              "              learning_rate=None, max_bin=None, max_cat_threshold=None,\n",
              "              max_cat_to_onehot=None, max_delta_step=None, max_depth=None,\n",
              "              max_leaves=None, min_child_weight=None, missing=nan,\n",
              "              monotone_constraints=None, n_estimators=100, n_jobs=None,\n",
              "              num_parallel_tree=None, predictor=None, random_state=None, ...)"
            ]
          },
          "execution_count": 9,
          "metadata": {},
          "output_type": "execute_result"
        }
      ],
      "source": [
        "model = xgb.XGBClassifier(early_stopping_rounds=10)\n",
        "model.set_params(\n",
        "    eval_metric=[\"error\", \"logloss\", \"auc\"],\n",
        ")\n",
        "model.fit(\n",
        "    x_train,\n",
        "    y_train,\n",
        "    eval_set=[(x_train, y_train), (x_val, y_val)],\n",
        "    verbose=False,\n",
        ")"
      ]
    },
    {
      "cell_type": "code",
      "execution_count": 10,
      "id": "9634088c-3648-443c-b7d9-b7949cf49072",
      "metadata": {},
      "outputs": [
        {
          "name": "stdout",
          "output_type": "stream",
          "text": [
            "Accuracy: 0.955625\n"
          ]
        }
      ],
      "source": [
        "y_pred = model.predict_proba(x_val)[:, -1]\n",
        "predictions = [round(value) for value in y_pred]\n",
        "accuracy = accuracy_score(y_val, predictions)\n",
        "\n",
        "print(f\"Accuracy: {accuracy}\")"
      ]
    },
    {
      "attachments": {},
      "cell_type": "markdown",
      "id": "a48f65fa-6548-4c88-b1e8-1d4224d5c9e7",
      "metadata": {},
      "source": [
        "#### Initialize VM model object and train/test datasets\n",
        "\n",
        "In order to run our SKLearnClassifier test plan, we need to initialize ValidMind object instances for the trained model and the training and test datasets:"
      ]
    },
    {
      "cell_type": "code",
      "execution_count": null,
      "id": "5f11b697-d845-4ae1-8918-340a4ffefe25",
      "metadata": {},
      "outputs": [],
      "source": []
    },
    {
      "attachments": {},
      "cell_type": "markdown",
      "id": "007c99e8",
      "metadata": {},
      "source": [
        "### Finding all test plans available in the developer framework\n",
        "\n",
        "We can find all the test plans available in the developer framework by calling the following functions:\n",
        "\n",
        "- All test plans: `vm.test_plans.list_plans()`\n",
        "- Describe a test plan: `vm.test_plans.describe_plan(\"sklearn_classifier\")`\n",
        "- List available diagnosis tests: `vm.test_plans.describe_plan(\"sklearn_classifier_model_diagnosis\")`\n",
        "\n",
        "As an example, here's the outpout `list_plans()` and `list_tests()`:"
      ]
    },
    {
      "cell_type": "code",
      "execution_count": 11,
      "id": "5cf6cb8b",
      "metadata": {},
      "outputs": [
        {
          "data": {
            "text/html": [
              "<style type=\"text/css\">\n",
              "</style>\n",
              "<table id=\"T_12269\">\n",
              "  <thead>\n",
              "    <tr>\n",
              "      <th id=\"T_12269_level0_col0\" class=\"col_heading level0 col0\" >ID</th>\n",
              "      <th id=\"T_12269_level0_col1\" class=\"col_heading level0 col1\" >Name</th>\n",
              "      <th id=\"T_12269_level0_col2\" class=\"col_heading level0 col2\" >Description</th>\n",
              "    </tr>\n",
              "  </thead>\n",
              "  <tbody>\n",
              "    <tr>\n",
              "      <td id=\"T_12269_row0_col0\" class=\"data row0 col0\" >binary_classifier_metrics</td>\n",
              "      <td id=\"T_12269_row0_col1\" class=\"data row0 col1\" >BinaryClassifierMetrics</td>\n",
              "      <td id=\"T_12269_row0_col2\" class=\"data row0 col2\" >Test plan for sklearn classifier metrics</td>\n",
              "    </tr>\n",
              "    <tr>\n",
              "      <td id=\"T_12269_row1_col0\" class=\"data row1 col0\" >binary_classifier_validation</td>\n",
              "      <td id=\"T_12269_row1_col1\" class=\"data row1 col1\" >BinaryClassifierPerformance</td>\n",
              "      <td id=\"T_12269_row1_col2\" class=\"data row1 col2\" >Test plan for sklearn classifier models</td>\n",
              "    </tr>\n",
              "    <tr>\n",
              "      <td id=\"T_12269_row2_col0\" class=\"data row2 col0\" >binary_classifier_model_diagnosis</td>\n",
              "      <td id=\"T_12269_row2_col1\" class=\"data row2 col1\" >BinaryClassifierDiagnosis</td>\n",
              "      <td id=\"T_12269_row2_col2\" class=\"data row2 col2\" >Test plan for sklearn classifier model diagnosis tests</td>\n",
              "    </tr>\n",
              "    <tr>\n",
              "      <td id=\"T_12269_row3_col0\" class=\"data row3 col0\" >tabular_dataset_description</td>\n",
              "      <td id=\"T_12269_row3_col1\" class=\"data row3 col1\" >TabularDatasetDescription</td>\n",
              "      <td id=\"T_12269_row3_col2\" class=\"data row3 col2\" >Test plan to extract metadata and descriptive\n",
              "    statistics from a tabular dataset</td>\n",
              "    </tr>\n",
              "    <tr>\n",
              "      <td id=\"T_12269_row4_col0\" class=\"data row4 col0\" >tabular_data_quality</td>\n",
              "      <td id=\"T_12269_row4_col1\" class=\"data row4 col1\" >TabularDataQuality</td>\n",
              "      <td id=\"T_12269_row4_col2\" class=\"data row4 col2\" >Test plan for data quality on tabular datasets</td>\n",
              "    </tr>\n",
              "    <tr>\n",
              "      <td id=\"T_12269_row5_col0\" class=\"data row5 col0\" >time_series_data_quality</td>\n",
              "      <td id=\"T_12269_row5_col1\" class=\"data row5 col1\" >TimeSeriesDataQuality</td>\n",
              "      <td id=\"T_12269_row5_col2\" class=\"data row5 col2\" >Test plan for data quality on time series datasets</td>\n",
              "    </tr>\n",
              "    <tr>\n",
              "      <td id=\"T_12269_row6_col0\" class=\"data row6 col0\" >time_series_univariate</td>\n",
              "      <td id=\"T_12269_row6_col1\" class=\"data row6 col1\" >TimeSeriesUnivariate</td>\n",
              "      <td id=\"T_12269_row6_col2\" class=\"data row6 col2\" >Test plan to perform time series univariate analysis.</td>\n",
              "    </tr>\n",
              "    <tr>\n",
              "      <td id=\"T_12269_row7_col0\" class=\"data row7 col0\" >time_series_multivariate</td>\n",
              "      <td id=\"T_12269_row7_col1\" class=\"data row7 col1\" >TimeSeriesMultivariate</td>\n",
              "      <td id=\"T_12269_row7_col2\" class=\"data row7 col2\" >Test plan to perform time series multivariate analysis.</td>\n",
              "    </tr>\n",
              "    <tr>\n",
              "      <td id=\"T_12269_row8_col0\" class=\"data row8 col0\" >time_series_forecast</td>\n",
              "      <td id=\"T_12269_row8_col1\" class=\"data row8 col1\" >TimeSeriesForecast</td>\n",
              "      <td id=\"T_12269_row8_col2\" class=\"data row8 col2\" >Test plan to perform time series forecast tests.</td>\n",
              "    </tr>\n",
              "    <tr>\n",
              "      <td id=\"T_12269_row9_col0\" class=\"data row9 col0\" >regression_model_performance</td>\n",
              "      <td id=\"T_12269_row9_col1\" class=\"data row9 col1\" >RegressionModelPerformance</td>\n",
              "      <td id=\"T_12269_row9_col2\" class=\"data row9 col2\" >Test plan for performance metric of regression model of statsmodels library</td>\n",
              "    </tr>\n",
              "    <tr>\n",
              "      <td id=\"T_12269_row10_col0\" class=\"data row10 col0\" >regression_models_comparison</td>\n",
              "      <td id=\"T_12269_row10_col1\" class=\"data row10 col1\" >RegressionModelsComparison</td>\n",
              "      <td id=\"T_12269_row10_col2\" class=\"data row10 col2\" >Test plan for metrics comparison of regression model of statsmodels library</td>\n",
              "    </tr>\n",
              "  </tbody>\n",
              "</table>\n"
            ],
            "text/plain": [
              "<pandas.io.formats.style.Styler at 0x105677f40>"
            ]
          },
          "execution_count": 11,
          "metadata": {},
          "output_type": "execute_result"
        }
      ],
      "source": [
        "vm.test_plans.list_plans()"
      ]
    },
    {
      "cell_type": "code",
      "execution_count": null,
      "id": "4545848c",
      "metadata": {},
      "outputs": [],
      "source": []
    },
    {
      "cell_type": "code",
      "execution_count": 12,
      "id": "dbb7499f",
      "metadata": {},
      "outputs": [
        {
          "data": {
            "text/html": [
              "<style type=\"text/css\">\n",
              "</style>\n",
              "<table id=\"T_4844e\">\n",
              "  <thead>\n",
              "    <tr>\n",
              "      <th id=\"T_4844e_level0_col0\" class=\"col_heading level0 col0\" >ID</th>\n",
              "      <th id=\"T_4844e_level0_col1\" class=\"col_heading level0 col1\" >Name</th>\n",
              "      <th id=\"T_4844e_level0_col2\" class=\"col_heading level0 col2\" >Description</th>\n",
              "      <th id=\"T_4844e_level0_col3\" class=\"col_heading level0 col3\" >Required Context</th>\n",
              "      <th id=\"T_4844e_level0_col4\" class=\"col_heading level0 col4\" >Tests</th>\n",
              "    </tr>\n",
              "  </thead>\n",
              "  <tbody>\n",
              "    <tr>\n",
              "      <td id=\"T_4844e_row0_col0\" class=\"data row0 col0\" >binary_classifier_model_diagnosis</td>\n",
              "      <td id=\"T_4844e_row0_col1\" class=\"data row0 col1\" >BinaryClassifierDiagnosis</td>\n",
              "      <td id=\"T_4844e_row0_col2\" class=\"data row0 col2\" >Test plan for sklearn classifier model diagnosis tests</td>\n",
              "      <td id=\"T_4844e_row0_col3\" class=\"data row0 col3\" >model</td>\n",
              "      <td id=\"T_4844e_row0_col4\" class=\"data row0 col4\" >OverfitDiagnosis (ThresholdTest), WeakspotsDiagnosis (ThresholdTest), RobustnessDiagnosis (ThresholdTest)</td>\n",
              "    </tr>\n",
              "  </tbody>\n",
              "</table>\n"
            ],
            "text/plain": [
              "<pandas.io.formats.style.Styler at 0x17c7d8760>"
            ]
          },
          "execution_count": 12,
          "metadata": {},
          "output_type": "execute_result"
        }
      ],
      "source": [
        "vm.test_plans.describe_plan(\"binary_classifier_model_diagnosis\")"
      ]
    },
    {
      "attachments": {},
      "cell_type": "markdown",
      "id": "5bfe0f2b",
      "metadata": {},
      "source": [
        "### Run model diagnosis test plan\n",
        "We can now run the `SKLearnClassifier->SKLearnClassifierDiagnosis` test plan:\n",
        "#### Define config"
      ]
    },
    {
      "cell_type": "code",
      "execution_count": 14,
      "id": "08fabe8d-7e1f-4f11-9c21-9e730f8a8196",
      "metadata": {},
      "outputs": [
        {
          "name": "stdout",
          "output_type": "stream",
          "text": [
            "Pandas dataset detected. Initializing VM Dataset instance...\n",
            "Inferring dataset types...\n",
            "Pandas dataset detected. Initializing VM Dataset instance...\n",
            "Inferring dataset types...\n"
          ]
        },
        {
          "data": {
            "application/vnd.jupyter.widget-view+json": {
              "model_id": "f018bea7557f44b6b33f00ed1fe849b6",
              "version_major": 2,
              "version_minor": 0
            },
            "text/plain": [
              "HBox(children=(Label(value='Running test plan...'), IntProgress(value=0, max=6)))"
            ]
          },
          "metadata": {},
          "output_type": "display_data"
        },
        {
          "data": {
            "application/vnd.jupyter.widget-view+json": {
              "model_id": "6fd2dba7bdef46c6874173b194b696f5",
              "version_major": 2,
              "version_minor": 0
            },
            "text/plain": [
              "VBox(children=(HTML(value='<h2>Results for <i>Binary Classifier Model Diagnosis</i> Test Plan:</h2><hr>'), HTM…"
            ]
          },
          "metadata": {},
          "output_type": "display_data"
        }
      ],
      "source": [
        "vm_train_ds = vm.init_dataset(dataset=train_ds, type=\"generic\", target_column=\"Exited\")\n",
        "vm_test_ds = vm.init_dataset(dataset=test_df, type=\"generic\", target_column=\"Exited\")\n",
        "vm_model = vm.init_model(model, train_ds=vm_train_ds, test_ds=vm_test_ds)\n",
        "\n",
        "config={\n",
        "    \"overfit_regions\": {\n",
        "        \"cut_off_percentage\": 3,\n",
        "        \"feature_columns\": None #[\"Age\", \"Balance\", \"Tenure\", \"NumOfProducts\"]\n",
        "    },\n",
        "    \"weak_spots\":{\n",
        "        \"features_columns\": None, # [\"Age\", \"Balance\"],\n",
        "        \"accuracy_gap_threshold\": 85,\n",
        "    },\n",
        "    \"robustness\":{\n",
        "        \"features_columns\": None, #[ \"Balance\", \"Tenure\", \"NumOfProducts\"],\n",
        "        \"scaling_factor_std_dev_list\": [0.0, 0.1, 0.2, 0.3, 0.4, 0.5],\n",
        "        \"accuracy_decay_threshold\": 4,\n",
        "    }\n",
        "}\n",
        "model_diagnosis_test_plan = vm.run_test_plan(\"binary_classifier_model_diagnosis\", \n",
        "                                             model=vm_model,\n",
        "                                             config=config)"
      ]
    }
  ],
  "metadata": {
    "kernelspec": {
      "display_name": "dev-framework",
      "language": "python",
      "name": "dev-framework"
    },
    "language_info": {
      "codemirror_mode": {
        "name": "ipython",
        "version": 3
      },
      "file_extension": ".py",
      "mimetype": "text/x-python",
      "name": "python",
      "nbconvert_exporter": "python",
      "pygments_lexer": "ipython3",
      "version": "3.8.13"
    }
  },
  "nbformat": 4,
  "nbformat_minor": 5
}
